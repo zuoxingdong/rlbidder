{
 "cells": [
  {
   "cell_type": "markdown",
   "id": "b6643c37",
   "metadata": {},
   "source": [
    "### Setup and data loading"
   ]
  },
  {
   "cell_type": "code",
   "execution_count": 95,
   "id": "ba67402e",
   "metadata": {},
   "outputs": [
    {
     "data": {
      "text/html": [
       "<div><style>\n",
       ".dataframe > thead > tr,\n",
       ".dataframe > tbody > tr {\n",
       "  text-align: right;\n",
       "  white-space: pre-wrap;\n",
       "}\n",
       "</style>\n",
       "<small>shape: (48, 6)</small><table border=\"1\" class=\"dataframe\"><thead><tr><th>period</th><th>agent_name</th><th>mean_returns</th><th>mean_score</th><th>mean_budget_spent_ratio</th><th>mean_cpa_exceed_ratio</th></tr><tr><td>i64</td><td>str</td><td>f64</td><td>f64</td><td>f64</td><td>f64</td></tr></thead><tbody><tr><td>17</td><td>&quot;IQL&quot;</td><td>35.534722</td><td>28.953428</td><td>0.963252</td><td>0.064286</td></tr><tr><td>17</td><td>&quot;GAVE&quot;</td><td>31.881944</td><td>27.803564</td><td>0.833953</td><td>-0.032459</td></tr><tr><td>17</td><td>&quot;CQL&quot;</td><td>33.798611</td><td>27.563276</td><td>0.943924</td><td>0.054357</td></tr><tr><td>17</td><td>&quot;DT&quot;</td><td>30.548611</td><td>26.697888</td><td>0.791513</td><td>-0.038754</td></tr><tr><td>17</td><td>&quot;BudgetPacer&quot;</td><td>29.048611</td><td>26.538538</td><td>0.689401</td><td>-0.098427</td></tr><tr><td>17</td><td>&quot;GAS&quot;</td><td>30.888889</td><td>26.1435</td><td>0.815247</td><td>-0.035632</td></tr><tr><td>17</td><td>&quot;PIDCPA&quot;</td><td>25.451389</td><td>24.476407</td><td>0.734288</td><td>-0.08852</td></tr><tr><td>17</td><td>&quot;StochasticCPA&quot;</td><td>25.416667</td><td>24.36937</td><td>0.733834</td><td>-0.085771</td></tr><tr><td>17</td><td>&quot;FixedCPA&quot;</td><td>25.354167</td><td>24.331319</td><td>0.734002</td><td>-0.086271</td></tr><tr><td>17</td><td>&quot;PIDBudgetPacer&quot;</td><td>28.180556</td><td>23.974934</td><td>0.857406</td><td>0.082303</td></tr><tr><td>17</td><td>&quot;BC&quot;</td><td>30.326389</td><td>23.814249</td><td>0.891644</td><td>0.084893</td></tr><tr><td>17</td><td>&quot;ValueScaledCPA&quot;</td><td>26.361111</td><td>22.651502</td><td>0.833735</td><td>0.120854</td></tr><tr><td>16</td><td>&quot;CQL&quot;</td><td>32.840278</td><td>26.591468</td><td>0.94703</td><td>0.08734</td></tr><tr><td>16</td><td>&quot;GAS&quot;</td><td>29.826389</td><td>26.229018</td><td>0.792132</td><td>-0.013462</td></tr><tr><td>16</td><td>&quot;GAVE&quot;</td><td>29.631944</td><td>26.180893</td><td>0.773554</td><td>-0.0221</td></tr><tr><td>16</td><td>&quot;DT&quot;</td><td>29.3125</td><td>26.173244</td><td>0.744647</td><td>-0.041533</td></tr><tr><td>16</td><td>&quot;IQL&quot;</td><td>32.25</td><td>24.607801</td><td>0.976598</td><td>0.212103</td></tr><tr><td>16</td><td>&quot;PIDBudgetPacer&quot;</td><td>27.347222</td><td>24.263597</td><td>0.835896</td><td>0.082167</td></tr><tr><td>16</td><td>&quot;BC&quot;</td><td>28.25</td><td>24.100785</td><td>0.801803</td><td>0.049522</td></tr><tr><td>16</td><td>&quot;ValueScaledCPA&quot;</td><td>25.958333</td><td>22.89353</td><td>0.825</td><td>0.151983</td></tr><tr><td>16</td><td>&quot;BudgetPacer&quot;</td><td>24.236111</td><td>22.676705</td><td>0.630233</td><td>-0.049721</td></tr><tr><td>16</td><td>&quot;PIDCPA&quot;</td><td>23.138889</td><td>22.482823</td><td>0.700413</td><td>-0.072987</td></tr><tr><td>16</td><td>&quot;FixedCPA&quot;</td><td>23.041667</td><td>22.381432</td><td>0.699783</td><td>-0.073507</td></tr><tr><td>16</td><td>&quot;StochasticCPA&quot;</td><td>23.055556</td><td>22.37748</td><td>0.700604</td><td>-0.023862</td></tr><tr><td>15</td><td>&quot;IQL&quot;</td><td>38.263889</td><td>32.160767</td><td>0.999901</td><td>0.018224</td></tr><tr><td>15</td><td>&quot;CQL&quot;</td><td>37.451389</td><td>31.840097</td><td>0.987654</td><td>0.027034</td></tr><tr><td>15</td><td>&quot;GAS&quot;</td><td>34.520833</td><td>30.666448</td><td>0.829077</td><td>-0.062114</td></tr><tr><td>15</td><td>&quot;DT&quot;</td><td>33.819444</td><td>29.976391</td><td>0.843761</td><td>-0.02843</td></tr><tr><td>15</td><td>&quot;GAVE&quot;</td><td>33.416667</td><td>29.626315</td><td>0.817416</td><td>-0.022454</td></tr><tr><td>15</td><td>&quot;BudgetPacer&quot;</td><td>30.805556</td><td>28.517768</td><td>0.74483</td><td>0.0112</td></tr><tr><td>15</td><td>&quot;BC&quot;</td><td>33.180556</td><td>27.880768</td><td>0.900271</td><td>0.025242</td></tr><tr><td>15</td><td>&quot;PIDBudgetPacer&quot;</td><td>31.256944</td><td>27.198051</td><td>0.911571</td><td>0.065658</td></tr><tr><td>15</td><td>&quot;ValueScaledCPA&quot;</td><td>29.1875</td><td>26.007613</td><td>0.872091</td><td>0.103013</td></tr><tr><td>15</td><td>&quot;PIDCPA&quot;</td><td>26.576389</td><td>25.79135</td><td>0.738165</td><td>-0.088469</td></tr><tr><td>15</td><td>&quot;StochasticCPA&quot;</td><td>26.583333</td><td>25.73486</td><td>0.738461</td><td>-0.084517</td></tr><tr><td>15</td><td>&quot;FixedCPA&quot;</td><td>26.458333</td><td>25.603744</td><td>0.737825</td><td>-0.080907</td></tr><tr><td>14</td><td>&quot;CQL&quot;</td><td>37.3125</td><td>31.419732</td><td>0.967147</td><td>-0.010265</td></tr><tr><td>14</td><td>&quot;IQL&quot;</td><td>37.902778</td><td>31.37196</td><td>0.990755</td><td>0.013018</td></tr><tr><td>14</td><td>&quot;GAS&quot;</td><td>34.055556</td><td>29.79307</td><td>0.857878</td><td>-0.077731</td></tr><tr><td>14</td><td>&quot;GAVE&quot;</td><td>32.944444</td><td>29.658464</td><td>0.808276</td><td>-0.093962</td></tr><tr><td>14</td><td>&quot;DT&quot;</td><td>32.6875</td><td>29.433246</td><td>0.802591</td><td>-0.08603</td></tr><tr><td>14</td><td>&quot;BC&quot;</td><td>33.479167</td><td>27.437576</td><td>0.910855</td><td>0.027693</td></tr><tr><td>14</td><td>&quot;PIDBudgetPacer&quot;</td><td>29.215278</td><td>24.969121</td><td>0.876421</td><td>0.074192</td></tr><tr><td>14</td><td>&quot;PIDCPA&quot;</td><td>25.583333</td><td>24.664604</td><td>0.743002</td><td>-0.10558</td></tr><tr><td>14</td><td>&quot;FixedCPA&quot;</td><td>25.555556</td><td>24.553986</td><td>0.742428</td><td>-0.104531</td></tr><tr><td>14</td><td>&quot;StochasticCPA&quot;</td><td>25.555556</td><td>24.538103</td><td>0.742595</td><td>-0.102117</td></tr><tr><td>14</td><td>&quot;ValueScaledCPA&quot;</td><td>27.0</td><td>23.982319</td><td>0.835725</td><td>0.084199</td></tr><tr><td>14</td><td>&quot;BudgetPacer&quot;</td><td>25.701389</td><td>23.280028</td><td>0.669567</td><td>-0.081285</td></tr></tbody></table></div>"
      ],
      "text/plain": [
       "shape: (48, 6)\n",
       "┌────────┬────────────────┬──────────────┬────────────┬──────────────────────┬─────────────────────┐\n",
       "│ period ┆ agent_name     ┆ mean_returns ┆ mean_score ┆ mean_budget_spent_ra ┆ mean_cpa_exceed_rat │\n",
       "│ ---    ┆ ---            ┆ ---          ┆ ---        ┆ tio                  ┆ io                  │\n",
       "│ i64    ┆ str            ┆ f64          ┆ f64        ┆ ---                  ┆ ---                 │\n",
       "│        ┆                ┆              ┆            ┆ f64                  ┆ f64                 │\n",
       "╞════════╪════════════════╪══════════════╪════════════╪══════════════════════╪═════════════════════╡\n",
       "│ 17     ┆ IQL            ┆ 35.534722    ┆ 28.953428  ┆ 0.963252             ┆ 0.064286            │\n",
       "│ 17     ┆ GAVE           ┆ 31.881944    ┆ 27.803564  ┆ 0.833953             ┆ -0.032459           │\n",
       "│ 17     ┆ CQL            ┆ 33.798611    ┆ 27.563276  ┆ 0.943924             ┆ 0.054357            │\n",
       "│ 17     ┆ DT             ┆ 30.548611    ┆ 26.697888  ┆ 0.791513             ┆ -0.038754           │\n",
       "│ 17     ┆ BudgetPacer    ┆ 29.048611    ┆ 26.538538  ┆ 0.689401             ┆ -0.098427           │\n",
       "│ 17     ┆ GAS            ┆ 30.888889    ┆ 26.1435    ┆ 0.815247             ┆ -0.035632           │\n",
       "│ 17     ┆ PIDCPA         ┆ 25.451389    ┆ 24.476407  ┆ 0.734288             ┆ -0.08852            │\n",
       "│ 17     ┆ StochasticCPA  ┆ 25.416667    ┆ 24.36937   ┆ 0.733834             ┆ -0.085771           │\n",
       "│ 17     ┆ FixedCPA       ┆ 25.354167    ┆ 24.331319  ┆ 0.734002             ┆ -0.086271           │\n",
       "│ 17     ┆ PIDBudgetPacer ┆ 28.180556    ┆ 23.974934  ┆ 0.857406             ┆ 0.082303            │\n",
       "│ 17     ┆ BC             ┆ 30.326389    ┆ 23.814249  ┆ 0.891644             ┆ 0.084893            │\n",
       "│ 17     ┆ ValueScaledCPA ┆ 26.361111    ┆ 22.651502  ┆ 0.833735             ┆ 0.120854            │\n",
       "│ 16     ┆ CQL            ┆ 32.840278    ┆ 26.591468  ┆ 0.94703              ┆ 0.08734             │\n",
       "│ 16     ┆ GAS            ┆ 29.826389    ┆ 26.229018  ┆ 0.792132             ┆ -0.013462           │\n",
       "│ 16     ┆ GAVE           ┆ 29.631944    ┆ 26.180893  ┆ 0.773554             ┆ -0.0221             │\n",
       "│ 16     ┆ DT             ┆ 29.3125      ┆ 26.173244  ┆ 0.744647             ┆ -0.041533           │\n",
       "│ 16     ┆ IQL            ┆ 32.25        ┆ 24.607801  ┆ 0.976598             ┆ 0.212103            │\n",
       "│ 16     ┆ PIDBudgetPacer ┆ 27.347222    ┆ 24.263597  ┆ 0.835896             ┆ 0.082167            │\n",
       "│ 16     ┆ BC             ┆ 28.25        ┆ 24.100785  ┆ 0.801803             ┆ 0.049522            │\n",
       "│ 16     ┆ ValueScaledCPA ┆ 25.958333    ┆ 22.89353   ┆ 0.825                ┆ 0.151983            │\n",
       "│ 16     ┆ BudgetPacer    ┆ 24.236111    ┆ 22.676705  ┆ 0.630233             ┆ -0.049721           │\n",
       "│ 16     ┆ PIDCPA         ┆ 23.138889    ┆ 22.482823  ┆ 0.700413             ┆ -0.072987           │\n",
       "│ 16     ┆ FixedCPA       ┆ 23.041667    ┆ 22.381432  ┆ 0.699783             ┆ -0.073507           │\n",
       "│ 16     ┆ StochasticCPA  ┆ 23.055556    ┆ 22.37748   ┆ 0.700604             ┆ -0.023862           │\n",
       "│ 15     ┆ IQL            ┆ 38.263889    ┆ 32.160767  ┆ 0.999901             ┆ 0.018224            │\n",
       "│ 15     ┆ CQL            ┆ 37.451389    ┆ 31.840097  ┆ 0.987654             ┆ 0.027034            │\n",
       "│ 15     ┆ GAS            ┆ 34.520833    ┆ 30.666448  ┆ 0.829077             ┆ -0.062114           │\n",
       "│ 15     ┆ DT             ┆ 33.819444    ┆ 29.976391  ┆ 0.843761             ┆ -0.02843            │\n",
       "│ 15     ┆ GAVE           ┆ 33.416667    ┆ 29.626315  ┆ 0.817416             ┆ -0.022454           │\n",
       "│ 15     ┆ BudgetPacer    ┆ 30.805556    ┆ 28.517768  ┆ 0.74483              ┆ 0.0112              │\n",
       "│ 15     ┆ BC             ┆ 33.180556    ┆ 27.880768  ┆ 0.900271             ┆ 0.025242            │\n",
       "│ 15     ┆ PIDBudgetPacer ┆ 31.256944    ┆ 27.198051  ┆ 0.911571             ┆ 0.065658            │\n",
       "│ 15     ┆ ValueScaledCPA ┆ 29.1875      ┆ 26.007613  ┆ 0.872091             ┆ 0.103013            │\n",
       "│ 15     ┆ PIDCPA         ┆ 26.576389    ┆ 25.79135   ┆ 0.738165             ┆ -0.088469           │\n",
       "│ 15     ┆ StochasticCPA  ┆ 26.583333    ┆ 25.73486   ┆ 0.738461             ┆ -0.084517           │\n",
       "│ 15     ┆ FixedCPA       ┆ 26.458333    ┆ 25.603744  ┆ 0.737825             ┆ -0.080907           │\n",
       "│ 14     ┆ CQL            ┆ 37.3125      ┆ 31.419732  ┆ 0.967147             ┆ -0.010265           │\n",
       "│ 14     ┆ IQL            ┆ 37.902778    ┆ 31.37196   ┆ 0.990755             ┆ 0.013018            │\n",
       "│ 14     ┆ GAS            ┆ 34.055556    ┆ 29.79307   ┆ 0.857878             ┆ -0.077731           │\n",
       "│ 14     ┆ GAVE           ┆ 32.944444    ┆ 29.658464  ┆ 0.808276             ┆ -0.093962           │\n",
       "│ 14     ┆ DT             ┆ 32.6875      ┆ 29.433246  ┆ 0.802591             ┆ -0.08603            │\n",
       "│ 14     ┆ BC             ┆ 33.479167    ┆ 27.437576  ┆ 0.910855             ┆ 0.027693            │\n",
       "│ 14     ┆ PIDBudgetPacer ┆ 29.215278    ┆ 24.969121  ┆ 0.876421             ┆ 0.074192            │\n",
       "│ 14     ┆ PIDCPA         ┆ 25.583333    ┆ 24.664604  ┆ 0.743002             ┆ -0.10558            │\n",
       "│ 14     ┆ FixedCPA       ┆ 25.555556    ┆ 24.553986  ┆ 0.742428             ┆ -0.104531           │\n",
       "│ 14     ┆ StochasticCPA  ┆ 25.555556    ┆ 24.538103  ┆ 0.742595             ┆ -0.102117           │\n",
       "│ 14     ┆ ValueScaledCPA ┆ 27.0         ┆ 23.982319  ┆ 0.835725             ┆ 0.084199            │\n",
       "│ 14     ┆ BudgetPacer    ┆ 25.701389    ┆ 23.280028  ┆ 0.669567             ┆ -0.081285           │\n",
       "└────────┴────────────────┴──────────────┴────────────┴──────────────────────┴─────────────────────┘"
      ]
     },
     "execution_count": 95,
     "metadata": {},
     "output_type": "execute_result"
    }
   ],
   "source": [
    "from pathlib import Path\n",
    "import joblib\n",
    "\n",
    "import numpy as np\n",
    "import polars as pl\n",
    "\n",
    "from rlbidder.viz import (\n",
    "    plot_campaign_simulation_metrics,\n",
    "    plot_score_distribution_by_agent,\n",
    "    plot_score_by_agent,\n",
    "    plot_interval_estimates,\n",
    "    plot_budget_pacing_trajectories,\n",
    "    plot_auction_market_overview,\n",
    "    compute_agent_interval_estimates,\n",
    "    compute_auction_budget_pacing,\n",
    ")\n",
    "from rlbidder.evaluation import summarize_agent_scores\n",
    "\n",
    "\n",
    "df = pl.read_parquet([\n",
    "    \"eval/df_agent_summaries_FixedCPA_nockpt.parquet\",\n",
    "    \"eval/df_agent_summaries_StochasticCPA_nockpt.parquet\", \n",
    "    \"eval/df_agent_summaries_ValueScaledCPA_nockpt.parquet\", \n",
    "    \"eval/df_agent_summaries_BudgetPacer_nockpt.parquet\", \n",
    "    \"eval/df_agent_summaries_PIDBudgetPacer_nockpt.parquet\", \n",
    "    \"eval/df_agent_summaries_PIDCPA_nockpt.parquet\", \n",
    "    \"eval/df_agent_summaries_BC_best.parquet\", \n",
    "    \"eval/df_agent_summaries_CQL_best.parquet\",\n",
    "    \"eval/df_agent_summaries_IQL_best.parquet\",\n",
    "    \"eval/df_agent_summaries_DT_best.parquet\",\n",
    "    \"eval/df_agent_summaries_GAVE_best.parquet\",\n",
    "    \"eval/df_agent_summaries_GAS_best.parquet\",\n",
    "    \n",
    "])\n",
    "df_summary, df_best_per_rotation = summarize_agent_scores(\n",
    "    df,\n",
    "    group_by_period=True, \n",
    "    return_intermediate=True,\n",
    "    use_best_advertiser=False,\n",
    "    filter_env_agents=True,\n",
    ")\n",
    "df_summary = df_summary.sort([\"period\", \"mean_score\"], descending=True)\n",
    "pl.Config.set_tbl_rows(50)\n",
    "df_summary\n"
   ]
  },
  {
   "cell_type": "code",
   "execution_count": 72,
   "id": "7dc86b40",
   "metadata": {},
   "outputs": [
    {
     "data": {
      "text/plain": [
       "[StepwiseAuctionHistory(steps_added=48, num_advertisers=48, ),\n",
       " StepwiseAuctionHistory(steps_added=48, num_advertisers=48, )]"
      ]
     },
     "execution_count": 72,
     "metadata": {},
     "output_type": "execute_result"
    }
   ],
   "source": [
    "agent_name = \"IQL\"\n",
    "pt = \"best\"\n",
    "\n",
    "auction_histories = joblib.load(f\"eval/auction_histories_{agent_name}_{pt}.joblib\")\n",
    "auction_histories[:2]"
   ]
  },
  {
   "cell_type": "markdown",
   "id": "64b1b470",
   "metadata": {},
   "source": [
    "### Market overview"
   ]
  },
  {
   "cell_type": "code",
   "execution_count": 73,
   "id": "cda402ab",
   "metadata": {},
   "outputs": [
    {
     "data": {
      "application/vnd.plotly.v1+json": {
       "config": {
        "plotlyServerURL": "https://plot.ly"
       },
       "data": [
        {
         "hovertemplate": "t=%{x}<br>rate=%{y:.3f}<extra></extra>",
         "line": {
          "color": "#2CA02C",
          "width": 2.2
         },
         "mode": "lines",
         "name": "Participation",
         "type": "scatter",
         "x": {
          "bdata": "AAECAwQFBgcICQoLDA0ODxAREhMUFRYXGBkaGxwdHh8gISIjJCUmJygpKissLS4v",
          "dtype": "i1"
         },
         "xaxis": "x",
         "y": {
          "bdata": "VVVVVVVV7z9VVVVVVVXvP1VVVVVVVe8/VVVVVVVV7z9VVVVVVVXvP1VVVVVVVe8/VVVVVVVV7z/jOI7jOI7vP3Ecx3Ecx+8/AAAAAAAA8D8AAAAAAADwPwAAAAAAAPA/cRzHcRzH7z9VVVVVVVXvPzmO4ziO4+4/j+M4juM47j/kOI7jOI7tP6uqqqqqquw/cxzHcRzH6z85juM4juPqP4/jOI7jOOo/cRzHcRzH6T/HcRzHcRzpP43jOI7jOOg/4ziO4ziO5z9VVVVVVVXnP1VVVVVVVec/VVVVVVVV5z9VVVVVVVXnP6uqqqqqquY/AAAAAAAA5j/jOI7jOI7lP3Ecx3Ecx+U/cRzHcRzH5T/HcRzHcRzlP43jOI7jOOQ/4ziO4ziO4z/HcRzHcRzjPzmO4ziO4+I/HcdxHMdx4j+P4ziO4zjiPwAAAAAAAOI/5DiO4ziO4T+rqqqqqqrgP8dxHMdxHN8/VVVVVVVV3T8AAAAAAADcP1ZVVVVVVds/",
          "dtype": "f8"
         },
         "yaxis": "y"
        },
        {
         "hovertemplate": "t=%{x}<br>gap=%{y:.3f}<extra></extra>",
         "line": {
          "color": "#D62728",
          "width": 2.2
         },
         "mode": "lines",
         "name": "(top1/top2) - 1",
         "type": "scatter",
         "x": {
          "bdata": "AAECAwQFBgcICQoLDA0ODxAREhMUFRYXGBkaGxwdHh8gISIjJCUmJygpKissLS4v",
          "dtype": "i1"
         },
         "xaxis": "x2",
         "y": {
          "bdata": "zPVJ6JXKwT/L+xhWm2O+P5vdTKDC4b8/6y8lUuFwtz+1cnrFr1W3P1CRq8170rE/MPlxIbo4sT/1BrCejd6sPyVyw+rDE7c/uMzhcaH2wj/V6B52oRHDP3ulRGpajLo/izoD/V4XpD8VNqG70L6jP/VeO5f2MKI/Hzu245Nn4T+to7RGrILmP8B2aqB8tec/jxa9aU8d2z9jPUaGf9/QP8Wsg2zmr80/oLkR8weFqj+LZ4/J2h6pPwV+pFxInMg/Y+brZcAZ1j+TbqDpgbzZP7P4pMubzNM/ddI9GFPVxD/F9/MXoX27P9Bo4BsxvL4/sNe7zymbxj9te3+NJ5vNP8g1VPs5cMM/xYOVrtS1xD/3nV8b7VvQP+mKfP680NA/ZU70szuJyD8A+M4A6xS2P0DDyFyGWr4/ZOwwhuWs2D/dDVZZX1nZP2PJ5KvwK9c/lTMLO78Rtj/rnTNb/NS7PwCgWy9ZM8E/q43vOevhwD/rU2MGJAm0PxA7HMmVMrA/",
          "dtype": "f8"
         },
         "yaxis": "y2"
        },
        {
         "hovertemplate": "t=%{x}<br>HHI=%{y:.3f}<extra></extra>",
         "line": {
          "color": "#9467BD",
          "width": 2.2
         },
         "mode": "lines",
         "name": "HHI",
         "type": "scatter",
         "x": {
          "bdata": "AAECAwQFBgcICQoLDA0ODxAREhMUFRYXGBkaGxwdHh8gISIjJCUmJygpKissLS4v",
          "dtype": "i1"
         },
         "xaxis": "x3",
         "y": {
          "bdata": "uEDzVvgEuT9CqKKzAfW4P5ziCZ0sW7k/2oDGthIeuT9roXrfDgu5P6TpcB1C6rg/Nx8IP72muD8NXcOGnVu4P/hcQZJ4RLc/lr5sijsmtj/22c95BCW0P1kFFKXt2bI/JvEVGoJ2sT+dQNbBGLCvP6TpPmwVY60/AowNTEAkrD8EeSbtHKyoP96U+qw466U/hNc9suJaoz9coBlzyQSiP9jVkWzM7aE/xO78XUxQoj98A6QMk0WiP7qQHJSAOKI/fhhrSUYdoT/cXRxXLnCgP18AIOc18J8/P45Zwa2Fnz9Cp0cahmqfP1BRI5wfZp8/MBgNBaI/nz86Y+NGXz+fP0YNn+sZHJ4/nhTsjIN0nT+RhZ1ZywSdP4d7uQYmrpw/tYN1qWNpnD9dioS8sT6cP4LbCInTMZw/JqHSaxvnmz9yxGQuYImbP+TUPP2yPZs/NBiIB0TFmj+KQJDWw6SaP8BrBpxwnJo/QuUMOsqemj/h7sDdmqOaP5rSbO+3nJo/",
          "dtype": "f8"
         },
         "yaxis": "y3"
        },
        {
         "hovertemplate": "t=%{x}<br>ENC=%{y:.2f}<extra></extra>",
         "line": {
          "color": "#1F77B4",
          "dash": "dash",
          "width": 2
         },
         "mode": "lines",
         "name": "ENC",
         "type": "scatter",
         "x": {
          "bdata": "AAECAwQFBgcICQoLDA0ODxAREhMUFRYXGBkaGxwdHh8gISIjJCUmJygpKissLS4v",
          "dtype": "i1"
         },
         "xaxis": "x3",
         "y": {
          "bdata": "ZozEyc92JECdrFm45oMkQOL7MTc9MSRAJ6Vx/VtiJEA1qZc61nEkQBsXNGXAjCRA3iiEYwnFJED0yHINGAUlQD+ynhhGASZAyiktgaUdJ0CTs77HjmopQKvEWd/yKCtAA87pIbtRLUBtJsZcWCgwQFp2E1IybDFA6kM2d5YxMkDW5PBPg8A0QOigeFjhWzdAjdxQRf1zOkBYN5abOGo8QOEzdZenjjxATiYEWA/1O0CdR9XldwU8QBTmoGKSGTxAYtGQwZnqPUDvMBF1niU/QELWlvPoB0BAd4OCdBY+QECxgGeMIExAQErY+D5pTkBAAk5XGX9iQEBagYYYomJAQA/pA3IjAUFAhn1+++JhQUAIyuimzqRBQGJgXloc2kFA0kr8f1AFQkAQt8D9jSBCQGxIS+7TKEJAUjEvwnRZQkAcc7lX6pdCQOaT64+Ry0JAoG/KfB8gQ0Bh3BDwczdDQBkvGvV2PUNA09jDIcQ7Q0AybQUqSjhDQDMZ6GNDPUNA",
          "dtype": "f8"
         },
         "yaxis": "y4"
        },
        {
         "hovertemplate": "t=%{x}<br>Gini=%{y:.3f}<extra></extra>",
         "line": {
          "color": "#FF7F0E",
          "width": 2.2
         },
         "mode": "lines",
         "name": "Gini",
         "type": "scatter",
         "x": {
          "bdata": "AAECAwQFBgcICQoLDA0ODxAREhMUFRYXGBkaGxwdHh8gISIjJCUmJygpKissLS4v",
          "dtype": "i1"
         },
         "xaxis": "x4",
         "y": {
          "bdata": "kye5IXq06T8HlylMQq/pPx32ogaTnek/bVo5n96S6T/Qb9AYeIXpPz29Sx46eek/sF3Hq4Jo6T9TY7f7tjDpP8Ds5Dlf3Og/OJCIf7JW6D/cELCqj8jnPy1PwrpzLec/ZaQmqmeI5j8wQmAMDOTlP2vvipKBRuU/eEw/0Npq5D8s/cZ2DEPjP3938MwVuOE/26HN7f5Q4D8EnA2S+8LeP3kJDNvQHt4/cd8iymsf3j9XzyS2USfePwAcxW9VU90/YMmdpCYd3D8MkciJQJraPx0bIZzjs9k/BFgs0RZG2T+1A1CR3i7ZP0TFFdBHIdk/hwcXk6QN2T9peq09Q3LYP5S+plOwmtc/hFw5p/mM1j9kAqqmqtXVPxSJ93TRTdU/Y2+dkTDj1D8b/51E/I3UPwVOuN0oKtQ/jxLEglS30z9QV4f1RyjTP1nuRV0udtI/x+U1XaXP0T+p6iF21VrRPwt88gy+OdE/aKrlFME40T8HmCotZDrRP+wcg9AcO9E/",
          "dtype": "f8"
         },
         "yaxis": "y5"
        },
        {
         "hovertemplate": "t=%{x}<br>bids=%{y}<extra></extra>",
         "marker": {
          "color": "#8C6BB1"
         },
         "name": "# bids in band",
         "opacity": 0.45,
         "type": "bar",
         "x": {
          "bdata": "AAECAwQFBgcICQoLDA0ODxAREhMUFRYXGBkaGxwdHh8gISIjJCUmJygpKissLS4v",
          "dtype": "i1"
         },
         "xaxis": "x5",
         "y": {
          "bdata": "AQEBAAEBAAABAAABAQMCAgIAAAEAAQIAAQEBAQICAQABAQABAQMAAgABAAIBAQEC",
          "dtype": "i1"
         },
         "yaxis": "y6"
        },
        {
         "hoverinfo": "skip",
         "line": {
          "color": "#8C6BB1",
          "width": 2
         },
         "mode": "lines",
         "name": "pressure (smooth)",
         "showlegend": true,
         "type": "scatter",
         "x": {
          "bdata": "AAECAwQFBgcICQoLDA0ODxAREhMUFRYXGBkaGxwdHh8gISIjJCUmJygpKissLS4v",
          "dtype": "i1"
         },
         "xaxis": "x5",
         "y": {
          "bdata": "AAAAAAAA8D8AAAAAAADwP1VVVVVVVeU/VVVVVVVV5T9VVVVVVVXlP1VVVVVVVeU/VVVVVVVV1T9VVVVVVVXVP1VVVVVVVdU/VVVVVVVV1T9VVVVVVVXVP1VVVVVVVeU/q6qqqqqq+j8AAAAAAAAAQKuqqqqqqgJAAAAAAAAAAEBVVVVVVVX1P1VVVVVVVeU/VVVVVVVV1T9VVVVVVVXVP1VVVVVVVeU/AAAAAAAA8D8AAAAAAADwPwAAAAAAAPA/VVVVVVVV5T8AAAAAAADwPwAAAAAAAPA/VVVVVVVV9T+rqqqqqqr6P6uqqqqqqvo/AAAAAAAA8D9VVVVVVVXlP1VVVVVVVeU/VVVVVVVV5T9VVVVVVVXlP1VVVVVVVeU/q6qqqqqq+j9VVVVVVVX1P6uqqqqqqvo/VVVVVVVV5T8AAAAAAADwP1VVVVVVVdU/AAAAAAAA8D8AAAAAAADwP1VVVVVVVfU/AAAAAAAA8D9VVVVVVVX1PwAAAAAAAPg/",
          "dtype": "f8"
         },
         "yaxis": "y6"
        },
        {
         "hovertemplate": "t=%{x}<br>vol=%{y:.3f}<extra></extra>",
         "line": {
          "color": "#17BECF",
          "width": 2.2
         },
         "mode": "lines",
         "name": "Realized Vol",
         "type": "scatter",
         "x": {
          "bdata": "AAECAwQFBgcICQoLDA0ODxAREhMUFRYXGBkaGxwdHh8gISIjJCUmJygpKissLS4v",
          "dtype": "i1"
         },
         "xaxis": "x6",
         "y": {
          "bdata": "AAAAAAAA+H8AAAAAAAD4fwAAAAAAAPh/AAAAAAAA+H/KclnbrS6yP94RjTkw6rA/1+GsixjssD8AVUECTFq1P1Ka5v3wrbo/sjKXzr8Iuz+aKc2bJki5P258uz0SfMI/KZzR1SbZwD+63lixFr/BP0BUkMNzbMI/1l3hdUSWsT9qu4envCnHP7+C95Rfo9E/52sMCe001D/n7TARr2vUP8TFwguoT9E/vonYmzazxj8FnuwDFZ61P+VZR+jcKLY/Bs+SicfExj+CrgRu/B3IP4qTLWqN58c/E/qiXUFVxz8CdDyph1q4P7sJA2dWpL0/lebi1PLfwz+ctzsLCPjDP9ydm8iGKeI/ze6G3LP44j+1X67RF0jjP9XT65fKr+M/u3ylfeJ60j8ddc2XWEbKP2Lv9LTdw8E/IGYYs1ActD8xoAtaVzvbP6RCuErOgNw/9KPpYvQ53T+Llv4HMQLdP0YtuY2utsU/8OfwT8Fruz9N2F1s8hqrP5BFMKD1iLI/",
          "dtype": "f8"
         },
         "yaxis": "y7"
        },
        {
         "hovertemplate": "t=%{x}<br>(v-b)/v=%{y:.3f}<extra></extra>",
         "line": {
          "color": "#1F77B4",
          "width": 2.2
         },
         "mode": "lines",
         "name": "Aggressiveness",
         "type": "scatter",
         "x": {
          "bdata": "AAECAwQFBgcICQoLDA0ODxAREhMUFRYXGBkaGxwdHh8gISIjJCUmJygpKissLS4v",
          "dtype": "i1"
         },
         "xaxis": "x7",
         "y": {
          "bdata": "bhTFwatz4j8A5M4buiPiP6fl4Cgb4eE/PVdnzFLG4T9JSRHxpszhPzSVOW//zOE/7FgOlGr94T8CNKsqLVfiPwZ2y78vkOI/n//IANWa4j8BxbLLy1XiP/sVEsIH6+E/k7EImQZh4T8L+45xzCThP//Tiyi7KOE/b+1JPqhk4T+TzboJezPhP/u2Qyh3lOA/c8sODv3G3z8bsajqF/DfP2t+wN1sNuA/duB0YsE84D/NAtr8htLfP9SvdaMLU+A/bJVIR6yk4D85gCGGLjfhP1Apu+NYQeE/gu2Rr+6Z4T9Ai+8z7j7hP/cESSDB1eA/c74jMo9T4D97r0yjtNPgP00lotfQ4OA/ZbQ55aad4D/0Oz7NjFDeP1WJqJeS39w/sDoKGwIp3D/EzRGbXZjcP5TazPha4ts/b8hafA8D3D/zv6+BTubbP7PKv8MN9Ns/M55KmlU42z9/ZjE9Be7ZP3xKxaz/7tg/HYW4fC4I2D91eQ0MpFPXPyArI/5NHtc/",
          "dtype": "f8"
         },
         "yaxis": "y8"
        },
        {
         "hovertemplate": "t=%{x}<br>Jaccard=%{y:.3f}<extra></extra>",
         "line": {
          "color": "#7F7F7F",
          "width": 2.2
         },
         "mode": "lines",
         "name": "Jaccard",
         "type": "scatter",
         "x": {
          "bdata": "AAECAwQFBgcICQoLDA0ODxAREhMUFRYXGBkaGxwdHh8gISIjJCUmJygpKissLS4v",
          "dtype": "i1"
         },
         "xaxis": "x8",
         "y": {
          "bdata": "mpmZmZmZ6T9bsAVbsAXrP/C3KUYNf+s/HMdxHMdx7D8cx3Ecx3HsPy+hvYT2Euo/LdMTwSBK6j9ddNFFF13kPzCcThg/2uY/F2zBFmzB5j/BFmzBFmzpP33SJ33SJ+U/j+M4juM43j/g933f933fP+D3fd/3fd8/27Zt27Zt2z9zNmdzNmfTPx7hER7hEdI/KH3SJ33S2z/IfuzHfuzhP+RFXuRFXuQ/fd/3fd/35T/t537u537mPyd2Yid2YuE/+ZZv+ZZv3T84juM4juPcP9evFKj1K+U/PENi3s6Q6D910UUXXXTpP98xNbB3TOU/7Lqu67qu4z8Yt54Yt57YP5zxRpzxRtw/K9V/KtV/2j9swRZswRbkP2zBFmzBFuQ/pE/6pE/65D9nZmZmZmbmP8dxHMdxHOc/wzAMwzAM4z/g/M3f/M3fP9ACLdACLeA/Yyd2Yid24j8FVEAFVEDlP5N1rjwgWec//yd4Y7vF6T8wiJJmYffpP7rooosuuug/",
          "dtype": "f8"
         },
         "yaxis": "y9"
        }
       ],
       "layout": {
        "annotations": [
         {
          "font": {
           "size": 16
          },
          "showarrow": false,
          "text": "Participation Rate",
          "x": 0.21,
          "xanchor": "center",
          "xref": "paper",
          "y": 1,
          "yanchor": "bottom",
          "yref": "paper"
         },
         {
          "font": {
           "size": 16
          },
          "showarrow": false,
          "text": "Top‑2 Bid Gap Ratio",
          "x": 0.73,
          "xanchor": "center",
          "xref": "paper",
          "y": 1,
          "yanchor": "bottom",
          "yref": "paper"
         },
         {
          "font": {
           "size": 16
          },
          "showarrow": false,
          "text": "HHI (primary) · ENC (secondary)",
          "x": 0.21,
          "xanchor": "center",
          "xref": "paper",
          "y": 0.73,
          "yanchor": "bottom",
          "yref": "paper"
         },
         {
          "font": {
           "size": 16
          },
          "showarrow": false,
          "text": "Gini (Cumulative Wins)",
          "x": 0.73,
          "xanchor": "center",
          "xref": "paper",
          "y": 0.73,
          "yanchor": "bottom",
          "yref": "paper"
         },
         {
          "font": {
           "size": 16
          },
          "showarrow": false,
          "text": "Top‑of‑Book Pressure (±5% of clearing price)",
          "x": 0.21,
          "xanchor": "center",
          "xref": "paper",
          "y": 0.46,
          "yanchor": "bottom",
          "yref": "paper"
         },
         {
          "font": {
           "size": 16
          },
          "showarrow": false,
          "text": "Realized Volatility (Clearing Price)",
          "x": 0.73,
          "xanchor": "center",
          "xref": "paper",
          "y": 0.46,
          "yanchor": "bottom",
          "yref": "paper"
         },
         {
          "font": {
           "size": 16
          },
          "showarrow": false,
          "text": "Bid Aggressiveness (mean)",
          "x": 0.21,
          "xanchor": "center",
          "xref": "paper",
          "y": 0.19,
          "yanchor": "bottom",
          "yref": "paper"
         },
         {
          "font": {
           "size": 16
          },
          "showarrow": false,
          "text": "Winner‑Set Jaccard (t vs t‑1)",
          "x": 0.73,
          "xanchor": "center",
          "xref": "paper",
          "y": 0.19,
          "yanchor": "bottom",
          "yref": "paper"
         }
        ],
        "height": 1400,
        "hovermode": "x unified",
        "legend": {
         "font": {
          "size": 12
         },
         "orientation": "h",
         "x": 0.5,
         "xanchor": "center",
         "y": -0.02,
         "yanchor": "bottom"
        },
        "margin": {
         "b": 60,
         "l": 50,
         "r": 30,
         "t": 80
        },
        "shapes": [
         {
          "line": {
           "color": "gray",
           "dash": "dot"
          },
          "type": "line",
          "x0": 0,
          "x1": 1,
          "xref": "x domain",
          "y0": 0.5,
          "y1": 0.5,
          "yref": "y"
         },
         {
          "line": {
           "color": "gray",
           "dash": "dot"
          },
          "type": "line",
          "x0": 0,
          "x1": 1,
          "xref": "x2 domain",
          "y0": 0,
          "y1": 0,
          "yref": "y2"
         },
         {
          "line": {
           "color": "rgba(0,0,0,0.25)",
           "dash": "dot"
          },
          "type": "line",
          "x0": 0,
          "x1": 1,
          "xref": "x3 domain",
          "y0": 0.15,
          "y1": 0.15,
          "yref": "y3"
         },
         {
          "line": {
           "color": "rgba(0,0,0,0.25)",
           "dash": "dot"
          },
          "type": "line",
          "x0": 0,
          "x1": 1,
          "xref": "x3 domain",
          "y0": 0.25,
          "y1": 0.25,
          "yref": "y3"
         },
         {
          "line": {
           "color": "gray",
           "dash": "dot"
          },
          "type": "line",
          "x0": 0,
          "x1": 1,
          "xref": "x7 domain",
          "y0": 0,
          "y1": 0,
          "yref": "y8"
         }
        ],
        "template": {
         "data": {
          "bar": [
           {
            "error_x": {
             "color": "#2a3f5f"
            },
            "error_y": {
             "color": "#2a3f5f"
            },
            "marker": {
             "line": {
              "color": "#E5ECF6",
              "width": 0.5
             },
             "pattern": {
              "fillmode": "overlay",
              "size": 10,
              "solidity": 0.2
             }
            },
            "type": "bar"
           }
          ],
          "barpolar": [
           {
            "marker": {
             "line": {
              "color": "#E5ECF6",
              "width": 0.5
             },
             "pattern": {
              "fillmode": "overlay",
              "size": 10,
              "solidity": 0.2
             }
            },
            "type": "barpolar"
           }
          ],
          "carpet": [
           {
            "aaxis": {
             "endlinecolor": "#2a3f5f",
             "gridcolor": "white",
             "linecolor": "white",
             "minorgridcolor": "white",
             "startlinecolor": "#2a3f5f"
            },
            "baxis": {
             "endlinecolor": "#2a3f5f",
             "gridcolor": "white",
             "linecolor": "white",
             "minorgridcolor": "white",
             "startlinecolor": "#2a3f5f"
            },
            "type": "carpet"
           }
          ],
          "choropleth": [
           {
            "colorbar": {
             "outlinewidth": 0,
             "ticks": ""
            },
            "type": "choropleth"
           }
          ],
          "contour": [
           {
            "colorbar": {
             "outlinewidth": 0,
             "ticks": ""
            },
            "colorscale": [
             [
              0,
              "#0d0887"
             ],
             [
              0.1111111111111111,
              "#46039f"
             ],
             [
              0.2222222222222222,
              "#7201a8"
             ],
             [
              0.3333333333333333,
              "#9c179e"
             ],
             [
              0.4444444444444444,
              "#bd3786"
             ],
             [
              0.5555555555555556,
              "#d8576b"
             ],
             [
              0.6666666666666666,
              "#ed7953"
             ],
             [
              0.7777777777777778,
              "#fb9f3a"
             ],
             [
              0.8888888888888888,
              "#fdca26"
             ],
             [
              1,
              "#f0f921"
             ]
            ],
            "type": "contour"
           }
          ],
          "contourcarpet": [
           {
            "colorbar": {
             "outlinewidth": 0,
             "ticks": ""
            },
            "type": "contourcarpet"
           }
          ],
          "heatmap": [
           {
            "colorbar": {
             "outlinewidth": 0,
             "ticks": ""
            },
            "colorscale": [
             [
              0,
              "#0d0887"
             ],
             [
              0.1111111111111111,
              "#46039f"
             ],
             [
              0.2222222222222222,
              "#7201a8"
             ],
             [
              0.3333333333333333,
              "#9c179e"
             ],
             [
              0.4444444444444444,
              "#bd3786"
             ],
             [
              0.5555555555555556,
              "#d8576b"
             ],
             [
              0.6666666666666666,
              "#ed7953"
             ],
             [
              0.7777777777777778,
              "#fb9f3a"
             ],
             [
              0.8888888888888888,
              "#fdca26"
             ],
             [
              1,
              "#f0f921"
             ]
            ],
            "type": "heatmap"
           }
          ],
          "histogram": [
           {
            "marker": {
             "pattern": {
              "fillmode": "overlay",
              "size": 10,
              "solidity": 0.2
             }
            },
            "type": "histogram"
           }
          ],
          "histogram2d": [
           {
            "colorbar": {
             "outlinewidth": 0,
             "ticks": ""
            },
            "colorscale": [
             [
              0,
              "#0d0887"
             ],
             [
              0.1111111111111111,
              "#46039f"
             ],
             [
              0.2222222222222222,
              "#7201a8"
             ],
             [
              0.3333333333333333,
              "#9c179e"
             ],
             [
              0.4444444444444444,
              "#bd3786"
             ],
             [
              0.5555555555555556,
              "#d8576b"
             ],
             [
              0.6666666666666666,
              "#ed7953"
             ],
             [
              0.7777777777777778,
              "#fb9f3a"
             ],
             [
              0.8888888888888888,
              "#fdca26"
             ],
             [
              1,
              "#f0f921"
             ]
            ],
            "type": "histogram2d"
           }
          ],
          "histogram2dcontour": [
           {
            "colorbar": {
             "outlinewidth": 0,
             "ticks": ""
            },
            "colorscale": [
             [
              0,
              "#0d0887"
             ],
             [
              0.1111111111111111,
              "#46039f"
             ],
             [
              0.2222222222222222,
              "#7201a8"
             ],
             [
              0.3333333333333333,
              "#9c179e"
             ],
             [
              0.4444444444444444,
              "#bd3786"
             ],
             [
              0.5555555555555556,
              "#d8576b"
             ],
             [
              0.6666666666666666,
              "#ed7953"
             ],
             [
              0.7777777777777778,
              "#fb9f3a"
             ],
             [
              0.8888888888888888,
              "#fdca26"
             ],
             [
              1,
              "#f0f921"
             ]
            ],
            "type": "histogram2dcontour"
           }
          ],
          "mesh3d": [
           {
            "colorbar": {
             "outlinewidth": 0,
             "ticks": ""
            },
            "type": "mesh3d"
           }
          ],
          "parcoords": [
           {
            "line": {
             "colorbar": {
              "outlinewidth": 0,
              "ticks": ""
             }
            },
            "type": "parcoords"
           }
          ],
          "pie": [
           {
            "automargin": true,
            "type": "pie"
           }
          ],
          "scatter": [
           {
            "fillpattern": {
             "fillmode": "overlay",
             "size": 10,
             "solidity": 0.2
            },
            "type": "scatter"
           }
          ],
          "scatter3d": [
           {
            "line": {
             "colorbar": {
              "outlinewidth": 0,
              "ticks": ""
             }
            },
            "marker": {
             "colorbar": {
              "outlinewidth": 0,
              "ticks": ""
             }
            },
            "type": "scatter3d"
           }
          ],
          "scattercarpet": [
           {
            "marker": {
             "colorbar": {
              "outlinewidth": 0,
              "ticks": ""
             }
            },
            "type": "scattercarpet"
           }
          ],
          "scattergeo": [
           {
            "marker": {
             "colorbar": {
              "outlinewidth": 0,
              "ticks": ""
             }
            },
            "type": "scattergeo"
           }
          ],
          "scattergl": [
           {
            "marker": {
             "colorbar": {
              "outlinewidth": 0,
              "ticks": ""
             }
            },
            "type": "scattergl"
           }
          ],
          "scattermap": [
           {
            "marker": {
             "colorbar": {
              "outlinewidth": 0,
              "ticks": ""
             }
            },
            "type": "scattermap"
           }
          ],
          "scattermapbox": [
           {
            "marker": {
             "colorbar": {
              "outlinewidth": 0,
              "ticks": ""
             }
            },
            "type": "scattermapbox"
           }
          ],
          "scatterpolar": [
           {
            "marker": {
             "colorbar": {
              "outlinewidth": 0,
              "ticks": ""
             }
            },
            "type": "scatterpolar"
           }
          ],
          "scatterpolargl": [
           {
            "marker": {
             "colorbar": {
              "outlinewidth": 0,
              "ticks": ""
             }
            },
            "type": "scatterpolargl"
           }
          ],
          "scatterternary": [
           {
            "marker": {
             "colorbar": {
              "outlinewidth": 0,
              "ticks": ""
             }
            },
            "type": "scatterternary"
           }
          ],
          "surface": [
           {
            "colorbar": {
             "outlinewidth": 0,
             "ticks": ""
            },
            "colorscale": [
             [
              0,
              "#0d0887"
             ],
             [
              0.1111111111111111,
              "#46039f"
             ],
             [
              0.2222222222222222,
              "#7201a8"
             ],
             [
              0.3333333333333333,
              "#9c179e"
             ],
             [
              0.4444444444444444,
              "#bd3786"
             ],
             [
              0.5555555555555556,
              "#d8576b"
             ],
             [
              0.6666666666666666,
              "#ed7953"
             ],
             [
              0.7777777777777778,
              "#fb9f3a"
             ],
             [
              0.8888888888888888,
              "#fdca26"
             ],
             [
              1,
              "#f0f921"
             ]
            ],
            "type": "surface"
           }
          ],
          "table": [
           {
            "cells": {
             "fill": {
              "color": "#EBF0F8"
             },
             "line": {
              "color": "white"
             }
            },
            "header": {
             "fill": {
              "color": "#C8D4E3"
             },
             "line": {
              "color": "white"
             }
            },
            "type": "table"
           }
          ]
         },
         "layout": {
          "annotationdefaults": {
           "arrowcolor": "#2a3f5f",
           "arrowhead": 0,
           "arrowwidth": 1
          },
          "autotypenumbers": "strict",
          "coloraxis": {
           "colorbar": {
            "outlinewidth": 0,
            "ticks": ""
           }
          },
          "colorscale": {
           "diverging": [
            [
             0,
             "#8e0152"
            ],
            [
             0.1,
             "#c51b7d"
            ],
            [
             0.2,
             "#de77ae"
            ],
            [
             0.3,
             "#f1b6da"
            ],
            [
             0.4,
             "#fde0ef"
            ],
            [
             0.5,
             "#f7f7f7"
            ],
            [
             0.6,
             "#e6f5d0"
            ],
            [
             0.7,
             "#b8e186"
            ],
            [
             0.8,
             "#7fbc41"
            ],
            [
             0.9,
             "#4d9221"
            ],
            [
             1,
             "#276419"
            ]
           ],
           "sequential": [
            [
             0,
             "#0d0887"
            ],
            [
             0.1111111111111111,
             "#46039f"
            ],
            [
             0.2222222222222222,
             "#7201a8"
            ],
            [
             0.3333333333333333,
             "#9c179e"
            ],
            [
             0.4444444444444444,
             "#bd3786"
            ],
            [
             0.5555555555555556,
             "#d8576b"
            ],
            [
             0.6666666666666666,
             "#ed7953"
            ],
            [
             0.7777777777777778,
             "#fb9f3a"
            ],
            [
             0.8888888888888888,
             "#fdca26"
            ],
            [
             1,
             "#f0f921"
            ]
           ],
           "sequentialminus": [
            [
             0,
             "#0d0887"
            ],
            [
             0.1111111111111111,
             "#46039f"
            ],
            [
             0.2222222222222222,
             "#7201a8"
            ],
            [
             0.3333333333333333,
             "#9c179e"
            ],
            [
             0.4444444444444444,
             "#bd3786"
            ],
            [
             0.5555555555555556,
             "#d8576b"
            ],
            [
             0.6666666666666666,
             "#ed7953"
            ],
            [
             0.7777777777777778,
             "#fb9f3a"
            ],
            [
             0.8888888888888888,
             "#fdca26"
            ],
            [
             1,
             "#f0f921"
            ]
           ]
          },
          "colorway": [
           "#636efa",
           "#EF553B",
           "#00cc96",
           "#ab63fa",
           "#FFA15A",
           "#19d3f3",
           "#FF6692",
           "#B6E880",
           "#FF97FF",
           "#FECB52"
          ],
          "font": {
           "color": "#2a3f5f"
          },
          "geo": {
           "bgcolor": "white",
           "lakecolor": "white",
           "landcolor": "#E5ECF6",
           "showlakes": true,
           "showland": true,
           "subunitcolor": "white"
          },
          "hoverlabel": {
           "align": "left"
          },
          "hovermode": "closest",
          "mapbox": {
           "style": "light"
          },
          "paper_bgcolor": "white",
          "plot_bgcolor": "#E5ECF6",
          "polar": {
           "angularaxis": {
            "gridcolor": "white",
            "linecolor": "white",
            "ticks": ""
           },
           "bgcolor": "#E5ECF6",
           "radialaxis": {
            "gridcolor": "white",
            "linecolor": "white",
            "ticks": ""
           }
          },
          "scene": {
           "xaxis": {
            "backgroundcolor": "#E5ECF6",
            "gridcolor": "white",
            "gridwidth": 2,
            "linecolor": "white",
            "showbackground": true,
            "ticks": "",
            "zerolinecolor": "white"
           },
           "yaxis": {
            "backgroundcolor": "#E5ECF6",
            "gridcolor": "white",
            "gridwidth": 2,
            "linecolor": "white",
            "showbackground": true,
            "ticks": "",
            "zerolinecolor": "white"
           },
           "zaxis": {
            "backgroundcolor": "#E5ECF6",
            "gridcolor": "white",
            "gridwidth": 2,
            "linecolor": "white",
            "showbackground": true,
            "ticks": "",
            "zerolinecolor": "white"
           }
          },
          "shapedefaults": {
           "line": {
            "color": "#2a3f5f"
           }
          },
          "ternary": {
           "aaxis": {
            "gridcolor": "white",
            "linecolor": "white",
            "ticks": ""
           },
           "baxis": {
            "gridcolor": "white",
            "linecolor": "white",
            "ticks": ""
           },
           "bgcolor": "#E5ECF6",
           "caxis": {
            "gridcolor": "white",
            "linecolor": "white",
            "ticks": ""
           }
          },
          "title": {
           "x": 0.05
          },
          "xaxis": {
           "automargin": true,
           "gridcolor": "white",
           "linecolor": "white",
           "ticks": "",
           "title": {
            "standoff": 15
           },
           "zerolinecolor": "white",
           "zerolinewidth": 2
          },
          "yaxis": {
           "automargin": true,
           "gridcolor": "white",
           "linecolor": "white",
           "ticks": "",
           "title": {
            "standoff": 15
           },
           "zerolinecolor": "white",
           "zerolinewidth": 2
          }
         }
        },
        "title": {
         "text": "Auction Market Metrics • T=48, N=48"
        },
        "width": 1180,
        "xaxis": {
         "anchor": "y",
         "domain": [
          0,
          0.42
         ],
         "matches": "x"
        },
        "xaxis2": {
         "anchor": "y2",
         "domain": [
          0.52,
          0.94
         ],
         "matches": "x"
        },
        "xaxis3": {
         "anchor": "y3",
         "domain": [
          0,
          0.42
         ],
         "matches": "x"
        },
        "xaxis4": {
         "anchor": "y5",
         "domain": [
          0.52,
          0.94
         ],
         "matches": "x"
        },
        "xaxis5": {
         "anchor": "y6",
         "domain": [
          0,
          0.42
         ],
         "matches": "x"
        },
        "xaxis6": {
         "anchor": "y7",
         "domain": [
          0.52,
          0.94
         ],
         "matches": "x"
        },
        "xaxis7": {
         "anchor": "y8",
         "domain": [
          0,
          0.42
         ],
         "rangeslider": {
          "thickness": 0.06,
          "visible": true
         },
         "title": {
          "text": "Timestep"
         }
        },
        "xaxis8": {
         "anchor": "y9",
         "domain": [
          0.52,
          0.94
         ],
         "rangeslider": {
          "thickness": 0.06,
          "visible": true
         },
         "title": {
          "text": "Timestep"
         }
        },
        "yaxis": {
         "anchor": "x",
         "domain": [
          0.81,
          1
         ],
         "range": [
          0,
          1
         ],
         "title": {
          "text": "Rate"
         }
        },
        "yaxis2": {
         "anchor": "x2",
         "domain": [
          0.81,
          1
         ],
         "rangemode": "tozero",
         "title": {
          "text": "Gap"
         }
        },
        "yaxis3": {
         "anchor": "x3",
         "domain": [
          0.54,
          0.73
         ],
         "range": [
          0,
          0.10895220486970512
         ],
         "title": {
          "text": "HHI"
         }
        },
        "yaxis4": {
         "anchor": "x3",
         "overlaying": "y3",
         "range": [
          1,
          42.328212071956315
         ],
         "side": "right",
         "title": {
          "text": "ENC"
         }
        },
        "yaxis5": {
         "anchor": "x4",
         "domain": [
          0.54,
          0.73
         ],
         "range": [
          0,
          1
         ],
         "title": {
          "text": "Gini"
         }
        },
        "yaxis6": {
         "anchor": "x5",
         "domain": [
          0.27,
          0.46
         ],
         "rangemode": "tozero",
         "title": {
          "text": "# bids"
         }
        },
        "yaxis7": {
         "anchor": "x6",
         "domain": [
          0.27,
          0.46
         ],
         "rangemode": "tozero",
         "title": {
          "text": "Vol"
         }
        },
        "yaxis8": {
         "anchor": "x7",
         "domain": [
          0,
          0.19
         ],
         "title": {
          "text": "(v-b)/v"
         }
        },
        "yaxis9": {
         "anchor": "x8",
         "domain": [
          0,
          0.19
         ],
         "range": [
          0,
          1
         ],
         "title": {
          "text": "Similarity"
         }
        }
       }
      }
     },
     "metadata": {},
     "output_type": "display_data"
    }
   ],
   "source": [
    "auction_idx = 0\n",
    "\n",
    "fig = plot_auction_market_overview(\n",
    "    auction_histories[auction_idx],\n",
    "    bid_threshold=0.01,\n",
    "    gap_threshold=0.0,\n",
    "    win_threshold=0.1,\n",
    "    pct=0.05,\n",
    "    vol_window=4,\n",
    "    use_log=True,\n",
    ")\n",
    "fig.show()"
   ]
  },
  {
   "cell_type": "markdown",
   "id": "7f77f602",
   "metadata": {},
   "source": [
    "### Agent Campaign"
   ]
  },
  {
   "cell_type": "code",
   "execution_count": 74,
   "id": "6d0ea3b7",
   "metadata": {},
   "outputs": [
    {
     "data": {
      "application/vnd.plotly.v1+json": {
       "config": {
        "plotlyServerURL": "https://plot.ly"
       },
       "data": [
        {
         "line": {
          "color": "steelblue"
         },
         "mode": "lines",
         "name": "Cumulative Spend",
         "type": "scatter",
         "x": {
          "bdata": "AAECAwQFBgcICQoLDA0ODxAREhMUFRYXGBkaGxwdHh8gISIjJCUmJygpKissLS4v",
          "dtype": "i1"
         },
         "xaxis": "x",
         "y": {
          "bdata": "nrattX+TC0Amgng4SHwQQFo5K5KtZx5AamLSO3CJL0CHluNOBI8wQN9VCgVbsTBAnnYVZwwQMUBto+eHXYsxQEaEc78XakRA9AxKeaBOUUA13rX59INnQJ4dAcGsZXZAQpQAD37+gUCqrxNg15KFQLJbFDS8t41Ae4bYkDpFkUB7htiQOkWRQHuG2JA6RZFAe4bYkDpFkUB7htiQOkWRQHuG2JA6RZFAvdUbmHtFkUABl7Wbs0WRQAGXtZuzRZFArfWmMSkOkkBVkVQ3Ee6UQAIJEtKgu5dARfLqPtZGmUCgVnadt0OdQAJDuSpVhKBA1MyC2qFdoUC6SlhB8dKiQLpKWEHx0qJAukpYQfHSokC6SlhB8dKiQLpKWEHx0qJAukpYQfHSokC6SlhB8dKiQLpKWEHx0qJAukpYQfHSokDJcskKNC+jQP2TQqEIcaNA0CTI+lg9pECYs0guP16kQPe3HLL0s6RA97ccsvSzpED3txyy9LOkQPe3HLL0s6RA",
          "dtype": "f8"
         },
         "yaxis": "y"
        },
        {
         "line": {
          "color": "red",
          "dash": "dash"
         },
         "mode": "lines",
         "name": "Budget",
         "type": "scatter",
         "x": {
          "bdata": "AAECAwQFBgcICQoLDA0ODxAREhMUFRYXGBkaGxwdHh8gISIjJCUmJygpKissLS4v",
          "dtype": "i1"
         },
         "xaxis": "x",
         "y": [
          2650,
          2650,
          2650,
          2650,
          2650,
          2650,
          2650,
          2650,
          2650,
          2650,
          2650,
          2650,
          2650,
          2650,
          2650,
          2650,
          2650,
          2650,
          2650,
          2650,
          2650,
          2650,
          2650,
          2650,
          2650,
          2650,
          2650,
          2650,
          2650,
          2650,
          2650,
          2650,
          2650,
          2650,
          2650,
          2650,
          2650,
          2650,
          2650,
          2650,
          2650,
          2650,
          2650,
          2650,
          2650,
          2650,
          2650,
          2650
         ],
         "yaxis": "y"
        },
        {
         "line": {
          "color": "orange",
          "dash": "dot"
         },
         "mode": "lines",
         "name": "Budget Pacing",
         "type": "scatter",
         "x": {
          "bdata": "AAECAwQFBgcICQoLDA0ODxAREhMUFRYXGBkaGxwdHh8gISIjJCUmJygpKissLS4v",
          "dtype": "i1"
         },
         "xaxis": "x",
         "y": {
          "bdata": "jJVGIUkGUUBUp50Rp/xYQNjiGWFOg19AxGYAPJCJYUCKgBftD6BiQOIjkFc/YWNAtd2m/ykmZEC9vMn9N9ZkQNhnco26s2VAjgjvW2muZkBrAHMqiuxoQGIXaDnDaWtAFAjXYj08b0BbRpGtN2dxQIC1VqCyGXRAIrhOnXqVdkD5QBSfWap9QFb/BHgYDYJAnzfs+u7BhUAZ/DDT9eeIQO2wUbInnoxA5p4zjBrmj0A+4epHVp+RQJxUIgYN5ZJAQgMLPwPxk0BEUUOc+OuUQAKktmkhFJZAp/cubOv2lkC77jLcRwSYQID1SsmW/JhAkpCH8nAPmkCpX5BliwubQL0nurWn85tA6uRsUJy5nEBrmkGh8nmdQPI7ccmNGJ5APUBBTaj8nkBYr5gLYtmfQFKt8igncqBAnw84FHDzoEArLvTKK5WhQO+O5gX/N6JA0MpzKJkBo0AhiXgc87qjQKcy5rVTAaRAgmyOHWE9pED1JrRoznikQAEAAAAAtKRA",
          "dtype": "f8"
         },
         "yaxis": "y"
        },
        {
         "marker": {
          "color": "royalblue",
          "opacity": 0.45,
          "size": 6
         },
         "mode": "markers",
         "name": "Per-step CPA (scatter)",
         "type": "scatter",
         "x": {
          "bdata": "AAECAwQFBgcICQoLDA0ODxAREhMUFRYXGBkaGxwdHh8gISIjJCUmJygpKissLS4v",
          "dtype": "i1"
         },
         "xaxis": "x2",
         "y": {
          "bdata": "AAAAAAAA+H8AAAAAAAD4fwAAAAAAAPh/AAAAAAAA+H8AAAAAAAD4fwAAAAAAAPh/AAAAAAAA+H8AAAAAAAD4fwAAAAAAAPh/AAAAAAAA+H8AAAAAAAD4f2U5Q4hkR2VAAAAAAAAA+H+0joyIyqJcQJvY/afJSWBA1XtqtuNKY0AAAAAAAAD4fwAAAAAAAPh/AAAAAAAA+H8AAAAAAAD4fwAAAAAAAPh/AAAAAAAA+H8AAAAAAAD4fwAAAAAAAPh/bRIhvrIOSUC0/GItQP9mQMW04Mf75U1AQkaJzVazSED9SFT0CudfQJaH1L+VJ25AAAAAAAAA+H/92E1t9lRnQAAAAAAAAPh/AAAAAAAA+H8AAAAAAAD4fwAAAAAAAPh/AAAAAAAA+H8AAAAAAAD4fwAAAAAAAPh/AAAAAAAA+H+sD0VcshA3QAAAAAAAAPh/AAAAAAAA+H8wU0DAGXMwQAAAAAAAAPh/AAAAAAAA+H8AAAAAAAD4fwAAAAAAAPh/",
          "dtype": "f8"
         },
         "yaxis": "y2"
        },
        {
         "line": {
          "color": "royalblue",
          "dash": "dot"
         },
         "mode": "lines",
         "name": "Per-step CPA (rolling avg)",
         "type": "scatter",
         "x": {
          "bdata": "AAECAwQFBgcICQoLDA0ODxAREhMUFRYXGBkaGxwdHh8gISIjJCUmJygpKissLS4v",
          "dtype": "i1"
         },
         "xaxis": "x2",
         "y": {
          "bdata": "AAAAAAAAAAAAAAAAAAAAAAAAAAAAAAAAAAAAAAAAAAAAAAAAAAAAAAAAAAAAAAAAAAAAAAAAAAAAAAAAAAAAAAAAAAAAAAAAAAAAAAAAAAAx9661MF9MQDH3rrUwX0xA1FUGMzG7V0D4v4KddGdUQO4zOjYGomBAoI1FlHO4V0DGT+OdL7lJQAAAAAAAAAAAAAAAAAAAAAAAAAAAAAAAAAAAAAAAAAAAAAAAAAAAAAAAAAAAAAAAAJ5hayl3tDBAiivyPfOBU0AAn5c0nX1YQPj8KDdjblhAKsKtv+a7U0CMVCBPUG1hQLhyVNG8vF5AMSC2uS7UYUD8y2c88xtPQPzLZzzzG09AAAAAAAAAAAAAAAAAAAAAAAAAAAAAAAAAAAAAAAAAAAAAAAAAAAAAAAAAAAAAAAAA5RRc0O3AHkDlFFzQ7cAeQOUUXNDtwB5AQMRVAM3uFUBAxFUAze4VQEDEVQDN7hVAAAAAAAAAAAAAAAAAAAAAAAAAAAAAAAAA",
          "dtype": "f8"
         },
         "yaxis": "y2"
        },
        {
         "line": {
          "color": "red",
          "dash": "dash"
         },
         "mode": "lines",
         "name": "Target CPA",
         "type": "scatter",
         "x": {
          "bdata": "AAECAwQFBgcICQoLDA0ODxAREhMUFRYXGBkaGxwdHh8gISIjJCUmJygpKissLS4v",
          "dtype": "i1"
         },
         "xaxis": "x2",
         "y": [
          100,
          100,
          100,
          100,
          100,
          100,
          100,
          100,
          100,
          100,
          100,
          100,
          100,
          100,
          100,
          100,
          100,
          100,
          100,
          100,
          100,
          100,
          100,
          100,
          100,
          100,
          100,
          100,
          100,
          100,
          100,
          100,
          100,
          100,
          100,
          100,
          100,
          100,
          100,
          100,
          100,
          100,
          100,
          100,
          100,
          100,
          100,
          100
         ],
         "yaxis": "y2"
        },
        {
         "line": {
          "color": "crimson"
         },
         "mode": "lines",
         "name": "Accumulated CPA",
         "type": "scatter",
         "x": {
          "bdata": "AAECAwQFBgcICQoLDA0ODxAREhMUFRYXGBkaGxwdHh8gISIjJCUmJygpKissLS4v",
          "dtype": "i1"
         },
         "xaxis": "x2",
         "y": {
          "bdata": "AAAAAAAA+H8AAAAAAAD4fwAAAAAAAPh/AAAAAAAA+H8AAAAAAAD4fwAAAAAAAPh/AAAAAAAA+H8AAAAAAAD4fwAAAAAAAPh/AAAAAAAA+H8AAAAAAAD4fwZ/98CsZXZAydn4Dn7+gUClDQ9g15J1QNIqETS8t21A690kTveha0Dr3SRO96FrQOvdJE73oWtA690kTveha0Dr3SRO96FrQOvdJE73oWtAGcPDWV+ia0B+KyD5uKJrQH4rIPm4omtAaY6Hl+ESaEA85cxjgetnQNmcDaiA/GJAclzxKeTZYEArrmc1+7hgQABxGrY4nmFA+ZYk+gGGYkBfyVdB8dJiQF/JV0Hx0mJAX8lXQfHSYkBfyVdB8dJiQF/JV0Hx0mJAX8lXQfHSYkBfyVdB8dJiQF/JV0Hx0mJAX8lXQfHSYkBQGs+Xgw1hQIv9yKsHSGFADUEjbaT9YUAk4yHW8SZhQO1r1OYeb2FA7WvU5h5vYUDta9TmHm9hQO1r1OYeb2FA",
          "dtype": "f8"
         },
         "yaxis": "y2"
        },
        {
         "fill": "toself",
         "fillcolor": "rgba(255, 0, 0, 0.1)",
         "hoverinfo": "skip",
         "line": {
          "color": "rgba(255,255,255,0)"
         },
         "name": "+/-10% CPA Range",
         "showlegend": true,
         "type": "scatter",
         "x": {
          "bdata": "AAECAwQFBgcICQoLDA0ODxAREhMUFRYXGBkaGxwdHh8gISIjJCUmJygpKissLS4vLy4tLCsqKSgnJiUkIyIhIB8eHRwbGhkYFxYVFBMSERAPDg0MCwoJCAcGBQQDAgEA",
          "dtype": "i1"
         },
         "xaxis": "x2",
         "y": {
          "bdata": "bm5ubm5ubm5ubm5ubm5ubm5ubm5ubm5ubm5ubm5ubm5ubm5ubm5ubm5ubm5ubm5uWlpaWlpaWlpaWlpaWlpaWlpaWlpaWlpaWlpaWlpaWlpaWlpaWlpaWlpaWlpaWlpa",
          "dtype": "i1"
         },
         "yaxis": "y2"
        },
        {
         "line": {
          "color": "dodgerblue"
         },
         "mode": "lines",
         "name": "Average Bid",
         "type": "scatter",
         "x": {
          "bdata": "AAECAwQFBgcICQoLDA0ODxAREhMUFRYXGBkaGxwdHh8gISIjJCUmJygpKissLS4v",
          "dtype": "i1"
         },
         "xaxis": "x3",
         "y": {
          "bdata": "+0fg0Jxnqz9IDTA1xqSsP8Iz5uF4xq8/HXdh+bnWrz/Z1Ffa8zmuP10w46d7Pa0/1Lepc95XrT9LDA4T6RGuPzjWs6x08Lk/t/HkLdVquj/lWni63bm7P+Aa75zNQrw/AnT1deYjuT9M91LSMVO3P1dawP8ZsbY/f9Wk3SUetT/piUkq0yCaP62IJGVdEJk/lWlp/NzymD9sTvVBIqSWPwcN8Eq/+JY/iG2PKDxnlj+KJJlUU9GVPxsxarJLx5c/ICEMaP1BrD/2yPhGOi2uP69sTk4oYq0/27QBJw1Prj9hICzRUnCvP6jqnUjBO68/+AgYWpRArT8CTMhMABqsP2dPTN9KbZI/wi8I7GPckD8SvMm1gx2RP3eB0ZO1i5E/0Au+QT/3kD9Bm+y6XYyRP5TAtDVX/ZE/LfH99TW5kT9doiLfhBitPwJG1LL0qas/pH5eH7EVqz9nz4jTBd2nPwmPxg/ba6w/AAAAAAAAAAAAAAAAAAAAAAAAAAAAAAAA",
          "dtype": "f8"
         },
         "yaxis": "y3"
        },
        {
         "line": {
          "color": "dodgerblue",
          "dash": "dot"
         },
         "mode": "lines",
         "name": "Bid +1std",
         "showlegend": false,
         "type": "scatter",
         "x": {
          "bdata": "AAECAwQFBgcICQoLDA0ODxAREhMUFRYXGBkaGxwdHh8gISIjJCUmJygpKissLS4v",
          "dtype": "i1"
         },
         "xaxis": "x3",
         "y": {
          "bdata": "1oRpw5uGtD/TICKTxISzPwVg+3xF0rU/HPFGDSsVuT9v1AYW5V22PxGF3nTCibU/jF/E9DtutT/XTFxlr5m2P374LvIPscE/T0ee2vBLwj9duuFJCqzFPz1zrH+I28Q//gKwL0hDwz+xi4hMaoLAPz65UpqX6cE/6uWKia2Fvz9Q18EzSLSjP5Uanc0O6aI/quPbJvRtoT8I8rH7Q3GdPw8k3/wliZ8/yveWWI/NoT/680y65SihP2jNENN8H6E/OC0P3VBTtD/JwmooQJa3P3AHCyAkV7U/mNiU0hSCtD/0IIheGqW4Py7RIzTwqbc/+8YueGkYsj+tBA47MTq0PwLWRqDwLps/OcSn3eZ1mT805s3RoTGZP51lTlUq3Zg/m52JBti6mD8yUEb8Ui+aPxuQi33L/Jk/IPWMeOR1mT+1CfsYr9y2P9XqZxwcKLM/WuLCx318sz8lFRJsopyuP9CWoR7ha7U/AAAAAAAAAAAAAAAAAAAAAAAAAAAAAAAA",
          "dtype": "f8"
         },
         "yaxis": "y3"
        },
        {
         "fill": "tonexty",
         "fillcolor": "rgba(30,144,255,0.10)",
         "line": {
          "color": "dodgerblue",
          "dash": "dot"
         },
         "mode": "lines",
         "name": "Bid -1std",
         "showlegend": false,
         "type": "scatter",
         "x": {
          "bdata": "AAECAwQFBgcICQoLDA0ODxAREhMUFRYXGBkaGxwdHh8gISIjJCUmJygpKissLS4v",
          "dtype": "i1"
         },
         "xaxis": "x3",
         "y": {
          "bdata": "lAzbNQSEmz/q2BtEA0CiP3qn1clm6KM/BhhqsDsGmz+oAUQRO3CfPy+tEszkzp4/ImGV+4mmnz/Q/ca25uCdP3S7CXXJfrA/0FSNpsg9sD8fglrCTTeoP4yeCnUUna0/D8QVGXmCpz9trikXHkOrP2OEtpUJHqM/KIp9YzxtpT9kyh7aK7KJP2G4HV46nYg/rBc2VqMTjj+hVXEQAa6PP/7rATKx0Iw/99bhP7Nmgj8+wjBptqGCP8yOZX07n4o/n8/zK7K6nz+0GDh66FuaP37KhlwIFqA/hrjZqPCZoz+2/Y/K4SybP+hl6FFER54/+oPSw1VQpj9THelGPH+fP5eRozxKV4M/ljbR9MGFgD/hI4szyxKCP6I6qaSBdIQ/CvTk+Uxngj+gzCXz0NKBPxriu9vF+4M/ddrd5g75gz+gYp4YV++YP1q22CyxA6E/JnFuXs1knj+pif86aR2hP+Xgk8Tn/5s/AAAAAAAAAAAAAAAAAAAAAAAAAAAAAAAA",
          "dtype": "f8"
         },
         "yaxis": "y3"
        },
        {
         "line": {
          "color": "darkorange"
         },
         "mode": "lines",
         "name": "Avg Auction Price",
         "type": "scatter",
         "x": {
          "bdata": "AAECAwQFBgcICQoLDA0ODxAREhMUFRYXGBkaGxwdHh8gISIjJCUmJygpKissLS4v",
          "dtype": "i1"
         },
         "xaxis": "x3",
         "y": {
          "bdata": "Tca6pHzHvz+muy0laWu+PwQiSEeg4r0/+AuiX22Ivz+dU5HGJva/P/6F7QI9ScA//5sBKs/VwD//inVJXUjBP4NvfBK+zsA/wumgFZAOwT83WCwe60fBP+qLyHMYV74/JIP5qMx0vT8nXFasJZW9P8X7Bjz2Wbw/dzDb4hj2uz/UfRxH5kLAP2rhG35DUro/VDaT0hICtz/goR581l23P9LMHvBOH7c/adffULN4tT+eDbqhy8e0PzZLxQPbCLQ/KTf2OrsYtj+Tw+BB0ji0P0KgygEIxLI/81G9jFF4sz9R6ouz5VqzPwT7zUdGc7I/fn9u6c07sT/AGWcbh9uwPwpEOj7Az70/NN8X/5iOuT9rmIquVd61P9F5fMGH9bM/8zrZYDI3sj9DKZR1gMWxPxuOLjTCLbI/p8TymS+Isj89spdEgOe7P+1Y7Psu6bY/TYMBHteCtD+5Us8rNNmyP5+OKotGnbE/Z4DaTggEsT/zQmoFBmWxP/ebJM2QibA/",
          "dtype": "f8"
         },
         "yaxis": "y4"
        },
        {
         "line": {
          "color": "darkorange",
          "dash": "dot"
         },
         "mode": "lines",
         "name": "Price +1std",
         "showlegend": false,
         "type": "scatter",
         "x": {
          "bdata": "AAECAwQFBgcICQoLDA0ODxAREhMUFRYXGBkaGxwdHh8gISIjJCUmJygpKissLS4v",
          "dtype": "i1"
         },
         "xaxis": "x3",
         "y": {
          "bdata": "R1Qss7Ewwj/BDNFMuIDBP+VLllDNE8E/LJml2VbkwT+erOIakSbCP6xcTncYXcI/WzvI2mMVwz8eX5mUgM3DP+Qptgo7BcM/2qqV/vUqwz/s2DaFUZjDP0aWfnFLCcE/PtkPESltwD+voo3cvITAP2iLfxfLir8/SNXmj2g0vz9Z+Mfztv3CP6/E1XkNub0/E6P7VejYuT/t4SupuCy6Pw4W78kH57k/YGc+85A+uD9hUJmAqdC3PzZFBHTkqrY/JbkgMWRouT/LjN8kAjS3P8S6ShM4d7U/B6dUdyQotj/yDGUc2xK2Pz06O3OD7LQ/ZNAr/SB7sz8aGwyrIS2zP0hMQEBGV8E/4o7yoC3cvT/hfC8n6IK5P4NJys04Src/Joug5Nu1tD/xg/b0E3+0Pz2TB+3vzrQ/Fxc0D2ottT8IPCfWVQ/AP+YHmCDZDbo/35Vp1StDtz8R2lZ555K1P4WAZ47rZrQ/bB62LT1wsz/M5vvgkCe0P2QJmQXfBLM/",
          "dtype": "f8"
         },
         "yaxis": "y4"
        },
        {
         "fill": "tonexty",
         "fillcolor": "rgba(255,140,0,0.10)",
         "line": {
          "color": "darkorange",
          "dash": "dot"
         },
         "mode": "lines",
         "name": "Price -1std",
         "showlegend": false,
         "type": "scatter",
         "x": {
          "bdata": "AAECAwQFBgcICQoLDA0ODxAREhMUFRYXGBkaGxwdHh8gISIjJCUmJygpKissLS4v",
          "dtype": "i1"
         },
         "xaxis": "x3",
         "y": {
          "bdata": "C+Qc45Utuz/KXbmwYdW5Pz6sY+2lnbk/l+X4Cy1Iuz/+TV1XK5+7P6BeGR3Darw/Rvl18nQsvT/AbaP8c4a9P0VqhTSCML0/VFFYWVTkvT8Er0NuCe+9P0frkwSam7o/zFPTL0cPuj/wcpGf0SC6PyJsjmAhKbk/povPNcm3uD+eBuI0KxC7PyX+YYJ567Y/lckqTz0rtD/TYRFP9I60P5aDThaWV7Q/ckeBrtWysj/bytrC7b6xPzZRhpPRZrE/LbXLRBLJsj9b+uFeoj2xP8CFSvDXELA/3/wlon7IsD+wx7JK8KKwP5V3wTgS9K8/MV1iq/X4rT/NMIQX2ROtP4Xv8/vz8Lg/hi89XQRBtT/1s+U1wzmyPx+qLrXWoLA/gdUjuhFxrz8qnWPs2ReuP/IRq/YoGa8/buRiSerFrz9p7ODcVLC3P/SpQNeExLM/u3CZZoLCsT9hy0fegB+wP3I52w9Dp60/w8T936YvrT81PrFT9kStPxRdYCmFHKw/",
          "dtype": "f8"
         },
         "yaxis": "y4"
        },
        {
         "line": {
          "color": "seagreen"
         },
         "mode": "lines",
         "name": "Win Rate",
         "type": "scatter",
         "x": {
          "bdata": "AAECAwQFBgcICQoLDA0ODxAREhMUFRYXGBkaGxwdHh8gISIjJCUmJygpKissLS4v",
          "dtype": "i1"
         },
         "xaxis": "x4",
         "y": {
          "bdata": "ifuZv60VdD/KOGNfCURbP+W85t3P9YM/Pc/zPM/zpD99k2vrebWCP0NSpnTjxGw/FK82yNSjcT85FLFfUp97P7fcQbhSIcc/92i7AQlixz+Zvd3s5JXSP2Itvp1p+tk/VVVVVVVV1T8Xy6q22xHMP+FmBDaT7dI/HGX3G2X3yz8AAAAAAAAAAAAAAAAAAAAAAAAAAAAAAAAAAAAAAAAAAAAAAAAAAAAA14eR45d3Cj+aR77xHPQJPwAAAAAAAAAAWuTKgQgksz+DSS06VvHNPyfeRhWHZcw/UCpYvDL4xT/yVgWXGcrSP/0Nul0rJ9Q/U0G9BCR4xz9ua/YOU9rRPwAAAAAAAAAAAAAAAAAAAAAAAAAAAAAAAAAAAAAAAAAAAAAAAAAAAAAAAAAAAAAAAAAAAAAAAAAAAAAAAAAAAAAnwlXx+VCmP3d3d3d3d6M/DtbdkJ+luD+CZRfK6SCYP3YdPKfhHL0/AAAAAAAAAAAAAAAAAAAAAAAAAAAAAAAA",
          "dtype": "f8"
         },
         "yaxis": "y5"
        },
        {
         "marker": {
          "color": "orange",
          "line": {
           "width": 0
          }
         },
         "name": "Value Distribution",
         "opacity": 0.55,
         "type": "bar",
         "width": 0.8,
         "x": {
          "bdata": "AAECAwQFBgcICQoLDA0ODxAREhMUFRYXGBkaGxwdHh8gISIjJCUmJygpKissLS4v",
          "dtype": "i1"
         },
         "xaxis": "x4",
         "y": {
          "bdata": "NtnCuzr4Rj9QyE7FCKZGP376XYSppEY/t7wr4mERRz8dSi2xmFZHP9YveeBdBkc/XCE0OoqNRj/q03Crto9GP3xtEGua31E/DwekD2q+UT8UpCTV0yRSP+tD24PtVlI/0IIWJ89DUj/3ofZa+ABSP12by3l8ZFI/PC6O/PwyUj/Hmgo2CMI1P7vGRvRW3DU/rZvBYl+uNT8oNl5MIZk1P4hiei6TiDU/73KdglPvNT98dutn/NA1P32UIOHBoTU/18h/nKtbRD8qvxcE6W1EP2SiwFoFaUQ/6SnYnxA3RD9n8afrQ5xEP4+5T1veS0Q/qKWJnTNTRD+a4LzCx2tEPyKViPgQFyw/GUViMKf3Kz+mRETl7fQrP+HfCXf7mis/uizH2KPZKz9QgkE1PPorP/O/3QhU9ys/JeRiraL4Kz944Df+hEhFPwuVcOFMNkU/scr4uWwwRT+Xumym+yJFP87tBoJ3M0U/uRsTPoxjRT+nQdJ79AlFP0Yo8NTBaUU/",
          "dtype": "f8"
         },
         "yaxis": "y6"
        },
        {
         "line": {
          "color": "teal"
         },
         "marker": {
          "symbol": "square"
         },
         "mode": "lines+markers",
         "name": "Cumulative Conversions",
         "type": "scatter",
         "x": {
          "bdata": "AAECAwQFBgcICQoLDA0ODxAREhMUFRYXGBkaGxwdHh8gISIjJCUmJygpKissLS4v",
          "dtype": "i1"
         },
         "xaxis": "x5",
         "y": {
          "bdata": "AAAAAAAAAAAAAAAAAAAAAAAAAAAAAAAAAAAAAAAAAAAAAAAAAAAAAAAAAAAAAAAAAAAAAAAAAAAAAAAAAAAAAAAAAAAAAAAAAAAAAAAAAAAAAAAAAAAAAAAAAAAAAPA/AAAAAAAA8D8AAAAAAAAAQAAAAAAAABBAAAAAAAAAFEAAAAAAAAAUQAAAAAAAABRAAAAAAAAAFEAAAAAAAAAUQAAAAAAAABRAAAAAAAAAFEAAAAAAAAAUQAAAAAAAABRAAAAAAAAAGEAAAAAAAAAcQAAAAAAAACRAAAAAAAAAKEAAAAAAAAAsQAAAAAAAAC5AAAAAAAAALkAAAAAAAAAwQAAAAAAAADBAAAAAAAAAMEAAAAAAAAAwQAAAAAAAADBAAAAAAAAAMEAAAAAAAAAwQAAAAAAAADBAAAAAAAAAMEAAAAAAAAAyQAAAAAAAADJAAAAAAAAAMkAAAAAAAAAzQAAAAAAAADNAAAAAAAAAM0AAAAAAAAAzQAAAAAAAADNA",
          "dtype": "f8"
         },
         "yaxis": "y7"
        },
        {
         "marker": {
          "color": "mediumpurple",
          "line": {
           "width": 0
          }
         },
         "name": "Traffic Volume",
         "opacity": 0.55,
         "type": "bar",
         "width": 0.8,
         "x": {
          "bdata": "AAECAwQFBgcICQoLDA0ODxAREhMUFRYXGBkaGxwdHh8gISIjJCUmJygpKissLS4v",
          "dtype": "i1"
         },
         "xaxis": "x5",
         "y": {
          "bdata": "AAAAAAAYyUAAAAAAAHm3QAAAAAAAPbNAAAAAAAAApUAAAAAAAKiZQAAAAAAAzJFAAAAAAAAkkkAAAAAAADiQQAAAAAAAaJRAAAAAAAAYl0AAAAAAAHKqQAAAAAAAWq1AAAAAAACJtkAAAAAAAA61QAAAAAAAzr9AAAAAAABJvUAAAAAAQODUQAAAAADA+dJAAAAAAEDa1UAAAAAAQJDSQAAAAABA4tVAAAAAAEBY00AAAAAAQLrTQAAAAACAAc5AAAAAAICvyEAAAAAAgB7HQAAAAACASMtAAAAAAIDkxEAAAAAAgNDIQAAAAAAA4MZAAAAAAABSyUAAAAAAgDnHQAAAAAAAYsVAAAAAAIA8wkAAAAAAALjBQAAAAAAAOb1AAAAAAIADxUAAAAAAgFXEQAAAAAAAl8hAAAAAAADSx0AAAAAAgMzNQAAAAAAAAM5AAAAAAICS0kAAAAAAQBPRQAAAAAAA77lAAAAAAAAhtkAAAAAAAOa1QAAAAAAA0LVA",
          "dtype": "f8"
         },
         "yaxis": "y8"
        },
        {
         "hoverinfo": "skip",
         "line": {
          "width": 0
         },
         "mode": "lines",
         "showlegend": false,
         "type": "scatter",
         "x": {
          "bdata": "AAECAwQFBgcICQoLDA0ODxAREhMUFRYXGBkaGxwdHh8gISIjJCUmJygpKissLS4v",
          "dtype": "i1"
         },
         "xaxis": "x6",
         "y": {
          "bdata": "ojFa9+OoVUDNfhy1QWhVQLwApCMw6FdAGM/hETfZWUBMX+7KPw1XQOPaYVgiz1ZA9ZPHYyi1VkDZQsBUX1FYQEMpQ/nCF1hAWiWiLHyHWUCtMzxPmXtcQDS44ghwg1tA6wibOXY9WUASuvPnW2hWQNkBMpJQGldAkJORPy0RVUBAHH4XJ9JVQLNvr7SVzVRAvQa3FG3MU0BJDyABTApRQA6be3ckBVJAG4PoQeQyU0CU5CcjsLFSQK7rUQFAWVNAKDgrAAByWEA4fUIaFl1bQNmmblESillAxNdSrNE+WUBpPzZy42ZcQLR4Dts67VtAAAAAIBEHV0Bm2XIQGTRYQMdGn722cVdAhtgrtV77VUDS1zxK3uZVQL1AonJWG1ZAru9qsgKTVUDzh3damqxWQJQg5r781VZAKz9X/nQvVkAeHRRcdYhZQLweOjuoH1ZAz3APuXZzVkCEMwHlU0FSQArOwF5GWFhAAAAAAAAAAAAAAAAAAAAAAAAAAAAAAAAA",
          "dtype": "f8"
         },
         "yaxis": "y9"
        },
        {
         "fill": "tonexty",
         "fillcolor": "rgba(65,105,225,0.18)",
         "hoverinfo": "skip",
         "line": {
          "width": 0
         },
         "mode": "lines",
         "name": "Alpha ±1σ",
         "type": "scatter",
         "x": {
          "bdata": "AAECAwQFBgcICQoLDA0ODxAREhMUFRYXGBkaGxwdHh8gISIjJCUmJygpKissLS4v",
          "dtype": "i1"
         },
         "xaxis": "x6",
         "y": {
          "bdata": "BXINMlj+TkC//O+9guhSQJxMTOKlx1RAVgzVRXIAUECYe4xToq9RQN/UZOz9+FBAkX6ESyt/UkBj9cEz5w5RQJldBSrfRlZAukb2C6fSVUCN5xs8EhtSQBIgYC5z5FRAqQLIDvFWUUD8+BG0MbhSQCpV6dmKn0xAH2H3v20jTkB9EDbqEh1PQH8zS4yn1E1AgwhcOSbGUECjL6D8CX9QQJQynQpZ/k9ABor26lc+R0DYyFeru2RHQIBA1PATvk5AoM9UEXRjU0AQDnatmvJRQOcN++a7zVNAVCzaQq2VVkB1OK2VtCdSQF4suORsAlRAAAAAIBEHV0CUyeep10VTQMc0aPLUwFFA38IECpzwTkAGCSbBIYdQQHOC1jy+MFJAPjkNmIrTUECDXKjyMX5QQETufg7/rFFA1Z9JJlzpUUAoB6rAIw1QQN56XyJ4b1NAocSDG43zUUD6Fp/Hat5RQBp5JDyEZVFAAAAAAAAAAAAAAAAAAAAAAAAAAAAAAAAA",
          "dtype": "f8"
         },
         "yaxis": "y9"
        },
        {
         "line": {
          "color": "royalblue",
          "width": 2.2
         },
         "mode": "lines",
         "name": "Average Alpha",
         "type": "scatter",
         "x": {
          "bdata": "AAECAwQFBgcICQoLDA0ODxAREhMUFRYXGBkaGxwdHh8gISIjJCUmJygpKissLS4v",
          "dtype": "i1"
         },
         "xaxis": "x6",
         "y": {
          "bdata": "UnUwCAiUUkDGPYY5YihUQKwm+ALrV1ZAt23bq9TsVEBybT0PcV5UQOFXYyIQ5FNAQwmm1ymaVEAeHEFEI7BUQG5DpBFRL1dACjZMnBGtV0CdDazFVUtXQCNsoZvxM1hAyoUxpDNKVUCH2QLORpBUQDdWk/8KtVJAEKLGD3IRUkA/kkxGWLBSQLmEar3021FAoIcJp0lJUkB2H+D+qsRQQCwaZX4oAlFAHshjNxDSTkAAydP4DWROQPcF3vwkXFFA5APACLrqVUCkRdxj2KdWQGDaNBznq1ZADIKWdz/qV0Dvu/EDTEdXQIlS49/T91dAAAAAIBEHV0B9US1d+LxVQMe9A9hFmVRA+xwXXda5UkBscLEFADdTQJhhvFcKJlRAdhQ8pUYzU0A78o8mZpVTQGyHsuZ9QVRAgG9QkmgMVEAjEl+OzMpUQM3MzC6Qx1RAuJpJ6oEzVEA/JVBW3w9SQJKjck3l3lRAAAAAAAAAAAAAAAAAAAAAAAAAAAAAAAAA",
          "dtype": "f8"
         },
         "yaxis": "y9"
        },
        {
         "line": {
          "color": "gray"
         },
         "mode": "lines",
         "name": "Bid Premium (%)",
         "type": "scatter",
         "x": {
          "bdata": "AAECAwQFBgcICQoLDA0ODxAREhMUFRYXGBkaGxwdHh8gISIjJCUmJygpKissLS4v",
          "dtype": "i1"
         },
         "xaxis": "x6",
         "y": {
          "bdata": "t7+RtPpwTMBrUEdbo3VKwB5tyDA/a0fA6CXKMezBSMAqAGK3cltKwPqUIe2xjkvAiaBV1X42TMDZgEeLWUBMwDi22jGp1TbA7PygCaePNsDXprbATMczwFEJgKulaRvAWhOu7vdNLcCIVR4ZLyc1wF38LxBd9jPAvp7aLp55OMCKnchdlfpTwIPHu1FvDFPALT3z4Qw5UsBGaKDiq/FSwIoL8FJsylLAjznGBJF6UsBfbAtlI3BSwMcQxiwBlVHARJzZN38HQsDd69fA6WI5wEwh/va+tTXA1OH0+FUqNsBipOtLvsgywIe1tyBCty7AAxIO5qhCLsD77vvzWaYwwI76cHwEI1XAFm1e8GvgVMCapFguxBtUwABU5vR2gVPAqxV3VsctU8AAeEcHGNRSwPof5n+l0FLACJfYqs0FU8CyBGSAuu5HwNXAJb9G0EPAwkxJItr8QMCNd2y5LllCwN/R7sLNUjPAAAAAAAAAWcAAAAAAAABZwAAAAAAAAFnA",
          "dtype": "f8"
         },
         "yaxis": "y10"
        },
        {
         "cells": {
          "values": [
           [
            "Total Spend",
            "Total Conversions",
            "Final/Target CPA",
            "% Budget Spent",
            "Win Rate",
            "Conversion Rate (per win)"
           ],
           [
            "2649.98",
            "19.00",
            "139.47 / 100.00",
            "100.0%",
            "0.09",
            "0.0004"
           ]
          ]
         },
         "domain": {
          "x": [
           0,
           0.94
          ],
          "y": [
           0,
           0.1975
          ]
         },
         "header": {
          "values": [
           "Metric",
           "Value"
          ]
         },
         "type": "table"
        }
       ],
       "layout": {
        "annotations": [
         {
          "font": {
           "size": 16
          },
          "showarrow": false,
          "text": "Accumulated Budget Spent",
          "x": 0.205,
          "xanchor": "center",
          "xref": "paper",
          "y": 1,
          "yanchor": "bottom",
          "yref": "paper"
         },
         {
          "font": {
           "size": 16
          },
          "showarrow": false,
          "text": "Per-step & Accumulated CPA",
          "x": 0.735,
          "xanchor": "center",
          "xref": "paper",
          "y": 1,
          "yanchor": "bottom",
          "yref": "paper"
         },
         {
          "font": {
           "size": 16
          },
          "showarrow": false,
          "text": "Bid & Auction Price Trends",
          "x": 0.205,
          "xanchor": "center",
          "xref": "paper",
          "y": 0.7325,
          "yanchor": "bottom",
          "yref": "paper"
         },
         {
          "font": {
           "size": 16
          },
          "showarrow": false,
          "text": "Win Rate & Value Distribution",
          "x": 0.735,
          "xanchor": "center",
          "xref": "paper",
          "y": 0.7325,
          "yanchor": "bottom",
          "yref": "paper"
         },
         {
          "font": {
           "size": 16
          },
          "showarrow": false,
          "text": "Cumulative Conversions & Traffic Distribution",
          "x": 0.205,
          "xanchor": "center",
          "xref": "paper",
          "y": 0.465,
          "yanchor": "bottom",
          "yref": "paper"
         },
         {
          "font": {
           "size": 16
          },
          "showarrow": false,
          "text": "Alpha (mean ±1std) · Bid Premium",
          "x": 0.735,
          "xanchor": "center",
          "xref": "paper",
          "y": 0.465,
          "yanchor": "bottom",
          "yref": "paper"
         },
         {
          "font": {
           "size": 16
          },
          "showarrow": false,
          "text": "Summary Table",
          "x": 0.47,
          "xanchor": "center",
          "xref": "paper",
          "y": 0.1975,
          "yanchor": "bottom",
          "yref": "paper"
         }
        ],
        "barmode": "overlay",
        "height": 1450,
        "hovermode": "x unified",
        "legend": {
         "font": {
          "size": 12
         },
         "itemwidth": 50,
         "orientation": "h",
         "tracegroupgap": 8,
         "x": 0.5,
         "xanchor": "center",
         "y": -0.01,
         "yanchor": "bottom"
        },
        "margin": {
         "b": 80,
         "l": 50,
         "r": 30,
         "t": 90
        },
        "template": {
         "data": {
          "bar": [
           {
            "error_x": {
             "color": "#2a3f5f"
            },
            "error_y": {
             "color": "#2a3f5f"
            },
            "marker": {
             "line": {
              "color": "#E5ECF6",
              "width": 0.5
             },
             "pattern": {
              "fillmode": "overlay",
              "size": 10,
              "solidity": 0.2
             }
            },
            "type": "bar"
           }
          ],
          "barpolar": [
           {
            "marker": {
             "line": {
              "color": "#E5ECF6",
              "width": 0.5
             },
             "pattern": {
              "fillmode": "overlay",
              "size": 10,
              "solidity": 0.2
             }
            },
            "type": "barpolar"
           }
          ],
          "carpet": [
           {
            "aaxis": {
             "endlinecolor": "#2a3f5f",
             "gridcolor": "white",
             "linecolor": "white",
             "minorgridcolor": "white",
             "startlinecolor": "#2a3f5f"
            },
            "baxis": {
             "endlinecolor": "#2a3f5f",
             "gridcolor": "white",
             "linecolor": "white",
             "minorgridcolor": "white",
             "startlinecolor": "#2a3f5f"
            },
            "type": "carpet"
           }
          ],
          "choropleth": [
           {
            "colorbar": {
             "outlinewidth": 0,
             "ticks": ""
            },
            "type": "choropleth"
           }
          ],
          "contour": [
           {
            "colorbar": {
             "outlinewidth": 0,
             "ticks": ""
            },
            "colorscale": [
             [
              0,
              "#0d0887"
             ],
             [
              0.1111111111111111,
              "#46039f"
             ],
             [
              0.2222222222222222,
              "#7201a8"
             ],
             [
              0.3333333333333333,
              "#9c179e"
             ],
             [
              0.4444444444444444,
              "#bd3786"
             ],
             [
              0.5555555555555556,
              "#d8576b"
             ],
             [
              0.6666666666666666,
              "#ed7953"
             ],
             [
              0.7777777777777778,
              "#fb9f3a"
             ],
             [
              0.8888888888888888,
              "#fdca26"
             ],
             [
              1,
              "#f0f921"
             ]
            ],
            "type": "contour"
           }
          ],
          "contourcarpet": [
           {
            "colorbar": {
             "outlinewidth": 0,
             "ticks": ""
            },
            "type": "contourcarpet"
           }
          ],
          "heatmap": [
           {
            "colorbar": {
             "outlinewidth": 0,
             "ticks": ""
            },
            "colorscale": [
             [
              0,
              "#0d0887"
             ],
             [
              0.1111111111111111,
              "#46039f"
             ],
             [
              0.2222222222222222,
              "#7201a8"
             ],
             [
              0.3333333333333333,
              "#9c179e"
             ],
             [
              0.4444444444444444,
              "#bd3786"
             ],
             [
              0.5555555555555556,
              "#d8576b"
             ],
             [
              0.6666666666666666,
              "#ed7953"
             ],
             [
              0.7777777777777778,
              "#fb9f3a"
             ],
             [
              0.8888888888888888,
              "#fdca26"
             ],
             [
              1,
              "#f0f921"
             ]
            ],
            "type": "heatmap"
           }
          ],
          "histogram": [
           {
            "marker": {
             "pattern": {
              "fillmode": "overlay",
              "size": 10,
              "solidity": 0.2
             }
            },
            "type": "histogram"
           }
          ],
          "histogram2d": [
           {
            "colorbar": {
             "outlinewidth": 0,
             "ticks": ""
            },
            "colorscale": [
             [
              0,
              "#0d0887"
             ],
             [
              0.1111111111111111,
              "#46039f"
             ],
             [
              0.2222222222222222,
              "#7201a8"
             ],
             [
              0.3333333333333333,
              "#9c179e"
             ],
             [
              0.4444444444444444,
              "#bd3786"
             ],
             [
              0.5555555555555556,
              "#d8576b"
             ],
             [
              0.6666666666666666,
              "#ed7953"
             ],
             [
              0.7777777777777778,
              "#fb9f3a"
             ],
             [
              0.8888888888888888,
              "#fdca26"
             ],
             [
              1,
              "#f0f921"
             ]
            ],
            "type": "histogram2d"
           }
          ],
          "histogram2dcontour": [
           {
            "colorbar": {
             "outlinewidth": 0,
             "ticks": ""
            },
            "colorscale": [
             [
              0,
              "#0d0887"
             ],
             [
              0.1111111111111111,
              "#46039f"
             ],
             [
              0.2222222222222222,
              "#7201a8"
             ],
             [
              0.3333333333333333,
              "#9c179e"
             ],
             [
              0.4444444444444444,
              "#bd3786"
             ],
             [
              0.5555555555555556,
              "#d8576b"
             ],
             [
              0.6666666666666666,
              "#ed7953"
             ],
             [
              0.7777777777777778,
              "#fb9f3a"
             ],
             [
              0.8888888888888888,
              "#fdca26"
             ],
             [
              1,
              "#f0f921"
             ]
            ],
            "type": "histogram2dcontour"
           }
          ],
          "mesh3d": [
           {
            "colorbar": {
             "outlinewidth": 0,
             "ticks": ""
            },
            "type": "mesh3d"
           }
          ],
          "parcoords": [
           {
            "line": {
             "colorbar": {
              "outlinewidth": 0,
              "ticks": ""
             }
            },
            "type": "parcoords"
           }
          ],
          "pie": [
           {
            "automargin": true,
            "type": "pie"
           }
          ],
          "scatter": [
           {
            "fillpattern": {
             "fillmode": "overlay",
             "size": 10,
             "solidity": 0.2
            },
            "type": "scatter"
           }
          ],
          "scatter3d": [
           {
            "line": {
             "colorbar": {
              "outlinewidth": 0,
              "ticks": ""
             }
            },
            "marker": {
             "colorbar": {
              "outlinewidth": 0,
              "ticks": ""
             }
            },
            "type": "scatter3d"
           }
          ],
          "scattercarpet": [
           {
            "marker": {
             "colorbar": {
              "outlinewidth": 0,
              "ticks": ""
             }
            },
            "type": "scattercarpet"
           }
          ],
          "scattergeo": [
           {
            "marker": {
             "colorbar": {
              "outlinewidth": 0,
              "ticks": ""
             }
            },
            "type": "scattergeo"
           }
          ],
          "scattergl": [
           {
            "marker": {
             "colorbar": {
              "outlinewidth": 0,
              "ticks": ""
             }
            },
            "type": "scattergl"
           }
          ],
          "scattermap": [
           {
            "marker": {
             "colorbar": {
              "outlinewidth": 0,
              "ticks": ""
             }
            },
            "type": "scattermap"
           }
          ],
          "scattermapbox": [
           {
            "marker": {
             "colorbar": {
              "outlinewidth": 0,
              "ticks": ""
             }
            },
            "type": "scattermapbox"
           }
          ],
          "scatterpolar": [
           {
            "marker": {
             "colorbar": {
              "outlinewidth": 0,
              "ticks": ""
             }
            },
            "type": "scatterpolar"
           }
          ],
          "scatterpolargl": [
           {
            "marker": {
             "colorbar": {
              "outlinewidth": 0,
              "ticks": ""
             }
            },
            "type": "scatterpolargl"
           }
          ],
          "scatterternary": [
           {
            "marker": {
             "colorbar": {
              "outlinewidth": 0,
              "ticks": ""
             }
            },
            "type": "scatterternary"
           }
          ],
          "surface": [
           {
            "colorbar": {
             "outlinewidth": 0,
             "ticks": ""
            },
            "colorscale": [
             [
              0,
              "#0d0887"
             ],
             [
              0.1111111111111111,
              "#46039f"
             ],
             [
              0.2222222222222222,
              "#7201a8"
             ],
             [
              0.3333333333333333,
              "#9c179e"
             ],
             [
              0.4444444444444444,
              "#bd3786"
             ],
             [
              0.5555555555555556,
              "#d8576b"
             ],
             [
              0.6666666666666666,
              "#ed7953"
             ],
             [
              0.7777777777777778,
              "#fb9f3a"
             ],
             [
              0.8888888888888888,
              "#fdca26"
             ],
             [
              1,
              "#f0f921"
             ]
            ],
            "type": "surface"
           }
          ],
          "table": [
           {
            "cells": {
             "fill": {
              "color": "#EBF0F8"
             },
             "line": {
              "color": "white"
             }
            },
            "header": {
             "fill": {
              "color": "#C8D4E3"
             },
             "line": {
              "color": "white"
             }
            },
            "type": "table"
           }
          ]
         },
         "layout": {
          "annotationdefaults": {
           "arrowcolor": "#2a3f5f",
           "arrowhead": 0,
           "arrowwidth": 1
          },
          "autotypenumbers": "strict",
          "coloraxis": {
           "colorbar": {
            "outlinewidth": 0,
            "ticks": ""
           }
          },
          "colorscale": {
           "diverging": [
            [
             0,
             "#8e0152"
            ],
            [
             0.1,
             "#c51b7d"
            ],
            [
             0.2,
             "#de77ae"
            ],
            [
             0.3,
             "#f1b6da"
            ],
            [
             0.4,
             "#fde0ef"
            ],
            [
             0.5,
             "#f7f7f7"
            ],
            [
             0.6,
             "#e6f5d0"
            ],
            [
             0.7,
             "#b8e186"
            ],
            [
             0.8,
             "#7fbc41"
            ],
            [
             0.9,
             "#4d9221"
            ],
            [
             1,
             "#276419"
            ]
           ],
           "sequential": [
            [
             0,
             "#0d0887"
            ],
            [
             0.1111111111111111,
             "#46039f"
            ],
            [
             0.2222222222222222,
             "#7201a8"
            ],
            [
             0.3333333333333333,
             "#9c179e"
            ],
            [
             0.4444444444444444,
             "#bd3786"
            ],
            [
             0.5555555555555556,
             "#d8576b"
            ],
            [
             0.6666666666666666,
             "#ed7953"
            ],
            [
             0.7777777777777778,
             "#fb9f3a"
            ],
            [
             0.8888888888888888,
             "#fdca26"
            ],
            [
             1,
             "#f0f921"
            ]
           ],
           "sequentialminus": [
            [
             0,
             "#0d0887"
            ],
            [
             0.1111111111111111,
             "#46039f"
            ],
            [
             0.2222222222222222,
             "#7201a8"
            ],
            [
             0.3333333333333333,
             "#9c179e"
            ],
            [
             0.4444444444444444,
             "#bd3786"
            ],
            [
             0.5555555555555556,
             "#d8576b"
            ],
            [
             0.6666666666666666,
             "#ed7953"
            ],
            [
             0.7777777777777778,
             "#fb9f3a"
            ],
            [
             0.8888888888888888,
             "#fdca26"
            ],
            [
             1,
             "#f0f921"
            ]
           ]
          },
          "colorway": [
           "#636efa",
           "#EF553B",
           "#00cc96",
           "#ab63fa",
           "#FFA15A",
           "#19d3f3",
           "#FF6692",
           "#B6E880",
           "#FF97FF",
           "#FECB52"
          ],
          "font": {
           "color": "#2a3f5f"
          },
          "geo": {
           "bgcolor": "white",
           "lakecolor": "white",
           "landcolor": "#E5ECF6",
           "showlakes": true,
           "showland": true,
           "subunitcolor": "white"
          },
          "hoverlabel": {
           "align": "left"
          },
          "hovermode": "closest",
          "mapbox": {
           "style": "light"
          },
          "paper_bgcolor": "white",
          "plot_bgcolor": "#E5ECF6",
          "polar": {
           "angularaxis": {
            "gridcolor": "white",
            "linecolor": "white",
            "ticks": ""
           },
           "bgcolor": "#E5ECF6",
           "radialaxis": {
            "gridcolor": "white",
            "linecolor": "white",
            "ticks": ""
           }
          },
          "scene": {
           "xaxis": {
            "backgroundcolor": "#E5ECF6",
            "gridcolor": "white",
            "gridwidth": 2,
            "linecolor": "white",
            "showbackground": true,
            "ticks": "",
            "zerolinecolor": "white"
           },
           "yaxis": {
            "backgroundcolor": "#E5ECF6",
            "gridcolor": "white",
            "gridwidth": 2,
            "linecolor": "white",
            "showbackground": true,
            "ticks": "",
            "zerolinecolor": "white"
           },
           "zaxis": {
            "backgroundcolor": "#E5ECF6",
            "gridcolor": "white",
            "gridwidth": 2,
            "linecolor": "white",
            "showbackground": true,
            "ticks": "",
            "zerolinecolor": "white"
           }
          },
          "shapedefaults": {
           "line": {
            "color": "#2a3f5f"
           }
          },
          "ternary": {
           "aaxis": {
            "gridcolor": "white",
            "linecolor": "white",
            "ticks": ""
           },
           "baxis": {
            "gridcolor": "white",
            "linecolor": "white",
            "ticks": ""
           },
           "bgcolor": "#E5ECF6",
           "caxis": {
            "gridcolor": "white",
            "linecolor": "white",
            "ticks": ""
           }
          },
          "title": {
           "x": 0.05
          },
          "xaxis": {
           "automargin": true,
           "gridcolor": "white",
           "linecolor": "white",
           "ticks": "",
           "title": {
            "standoff": 15
           },
           "zerolinecolor": "white",
           "zerolinewidth": 2
          },
          "yaxis": {
           "automargin": true,
           "gridcolor": "white",
           "linecolor": "white",
           "ticks": "",
           "title": {
            "standoff": 15
           },
           "zerolinecolor": "white",
           "zerolinewidth": 2
          }
         }
        },
        "title": {
         "text": "Campaign Simulation Metrics (IQL)"
        },
        "width": 1100,
        "xaxis": {
         "anchor": "y",
         "domain": [
          0,
          0.41
         ],
         "matches": "x5",
         "showticklabels": false
        },
        "xaxis2": {
         "anchor": "y2",
         "domain": [
          0.53,
          0.94
         ],
         "matches": "x6",
         "showticklabels": false
        },
        "xaxis3": {
         "anchor": "y3",
         "domain": [
          0,
          0.41
         ],
         "matches": "x5",
         "showticklabels": false
        },
        "xaxis4": {
         "anchor": "y5",
         "domain": [
          0.53,
          0.94
         ],
         "matches": "x6",
         "showticklabels": false
        },
        "xaxis5": {
         "anchor": "y7",
         "domain": [
          0,
          0.41
         ],
         "title": {
          "standoff": 6,
          "text": "Timestep"
         }
        },
        "xaxis6": {
         "anchor": "y9",
         "domain": [
          0.53,
          0.94
         ],
         "title": {
          "standoff": 6,
          "text": "Timestep"
         }
        },
        "yaxis": {
         "anchor": "x",
         "domain": [
          0.8025,
          1
         ],
         "title": {
          "text": "Spend"
         }
        },
        "yaxis10": {
         "anchor": "x6",
         "overlaying": "y9",
         "rangemode": "tozero",
         "showgrid": false,
         "side": "right",
         "title": {
          "standoff": 8,
          "text": "Bid Premium (%)"
         }
        },
        "yaxis2": {
         "anchor": "x2",
         "domain": [
          0.8025,
          1
         ],
         "title": {
          "text": "CPA"
         }
        },
        "yaxis3": {
         "anchor": "x3",
         "domain": [
          0.535,
          0.7325
         ],
         "title": {
          "text": "Average Bid"
         }
        },
        "yaxis4": {
         "anchor": "x3",
         "overlaying": "y3",
         "side": "right",
         "title": {
          "text": "Avg Auction Price"
         }
        },
        "yaxis5": {
         "anchor": "x4",
         "domain": [
          0.535,
          0.7325
         ],
         "range": [
          0,
          0.4464998669150919
         ],
         "rangemode": "tozero",
         "showgrid": true,
         "title": {
          "text": "Win Rate"
         }
        },
        "yaxis6": {
         "anchor": "x4",
         "overlaying": "y5",
         "range": [
          0,
          0.0012348496572480994
         ],
         "rangemode": "tozero",
         "showgrid": false,
         "side": "right",
         "title": {
          "standoff": 8,
          "text": "Value"
         }
        },
        "yaxis7": {
         "anchor": "x5",
         "domain": [
          0.2675,
          0.465
         ],
         "range": [
          0,
          20.900000000000002
         ],
         "rangemode": "tozero",
         "showgrid": true,
         "title": {
          "standoff": 8,
          "text": "Cumulative Conversions"
         }
        },
        "yaxis8": {
         "anchor": "x5",
         "overlaying": "y7",
         "range": [
          0,
          24649.9
         ],
         "rangemode": "tozero",
         "showgrid": false,
         "side": "right",
         "title": {
          "standoff": 8,
          "text": "Traffic Volume"
         }
        },
        "yaxis9": {
         "anchor": "x6",
         "domain": [
          0.2675,
          0.465
         ],
         "rangemode": "tozero",
         "showgrid": true,
         "title": {
          "text": "Alpha"
         }
        }
       }
      }
     },
     "metadata": {},
     "output_type": "display_data"
    },
    {
     "data": {
      "application/vnd.plotly.v1+json": {
       "config": {
        "plotlyServerURL": "https://plot.ly"
       },
       "data": [
        {
         "marker": {
          "opacity": 0.6,
          "size": 5
         },
         "mode": "markers",
         "name": "avg_bids vs avg_auction_price",
         "showlegend": false,
         "type": "scatter",
         "x": {
          "bdata": "+0fg0Jxnqz9IDTA1xqSsP8Iz5uF4xq8/HXdh+bnWrz/Z1Ffa8zmuP10w46d7Pa0/1Lepc95XrT9LDA4T6RGuPzjWs6x08Lk/t/HkLdVquj/lWni63bm7P+Aa75zNQrw/AnT1deYjuT9M91LSMVO3P1dawP8ZsbY/f9Wk3SUetT/piUkq0yCaP62IJGVdEJk/lWlp/NzymD9sTvVBIqSWPwcN8Eq/+JY/iG2PKDxnlj+KJJlUU9GVPxsxarJLx5c/ICEMaP1BrD/2yPhGOi2uP69sTk4oYq0/27QBJw1Prj9hICzRUnCvP6jqnUjBO68/+AgYWpRArT8CTMhMABqsP2dPTN9KbZI/wi8I7GPckD8SvMm1gx2RP3eB0ZO1i5E/0Au+QT/3kD9Bm+y6XYyRP5TAtDVX/ZE/LfH99TW5kT9doiLfhBitPwJG1LL0qas/pH5eH7EVqz9nz4jTBd2nPwmPxg/ba6w/AAAAAAAAAAAAAAAAAAAAAAAAAAAAAAAA",
          "dtype": "f8"
         },
         "xaxis": "x",
         "y": {
          "bdata": "Tca6pHzHvz+muy0laWu+PwQiSEeg4r0/+AuiX22Ivz+dU5HGJva/P/6F7QI9ScA//5sBKs/VwD//inVJXUjBP4NvfBK+zsA/wumgFZAOwT83WCwe60fBP+qLyHMYV74/JIP5qMx0vT8nXFasJZW9P8X7Bjz2Wbw/dzDb4hj2uz/UfRxH5kLAP2rhG35DUro/VDaT0hICtz/goR581l23P9LMHvBOH7c/adffULN4tT+eDbqhy8e0PzZLxQPbCLQ/KTf2OrsYtj+Tw+BB0ji0P0KgygEIxLI/81G9jFF4sz9R6ouz5VqzPwT7zUdGc7I/fn9u6c07sT/AGWcbh9uwPwpEOj7Az70/NN8X/5iOuT9rmIquVd61P9F5fMGH9bM/8zrZYDI3sj9DKZR1gMWxPxuOLjTCLbI/p8TymS+Isj89spdEgOe7P+1Y7Psu6bY/TYMBHteCtD+5Us8rNNmyP5+OKotGnbE/Z4DaTggEsT/zQmoFBmWxP/ebJM2QibA/",
          "dtype": "f8"
         },
         "yaxis": "y"
        },
        {
         "marker": {
          "opacity": 0.6,
          "size": 5
         },
         "mode": "markers",
         "name": "avg_bids vs win_rates",
         "showlegend": false,
         "type": "scatter",
         "x": {
          "bdata": "+0fg0Jxnqz9IDTA1xqSsP8Iz5uF4xq8/HXdh+bnWrz/Z1Ffa8zmuP10w46d7Pa0/1Lepc95XrT9LDA4T6RGuPzjWs6x08Lk/t/HkLdVquj/lWni63bm7P+Aa75zNQrw/AnT1deYjuT9M91LSMVO3P1dawP8ZsbY/f9Wk3SUetT/piUkq0yCaP62IJGVdEJk/lWlp/NzymD9sTvVBIqSWPwcN8Eq/+JY/iG2PKDxnlj+KJJlUU9GVPxsxarJLx5c/ICEMaP1BrD/2yPhGOi2uP69sTk4oYq0/27QBJw1Prj9hICzRUnCvP6jqnUjBO68/+AgYWpRArT8CTMhMABqsP2dPTN9KbZI/wi8I7GPckD8SvMm1gx2RP3eB0ZO1i5E/0Au+QT/3kD9Bm+y6XYyRP5TAtDVX/ZE/LfH99TW5kT9doiLfhBitPwJG1LL0qas/pH5eH7EVqz9nz4jTBd2nPwmPxg/ba6w/AAAAAAAAAAAAAAAAAAAAAAAAAAAAAAAA",
          "dtype": "f8"
         },
         "xaxis": "x2",
         "y": {
          "bdata": "ifuZv60VdD/KOGNfCURbP+W85t3P9YM/Pc/zPM/zpD99k2vrebWCP0NSpnTjxGw/FK82yNSjcT85FLFfUp97P7fcQbhSIcc/92i7AQlixz+Zvd3s5JXSP2Itvp1p+tk/VVVVVVVV1T8Xy6q22xHMP+FmBDaT7dI/HGX3G2X3yz8AAAAAAAAAAAAAAAAAAAAAAAAAAAAAAAAAAAAAAAAAAAAAAAAAAAAA14eR45d3Cj+aR77xHPQJPwAAAAAAAAAAWuTKgQgksz+DSS06VvHNPyfeRhWHZcw/UCpYvDL4xT/yVgWXGcrSP/0Nul0rJ9Q/U0G9BCR4xz9ua/YOU9rRPwAAAAAAAAAAAAAAAAAAAAAAAAAAAAAAAAAAAAAAAAAAAAAAAAAAAAAAAAAAAAAAAAAAAAAAAAAAAAAAAAAAAAAnwlXx+VCmP3d3d3d3d6M/DtbdkJ+luD+CZRfK6SCYP3YdPKfhHL0/AAAAAAAAAAAAAAAAAAAAAAAAAAAAAAAA",
          "dtype": "f8"
         },
         "yaxis": "y2"
        },
        {
         "marker": {
          "opacity": 0.6,
          "size": 5
         },
         "mode": "markers",
         "name": "avg_bids vs costs",
         "showlegend": false,
         "type": "scatter",
         "x": {
          "bdata": "+0fg0Jxnqz9IDTA1xqSsP8Iz5uF4xq8/HXdh+bnWrz/Z1Ffa8zmuP10w46d7Pa0/1Lepc95XrT9LDA4T6RGuPzjWs6x08Lk/t/HkLdVquj/lWni63bm7P+Aa75zNQrw/AnT1deYjuT9M91LSMVO3P1dawP8ZsbY/f9Wk3SUetT/piUkq0yCaP62IJGVdEJk/lWlp/NzymD9sTvVBIqSWPwcN8Eq/+JY/iG2PKDxnlj+KJJlUU9GVPxsxarJLx5c/ICEMaP1BrD/2yPhGOi2uP69sTk4oYq0/27QBJw1Prj9hICzRUnCvP6jqnUjBO68/+AgYWpRArT8CTMhMABqsP2dPTN9KbZI/wi8I7GPckD8SvMm1gx2RP3eB0ZO1i5E/0Au+QT/3kD9Bm+y6XYyRP5TAtDVX/ZE/LfH99TW5kT9doiLfhBitPwJG1LL0qas/pH5eH7EVqz9nz4jTBd2nPwmPxg/ba6w/AAAAAAAAAAAAAAAAAAAAAAAAAAAAAAAA",
          "dtype": "f8"
         },
         "xaxis": "x3",
         "y": {
          "bdata": "nrattX+TC0C8Ng3tQpTlP2duZbPK1gtAvcW8cplVIEBAqkwfhknpPyWsXxNbK8E/yS/Iglis1z++M4s0SNTePyBl//bRSDdARCtBZlJmPEB2ryF6SbldQAhdTIhkR2VAyhUAup4ua0BB25iIyqJcQBBYAajJSXBAEsVytuNKY0AAAAAAAAAAAAAAAAAAAAAAAAAAAAAAAAAAAAAAAAAAAAAAAAAAAAAAmIXQ09BBsD88/KHgzAGsPwAAAAAAAAAAhdUrvrIOSUBC3WwtQP9mQGu969V8bGZAL5SOzVazWEDZIlv0CudvQB974b+VJ25ATjox+ZUpW0Bb3ldt9lRnQAAAAAAAAAAAAAAAAAAAAAAAAAAAAAAAAAAAAAAAAAAAAAAAAAAAAAAAAAAAAAAAAAAAAAAAAAAAAAAAAAAAAACyA0pcshBHQAlNSJ4ldUBAYRqyMAuKWUDXY0fAGXMwQNoXAfVgbUVAAAAAAAAAAAAAAAAAAAAAAAAAAAAAAAAA",
          "dtype": "f8"
         },
         "yaxis": "y3"
        },
        {
         "marker": {
          "opacity": 0.6,
          "size": 5
         },
         "mode": "markers",
         "name": "avg_auction_price vs win_rates",
         "showlegend": false,
         "type": "scatter",
         "x": {
          "bdata": "Tca6pHzHvz+muy0laWu+PwQiSEeg4r0/+AuiX22Ivz+dU5HGJva/P/6F7QI9ScA//5sBKs/VwD//inVJXUjBP4NvfBK+zsA/wumgFZAOwT83WCwe60fBP+qLyHMYV74/JIP5qMx0vT8nXFasJZW9P8X7Bjz2Wbw/dzDb4hj2uz/UfRxH5kLAP2rhG35DUro/VDaT0hICtz/goR581l23P9LMHvBOH7c/adffULN4tT+eDbqhy8e0PzZLxQPbCLQ/KTf2OrsYtj+Tw+BB0ji0P0KgygEIxLI/81G9jFF4sz9R6ouz5VqzPwT7zUdGc7I/fn9u6c07sT/AGWcbh9uwPwpEOj7Az70/NN8X/5iOuT9rmIquVd61P9F5fMGH9bM/8zrZYDI3sj9DKZR1gMWxPxuOLjTCLbI/p8TymS+Isj89spdEgOe7P+1Y7Psu6bY/TYMBHteCtD+5Us8rNNmyP5+OKotGnbE/Z4DaTggEsT/zQmoFBmWxP/ebJM2QibA/",
          "dtype": "f8"
         },
         "xaxis": "x4",
         "y": {
          "bdata": "ifuZv60VdD/KOGNfCURbP+W85t3P9YM/Pc/zPM/zpD99k2vrebWCP0NSpnTjxGw/FK82yNSjcT85FLFfUp97P7fcQbhSIcc/92i7AQlixz+Zvd3s5JXSP2Itvp1p+tk/VVVVVVVV1T8Xy6q22xHMP+FmBDaT7dI/HGX3G2X3yz8AAAAAAAAAAAAAAAAAAAAAAAAAAAAAAAAAAAAAAAAAAAAAAAAAAAAA14eR45d3Cj+aR77xHPQJPwAAAAAAAAAAWuTKgQgksz+DSS06VvHNPyfeRhWHZcw/UCpYvDL4xT/yVgWXGcrSP/0Nul0rJ9Q/U0G9BCR4xz9ua/YOU9rRPwAAAAAAAAAAAAAAAAAAAAAAAAAAAAAAAAAAAAAAAAAAAAAAAAAAAAAAAAAAAAAAAAAAAAAAAAAAAAAAAAAAAAAnwlXx+VCmP3d3d3d3d6M/DtbdkJ+luD+CZRfK6SCYP3YdPKfhHL0/AAAAAAAAAAAAAAAAAAAAAAAAAAAAAAAA",
          "dtype": "f8"
         },
         "yaxis": "y4"
        },
        {
         "marker": {
          "opacity": 0.6,
          "size": 5
         },
         "mode": "markers",
         "name": "avg_auction_price vs costs",
         "showlegend": false,
         "type": "scatter",
         "x": {
          "bdata": "Tca6pHzHvz+muy0laWu+PwQiSEeg4r0/+AuiX22Ivz+dU5HGJva/P/6F7QI9ScA//5sBKs/VwD//inVJXUjBP4NvfBK+zsA/wumgFZAOwT83WCwe60fBP+qLyHMYV74/JIP5qMx0vT8nXFasJZW9P8X7Bjz2Wbw/dzDb4hj2uz/UfRxH5kLAP2rhG35DUro/VDaT0hICtz/goR581l23P9LMHvBOH7c/adffULN4tT+eDbqhy8e0PzZLxQPbCLQ/KTf2OrsYtj+Tw+BB0ji0P0KgygEIxLI/81G9jFF4sz9R6ouz5VqzPwT7zUdGc7I/fn9u6c07sT/AGWcbh9uwPwpEOj7Az70/NN8X/5iOuT9rmIquVd61P9F5fMGH9bM/8zrZYDI3sj9DKZR1gMWxPxuOLjTCLbI/p8TymS+Isj89spdEgOe7P+1Y7Psu6bY/TYMBHteCtD+5Us8rNNmyP5+OKotGnbE/Z4DaTggEsT/zQmoFBmWxP/ebJM2QibA/",
          "dtype": "f8"
         },
         "xaxis": "x5",
         "y": {
          "bdata": "nrattX+TC0C8Ng3tQpTlP2duZbPK1gtAvcW8cplVIEBAqkwfhknpPyWsXxNbK8E/yS/Iglis1z++M4s0SNTePyBl//bRSDdARCtBZlJmPEB2ryF6SbldQAhdTIhkR2VAyhUAup4ua0BB25iIyqJcQBBYAajJSXBAEsVytuNKY0AAAAAAAAAAAAAAAAAAAAAAAAAAAAAAAAAAAAAAAAAAAAAAAAAAAAAAmIXQ09BBsD88/KHgzAGsPwAAAAAAAAAAhdUrvrIOSUBC3WwtQP9mQGu969V8bGZAL5SOzVazWEDZIlv0CudvQB974b+VJ25ATjox+ZUpW0Bb3ldt9lRnQAAAAAAAAAAAAAAAAAAAAAAAAAAAAAAAAAAAAAAAAAAAAAAAAAAAAAAAAAAAAAAAAAAAAAAAAAAAAAAAAAAAAACyA0pcshBHQAlNSJ4ldUBAYRqyMAuKWUDXY0fAGXMwQNoXAfVgbUVAAAAAAAAAAAAAAAAAAAAAAAAAAAAAAAAA",
          "dtype": "f8"
         },
         "yaxis": "y5"
        },
        {
         "marker": {
          "opacity": 0.6,
          "size": 5
         },
         "mode": "markers",
         "name": "win_rates vs costs",
         "showlegend": false,
         "type": "scatter",
         "x": {
          "bdata": "ifuZv60VdD/KOGNfCURbP+W85t3P9YM/Pc/zPM/zpD99k2vrebWCP0NSpnTjxGw/FK82yNSjcT85FLFfUp97P7fcQbhSIcc/92i7AQlixz+Zvd3s5JXSP2Itvp1p+tk/VVVVVVVV1T8Xy6q22xHMP+FmBDaT7dI/HGX3G2X3yz8AAAAAAAAAAAAAAAAAAAAAAAAAAAAAAAAAAAAAAAAAAAAAAAAAAAAA14eR45d3Cj+aR77xHPQJPwAAAAAAAAAAWuTKgQgksz+DSS06VvHNPyfeRhWHZcw/UCpYvDL4xT/yVgWXGcrSP/0Nul0rJ9Q/U0G9BCR4xz9ua/YOU9rRPwAAAAAAAAAAAAAAAAAAAAAAAAAAAAAAAAAAAAAAAAAAAAAAAAAAAAAAAAAAAAAAAAAAAAAAAAAAAAAAAAAAAAAnwlXx+VCmP3d3d3d3d6M/DtbdkJ+luD+CZRfK6SCYP3YdPKfhHL0/AAAAAAAAAAAAAAAAAAAAAAAAAAAAAAAA",
          "dtype": "f8"
         },
         "xaxis": "x6",
         "y": {
          "bdata": "nrattX+TC0C8Ng3tQpTlP2duZbPK1gtAvcW8cplVIEBAqkwfhknpPyWsXxNbK8E/yS/Iglis1z++M4s0SNTePyBl//bRSDdARCtBZlJmPEB2ryF6SbldQAhdTIhkR2VAyhUAup4ua0BB25iIyqJcQBBYAajJSXBAEsVytuNKY0AAAAAAAAAAAAAAAAAAAAAAAAAAAAAAAAAAAAAAAAAAAAAAAAAAAAAAmIXQ09BBsD88/KHgzAGsPwAAAAAAAAAAhdUrvrIOSUBC3WwtQP9mQGu969V8bGZAL5SOzVazWEDZIlv0CudvQB974b+VJ25ATjox+ZUpW0Bb3ldt9lRnQAAAAAAAAAAAAAAAAAAAAAAAAAAAAAAAAAAAAAAAAAAAAAAAAAAAAAAAAAAAAAAAAAAAAAAAAAAAAAAAAAAAAACyA0pcshBHQAlNSJ4ldUBAYRqyMAuKWUDXY0fAGXMwQNoXAfVgbUVAAAAAAAAAAAAAAAAAAAAAAAAAAAAAAAAA",
          "dtype": "f8"
         },
         "yaxis": "y6"
        }
       ],
       "layout": {
        "annotations": [
         {
          "font": {
           "size": 16
          },
          "showarrow": false,
          "text": "avg_bids vs avg_auction_price",
          "x": 0.14444444444444446,
          "xanchor": "center",
          "xref": "paper",
          "y": 1,
          "yanchor": "bottom",
          "yref": "paper"
         },
         {
          "font": {
           "size": 16
          },
          "showarrow": false,
          "text": "avg_bids vs win_rates",
          "x": 0.5,
          "xanchor": "center",
          "xref": "paper",
          "y": 1,
          "yanchor": "bottom",
          "yref": "paper"
         },
         {
          "font": {
           "size": 16
          },
          "showarrow": false,
          "text": "avg_bids vs costs",
          "x": 0.8555555555555556,
          "xanchor": "center",
          "xref": "paper",
          "y": 1,
          "yanchor": "bottom",
          "yref": "paper"
         },
         {
          "font": {
           "size": 16
          },
          "showarrow": false,
          "text": "avg_auction_price vs win_rates",
          "x": 0.14444444444444446,
          "xanchor": "center",
          "xref": "paper",
          "y": 0.375,
          "yanchor": "bottom",
          "yref": "paper"
         },
         {
          "font": {
           "size": 16
          },
          "showarrow": false,
          "text": "avg_auction_price vs costs",
          "x": 0.5,
          "xanchor": "center",
          "xref": "paper",
          "y": 0.375,
          "yanchor": "bottom",
          "yref": "paper"
         },
         {
          "font": {
           "size": 16
          },
          "showarrow": false,
          "text": "win_rates vs costs",
          "x": 0.8555555555555556,
          "xanchor": "center",
          "xref": "paper",
          "y": 0.375,
          "yanchor": "bottom",
          "yref": "paper"
         }
        ],
        "height": 600,
        "template": {
         "data": {
          "bar": [
           {
            "error_x": {
             "color": "#2a3f5f"
            },
            "error_y": {
             "color": "#2a3f5f"
            },
            "marker": {
             "line": {
              "color": "#E5ECF6",
              "width": 0.5
             },
             "pattern": {
              "fillmode": "overlay",
              "size": 10,
              "solidity": 0.2
             }
            },
            "type": "bar"
           }
          ],
          "barpolar": [
           {
            "marker": {
             "line": {
              "color": "#E5ECF6",
              "width": 0.5
             },
             "pattern": {
              "fillmode": "overlay",
              "size": 10,
              "solidity": 0.2
             }
            },
            "type": "barpolar"
           }
          ],
          "carpet": [
           {
            "aaxis": {
             "endlinecolor": "#2a3f5f",
             "gridcolor": "white",
             "linecolor": "white",
             "minorgridcolor": "white",
             "startlinecolor": "#2a3f5f"
            },
            "baxis": {
             "endlinecolor": "#2a3f5f",
             "gridcolor": "white",
             "linecolor": "white",
             "minorgridcolor": "white",
             "startlinecolor": "#2a3f5f"
            },
            "type": "carpet"
           }
          ],
          "choropleth": [
           {
            "colorbar": {
             "outlinewidth": 0,
             "ticks": ""
            },
            "type": "choropleth"
           }
          ],
          "contour": [
           {
            "colorbar": {
             "outlinewidth": 0,
             "ticks": ""
            },
            "colorscale": [
             [
              0,
              "#0d0887"
             ],
             [
              0.1111111111111111,
              "#46039f"
             ],
             [
              0.2222222222222222,
              "#7201a8"
             ],
             [
              0.3333333333333333,
              "#9c179e"
             ],
             [
              0.4444444444444444,
              "#bd3786"
             ],
             [
              0.5555555555555556,
              "#d8576b"
             ],
             [
              0.6666666666666666,
              "#ed7953"
             ],
             [
              0.7777777777777778,
              "#fb9f3a"
             ],
             [
              0.8888888888888888,
              "#fdca26"
             ],
             [
              1,
              "#f0f921"
             ]
            ],
            "type": "contour"
           }
          ],
          "contourcarpet": [
           {
            "colorbar": {
             "outlinewidth": 0,
             "ticks": ""
            },
            "type": "contourcarpet"
           }
          ],
          "heatmap": [
           {
            "colorbar": {
             "outlinewidth": 0,
             "ticks": ""
            },
            "colorscale": [
             [
              0,
              "#0d0887"
             ],
             [
              0.1111111111111111,
              "#46039f"
             ],
             [
              0.2222222222222222,
              "#7201a8"
             ],
             [
              0.3333333333333333,
              "#9c179e"
             ],
             [
              0.4444444444444444,
              "#bd3786"
             ],
             [
              0.5555555555555556,
              "#d8576b"
             ],
             [
              0.6666666666666666,
              "#ed7953"
             ],
             [
              0.7777777777777778,
              "#fb9f3a"
             ],
             [
              0.8888888888888888,
              "#fdca26"
             ],
             [
              1,
              "#f0f921"
             ]
            ],
            "type": "heatmap"
           }
          ],
          "histogram": [
           {
            "marker": {
             "pattern": {
              "fillmode": "overlay",
              "size": 10,
              "solidity": 0.2
             }
            },
            "type": "histogram"
           }
          ],
          "histogram2d": [
           {
            "colorbar": {
             "outlinewidth": 0,
             "ticks": ""
            },
            "colorscale": [
             [
              0,
              "#0d0887"
             ],
             [
              0.1111111111111111,
              "#46039f"
             ],
             [
              0.2222222222222222,
              "#7201a8"
             ],
             [
              0.3333333333333333,
              "#9c179e"
             ],
             [
              0.4444444444444444,
              "#bd3786"
             ],
             [
              0.5555555555555556,
              "#d8576b"
             ],
             [
              0.6666666666666666,
              "#ed7953"
             ],
             [
              0.7777777777777778,
              "#fb9f3a"
             ],
             [
              0.8888888888888888,
              "#fdca26"
             ],
             [
              1,
              "#f0f921"
             ]
            ],
            "type": "histogram2d"
           }
          ],
          "histogram2dcontour": [
           {
            "colorbar": {
             "outlinewidth": 0,
             "ticks": ""
            },
            "colorscale": [
             [
              0,
              "#0d0887"
             ],
             [
              0.1111111111111111,
              "#46039f"
             ],
             [
              0.2222222222222222,
              "#7201a8"
             ],
             [
              0.3333333333333333,
              "#9c179e"
             ],
             [
              0.4444444444444444,
              "#bd3786"
             ],
             [
              0.5555555555555556,
              "#d8576b"
             ],
             [
              0.6666666666666666,
              "#ed7953"
             ],
             [
              0.7777777777777778,
              "#fb9f3a"
             ],
             [
              0.8888888888888888,
              "#fdca26"
             ],
             [
              1,
              "#f0f921"
             ]
            ],
            "type": "histogram2dcontour"
           }
          ],
          "mesh3d": [
           {
            "colorbar": {
             "outlinewidth": 0,
             "ticks": ""
            },
            "type": "mesh3d"
           }
          ],
          "parcoords": [
           {
            "line": {
             "colorbar": {
              "outlinewidth": 0,
              "ticks": ""
             }
            },
            "type": "parcoords"
           }
          ],
          "pie": [
           {
            "automargin": true,
            "type": "pie"
           }
          ],
          "scatter": [
           {
            "fillpattern": {
             "fillmode": "overlay",
             "size": 10,
             "solidity": 0.2
            },
            "type": "scatter"
           }
          ],
          "scatter3d": [
           {
            "line": {
             "colorbar": {
              "outlinewidth": 0,
              "ticks": ""
             }
            },
            "marker": {
             "colorbar": {
              "outlinewidth": 0,
              "ticks": ""
             }
            },
            "type": "scatter3d"
           }
          ],
          "scattercarpet": [
           {
            "marker": {
             "colorbar": {
              "outlinewidth": 0,
              "ticks": ""
             }
            },
            "type": "scattercarpet"
           }
          ],
          "scattergeo": [
           {
            "marker": {
             "colorbar": {
              "outlinewidth": 0,
              "ticks": ""
             }
            },
            "type": "scattergeo"
           }
          ],
          "scattergl": [
           {
            "marker": {
             "colorbar": {
              "outlinewidth": 0,
              "ticks": ""
             }
            },
            "type": "scattergl"
           }
          ],
          "scattermap": [
           {
            "marker": {
             "colorbar": {
              "outlinewidth": 0,
              "ticks": ""
             }
            },
            "type": "scattermap"
           }
          ],
          "scattermapbox": [
           {
            "marker": {
             "colorbar": {
              "outlinewidth": 0,
              "ticks": ""
             }
            },
            "type": "scattermapbox"
           }
          ],
          "scatterpolar": [
           {
            "marker": {
             "colorbar": {
              "outlinewidth": 0,
              "ticks": ""
             }
            },
            "type": "scatterpolar"
           }
          ],
          "scatterpolargl": [
           {
            "marker": {
             "colorbar": {
              "outlinewidth": 0,
              "ticks": ""
             }
            },
            "type": "scatterpolargl"
           }
          ],
          "scatterternary": [
           {
            "marker": {
             "colorbar": {
              "outlinewidth": 0,
              "ticks": ""
             }
            },
            "type": "scatterternary"
           }
          ],
          "surface": [
           {
            "colorbar": {
             "outlinewidth": 0,
             "ticks": ""
            },
            "colorscale": [
             [
              0,
              "#0d0887"
             ],
             [
              0.1111111111111111,
              "#46039f"
             ],
             [
              0.2222222222222222,
              "#7201a8"
             ],
             [
              0.3333333333333333,
              "#9c179e"
             ],
             [
              0.4444444444444444,
              "#bd3786"
             ],
             [
              0.5555555555555556,
              "#d8576b"
             ],
             [
              0.6666666666666666,
              "#ed7953"
             ],
             [
              0.7777777777777778,
              "#fb9f3a"
             ],
             [
              0.8888888888888888,
              "#fdca26"
             ],
             [
              1,
              "#f0f921"
             ]
            ],
            "type": "surface"
           }
          ],
          "table": [
           {
            "cells": {
             "fill": {
              "color": "#EBF0F8"
             },
             "line": {
              "color": "white"
             }
            },
            "header": {
             "fill": {
              "color": "#C8D4E3"
             },
             "line": {
              "color": "white"
             }
            },
            "type": "table"
           }
          ]
         },
         "layout": {
          "annotationdefaults": {
           "arrowcolor": "#2a3f5f",
           "arrowhead": 0,
           "arrowwidth": 1
          },
          "autotypenumbers": "strict",
          "coloraxis": {
           "colorbar": {
            "outlinewidth": 0,
            "ticks": ""
           }
          },
          "colorscale": {
           "diverging": [
            [
             0,
             "#8e0152"
            ],
            [
             0.1,
             "#c51b7d"
            ],
            [
             0.2,
             "#de77ae"
            ],
            [
             0.3,
             "#f1b6da"
            ],
            [
             0.4,
             "#fde0ef"
            ],
            [
             0.5,
             "#f7f7f7"
            ],
            [
             0.6,
             "#e6f5d0"
            ],
            [
             0.7,
             "#b8e186"
            ],
            [
             0.8,
             "#7fbc41"
            ],
            [
             0.9,
             "#4d9221"
            ],
            [
             1,
             "#276419"
            ]
           ],
           "sequential": [
            [
             0,
             "#0d0887"
            ],
            [
             0.1111111111111111,
             "#46039f"
            ],
            [
             0.2222222222222222,
             "#7201a8"
            ],
            [
             0.3333333333333333,
             "#9c179e"
            ],
            [
             0.4444444444444444,
             "#bd3786"
            ],
            [
             0.5555555555555556,
             "#d8576b"
            ],
            [
             0.6666666666666666,
             "#ed7953"
            ],
            [
             0.7777777777777778,
             "#fb9f3a"
            ],
            [
             0.8888888888888888,
             "#fdca26"
            ],
            [
             1,
             "#f0f921"
            ]
           ],
           "sequentialminus": [
            [
             0,
             "#0d0887"
            ],
            [
             0.1111111111111111,
             "#46039f"
            ],
            [
             0.2222222222222222,
             "#7201a8"
            ],
            [
             0.3333333333333333,
             "#9c179e"
            ],
            [
             0.4444444444444444,
             "#bd3786"
            ],
            [
             0.5555555555555556,
             "#d8576b"
            ],
            [
             0.6666666666666666,
             "#ed7953"
            ],
            [
             0.7777777777777778,
             "#fb9f3a"
            ],
            [
             0.8888888888888888,
             "#fdca26"
            ],
            [
             1,
             "#f0f921"
            ]
           ]
          },
          "colorway": [
           "#636efa",
           "#EF553B",
           "#00cc96",
           "#ab63fa",
           "#FFA15A",
           "#19d3f3",
           "#FF6692",
           "#B6E880",
           "#FF97FF",
           "#FECB52"
          ],
          "font": {
           "color": "#2a3f5f"
          },
          "geo": {
           "bgcolor": "white",
           "lakecolor": "white",
           "landcolor": "#E5ECF6",
           "showlakes": true,
           "showland": true,
           "subunitcolor": "white"
          },
          "hoverlabel": {
           "align": "left"
          },
          "hovermode": "closest",
          "mapbox": {
           "style": "light"
          },
          "paper_bgcolor": "white",
          "plot_bgcolor": "#E5ECF6",
          "polar": {
           "angularaxis": {
            "gridcolor": "white",
            "linecolor": "white",
            "ticks": ""
           },
           "bgcolor": "#E5ECF6",
           "radialaxis": {
            "gridcolor": "white",
            "linecolor": "white",
            "ticks": ""
           }
          },
          "scene": {
           "xaxis": {
            "backgroundcolor": "#E5ECF6",
            "gridcolor": "white",
            "gridwidth": 2,
            "linecolor": "white",
            "showbackground": true,
            "ticks": "",
            "zerolinecolor": "white"
           },
           "yaxis": {
            "backgroundcolor": "#E5ECF6",
            "gridcolor": "white",
            "gridwidth": 2,
            "linecolor": "white",
            "showbackground": true,
            "ticks": "",
            "zerolinecolor": "white"
           },
           "zaxis": {
            "backgroundcolor": "#E5ECF6",
            "gridcolor": "white",
            "gridwidth": 2,
            "linecolor": "white",
            "showbackground": true,
            "ticks": "",
            "zerolinecolor": "white"
           }
          },
          "shapedefaults": {
           "line": {
            "color": "#2a3f5f"
           }
          },
          "ternary": {
           "aaxis": {
            "gridcolor": "white",
            "linecolor": "white",
            "ticks": ""
           },
           "baxis": {
            "gridcolor": "white",
            "linecolor": "white",
            "ticks": ""
           },
           "bgcolor": "#E5ECF6",
           "caxis": {
            "gridcolor": "white",
            "linecolor": "white",
            "ticks": ""
           }
          },
          "title": {
           "x": 0.05
          },
          "xaxis": {
           "automargin": true,
           "gridcolor": "white",
           "linecolor": "white",
           "ticks": "",
           "title": {
            "standoff": 15
           },
           "zerolinecolor": "white",
           "zerolinewidth": 2
          },
          "yaxis": {
           "automargin": true,
           "gridcolor": "white",
           "linecolor": "white",
           "ticks": "",
           "title": {
            "standoff": 15
           },
           "zerolinecolor": "white",
           "zerolinewidth": 2
          }
         }
        },
        "title": {
         "text": "Pairwise Scatterplots of Key Auction Metrics (Unique Pairs)"
        },
        "width": 1050,
        "xaxis": {
         "anchor": "y",
         "domain": [
          0,
          0.2888888888888889
         ],
         "title": {
          "text": "avg_bids"
         }
        },
        "xaxis2": {
         "anchor": "y2",
         "domain": [
          0.35555555555555557,
          0.6444444444444445
         ],
         "title": {
          "text": "avg_bids"
         }
        },
        "xaxis3": {
         "anchor": "y3",
         "domain": [
          0.7111111111111111,
          1
         ],
         "title": {
          "text": "avg_bids"
         }
        },
        "xaxis4": {
         "anchor": "y4",
         "domain": [
          0,
          0.2888888888888889
         ],
         "title": {
          "text": "avg_auction_price"
         }
        },
        "xaxis5": {
         "anchor": "y5",
         "domain": [
          0.35555555555555557,
          0.6444444444444445
         ],
         "title": {
          "text": "avg_auction_price"
         }
        },
        "xaxis6": {
         "anchor": "y6",
         "domain": [
          0.7111111111111111,
          1
         ],
         "title": {
          "text": "win_rates"
         }
        },
        "yaxis": {
         "anchor": "x",
         "domain": [
          0.625,
          1
         ],
         "title": {
          "text": "avg_auction_price"
         }
        },
        "yaxis2": {
         "anchor": "x2",
         "domain": [
          0.625,
          1
         ],
         "title": {
          "text": "win_rates"
         }
        },
        "yaxis3": {
         "anchor": "x3",
         "domain": [
          0.625,
          1
         ],
         "title": {
          "text": "costs"
         }
        },
        "yaxis4": {
         "anchor": "x4",
         "domain": [
          0,
          0.375
         ],
         "title": {
          "text": "win_rates"
         }
        },
        "yaxis5": {
         "anchor": "x5",
         "domain": [
          0,
          0.375
         ],
         "title": {
          "text": "costs"
         }
        },
        "yaxis6": {
         "anchor": "x6",
         "domain": [
          0,
          0.375
         ],
         "title": {
          "text": "costs"
         }
        }
       }
      }
     },
     "metadata": {},
     "output_type": "display_data"
    }
   ],
   "source": [
    "history_idx = 5\n",
    "\n",
    "agent_indices = np.where(auction_histories[history_idx].agent_names == agent_name)[0]\n",
    "agent_idx = agent_indices[1]\n",
    "\n",
    "fig, scatter_fig = plot_campaign_simulation_metrics(auction_histories[history_idx], agent_idx)\n",
    "fig.show()\n",
    "scatter_fig.show()"
   ]
  },
  {
   "cell_type": "markdown",
   "id": "0b905d30",
   "metadata": {},
   "source": [
    "### Agent Budget Pacing"
   ]
  },
  {
   "cell_type": "code",
   "execution_count": 75,
   "id": "e5ca1add",
   "metadata": {},
   "outputs": [
    {
     "data": {
      "application/vnd.plotly.v1+json": {
       "config": {
        "plotlyServerURL": "https://plot.ly"
       },
       "data": [
        {
         "customdata": {
          "bdata": "AAAAAADAskAAAAAAAMCyQAAAAAAAwLJAAAAAAADAskAAAAAAAMCyQAAAAAAAwLJAAAAAAADAskAAAAAAAMCyQAAAAAAAwLJAAAAAAADAskAAAAAAAMCyQAAAAAAAwLJAAAAAAADAskAAAAAAAMCyQAAAAAAAwLJAAAAAAADAskAAAAAAAMCyQAAAAAAAwLJAAAAAAADAskAAAAAAAMCyQAAAAAAAwLJAAAAAAADAskAAAAAAAMCyQAAAAAAAwLJAAAAAAADAskAAAAAAAMCyQAAAAAAAwLJAAAAAAADAskAAAAAAAMCyQAAAAAAAwLJAAAAAAADAskAAAAAAAMCyQAAAAAAAwLJAAAAAAADAskAAAAAAAMCyQAAAAAAAwLJAAAAAAADAskAAAAAAAMCyQAAAAAAAwLJAAAAAAADAskAAAAAAAMCyQAAAAAAAwLJAAAAAAADAskAAAAAAAMCyQAAAAAAAwLJAAAAAAADAskAAAAAAAMCyQAAAAAAAwLJA",
          "dtype": "f8",
          "shape": "48, 1"
         },
         "hovertemplate": "<b>Time Step:</b> %{x}<br><b>Budget Left Ratio:</b> %{y:.3f}<br><b>Budget:</b> %{customdata[0]:.0f}<br><extra></extra>",
         "line": {
          "color": "rgb(174, 8, 38)",
          "width": 1.5
         },
         "mode": "lines",
         "opacity": 0.35,
         "showlegend": false,
         "type": "scatter",
         "x": {
          "bdata": "AAECAwQFBgcICQoLDA0ODxAREhMUFRYXGBkaGxwdHh8gISIjJCUmJygpKissLS4v",
          "dtype": "i1"
         },
         "y": {
          "bdata": "nQBSdnr/7z+dAFJ2ev/vP50AUnZ6/+8/nQBSdnr/7z+dAFJ2ev/vP50AUnZ6/+8/nQBSdnr/7z+dAFJ2ev/vP50AUnZ6/+8/nQBSdnr/7z+dAFJ2ev/vP+gtQPh8/u8/17RvAEr+7z8/3QyQ+f3vP00vxO5k/O8/K0jNmizz7z+16qNWKPLvP79c4q12ze8/2qSmKFyh7z8zmamvwFPvP9Q3qcBGpe4/lKKNn7zo7T86ujHlmoPtP6Am4Djgrus/6nHmgilF6j8kwbY7mj7oPzUNSePwdeU/PeG4B4BN4j/d4DyrBiXgP6s/skLWbN0/s5ovvXww2j/cz1a1YOfVP+NdeH3JztQ/oEqNdrov0j+ny3irMsDNP1WpVzXvrMo/A/66jkG/yD/X/1gN9oDGP+jMfjFAMcM/IrxjdEDRwT8plPB1/5+9PzBSTaEPBLg/MKamgivusD/ym4omcomrP1lSy0AcqZM/ZmZmvZ/z0T5mZma9n/PRPmZmZr2f89E+",
          "dtype": "f8"
         }
        },
        {
         "customdata": {
          "bdata": "AAAAAABYq0AAAAAAAFirQAAAAAAAWKtAAAAAAABYq0AAAAAAAFirQAAAAAAAWKtAAAAAAABYq0AAAAAAAFirQAAAAAAAWKtAAAAAAABYq0AAAAAAAFirQAAAAAAAWKtAAAAAAABYq0AAAAAAAFirQAAAAAAAWKtAAAAAAABYq0AAAAAAAFirQAAAAAAAWKtAAAAAAABYq0AAAAAAAFirQAAAAAAAWKtAAAAAAABYq0AAAAAAAFirQAAAAAAAWKtAAAAAAABYq0AAAAAAAFirQAAAAAAAWKtAAAAAAABYq0AAAAAAAFirQAAAAAAAWKtAAAAAAABYq0AAAAAAAFirQAAAAAAAWKtAAAAAAABYq0AAAAAAAFirQAAAAAAAWKtAAAAAAABYq0AAAAAAAFirQAAAAAAAWKtAAAAAAABYq0AAAAAAAFirQAAAAAAAWKtAAAAAAABYq0AAAAAAAFirQAAAAAAAWKtAAAAAAABYq0AAAAAAAFirQAAAAAAAWKtA",
          "dtype": "f8",
          "shape": "48, 1"
         },
         "hovertemplate": "<b>Time Step:</b> %{x}<br><b>Budget Left Ratio:</b> %{y:.3f}<br><b>Budget:</b> %{customdata[0]:.0f}<br><extra></extra>",
         "line": {
          "color": "rgb(255, 247, 179)",
          "width": 1.5
         },
         "mode": "lines",
         "opacity": 0.35,
         "showlegend": false,
         "type": "scatter",
         "x": {
          "bdata": "AAECAwQFBgcICQoLDA0ODxAREhMUFRYXGBkaGxwdHh8gISIjJCUmJygpKissLS4v",
          "dtype": "i1"
         },
         "y": {
          "bdata": "8+Fbr9X+7z+NLVy2QvzvPwDsxsYv+u8/0LRja2737z+HUDt6YvHvP4dQO3pi8e8/gWxV8Ozw7z+BbFXw7PDvP4FsVfDs8O8/gWxV8Ozw7z+BbFXw7PDvP4FsVfDs8O8/gWxV8Ozw7z+BbFXw7PDvP4FsVfDs8O8/gWxV8Ozw7z+BbFXw7PDvP4FsVfDs8O8/gWxV8Ozw7z9MjSG1Ke/vP4AAeGj27u8/gAB4aPbu7z/cVXSOQO3vP9xVdI5A7e8/ZwtuO4Wf7j/tL6sTT0/qP7f62AJpBuc/UuVHvFnD5D97vwEpO6riP8kXeR5wnuE/wazklwgg4D8GQ2IxSavcP5VBeMX/PNk/TnRGjhIi1z9mPIDDetDVP+IBegwzoNM/Br7ArBVb0T8P9CD1p27NPxTXdSYX4Mc/7MiJBDv/vj+sv/cRNfq+P4jNVRmfM74/tO7SMSAouz9VNPJev7S3P68hCIGJirY/BBlHNKWYsj83zI3mpDWVP05iEOi5nsU+",
          "dtype": "f8"
         }
        },
        {
         "customdata": {
          "bdata": "AAAAAABAn0AAAAAAAECfQAAAAAAAQJ9AAAAAAABAn0AAAAAAAECfQAAAAAAAQJ9AAAAAAABAn0AAAAAAAECfQAAAAAAAQJ9AAAAAAABAn0AAAAAAAECfQAAAAAAAQJ9AAAAAAABAn0AAAAAAAECfQAAAAAAAQJ9AAAAAAABAn0AAAAAAAECfQAAAAAAAQJ9AAAAAAABAn0AAAAAAAECfQAAAAAAAQJ9AAAAAAABAn0AAAAAAAECfQAAAAAAAQJ9AAAAAAABAn0AAAAAAAECfQAAAAAAAQJ9AAAAAAABAn0AAAAAAAECfQAAAAAAAQJ9AAAAAAABAn0AAAAAAAECfQAAAAAAAQJ9AAAAAAABAn0AAAAAAAECfQAAAAAAAQJ9AAAAAAABAn0AAAAAAAECfQAAAAAAAQJ9AAAAAAABAn0AAAAAAAECfQAAAAAAAQJ9AAAAAAABAn0AAAAAAAECfQAAAAAAAQJ9AAAAAAABAn0AAAAAAAECfQAAAAAAAQJ9A",
          "dtype": "f8",
          "shape": "48, 1"
         },
         "hovertemplate": "<b>Time Step:</b> %{x}<br><b>Budget Left Ratio:</b> %{y:.3f}<br><b>Budget:</b> %{customdata[0]:.0f}<br><extra></extra>",
         "line": {
          "color": "rgb(49, 54, 149)",
          "width": 1.5
         },
         "mode": "lines",
         "opacity": 0.35,
         "showlegend": false,
         "type": "scatter",
         "x": {
          "bdata": "AAECAwQFBgcICQoLDA0ODxAREhMUFRYXGBkaGxwdHh8gISIjJCUmJygpKissLS4v",
          "dtype": "i1"
         },
         "y": {
          "bdata": "AAAAAAAA8D8AAAAAAADwPwAAAAAAAPA/AAAAAAAA8D8AAAAAAADwPwAAAAAAAPA/AAAAAAAA8D8AAAAAAADwPwAAAAAAAPA/AAAAAAAA8D8AAAAAAADwPwAAAAAAAPA/AAAAAAAA8D8AAAAAAADwPwAAAAAAAPA/Oxr5Oa3/7z87Gvk5rf/vPzsa+Tmt/+8/Oxr5Oa3/7z87Gvk5rf/vP1kpra8Q/+8/8HHp5m727z/wcenmbvbvPzHa4Ef66u8/oMYzduPG7T+7zdokw0PpP7iOHjSMlOU/ns3CoY8Z4j978yN8NXffP82NdHu/RN0/Hw0E6OmO2T/ZhhK+70zXP74dm57y+dY/mpgytym61D+gY5hrx5bRPy3gttanmsY/vpc4k5Uhwz898i20Zjq9Py1Ovw3gWro/oqlSJVJ9tj+B3dSFY2imP1CN10DjfQA/UI3XQON9AD9QjddA430AP1CN10DjfQA/UI3XQON9AD9QjddA430AP1CN10DjfQA/",
          "dtype": "f8"
         }
        },
        {
         "customdata": {
          "bdata": "AAAAAABAn0AAAAAAAECfQAAAAAAAQJ9AAAAAAABAn0AAAAAAAECfQAAAAAAAQJ9AAAAAAABAn0AAAAAAAECfQAAAAAAAQJ9AAAAAAABAn0AAAAAAAECfQAAAAAAAQJ9AAAAAAABAn0AAAAAAAECfQAAAAAAAQJ9AAAAAAABAn0AAAAAAAECfQAAAAAAAQJ9AAAAAAABAn0AAAAAAAECfQAAAAAAAQJ9AAAAAAABAn0AAAAAAAECfQAAAAAAAQJ9AAAAAAABAn0AAAAAAAECfQAAAAAAAQJ9AAAAAAABAn0AAAAAAAECfQAAAAAAAQJ9AAAAAAABAn0AAAAAAAECfQAAAAAAAQJ9AAAAAAABAn0AAAAAAAECfQAAAAAAAQJ9AAAAAAABAn0AAAAAAAECfQAAAAAAAQJ9AAAAAAABAn0AAAAAAAECfQAAAAAAAQJ9AAAAAAABAn0AAAAAAAECfQAAAAAAAQJ9AAAAAAABAn0AAAAAAAECfQAAAAAAAQJ9A",
          "dtype": "f8",
          "shape": "48, 1"
         },
         "hovertemplate": "<b>Time Step:</b> %{x}<br><b>Budget Left Ratio:</b> %{y:.3f}<br><b>Budget:</b> %{customdata[0]:.0f}<br><extra></extra>",
         "line": {
          "color": "rgb(49, 54, 149)",
          "width": 1.5
         },
         "mode": "lines",
         "opacity": 0.35,
         "showlegend": false,
         "type": "scatter",
         "x": {
          "bdata": "AAECAwQFBgcICQoLDA0ODxAREhMUFRYXGBkaGxwdHh8gISIjJCUmJygpKissLS4v",
          "dtype": "i1"
         },
         "y": {
          "bdata": "AAAAAAAA8D8AAAAAAADwPz73IFSn/+8/PvcgVKf/7z8+9yBUp//vPz73IFSn/+8/PvcgVKf/7z8+9yBUp//vPz73IFSn/+8/PvcgVKf/7z8pQJBSev7vP75J/0bn/e8/jUyHkfzh7z/HKwTZseHvP0qct16o2+8/Q5C9A8jI7z9DkL0DyMjvP0OQvQPIyO8/Q5C9A8jI7z9DkL0DyMjvP0OQvQPIyO8/Q5C9A8jI7z9DkL0DyMjvP9oafe37x+8/nGV3qp2q7j83wm7rcC7rPywudxK29+g/FEDAn35K5z9+5tna+0DmPwcBwnWuueQ/pFyXVXlU4z/ByhDZ3VHiP9crHkErV+E/RkSOyPUS3D8dlYfVE/PVP0S51IurDtM/SAodQR2P0D/RDrSCpwjLP7JPr+O/9sc/gY0atA7ExD+oGKb81ErBPxReYsJsu7M/2d546hpesj9gNbKzWzidP8/3U7Cklvw+z/dTsKSW/D7P91OwpJb8Ps/3U7Cklvw+",
          "dtype": "f8"
         }
        },
        {
         "customdata": {
          "bdata": "AAAAAACQqkAAAAAAAJCqQAAAAAAAkKpAAAAAAACQqkAAAAAAAJCqQAAAAAAAkKpAAAAAAACQqkAAAAAAAJCqQAAAAAAAkKpAAAAAAACQqkAAAAAAAJCqQAAAAAAAkKpAAAAAAACQqkAAAAAAAJCqQAAAAAAAkKpAAAAAAACQqkAAAAAAAJCqQAAAAAAAkKpAAAAAAACQqkAAAAAAAJCqQAAAAAAAkKpAAAAAAACQqkAAAAAAAJCqQAAAAAAAkKpAAAAAAACQqkAAAAAAAJCqQAAAAAAAkKpAAAAAAACQqkAAAAAAAJCqQAAAAAAAkKpAAAAAAACQqkAAAAAAAJCqQAAAAAAAkKpAAAAAAACQqkAAAAAAAJCqQAAAAAAAkKpAAAAAAACQqkAAAAAAAJCqQAAAAAAAkKpAAAAAAACQqkAAAAAAAJCqQAAAAAAAkKpAAAAAAACQqkAAAAAAAJCqQAAAAAAAkKpAAAAAAACQqkAAAAAAAJCqQAAAAAAAkKpA",
          "dtype": "f8",
          "shape": "48, 1"
         },
         "hovertemplate": "<b>Time Step:</b> %{x}<br><b>Budget Left Ratio:</b> %{y:.3f}<br><b>Budget:</b> %{customdata[0]:.0f}<br><extra></extra>",
         "line": {
          "color": "rgb(252, 254, 196)",
          "width": 1.5
         },
         "mode": "lines",
         "opacity": 0.35,
         "showlegend": false,
         "type": "scatter",
         "x": {
          "bdata": "AAECAwQFBgcICQoLDA0ODxAREhMUFRYXGBkaGxwdHh8gISIjJCUmJygpKissLS4v",
          "dtype": "i1"
         },
         "y": {
          "bdata": "tWAx37vq7z8cPJd+ebHvP/vHEYFHqe8/7T8O65Sm7z+qMmOkWpnvPwf9bId1jO8/wzlIOfKL7z8b15AlI4fvPxvXkCUjh+8/G9eQJSOH7z8b15AlI4fvPxvXkCUjh+8/oI99MemG7z+gj30x6YbvP6Jtj6yrhu8/om2PrKuG7z+ibY+sq4bvP6Jtj6yrhu8/om2PrKuG7z+ibY+sq4bvP6Jtj6yrhu8/om2PrKuG7z+ibY+sq4bvP6Jtj6yrhu8/om2PrKuG7z+ibY+sq4bvP6Jtj6yrhu8/om2PrKuG7z+ibY+sq4bvP6Jtj6yrhu8/om2PrKuG7z+ibY+sq4bvP72NnPfQH+8/h2Y0+9SZ7j+jCt0WQTTtP9/sJe8enes/XNP5kkTd6D9mnjoarULmPzPfTOgeJ+M/mFztvRXH4D88ANKZ8w3cP/DqiEIl7tI/DYPPG3ucvz/2qDRsFdmiP6I71SJ6Ct8+ojvVInoK3z6iO9UiegrfPqI71SJ6Ct8+",
          "dtype": "f8"
         }
        },
        {
         "customdata": {
          "bdata": "AAAAAADAskAAAAAAAMCyQAAAAAAAwLJAAAAAAADAskAAAAAAAMCyQAAAAAAAwLJAAAAAAADAskAAAAAAAMCyQAAAAAAAwLJAAAAAAADAskAAAAAAAMCyQAAAAAAAwLJAAAAAAADAskAAAAAAAMCyQAAAAAAAwLJAAAAAAADAskAAAAAAAMCyQAAAAAAAwLJAAAAAAADAskAAAAAAAMCyQAAAAAAAwLJAAAAAAADAskAAAAAAAMCyQAAAAAAAwLJAAAAAAADAskAAAAAAAMCyQAAAAAAAwLJAAAAAAADAskAAAAAAAMCyQAAAAAAAwLJAAAAAAADAskAAAAAAAMCyQAAAAAAAwLJAAAAAAADAskAAAAAAAMCyQAAAAAAAwLJAAAAAAADAskAAAAAAAMCyQAAAAAAAwLJAAAAAAADAskAAAAAAAMCyQAAAAAAAwLJAAAAAAADAskAAAAAAAMCyQAAAAAAAwLJAAAAAAADAskAAAAAAAMCyQAAAAAAAwLJA",
          "dtype": "f8",
          "shape": "48, 1"
         },
         "hovertemplate": "<b>Time Step:</b> %{x}<br><b>Budget Left Ratio:</b> %{y:.3f}<br><b>Budget:</b> %{customdata[0]:.0f}<br><extra></extra>",
         "line": {
          "color": "rgb(174, 8, 38)",
          "width": 1.5
         },
         "mode": "lines",
         "opacity": 0.35,
         "showlegend": false,
         "type": "scatter",
         "x": {
          "bdata": "AAECAwQFBgcICQoLDA0ODxAREhMUFRYXGBkaGxwdHh8gISIjJCUmJygpKissLS4v",
          "dtype": "i1"
         },
         "y": {
          "bdata": "+ff8Auj+7z+k2kpTxP7vP8OW6NKx8e8/DORpIlDs7z8xR/Z7VunvP+pv0K3e2e8/v0nZFb3S7z8m/vptONLvP7+nIUT+0e8/cpIt/TvR7z+UoeJ7cM/vP1y81nCzwe8/T5Bs0Ce37z/qJ/EoQobvPywO4QXHDe8/AKeJvGNN7j9SKYzqFyPuP3e3ydOaD+0/0oWJeOX46j9vi2nM8RDqPxDsyfMj2Oc/NTzwXrQ+5j+yM6lITBvkPymsAV9JEuM/JjY70NEX4j+4mfhH3qLgP714R5uCJd4/SVMp39fV2T9jBfpArBTXP88B4D9E4dM/qZhDGTKR0D/lqPAIiaXMP9q4sPylo8o/MBIfw7t6yD+//6WtkOjFPwcFNkkXssM/d3+uvf2mwT/oRB7Dl6HAP5bkbVerkLs/uOYUQT8Gtj97YFdzer6wP6SQ+6uTzag/iTjE+X2GnD+TH5iT9C2VP3RamdrMs3k//WKdezQgOz/JL5ZLsDnxPskvlkuwOfE+",
          "dtype": "f8"
         }
        },
        {
         "customdata": {
          "bdata": "AAAAAABAn0AAAAAAAECfQAAAAAAAQJ9AAAAAAABAn0AAAAAAAECfQAAAAAAAQJ9AAAAAAABAn0AAAAAAAECfQAAAAAAAQJ9AAAAAAABAn0AAAAAAAECfQAAAAAAAQJ9AAAAAAABAn0AAAAAAAECfQAAAAAAAQJ9AAAAAAABAn0AAAAAAAECfQAAAAAAAQJ9AAAAAAABAn0AAAAAAAECfQAAAAAAAQJ9AAAAAAABAn0AAAAAAAECfQAAAAAAAQJ9AAAAAAABAn0AAAAAAAECfQAAAAAAAQJ9AAAAAAABAn0AAAAAAAECfQAAAAAAAQJ9AAAAAAABAn0AAAAAAAECfQAAAAAAAQJ9AAAAAAABAn0AAAAAAAECfQAAAAAAAQJ9AAAAAAABAn0AAAAAAAECfQAAAAAAAQJ9AAAAAAABAn0AAAAAAAECfQAAAAAAAQJ9AAAAAAABAn0AAAAAAAECfQAAAAAAAQJ9AAAAAAABAn0AAAAAAAECfQAAAAAAAQJ9A",
          "dtype": "f8",
          "shape": "48, 1"
         },
         "hovertemplate": "<b>Time Step:</b> %{x}<br><b>Budget Left Ratio:</b> %{y:.3f}<br><b>Budget:</b> %{customdata[0]:.0f}<br><extra></extra>",
         "line": {
          "color": "rgb(49, 54, 149)",
          "width": 1.5
         },
         "mode": "lines",
         "opacity": 0.35,
         "showlegend": false,
         "type": "scatter",
         "x": {
          "bdata": "AAECAwQFBgcICQoLDA0ODxAREhMUFRYXGBkaGxwdHh8gISIjJCUmJygpKissLS4v",
          "dtype": "i1"
         },
         "y": {
          "bdata": "AAAAAAAA8D8AAAAAAADwPwAAAAAAAPA/AAAAAAAA8D8AAAAAAADwPwAAAAAAAPA/AAAAAAAA8D8AAAAAAADwPwAAAAAAAPA/AAAAAAAA8D8AAAAAAADwPwAAAAAAAPA/AAAAAAAA8D8AAAAAAADwPwAAAAAAAPA/AAAAAAAA8D/2ssXbTP/vP18yCCYK9e8/xWOwRYrc7z83QSxidNLvP14phhTYp+8/8ZE9/KtA7z8U3M6fyf/rP4/PERkC3uo/yQKZM1vd6j/tNPozGd3qP9rnvV/a2eo/1yb3Wr3U6j87gvagi5zqP23hPfNBuek/KHgJDpta6T97SFawr/PoP8pprd35/eY/+xiBxDEb5T/+NHMEuEfkPxK7IcblvuI//PgvU8X54T+gFIa7osLgP7R+hlO6Ct0/lhi7IjWb2T+iFFnEQH/ZPxTCrK/Betk/Uo24aI+T1j+L4PnGYb7QP0LYri6JZMo/vmdFhqGltj/wrz33Sz+sP0w3Seo0bfo+",
          "dtype": "f8"
         }
        },
        {
         "customdata": {
          "bdata": "AAAAAABEpkAAAAAAAESmQAAAAAAARKZAAAAAAABEpkAAAAAAAESmQAAAAAAARKZAAAAAAABEpkAAAAAAAESmQAAAAAAARKZAAAAAAABEpkAAAAAAAESmQAAAAAAARKZAAAAAAABEpkAAAAAAAESmQAAAAAAARKZAAAAAAABEpkAAAAAAAESmQAAAAAAARKZAAAAAAABEpkAAAAAAAESmQAAAAAAARKZAAAAAAABEpkAAAAAAAESmQAAAAAAARKZAAAAAAABEpkAAAAAAAESmQAAAAAAARKZAAAAAAABEpkAAAAAAAESmQAAAAAAARKZAAAAAAABEpkAAAAAAAESmQAAAAAAARKZAAAAAAABEpkAAAAAAAESmQAAAAAAARKZAAAAAAABEpkAAAAAAAESmQAAAAAAARKZAAAAAAABEpkAAAAAAAESmQAAAAAAARKZAAAAAAABEpkAAAAAAAESmQAAAAAAARKZAAAAAAABEpkAAAAAAAESmQAAAAAAARKZA",
          "dtype": "f8",
          "shape": "48, 1"
         },
         "hovertemplate": "<b>Time Step:</b> %{x}<br><b>Budget Left Ratio:</b> %{y:.3f}<br><b>Budget:</b> %{customdata[0]:.0f}<br><extra></extra>",
         "line": {
          "color": "rgb(170, 216, 233)",
          "width": 1.5
         },
         "mode": "lines",
         "opacity": 0.35,
         "showlegend": false,
         "type": "scatter",
         "x": {
          "bdata": "AAECAwQFBgcICQoLDA0ODxAREhMUFRYXGBkaGxwdHh8gISIjJCUmJygpKissLS4v",
          "dtype": "i1"
         },
         "y": {
          "bdata": "AAAAAAAA8D8AAAAAAADwPwAAAAAAAPA/AAAAAAAA8D8AAAAAAADwPwAAAAAAAPA/AAAAAAAA8D8AAAAAAADwP6Sfl49N+u8/YUvBC0/u7z9j+I0VUObvP5psuy/Buu8/q390QQaA7z+YQ1WFX7/uP/boGs8LQ+4/bQ/YUoud7T/bHwQTQjToP+rbCDZa1eU/lL5aixIO4z+Dh9RzYcvgP6z72RMWfds/IVgxizuk1j/A4hT3iW7QPxipfhuAOcY/v6lNkcFXwz8SjXO7XfO8PyE5kRt136c/mQozb90Nij8tUweM+VWCP1lj57SDKfI+WWPntIMp8j5ZY+e0gynyPllj57SDKfI+WWPntIMp8j5ZY+e0gynyPllj57SDKfI+WWPntIMp8j5ZY+e0gynyPllj57SDKfI+WWPntIMp8j5ZY+e0gynyPllj57SDKfI+WWPntIMp8j5ZY+e0gynyPllj57SDKfI+WWPntIMp8j5ZY+e0gynyPllj57SDKfI+",
          "dtype": "f8"
         }
        },
        {
         "customdata": {
          "bdata": "AAAAAADAskAAAAAAAMCyQAAAAAAAwLJAAAAAAADAskAAAAAAAMCyQAAAAAAAwLJAAAAAAADAskAAAAAAAMCyQAAAAAAAwLJAAAAAAADAskAAAAAAAMCyQAAAAAAAwLJAAAAAAADAskAAAAAAAMCyQAAAAAAAwLJAAAAAAADAskAAAAAAAMCyQAAAAAAAwLJAAAAAAADAskAAAAAAAMCyQAAAAAAAwLJAAAAAAADAskAAAAAAAMCyQAAAAAAAwLJAAAAAAADAskAAAAAAAMCyQAAAAAAAwLJAAAAAAADAskAAAAAAAMCyQAAAAAAAwLJAAAAAAADAskAAAAAAAMCyQAAAAAAAwLJAAAAAAADAskAAAAAAAMCyQAAAAAAAwLJAAAAAAADAskAAAAAAAMCyQAAAAAAAwLJAAAAAAADAskAAAAAAAMCyQAAAAAAAwLJAAAAAAADAskAAAAAAAMCyQAAAAAAAwLJAAAAAAADAskAAAAAAAMCyQAAAAAAAwLJA",
          "dtype": "f8",
          "shape": "48, 1"
         },
         "hovertemplate": "<b>Time Step:</b> %{x}<br><b>Budget Left Ratio:</b> %{y:.3f}<br><b>Budget:</b> %{customdata[0]:.0f}<br><extra></extra>",
         "line": {
          "color": "rgb(174, 8, 38)",
          "width": 1.5
         },
         "mode": "lines",
         "opacity": 0.35,
         "showlegend": false,
         "type": "scatter",
         "x": {
          "bdata": "AAECAwQFBgcICQoLDA0ODxAREhMUFRYXGBkaGxwdHh8gISIjJCUmJygpKissLS4v",
          "dtype": "i1"
         },
         "y": {
          "bdata": "+f8MTutG7z8bLDl1SzrvP1lCrYhsy+4/gvHmaT6U7j+WL6RT/GzuP70QEZV+Te4/mq1ylds77j9Nt3CwrCHuP7WK4NF4Ie4/pJBkGJkg7j930tmr2hbuPwUkDskWDO4/ACPI1/2n7T/BuMCcmGTtP2wkBMEW8uw/MdSuVJa97D/hNQ0o8LzsP44jKrzWr+w/Aic7uU9A7D9t0Fux6/vrPyB5bgk3bus/q1iiIQbX6j9Wz27iezvqP8k9Xlpk5Og/rGs8zFLj6D/PTjdQv+LoP7ngDmhw3ug/uhTZGG3d6D8aqPBuw9joP7d2XO61yug/T21cb7DA6D8TvF+8IinoP5gDjob4Suc/XfUKRf+m5T/jeagVkYjjP3oSMWVg++E/JOghbR9Z3z8/ZYIYRkrbPxtDJGEDmNY/Rmp5ZnXW0j+nFrMfDnDSPykC/tZgsdE/EaY+c79zyD+PzpgWD6y0P+U3MVw56Ko/7AkGuBnXoD+WvJ4U2bF6P7WBTlWrdd8+",
          "dtype": "f8"
         }
        },
        {
         "customdata": {
          "bdata": "AAAAAADyskAAAAAAAPKyQAAAAAAA8rJAAAAAAADyskAAAAAAAPKyQAAAAAAA8rJAAAAAAADyskAAAAAAAPKyQAAAAAAA8rJAAAAAAADyskAAAAAAAPKyQAAAAAAA8rJAAAAAAADyskAAAAAAAPKyQAAAAAAA8rJAAAAAAADyskAAAAAAAPKyQAAAAAAA8rJAAAAAAADyskAAAAAAAPKyQAAAAAAA8rJAAAAAAADyskAAAAAAAPKyQAAAAAAA8rJAAAAAAADyskAAAAAAAPKyQAAAAAAA8rJAAAAAAADyskAAAAAAAPKyQAAAAAAA8rJAAAAAAADyskAAAAAAAPKyQAAAAAAA8rJAAAAAAADyskAAAAAAAPKyQAAAAAAA8rJAAAAAAADyskAAAAAAAPKyQAAAAAAA8rJAAAAAAADyskAAAAAAAPKyQAAAAAAA8rJAAAAAAADyskAAAAAAAPKyQAAAAAAA8rJAAAAAAADyskAAAAAAAPKyQAAAAAAA8rJA",
          "dtype": "f8",
          "shape": "48, 1"
         },
         "hovertemplate": "<b>Time Step:</b> %{x}<br><b>Budget Left Ratio:</b> %{y:.3f}<br><b>Budget:</b> %{customdata[0]:.0f}<br><extra></extra>",
         "line": {
          "color": "rgb(165, 0, 38)",
          "width": 1.5
         },
         "mode": "lines",
         "opacity": 0.35,
         "showlegend": false,
         "type": "scatter",
         "x": {
          "bdata": "AAECAwQFBgcICQoLDA0ODxAREhMUFRYXGBkaGxwdHh8gISIjJCUmJygpKissLS4v",
          "dtype": "i1"
         },
         "y": {
          "bdata": "AAAAAAAA8D8AAAAAAADwPwAAAAAAAPA/AAAAAAAA8D8AAAAAAADwPwAAAAAAAPA/AAAAAAAA8D8AAAAAAADwPwAAAAAAAPA/AAAAAAAA8D8AAAAAAADwPwAAAAAAAPA/AAAAAAAA8D8AAAAAAADwPwAAAAAAAPA/AAAAAAAA8D8AAAAAAADwP9LDSNK//+8/s2ukt4D/7z9Xc70GvPzvP7wfs7lB+e8/O5TWXOvz7z9vghgQ4u7vP5ZQOFyt4u8/llA4XK3i7z+WUDhcreLvP5ZQOFyt4u8/llA4XK3i7z+WUDhcreLvP1smdYdc4u8/WyZ1h1zi7z9vy6MuP+DvP0NEmpxI3u8/gzvt35PB7z/uRFs7aIbvP7FCBxrbV+8/v16sgfgX7z8WnpyUcd7uPw3N+QEgzu4/WlOGn2Ip7j8KQuTPb57qPxf/fZtLJOY/89TYYuU93j8+IpXi8hTQP94t3rrXMMU/sXDXNJ4xuD9gXlLoQY2TPymA0gZomN4+",
          "dtype": "f8"
         }
        },
        {
         "customdata": {
          "bdata": "AAAAAAAEsEAAAAAAAASwQAAAAAAABLBAAAAAAAAEsEAAAAAAAASwQAAAAAAABLBAAAAAAAAEsEAAAAAAAASwQAAAAAAABLBAAAAAAAAEsEAAAAAAAASwQAAAAAAABLBAAAAAAAAEsEAAAAAAAASwQAAAAAAABLBAAAAAAAAEsEAAAAAAAASwQAAAAAAABLBAAAAAAAAEsEAAAAAAAASwQAAAAAAABLBAAAAAAAAEsEAAAAAAAASwQAAAAAAABLBAAAAAAAAEsEAAAAAAAASwQAAAAAAABLBAAAAAAAAEsEAAAAAAAASwQAAAAAAABLBAAAAAAAAEsEAAAAAAAASwQAAAAAAABLBAAAAAAAAEsEAAAAAAAASwQAAAAAAABLBAAAAAAAAEsEAAAAAAAASwQAAAAAAABLBAAAAAAAAEsEAAAAAAAASwQAAAAAAABLBAAAAAAAAEsEAAAAAAAASwQAAAAAAABLBAAAAAAAAEsEAAAAAAAASwQAAAAAAABLBA",
          "dtype": "f8",
          "shape": "48, 1"
         },
         "hovertemplate": "<b>Time Step:</b> %{x}<br><b>Budget Left Ratio:</b> %{y:.3f}<br><b>Budget:</b> %{customdata[0]:.0f}<br><extra></extra>",
         "line": {
          "color": "rgb(250, 150, 86)",
          "width": 1.5
         },
         "mode": "lines",
         "opacity": 0.35,
         "showlegend": false,
         "type": "scatter",
         "x": {
          "bdata": "AAECAwQFBgcICQoLDA0ODxAREhMUFRYXGBkaGxwdHh8gISIjJCUmJygpKissLS4v",
          "dtype": "i1"
         },
         "y": {
          "bdata": "N83p8Qv/7z83zenxC//vPzfN6fEL/+8/N83p8Qv/7z83zenxC//vPzfN6fEL/+8/N83p8Qv/7z83zenxC//vPz6HB2Op/u8/uHljqrD67z+RS3EozPnvP53sCtSG4O8/xJqxf2Ky7z8+Q2XJfZ3vP8XvekIzmO8/bwJ+4sti7z9K2c0wxmHvP5TJRrU0O+8/lWx1goDm7T8W9fOD8RjtP+pc6IMCnus/zAYL71826z9whddxYq3qP5Cn8NtoeOo/kKfw22h46j+Qp/DbaHjqP2/qaJteduo/VWhOca516j+nXtsTaHTqP/Zjc2A4dOo/ZJ6ppwl06j9tOp5K8HPqP206nkrwc+o/bTqeSvBz6j9tOp5K8HPqP206nkrwc+o/bTqeSvBz6j828W83GHPqP/dj3Bntcuo/92PcGe1y6j+NnN9AibfoP39rrE+LgOU/b8JDx3ck4T8Y30IbCXnaP++8K0fdgdM/1TuwEdy+yz8BvK3D9k++P4XrUQgej/A+",
          "dtype": "f8"
         }
        },
        {
         "customdata": {
          "bdata": "AAAAAAD+sEAAAAAAAP6wQAAAAAAA/rBAAAAAAAD+sEAAAAAAAP6wQAAAAAAA/rBAAAAAAAD+sEAAAAAAAP6wQAAAAAAA/rBAAAAAAAD+sEAAAAAAAP6wQAAAAAAA/rBAAAAAAAD+sEAAAAAAAP6wQAAAAAAA/rBAAAAAAAD+sEAAAAAAAP6wQAAAAAAA/rBAAAAAAAD+sEAAAAAAAP6wQAAAAAAA/rBAAAAAAAD+sEAAAAAAAP6wQAAAAAAA/rBAAAAAAAD+sEAAAAAAAP6wQAAAAAAA/rBAAAAAAAD+sEAAAAAAAP6wQAAAAAAA/rBAAAAAAAD+sEAAAAAAAP6wQAAAAAAA/rBAAAAAAAD+sEAAAAAAAP6wQAAAAAAA/rBAAAAAAAD+sEAAAAAAAP6wQAAAAAAA/rBAAAAAAAD+sEAAAAAAAP6wQAAAAAAA/rBAAAAAAAD+sEAAAAAAAP6wQAAAAAAA/rBAAAAAAAD+sEAAAAAAAP6wQAAAAAAA/rBA",
          "dtype": "f8",
          "shape": "48, 1"
         },
         "hovertemplate": "<b>Time Step:</b> %{x}<br><b>Budget Left Ratio:</b> %{y:.3f}<br><b>Budget:</b> %{customdata[0]:.0f}<br><extra></extra>",
         "line": {
          "color": "rgb(237, 94, 60)",
          "width": 1.5
         },
         "mode": "lines",
         "opacity": 0.35,
         "showlegend": false,
         "type": "scatter",
         "x": {
          "bdata": "AAECAwQFBgcICQoLDA0ODxAREhMUFRYXGBkaGxwdHh8gISIjJCUmJygpKissLS4v",
          "dtype": "i1"
         },
         "y": {
          "bdata": "1Cvjz9T/7z/J3N5orf/vPwW4WCSp/O8/BbhYJKn87z+nj3YCr/vvP/L3s42F++8/8vezjYX77z+7k+LvEfvvP7uT4u8R++8/u5Pi7xH77z+7k+LvEfvvP7uT4u8R++8/u5Pi7xH77z+7k+LvEfvvP7uT4u8R++8/u5Pi7xH77z/KkO+1jvjvP1Pl0hl8y+8/k4WOtLwN7z9J35xuL6zsP9RWhnd+JOo/OnnWLAuO5z817wK8M7fjPztyijs/IuE/Ik+9XCtx4D97SW3pxsTfP8vcqyU0p90/NSR5ehcN3D8Y4HTIA7faP3IVSZ3BRdk/KW4tNj2t1z/g8CG2S3jWP4FmInjM99U/GaMTno+51T90+4NrzO3UP0LDI1gYRNQ/ujkL/N0v0z9eTxdM7CbSP/5QRwvR0cw/RH6Oc1W8yT+kTt4OYaTJPznh+owIo8k/vxjeyYFAyT+PQW6HCtTHP7orbTX9zME/2CyTIVLztT/8XIDlQderP3JLQUkAR3I/",
          "dtype": "f8"
         }
        },
        {
         "customdata": {
          "bdata": "AAAAAADAskAAAAAAAMCyQAAAAAAAwLJAAAAAAADAskAAAAAAAMCyQAAAAAAAwLJAAAAAAADAskAAAAAAAMCyQAAAAAAAwLJAAAAAAADAskAAAAAAAMCyQAAAAAAAwLJAAAAAAADAskAAAAAAAMCyQAAAAAAAwLJAAAAAAADAskAAAAAAAMCyQAAAAAAAwLJAAAAAAADAskAAAAAAAMCyQAAAAAAAwLJAAAAAAADAskAAAAAAAMCyQAAAAAAAwLJAAAAAAADAskAAAAAAAMCyQAAAAAAAwLJAAAAAAADAskAAAAAAAMCyQAAAAAAAwLJAAAAAAADAskAAAAAAAMCyQAAAAAAAwLJAAAAAAADAskAAAAAAAMCyQAAAAAAAwLJAAAAAAADAskAAAAAAAMCyQAAAAAAAwLJAAAAAAADAskAAAAAAAMCyQAAAAAAAwLJAAAAAAADAskAAAAAAAMCyQAAAAAAAwLJAAAAAAADAskAAAAAAAMCyQAAAAAAAwLJA",
          "dtype": "f8",
          "shape": "48, 1"
         },
         "hovertemplate": "<b>Time Step:</b> %{x}<br><b>Budget Left Ratio:</b> %{y:.3f}<br><b>Budget:</b> %{customdata[0]:.0f}<br><extra></extra>",
         "line": {
          "color": "rgb(174, 8, 38)",
          "width": 1.5
         },
         "mode": "lines",
         "opacity": 0.35,
         "showlegend": false,
         "type": "scatter",
         "x": {
          "bdata": "AAECAwQFBgcICQoLDA0ODxAREhMUFRYXGBkaGxwdHh8gISIjJCUmJygpKissLS4v",
          "dtype": "i1"
         },
         "y": {
          "bdata": "6LpaO5/+7z+UnaiLe/7vP2osCPf78u8/uDaJN1nu7z+RB8d8IezvP7GofjrH2+8/VNEtxhrU7z+6hU8eltPvP1IvdvRb0+8/wQAnbMbS7z8//TFuG9HvP9QDztrIwe8/Y3pj+AW27z9xQHPdUobvP7zzx01ZDe8/A4Pd05Bm7j/Ss1qRND7uP4+6gxxdOe0/nGFOotc86z9jFHmXUVzqP8ljRHmOGOg/v0jLoKdq5j+spJuvni7kP+362j3YBOM/tARa5gsG4j99hDmSKprgP1lTBJro+t0/YBUGxqD82T/Bw2KZG13XP/eyK76APNQ/EcW7uPbD0D/J03/8Z+LMP664alEaxco/B+o4lpIvyD8A8s+YdD7FP5NnbGFF0cI/4ShH+3/LwD+dFje5crK/P09HJoJOK7o/oHsF4KkltT9xJYfRDiOvPwdyL2FoTaY/bcDNE2XNlj/GUiTNgyyQP8YSNzgr5XQ/ZmbO0AZaTT9+seQiryjjPn6x5CKvKOM+",
          "dtype": "f8"
         }
        },
        {
         "customdata": {
          "bdata": "AAAAAABAn0AAAAAAAECfQAAAAAAAQJ9AAAAAAABAn0AAAAAAAECfQAAAAAAAQJ9AAAAAAABAn0AAAAAAAECfQAAAAAAAQJ9AAAAAAABAn0AAAAAAAECfQAAAAAAAQJ9AAAAAAABAn0AAAAAAAECfQAAAAAAAQJ9AAAAAAABAn0AAAAAAAECfQAAAAAAAQJ9AAAAAAABAn0AAAAAAAECfQAAAAAAAQJ9AAAAAAABAn0AAAAAAAECfQAAAAAAAQJ9AAAAAAABAn0AAAAAAAECfQAAAAAAAQJ9AAAAAAABAn0AAAAAAAECfQAAAAAAAQJ9AAAAAAABAn0AAAAAAAECfQAAAAAAAQJ9AAAAAAABAn0AAAAAAAECfQAAAAAAAQJ9AAAAAAABAn0AAAAAAAECfQAAAAAAAQJ9AAAAAAABAn0AAAAAAAECfQAAAAAAAQJ9AAAAAAABAn0AAAAAAAECfQAAAAAAAQJ9AAAAAAABAn0AAAAAAAECfQAAAAAAAQJ9A",
          "dtype": "f8",
          "shape": "48, 1"
         },
         "hovertemplate": "<b>Time Step:</b> %{x}<br><b>Budget Left Ratio:</b> %{y:.3f}<br><b>Budget:</b> %{customdata[0]:.0f}<br><extra></extra>",
         "line": {
          "color": "rgb(49, 54, 149)",
          "width": 1.5
         },
         "mode": "lines",
         "opacity": 0.35,
         "showlegend": false,
         "type": "scatter",
         "x": {
          "bdata": "AAECAwQFBgcICQoLDA0ODxAREhMUFRYXGBkaGxwdHh8gISIjJCUmJygpKissLS4v",
          "dtype": "i1"
         },
         "y": {
          "bdata": "SM4xtKv97j8UFefCPoDuP86s78DMVu4/OmR+kv/M7T+JBZcMEXjtP6FpXun3X+0/aTTjJfs67T+9AJKgLSvtP6Lp4nkiKu0/kdXuqYon7T8Cfezu/SXtP7SN0qFvDu0/+GhXzMsE7T8Rfl1fw/nsPzgrSrPCgew/gBp9z2pe7D+AGn3Pal7sP/vtO3pE6es/cwuwHbmX6z9MPhO4BnLrP5LFNzbdM+s/fzfLXEYj6j87YzuND5vpP+XjkgICvOg/5eOSAgK86D/l45ICArzoP+XjkgICvOg/5eOSAgK86D/l45ICArzoP+XjkgICvOg/wi4CPpq76D/CLgI+mrvoP+8ye+269uY/gH2lmtSU5T8vwygqJ5njP/zVvQHTZOA/He0qwsMO2T/T8Fff3gTRP43/tS8ugss/M+ODzS1cuz+wBg8s3ZG6P6Z/aheQlbI/PzWebnLwAj8/NZ5ucvACPz81nm5y8AI/PzWebnLwAj8/NZ5ucvACPz81nm5y8AI/",
          "dtype": "f8"
         }
        },
        {
         "customdata": {
          "bdata": "AAAAAABEpkAAAAAAAESmQAAAAAAARKZAAAAAAABEpkAAAAAAAESmQAAAAAAARKZAAAAAAABEpkAAAAAAAESmQAAAAAAARKZAAAAAAABEpkAAAAAAAESmQAAAAAAARKZAAAAAAABEpkAAAAAAAESmQAAAAAAARKZAAAAAAABEpkAAAAAAAESmQAAAAAAARKZAAAAAAABEpkAAAAAAAESmQAAAAAAARKZAAAAAAABEpkAAAAAAAESmQAAAAAAARKZAAAAAAABEpkAAAAAAAESmQAAAAAAARKZAAAAAAABEpkAAAAAAAESmQAAAAAAARKZAAAAAAABEpkAAAAAAAESmQAAAAAAARKZAAAAAAABEpkAAAAAAAESmQAAAAAAARKZAAAAAAABEpkAAAAAAAESmQAAAAAAARKZAAAAAAABEpkAAAAAAAESmQAAAAAAARKZAAAAAAABEpkAAAAAAAESmQAAAAAAARKZAAAAAAABEpkAAAAAAAESmQAAAAAAARKZA",
          "dtype": "f8",
          "shape": "48, 1"
         },
         "hovertemplate": "<b>Time Step:</b> %{x}<br><b>Budget Left Ratio:</b> %{y:.3f}<br><b>Budget:</b> %{customdata[0]:.0f}<br><extra></extra>",
         "line": {
          "color": "rgb(170, 216, 233)",
          "width": 1.5
         },
         "mode": "lines",
         "opacity": 0.35,
         "showlegend": false,
         "type": "scatter",
         "x": {
          "bdata": "AAECAwQFBgcICQoLDA0ODxAREhMUFRYXGBkaGxwdHh8gISIjJCUmJygpKissLS4v",
          "dtype": "i1"
         },
         "y": {
          "bdata": "AAAAAAAA8D8AAAAAAADwPwAAAAAAAPA/AAAAAAAA8D8AAAAAAADwPwAAAAAAAPA/AAAAAAAA8D8AAAAAAADwP+JOBfza+e8/QORbJdjz7z+PBtM1de/vP15MipvW3e8/ekO/U2i57z/d2LckDBnvP5zlZ4YjzO4/9+CtPCkQ7j/XhmlfpCHpP4/751OlueY/1DEfHOXA4z9Q0B8X5yDhP48KtFgjOds/d/BF+oZ+1T9Xngk+40jNP7H1xu3QJ8M/xF53PndqwD8yrD+R/RS3P/lUR03BJJw/SI5o6pCt3D5IjmjqkK3cPkiOaOqQrdw+SI5o6pCt3D5IjmjqkK3cPkiOaOqQrdw+SI5o6pCt3D5IjmjqkK3cPkiOaOqQrdw+SI5o6pCt3D5IjmjqkK3cPkiOaOqQrdw+SI5o6pCt3D5IjmjqkK3cPkiOaOqQrdw+SI5o6pCt3D5IjmjqkK3cPkiOaOqQrdw+SI5o6pCt3D5IjmjqkK3cPkiOaOqQrdw+",
          "dtype": "f8"
         }
        },
        {
         "customdata": {
          "bdata": "AAAAAABAn0AAAAAAAECfQAAAAAAAQJ9AAAAAAABAn0AAAAAAAECfQAAAAAAAQJ9AAAAAAABAn0AAAAAAAECfQAAAAAAAQJ9AAAAAAABAn0AAAAAAAECfQAAAAAAAQJ9AAAAAAABAn0AAAAAAAECfQAAAAAAAQJ9AAAAAAABAn0AAAAAAAECfQAAAAAAAQJ9AAAAAAABAn0AAAAAAAECfQAAAAAAAQJ9AAAAAAABAn0AAAAAAAECfQAAAAAAAQJ9AAAAAAABAn0AAAAAAAECfQAAAAAAAQJ9AAAAAAABAn0AAAAAAAECfQAAAAAAAQJ9AAAAAAABAn0AAAAAAAECfQAAAAAAAQJ9AAAAAAABAn0AAAAAAAECfQAAAAAAAQJ9AAAAAAABAn0AAAAAAAECfQAAAAAAAQJ9AAAAAAABAn0AAAAAAAECfQAAAAAAAQJ9AAAAAAABAn0AAAAAAAECfQAAAAAAAQJ9AAAAAAABAn0AAAAAAAECfQAAAAAAAQJ9A",
          "dtype": "f8",
          "shape": "48, 1"
         },
         "hovertemplate": "<b>Time Step:</b> %{x}<br><b>Budget Left Ratio:</b> %{y:.3f}<br><b>Budget:</b> %{customdata[0]:.0f}<br><extra></extra>",
         "line": {
          "color": "rgb(49, 54, 149)",
          "width": 1.5
         },
         "mode": "lines",
         "opacity": 0.35,
         "showlegend": false,
         "type": "scatter",
         "x": {
          "bdata": "AAECAwQFBgcICQoLDA0ODxAREhMUFRYXGBkaGxwdHh8gISIjJCUmJygpKissLS4v",
          "dtype": "i1"
         },
         "y": {
          "bdata": "AAAAAAAA8D8AAAAAAADwPwAAAAAAAPA/AAAAAAAA8D8AAAAAAADwPwAAAAAAAPA/AAAAAAAA8D8AAAAAAADwP5OCT/mb/+8/xmN4Tij/7z90HJGvYu7vP3Qcka9i7u8/gBGJ5QXu7z+nBQxTne3vPzsWyW3J7O8/Ef30dd7p7z8R/fR13unvPxH99HXe6e8/rFf0P8fm7z+G1pUU2NbvP4bWlRTY1u8/htaVFNjW7z9qqJLdI9DvP+Fek3pKxu8/zQRT6++r7z8EfNTXkF7vP+GMI/LpH+8/fuHT31K27j9aVB4JR63uP01Y35s+R+4/pyn4NTcC7j9g6f5afw3tP6jA7d0Mk+c/dx2Ltwfh4j/0gDnbrbPePyOCFhlwXtg/sn9eO0mf0z8I6NOdG3LLP7b38DCpILs/0z3va549lD8XeSbPDXeNP+ebwkJ5OoI/NV66qhUq4j41XrqqFSriPjVeuqoVKuI+NV66qhUq4j41XrqqFSriPjVeuqoVKuI+",
          "dtype": "f8"
         }
        },
        {
         "customdata": {
          "bdata": "AAAAAAD+sEAAAAAAAP6wQAAAAAAA/rBAAAAAAAD+sEAAAAAAAP6wQAAAAAAA/rBAAAAAAAD+sEAAAAAAAP6wQAAAAAAA/rBAAAAAAAD+sEAAAAAAAP6wQAAAAAAA/rBAAAAAAAD+sEAAAAAAAP6wQAAAAAAA/rBAAAAAAAD+sEAAAAAAAP6wQAAAAAAA/rBAAAAAAAD+sEAAAAAAAP6wQAAAAAAA/rBAAAAAAAD+sEAAAAAAAP6wQAAAAAAA/rBAAAAAAAD+sEAAAAAAAP6wQAAAAAAA/rBAAAAAAAD+sEAAAAAAAP6wQAAAAAAA/rBAAAAAAAD+sEAAAAAAAP6wQAAAAAAA/rBAAAAAAAD+sEAAAAAAAP6wQAAAAAAA/rBAAAAAAAD+sEAAAAAAAP6wQAAAAAAA/rBAAAAAAAD+sEAAAAAAAP6wQAAAAAAA/rBAAAAAAAD+sEAAAAAAAP6wQAAAAAAA/rBAAAAAAAD+sEAAAAAAAP6wQAAAAAAA/rBA",
          "dtype": "f8",
          "shape": "48, 1"
         },
         "hovertemplate": "<b>Time Step:</b> %{x}<br><b>Budget Left Ratio:</b> %{y:.3f}<br><b>Budget:</b> %{customdata[0]:.0f}<br><extra></extra>",
         "line": {
          "color": "rgb(237, 94, 60)",
          "width": 1.5
         },
         "mode": "lines",
         "opacity": 0.35,
         "showlegend": false,
         "type": "scatter",
         "x": {
          "bdata": "AAECAwQFBgcICQoLDA0ODxAREhMUFRYXGBkaGxwdHh8gISIjJCUmJygpKissLS4v",
          "dtype": "i1"
         },
         "y": {
          "bdata": "LfZGEiP/7T8GaNE8LG3tP0oU5CuL/Ow/GfpJdl277D99WsKm+VHsPykhnwql5es/3CKKUECk6z9taMUJl2nrP8O7OblDaOs/AXyEoHNm6z9x4QotPEjrP6JBRkeq5uo/mArx+xJu6j9OeH7hehDqP5MsMTAYmOk/OpPtFdm86D9yaMauCK7oP9JEepwa7Oc/PE8Mru6T5j8+/qWmibblPxabXoeaf+Q/zgTPtt+L4z/0PCMO8KHiP5hVm+sSneE/mFWb6xKd4T+KmXIR6pzhP4qZchHqnOE/iplyEeqc4T9uZvxm+5vhP7IQptjdm+E/3XnPkDab4T/dec+QNpvhP915z5A2m+E/lrAkmxOb4T+WsCSbE5vhP5awJJsTm+E/lrAkmxOb4T/T8thW9JrhP1Wu4WGgmeE/HXWXXTaZ4T8QuwFTi1HfPyJRoayZe9w/61m8KoAX1j+FqnMLjizPPxhIPm8EbME/vtFPwwcVpz9l20hrNarOPmXbSGs1qs4+",
          "dtype": "f8"
         }
        },
        {
         "customdata": {
          "bdata": "AAAAAABAn0AAAAAAAECfQAAAAAAAQJ9AAAAAAABAn0AAAAAAAECfQAAAAAAAQJ9AAAAAAABAn0AAAAAAAECfQAAAAAAAQJ9AAAAAAABAn0AAAAAAAECfQAAAAAAAQJ9AAAAAAABAn0AAAAAAAECfQAAAAAAAQJ9AAAAAAABAn0AAAAAAAECfQAAAAAAAQJ9AAAAAAABAn0AAAAAAAECfQAAAAAAAQJ9AAAAAAABAn0AAAAAAAECfQAAAAAAAQJ9AAAAAAABAn0AAAAAAAECfQAAAAAAAQJ9AAAAAAABAn0AAAAAAAECfQAAAAAAAQJ9AAAAAAABAn0AAAAAAAECfQAAAAAAAQJ9AAAAAAABAn0AAAAAAAECfQAAAAAAAQJ9AAAAAAABAn0AAAAAAAECfQAAAAAAAQJ9AAAAAAABAn0AAAAAAAECfQAAAAAAAQJ9AAAAAAABAn0AAAAAAAECfQAAAAAAAQJ9AAAAAAABAn0AAAAAAAECfQAAAAAAAQJ9A",
          "dtype": "f8",
          "shape": "48, 1"
         },
         "hovertemplate": "<b>Time Step:</b> %{x}<br><b>Budget Left Ratio:</b> %{y:.3f}<br><b>Budget:</b> %{customdata[0]:.0f}<br><extra></extra>",
         "line": {
          "color": "rgb(49, 54, 149)",
          "width": 1.5
         },
         "mode": "lines",
         "opacity": 0.35,
         "showlegend": false,
         "type": "scatter",
         "x": {
          "bdata": "AAECAwQFBgcICQoLDA0ODxAREhMUFRYXGBkaGxwdHh8gISIjJCUmJygpKissLS4v",
          "dtype": "i1"
         },
         "y": {
          "bdata": "AAAAAAAA8D8AAAAAAADwPwAAAAAAAPA/AAAAAAAA8D8AAAAAAADwPwAAAAAAAPA/AAAAAAAA8D8AAAAAAADwPzVSCexSr+8/WtKtWszu7j+S5eC2GRPuP6bRavk61es/2WBX7TIr5z8eCUe1NDPhP21DPLamI9k/asiDxV+AyT9qyIPFX4DJP2rIg8VfgMk/asiDxV+AyT9qyIPFX4DJP2rIg8VfgMk/asiDxV+AyT9qyIPFX4DJP2rIg8VfgMk/asiDxV+AyT9qyIPFX4DJP5NwkeUrf8k/YtxUdAxcyT9IX+RmGe7IP0hf5GYZ7sg/EPi1aP2ryD8Q+LVo/avIP7hWwe83W7k/TAedVV3RsT/+9AlRs9yJP5FtBe1mz2w/oJr3YEJmZT8nMZP433RhP2ZmiQXMbFM/cT3qFUwfEj9xPeoVTB8SP3E96hVMHxI/cT3qFUwfEj9xPeoVTB8SP3E96hVMHxI/cT3qFUwfEj9xPeoVTB8SP3E96hVMHxI/",
          "dtype": "f8"
         }
        },
        {
         "customdata": {
          "bdata": "AAAAAAAqskAAAAAAACqyQAAAAAAAKrJAAAAAAAAqskAAAAAAACqyQAAAAAAAKrJAAAAAAAAqskAAAAAAACqyQAAAAAAAKrJAAAAAAAAqskAAAAAAACqyQAAAAAAAKrJAAAAAAAAqskAAAAAAACqyQAAAAAAAKrJAAAAAAAAqskAAAAAAACqyQAAAAAAAKrJAAAAAAAAqskAAAAAAACqyQAAAAAAAKrJAAAAAAAAqskAAAAAAACqyQAAAAAAAKrJAAAAAAAAqskAAAAAAACqyQAAAAAAAKrJAAAAAAAAqskAAAAAAACqyQAAAAAAAKrJAAAAAAAAqskAAAAAAACqyQAAAAAAAKrJAAAAAAAAqskAAAAAAACqyQAAAAAAAKrJAAAAAAAAqskAAAAAAACqyQAAAAAAAKrJAAAAAAAAqskAAAAAAACqyQAAAAAAAKrJAAAAAAAAqskAAAAAAACqyQAAAAAAAKrJAAAAAAAAqskAAAAAAACqyQAAAAAAAKrJA",
          "dtype": "f8",
          "shape": "48, 1"
         },
         "hovertemplate": "<b>Time Step:</b> %{x}<br><b>Budget Left Ratio:</b> %{y:.3f}<br><b>Budget:</b> %{customdata[0]:.0f}<br><extra></extra>",
         "line": {
          "color": "rgb(200, 34, 39)",
          "width": 1.5
         },
         "mode": "lines",
         "opacity": 0.35,
         "showlegend": false,
         "type": "scatter",
         "x": {
          "bdata": "AAECAwQFBgcICQoLDA0ODxAREhMUFRYXGBkaGxwdHh8gISIjJCUmJygpKissLS4v",
          "dtype": "i1"
         },
         "y": {
          "bdata": "1HUWNSr/7z+EGYFT2/zvP4QZgVPb/O8/e3Htfo/87z97ce1+j/zvPwm28FxX++8//FwEmKr67z/8XASYqvrvP/xcBJiq+u8//FwEmKr67z/8XASYqvrvP2hXIXmC+u8/aFcheYL67z/mZdaTIfnvP2bwVl869u8/9wPO/Pzw7z/3A878/PDvP3V7KOuC8O8/GaBs1z/w7z8m4bL1SenvP+xErqL95u8/3yIYj6/g7z/7yJwFpt3vP1eW3Aw2i+8/LUVlVFSv7T9QVVFVHk/sPwyxosFJCOk/hOEO5rrz5T8dHyrsOl/kPxqRq5rDs+I/pSzE45l24D/oHTNEy8rcP2fBjDbFzNk//C17xfcA2D+8qqhIcVDWP2Us/LnT1dM/p54OUpM40j/Wb+0cI/DQPxkgtWiQAs8/6Sbup4DLzD+3bu5z9rHJPz7WApMMG8Q//k85viREwz9zcyCfUhyzP8UxT4RYqKE/JNjF3mkgiz+oVnlqApPBPqhWeWoCk8E+",
          "dtype": "f8"
         }
        },
        {
         "customdata": {
          "bdata": "AAAAAACopkAAAAAAAKimQAAAAAAAqKZAAAAAAACopkAAAAAAAKimQAAAAAAAqKZAAAAAAACopkAAAAAAAKimQAAAAAAAqKZAAAAAAACopkAAAAAAAKimQAAAAAAAqKZAAAAAAACopkAAAAAAAKimQAAAAAAAqKZAAAAAAACopkAAAAAAAKimQAAAAAAAqKZAAAAAAACopkAAAAAAAKimQAAAAAAAqKZAAAAAAACopkAAAAAAAKimQAAAAAAAqKZAAAAAAACopkAAAAAAAKimQAAAAAAAqKZAAAAAAACopkAAAAAAAKimQAAAAAAAqKZAAAAAAACopkAAAAAAAKimQAAAAAAAqKZAAAAAAACopkAAAAAAAKimQAAAAAAAqKZAAAAAAACopkAAAAAAAKimQAAAAAAAqKZAAAAAAACopkAAAAAAAKimQAAAAAAAqKZAAAAAAACopkAAAAAAAKimQAAAAAAAqKZAAAAAAACopkAAAAAAAKimQAAAAAAAqKZA",
          "dtype": "f8",
          "shape": "48, 1"
         },
         "hovertemplate": "<b>Time Step:</b> %{x}<br><b>Budget Left Ratio:</b> %{y:.3f}<br><b>Budget:</b> %{customdata[0]:.0f}<br><extra></extra>",
         "line": {
          "color": "rgb(179, 221, 235)",
          "width": 1.5
         },
         "mode": "lines",
         "opacity": 0.35,
         "showlegend": false,
         "type": "scatter",
         "x": {
          "bdata": "AAECAwQFBgcICQoLDA0ODxAREhMUFRYXGBkaGxwdHh8gISIjJCUmJygpKissLS4v",
          "dtype": "i1"
         },
         "y": {
          "bdata": "gwLgCrdi6z8GozO1S0LqPyXjyppIv+g/2GFesRYn6D+s+rbCBbDnP1ft36W0cec/rV6dK0sc5z+OUg3rE8LmP0tb6S8DmOY/1DWlfbd+5j9ZU4DIlAzmP9BV5o2JLeU/lNp6dOgx5D+TEBSXvGXjP5z2dh50euI/tNAVECEw4T+00BUQITDhP7TQFRAhMOE/SZKJSe8t4T/qiYBLjC3hPzCbBa8VKeE/CHKabCIm4T8RG+9s7SXhPzVX92aovuA/9SPJU+yB4D8Oy0GvmbLePy66JCMIa9w/G9THvHrl2T8glQYfq/fVPwbY0dGpY9E/6qLUA06KxT+372qQHWu3P7fvapAda7c/VM2QezRotz+uB7QgyGK3Pz1nCz23Brc/c3KrcI8Etz8OtXSkXvK2P/ZOVXMY5bY/CpdiblXMtj8AHaglYX62PxaaarB6B7Q/JLXb2g8+pD+pmiJeT0DePqmaIl5PQN4+qZoiXk9A3j6pmiJeT0DePqmaIl5PQN4+",
          "dtype": "f8"
         }
        },
        {
         "customdata": {
          "bdata": "AAAAAAAYpUAAAAAAABilQAAAAAAAGKVAAAAAAAAYpUAAAAAAABilQAAAAAAAGKVAAAAAAAAYpUAAAAAAABilQAAAAAAAGKVAAAAAAAAYpUAAAAAAABilQAAAAAAAGKVAAAAAAAAYpUAAAAAAABilQAAAAAAAGKVAAAAAAAAYpUAAAAAAABilQAAAAAAAGKVAAAAAAAAYpUAAAAAAABilQAAAAAAAGKVAAAAAAAAYpUAAAAAAABilQAAAAAAAGKVAAAAAAAAYpUAAAAAAABilQAAAAAAAGKVAAAAAAAAYpUAAAAAAABilQAAAAAAAGKVAAAAAAAAYpUAAAAAAABilQAAAAAAAGKVAAAAAAAAYpUAAAAAAABilQAAAAAAAGKVAAAAAAAAYpUAAAAAAABilQAAAAAAAGKVAAAAAAAAYpUAAAAAAABilQAAAAAAAGKVAAAAAAAAYpUAAAAAAABilQAAAAAAAGKVAAAAAAAAYpUAAAAAAABilQAAAAAAAGKVA",
          "dtype": "f8",
          "shape": "48, 1"
         },
         "hovertemplate": "<b>Time Step:</b> %{x}<br><b>Budget Left Ratio:</b> %{y:.3f}<br><b>Budget:</b> %{customdata[0]:.0f}<br><extra></extra>",
         "line": {
          "color": "rgb(141, 193, 220)",
          "width": 1.5
         },
         "mode": "lines",
         "opacity": 0.35,
         "showlegend": false,
         "type": "scatter",
         "x": {
          "bdata": "AAECAwQFBgcICQoLDA0ODxAREhMUFRYXGBkaGxwdHh8gISIjJCUmJygpKissLS4v",
          "dtype": "i1"
         },
         "y": {
          "bdata": "AAAAAAAA8D8AAAAAAADwPwAAAAAAAPA/AAAAAAAA8D8AAAAAAADwPwAAAAAAAPA/AAAAAAAA8D8AAAAAAADwPwAAAAAAAPA/AAAAAAAA8D8AAAAAAADwPwAAAAAAAPA/AAAAAAAA8D8AAAAAAADwPwAAAAAAAPA/AAAAAAAA8D+6anj1X//vP8bnBj6y/e8/081txEf87z+SiInPAbjvP2WXYjm+oO8/Oz/LHKGH7z/yKyocMf7uP6L2d8n8lu0/TQ5vbL6W7T+Tu07ei5btP5O7Tt6Llu0/NesYdmmW7T/2lXDQpJTtP8PWjDT4kO0/KksJfZKG7T/o5dbWpX7tP0uPUbYq3+k/bRtuTKCm5T9ddiCG5aPiP8m1NiXrMN8/uGa7JoRE2z/UZqbDAyTXP1YPVedQsNI/tArjZ2Cr0D/qgvJHtzjPP4J+soOzosA/OQ6lhMbmoT/BIUe3eBqaP9Twt3mKptw+1PC3eYqm3D7U8Ld5iqbcPtTwt3mKptw+",
          "dtype": "f8"
         }
        },
        {
         "customdata": {
          "bdata": "AAAAAABEpkAAAAAAAESmQAAAAAAARKZAAAAAAABEpkAAAAAAAESmQAAAAAAARKZAAAAAAABEpkAAAAAAAESmQAAAAAAARKZAAAAAAABEpkAAAAAAAESmQAAAAAAARKZAAAAAAABEpkAAAAAAAESmQAAAAAAARKZAAAAAAABEpkAAAAAAAESmQAAAAAAARKZAAAAAAABEpkAAAAAAAESmQAAAAAAARKZAAAAAAABEpkAAAAAAAESmQAAAAAAARKZAAAAAAABEpkAAAAAAAESmQAAAAAAARKZAAAAAAABEpkAAAAAAAESmQAAAAAAARKZAAAAAAABEpkAAAAAAAESmQAAAAAAARKZAAAAAAABEpkAAAAAAAESmQAAAAAAARKZAAAAAAABEpkAAAAAAAESmQAAAAAAARKZAAAAAAABEpkAAAAAAAESmQAAAAAAARKZAAAAAAABEpkAAAAAAAESmQAAAAAAARKZAAAAAAABEpkAAAAAAAESmQAAAAAAARKZA",
          "dtype": "f8",
          "shape": "48, 1"
         },
         "hovertemplate": "<b>Time Step:</b> %{x}<br><b>Budget Left Ratio:</b> %{y:.3f}<br><b>Budget:</b> %{customdata[0]:.0f}<br><extra></extra>",
         "line": {
          "color": "rgb(170, 216, 233)",
          "width": 1.5
         },
         "mode": "lines",
         "opacity": 0.35,
         "showlegend": false,
         "type": "scatter",
         "x": {
          "bdata": "AAECAwQFBgcICQoLDA0ODxAREhMUFRYXGBkaGxwdHh8gISIjJCUmJygpKissLS4v",
          "dtype": "i1"
         },
         "y": {
          "bdata": "2BcJdoRV7z9r/Sov9gvvP8XShg351u4/FYEVCRCm7j82JATdN5LuP06cZurbju4/s9V67h2D7j/7dO10NXzuP/t07XQ1fO4/+3TtdDV87j/7dO10NXzuP/t07XQ1fO4/+3TtdDV87j/7dO10NXzuP/t07XQ1fO4/+3TtdDV87j9XepNd5XvuP8ApiDZQe+4/s4pbAr127j/yz4Qfh23uP3nndiC2VO4/KmR7by4A7j8J1ofR95zsPwC/RUFSLes/AL9FQVIt6z8Av0VBUi3rPwC/RUFSLes/AL9FQVIt6z8Av0VBUi3rPwC/RUFSLes/AL9FQVIt6z8Av0VBUi3rP8GPlk/5zec/WFVNqL5B5j+5syJQPx7jPy6j859CduA/M6zxhydL3j8ivC5ayY3bPxykcgz9ENk/6ojcuCGw1D/lSO0H0TnPP/9DRRYJjsI/5AxdW1dUtT8WtVjM7smnPwiyD89C65U/+IkALShT2j74iQAtKFPaPviJAC0oU9o+",
          "dtype": "f8"
         }
        },
        {
         "customdata": {
          "bdata": "AAAAAAD4oUAAAAAAAPihQAAAAAAA+KFAAAAAAAD4oUAAAAAAAPihQAAAAAAA+KFAAAAAAAD4oUAAAAAAAPihQAAAAAAA+KFAAAAAAAD4oUAAAAAAAPihQAAAAAAA+KFAAAAAAAD4oUAAAAAAAPihQAAAAAAA+KFAAAAAAAD4oUAAAAAAAPihQAAAAAAA+KFAAAAAAAD4oUAAAAAAAPihQAAAAAAA+KFAAAAAAAD4oUAAAAAAAPihQAAAAAAA+KFAAAAAAAD4oUAAAAAAAPihQAAAAAAA+KFAAAAAAAD4oUAAAAAAAPihQAAAAAAA+KFAAAAAAAD4oUAAAAAAAPihQAAAAAAA+KFAAAAAAAD4oUAAAAAAAPihQAAAAAAA+KFAAAAAAAD4oUAAAAAAAPihQAAAAAAA+KFAAAAAAAD4oUAAAAAAAPihQAAAAAAA+KFAAAAAAAD4oUAAAAAAAPihQAAAAAAA+KFAAAAAAAD4oUAAAAAAAPihQAAAAAAA+KFA",
          "dtype": "f8",
          "shape": "48, 1"
         },
         "hovertemplate": "<b>Time Step:</b> %{x}<br><b>Budget Left Ratio:</b> %{y:.3f}<br><b>Budget:</b> %{customdata[0]:.0f}<br><extra></extra>",
         "line": {
          "color": "rgb(71, 120, 182)",
          "width": 1.5
         },
         "mode": "lines",
         "opacity": 0.35,
         "showlegend": false,
         "type": "scatter",
         "x": {
          "bdata": "AAECAwQFBgcICQoLDA0ODxAREhMUFRYXGBkaGxwdHh8gISIjJCUmJygpKissLS4v",
          "dtype": "i1"
         },
         "y": {
          "bdata": "WIJpqjKk7z/qPUomWpHvP8ODnmIzfu8/iu54Vc157z++H1J9X2PvP+q1PyNZWO8/fOuIoFdU7z+dxSLjBFPvP53FIuMEU+8/ncUi4wRT7z+dxSLjBFPvP53FIuMEU+8/ncUi4wRT7z+dxSLjBFPvP53FIuMEU+8/ncUi4wRT7z+dxSLjBFPvP53FIuMEU+8/ncUi4wRT7z+dxSLjBFPvP53FIuMEU+8/ncUi4wRT7z+dxSLjBFPvP53FIuMEU+8/ncUi4wRT7z+dxSLjBFPvP53FIuMEU+8/ncUi4wRT7z+dxSLjBFPvP53FIuMEU+8/ncUi4wRT7z+dxSLjBFPvP6/y6hxQSe8/ssxpZYJj7j97SOlCA0HtPwAhA5jSF+0/RBaCC+xA7D/fVsTLfVPqPywKJIdC8uc/qOIdl0EK4z89ohZ6CFPaP34bdHHYG9E/3/ai/qP9wD8gSIQuj4+yPw7fNSuHaf8+Dt81K4dp/z4O3zUrh2n/Pg7fNSuHaf8+",
          "dtype": "f8"
         }
        },
        {
         "customdata": {
          "bdata": "AAAAAAAEsEAAAAAAAASwQAAAAAAABLBAAAAAAAAEsEAAAAAAAASwQAAAAAAABLBAAAAAAAAEsEAAAAAAAASwQAAAAAAABLBAAAAAAAAEsEAAAAAAAASwQAAAAAAABLBAAAAAAAAEsEAAAAAAAASwQAAAAAAABLBAAAAAAAAEsEAAAAAAAASwQAAAAAAABLBAAAAAAAAEsEAAAAAAAASwQAAAAAAABLBAAAAAAAAEsEAAAAAAAASwQAAAAAAABLBAAAAAAAAEsEAAAAAAAASwQAAAAAAABLBAAAAAAAAEsEAAAAAAAASwQAAAAAAABLBAAAAAAAAEsEAAAAAAAASwQAAAAAAABLBAAAAAAAAEsEAAAAAAAASwQAAAAAAABLBAAAAAAAAEsEAAAAAAAASwQAAAAAAABLBAAAAAAAAEsEAAAAAAAASwQAAAAAAABLBAAAAAAAAEsEAAAAAAAASwQAAAAAAABLBAAAAAAAAEsEAAAAAAAASwQAAAAAAABLBA",
          "dtype": "f8",
          "shape": "48, 1"
         },
         "hovertemplate": "<b>Time Step:</b> %{x}<br><b>Budget Left Ratio:</b> %{y:.3f}<br><b>Budget:</b> %{customdata[0]:.0f}<br><extra></extra>",
         "line": {
          "color": "rgb(250, 150, 86)",
          "width": 1.5
         },
         "mode": "lines",
         "opacity": 0.35,
         "showlegend": false,
         "type": "scatter",
         "x": {
          "bdata": "AAECAwQFBgcICQoLDA0ODxAREhMUFRYXGBkaGxwdHh8gISIjJCUmJygpKissLS4v",
          "dtype": "i1"
         },
         "y": {
          "bdata": "AAAAAAAA8D8AAAAAAADwPwAAAAAAAPA/AAAAAAAA8D8AAAAAAADwPwAAAAAAAPA/AAAAAAAA8D8AAAAAAADwPwAAAAAAAPA/AAAAAAAA8D8AAAAAAADwPwAAAAAAAPA/AAAAAAAA8D8AAAAAAADwPwAAAAAAAPA/AAAAAAAA8D8AAAAAAADwPwAAAAAAAPA/AAAAAAAA8D8x8pJbTf3vP42671YA/O8/dpZ3ie7r7z+aR6L05N3vPwoXysyNzO8/BhWUKH7v7j+pZf5l2j3sPy/PTgyHE+g/WZAYmAna5T+WW+BxS+biP+Jo1wWejt4/ktBQNCZt1j8pGuyavWXOPyka7Jq9Zc4/9P+1jBpkzj+8X/NA0UrOP23LHqVXH84/P2VGWwlkzT8h3RDzZ27KP4cTGQTIGMc/Usm0CE0Twj+PJK1r4py6Pw+CxjeLl6g/KVqXrDLpOz/9DcivNbnaPv0NyK81udo+/Q3IrzW52j79DcivNbnaPv0NyK81udo+",
          "dtype": "f8"
         }
        },
        {
         "customdata": {
          "bdata": "AAAAAAD+sEAAAAAAAP6wQAAAAAAA/rBAAAAAAAD+sEAAAAAAAP6wQAAAAAAA/rBAAAAAAAD+sEAAAAAAAP6wQAAAAAAA/rBAAAAAAAD+sEAAAAAAAP6wQAAAAAAA/rBAAAAAAAD+sEAAAAAAAP6wQAAAAAAA/rBAAAAAAAD+sEAAAAAAAP6wQAAAAAAA/rBAAAAAAAD+sEAAAAAAAP6wQAAAAAAA/rBAAAAAAAD+sEAAAAAAAP6wQAAAAAAA/rBAAAAAAAD+sEAAAAAAAP6wQAAAAAAA/rBAAAAAAAD+sEAAAAAAAP6wQAAAAAAA/rBAAAAAAAD+sEAAAAAAAP6wQAAAAAAA/rBAAAAAAAD+sEAAAAAAAP6wQAAAAAAA/rBAAAAAAAD+sEAAAAAAAP6wQAAAAAAA/rBAAAAAAAD+sEAAAAAAAP6wQAAAAAAA/rBAAAAAAAD+sEAAAAAAAP6wQAAAAAAA/rBAAAAAAAD+sEAAAAAAAP6wQAAAAAAA/rBA",
          "dtype": "f8",
          "shape": "48, 1"
         },
         "hovertemplate": "<b>Time Step:</b> %{x}<br><b>Budget Left Ratio:</b> %{y:.3f}<br><b>Budget:</b> %{customdata[0]:.0f}<br><extra></extra>",
         "line": {
          "color": "rgb(237, 94, 60)",
          "width": 1.5
         },
         "mode": "lines",
         "opacity": 0.35,
         "showlegend": false,
         "type": "scatter",
         "x": {
          "bdata": "AAECAwQFBgcICQoLDA0ODxAREhMUFRYXGBkaGxwdHh8gISIjJCUmJygpKissLS4v",
          "dtype": "i1"
         },
         "y": {
          "bdata": "91BPwmT37z8Kcrv0M6vvP4x0DBYGp+8/nZmYI8Wg7z918mGQKZbvP3sEbEcije8/yPbxnyeM7z/9Vf75wIfvP/1V/vnAh+8//VX++cCH7z/9Vf75wIfvP/1V/vnAh+8/VZ4naHOH7z9Vnidoc4fvP1WeJ2hzh+8/j+x6SFCH7z9j/VhL32rvP/D3xAxdWO8/j8x3OKtE7z867PWY7vbuP3tZSyfss+4/YZgFjPfi7T9AWcBp03HsP6JhjJpjUeo/Nm0M4Brx6D+9t8co2AnnP20KKsMeo+U/4g4kw1+t5D8pbGGYt6vjP7N49t8gCOM/zZBnIEew4T+WHlsqVoXgP9hgByu8eeA/YMzhA5083j+5UnrNId7ZP2nY1bfYMdU/Ht+J5QjM0j+6q/8xM0vRPy/vGXXOUc8/ZkaFrG2ezj8wNSuPnk7MP70jWFsRBsk/AarwwBPfwz/sUieYb+25P/A2irTP57M/l4PWeyI/lT/SeYvRn/PrPtJ5i9Gf8+s+",
          "dtype": "f8"
         }
        },
        {
         "customdata": {
          "bdata": "AAAAAAB4rkAAAAAAAHiuQAAAAAAAeK5AAAAAAAB4rkAAAAAAAHiuQAAAAAAAeK5AAAAAAAB4rkAAAAAAAHiuQAAAAAAAeK5AAAAAAAB4rkAAAAAAAHiuQAAAAAAAeK5AAAAAAAB4rkAAAAAAAHiuQAAAAAAAeK5AAAAAAAB4rkAAAAAAAHiuQAAAAAAAeK5AAAAAAAB4rkAAAAAAAHiuQAAAAAAAeK5AAAAAAAB4rkAAAAAAAHiuQAAAAAAAeK5AAAAAAAB4rkAAAAAAAHiuQAAAAAAAeK5AAAAAAAB4rkAAAAAAAHiuQAAAAAAAeK5AAAAAAAB4rkAAAAAAAHiuQAAAAAAAeK5AAAAAAAB4rkAAAAAAAHiuQAAAAAAAeK5AAAAAAAB4rkAAAAAAAHiuQAAAAAAAeK5AAAAAAAB4rkAAAAAAAHiuQAAAAAAAeK5AAAAAAAB4rkAAAAAAAHiuQAAAAAAAeK5AAAAAAAB4rkAAAAAAAHiuQAAAAAAAeK5A",
          "dtype": "f8",
          "shape": "48, 1"
         },
         "hovertemplate": "<b>Time Step:</b> %{x}<br><b>Budget Left Ratio:</b> %{y:.3f}<br><b>Budget:</b> %{customdata[0]:.0f}<br><extra></extra>",
         "line": {
          "color": "rgb(253, 191, 113)",
          "width": 1.5
         },
         "mode": "lines",
         "opacity": 0.35,
         "showlegend": false,
         "type": "scatter",
         "x": {
          "bdata": "AAECAwQFBgcICQoLDA0ODxAREhMUFRYXGBkaGxwdHh8gISIjJCUmJygpKissLS4v",
          "dtype": "i1"
         },
         "y": {
          "bdata": "AAAAAAAA8D8AAAAAAADwPwAAAAAAAPA/AAAAAAAA8D8AAAAAAADwPwAAAAAAAPA/AAAAAAAA8D8AAAAAAADwPwAAAAAAAPA/AAAAAAAA8D8AAAAAAADwPwAAAAAAAPA/AAAAAAAA8D8AAAAAAADwPwAAAAAAAPA/AAAAAAAA8D85JLHeqk7uPxboahxe4Ow/WxGhS63C6j/L51o5ug/oP9agKIBdWOI/1KZe5WtA2j/3FhKSPwfQP2v5Pkwv/sE/ocQme9mUvj+CTgZU5HK9PxmAz1RBXrg/iyNIt9P2sT8QfFvu7GWmP5wUUBp8spc/S9xFJHm5dD/A+qsHFpbYPsD6qwcWltg+wPqrBxaW2D7A+qsHFpbYPsD6qwcWltg+wPqrBxaW2D7A+qsHFpbYPsD6qwcWltg+wPqrBxaW2D7A+qsHFpbYPsD6qwcWltg+wPqrBxaW2D7A+qsHFpbYPsD6qwcWltg+wPqrBxaW2D7A+qsHFpbYPsD6qwcWltg+",
          "dtype": "f8"
         }
        },
        {
         "customdata": {
          "bdata": "AAAAAABAn0AAAAAAAECfQAAAAAAAQJ9AAAAAAABAn0AAAAAAAECfQAAAAAAAQJ9AAAAAAABAn0AAAAAAAECfQAAAAAAAQJ9AAAAAAABAn0AAAAAAAECfQAAAAAAAQJ9AAAAAAABAn0AAAAAAAECfQAAAAAAAQJ9AAAAAAABAn0AAAAAAAECfQAAAAAAAQJ9AAAAAAABAn0AAAAAAAECfQAAAAAAAQJ9AAAAAAABAn0AAAAAAAECfQAAAAAAAQJ9AAAAAAABAn0AAAAAAAECfQAAAAAAAQJ9AAAAAAABAn0AAAAAAAECfQAAAAAAAQJ9AAAAAAABAn0AAAAAAAECfQAAAAAAAQJ9AAAAAAABAn0AAAAAAAECfQAAAAAAAQJ9AAAAAAABAn0AAAAAAAECfQAAAAAAAQJ9AAAAAAABAn0AAAAAAAECfQAAAAAAAQJ9AAAAAAABAn0AAAAAAAECfQAAAAAAAQJ9AAAAAAABAn0AAAAAAAECfQAAAAAAAQJ9A",
          "dtype": "f8",
          "shape": "48, 1"
         },
         "hovertemplate": "<b>Time Step:</b> %{x}<br><b>Budget Left Ratio:</b> %{y:.3f}<br><b>Budget:</b> %{customdata[0]:.0f}<br><extra></extra>",
         "line": {
          "color": "rgb(49, 54, 149)",
          "width": 1.5
         },
         "mode": "lines",
         "opacity": 0.35,
         "showlegend": false,
         "type": "scatter",
         "x": {
          "bdata": "AAECAwQFBgcICQoLDA0ODxAREhMUFRYXGBkaGxwdHh8gISIjJCUmJygpKissLS4v",
          "dtype": "i1"
         },
         "y": {
          "bdata": "AAAAAAAA8D8AAAAAAADwPwAAAAAAAPA/AAAAAAAA8D8AAAAAAADwPwAAAAAAAPA/AAAAAAAA8D8AAAAAAADwPwAAAAAAAPA/AAAAAAAA8D8AAAAAAADwPwAAAAAAAPA/AAAAAAAA8D8AAAAAAADwPwAAAAAAAPA/AAAAAAAA8D/wu3Ughv/vP+XzpAUp6+8/D5I/F9Lq7z+tSznY7KPvP960tgmlHu4/lxaxYy+k6z8l/V90faznPx+fhseFEuQ/qnNfZxTA4z+FQjBNn5vjP/S96D1IquI/u95+GXO13z8Onqz6mNreP6IwZuK1wN0/tjbyut+/3D8E3QmAk9DaP+dtq0kxzdo/miq+fVWA2j+Pixk9UFvaP3M2rVb4Ito/vuK/dqa82T8QzaPaaSHUPz8tmzkIdtE/H8BplQ8K0D9gAWyeotfPP8Mt1UVgYc8/shEgumStyD+2pySt02C+P05SNBTgWbc/tkvSwJq8pT8jGxQAq3mJP6abxOb2svg+",
          "dtype": "f8"
         }
        },
        {
         "customdata": {
          "bdata": "AAAAAABkqUAAAAAAAGSpQAAAAAAAZKlAAAAAAABkqUAAAAAAAGSpQAAAAAAAZKlAAAAAAABkqUAAAAAAAGSpQAAAAAAAZKlAAAAAAABkqUAAAAAAAGSpQAAAAAAAZKlAAAAAAABkqUAAAAAAAGSpQAAAAAAAZKlAAAAAAABkqUAAAAAAAGSpQAAAAAAAZKlAAAAAAABkqUAAAAAAAGSpQAAAAAAAZKlAAAAAAABkqUAAAAAAAGSpQAAAAAAAZKlAAAAAAABkqUAAAAAAAGSpQAAAAAAAZKlAAAAAAABkqUAAAAAAAGSpQAAAAAAAZKlAAAAAAABkqUAAAAAAAGSpQAAAAAAAZKlAAAAAAABkqUAAAAAAAGSpQAAAAAAAZKlAAAAAAABkqUAAAAAAAGSpQAAAAAAAZKlAAAAAAABkqUAAAAAAAGSpQAAAAAAAZKlAAAAAAABkqUAAAAAAAGSpQAAAAAAAZKlAAAAAAABkqUAAAAAAAGSpQAAAAAAAZKlA",
          "dtype": "f8",
          "shape": "48, 1"
         },
         "hovertemplate": "<b>Time Step:</b> %{x}<br><b>Budget Left Ratio:</b> %{y:.3f}<br><b>Budget:</b> %{customdata[0]:.0f}<br><extra></extra>",
         "line": {
          "color": "rgb(236, 248, 226)",
          "width": 1.5
         },
         "mode": "lines",
         "opacity": 0.35,
         "showlegend": false,
         "type": "scatter",
         "x": {
          "bdata": "AAECAwQFBgcICQoLDA0ODxAREhMUFRYXGBkaGxwdHh8gISIjJCUmJygpKissLS4v",
          "dtype": "i1"
         },
         "y": {
          "bdata": "C73rDMZV7z9N9XCBKETvP7BJTsYD/u4/XrsTQuPm7j/RqHNp1dbuP5q0crQQ0u4/LrywnnbQ7j+vUUOto8nuP69RQ62jye4/BcEm+D3J7j+gagx3973uP0TmIvDTtO4/EOC1zR+v7j9W9xdIOJTuP9PK0li4kO4/H5vq5CFK7j9BY0CkrEDuP/Qz52ibG+4/WfMZk9wT7j+MxYUruAHuP3k94uIJC+0/yGA2ytYD7D+Kb1lX5pDqPzXYZFeVSOk/S11S7AbG6D/aIVZaP23oP48Pw1Qi3ec/QRk2l0Ln5j+7EEnq1SzmP6L0gBNrVOU/eTUGnlgc5D/T/qTq1vriP1MYvwfLpeI/8oeIamy13z+RLzZpQyLaPxXzwsEhv9U/hKo1yDrq0z9fj1aJv1HSP1+/+oYzKdE/kw56/BI2zz+VvrP5MKvLP+jlcI7Gi8Y/NCZV2VUqvD/tiREsZResPx5X3/6eI4w/Krg7DrEXfz8mkDUMSX+uPiaQNQxJf64+",
          "dtype": "f8"
         }
        },
        {
         "customdata": {
          "bdata": "AAAAAACQqkAAAAAAAJCqQAAAAAAAkKpAAAAAAACQqkAAAAAAAJCqQAAAAAAAkKpAAAAAAACQqkAAAAAAAJCqQAAAAAAAkKpAAAAAAACQqkAAAAAAAJCqQAAAAAAAkKpAAAAAAACQqkAAAAAAAJCqQAAAAAAAkKpAAAAAAACQqkAAAAAAAJCqQAAAAAAAkKpAAAAAAACQqkAAAAAAAJCqQAAAAAAAkKpAAAAAAACQqkAAAAAAAJCqQAAAAAAAkKpAAAAAAACQqkAAAAAAAJCqQAAAAAAAkKpAAAAAAACQqkAAAAAAAJCqQAAAAAAAkKpAAAAAAACQqkAAAAAAAJCqQAAAAAAAkKpAAAAAAACQqkAAAAAAAJCqQAAAAAAAkKpAAAAAAACQqkAAAAAAAJCqQAAAAAAAkKpAAAAAAACQqkAAAAAAAJCqQAAAAAAAkKpAAAAAAACQqkAAAAAAAJCqQAAAAAAAkKpAAAAAAACQqkAAAAAAAJCqQAAAAAAAkKpA",
          "dtype": "f8",
          "shape": "48, 1"
         },
         "hovertemplate": "<b>Time Step:</b> %{x}<br><b>Budget Left Ratio:</b> %{y:.3f}<br><b>Budget:</b> %{customdata[0]:.0f}<br><extra></extra>",
         "line": {
          "color": "rgb(252, 254, 196)",
          "width": 1.5
         },
         "mode": "lines",
         "opacity": 0.35,
         "showlegend": false,
         "type": "scatter",
         "x": {
          "bdata": "AAECAwQFBgcICQoLDA0ODxAREhMUFRYXGBkaGxwdHh8gISIjJCUmJygpKissLS4v",
          "dtype": "i1"
         },
         "y": {
          "bdata": "AAAAAAAA8D8AAAAAAADwPwAAAAAAAPA/AAAAAAAA8D8AAAAAAADwPwAAAAAAAPA/AAAAAAAA8D8AAAAAAADwPwAAAAAAAPA/AAAAAAAA8D8AAAAAAADwPwAAAAAAAPA/AAAAAAAA8D8AAAAAAADwPwAAAAAAAPA/AAAAAAAA8D8AAAAAAADwPwAAAAAAAPA/AAAAAAAA8D8AAAAAAADwPwAAAAAAAPA/AAAAAAAA8D8AAAAAAADwP//9PHBi/+8///08cGL/7z///TxwYv/vP0s8pNUQ/e8/mx0ZrMfx7z8BBrDMEuzvP9Zkx/1c0O8/gv8tJyXJ7z98LAk7i2vvPyyz/ehLiO4/2T5O8wdW7T+anvTbD3nsP/1Q5pLpies/upLZbWGJ6j8Xp5mc67XpPzcLAWtYyOg/ELKKEQde5z/MlzIOjGLkP4+vpM2Gtt4/0qwv19zN0j+gP+nnGAjHPyoK70SJMbY/2FHejhn7rz8r+MTxuTLEPiv4xPG5MsQ+",
          "dtype": "f8"
         }
        },
        {
         "customdata": {
          "bdata": "AAAAAACasEAAAAAAAJqwQAAAAAAAmrBAAAAAAACasEAAAAAAAJqwQAAAAAAAmrBAAAAAAACasEAAAAAAAJqwQAAAAAAAmrBAAAAAAACasEAAAAAAAJqwQAAAAAAAmrBAAAAAAACasEAAAAAAAJqwQAAAAAAAmrBAAAAAAACasEAAAAAAAJqwQAAAAAAAmrBAAAAAAACasEAAAAAAAJqwQAAAAAAAmrBAAAAAAACasEAAAAAAAJqwQAAAAAAAmrBAAAAAAACasEAAAAAAAJqwQAAAAAAAmrBAAAAAAACasEAAAAAAAJqwQAAAAAAAmrBAAAAAAACasEAAAAAAAJqwQAAAAAAAmrBAAAAAAACasEAAAAAAAJqwQAAAAAAAmrBAAAAAAACasEAAAAAAAJqwQAAAAAAAmrBAAAAAAACasEAAAAAAAJqwQAAAAAAAmrBAAAAAAACasEAAAAAAAJqwQAAAAAAAmrBAAAAAAACasEAAAAAAAJqwQAAAAAAAmrBA",
          "dtype": "f8",
          "shape": "48, 1"
         },
         "hovertemplate": "<b>Time Step:</b> %{x}<br><b>Budget Left Ratio:</b> %{y:.3f}<br><b>Budget:</b> %{customdata[0]:.0f}<br><extra></extra>",
         "line": {
          "color": "rgb(245, 116, 70)",
          "width": 1.5
         },
         "mode": "lines",
         "opacity": 0.35,
         "showlegend": false,
         "type": "scatter",
         "x": {
          "bdata": "AAECAwQFBgcICQoLDA0ODxAREhMUFRYXGBkaGxwdHh8gISIjJCUmJygpKissLS4v",
          "dtype": "i1"
         },
         "y": {
          "bdata": "AAAAAAAA8D8AAAAAAADwPwAAAAAAAPA/AAAAAAAA8D8AAAAAAADwPwAAAAAAAPA/AAAAAAAA8D8AAAAAAADwP1/4Qcwf/u8/Skdi3+T17z/HiFdmKtvvP1SjX98Xwu8/MQ5+2Vln7z9/RnYlOVXvP6anOGpQ3u0/I19oas1g7D8jX2hqzWDsPyNfaGrNYOw/I19oas1g7D8jX2hqzWDsPyNfaGrNYOw/I19oas1g7D8QHPUcrGDsPxAc9RysYOw/EBz1HKxg7D8QHPUcrGDsPxAc9RysYOw/EBz1HKxg7D8QHPUcrGDsPxAc9RysYOw/EBz1HKxg7D8QHPUcrGDsP1dsfo4kZOg/SrDwFWbm5j8EQS7QM8flP70lDAF6p+Q/CpIXV3PZ4z+OB5rREaPiP00lhlxSdeE/cNnJKgxU4D/oPbh681PgP5Btf5XXU+A/EpboZjIt4D9fCPz/V+LeP4J903TLRds/0XEDu0RP1z/mFrvrWC7TP4gveqClltA/",
          "dtype": "f8"
         }
        },
        {
         "customdata": {
          "bdata": "AAAAAAAqskAAAAAAACqyQAAAAAAAKrJAAAAAAAAqskAAAAAAACqyQAAAAAAAKrJAAAAAAAAqskAAAAAAACqyQAAAAAAAKrJAAAAAAAAqskAAAAAAACqyQAAAAAAAKrJAAAAAAAAqskAAAAAAACqyQAAAAAAAKrJAAAAAAAAqskAAAAAAACqyQAAAAAAAKrJAAAAAAAAqskAAAAAAACqyQAAAAAAAKrJAAAAAAAAqskAAAAAAACqyQAAAAAAAKrJAAAAAAAAqskAAAAAAACqyQAAAAAAAKrJAAAAAAAAqskAAAAAAACqyQAAAAAAAKrJAAAAAAAAqskAAAAAAACqyQAAAAAAAKrJAAAAAAAAqskAAAAAAACqyQAAAAAAAKrJAAAAAAAAqskAAAAAAACqyQAAAAAAAKrJAAAAAAAAqskAAAAAAACqyQAAAAAAAKrJAAAAAAAAqskAAAAAAACqyQAAAAAAAKrJAAAAAAAAqskAAAAAAACqyQAAAAAAAKrJA",
          "dtype": "f8",
          "shape": "48, 1"
         },
         "hovertemplate": "<b>Time Step:</b> %{x}<br><b>Budget Left Ratio:</b> %{y:.3f}<br><b>Budget:</b> %{customdata[0]:.0f}<br><extra></extra>",
         "line": {
          "color": "rgb(200, 34, 39)",
          "width": 1.5
         },
         "mode": "lines",
         "opacity": 0.35,
         "showlegend": false,
         "type": "scatter",
         "x": {
          "bdata": "AAECAwQFBgcICQoLDA0ODxAREhMUFRYXGBkaGxwdHh8gISIjJCUmJygpKissLS4v",
          "dtype": "i1"
         },
         "y": {
          "bdata": "x2fs2nvS7z83k0vmqpfvPxKTIEKWle8/3w9Ygl937z9PlP3DynbvPxOEXoCVce8/babhRsdw7z/F6gpUaWvvP8XqClRpa+8/xeoKVGlr7z/F6gpUaWvvP8XqClRpa+8/xeoKVGlr7z/F6gpUaWvvP8XqClRpa+8/xeoKVGlr7z/pNkvK1YDuP9Re65pANOs/go4XbQ/O6D81wk0eo4bmP0oMCYL+9+I/yyAbBBCR3j8g9VLCxhzXP6v/nSaYfM8/q/+dJph8zz+r/50mmHzPP6v/nSaYfM8/q/+dJph8zz+r/50mmHzPP6v/nSaYfM8/q/+dJph8zz+r/50mmHzPPzERCsqSv8o/3LYfTT+vxj/98XweJh7CP7sjy811hrg/FK5PXOA+rj/l2tDfKeaBPwPOLWAdf+A+A84tYB1/4D4Dzi1gHX/gPgPOLWAdf+A+A84tYB1/4D4Dzi1gHX/gPgPOLWAdf+A+A84tYB1/4D4Dzi1gHX/gPgPOLWAdf+A+",
          "dtype": "f8"
         }
        },
        {
         "customdata": {
          "bdata": "AAAAAAAEoEAAAAAAAASgQAAAAAAABKBAAAAAAAAEoEAAAAAAAASgQAAAAAAABKBAAAAAAAAEoEAAAAAAAASgQAAAAAAABKBAAAAAAAAEoEAAAAAAAASgQAAAAAAABKBAAAAAAAAEoEAAAAAAAASgQAAAAAAABKBAAAAAAAAEoEAAAAAAAASgQAAAAAAABKBAAAAAAAAEoEAAAAAAAASgQAAAAAAABKBAAAAAAAAEoEAAAAAAAASgQAAAAAAABKBAAAAAAAAEoEAAAAAAAASgQAAAAAAABKBAAAAAAAAEoEAAAAAAAASgQAAAAAAABKBAAAAAAAAEoEAAAAAAAASgQAAAAAAABKBAAAAAAAAEoEAAAAAAAASgQAAAAAAABKBAAAAAAAAEoEAAAAAAAASgQAAAAAAABKBAAAAAAAAEoEAAAAAAAASgQAAAAAAABKBAAAAAAAAEoEAAAAAAAASgQAAAAAAABKBAAAAAAAAEoEAAAAAAAASgQAAAAAAABKBA",
          "dtype": "f8",
          "shape": "48, 1"
         },
         "hovertemplate": "<b>Time Step:</b> %{x}<br><b>Budget Left Ratio:</b> %{y:.3f}<br><b>Budget:</b> %{customdata[0]:.0f}<br><extra></extra>",
         "line": {
          "color": "rgb(53, 65, 154)",
          "width": 1.5
         },
         "mode": "lines",
         "opacity": 0.35,
         "showlegend": false,
         "type": "scatter",
         "x": {
          "bdata": "AAECAwQFBgcICQoLDA0ODxAREhMUFRYXGBkaGxwdHh8gISIjJCUmJygpKissLS4v",
          "dtype": "i1"
         },
         "y": {
          "bdata": "AAAAAAAA8D8AAAAAAADwPwAAAAAAAPA/AAAAAAAA8D8AAAAAAADwPwAAAAAAAPA/AAAAAAAA8D8AAAAAAADwPwAAAAAAAPA/AAAAAAAA8D8AAAAAAADwPwAAAAAAAPA/AAAAAAAA8D8AAAAAAADwPwAAAAAAAPA/AAAAAAAA8D8AAAAAAADwPwAAAAAAAPA/AAAAAAAA8D8AAAAAAADwPwAAAAAAAPA/AAAAAAAA8D8AAAAAAADwPwAAAAAAAPA/ohqaaVC56z/qrFWhLhLkP4W7Eb79E90/1UK6OQBp0z/K1wQ+EZnNPx3berjcT8U/32J5AfNcuj/xPfLSpTW1P/E98tKlNbU/8T3y0qU1tT+AoGnzHSy1P9l73lmlo7Q/7odG7bVjtD9Ejzxgn8KxP1cl57XDOK4/9LGbCytjqD/+BxgNvPOgP6xRudyTigE/rFG53JOKAT+sUbnck4oBP6xRudyTigE/rFG53JOKAT+sUbnck4oBP6xRudyTigE/",
          "dtype": "f8"
         }
        },
        {
         "customdata": {
          "bdata": "AAAAAAD4sUAAAAAAAPixQAAAAAAA+LFAAAAAAAD4sUAAAAAAAPixQAAAAAAA+LFAAAAAAAD4sUAAAAAAAPixQAAAAAAA+LFAAAAAAAD4sUAAAAAAAPixQAAAAAAA+LFAAAAAAAD4sUAAAAAAAPixQAAAAAAA+LFAAAAAAAD4sUAAAAAAAPixQAAAAAAA+LFAAAAAAAD4sUAAAAAAAPixQAAAAAAA+LFAAAAAAAD4sUAAAAAAAPixQAAAAAAA+LFAAAAAAAD4sUAAAAAAAPixQAAAAAAA+LFAAAAAAAD4sUAAAAAAAPixQAAAAAAA+LFAAAAAAAD4sUAAAAAAAPixQAAAAAAA+LFAAAAAAAD4sUAAAAAAAPixQAAAAAAA+LFAAAAAAAD4sUAAAAAAAPixQAAAAAAA+LFAAAAAAAD4sUAAAAAAAPixQAAAAAAA+LFAAAAAAAD4sUAAAAAAAPixQAAAAAAA+LFAAAAAAAD4sUAAAAAAAPixQAAAAAAA+LFA",
          "dtype": "f8",
          "shape": "48, 1"
         },
         "hovertemplate": "<b>Time Step:</b> %{x}<br><b>Budget Left Ratio:</b> %{y:.3f}<br><b>Budget:</b> %{customdata[0]:.0f}<br><extra></extra>",
         "line": {
          "color": "rgb(209, 42, 39)",
          "width": 1.5
         },
         "mode": "lines",
         "opacity": 0.35,
         "showlegend": false,
         "type": "scatter",
         "x": {
          "bdata": "AAECAwQFBgcICQoLDA0ODxAREhMUFRYXGBkaGxwdHh8gISIjJCUmJygpKissLS4v",
          "dtype": "i1"
         },
         "y": {
          "bdata": "Be86uMv/7z9dcrfquP7vP4FeGo4D++8/4yE70Tv67z9NooT2UfnvP+xyA6PR9e8/2Yix3LXy7z9TSsueE+7vP1NKy54T7u8/U0rLnhPu7z9TSsueE+7vP1NKy54T7u8/U0rLnhPu7z9TSsueE+7vP1NKy54T7u8/U0rLnhPu7z+Jcw23ARrvP/6bCB+5Oe4/BqnDigwS6T8UTnlT5qvlP+gz6A2VC+M/CBJ11A0T3j/AJCRBve7WPwsZ4Fi1XNA/xiFFRBEq0D/7fGTqiGfPP3aBeUkHtM0/2snS6FF8zD94NfBOPB3LP9/dyxbOYMo/tVcWlzZgyT83y1KLXHDIP+Uadf5FWsg/aVSBT9raxz8IoRFUei3HP2Lb3pMQAsY/2TfqOTyTwz9YjYmN2ijCP7OhZZYATL4/mZerBt+iuz8ECrp3K0a5P51ByfV1oLc/cgHclkWCsT+4XS/RBqutP7BMNVx63qQ/c0MHDclOlT/es+o+Ns15P/RlJfSAsLg+",
          "dtype": "f8"
         }
        },
        {
         "customdata": {
          "bdata": "AAAAAACOskAAAAAAAI6yQAAAAAAAjrJAAAAAAACOskAAAAAAAI6yQAAAAAAAjrJAAAAAAACOskAAAAAAAI6yQAAAAAAAjrJAAAAAAACOskAAAAAAAI6yQAAAAAAAjrJAAAAAAACOskAAAAAAAI6yQAAAAAAAjrJAAAAAAACOskAAAAAAAI6yQAAAAAAAjrJAAAAAAACOskAAAAAAAI6yQAAAAAAAjrJAAAAAAACOskAAAAAAAI6yQAAAAAAAjrJAAAAAAACOskAAAAAAAI6yQAAAAAAAjrJAAAAAAACOskAAAAAAAI6yQAAAAAAAjrJAAAAAAACOskAAAAAAAI6yQAAAAAAAjrJAAAAAAACOskAAAAAAAI6yQAAAAAAAjrJAAAAAAACOskAAAAAAAI6yQAAAAAAAjrJAAAAAAACOskAAAAAAAI6yQAAAAAAAjrJAAAAAAACOskAAAAAAAI6yQAAAAAAAjrJAAAAAAACOskAAAAAAAI6yQAAAAAAAjrJA",
          "dtype": "f8",
          "shape": "48, 1"
         },
         "hovertemplate": "<b>Time Step:</b> %{x}<br><b>Budget Left Ratio:</b> %{y:.3f}<br><b>Budget:</b> %{customdata[0]:.0f}<br><extra></extra>",
         "line": {
          "color": "rgb(183, 17, 38)",
          "width": 1.5
         },
         "mode": "lines",
         "opacity": 0.35,
         "showlegend": false,
         "type": "scatter",
         "x": {
          "bdata": "AAECAwQFBgcICQoLDA0ODxAREhMUFRYXGBkaGxwdHh8gISIjJCUmJygpKissLS4v",
          "dtype": "i1"
         },
         "y": {
          "bdata": "AAAAAAAA8D8AAAAAAADwPwAAAAAAAPA/AAAAAAAA8D8AAAAAAADwPwAAAAAAAPA/AAAAAAAA8D8AAAAAAADwPwAAAAAAAPA/AAAAAAAA8D8AAAAAAADwPwAAAAAAAPA/AAAAAAAA8D8AAAAAAADwPwAAAAAAAPA/AAAAAAAA8D8AAAAAAADwP8KkzkxQ/u8/gf6CWE/17z/4F3MDLE7vP3+6PhT6Pe8/8v/tg/oL7j9Uofrl2r3rP2jQY61T8Ok/lLFlHerj6T+2HFSmaOLpP4QxcCx24ek/1jW/Lfl76T8E2HT4ZlrpP+f+UZilFuk/1IyS4JXd6D+v01Tpgw/oP6nXFx5FG+U/eaIGcgfo4j8BsThbPvHgP0+qdH7F+94/EQmDBCNw3D/RdiXEQ+3ZPzmgK7tsNNc/EVLDBE5j1D/A+FohUP7TP7d7LYjV7tI/Hgv4H8R2zD9/ivYzdu3HP1e70/kIY8A/bkEhprq+tz/sh+IxvEKlP8pZyczTLes+",
          "dtype": "f8"
         }
        },
        {
         "customdata": {
          "bdata": "AAAAAAC0pEAAAAAAALSkQAAAAAAAtKRAAAAAAAC0pEAAAAAAALSkQAAAAAAAtKRAAAAAAAC0pEAAAAAAALSkQAAAAAAAtKRAAAAAAAC0pEAAAAAAALSkQAAAAAAAtKRAAAAAAAC0pEAAAAAAALSkQAAAAAAAtKRAAAAAAAC0pEAAAAAAALSkQAAAAAAAtKRAAAAAAAC0pEAAAAAAALSkQAAAAAAAtKRAAAAAAAC0pEAAAAAAALSkQAAAAAAAtKRAAAAAAAC0pEAAAAAAALSkQAAAAAAAtKRAAAAAAAC0pEAAAAAAALSkQAAAAAAAtKRAAAAAAAC0pEAAAAAAALSkQAAAAAAAtKRAAAAAAAC0pEAAAAAAALSkQAAAAAAAtKRAAAAAAAC0pEAAAAAAALSkQAAAAAAAtKRAAAAAAAC0pEAAAAAAALSkQAAAAAAAtKRAAAAAAAC0pEAAAAAAALSkQAAAAAAAtKRAAAAAAAC0pEAAAAAAALSkQAAAAAAAtKRA",
          "dtype": "f8",
          "shape": "48, 1"
         },
         "hovertemplate": "<b>Time Step:</b> %{x}<br><b>Budget Left Ratio:</b> %{y:.3f}<br><b>Budget:</b> %{customdata[0]:.0f}<br><extra></extra>",
         "line": {
          "color": "rgb(131, 185, 216)",
          "width": 1.5
         },
         "mode": "lines",
         "opacity": 0.35,
         "showlegend": false,
         "type": "scatter",
         "x": {
          "bdata": "AAECAwQFBgcICQoLDA0ODxAREhMUFRYXGBkaGxwdHh8gISIjJCUmJygpKissLS4v",
          "dtype": "i1"
         },
         "y": {
          "bdata": "vLfBAzfx7z/EH6W9N+/vPy+n1Pfe5u8/PtVF4fzK7z9c9JaGCMjvP2zgVdlHx+8/F+r8KinG7z8itn+nAsXvP2y65nCIfu8/NPFWhE8q7z91YMZ8Qb7tP4D1r9Ydees/inhQYkvK6D8rimRCATznP0WV+R5m2+M/etKfGU/E4T960p8ZT8ThP3rSnxlPxOE/etKfGU/E4T960p8ZT8ThP3rSnxlPxOE/etKfGU/E4T960p8ZT8ThP3rSnxlPxOE/QFVlT9zt4D+oMeQFE4LcP/dUXCtfddg/UICZBasV1j+OTW+hMjnQP2Ss4yoy2MU/8Nnwdz/GwT80VZsbJFq1PzRVmxskWrU/NFWbGyRatT80VZsbJFq1PzRVmxskWrU/NFWbGyRatT80VZsbJFq1PzRVmxskWrU/NFWbGyRatT8i2v3RSPStP5KG71JrAqI/hmhPHzq+AT+GaE8fOr4BP4ZoTx86vgE/hmhPHzq+AT+GaE8fOr4BP4ZoTx86vgE/",
          "dtype": "f8"
         }
        },
        {
         "customdata": {
          "bdata": "AAAAAAAwoUAAAAAAADChQAAAAAAAMKFAAAAAAAAwoUAAAAAAADChQAAAAAAAMKFAAAAAAAAwoUAAAAAAADChQAAAAAAAMKFAAAAAAAAwoUAAAAAAADChQAAAAAAAMKFAAAAAAAAwoUAAAAAAADChQAAAAAAAMKFAAAAAAAAwoUAAAAAAADChQAAAAAAAMKFAAAAAAAAwoUAAAAAAADChQAAAAAAAMKFAAAAAAAAwoUAAAAAAADChQAAAAAAAMKFAAAAAAAAwoUAAAAAAADChQAAAAAAAMKFAAAAAAAAwoUAAAAAAADChQAAAAAAAMKFAAAAAAAAwoUAAAAAAADChQAAAAAAAMKFAAAAAAAAwoUAAAAAAADChQAAAAAAAMKFAAAAAAAAwoUAAAAAAADChQAAAAAAAMKFAAAAAAAAwoUAAAAAAADChQAAAAAAAMKFAAAAAAAAwoUAAAAAAADChQAAAAAAAMKFAAAAAAAAwoUAAAAAAADChQAAAAAAAMKFA",
          "dtype": "f8",
          "shape": "48, 1"
         },
         "hovertemplate": "<b>Time Step:</b> %{x}<br><b>Budget Left Ratio:</b> %{y:.3f}<br><b>Budget:</b> %{customdata[0]:.0f}<br><extra></extra>",
         "line": {
          "color": "rgb(63, 98, 171)",
          "width": 1.5
         },
         "mode": "lines",
         "opacity": 0.35,
         "showlegend": false,
         "type": "scatter",
         "x": {
          "bdata": "AAECAwQFBgcICQoLDA0ODxAREhMUFRYXGBkaGxwdHh8gISIjJCUmJygpKissLS4v",
          "dtype": "i1"
         },
         "y": {
          "bdata": "qOFA+BfE7z9daK5prqnvP+81JLupqO8/BExNWOSi7z/X+bWxjqLvP9f5tbGOou8/1/m1sY6i7z/X+bWxjqLvP9f5tbGOou8/1/m1sY6i7z/X+bWxjqLvP9f5tbGOou8/1/m1sY6i7z/X+bWxjqLvP9f5tbGOou8/1/m1sY6i7z/Z74gCO6LvP6c/hgs3me8/wrZTHryF7z/cjC1EBoXvP2yOZgn6gO8/NFRHOmV27z+nbZ9mQUXvPzfItCA+6+s/N8i0ID7r6z83yLQgPuvrPzfItCA+6+s/N8i0ID7r6z83yLQgPuvrPzfItCA+6+s/N8i0ID7r6z83yLQgPuvrP4Pw6cm8Yus/AhL5Yppo6j/BvUDs/iToP8g54vIyKec/5YbH8OCw4z/T6zOrz/nhP9cHjX0H9dk/Hc+DpPGj0D/GqdIhwIzQP8ap0iHAjNA/yYTek4qK0D/YNJX0/uLOPx2/XN5538w/W3Jy7oziwj+LSacEz0+xP47d5jhq7Lk+",
          "dtype": "f8"
         }
        },
        {
         "customdata": {
          "bdata": "AAAAAACasEAAAAAAAJqwQAAAAAAAmrBAAAAAAACasEAAAAAAAJqwQAAAAAAAmrBAAAAAAACasEAAAAAAAJqwQAAAAAAAmrBAAAAAAACasEAAAAAAAJqwQAAAAAAAmrBAAAAAAACasEAAAAAAAJqwQAAAAAAAmrBAAAAAAACasEAAAAAAAJqwQAAAAAAAmrBAAAAAAACasEAAAAAAAJqwQAAAAAAAmrBAAAAAAACasEAAAAAAAJqwQAAAAAAAmrBAAAAAAACasEAAAAAAAJqwQAAAAAAAmrBAAAAAAACasEAAAAAAAJqwQAAAAAAAmrBAAAAAAACasEAAAAAAAJqwQAAAAAAAmrBAAAAAAACasEAAAAAAAJqwQAAAAAAAmrBAAAAAAACasEAAAAAAAJqwQAAAAAAAmrBAAAAAAACasEAAAAAAAJqwQAAAAAAAmrBAAAAAAACasEAAAAAAAJqwQAAAAAAAmrBAAAAAAACasEAAAAAAAJqwQAAAAAAAmrBA",
          "dtype": "f8",
          "shape": "48, 1"
         },
         "hovertemplate": "<b>Time Step:</b> %{x}<br><b>Budget Left Ratio:</b> %{y:.3f}<br><b>Budget:</b> %{customdata[0]:.0f}<br><extra></extra>",
         "line": {
          "color": "rgb(245, 116, 70)",
          "width": 1.5
         },
         "mode": "lines",
         "opacity": 0.35,
         "showlegend": false,
         "type": "scatter",
         "x": {
          "bdata": "AAECAwQFBgcICQoLDA0ODxAREhMUFRYXGBkaGxwdHh8gISIjJCUmJygpKissLS4v",
          "dtype": "i1"
         },
         "y": {
          "bdata": "AAAAAAAA8D8AAAAAAADwPwAAAAAAAPA/AAAAAAAA8D8AAAAAAADwPwAAAAAAAPA/AAAAAAAA8D8AAAAAAADwP+8Wzc4v/u8/GONxO5T17z8J3ZRg6NjvP5qrq2cnwO8/yu+UAwlq7z+7vzOoHk/vPy0bg6Lntu0/6/SX04Mx7D/r9JfTgzHsP+v0l9ODMew/6/SX04Mx7D/r9JfTgzHsP+v0l9ODMew/6/SX04Mx7D/WsSSGYjHsP9axJIZiMew/1rEkhmIx7D/WsSSGYjHsP9axJIZiMew/1rEkhmIx7D/WsSSGYjHsP9axJIZiMew/1rEkhmIx7D/WsSSGYjHsP0LgxbqWRug/J9E0NbK85j8Qwm28qovlP4Ygr6VIXeQ/oixlZsCG4z9akmoEOFLiP3T0tLABJuE/hju6TmoI4D8M15AtTwjgPwzXkC1PCOA/+O5EHbbg3z85d1SPnZjeP6pbjedgiNs//InMCS0B2D9SSEiss9zTP73lEuS1DdE/",
          "dtype": "f8"
         }
        },
        {
         "customdata": {
          "bdata": "AAAAAABAn0AAAAAAAECfQAAAAAAAQJ9AAAAAAABAn0AAAAAAAECfQAAAAAAAQJ9AAAAAAABAn0AAAAAAAECfQAAAAAAAQJ9AAAAAAABAn0AAAAAAAECfQAAAAAAAQJ9AAAAAAABAn0AAAAAAAECfQAAAAAAAQJ9AAAAAAABAn0AAAAAAAECfQAAAAAAAQJ9AAAAAAABAn0AAAAAAAECfQAAAAAAAQJ9AAAAAAABAn0AAAAAAAECfQAAAAAAAQJ9AAAAAAABAn0AAAAAAAECfQAAAAAAAQJ9AAAAAAABAn0AAAAAAAECfQAAAAAAAQJ9AAAAAAABAn0AAAAAAAECfQAAAAAAAQJ9AAAAAAABAn0AAAAAAAECfQAAAAAAAQJ9AAAAAAABAn0AAAAAAAECfQAAAAAAAQJ9AAAAAAABAn0AAAAAAAECfQAAAAAAAQJ9AAAAAAABAn0AAAAAAAECfQAAAAAAAQJ9AAAAAAABAn0AAAAAAAECfQAAAAAAAQJ9A",
          "dtype": "f8",
          "shape": "48, 1"
         },
         "hovertemplate": "<b>Time Step:</b> %{x}<br><b>Budget Left Ratio:</b> %{y:.3f}<br><b>Budget:</b> %{customdata[0]:.0f}<br><extra></extra>",
         "line": {
          "color": "rgb(49, 54, 149)",
          "width": 1.5
         },
         "mode": "lines",
         "opacity": 0.35,
         "showlegend": false,
         "type": "scatter",
         "x": {
          "bdata": "AAECAwQFBgcICQoLDA0ODxAREhMUFRYXGBkaGxwdHh8gISIjJCUmJygpKissLS4v",
          "dtype": "i1"
         },
         "y": {
          "bdata": "AAAAAAAA8D8AAAAAAADwPwAAAAAAAPA/AAAAAAAA8D8AAAAAAADwPwAAAAAAAPA/AAAAAAAA8D8AAAAAAADwPwAAAAAAAPA/AAAAAAAA8D8AAAAAAADwP9X+ltH//u8/bN+cYp/+7z9TlsNeQ/7vP1OWw15D/u8/KOAmi6/97z8o4CaLr/3vPyjgJouv/e8/KOAmi6/97z8o4CaLr/3vPyjgJouv/e8/KOAmi6/97z8o4CaLr/3vPyjgJouv/e8//5vvxVjH7z+R5gCFZ2fvP+MH9gSQYO4/DK+OiwDC7T8IImpx01jsP0jKXobVl+k/O5DpfawP5z+M07p9tVHlP6ignpCEn+Q/U90m1JKO4j9l+Sc7PDXhP6YQQzbKu94/G2YacbyG2z+aa/LN5DvZP6pZzk79F9g/0Yk3KviT1D9mK6TgBUfUP2LMXOw6Jcw/M+sgygWbyj9m1lSXQwaxP6Rw/ZQuFP8+pHD9lC4U/z6kcP2ULhT/PqRw/ZQuFP8+",
          "dtype": "f8"
         }
        },
        {
         "customdata": {
          "bdata": "AAAAAAA4qEAAAAAAADioQAAAAAAAOKhAAAAAAAA4qEAAAAAAADioQAAAAAAAOKhAAAAAAAA4qEAAAAAAADioQAAAAAAAOKhAAAAAAAA4qEAAAAAAADioQAAAAAAAOKhAAAAAAAA4qEAAAAAAADioQAAAAAAAOKhAAAAAAAA4qEAAAAAAADioQAAAAAAAOKhAAAAAAAA4qEAAAAAAADioQAAAAAAAOKhAAAAAAAA4qEAAAAAAADioQAAAAAAAOKhAAAAAAAA4qEAAAAAAADioQAAAAAAAOKhAAAAAAAA4qEAAAAAAADioQAAAAAAAOKhAAAAAAAA4qEAAAAAAADioQAAAAAAAOKhAAAAAAAA4qEAAAAAAADioQAAAAAAAOKhAAAAAAAA4qEAAAAAAADioQAAAAAAAOKhAAAAAAAA4qEAAAAAAADioQAAAAAAAOKhAAAAAAAA4qEAAAAAAADioQAAAAAAAOKhAAAAAAAA4qEAAAAAAADioQAAAAAAAOKhA",
          "dtype": "f8",
          "shape": "48, 1"
         },
         "hovertemplate": "<b>Time Step:</b> %{x}<br><b>Budget Left Ratio:</b> %{y:.3f}<br><b>Budget:</b> %{customdata[0]:.0f}<br><extra></extra>",
         "line": {
          "color": "rgb(217, 239, 246)",
          "width": 1.5
         },
         "mode": "lines",
         "opacity": 0.35,
         "showlegend": false,
         "type": "scatter",
         "x": {
          "bdata": "AAECAwQFBgcICQoLDA0ODxAREhMUFRYXGBkaGxwdHh8gISIjJCUmJygpKissLS4v",
          "dtype": "i1"
         },
         "y": {
          "bdata": "AAAAAAAA8D8AAAAAAADwPwAAAAAAAPA/AAAAAAAA8D8AAAAAAADwPwAAAAAAAPA/AAAAAAAA8D8AAAAAAADwPwAAAAAAAPA/AAAAAAAA8D8AAAAAAADwP/KFMqip/e8/rY+Hqbr57z/ev0SqVPfvP7G9sRDj7e8/9lgVaVzT7z9As/UMd7PvP0l2AMWPmu4/sraMGlJL6j/J6IDmzMPmP+SHwWYlG+I/8ap1SjcF2z9vaSOb8BDTP2D0lCVTrc0/e2uOCl+yxT+NLOrOdEO9P5LKUyfHvq4/NWBlsYX4oz9doQLhLcGYP7KzEIT9hnk/aomgbj/Z1j5qiaBuP9nWPmqJoG4/2dY+aomgbj/Z1j5qiaBuP9nWPmqJoG4/2dY+aomgbj/Z1j5qiaBuP9nWPmqJoG4/2dY+aomgbj/Z1j5qiaBuP9nWPmqJoG4/2dY+aomgbj/Z1j5qiaBuP9nWPmqJoG4/2dY+aomgbj/Z1j5qiaBuP9nWPmqJoG4/2dY+",
          "dtype": "f8"
         }
        },
        {
         "customdata": {
          "bdata": "AAAAAADyskAAAAAAAPKyQAAAAAAA8rJAAAAAAADyskAAAAAAAPKyQAAAAAAA8rJAAAAAAADyskAAAAAAAPKyQAAAAAAA8rJAAAAAAADyskAAAAAAAPKyQAAAAAAA8rJAAAAAAADyskAAAAAAAPKyQAAAAAAA8rJAAAAAAADyskAAAAAAAPKyQAAAAAAA8rJAAAAAAADyskAAAAAAAPKyQAAAAAAA8rJAAAAAAADyskAAAAAAAPKyQAAAAAAA8rJAAAAAAADyskAAAAAAAPKyQAAAAAAA8rJAAAAAAADyskAAAAAAAPKyQAAAAAAA8rJAAAAAAADyskAAAAAAAPKyQAAAAAAA8rJAAAAAAADyskAAAAAAAPKyQAAAAAAA8rJAAAAAAADyskAAAAAAAPKyQAAAAAAA8rJAAAAAAADyskAAAAAAAPKyQAAAAAAA8rJAAAAAAADyskAAAAAAAPKyQAAAAAAA8rJAAAAAAADyskAAAAAAAPKyQAAAAAAA8rJA",
          "dtype": "f8",
          "shape": "48, 1"
         },
         "hovertemplate": "<b>Time Step:</b> %{x}<br><b>Budget Left Ratio:</b> %{y:.3f}<br><b>Budget:</b> %{customdata[0]:.0f}<br><extra></extra>",
         "line": {
          "color": "rgb(165, 0, 38)",
          "width": 1.5
         },
         "mode": "lines",
         "opacity": 0.35,
         "showlegend": false,
         "type": "scatter",
         "x": {
          "bdata": "AAECAwQFBgcICQoLDA0ODxAREhMUFRYXGBkaGxwdHh8gISIjJCUmJygpKissLS4v",
          "dtype": "i1"
         },
         "y": {
          "bdata": "AAAAAAAA8D8AAAAAAADwPwAAAAAAAPA/AAAAAAAA8D8AAAAAAADwPwAAAAAAAPA/AAAAAAAA8D8AAAAAAADwPwAAAAAAAPA/AAAAAAAA8D8AAAAAAADwPwAAAAAAAPA/AAAAAAAA8D8AAAAAAADwPwAAAAAAAPA/AAAAAAAA8D8AAAAAAADwP7XVA4nh/+8/R3QPTqL/7z84ov0E4fzvP/vPWATb+e8/HgAapQ317z8dcxWS1O/vP2l+27EQ5O8/aX7bsRDk7z9pftuxEOTvP2l+27EQ5O8/wMh26Pjj7z97DRrR4uPvPyt/eR+S4+8/K395H5Lj7z9Wcm4fv+LvP8LrJBla4O8/g0qCZAPL7z/TJtOBaJfvP9r57T28be8/BjaX6ygt7z8XOzgNqfjuP7oJfm6h6O4/66N/F5Av7j+Ga0eCoO/qP94tK8yPZ+Y/jpUKAkjs3j9aPi2yuGnQP2S6QZVRysU/Eby2k/AjuT9nnc1pU6yWP5cW+mc5beg+",
          "dtype": "f8"
         }
        },
        {
         "customdata": {
          "bdata": "AAAAAAD4sUAAAAAAAPixQAAAAAAA+LFAAAAAAAD4sUAAAAAAAPixQAAAAAAA+LFAAAAAAAD4sUAAAAAAAPixQAAAAAAA+LFAAAAAAAD4sUAAAAAAAPixQAAAAAAA+LFAAAAAAAD4sUAAAAAAAPixQAAAAAAA+LFAAAAAAAD4sUAAAAAAAPixQAAAAAAA+LFAAAAAAAD4sUAAAAAAAPixQAAAAAAA+LFAAAAAAAD4sUAAAAAAAPixQAAAAAAA+LFAAAAAAAD4sUAAAAAAAPixQAAAAAAA+LFAAAAAAAD4sUAAAAAAAPixQAAAAAAA+LFAAAAAAAD4sUAAAAAAAPixQAAAAAAA+LFAAAAAAAD4sUAAAAAAAPixQAAAAAAA+LFAAAAAAAD4sUAAAAAAAPixQAAAAAAA+LFAAAAAAAD4sUAAAAAAAPixQAAAAAAA+LFAAAAAAAD4sUAAAAAAAPixQAAAAAAA+LFAAAAAAAD4sUAAAAAAAPixQAAAAAAA+LFA",
          "dtype": "f8",
          "shape": "48, 1"
         },
         "hovertemplate": "<b>Time Step:</b> %{x}<br><b>Budget Left Ratio:</b> %{y:.3f}<br><b>Budget:</b> %{customdata[0]:.0f}<br><extra></extra>",
         "line": {
          "color": "rgb(209, 42, 39)",
          "width": 1.5
         },
         "mode": "lines",
         "opacity": 0.35,
         "showlegend": false,
         "type": "scatter",
         "x": {
          "bdata": "AAECAwQFBgcICQoLDA0ODxAREhMUFRYXGBkaGxwdHh8gISIjJCUmJygpKissLS4v",
          "dtype": "i1"
         },
         "y": {
          "bdata": "s6OI3Bmj7z8HZCuRiV7vP+ZVtawAQu8/6AWXincZ7z+cJ9WFp/PuP2q6jlzEu+4/eJUkS6ud7j9vDmAqC3juP28OYCoLeO4/bw5gKgt47j9vDmAqC3juP28OYCoLeO4/bw5gKgt47j9vDmAqC3juP28OYCoLeO4/bw5gKgt47j/HatKEvnTuP60ZyZ4INO4/nw0+uSuR7T882jtbOPjsPxt0t4tVmew/6ARnCfcC7D/bNRHGR6LrP2U8/Yx17eo/ZTz9jHXt6j9lPP2Mde3qP2U8/Yx17eo/gHhNGLns6j/n6+MVAuzqP+fr4xUC7Oo/5+vjFQLs6j/n6+MVAuzqPwMmyUOC6+o/5kxaJgvm6j8hwrAjDNfqP3qWmU7Dteo/ciVIAsaX6j989tVdKkfqP1gCH/P+4+k/AYKFz2WJ6T+eykH8EH/lP9EwM8hLK+E/XRQ80WaA2T8lKhrewjLUP6vxnJ/MXM4/tP37bx19wj/P0HCL2Ou0P9noy8aTKvM+",
          "dtype": "f8"
         }
        },
        {
         "customdata": {
          "bdata": "AAAAAAD0qkAAAAAAAPSqQAAAAAAA9KpAAAAAAAD0qkAAAAAAAPSqQAAAAAAA9KpAAAAAAAD0qkAAAAAAAPSqQAAAAAAA9KpAAAAAAAD0qkAAAAAAAPSqQAAAAAAA9KpAAAAAAAD0qkAAAAAAAPSqQAAAAAAA9KpAAAAAAAD0qkAAAAAAAPSqQAAAAAAA9KpAAAAAAAD0qkAAAAAAAPSqQAAAAAAA9KpAAAAAAAD0qkAAAAAAAPSqQAAAAAAA9KpAAAAAAAD0qkAAAAAAAPSqQAAAAAAA9KpAAAAAAAD0qkAAAAAAAPSqQAAAAAAA9KpAAAAAAAD0qkAAAAAAAPSqQAAAAAAA9KpAAAAAAAD0qkAAAAAAAPSqQAAAAAAA9KpAAAAAAAD0qkAAAAAAAPSqQAAAAAAA9KpAAAAAAAD0qkAAAAAAAPSqQAAAAAAA9KpAAAAAAAD0qkAAAAAAAPSqQAAAAAAA9KpAAAAAAAD0qkAAAAAAAPSqQAAAAAAA9KpA",
          "dtype": "f8",
          "shape": "48, 1"
         },
         "hovertemplate": "<b>Time Step:</b> %{x}<br><b>Budget Left Ratio:</b> %{y:.3f}<br><b>Budget:</b> %{customdata[0]:.0f}<br><extra></extra>",
         "line": {
          "color": "rgb(255, 252, 187)",
          "width": 1.5
         },
         "mode": "lines",
         "opacity": 0.35,
         "showlegend": false,
         "type": "scatter",
         "x": {
          "bdata": "AAECAwQFBgcICQoLDA0ODxAREhMUFRYXGBkaGxwdHh8gISIjJCUmJygpKissLS4v",
          "dtype": "i1"
         },
         "y": {
          "bdata": "ZdjqlDZo6j9OUGphKqnoP+F1Z9WI8OY/HpAbmUxJ5j8ebvbgRYXlPzkL8MtrFeU/eXV8z7KW5D9dEOSXaFfkPzceqcAaV+Q/Nx6pwBpX5D988leH7k/kP7i7KZNjTOQ/yvhwADwR5D/Dtui6kSTjP7MczGIQSOI/t67Xiyy54D+3rteLLLngP7eu14ssueA/t67Xiyy54D8p5wvN07fgPzckySHqtuA//biSw46v4D9mY24TZa/gP+aUya5nreA/5pTJrmet4D/mlMmuZ63gP/s++oH2qOA/+z76gfao4D/7PvqB9qjgP/s++oH2qOA/hvTIT5en4D+lFnly4KbgP6UWeXLgpuA/pRZ5cuCm4D+lFnly4KbgP6UWeXLgpuA/pRZ5cuCm4D+lFnly4KbgP6UWeXLgpuA/pRZ5cuCm4D8nfewRcfXdP+p+D22tstc/rH7s0R7O1T8wm9y0cr7RP6qTNU9pTMk/bXTAF+wQsT/lrO+lxRjvPuWs76XFGO8+",
          "dtype": "f8"
         }
        },
        {
         "customdata": {
          "bdata": "AAAAAABwp0AAAAAAAHCnQAAAAAAAcKdAAAAAAABwp0AAAAAAAHCnQAAAAAAAcKdAAAAAAABwp0AAAAAAAHCnQAAAAAAAcKdAAAAAAABwp0AAAAAAAHCnQAAAAAAAcKdAAAAAAABwp0AAAAAAAHCnQAAAAAAAcKdAAAAAAABwp0AAAAAAAHCnQAAAAAAAcKdAAAAAAABwp0AAAAAAAHCnQAAAAAAAcKdAAAAAAABwp0AAAAAAAHCnQAAAAAAAcKdAAAAAAABwp0AAAAAAAHCnQAAAAAAAcKdAAAAAAABwp0AAAAAAAHCnQAAAAAAAcKdAAAAAAABwp0AAAAAAAHCnQAAAAAAAcKdAAAAAAABwp0AAAAAAAHCnQAAAAAAAcKdAAAAAAABwp0AAAAAAAHCnQAAAAAAAcKdAAAAAAABwp0AAAAAAAHCnQAAAAAAAcKdAAAAAAABwp0AAAAAAAHCnQAAAAAAAcKdAAAAAAABwp0AAAAAAAHCnQAAAAAAAcKdA",
          "dtype": "f8",
          "shape": "48, 1"
         },
         "hovertemplate": "<b>Time Step:</b> %{x}<br><b>Budget Left Ratio:</b> %{y:.3f}<br><b>Budget:</b> %{customdata[0]:.0f}<br><extra></extra>",
         "line": {
          "color": "rgb(198, 230, 241)",
          "width": 1.5
         },
         "mode": "lines",
         "opacity": 0.35,
         "showlegend": false,
         "type": "scatter",
         "x": {
          "bdata": "AAECAwQFBgcICQoLDA0ODxAREhMUFRYXGBkaGxwdHh8gISIjJCUmJygpKissLS4v",
          "dtype": "i1"
         },
         "y": {
          "bdata": "Cnwz1LfM7z9aHJz0FmbvP/eCFnvwVO8/kL82hBEh7z/gbFbLn/zuP1Mo483F9e4/LnPNA7no7j/LylWIKeLuP8vKVYgp4u4/y8pViCni7j/LylWIKeLuP8vKVYgp4u4/y8pViCni7j/LylWIKeLuP8vKVYgp4u4/y8pViCni7j8dmFAW8szuP9je9kPasO4/Pp+RccgD7j+6VtH++hHtP9fpoLxdiew//fpPOSz56j/Mw+bl6DrnP3oO/9vQkOU/OMoz1W2Q5T/mr56T3Y3lP+avnpPdjeU/5q+ek92N5T/mr56T3Y3lP+uMkv2pjeU/5DBxtMKM5T/kMHG0wozlPxuyT0O9eeU/wL9Kd7Eo5T8UHgtzva3iP7zdQHwFSuA/hDZG5SZP3T/4zbcJpNfbPzlTKzlw/dk/cbD4+Li+1j+IN0g7gb7QP34xpt1IE8k/ldoQzy0quD+iRVYuos+gP+dCBRtnaoI/1L8R+qa44z7UvxH6prjjPtS/EfqmuOM+",
          "dtype": "f8"
         }
        },
        {
         "customdata": {
          "bdata": "AAAAAADAskAAAAAAAMCyQAAAAAAAwLJAAAAAAADAskAAAAAAAMCyQAAAAAAAwLJAAAAAAADAskAAAAAAAMCyQAAAAAAAwLJAAAAAAADAskAAAAAAAMCyQAAAAAAAwLJAAAAAAADAskAAAAAAAMCyQAAAAAAAwLJAAAAAAADAskAAAAAAAMCyQAAAAAAAwLJAAAAAAADAskAAAAAAAMCyQAAAAAAAwLJAAAAAAADAskAAAAAAAMCyQAAAAAAAwLJAAAAAAADAskAAAAAAAMCyQAAAAAAAwLJAAAAAAADAskAAAAAAAMCyQAAAAAAAwLJAAAAAAADAskAAAAAAAMCyQAAAAAAAwLJAAAAAAADAskAAAAAAAMCyQAAAAAAAwLJAAAAAAADAskAAAAAAAMCyQAAAAAAAwLJAAAAAAADAskAAAAAAAMCyQAAAAAAAwLJAAAAAAADAskAAAAAAAMCyQAAAAAAAwLJAAAAAAADAskAAAAAAAMCyQAAAAAAAwLJA",
          "dtype": "f8",
          "shape": "48, 1"
         },
         "hovertemplate": "<b>Time Step:</b> %{x}<br><b>Budget Left Ratio:</b> %{y:.3f}<br><b>Budget:</b> %{customdata[0]:.0f}<br><extra></extra>",
         "line": {
          "color": "rgb(174, 8, 38)",
          "width": 1.5
         },
         "mode": "lines",
         "opacity": 0.35,
         "showlegend": false,
         "type": "scatter",
         "x": {
          "bdata": "AAECAwQFBgcICQoLDA0ODxAREhMUFRYXGBkaGxwdHh8gISIjJCUmJygpKissLS4v",
          "dtype": "i1"
         },
         "y": {
          "bdata": "0MhuEYv/7z841GmW0PbvP2H2lD3W7u8/bzQ0oJjs7z8TsBAnruvvPxOwECeu6+8/1TzFf4Xr7z+/rBWrX+vvP7+sFatf6+8/v6wVq1/r7z8H/eQrBOrvPzPEKS064u8/FqR3Aj3O7z8MJaFr7MbvPxR7Bherve8/v/FNZQS57z+/8U1lBLnvP/KWK+MJuO8/+f38u0at7z8Pbc6RF5rvP9zrSYTJme8/DMOIC5qA7z+YMKc1Ah7vPwAjsL3ksu4/ACOwveSy7j8AI7C95LLuPwAjsL3ksu4/ACOwveSy7j8AI7C95LLuPwAjsL3ksu4/ACOwveSy7j8AI7C95LLuP9UuqM+YoO4/rum4p4Y37T9UoM8x3sXpPwSnp25J/OY/9jH/1D+x5T9hQZjGwa3kP25Q6EycTOM/GD+hQ+nz4T/7YuFBFxLeP6c3AVNrhdg/5VQlOXoJ0T9gCe3VTSPGP9RGW7EAobE/gk4b+9ok0T6CThv72iTRPoJOG/vaJNE+",
          "dtype": "f8"
         }
        },
        {
         "customdata": {
          "bdata": "AAAAAABAn0AAAAAAAECfQAAAAAAAQJ9AAAAAAABAn0AAAAAAAECfQAAAAAAAQJ9AAAAAAABAn0AAAAAAAECfQAAAAAAAQJ9AAAAAAABAn0AAAAAAAECfQAAAAAAAQJ9AAAAAAABAn0AAAAAAAECfQAAAAAAAQJ9AAAAAAABAn0AAAAAAAECfQAAAAAAAQJ9AAAAAAABAn0AAAAAAAECfQAAAAAAAQJ9AAAAAAABAn0AAAAAAAECfQAAAAAAAQJ9AAAAAAABAn0AAAAAAAECfQAAAAAAAQJ9AAAAAAABAn0AAAAAAAECfQAAAAAAAQJ9AAAAAAABAn0AAAAAAAECfQAAAAAAAQJ9AAAAAAABAn0AAAAAAAECfQAAAAAAAQJ9AAAAAAABAn0AAAAAAAECfQAAAAAAAQJ9AAAAAAABAn0AAAAAAAECfQAAAAAAAQJ9AAAAAAABAn0AAAAAAAECfQAAAAAAAQJ9AAAAAAABAn0AAAAAAAECfQAAAAAAAQJ9A",
          "dtype": "f8",
          "shape": "48, 1"
         },
         "hovertemplate": "<b>Time Step:</b> %{x}<br><b>Budget Left Ratio:</b> %{y:.3f}<br><b>Budget:</b> %{customdata[0]:.0f}<br><extra></extra>",
         "line": {
          "color": "rgb(49, 54, 149)",
          "width": 1.5
         },
         "mode": "lines",
         "opacity": 0.35,
         "showlegend": false,
         "type": "scatter",
         "x": {
          "bdata": "AAECAwQFBgcICQoLDA0ODxAREhMUFRYXGBkaGxwdHh8gISIjJCUmJygpKissLS4v",
          "dtype": "i1"
         },
         "y": {
          "bdata": "VwcA6qr/7z9XBwDqqv/vP7W2UwGW/u8/tbZTAZb+7z+1tlMBlv7vP7W2UwGW/u8/tbZTAZb+7z+1tlMBlv7vP7W2UwGW/u8/tbZTAZb+7z+1tlMBlv7vP7W2UwGW/u8/tbZTAZb+7z+1tlMBlv7vP7W2UwGW/u8/tbZTAZb+7z+1tlMBlv7vPxJD9Mo++u8/3x/1BKzz7z+dJG1Ig+/vP38fbDMOn+8/YGXmnA2P7z+E4jaFSxLvP+bLUojpue4/5stSiOm57j/my1KI6bnuP+bLUojpue4/5stSiOm57j/my1KI6bnuP+bLUojpue4/5stSiOm57j/my1KI6bnuP+WxspBhou4/5VGgvmSO7D9fKcDDxFnrP7wrDB/tP+k/ttIfdx/v6D8QvO+BRbfnP7Z/5F05V+c/pKpc0ioM5z/O3hRmEAvlPzEifg/TP+I/pP1OY+ie2T9gGZjd3rfQP81odmp7qso/ef2i0qJRuT8/NV6gnWr5Pj81XqCdavk+",
          "dtype": "f8"
         }
        },
        {
         "customdata": {
          "bdata": "AAAAAAAwoUAAAAAAADChQAAAAAAAMKFAAAAAAAAwoUAAAAAAADChQAAAAAAAMKFAAAAAAAAwoUAAAAAAADChQAAAAAAAMKFAAAAAAAAwoUAAAAAAADChQAAAAAAAMKFAAAAAAAAwoUAAAAAAADChQAAAAAAAMKFAAAAAAAAwoUAAAAAAADChQAAAAAAAMKFAAAAAAAAwoUAAAAAAADChQAAAAAAAMKFAAAAAAAAwoUAAAAAAADChQAAAAAAAMKFAAAAAAAAwoUAAAAAAADChQAAAAAAAMKFAAAAAAAAwoUAAAAAAADChQAAAAAAAMKFAAAAAAAAwoUAAAAAAADChQAAAAAAAMKFAAAAAAAAwoUAAAAAAADChQAAAAAAAMKFAAAAAAAAwoUAAAAAAADChQAAAAAAAMKFAAAAAAAAwoUAAAAAAADChQAAAAAAAMKFAAAAAAAAwoUAAAAAAADChQAAAAAAAMKFAAAAAAAAwoUAAAAAAADChQAAAAAAAMKFA",
          "dtype": "f8",
          "shape": "48, 1"
         },
         "hovertemplate": "<b>Time Step:</b> %{x}<br><b>Budget Left Ratio:</b> %{y:.3f}<br><b>Budget:</b> %{customdata[0]:.0f}<br><extra></extra>",
         "line": {
          "color": "rgb(63, 98, 171)",
          "width": 1.5
         },
         "mode": "lines",
         "opacity": 0.35,
         "showlegend": false,
         "type": "scatter",
         "x": {
          "bdata": "AAECAwQFBgcICQoLDA0ODxAREhMUFRYXGBkaGxwdHh8gISIjJCUmJygpKissLS4v",
          "dtype": "i1"
         },
         "y": {
          "bdata": "AAAAAAAA8D8AAAAAAADwPwAAAAAAAPA/AAAAAAAA8D8AAAAAAADwPwAAAAAAAPA/AAAAAAAA8D8AAAAAAADwPwdLcMMi/+8/B0twwyL/7z+ibFOJ8fDvP4pc8xEr6+8//7p+Xoa+7z959nVvKS3uP3NqsZzkFO0/CzjS9nhS6z8LONL2eFLrPws40vZ4Uus/CzjS9nhS6z8LONL2eFLrPws40vZ4Uus/CzjS9nhS6z8LONL2eFLrPws40vZ4Uus/N8/2Pm9P6z/8qniahUzrPwOPEcLMPOs/a/2gKnI76z/5QTBxVgHrP/mlzbzsouo/9B3VS8mY6j/AbZjnxH7qP8LQvhOQTOk/7VQ37wFl5z/59d+JYcDkPxD7gBP4p+M/7FYfMY2A4j82xEIn1ZrhP7A/IxzXLuE/4G8iWWqO3z+sqddcfGjePy+e/H1+AN0/4h+rD5uI2D+EpsWp93TMP2iwL/b1r7A/lDtAgNTX/j6UO0CA1Nf+PpQ7QIDU1/4+",
          "dtype": "f8"
         }
        },
        {
         "customdata": {
          "bdata": "AAAAAADAskAAAAAAAMCyQAAAAAAAwLJAAAAAAADAskAAAAAAAMCyQAAAAAAAwLJAAAAAAADAskAAAAAAAMCyQAAAAAAAwLJAAAAAAADAskAAAAAAAMCyQAAAAAAAwLJAAAAAAADAskAAAAAAAMCyQAAAAAAAwLJAAAAAAADAskAAAAAAAMCyQAAAAAAAwLJAAAAAAADAskAAAAAAAMCyQAAAAAAAwLJAAAAAAADAskAAAAAAAMCyQAAAAAAAwLJAAAAAAADAskAAAAAAAMCyQAAAAAAAwLJAAAAAAADAskAAAAAAAMCyQAAAAAAAwLJAAAAAAADAskAAAAAAAMCyQAAAAAAAwLJAAAAAAADAskAAAAAAAMCyQAAAAAAAwLJAAAAAAADAskAAAAAAAMCyQAAAAAAAwLJAAAAAAADAskAAAAAAAMCyQAAAAAAAwLJAAAAAAADAskAAAAAAAMCyQAAAAAAAwLJAAAAAAADAskAAAAAAAMCyQAAAAAAAwLJA",
          "dtype": "f8",
          "shape": "48, 1"
         },
         "hovertemplate": "<b>Time Step:</b> %{x}<br><b>Budget Left Ratio:</b> %{y:.3f}<br><b>Budget:</b> %{customdata[0]:.0f}<br><extra></extra>",
         "line": {
          "color": "rgb(174, 8, 38)",
          "width": 1.5
         },
         "mode": "lines",
         "opacity": 0.35,
         "showlegend": false,
         "type": "scatter",
         "x": {
          "bdata": "AAECAwQFBgcICQoLDA0ODxAREhMUFRYXGBkaGxwdHh8gISIjJCUmJygpKissLS4v",
          "dtype": "i1"
         },
         "y": {
          "bdata": "cq6Nh1GV7z/I8uW3+GHvPzzkuGHaEe8/IHyRl0IE7z+OSiGO+QLvP4oHOvyg++4/fnTw2aLu7j953x4MIN3uP3nfHgwg3e4/ed8eDCDd7j953x4MIN3uP3nfHgwg3e4/ed8eDCDd7j953x4MIN3uP3nfHgwg3e4/ed8eDCDd7j+zYN8i6VDuPxEDlheS0e0/7XDj/FxW7T8MHh9O2x/tPyYgurKUpus/jyfsP0uW6T/mMqliY5LmP4QC2vaeLuQ/39c90+/r4z+YO17OPanjP6ecJUmKOOM/buaOIT+h4j8K6SKbIZ/hP9j3XFJX5OA/MUmEB1K73j9jvY/+snrcPwBk5A/9ldg/drqLvkg/1D8i8Y48xNHMPz0huBBs3cM/8lnvnCFMwj+F2xQAEs68P4kM6F/STrM/QZ9InwpYqz8iKvxldDWgP67HdGW9Rnc/3t1dOlZ56T7e3V06VnnpPt7dXTpWeek+3t1dOlZ56T7e3V06VnnpPt7dXTpWeek+",
          "dtype": "f8"
         }
        },
        {
         "customdata": {
          "bdata": "AAAAAAC8q0AAAAAAALyrQAAAAAAAvKtAAAAAAAC8q0AAAAAAALyrQAAAAAAAvKtAAAAAAAC8q0AAAAAAALyrQAAAAAAAvKtAAAAAAAC8q0AAAAAAALyrQAAAAAAAvKtAAAAAAAC8q0AAAAAAALyrQAAAAAAAvKtAAAAAAAC8q0AAAAAAALyrQAAAAAAAvKtAAAAAAAC8q0AAAAAAALyrQAAAAAAAvKtAAAAAAAC8q0AAAAAAALyrQAAAAAAAvKtAAAAAAAC8q0AAAAAAALyrQAAAAAAAvKtAAAAAAAC8q0AAAAAAALyrQAAAAAAAvKtAAAAAAAC8q0AAAAAAALyrQAAAAAAAvKtAAAAAAAC8q0AAAAAAALyrQAAAAAAAvKtAAAAAAAC8q0AAAAAAALyrQAAAAAAAvKtAAAAAAAC8q0AAAAAAALyrQAAAAAAAvKtAAAAAAAC8q0AAAAAAALyrQAAAAAAAvKtAAAAAAAC8q0AAAAAAALyrQAAAAAAAvKtA",
          "dtype": "f8",
          "shape": "48, 1"
         },
         "hovertemplate": "<b>Time Step:</b> %{x}<br><b>Budget Left Ratio:</b> %{y:.3f}<br><b>Budget:</b> %{customdata[0]:.0f}<br><extra></extra>",
         "line": {
          "color": "rgb(255, 241, 170)",
          "width": 1.5
         },
         "mode": "lines",
         "opacity": 0.35,
         "showlegend": false,
         "type": "scatter",
         "x": {
          "bdata": "AAECAwQFBgcICQoLDA0ODxAREhMUFRYXGBkaGxwdHh8gISIjJCUmJygpKissLS4v",
          "dtype": "i1"
         },
         "y": {
          "bdata": "VGyzOrnk7j9hvP4T/X7uP9ClYPOhJu4/DcJAMevs7T941eWV1JrtP+j02OFtVO0/vPD9bMoq7T/0smrNbPHsP/d0lmVS3uw/bjT9nfrI7D/g+6W72LfsP1pogYcMlew/hcdHoryM7D8P+10izmbsP+cfzvheLOw/nuU47eMA7D8ZUrSp2//rP36NbdyBQes/Nm999Kw/6z8zD00ykO7qP8CG8FXMcuo/W4mqfeMV6T/+nniqK8joPzhrAt3rxeY/I6W+Tb275j/rYh/2hmbmP5Nt1khvguU/biV7j3NS5D+/695/SDPjP0ro4GBSEOI/oztO/gx+4T95cjTBLg/gP3lyNMEuD+A/eXI0wS4P4D95cjTBLg/gP3lyNMEuD+A/eXI0wS4P4D95cjTBLg/gP2HOQQ8AD+A/Yc5BDwAP4D+DaWJlKInWP7P4IaXDdss/cIwL+imhwT9TAGRwoCGxPzqBL9wBdpc/Xr0Rq/xXxz5evRGr/FfHPl69Eav8V8c+",
          "dtype": "f8"
         }
        },
        {
         "customdata": {
          "bdata": "AAAAAAC0pEAAAAAAALSkQAAAAAAAtKRAAAAAAAC0pEAAAAAAALSkQAAAAAAAtKRAAAAAAAC0pEAAAAAAALSkQAAAAAAAtKRAAAAAAAC0pEAAAAAAALSkQAAAAAAAtKRAAAAAAAC0pEAAAAAAALSkQAAAAAAAtKRAAAAAAAC0pEAAAAAAALSkQAAAAAAAtKRAAAAAAAC0pEAAAAAAALSkQAAAAAAAtKRAAAAAAAC0pEAAAAAAALSkQAAAAAAAtKRAAAAAAAC0pEAAAAAAALSkQAAAAAAAtKRAAAAAAAC0pEAAAAAAALSkQAAAAAAAtKRAAAAAAAC0pEAAAAAAALSkQAAAAAAAtKRAAAAAAAC0pEAAAAAAALSkQAAAAAAAtKRAAAAAAAC0pEAAAAAAALSkQAAAAAAAtKRAAAAAAAC0pEAAAAAAALSkQAAAAAAAtKRAAAAAAAC0pEAAAAAAALSkQAAAAAAAtKRAAAAAAAC0pEAAAAAAALSkQAAAAAAAtKRA",
          "dtype": "f8",
          "shape": "48, 1"
         },
         "hovertemplate": "<b>Time Step:</b> %{x}<br><b>Budget Left Ratio:</b> %{y:.3f}<br><b>Budget:</b> %{customdata[0]:.0f}<br><extra></extra>",
         "line": {
          "color": "rgb(131, 185, 216)",
          "width": 1.5
         },
         "mode": "lines",
         "opacity": 0.35,
         "showlegend": false,
         "type": "scatter",
         "x": {
          "bdata": "AAECAwQFBgcICQoLDA0ODxAREhMUFRYXGBkaGxwdHh8gISIjJCUmJygpKissLS4v",
          "dtype": "i1"
         },
         "y": {
          "bdata": "qe4ahCdK7z9tUfBKVQ/vPzk434Whwe4/WIvVNLh47j9K2P4wZWHuP4xBdtaIR+4/ajENKcxB7j9WlzOp3T3uP1aXM6ndPe4/8AT+ekE67j/hFkvYFDjuP+050y4wL+4/G3mIMlQu7j+mOaCGuyXuP8FKZk8E/O0/4lCVR8HY7T+1LjjIr2ntP3rr7Yt56Ow/PMye+hns6j8CGEYonaToPx6ifZT5UeU/+hgeRltK4j/lle1XaMrfP0dW6lel2Ng/AlnFLnKB2D+qjuLRy7PXP3E2VbfIUNU/tSERWCED1T+zGnXZuK/TP0zeuthZddI/NFdxFo0g0D+ljRB0sYXKP+PoomTZesU/5WCRluVPwz+qdTsvXHOxP/+TCTLE9J4/vClmOJ6BmD9AqaTVkX+XP3+LcO4XhpY/Km0RCprAhz/4tkEikSSHP0kUn+BQwIU/9XLd2zpyhD/qHuDYFhfIPuoe4NgWF8g+6h7g2BYXyD7qHuDYFhfIPuoe4NgWF8g+",
          "dtype": "f8"
         }
        },
        {
         "customdata": {
          "bdata": "AAAAAABwp0AAAAAAAHCnQAAAAAAAcKdAAAAAAABwp0AAAAAAAHCnQAAAAAAAcKdAAAAAAABwp0AAAAAAAHCnQAAAAAAAcKdAAAAAAABwp0AAAAAAAHCnQAAAAAAAcKdAAAAAAABwp0AAAAAAAHCnQAAAAAAAcKdAAAAAAABwp0AAAAAAAHCnQAAAAAAAcKdAAAAAAABwp0AAAAAAAHCnQAAAAAAAcKdAAAAAAABwp0AAAAAAAHCnQAAAAAAAcKdAAAAAAABwp0AAAAAAAHCnQAAAAAAAcKdAAAAAAABwp0AAAAAAAHCnQAAAAAAAcKdAAAAAAABwp0AAAAAAAHCnQAAAAAAAcKdAAAAAAABwp0AAAAAAAHCnQAAAAAAAcKdAAAAAAABwp0AAAAAAAHCnQAAAAAAAcKdAAAAAAABwp0AAAAAAAHCnQAAAAAAAcKdAAAAAAABwp0AAAAAAAHCnQAAAAAAAcKdAAAAAAABwp0AAAAAAAHCnQAAAAAAAcKdA",
          "dtype": "f8",
          "shape": "48, 1"
         },
         "hovertemplate": "<b>Time Step:</b> %{x}<br><b>Budget Left Ratio:</b> %{y:.3f}<br><b>Budget:</b> %{customdata[0]:.0f}<br><extra></extra>",
         "line": {
          "color": "rgb(198, 230, 241)",
          "width": 1.5
         },
         "mode": "lines",
         "opacity": 0.35,
         "showlegend": false,
         "type": "scatter",
         "x": {
          "bdata": "AAECAwQFBgcICQoLDA0ODxAREhMUFRYXGBkaGxwdHh8gISIjJCUmJygpKissLS4v",
          "dtype": "i1"
         },
         "y": {
          "bdata": "AAAAAAAA8D8AAAAAAADwPwAAAAAAAPA/AAAAAAAA8D8AAAAAAADwPwAAAAAAAPA/AAAAAAAA8D8AAAAAAADwPwAAAAAAAPA/AAAAAAAA8D8AAAAAAADwPwAAAAAAAPA/AAAAAAAA8D8AAAAAAADwPwAAAAAAAPA/AAAAAAAA8D/N9P+U4vzvP8VBU1/0kO8/EILopDaR7T9zpQILqsfpP0f9iD1qR+U/ul+rfbP/3z/OVl0mTUfXPw5pjwB1adA/DmmPAHVp0D8OaY8AdWnQPw5pjwB1adA/DmmPAHVp0D8OaY8AdWnQPw5pjwB1adA//03A1l9o0D8uLOzhPmTQP+49aZDRpc0/LtPrXQ0Iyz+wCsOeavfFP4HVaOVOh8I/GibfLvSruj9gfEie752yPxQVXDN5gKc/xWCPbo5AmD8jm89NV/uXP7HklDrACpc/tA/fc1sAhz+3rNUx2Vf0Pres1THZV/Q+t6zVMdlX9D63rNUx2Vf0Pres1THZV/Q+",
          "dtype": "f8"
         }
        },
        {
         "customdata": {
          "bdata": "AAAAAABkqUAAAAAAAGSpQAAAAAAAZKlAAAAAAABkqUAAAAAAAGSpQAAAAAAAZKlAAAAAAABkqUAAAAAAAGSpQAAAAAAAZKlAAAAAAABkqUAAAAAAAGSpQAAAAAAAZKlAAAAAAABkqUAAAAAAAGSpQAAAAAAAZKlAAAAAAABkqUAAAAAAAGSpQAAAAAAAZKlAAAAAAABkqUAAAAAAAGSpQAAAAAAAZKlAAAAAAABkqUAAAAAAAGSpQAAAAAAAZKlAAAAAAABkqUAAAAAAAGSpQAAAAAAAZKlAAAAAAABkqUAAAAAAAGSpQAAAAAAAZKlAAAAAAABkqUAAAAAAAGSpQAAAAAAAZKlAAAAAAABkqUAAAAAAAGSpQAAAAAAAZKlAAAAAAABkqUAAAAAAAGSpQAAAAAAAZKlAAAAAAABkqUAAAAAAAGSpQAAAAAAAZKlAAAAAAABkqUAAAAAAAGSpQAAAAAAAZKlAAAAAAABkqUAAAAAAAGSpQAAAAAAAZKlA",
          "dtype": "f8",
          "shape": "48, 1"
         },
         "hovertemplate": "<b>Time Step:</b> %{x}<br><b>Budget Left Ratio:</b> %{y:.3f}<br><b>Budget:</b> %{customdata[0]:.0f}<br><extra></extra>",
         "line": {
          "color": "rgb(236, 248, 226)",
          "width": 1.5
         },
         "mode": "lines",
         "opacity": 0.35,
         "showlegend": false,
         "type": "scatter",
         "x": {
          "bdata": "AAECAwQFBgcICQoLDA0ODxAREhMUFRYXGBkaGxwdHh8gISIjJCUmJygpKissLS4v",
          "dtype": "i1"
         },
         "y": {
          "bdata": "ZHgkckus7z/JH179L1nvP6DfW1AYTe8/3iXxOUZM7z8DPRmeSEjvP9skmqNZR+8/tcpBAgdH7z+1ykECB0fvP7XKQQIHR+8/tcpBAgdH7z+1ykECB0fvP7XKQQIHR+8/tcpBAgdH7z+1ykECB0fvP7XKQQIHR+8/tcpBAgdH7z9SGOaBWKTuP1v900Bsou0/belnI+Ib6j//Q+yDr5flPzW28qe5J+M/g8i1rgDt4D+FprvRUfvbP6yFw/566NQ/rIXD/nro1D+shcP+eujUP6yFw/566NQ/rIXD/nro1D+shcP+eujUP6yFw/566NQ/rIXD/nro1D+shcP+eujUP/kNNjvg+tE/N4B2irrozz97XaSjsFzOP+pLn37hKs0/cv5i74Dmyz/wtX/7f7bHP5mdClt0ocA/+BiXhapJuD/4GJeFqkm4P/gYl4WqSbg/+BiXhapJuD+bv40ToEa4P1okh9w+Qrg/l3teD/T3tz/E2/iQce63P3CmlIke6LY/",
          "dtype": "f8"
         }
        },
        {
         "customdata": {
          "bdata": "AAAAAABYq0AAAAAAAFirQAAAAAAAWKtAAAAAAABYq0AAAAAAAFirQAAAAAAAWKtAAAAAAABYq0AAAAAAAFirQAAAAAAAWKtAAAAAAABYq0AAAAAAAFirQAAAAAAAWKtAAAAAAABYq0AAAAAAAFirQAAAAAAAWKtAAAAAAABYq0AAAAAAAFirQAAAAAAAWKtAAAAAAABYq0AAAAAAAFirQAAAAAAAWKtAAAAAAABYq0AAAAAAAFirQAAAAAAAWKtAAAAAAABYq0AAAAAAAFirQAAAAAAAWKtAAAAAAABYq0AAAAAAAFirQAAAAAAAWKtAAAAAAABYq0AAAAAAAFirQAAAAAAAWKtAAAAAAABYq0AAAAAAAFirQAAAAAAAWKtAAAAAAABYq0AAAAAAAFirQAAAAAAAWKtAAAAAAABYq0AAAAAAAFirQAAAAAAAWKtAAAAAAABYq0AAAAAAAFirQAAAAAAAWKtAAAAAAABYq0AAAAAAAFirQAAAAAAAWKtA",
          "dtype": "f8",
          "shape": "48, 1"
         },
         "hovertemplate": "<b>Time Step:</b> %{x}<br><b>Budget Left Ratio:</b> %{y:.3f}<br><b>Budget:</b> %{customdata[0]:.0f}<br><extra></extra>",
         "line": {
          "color": "rgb(255, 247, 179)",
          "width": 1.5
         },
         "mode": "lines",
         "opacity": 0.35,
         "showlegend": false,
         "type": "scatter",
         "x": {
          "bdata": "AAECAwQFBgcICQoLDA0ODxAREhMUFRYXGBkaGxwdHh8gISIjJCUmJygpKissLS4v",
          "dtype": "i1"
         },
         "y": {
          "bdata": "M/MQFX2d7j+NhRRDrX/uP/YROYnK8u0/9gqRUh1+7T+3kxgnxvPsP58QXfPkT+w/CIpx0nzF6z+fxVEU7XjrP5/FURTteOs/n8VRFO146z/gIi7a7nbrPyCcEUwwcOs/qKW40LBp6z/bTwROKVbrP1AP/ne6U+s/lKOrAik/6z+yfEwl3ynrP1ix35ckCeo/w2xktMC65z8B0ON9dZ7mP/y2p05keOQ/om+2ksgQ4j/1idEQrdDgPwFhsCeubt4/AWGwJ65u3j8BYbAnrm7eP6H1GVrYX94/gI2exJ9Q3j8GJx3zsEHeP9LfKxp6Od4/YVB0Nkcy3j+ybzRLASreP7JvNEsBKt4/sm80SwEq3j+ybzRLASreP7JvNEsBKt4/sm80SwEq3j+ybzRLASreP7JvNEsBKt4/sm80SwEq3j/CHg8Q5tHWP4AbLNPlTdM/Vqtb6cFoyj9wwyJXiU2/P+H6v98pWLI/mpZv3vWVoT+w+EI917J0P/GbgQ87m8M+",
          "dtype": "f8"
         }
        },
        {
         "customdata": {
          "bdata": "AAAAAABooEAAAAAAAGigQAAAAAAAaKBAAAAAAABooEAAAAAAAGigQAAAAAAAaKBAAAAAAABooEAAAAAAAGigQAAAAAAAaKBAAAAAAABooEAAAAAAAGigQAAAAAAAaKBAAAAAAABooEAAAAAAAGigQAAAAAAAaKBAAAAAAABooEAAAAAAAGigQAAAAAAAaKBAAAAAAABooEAAAAAAAGigQAAAAAAAaKBAAAAAAABooEAAAAAAAGigQAAAAAAAaKBAAAAAAABooEAAAAAAAGigQAAAAAAAaKBAAAAAAABooEAAAAAAAGigQAAAAAAAaKBAAAAAAABooEAAAAAAAGigQAAAAAAAaKBAAAAAAABooEAAAAAAAGigQAAAAAAAaKBAAAAAAABooEAAAAAAAGigQAAAAAAAaKBAAAAAAABooEAAAAAAAGigQAAAAAAAaKBAAAAAAABooEAAAAAAAGigQAAAAAAAaKBAAAAAAABooEAAAAAAAGigQAAAAAAAaKBA",
          "dtype": "f8",
          "shape": "48, 1"
         },
         "hovertemplate": "<b>Time Step:</b> %{x}<br><b>Budget Left Ratio:</b> %{y:.3f}<br><b>Budget:</b> %{customdata[0]:.0f}<br><extra></extra>",
         "line": {
          "color": "rgb(56, 76, 160)",
          "width": 1.5
         },
         "mode": "lines",
         "opacity": 0.35,
         "showlegend": false,
         "type": "scatter",
         "x": {
          "bdata": "AAECAwQFBgcICQoLDA0ODxAREhMUFRYXGBkaGxwdHh8gISIjJCUmJygpKissLS4v",
          "dtype": "i1"
         },
         "y": {
          "bdata": "AAAAAAAA8D8AAAAAAADwPwAAAAAAAPA/AAAAAAAA8D8AAAAAAADwPwAAAAAAAPA/AAAAAAAA8D8AAAAAAADwPwAAAAAAAPA/AAAAAAAA8D88iBvHWf/vP4vewRAR+u8/jniAyjf17z/kMLxiPejvP+8exazuwu8/JZS+vvFl7z+pTNFbKifvPw5qbJgjGu4/5Vd8Gt9I7D+XpFDpZrLrP0518tmHoeg/YLca6UY/5D++y2/cVdnZPxTziG2HYs0/C5LP/9g8zT+MINvYzXbMP21IOa6ARsw/8MRHlSlhyz9lMLpXBu/KP9ChfCgcp8o/7RrcwJ9tyD8htD4k32vHPyG0PiTfa8c/IbQ+JN9rxz/KXa6zKmHHP7UpRMWCVMc/3/bWuEJRxz/f9ta4QlHHP3zqv5sTNsc/sCjdczYexz8SROfh4DzEP1Z4XyAvRsE/gC0BUHsSuT+4/rtva36xP9mqGqgh06Q/69vxIM3cAT/r2/EgzdwBP+vb8SDN3AE/",
          "dtype": "f8"
         }
        },
        {
         "customdata": {
          "bdata": "AAAAAABAn0AAAAAAAECfQAAAAAAAQJ9AAAAAAABAn0AAAAAAAECfQAAAAAAAQJ9AAAAAAABAn0AAAAAAAECfQAAAAAAAQJ9AAAAAAABAn0AAAAAAAECfQAAAAAAAQJ9AAAAAAABAn0AAAAAAAECfQAAAAAAAQJ9AAAAAAABAn0AAAAAAAECfQAAAAAAAQJ9AAAAAAABAn0AAAAAAAECfQAAAAAAAQJ9AAAAAAABAn0AAAAAAAECfQAAAAAAAQJ9AAAAAAABAn0AAAAAAAECfQAAAAAAAQJ9AAAAAAABAn0AAAAAAAECfQAAAAAAAQJ9AAAAAAABAn0AAAAAAAECfQAAAAAAAQJ9AAAAAAABAn0AAAAAAAECfQAAAAAAAQJ9AAAAAAABAn0AAAAAAAECfQAAAAAAAQJ9AAAAAAABAn0AAAAAAAECfQAAAAAAAQJ9AAAAAAABAn0AAAAAAAECfQAAAAAAAQJ9AAAAAAABAn0AAAAAAAECfQAAAAAAAQJ9A",
          "dtype": "f8",
          "shape": "48, 1"
         },
         "hovertemplate": "<b>Time Step:</b> %{x}<br><b>Budget Left Ratio:</b> %{y:.3f}<br><b>Budget:</b> %{customdata[0]:.0f}<br><extra></extra>",
         "line": {
          "color": "rgb(49, 54, 149)",
          "width": 1.5
         },
         "mode": "lines",
         "opacity": 0.35,
         "showlegend": false,
         "type": "scatter",
         "x": {
          "bdata": "AAECAwQFBgcICQoLDA0ODxAREhMUFRYXGBkaGxwdHh8gISIjJCUmJygpKissLS4v",
          "dtype": "i1"
         },
         "y": {
          "bdata": "dfcuHYLJ7z9LuMcwNgzvP5CaNue97O4/OZ+uZmnj7j/sUYLmIMXuPyxN9BN2t+4/S9p7k9Oz7j+JsDMykrLuPxlclbXLo+4/m1RkYCp+7j8u54tx84XtP6q19ruNEew/GkP36AK96T8AijLsB6PnPyWZpJ49EeU/oRLP5Atw4j/x+3OiEmPhP+e/qRd0d+A/fQ7ayFdO4D8b2UjFZ4veP91gmkHxf9o/sJUY/mpp0j/ZwPH/sOTGPwZNkGrea7g/1RjES4jJnj+0yBZZxuwAP7TIFlnG7AA/tMgWWcbsAD+0yBZZxuwAP7TIFlnG7AA/tMgWWcbsAD+0yBZZxuwAP7TIFlnG7AA/tMgWWcbsAD+0yBZZxuwAP7TIFlnG7AA/tMgWWcbsAD+0yBZZxuwAP7TIFlnG7AA/tMgWWcbsAD+0yBZZxuwAP7TIFlnG7AA/tMgWWcbsAD+0yBZZxuwAP7TIFlnG7AA/tMgWWcbsAD+0yBZZxuwAP7TIFlnG7AA/",
          "dtype": "f8"
         }
        },
        {
         "customdata": {
          "bdata": "AAAAAABooEAAAAAAAGigQAAAAAAAaKBAAAAAAABooEAAAAAAAGigQAAAAAAAaKBAAAAAAABooEAAAAAAAGigQAAAAAAAaKBAAAAAAABooEAAAAAAAGigQAAAAAAAaKBAAAAAAABooEAAAAAAAGigQAAAAAAAaKBAAAAAAABooEAAAAAAAGigQAAAAAAAaKBAAAAAAABooEAAAAAAAGigQAAAAAAAaKBAAAAAAABooEAAAAAAAGigQAAAAAAAaKBAAAAAAABooEAAAAAAAGigQAAAAAAAaKBAAAAAAABooEAAAAAAAGigQAAAAAAAaKBAAAAAAABooEAAAAAAAGigQAAAAAAAaKBAAAAAAABooEAAAAAAAGigQAAAAAAAaKBAAAAAAABooEAAAAAAAGigQAAAAAAAaKBAAAAAAABooEAAAAAAAGigQAAAAAAAaKBAAAAAAABooEAAAAAAAGigQAAAAAAAaKBAAAAAAABooEAAAAAAAGigQAAAAAAAaKBA",
          "dtype": "f8",
          "shape": "48, 1"
         },
         "hovertemplate": "<b>Time Step:</b> %{x}<br><b>Budget Left Ratio:</b> %{y:.3f}<br><b>Budget:</b> %{customdata[0]:.0f}<br><extra></extra>",
         "line": {
          "color": "rgb(56, 76, 160)",
          "width": 1.5
         },
         "mode": "lines",
         "opacity": 0.35,
         "showlegend": false,
         "type": "scatter",
         "x": {
          "bdata": "AAECAwQFBgcICQoLDA0ODxAREhMUFRYXGBkaGxwdHh8gISIjJCUmJygpKissLS4v",
          "dtype": "i1"
         },
         "y": {
          "bdata": "AAAAAAAA8D8AAAAAAADwPwAAAAAAAPA/AAAAAAAA8D8AAAAAAADwPwAAAAAAAPA/AAAAAAAA8D8AAAAAAADwPwAAAAAAAPA/AAAAAAAA8D8AAAAAAADwP5xRyUqb/+8/0k74EEH/7z89bvnx3/7vP5emwz/Y++8/l6bDP9j77z9hVpTgo/nvP7bHLz03+e8/fJ7Jd4P37z+fdqLfAvPvP8fU7pmu8u8/XCT/fELx7z9zuH5h4e7vP0KNc5qnze8/TS6mx/zD7z/gCS0fVLvvPxGSRyF5h+8/QBiOb+x77z+LAkFhn1HvP+T/oWTiAe8/nze4VchH7j8DHp7hQsftP3/nMDrJhus/JGon/Uai6j+Rg8n4+LDoP7TWMQnw2+c/tO7K276Y4j+MLZTNZ1TeP5m7m1msndU/F4XjhaOLyj+6H4siDCi2P8J6u5CDX6I/5z7hU5mokj9TacihjLbSPlNpyKGMttI+U2nIoYy20j5TacihjLbSPlNpyKGMttI+",
          "dtype": "f8"
         }
        },
        {
         "customdata": {
          "bdata": "AAAAAAAEoEAAAAAAAASgQAAAAAAABKBAAAAAAAAEoEAAAAAAAASgQAAAAAAABKBAAAAAAAAEoEAAAAAAAASgQAAAAAAABKBAAAAAAAAEoEAAAAAAAASgQAAAAAAABKBAAAAAAAAEoEAAAAAAAASgQAAAAAAABKBAAAAAAAAEoEAAAAAAAASgQAAAAAAABKBAAAAAAAAEoEAAAAAAAASgQAAAAAAABKBAAAAAAAAEoEAAAAAAAASgQAAAAAAABKBAAAAAAAAEoEAAAAAAAASgQAAAAAAABKBAAAAAAAAEoEAAAAAAAASgQAAAAAAABKBAAAAAAAAEoEAAAAAAAASgQAAAAAAABKBAAAAAAAAEoEAAAAAAAASgQAAAAAAABKBAAAAAAAAEoEAAAAAAAASgQAAAAAAABKBAAAAAAAAEoEAAAAAAAASgQAAAAAAABKBAAAAAAAAEoEAAAAAAAASgQAAAAAAABKBAAAAAAAAEoEAAAAAAAASgQAAAAAAABKBA",
          "dtype": "f8",
          "shape": "48, 1"
         },
         "hovertemplate": "<b>Time Step:</b> %{x}<br><b>Budget Left Ratio:</b> %{y:.3f}<br><b>Budget:</b> %{customdata[0]:.0f}<br><extra></extra>",
         "line": {
          "color": "rgb(53, 65, 154)",
          "width": 1.5
         },
         "mode": "lines",
         "opacity": 0.35,
         "showlegend": false,
         "type": "scatter",
         "x": {
          "bdata": "AAECAwQFBgcICQoLDA0ODxAREhMUFRYXGBkaGxwdHh8gISIjJCUmJygpKissLS4v",
          "dtype": "i1"
         },
         "y": {
          "bdata": "nuVIWZem7T+/kcxbVTTsP0o6FCIO9uo/qgQZQBFK6j/T5mMrFJbpP8iIfsIhBOk/XZfVGBd96D+ri/Wbl0XoP2SWW8Tc6Oc/ghaXVrl05z/x8nXwPhPnP9Cu3UwTSeY/EjOTkdsV5T93W3PgUPriP+hmhP5Xp+A/wKlD5Erd3z/AqUPkSt3fP3T5bjdcRN8/UjatM0843j8N9Pt1DrjcP8IBZwAoINs/M7ofX2nM1z86GAUcdUvXP7U0QNkys9U/tTRA2TKz1T+1NEDZMrPVP7U0QNkys9U/tTRA2TKz1T+1NEDZMrPVP7U0QNkys9U/Ndx9G9Oy1T8pDAppeLLVPykMCml4stU/KQwKaXiy1T8UlhHA1rHVP59FyMydSNU/ij+y9/ol1T8QYPrNGPLRP0NUJ6DI2cw/Ado32US1yj9cP4WeZyPEP68EZXtKqqY/cD8Cz5LI4D5wPwLPksjgPnA/As+SyOA+cD8Cz5LI4D5wPwLPksjgPnA/As+SyOA+",
          "dtype": "f8"
         }
        },
        {
         "customdata": {
          "bdata": "AAAAAACopkAAAAAAAKimQAAAAAAAqKZAAAAAAACopkAAAAAAAKimQAAAAAAAqKZAAAAAAACopkAAAAAAAKimQAAAAAAAqKZAAAAAAACopkAAAAAAAKimQAAAAAAAqKZAAAAAAACopkAAAAAAAKimQAAAAAAAqKZAAAAAAACopkAAAAAAAKimQAAAAAAAqKZAAAAAAACopkAAAAAAAKimQAAAAAAAqKZAAAAAAACopkAAAAAAAKimQAAAAAAAqKZAAAAAAACopkAAAAAAAKimQAAAAAAAqKZAAAAAAACopkAAAAAAAKimQAAAAAAAqKZAAAAAAACopkAAAAAAAKimQAAAAAAAqKZAAAAAAACopkAAAAAAAKimQAAAAAAAqKZAAAAAAACopkAAAAAAAKimQAAAAAAAqKZAAAAAAACopkAAAAAAAKimQAAAAAAAqKZAAAAAAACopkAAAAAAAKimQAAAAAAAqKZAAAAAAACopkAAAAAAAKimQAAAAAAAqKZA",
          "dtype": "f8",
          "shape": "48, 1"
         },
         "hovertemplate": "<b>Time Step:</b> %{x}<br><b>Budget Left Ratio:</b> %{y:.3f}<br><b>Budget:</b> %{customdata[0]:.0f}<br><extra></extra>",
         "line": {
          "color": "rgb(179, 221, 235)",
          "width": 1.5
         },
         "mode": "lines",
         "opacity": 0.35,
         "showlegend": false,
         "type": "scatter",
         "x": {
          "bdata": "AAECAwQFBgcICQoLDA0ODxAREhMUFRYXGBkaGxwdHh8gISIjJCUmJygpKissLS4v",
          "dtype": "i1"
         },
         "y": {
          "bdata": "AWlS5Pn77z/VemeIle7vPxziH+NG6+8/HOIf40br7z8c4h/jRuvvPxziH+NG6+8/HOIf40br7z8c4h/jRuvvPxziH+NG6+8/HOIf40br7z8c4h/jRuvvPxziH+NG6+8/HOIf40br7z8c4h/jRuvvPxziH+NG6+8/HOIf40br7z8c4h/jRuvvPxziH+NG6+8/HOIf40br7z8c4h/jRuvvPxziH+NG6+8/HOIf40br7z8c4h/jRuvvPxziH+NG6+8/HOIf40br7z8c4h/jRuvvPxziH+NG6+8/HOIf40br7z8c4h/jRuvvPxziH+NG6+8/HOIf40br7z8c4h/jRuvvP316NzpMeO8/GRryA0Lm7j9tdIVnhwjuP/LI69WRH+0/NpIHoAcs7D8xTIiW0EvqPwVFITnznuc/m46OF4s35D/h/PuZ20/jP/k6q4rEQt8/v1+m/1v+1D9ZMQvyx6bBPx8IVikLxqA/XZV1tYgO9D5dlXW1iA70Pl2VdbWIDvQ+",
          "dtype": "f8"
         }
        },
        {
         "customdata": {
          "bdata": "AAAAAABAn0AAAAAAAECfQAAAAAAAQJ9AAAAAAABAn0AAAAAAAECfQAAAAAAAQJ9AAAAAAABAn0AAAAAAAECfQAAAAAAAQJ9AAAAAAABAn0AAAAAAAECfQAAAAAAAQJ9AAAAAAABAn0AAAAAAAECfQAAAAAAAQJ9AAAAAAABAn0AAAAAAAECfQAAAAAAAQJ9AAAAAAABAn0AAAAAAAECfQAAAAAAAQJ9AAAAAAABAn0AAAAAAAECfQAAAAAAAQJ9AAAAAAABAn0AAAAAAAECfQAAAAAAAQJ9AAAAAAABAn0AAAAAAAECfQAAAAAAAQJ9AAAAAAABAn0AAAAAAAECfQAAAAAAAQJ9AAAAAAABAn0AAAAAAAECfQAAAAAAAQJ9AAAAAAABAn0AAAAAAAECfQAAAAAAAQJ9AAAAAAABAn0AAAAAAAECfQAAAAAAAQJ9AAAAAAABAn0AAAAAAAECfQAAAAAAAQJ9AAAAAAABAn0AAAAAAAECfQAAAAAAAQJ9A",
          "dtype": "f8",
          "shape": "48, 1"
         },
         "hovertemplate": "<b>Time Step:</b> %{x}<br><b>Budget Left Ratio:</b> %{y:.3f}<br><b>Budget:</b> %{customdata[0]:.0f}<br><extra></extra>",
         "line": {
          "color": "rgb(49, 54, 149)",
          "width": 1.5
         },
         "mode": "lines",
         "opacity": 0.35,
         "showlegend": false,
         "type": "scatter",
         "x": {
          "bdata": "AAECAwQFBgcICQoLDA0ODxAREhMUFRYXGBkaGxwdHh8gISIjJCUmJygpKissLS4v",
          "dtype": "i1"
         },
         "y": {
          "bdata": "IQWspojw7z/8JlTuyufvP+pXUGfMzu8/AtqMVp+57z8h+tWD6bPvP+gJ32WJs+8/1G9b34ek7z/Ub1vfh6TvP5SvJco5pO8/lK8lyjmk7z/8/Sfhp6HvP/z9J+Gnoe8/pCQfIJig7z/7ZzWsMqDvP/tnNawyoO8/+2c1rDKg7z9nX8tbWhHvPx9fjKEtkOs/ruBY5L8R5z+wWtDamMjeP33/PhXUCtQ/ObhPXEvgxT9oJ+z4mWvAPyHYR8J487U/7rhalMzmtT87M5sWJc21P227R0PjrrU/wWZsS4SttT8/sdcUBma1P3Vr4x9cULU/tIhmGTtKtT+0iGYZO0q1P7SIZhk7SrU/tIhmGTtKtT+0iGYZO0q1P7SIZhk7SrU/tIhmGTtKtT+0iGYZO0q1P/zxaEb3R7U/N83HSnIttD93dkbSx06tPzPjXdCiZac/rh93C871oD91k1jkSnj0PnWTWORKePQ+dZNY5Ep49D51k1jkSnj0PnWTWORKePQ+",
          "dtype": "f8"
         }
        },
        {
         "customdata": {
          "bdata": "AAAAAACOskAAAAAAAI6yQAAAAAAAjrJAAAAAAACOskAAAAAAAI6yQAAAAAAAjrJAAAAAAACOskAAAAAAAI6yQAAAAAAAjrJAAAAAAACOskAAAAAAAI6yQAAAAAAAjrJAAAAAAACOskAAAAAAAI6yQAAAAAAAjrJAAAAAAACOskAAAAAAAI6yQAAAAAAAjrJAAAAAAACOskAAAAAAAI6yQAAAAAAAjrJAAAAAAACOskAAAAAAAI6yQAAAAAAAjrJAAAAAAACOskAAAAAAAI6yQAAAAAAAjrJAAAAAAACOskAAAAAAAI6yQAAAAAAAjrJAAAAAAACOskAAAAAAAI6yQAAAAAAAjrJAAAAAAACOskAAAAAAAI6yQAAAAAAAjrJAAAAAAACOskAAAAAAAI6yQAAAAAAAjrJAAAAAAACOskAAAAAAAI6yQAAAAAAAjrJAAAAAAACOskAAAAAAAI6yQAAAAAAAjrJAAAAAAACOskAAAAAAAI6yQAAAAAAAjrJA",
          "dtype": "f8",
          "shape": "48, 1"
         },
         "hovertemplate": "<b>Time Step:</b> %{x}<br><b>Budget Left Ratio:</b> %{y:.3f}<br><b>Budget:</b> %{customdata[0]:.0f}<br><extra></extra>",
         "line": {
          "color": "rgb(183, 17, 38)",
          "width": 1.5
         },
         "mode": "lines",
         "opacity": 0.35,
         "showlegend": false,
         "type": "scatter",
         "x": {
          "bdata": "AAECAwQFBgcICQoLDA0ODxAREhMUFRYXGBkaGxwdHh8gISIjJCUmJygpKissLS4v",
          "dtype": "i1"
         },
         "y": {
          "bdata": "AAAAAAAA8D9aKVbi2f/vP4iiuPLE/u8/iKK48sT+7z+IorjyxP7vP4iiuPLE/u8/iKK48sT+7z+IorjyxP7vP4iiuPLE/u8/iKK48sT+7z+IorjyxP7vP4iiuPLE/u8/iKK48sT+7z+IorjyxP7vP4iiuPLE/u8/iKK48sT+7z8KaZEzL+XvP1bVsdoOu+0/07NXB/IR6z9ZSXTsZ/voP0sYPoVXM+U/fKcTNFz04D9oL0GdiSraP3ccVSRH0NQ/iFV8BeWW0D/h1rrafEPJPwVjJ9EhR8M/AHd3iYxZvD+7iFm7BKmzP/jK/u9zA60/FAGLXZI/oD9sOgaXc2SSP7HMc7fQYJI/kIGICjkvkj+fSc3tKoqRP59Jze0qipE/9DP4UKQdkD+s+Lt+LtuKP235lj7MV4Y/2GI9ncuOgD9/zy2xM93JPn/PLbEz3ck+f88tsTPdyT5/zy2xM93JPn/PLbEz3ck+f88tsTPdyT5/zy2xM93JPn/PLbEz3ck+",
          "dtype": "f8"
         }
        },
        {
         "customdata": {
          "bdata": "AAAAAACUoUAAAAAAAJShQAAAAAAAlKFAAAAAAACUoUAAAAAAAJShQAAAAAAAlKFAAAAAAACUoUAAAAAAAJShQAAAAAAAlKFAAAAAAACUoUAAAAAAAJShQAAAAAAAlKFAAAAAAACUoUAAAAAAAJShQAAAAAAAlKFAAAAAAACUoUAAAAAAAJShQAAAAAAAlKFAAAAAAACUoUAAAAAAAJShQAAAAAAAlKFAAAAAAACUoUAAAAAAAJShQAAAAAAAlKFAAAAAAACUoUAAAAAAAJShQAAAAAAAlKFAAAAAAACUoUAAAAAAAJShQAAAAAAAlKFAAAAAAACUoUAAAAAAAJShQAAAAAAAlKFAAAAAAACUoUAAAAAAAJShQAAAAAAAlKFAAAAAAACUoUAAAAAAAJShQAAAAAAAlKFAAAAAAACUoUAAAAAAAJShQAAAAAAAlKFAAAAAAACUoUAAAAAAAJShQAAAAAAAlKFAAAAAAACUoUAAAAAAAJShQAAAAAAAlKFA",
          "dtype": "f8",
          "shape": "48, 1"
         },
         "hovertemplate": "<b>Time Step:</b> %{x}<br><b>Budget Left Ratio:</b> %{y:.3f}<br><b>Budget:</b> %{customdata[0]:.0f}<br><extra></extra>",
         "line": {
          "color": "rgb(67, 109, 176)",
          "width": 1.5
         },
         "mode": "lines",
         "opacity": 0.35,
         "showlegend": false,
         "type": "scatter",
         "x": {
          "bdata": "AAECAwQFBgcICQoLDA0ODxAREhMUFRYXGBkaGxwdHh8gISIjJCUmJygpKissLS4v",
          "dtype": "i1"
         },
         "y": {
          "bdata": "AAAAAAAA8D8AAAAAAADwPwAAAAAAAPA/AAAAAAAA8D8AAAAAAADwPwAAAAAAAPA/AAAAAAAA8D8AAAAAAADwPwAAAAAAAPA/AAAAAAAA8D8AAAAAAADwPwAAAAAAAPA/AAAAAAAA8D8AAAAAAADwPwAAAAAAAPA/YgUqgLr/7z9iBSqAuv/vP2IFKoC6/+8/YgUqgLr/7z9iBSqAuv/vP2IFKoC6/+8/YgUqgLr/7z9iBSqAuv/vP2IFKoC6/+8/iKX+9pbj7z/N7SpnyQXvPzNEeZK/Ous/DqsQp5TU5j/OrDY/m1fjP1IwaZ8vIt4/n1HsfSQ01z+LwwyToDfUPzoH3Lv+JNQ/U9IQp8aw0z9qax3G1abRP2ERRIL43s4/bGSpU9t7zD9/Wq2cRPjKP/GJMXnaUcg/D1Ac5zCgwz9r4iN5wwq5PzGbKbfxILA/fb/Cbzapoz9c/HoXngegP57vpwYGLvc+nu+nBgYu9z6e76cGBi73Pp7vpwYGLvc+",
          "dtype": "f8"
         }
        },
        {
         "customdata": {
          "bdata": "AAAAAACopkAAAAAAAKimQAAAAAAAqKZAAAAAAACopkAAAAAAAKimQAAAAAAAqKZAAAAAAACopkAAAAAAAKimQAAAAAAAqKZAAAAAAACopkAAAAAAAKimQAAAAAAAqKZAAAAAAACopkAAAAAAAKimQAAAAAAAqKZAAAAAAACopkAAAAAAAKimQAAAAAAAqKZAAAAAAACopkAAAAAAAKimQAAAAAAAqKZAAAAAAACopkAAAAAAAKimQAAAAAAAqKZAAAAAAACopkAAAAAAAKimQAAAAAAAqKZAAAAAAACopkAAAAAAAKimQAAAAAAAqKZAAAAAAACopkAAAAAAAKimQAAAAAAAqKZAAAAAAACopkAAAAAAAKimQAAAAAAAqKZAAAAAAACopkAAAAAAAKimQAAAAAAAqKZAAAAAAACopkAAAAAAAKimQAAAAAAAqKZAAAAAAACopkAAAAAAAKimQAAAAAAAqKZAAAAAAACopkAAAAAAAKimQAAAAAAAqKZA",
          "dtype": "f8",
          "shape": "48, 1"
         },
         "hovertemplate": "<b>Time Step:</b> %{x}<br><b>Budget Left Ratio:</b> %{y:.3f}<br><b>Budget:</b> %{customdata[0]:.0f}<br><extra></extra>",
         "line": {
          "color": "rgb(179, 221, 235)",
          "width": 1.5
         },
         "mode": "lines",
         "opacity": 0.35,
         "showlegend": false,
         "type": "scatter",
         "x": {
          "bdata": "AAECAwQFBgcICQoLDA0ODxAREhMUFRYXGBkaGxwdHh8gISIjJCUmJygpKissLS4v",
          "dtype": "i1"
         },
         "y": {
          "bdata": "AAAAAAAA8D8AAAAAAADwPwAAAAAAAPA/AAAAAAAA8D8AAAAAAADwPwAAAAAAAPA/AAAAAAAA8D8AAAAAAADwPwAAAAAAAPA/AAAAAAAA8D8AAAAAAADwPwAAAAAAAPA/AAAAAAAA8D8AAAAAAADwPwAAAAAAAPA/AAAAAAAA8D/tvTPoUPDvPzgCnzbKn+8/QLKbvj0a7j+LN7iz5gzsP9fDeNrrC+o/AfFLt6Bn5D9+yqwGGaPbPzhoFHtQyNE/qh4Dcr7G0T8sFMvt3cDRP3RDI7MnutE/vwKfkmes0T9yiQy9u53RP4uO8CW+i9E/6U8iMZhO0T8j3PBasiDRP7O8mU5F09A/QP82rrubzD9hJrzFx1TDPy0gd+526rk/TleiwtxUtj+Nrfax3VWzP91T5v1h/K4/fB2nJhKtrT98HacmEq2tP3wdpyYSra0/quZP2c+qrT+q5k/Zz6qtP3B6XfGgB6w/XIx2OYK1qj+Pfy4aMiapP9xKfPxsbug+",
          "dtype": "f8"
         }
        },
        {
         "customdata": {
          "bdata": "AAAAAACopkAAAAAAAKimQAAAAAAAqKZAAAAAAACopkAAAAAAAKimQAAAAAAAqKZAAAAAAACopkAAAAAAAKimQAAAAAAAqKZAAAAAAACopkAAAAAAAKimQAAAAAAAqKZAAAAAAACopkAAAAAAAKimQAAAAAAAqKZAAAAAAACopkAAAAAAAKimQAAAAAAAqKZAAAAAAACopkAAAAAAAKimQAAAAAAAqKZAAAAAAACopkAAAAAAAKimQAAAAAAAqKZAAAAAAACopkAAAAAAAKimQAAAAAAAqKZAAAAAAACopkAAAAAAAKimQAAAAAAAqKZAAAAAAACopkAAAAAAAKimQAAAAAAAqKZAAAAAAACopkAAAAAAAKimQAAAAAAAqKZAAAAAAACopkAAAAAAAKimQAAAAAAAqKZAAAAAAACopkAAAAAAAKimQAAAAAAAqKZAAAAAAACopkAAAAAAAKimQAAAAAAAqKZAAAAAAACopkAAAAAAAKimQAAAAAAAqKZA",
          "dtype": "f8",
          "shape": "48, 1"
         },
         "hovertemplate": "<b>Time Step:</b> %{x}<br><b>Budget Left Ratio:</b> %{y:.3f}<br><b>Budget:</b> %{customdata[0]:.0f}<br><extra></extra>",
         "line": {
          "color": "rgb(179, 221, 235)",
          "width": 1.5
         },
         "mode": "lines",
         "opacity": 0.35,
         "showlegend": false,
         "type": "scatter",
         "x": {
          "bdata": "AAECAwQFBgcICQoLDA0ODxAREhMUFRYXGBkaGxwdHh8gISIjJCUmJygpKissLS4v",
          "dtype": "i1"
         },
         "y": {
          "bdata": "AAAAAAAA8D8AAAAAAADwPwAAAAAAAPA/AAAAAAAA8D8AAAAAAADwPwAAAAAAAPA/AAAAAAAA8D8AAAAAAADwP8+jLkfA/u8/z6MuR8D+7z/T5xwQldvvP/WBuJEmqu8/SMBaStqh7z8D6KR3AHbvPzhm0cPTYe8/pp9kPUim7j+mn2Q9SKbuP6afZD1Ipu4/pp9kPUim7j+mn2Q9SKbuP6afZD1Ipu4/Oigl+OGl7j9VB0t/IqPuP+Q7h9B/oe4/nC29AoPu6D9Nangp26HkP0xaLLGvqt0/lSsiO/gd1T8QdFjs5TvMPxC6SnsqusE/R5vw+5nPsj+LoWF4n6SpP4UuxMqFiqk/YgLY9gRtqT83kThpegaoPxAKPo9PkaU/zAPi/865pD+To7/vkyCkP8YTY3GcVqM/+olIfbQLoj+ZFvyU4EyTP7WDP8gBmI8/IA54gLpt4D4gDniAum3gPiAOeIC6beA+IA54gLpt4D4gDniAum3gPiAOeIC6beA+",
          "dtype": "f8"
         }
        },
        {
         "customdata": {
          "bdata": "AAAAAADAskAAAAAAAMCyQAAAAAAAwLJAAAAAAADAskAAAAAAAMCyQAAAAAAAwLJAAAAAAADAskAAAAAAAMCyQAAAAAAAwLJAAAAAAADAskAAAAAAAMCyQAAAAAAAwLJAAAAAAADAskAAAAAAAMCyQAAAAAAAwLJAAAAAAADAskAAAAAAAMCyQAAAAAAAwLJAAAAAAADAskAAAAAAAMCyQAAAAAAAwLJAAAAAAADAskAAAAAAAMCyQAAAAAAAwLJAAAAAAADAskAAAAAAAMCyQAAAAAAAwLJAAAAAAADAskAAAAAAAMCyQAAAAAAAwLJAAAAAAADAskAAAAAAAMCyQAAAAAAAwLJAAAAAAADAskAAAAAAAMCyQAAAAAAAwLJAAAAAAADAskAAAAAAAMCyQAAAAAAAwLJAAAAAAADAskAAAAAAAMCyQAAAAAAAwLJAAAAAAADAskAAAAAAAMCyQAAAAAAAwLJAAAAAAADAskAAAAAAAMCyQAAAAAAAwLJA",
          "dtype": "f8",
          "shape": "48, 1"
         },
         "hovertemplate": "<b>Time Step:</b> %{x}<br><b>Budget Left Ratio:</b> %{y:.3f}<br><b>Budget:</b> %{customdata[0]:.0f}<br><extra></extra>",
         "line": {
          "color": "rgb(174, 8, 38)",
          "width": 1.5
         },
         "mode": "lines",
         "opacity": 0.35,
         "showlegend": false,
         "type": "scatter",
         "x": {
          "bdata": "AAECAwQFBgcICQoLDA0ODxAREhMUFRYXGBkaGxwdHh8gISIjJCUmJygpKissLS4v",
          "dtype": "i1"
         },
         "y": {
          "bdata": "jhU1tH3/7z8YTeD7WP/vPxhN4PtY/+8/GE3g+1j/7z8YTeD7WP/vPzCKiv49/+8/MIqK/j3/7z8wior+Pf/vPzCKiv49/+8/MIqK/j3/7z8wior+Pf/vPwWTjL8j/u8/bH30n8D97z/UMuKqlv3vP64fokfh++8/PGn6q7/z7z/xswPEYPLvPx9z0DFv0O8/OFBSunWv7z+4vh1D927vP6SsdRc85e4/ju0HuaEc7j/vZNYbCKjtP2Pg1gIxx+s/4su0bwBK6j/NLzNsD/vnPw8aOC0rE+U/GLlOqnbn4T+mf60VVW/fP+iEbQw1nNw/8aQSdaiI2T8OZdAxy4zVP1eWGVHncNQ/B6UfKvS80T/vYLraENXMP4zgtyp/08k/vOIVrGbexz/5/lOJ5J3FP35hNgmbasI/RAqIisxJwT9LumMES6q8P4lobyqj0bY/8ssv/colsD+CFp8a2KeqP4+iQhbkd5I/agMdiWfI5z5qAx2JZ8jnPmoDHYlnyOc+",
          "dtype": "f8"
         }
        },
        {
         "customdata": {
          "bdata": "AAAAAABAn0AAAAAAAECfQAAAAAAAQJ9AAAAAAABAn0AAAAAAAECfQAAAAAAAQJ9AAAAAAABAn0AAAAAAAECfQAAAAAAAQJ9AAAAAAABAn0AAAAAAAECfQAAAAAAAQJ9AAAAAAABAn0AAAAAAAECfQAAAAAAAQJ9AAAAAAABAn0AAAAAAAECfQAAAAAAAQJ9AAAAAAABAn0AAAAAAAECfQAAAAAAAQJ9AAAAAAABAn0AAAAAAAECfQAAAAAAAQJ9AAAAAAABAn0AAAAAAAECfQAAAAAAAQJ9AAAAAAABAn0AAAAAAAECfQAAAAAAAQJ9AAAAAAABAn0AAAAAAAECfQAAAAAAAQJ9AAAAAAABAn0AAAAAAAECfQAAAAAAAQJ9AAAAAAABAn0AAAAAAAECfQAAAAAAAQJ9AAAAAAABAn0AAAAAAAECfQAAAAAAAQJ9AAAAAAABAn0AAAAAAAECfQAAAAAAAQJ9AAAAAAABAn0AAAAAAAECfQAAAAAAAQJ9A",
          "dtype": "f8",
          "shape": "48, 1"
         },
         "hovertemplate": "<b>Time Step:</b> %{x}<br><b>Budget Left Ratio:</b> %{y:.3f}<br><b>Budget:</b> %{customdata[0]:.0f}<br><extra></extra>",
         "line": {
          "color": "rgb(49, 54, 149)",
          "width": 1.5
         },
         "mode": "lines",
         "opacity": 0.35,
         "showlegend": false,
         "type": "scatter",
         "x": {
          "bdata": "AAECAwQFBgcICQoLDA0ODxAREhMUFRYXGBkaGxwdHh8gISIjJCUmJygpKissLS4v",
          "dtype": "i1"
         },
         "y": {
          "bdata": "ID/L8OX+7z+gsqmzQcvvP6CyqbNBy+8/an7oU4rD7z/U2wncW8HvP1WOsCDwv+8/VY6wIPC/7z9n5p1th7/vP3SXT2M1u+8/Mfvh86q67z94+piSRLrvP1Xd3RbTtu8/f7DUXfCe7z/lXSIxjofvP2yoHCtBce8/v3/csBhG7z+/f9ywGEbvP4Xy9Y+yQO8/7z14zlwp7z+NH/hZXrbtP55ZsG4BS+o/Zf6Yk8qj6T+sLNZE9bTnP00tBDkej+Q/gyeU4khX5D+zKU9C0SDkP2bhaLoXCuM/8iHpMYUA4j8/oHZQfcTgP6BaF9rPTN4/+OGzEf1k1j/wvyTRbZrQP/C/JNFtmtA/8L8k0W2a0D/wvyTRbZrQP/C/JNFtmtA/8L8k0W2a0D+yMcvYc5HQP14F7X09kNA/bXGwSIdH0D+8bMq6kkPKP8sJxcM6EL4/lkPL/RSR8T6WQ8v9FJHxPpZDy/0UkfE+lkPL/RSR8T6WQ8v9FJHxPpZDy/0UkfE+",
          "dtype": "f8"
         }
        },
        {
         "customdata": {
          "bdata": "AAAAAAAEoEAAAAAAAASgQAAAAAAABKBAAAAAAAAEoEAAAAAAAASgQAAAAAAABKBAAAAAAAAEoEAAAAAAAASgQAAAAAAABKBAAAAAAAAEoEAAAAAAAASgQAAAAAAABKBAAAAAAAAEoEAAAAAAAASgQAAAAAAABKBAAAAAAAAEoEAAAAAAAASgQAAAAAAABKBAAAAAAAAEoEAAAAAAAASgQAAAAAAABKBAAAAAAAAEoEAAAAAAAASgQAAAAAAABKBAAAAAAAAEoEAAAAAAAASgQAAAAAAABKBAAAAAAAAEoEAAAAAAAASgQAAAAAAABKBAAAAAAAAEoEAAAAAAAASgQAAAAAAABKBAAAAAAAAEoEAAAAAAAASgQAAAAAAABKBAAAAAAAAEoEAAAAAAAASgQAAAAAAABKBAAAAAAAAEoEAAAAAAAASgQAAAAAAABKBAAAAAAAAEoEAAAAAAAASgQAAAAAAABKBAAAAAAAAEoEAAAAAAAASgQAAAAAAABKBA",
          "dtype": "f8",
          "shape": "48, 1"
         },
         "hovertemplate": "<b>Time Step:</b> %{x}<br><b>Budget Left Ratio:</b> %{y:.3f}<br><b>Budget:</b> %{customdata[0]:.0f}<br><extra></extra>",
         "line": {
          "color": "rgb(53, 65, 154)",
          "width": 1.5
         },
         "mode": "lines",
         "opacity": 0.35,
         "showlegend": false,
         "type": "scatter",
         "x": {
          "bdata": "AAECAwQFBgcICQoLDA0ODxAREhMUFRYXGBkaGxwdHh8gISIjJCUmJygpKissLS4v",
          "dtype": "i1"
         },
         "y": {
          "bdata": "AAAAAAAA8D8AAAAAAADwPwAAAAAAAPA/AAAAAAAA8D8AAAAAAADwPwAAAAAAAPA/AAAAAAAA8D8AAAAAAADwPwAAAAAAAPA/AAAAAAAA8D8AAAAAAADwPwAAAAAAAPA/AAAAAAAA8D+0CQwVqv/vP73sFVGy/u8/vewVUbL+7z86zMcG56ntPySiyDdRaeo/zClw/gB45z9D7Zpkpz/jPxzP5XKWXNk/d9II5IWDyj//w9e0cku+P9kdKGgkBqA/2R0oaCQGoD/ZHShoJAagP9kdKGgkBqA/2R0oaCQGoD/ZHShoJAagP9kdKGgkBqA/2R0oaCQGoD/ZHShoJAagP9kdKGgkBqA/43UFMdXRmT9Cdw6cHAeZP3ghwaNTEpU/pWySs/Exij8B+hQR7iyIP0flUOAQFog/Erm1ma2ghz8SubWZraCHPxK5tZmtoIc/KlgZ28dQhz8pXCUTlpV+Pylbf0gIPnk/fwW8EyFhdT8lbTNr/p5eP3oYno9wdOE+",
          "dtype": "f8"
         }
        },
        {
         "customdata": {
          "bdata": "AAAAAADgpUAAAAAAAOClQAAAAAAA4KVAAAAAAADgpUAAAAAAAOClQAAAAAAA4KVAAAAAAADgpUAAAAAAAOClQAAAAAAA4KVAAAAAAADgpUAAAAAAAOClQAAAAAAA4KVAAAAAAADgpUAAAAAAAOClQAAAAAAA4KVAAAAAAADgpUAAAAAAAOClQAAAAAAA4KVAAAAAAADgpUAAAAAAAOClQAAAAAAA4KVAAAAAAADgpUAAAAAAAOClQAAAAAAA4KVAAAAAAADgpUAAAAAAAOClQAAAAAAA4KVAAAAAAADgpUAAAAAAAOClQAAAAAAA4KVAAAAAAADgpUAAAAAAAOClQAAAAAAA4KVAAAAAAADgpUAAAAAAAOClQAAAAAAA4KVAAAAAAADgpUAAAAAAAOClQAAAAAAA4KVAAAAAAADgpUAAAAAAAOClQAAAAAAA4KVAAAAAAADgpUAAAAAAAOClQAAAAAAA4KVAAAAAAADgpUAAAAAAAOClQAAAAAAA4KVA",
          "dtype": "f8",
          "shape": "48, 1"
         },
         "hovertemplate": "<b>Time Step:</b> %{x}<br><b>Budget Left Ratio:</b> %{y:.3f}<br><b>Budget:</b> %{customdata[0]:.0f}<br><extra></extra>",
         "line": {
          "color": "rgb(160, 209, 228)",
          "width": 1.5
         },
         "mode": "lines",
         "opacity": 0.35,
         "showlegend": false,
         "type": "scatter",
         "x": {
          "bdata": "AAECAwQFBgcICQoLDA0ODxAREhMUFRYXGBkaGxwdHh8gISIjJCUmJygpKissLS4v",
          "dtype": "i1"
         },
         "y": {
          "bdata": "AAAAAAAA8D8AAAAAAADwPwAAAAAAAPA/AAAAAAAA8D8AAAAAAADwPwAAAAAAAPA/AAAAAAAA8D8AAAAAAADwPwAAAAAAAPA/AAAAAAAA8D8AAAAAAADwPwAAAAAAAPA/AAAAAAAA8D8AAAAAAADwPwAAAAAAAPA/AAAAAAAA8D+XtYJrtf/vP5e1gmu1/+8/4RRgTz7+7z/hFGBPPv7vP87DbuTq/O8/zsNu5Or87z/Ow27k6vzvP9lxWByf/O8/2XFYHJ/87z/ZcVgcn/zvP9lxWByf/O8/2XFYHJ/87z/ZcVgcn/zvP9lxWByf/O8/2XFYHJ/87z/ZcVgcn/zvP8vslW+zFew/SXsOmlUZ6D/jJB1vDMzkP3Oh1a0zWuI/SzkILAo+4D8TfXvbVVvcPwaAEsRBrNQ/9z1FthGIzz/3PUW2EYjPP/c9RbYRiM8/ONqJ141Lzz+H0Nnivi3PP7tAUpG6Us0/rS4Dpn+TyT97rMEu6iO9P1/x/fVebmU/",
          "dtype": "f8"
         }
        },
        {
         "customdata": {
          "bdata": "AAAAAADUp0AAAAAAANSnQAAAAAAA1KdAAAAAAADUp0AAAAAAANSnQAAAAAAA1KdAAAAAAADUp0AAAAAAANSnQAAAAAAA1KdAAAAAAADUp0AAAAAAANSnQAAAAAAA1KdAAAAAAADUp0AAAAAAANSnQAAAAAAA1KdAAAAAAADUp0AAAAAAANSnQAAAAAAA1KdAAAAAAADUp0AAAAAAANSnQAAAAAAA1KdAAAAAAADUp0AAAAAAANSnQAAAAAAA1KdAAAAAAADUp0AAAAAAANSnQAAAAAAA1KdAAAAAAADUp0AAAAAAANSnQAAAAAAA1KdAAAAAAADUp0AAAAAAANSnQAAAAAAA1KdAAAAAAADUp0AAAAAAANSnQAAAAAAA1KdAAAAAAADUp0AAAAAAANSnQAAAAAAA1KdAAAAAAADUp0AAAAAAANSnQAAAAAAA1KdAAAAAAADUp0AAAAAAANSnQAAAAAAA1KdAAAAAAADUp0AAAAAAANSnQAAAAAAA1KdA",
          "dtype": "f8",
          "shape": "48, 1"
         },
         "hovertemplate": "<b>Time Step:</b> %{x}<br><b>Budget Left Ratio:</b> %{y:.3f}<br><b>Budget:</b> %{customdata[0]:.0f}<br><extra></extra>",
         "line": {
          "color": "rgb(207, 235, 243)",
          "width": 1.5
         },
         "mode": "lines",
         "opacity": 0.35,
         "showlegend": false,
         "type": "scatter",
         "x": {
          "bdata": "AAECAwQFBgcICQoLDA0ODxAREhMUFRYXGBkaGxwdHh8gISIjJCUmJygpKissLS4v",
          "dtype": "i1"
         },
         "y": {
          "bdata": "AAAAAAAA8D8AAAAAAADwPwAAAAAAAPA/AAAAAAAA8D8AAAAAAADwPwAAAAAAAPA/AAAAAAAA8D8AAAAAAADwPwAAAAAAAPA/AAAAAAAA8D8gxAjwfv/vPzoFcmsM/+8/OcSGacv+7z8d6VKLif7vP2v16AaI+u8/qKvXUsj57z9J9hcZQO3vP5Ou32HHs+8/Y/WSBMMg7z/08L94aTDtPzyICtS9J+s/un/NJLpA6T9jGBWzDmboPzg/pMANReY/OD+kwA1F5j84P6TADUXmPzg/pMANReY/OD+kwA1F5j84P6TADUXmPzg/pMANReY/OD+kwA1F5j84P6TADUXmPxhwX/LmheU/aP7YEXi25D+pLycksrjjPylMkbVzgeE/4Ccy985+3j8BpDWZd5rZP6U3PBnpMdY/OQb4LN+60T83GCjLyZvGP+Do+LYNnbc/iXnbYr1Mlj9IbYGxAb/6PkhtgbEBv/o+SG2BsQG/+j5IbYGxAb/6PkhtgbEBv/o+",
          "dtype": "f8"
         }
        },
        {
         "customdata": {
          "bdata": "AAAAAADAokAAAAAAAMCiQAAAAAAAwKJAAAAAAADAokAAAAAAAMCiQAAAAAAAwKJAAAAAAADAokAAAAAAAMCiQAAAAAAAwKJAAAAAAADAokAAAAAAAMCiQAAAAAAAwKJAAAAAAADAokAAAAAAAMCiQAAAAAAAwKJAAAAAAADAokAAAAAAAMCiQAAAAAAAwKJAAAAAAADAokAAAAAAAMCiQAAAAAAAwKJAAAAAAADAokAAAAAAAMCiQAAAAAAAwKJAAAAAAADAokAAAAAAAMCiQAAAAAAAwKJAAAAAAADAokAAAAAAAMCiQAAAAAAAwKJAAAAAAADAokAAAAAAAMCiQAAAAAAAwKJAAAAAAADAokAAAAAAAMCiQAAAAAAAwKJAAAAAAADAokAAAAAAAMCiQAAAAAAAwKJAAAAAAADAokAAAAAAAMCiQAAAAAAAwKJAAAAAAADAokAAAAAAAMCiQAAAAAAAwKJAAAAAAADAokAAAAAAAMCiQAAAAAAAwKJA",
          "dtype": "f8",
          "shape": "48, 1"
         },
         "hovertemplate": "<b>Time Step:</b> %{x}<br><b>Budget Left Ratio:</b> %{y:.3f}<br><b>Budget:</b> %{customdata[0]:.0f}<br><extra></extra>",
         "line": {
          "color": "rgb(88, 140, 192)",
          "width": 1.5
         },
         "mode": "lines",
         "opacity": 0.35,
         "showlegend": false,
         "type": "scatter",
         "x": {
          "bdata": "AAECAwQFBgcICQoLDA0ODxAREhMUFRYXGBkaGxwdHh8gISIjJCUmJygpKissLS4v",
          "dtype": "i1"
         },
         "y": {
          "bdata": "AAAAAAAA8D8AAAAAAADwPwAAAAAAAPA/AAAAAAAA8D8AAAAAAADwPwAAAAAAAPA/AAAAAAAA8D8AAAAAAADwPwAAAAAAAPA/AAAAAAAA8D8AAAAAAADwPwAAAAAAAPA/AAAAAAAA8D8AAAAAAADwPwAAAAAAAPA/AAAAAAAA8D8f/BbNxJXvP8keCuxvX+w/H03u+ZU15z8FnR3PmqHkPz4pt2cz6OA/A3G3pWEh2D/lBvMmAXnJP3FPrqPitMM/rp+Aljpnwj8facM085/BP4nsZujaH8A/k0O3o2Yauz/98uc2R4+3PwrPZRMZla4/Iro/z/T8qT9L/ubx03GXP0v+5vHTcZc/S/7m8dNxlz9L/ubx03GXP0v+5vHTcZc/S/7m8dNxlz9L/ubx03GXP5bcLKE1a5c/w/X/oypmlz+PglRKL/OUP53WcyDyGJQ/SCEHKBqPiz8pXE+NSw7zPilcT41LDvM+KVxPjUsO8z4pXE+NSw7zPilcT41LDvM+",
          "dtype": "f8"
         }
        },
        {
         "customdata": {
          "bdata": "AAAAAAD4sUAAAAAAAPixQAAAAAAA+LFAAAAAAAD4sUAAAAAAAPixQAAAAAAA+LFAAAAAAAD4sUAAAAAAAPixQAAAAAAA+LFAAAAAAAD4sUAAAAAAAPixQAAAAAAA+LFAAAAAAAD4sUAAAAAAAPixQAAAAAAA+LFAAAAAAAD4sUAAAAAAAPixQAAAAAAA+LFAAAAAAAD4sUAAAAAAAPixQAAAAAAA+LFAAAAAAAD4sUAAAAAAAPixQAAAAAAA+LFAAAAAAAD4sUAAAAAAAPixQAAAAAAA+LFAAAAAAAD4sUAAAAAAAPixQAAAAAAA+LFAAAAAAAD4sUAAAAAAAPixQAAAAAAA+LFAAAAAAAD4sUAAAAAAAPixQAAAAAAA+LFAAAAAAAD4sUAAAAAAAPixQAAAAAAA+LFAAAAAAAD4sUAAAAAAAPixQAAAAAAA+LFAAAAAAAD4sUAAAAAAAPixQAAAAAAA+LFAAAAAAAD4sUAAAAAAAPixQAAAAAAA+LFA",
          "dtype": "f8",
          "shape": "48, 1"
         },
         "hovertemplate": "<b>Time Step:</b> %{x}<br><b>Budget Left Ratio:</b> %{y:.3f}<br><b>Budget:</b> %{customdata[0]:.0f}<br><extra></extra>",
         "line": {
          "color": "rgb(209, 42, 39)",
          "width": 1.5
         },
         "mode": "lines",
         "opacity": 0.35,
         "showlegend": false,
         "type": "scatter",
         "x": {
          "bdata": "AAECAwQFBgcICQoLDA0ODxAREhMUFRYXGBkaGxwdHh8gISIjJCUmJygpKissLS4v",
          "dtype": "i1"
         },
         "y": {
          "bdata": "XeIdxSmk7z+TbxY6MGHvP8szAiFsQO8/CjJgYAIR7z+Fc2YRXuPuPytYZD+eo+4/di3nx/qD7j/hNr8TYFzuP+E2vxNgXO4/4Ta/E2Bc7j/hNr8TYFzuP+E2vxNgXO4/4Ta/E2Bc7j/hNr8TYFzuP+E2vxNgXO4/XzWdMD5c7j+Kb5kueFruPzJVYn52I+4/iikJmXeE7T/V9kcgv/PsP3BfPkMMmuw/mTItNGH76z9L6E0ABaDrP9n43o1Y9Oo/2fjejVj06j/Z+N6NWPTqP9n43o1Y9Oo/u2qYJPDy6j/iFLF4V/LqP+IUsXhX8uo/4hSxeFfy6j/iFLF4V/LqP1IakMYk8eo/hpAAPoHn6j+EHARIn9LqP1NTQruwruo/hpA0oeSN6j8Y+x6ODTfqP+y3U+gYx+k/Qu6324JZ6T/og6VUaizlP2oP75aCquA/p4ghZWi02D8iXYKzxKTTPwjCtFhHLc4/wUnxYpTlwj8dItIww362P4Ik0ugbedM+",
          "dtype": "f8"
         }
        },
        {
         "customdata": {
          "bdata": "AAAAAABisUAAAAAAAGKxQAAAAAAAYrFAAAAAAABisUAAAAAAAGKxQAAAAAAAYrFAAAAAAABisUAAAAAAAGKxQAAAAAAAYrFAAAAAAABisUAAAAAAAGKxQAAAAAAAYrFAAAAAAABisUAAAAAAAGKxQAAAAAAAYrFAAAAAAABisUAAAAAAAGKxQAAAAAAAYrFAAAAAAABisUAAAAAAAGKxQAAAAAAAYrFAAAAAAABisUAAAAAAAGKxQAAAAAAAYrFAAAAAAABisUAAAAAAAGKxQAAAAAAAYrFAAAAAAABisUAAAAAAAGKxQAAAAAAAYrFAAAAAAABisUAAAAAAAGKxQAAAAAAAYrFAAAAAAABisUAAAAAAAGKxQAAAAAAAYrFAAAAAAABisUAAAAAAAGKxQAAAAAAAYrFAAAAAAABisUAAAAAAAGKxQAAAAAAAYrFAAAAAAABisUAAAAAAAGKxQAAAAAAAYrFAAAAAAABisUAAAAAAAGKxQAAAAAAAYrFA",
          "dtype": "f8",
          "shape": "48, 1"
         },
         "hovertemplate": "<b>Time Step:</b> %{x}<br><b>Budget Left Ratio:</b> %{y:.3f}<br><b>Budget:</b> %{customdata[0]:.0f}<br><extra></extra>",
         "line": {
          "color": "rgb(227, 73, 50)",
          "width": 1.5
         },
         "mode": "lines",
         "opacity": 0.35,
         "showlegend": false,
         "type": "scatter",
         "x": {
          "bdata": "AAECAwQFBgcICQoLDA0ODxAREhMUFRYXGBkaGxwdHh8gISIjJCUmJygpKissLS4v",
          "dtype": "i1"
         },
         "y": {
          "bdata": "rAtSbRSD7z8KCLH99n/vPzdWc4Ebfe8/qz+s4nNy7z9+/MuJCW/vP9lvgWm0aO8/ma5JkO5m7z+b3swxhWbvPz/cNB3kZe8/jHH7/zxk7z9NQFSqWmHvP1XeDCwFXu8/rf8483xc7z/atfH+blrvP5TOTM9iK+8/AXdnNrMF7z/7DQIjXQXvP2Plpg/D9O4/Jzr1/Zjc7j+K4BA3cVfuP8KrginCvO0//DaVf0iq7D/u2d5V9NvqP58mD3Cq7+g/ZQL6McG26D9tIrRKA+jnP4j1k1ywVeY/vvM1nKa05D/+2wbOi4/jP5kC6hczd+E/qj6azSC/3T+N+sfYDXbZP436x9gNdtk/jfrH2A122T+N+sfYDXbZP436x9gNdtk/jfrH2A122T+N+sfYDXbZP436x9gNdtk/jfrH2A122T/jyI1a7obVP5v95CyIs9A/sfwZUHQFwT/6xLd07mGzP9KcYGBAEKg/4b51l0xykT/6FZEzr8v2PvoVkTOvy/Y+",
          "dtype": "f8"
         }
        },
        {
         "customdata": {
          "bdata": "AAAAAAC8q0AAAAAAALyrQAAAAAAAvKtAAAAAAAC8q0AAAAAAALyrQAAAAAAAvKtAAAAAAAC8q0AAAAAAALyrQAAAAAAAvKtAAAAAAAC8q0AAAAAAALyrQAAAAAAAvKtAAAAAAAC8q0AAAAAAALyrQAAAAAAAvKtAAAAAAAC8q0AAAAAAALyrQAAAAAAAvKtAAAAAAAC8q0AAAAAAALyrQAAAAAAAvKtAAAAAAAC8q0AAAAAAALyrQAAAAAAAvKtAAAAAAAC8q0AAAAAAALyrQAAAAAAAvKtAAAAAAAC8q0AAAAAAALyrQAAAAAAAvKtAAAAAAAC8q0AAAAAAALyrQAAAAAAAvKtAAAAAAAC8q0AAAAAAALyrQAAAAAAAvKtAAAAAAAC8q0AAAAAAALyrQAAAAAAAvKtAAAAAAAC8q0AAAAAAALyrQAAAAAAAvKtAAAAAAAC8q0AAAAAAALyrQAAAAAAAvKtAAAAAAAC8q0AAAAAAALyrQAAAAAAAvKtA",
          "dtype": "f8",
          "shape": "48, 1"
         },
         "hovertemplate": "<b>Time Step:</b> %{x}<br><b>Budget Left Ratio:</b> %{y:.3f}<br><b>Budget:</b> %{customdata[0]:.0f}<br><extra></extra>",
         "line": {
          "color": "rgb(255, 241, 170)",
          "width": 1.5
         },
         "mode": "lines",
         "opacity": 0.35,
         "showlegend": false,
         "type": "scatter",
         "x": {
          "bdata": "AAECAwQFBgcICQoLDA0ODxAREhMUFRYXGBkaGxwdHh8gISIjJCUmJygpKissLS4v",
          "dtype": "i1"
         },
         "y": {
          "bdata": "AAAAAAAA8D8AAAAAAADwPwAAAAAAAPA/AAAAAAAA8D8AAAAAAADwPwAAAAAAAPA/AAAAAAAA8D8AAAAAAADwPwAAAAAAAPA/AAAAAAAA8D8AAAAAAADwPwAAAAAAAPA/AAAAAAAA8D8AAAAAAADwPwAAAAAAAPA/AAAAAAAA8D+DZpZprifvPzTE+Yxd/O0/R5EC9BYr6z+/XbQaqRDoP7q9EshxWeQ/wRmKGUG83D8CcJvPtDLRP6MKQIcfLcA/owpAhx8twD+jCkCHHy3AP6MKQIcfLcA/+XFDnAIswD8vGahv9CnAP4X4WCGeFcA/rW7rZ0UPwD+pAeRvzR6/P6kB5G/NHr8/qQHkb80evz+pAeRvzR6/P6kB5G/NHr8/qQHkb80evz+pAeRvzR6/P6kB5G/NHr8/qQHkb80evz+JeDA5pmy+P2VLITa19bU/JrU66FHUnj/6ZlPhSE6YP4RUXRrfC5A/FMxDkPC+hT8HTj0Yr0BaPyF3mo9leNU+",
          "dtype": "f8"
         }
        },
        {
         "customdata": {
          "bdata": "AAAAAADyskAAAAAAAPKyQAAAAAAA8rJAAAAAAADyskAAAAAAAPKyQAAAAAAA8rJAAAAAAADyskAAAAAAAPKyQAAAAAAA8rJAAAAAAADyskAAAAAAAPKyQAAAAAAA8rJAAAAAAADyskAAAAAAAPKyQAAAAAAA8rJAAAAAAADyskAAAAAAAPKyQAAAAAAA8rJAAAAAAADyskAAAAAAAPKyQAAAAAAA8rJAAAAAAADyskAAAAAAAPKyQAAAAAAA8rJAAAAAAADyskAAAAAAAPKyQAAAAAAA8rJAAAAAAADyskAAAAAAAPKyQAAAAAAA8rJAAAAAAADyskAAAAAAAPKyQAAAAAAA8rJAAAAAAADyskAAAAAAAPKyQAAAAAAA8rJAAAAAAADyskAAAAAAAPKyQAAAAAAA8rJAAAAAAADyskAAAAAAAPKyQAAAAAAA8rJAAAAAAADyskAAAAAAAPKyQAAAAAAA8rJAAAAAAADyskAAAAAAAPKyQAAAAAAA8rJA",
          "dtype": "f8",
          "shape": "48, 1"
         },
         "hovertemplate": "<b>Time Step:</b> %{x}<br><b>Budget Left Ratio:</b> %{y:.3f}<br><b>Budget:</b> %{customdata[0]:.0f}<br><extra></extra>",
         "line": {
          "color": "rgb(165, 0, 38)",
          "width": 1.5
         },
         "mode": "lines",
         "opacity": 0.35,
         "showlegend": false,
         "type": "scatter",
         "x": {
          "bdata": "AAECAwQFBgcICQoLDA0ODxAREhMUFRYXGBkaGxwdHh8gISIjJCUmJygpKissLS4v",
          "dtype": "i1"
         },
         "y": {
          "bdata": "fRAFttf/7z9ZP3qkBvXvP5Z5/L1n3e8/Gj4LoM/a7z+MwsGX483vPwOwwLEvy+8/np3S0e3I7z9yrzhZk8jvP3KvOFmTyO8/cq84WZPI7z9yrzhZk8jvP3KvOFmTyO8/cq84WZPI7z9yrzhZk8jvP3KvOFmTyO8/cq84WZPI7z9yrzhZk8jvPzmrcelgyO8/XL0nh8XF7z8L7OO0i8PvP6KeQoEIt+8/+XVgVn127z/8UU+6gdjuP+ahzrcob+4/x5KeFEFl7j/E4ny9U0nuP/8lMk8PE+4/95eypqMN7j8kUS3dc+TtP4OoPBio3O0/dt7jS+6l7T/xC8MEPovtPzD2BiM2uuw/H3r/qIre6T8Iz7o2uHvmP0awTxxJQuM/gdbU4F5i4j/uc94CC7XhP1C2PBNOV+A/W2CrkP1I3T8Ms+e4O9naP5BMCw9MmNc/dSB65rrO0T/XbBJ3olrJP79wHR3L8Lw/wPF890Ppoz91sSeIj1TWPnWxJ4iPVNY+",
          "dtype": "f8"
         }
        },
        {
         "customdata": {
          "bdata": "AAAAAAC8q0AAAAAAALyrQAAAAAAAvKtAAAAAAAC8q0AAAAAAALyrQAAAAAAAvKtAAAAAAAC8q0AAAAAAALyrQAAAAAAAvKtAAAAAAAC8q0AAAAAAALyrQAAAAAAAvKtAAAAAAAC8q0AAAAAAALyrQAAAAAAAvKtAAAAAAAC8q0AAAAAAALyrQAAAAAAAvKtAAAAAAAC8q0AAAAAAALyrQAAAAAAAvKtAAAAAAAC8q0AAAAAAALyrQAAAAAAAvKtAAAAAAAC8q0AAAAAAALyrQAAAAAAAvKtAAAAAAAC8q0AAAAAAALyrQAAAAAAAvKtAAAAAAAC8q0AAAAAAALyrQAAAAAAAvKtAAAAAAAC8q0AAAAAAALyrQAAAAAAAvKtAAAAAAAC8q0AAAAAAALyrQAAAAAAAvKtAAAAAAAC8q0AAAAAAALyrQAAAAAAAvKtAAAAAAAC8q0AAAAAAALyrQAAAAAAAvKtAAAAAAAC8q0AAAAAAALyrQAAAAAAAvKtA",
          "dtype": "f8",
          "shape": "48, 1"
         },
         "hovertemplate": "<b>Time Step:</b> %{x}<br><b>Budget Left Ratio:</b> %{y:.3f}<br><b>Budget:</b> %{customdata[0]:.0f}<br><extra></extra>",
         "line": {
          "color": "rgb(255, 241, 170)",
          "width": 1.5
         },
         "mode": "lines",
         "opacity": 0.35,
         "showlegend": false,
         "type": "scatter",
         "x": {
          "bdata": "AAECAwQFBgcICQoLDA0ODxAREhMUFRYXGBkaGxwdHh8gISIjJCUmJygpKissLS4v",
          "dtype": "i1"
         },
         "y": {
          "bdata": "AAAAAAAA8D8AAAAAAADwPwAAAAAAAPA/AAAAAAAA8D8AAAAAAADwPwAAAAAAAPA/AAAAAAAA8D8AAAAAAADwPwAAAAAAAPA/AAAAAAAA8D8AAAAAAADwPwAAAAAAAPA/AAAAAAAA8D8AAAAAAADwPwAAAAAAAPA/AAAAAAAA8D99kkpouDXvP2NuJ4mE8+0/OZ6Rmm8O6z+6XfUWURLoP6DIUqKVuuQ/PrwGPjXj3T/SLjaN8erRP/mL/BmyVcE/+Yv8GbJVwT/5i/wZslXBP/mL/BmyVcE/k3zZIzJVwT8N+AMH6lDBP3n3NsbLO8E/fAmnkfM1wT/R6KtHQr7AP9Hoq0dCvsA/0eirR0K+wD/R6KtHQr7AP9Hoq0dCvsA/0eirR0K+wD/R6KtHQr7AP9Hoq0dCvsA/0eirR0K+wD8lcRjFimvAP3fpoaeV07c/Bvts5kjqoz/DORxB/kygP1hClK2FKZQ/RIUmuvbIhz82NMpauezYPjY0ylq57Ng+",
          "dtype": "f8"
         }
        },
        {
         "customdata": {
          "bdata": "AAAAAAD4sUAAAAAAAPixQAAAAAAA+LFAAAAAAAD4sUAAAAAAAPixQAAAAAAA+LFAAAAAAAD4sUAAAAAAAPixQAAAAAAA+LFAAAAAAAD4sUAAAAAAAPixQAAAAAAA+LFAAAAAAAD4sUAAAAAAAPixQAAAAAAA+LFAAAAAAAD4sUAAAAAAAPixQAAAAAAA+LFAAAAAAAD4sUAAAAAAAPixQAAAAAAA+LFAAAAAAAD4sUAAAAAAAPixQAAAAAAA+LFAAAAAAAD4sUAAAAAAAPixQAAAAAAA+LFAAAAAAAD4sUAAAAAAAPixQAAAAAAA+LFAAAAAAAD4sUAAAAAAAPixQAAAAAAA+LFAAAAAAAD4sUAAAAAAAPixQAAAAAAA+LFAAAAAAAD4sUAAAAAAAPixQAAAAAAA+LFAAAAAAAD4sUAAAAAAAPixQAAAAAAA+LFAAAAAAAD4sUAAAAAAAPixQAAAAAAA+LFAAAAAAAD4sUAAAAAAAPixQAAAAAAA+LFA",
          "dtype": "f8",
          "shape": "48, 1"
         },
         "hovertemplate": "<b>Time Step:</b> %{x}<br><b>Budget Left Ratio:</b> %{y:.3f}<br><b>Budget:</b> %{customdata[0]:.0f}<br><extra></extra>",
         "line": {
          "color": "rgb(209, 42, 39)",
          "width": 1.5
         },
         "mode": "lines",
         "opacity": 0.35,
         "showlegend": false,
         "type": "scatter",
         "x": {
          "bdata": "AAECAwQFBgcICQoLDA0ODxAREhMUFRYXGBkaGxwdHh8gISIjJCUmJygpKissLS4v",
          "dtype": "i1"
         },
         "y": {
          "bdata": "Y65NlqX/7z9drBBJwf7vPynfjhrV+u8/AO0DBxn67z+PFX5oV/nvPwFyei/I9u8/GbQhVF3y7z8QWzfA4e7vPxBbN8Dh7u8/EFs3wOHu7z8QWzfA4e7vPxBbN8Dh7u8/EFs3wOHu7z8QWzfA4e7vPxBbN8Dh7u8/EFs3wOHu7z+k+OiyQx3vP6gCv8K/Se4/HSzdh1hU6T+62WnyRkLmP+oAk9cszuM/fsTn27P83z8hgSlvfAnZP5b1F3sViNI/QUbQiZZg0j9zJzIIcuvRP4kX849VLdE/SVtoDEek0D9NJWnMxAnQPyY2gzYygc8/5Gg8wV+zzj+f9lgJKu3NP0dQWRdu2M0/o19boXcYzT+OfsDeyt/LP0M/gJb5Vso/6AGA5e+Yxj/gxwLIpOPEP8eYHnCFT8E/Y88yiQLLvj9eEwDZz1y8P5g29FGWobo/Wuo8wH9ctD+r4HTQ79OxP46AhbwP4ao/hzAytmunnj/0Zfnw10uHP89SOlvtm9I+",
          "dtype": "f8"
         }
        },
        {
         "customdata": {
          "bdata": "AAAAAABAn0AAAAAAAECfQAAAAAAAQJ9AAAAAAABAn0AAAAAAAECfQAAAAAAAQJ9AAAAAAABAn0AAAAAAAECfQAAAAAAAQJ9AAAAAAABAn0AAAAAAAECfQAAAAAAAQJ9AAAAAAABAn0AAAAAAAECfQAAAAAAAQJ9AAAAAAABAn0AAAAAAAECfQAAAAAAAQJ9AAAAAAABAn0AAAAAAAECfQAAAAAAAQJ9AAAAAAABAn0AAAAAAAECfQAAAAAAAQJ9AAAAAAABAn0AAAAAAAECfQAAAAAAAQJ9AAAAAAABAn0AAAAAAAECfQAAAAAAAQJ9AAAAAAABAn0AAAAAAAECfQAAAAAAAQJ9AAAAAAABAn0AAAAAAAECfQAAAAAAAQJ9AAAAAAABAn0AAAAAAAECfQAAAAAAAQJ9AAAAAAABAn0AAAAAAAECfQAAAAAAAQJ9AAAAAAABAn0AAAAAAAECfQAAAAAAAQJ9AAAAAAABAn0AAAAAAAECfQAAAAAAAQJ9A",
          "dtype": "f8",
          "shape": "48, 1"
         },
         "hovertemplate": "<b>Time Step:</b> %{x}<br><b>Budget Left Ratio:</b> %{y:.3f}<br><b>Budget:</b> %{customdata[0]:.0f}<br><extra></extra>",
         "line": {
          "color": "rgb(49, 54, 149)",
          "width": 1.5
         },
         "mode": "lines",
         "opacity": 0.35,
         "showlegend": false,
         "type": "scatter",
         "x": {
          "bdata": "AAECAwQFBgcICQoLDA0ODxAREhMUFRYXGBkaGxwdHh8gISIjJCUmJygpKissLS4v",
          "dtype": "i1"
         },
         "y": {
          "bdata": "AAAAAAAA8D8AAAAAAADwPwAAAAAAAPA/AAAAAAAA8D8AAAAAAADwPwAAAAAAAPA/AAAAAAAA8D8AAAAAAADwPwAAAAAAAPA/AAAAAAAA8D8AAAAAAADwP1QByzTN/e8/uetu/db57z/0c81CSfjvP/RzzUJJ+O8/IZsW5BHA7z9Nu4ojhKztP6t7ApcPAus/h0XYifsM6T9OaMUnma3lP9V+WDYqK9w/DCZSkX9DzT8CHzzfDaawP64XkdzQ/5I/rheR3ND/kj+uF5Hc0P+SP64XkdzQ/5I/rheR3ND/kj+uF5Hc0P+SP64XkdzQ/5I/rheR3ND/kj+uF5Hc0P+SP+mWNqYD5JI/MzOzW1pA9z4zM7NbWkD3PjMzs1taQPc+MzOzW1pA9z4zM7NbWkD3PjMzs1taQPc+MzOzW1pA9z4zM7NbWkD3PjMzs1taQPc+MzOzW1pA9z4zM7NbWkD3PjMzs1taQPc+MzOzW1pA9z4zM7NbWkD3PjMzs1taQPc+",
          "dtype": "f8"
         }
        },
        {
         "customdata": {
          "bdata": "AAAAAABAn0AAAAAAAECfQAAAAAAAQJ9AAAAAAABAn0AAAAAAAECfQAAAAAAAQJ9AAAAAAABAn0AAAAAAAECfQAAAAAAAQJ9AAAAAAABAn0AAAAAAAECfQAAAAAAAQJ9AAAAAAABAn0AAAAAAAECfQAAAAAAAQJ9AAAAAAABAn0AAAAAAAECfQAAAAAAAQJ9AAAAAAABAn0AAAAAAAECfQAAAAAAAQJ9AAAAAAABAn0AAAAAAAECfQAAAAAAAQJ9AAAAAAABAn0AAAAAAAECfQAAAAAAAQJ9AAAAAAABAn0AAAAAAAECfQAAAAAAAQJ9AAAAAAABAn0AAAAAAAECfQAAAAAAAQJ9AAAAAAABAn0AAAAAAAECfQAAAAAAAQJ9AAAAAAABAn0AAAAAAAECfQAAAAAAAQJ9AAAAAAABAn0AAAAAAAECfQAAAAAAAQJ9AAAAAAABAn0AAAAAAAECfQAAAAAAAQJ9AAAAAAABAn0AAAAAAAECfQAAAAAAAQJ9A",
          "dtype": "f8",
          "shape": "48, 1"
         },
         "hovertemplate": "<b>Time Step:</b> %{x}<br><b>Budget Left Ratio:</b> %{y:.3f}<br><b>Budget:</b> %{customdata[0]:.0f}<br><extra></extra>",
         "line": {
          "color": "rgb(49, 54, 149)",
          "width": 1.5
         },
         "mode": "lines",
         "opacity": 0.35,
         "showlegend": false,
         "type": "scatter",
         "x": {
          "bdata": "AAECAwQFBgcICQoLDA0ODxAREhMUFRYXGBkaGxwdHh8gISIjJCUmJygpKissLS4v",
          "dtype": "i1"
         },
         "y": {
          "bdata": "AAAAAAAA8D8AAAAAAADwPwAAAAAAAPA/HPFOHqb/7z8c8U4epv/vPxzxTh6m/+8/HPFOHqb/7z8c8U4epv/vPxzxTh6m/+8/HPFOHqb/7z8c8U4epv/vPxzxTh6m/+8/HPFOHqb/7z8c8U4epv/vPxzxTh6m/+8/HPFOHqb/7z8c8U4epv/vPxzxTh6m/+8/HPFOHqb/7z8c8U4epv/vPxzxTh6m/+8/HPFOHqb/7z8c8U4epv/vPxzxTh6m/+8/HPFOHqb/7z8c8U4epv/vPxzxTh6m/+8/HPFOHqb/7z8c8U4epv/vPxzxTh6m/+8/HPFOHqb/7z91aTMYdf/vP4T360aY2O8/75z7grZw7z8u1snEfKnuP2QCiEuX7u0/ROVO6CPt7D90CAIGvizsP1j5OYUMAus/e58dI2U26j/PHtAhwxLkPwYY9Dtff9g/ULPswwfTwD+0yPa/ZcD0PrTI9r9lwPQ+tMj2v2XA9D60yPa/ZcD0PrTI9r9lwPQ+",
          "dtype": "f8"
         }
        },
        {
         "customdata": {
          "bdata": "AAAAAAC0pEAAAAAAALSkQAAAAAAAtKRAAAAAAAC0pEAAAAAAALSkQAAAAAAAtKRAAAAAAAC0pEAAAAAAALSkQAAAAAAAtKRAAAAAAAC0pEAAAAAAALSkQAAAAAAAtKRAAAAAAAC0pEAAAAAAALSkQAAAAAAAtKRAAAAAAAC0pEAAAAAAALSkQAAAAAAAtKRAAAAAAAC0pEAAAAAAALSkQAAAAAAAtKRAAAAAAAC0pEAAAAAAALSkQAAAAAAAtKRAAAAAAAC0pEAAAAAAALSkQAAAAAAAtKRAAAAAAAC0pEAAAAAAALSkQAAAAAAAtKRAAAAAAAC0pEAAAAAAALSkQAAAAAAAtKRAAAAAAAC0pEAAAAAAALSkQAAAAAAAtKRAAAAAAAC0pEAAAAAAALSkQAAAAAAAtKRAAAAAAAC0pEAAAAAAALSkQAAAAAAAtKRAAAAAAAC0pEAAAAAAALSkQAAAAAAAtKRAAAAAAAC0pEAAAAAAALSkQAAAAAAAtKRA",
          "dtype": "f8",
          "shape": "48, 1"
         },
         "hovertemplate": "<b>Time Step:</b> %{x}<br><b>Budget Left Ratio:</b> %{y:.3f}<br><b>Budget:</b> %{customdata[0]:.0f}<br><extra></extra>",
         "line": {
          "color": "rgb(131, 185, 216)",
          "width": 1.5
         },
         "mode": "lines",
         "opacity": 0.35,
         "showlegend": false,
         "type": "scatter",
         "x": {
          "bdata": "AAECAwQFBgcICQoLDA0ODxAREhMUFRYXGBkaGxwdHh8gISIjJCUmJygpKissLS4v",
          "dtype": "i1"
         },
         "y": {
          "bdata": "ZLFVssBE7z/HJKgG3AHvPwx83+X/re4/9qUMMI9f7j9nP9ZzxkHuPy0JZvFPJe4/LUN8z1kf7j9TxZSr+RvuP1PFlKv5G+4/Hgy7jc0X7j97Z9IZBhTuP4sXclGa/u0/CcSyqHL97T/mUn3P9PTtP/BQBQpByO0/3T36n4GR7T8qIEx0gzDtP7TKIYr4yew/SYAQn+ml6j9T5PVFzVjoP/VMZXNzxuQ/N7e5ij1q4T9LQT3IIXfdP8dsVlJxPtU/cSgL0or01D9cIeQGZ1HUPytIWckhA9I/NyI9jDOY0T+lWIDPt+TPP7K5nC9Hrcw/8gwK7wfqxj/5eAvZ+JjAP/30sx7mVL0/ycsq0qsfuD9ln2PA5LNVP8yqPG753/I+zKo8bvnf8j7Mqjxu+d/yPsyqPG753/I+zKo8bvnf8j7Mqjxu+d/yPsyqPG753/I+zKo8bvnf8j7Mqjxu+d/yPsyqPG753/I+zKo8bvnf8j7Mqjxu+d/yPsyqPG753/I+",
          "dtype": "f8"
         }
        },
        {
         "customdata": {
          "bdata": "AAAAAABAn0AAAAAAAECfQAAAAAAAQJ9AAAAAAABAn0AAAAAAAECfQAAAAAAAQJ9AAAAAAABAn0AAAAAAAECfQAAAAAAAQJ9AAAAAAABAn0AAAAAAAECfQAAAAAAAQJ9AAAAAAABAn0AAAAAAAECfQAAAAAAAQJ9AAAAAAABAn0AAAAAAAECfQAAAAAAAQJ9AAAAAAABAn0AAAAAAAECfQAAAAAAAQJ9AAAAAAABAn0AAAAAAAECfQAAAAAAAQJ9AAAAAAABAn0AAAAAAAECfQAAAAAAAQJ9AAAAAAABAn0AAAAAAAECfQAAAAAAAQJ9AAAAAAABAn0AAAAAAAECfQAAAAAAAQJ9AAAAAAABAn0AAAAAAAECfQAAAAAAAQJ9AAAAAAABAn0AAAAAAAECfQAAAAAAAQJ9AAAAAAABAn0AAAAAAAECfQAAAAAAAQJ9AAAAAAABAn0AAAAAAAECfQAAAAAAAQJ9AAAAAAABAn0AAAAAAAECfQAAAAAAAQJ9A",
          "dtype": "f8",
          "shape": "48, 1"
         },
         "hovertemplate": "<b>Time Step:</b> %{x}<br><b>Budget Left Ratio:</b> %{y:.3f}<br><b>Budget:</b> %{customdata[0]:.0f}<br><extra></extra>",
         "line": {
          "color": "rgb(49, 54, 149)",
          "width": 1.5
         },
         "mode": "lines",
         "opacity": 0.35,
         "showlegend": false,
         "type": "scatter",
         "x": {
          "bdata": "AAECAwQFBgcICQoLDA0ODxAREhMUFRYXGBkaGxwdHh8gISIjJCUmJygpKissLS4v",
          "dtype": "i1"
         },
         "y": {
          "bdata": "AAAAAAAA8D8AAAAAAADwPwAAAAAAAPA/AAAAAAAA8D8AAAAAAADwPwAAAAAAAPA/AAAAAAAA8D8AAAAAAADwPyWx/Njs++8/uDpnmBDl7z8scBwX48PvP1MmbgWoe+8/YVXnIqJx7z8u0dW9d1jvP5/FtBQiPO8/lDuE+30y7z8ph3KcGoHrP4JtROZt2+U//aNvP29Y4j/HrxRPbIfZP8Opf17i3Mg/Qubr7q17wD+mq9ynT7icP1g56qOtpJM/f6rdENmljj+a+aXIH3mMP+zxrusLYIY/7PGu6wtghj9tJyicj1SGPx3a0NYoSoY/9kj+3EgKhj+H1vk/8raFP4fW+T/ytoU/h9b5P/K2hT+H1vk/8raFP4fW+T/ytoU/h9b5P/K2hT+H1vk/8raFP7j+Z66gpIU/uP5nrqCkhT+4/meuoKSFP7j+Z66gpIU/N0l0JaKXhT83SXQlopeFP0ps909YBYQ/uB6EvQWiej+aGajeCIV0PwwCK0tEcNU+",
          "dtype": "f8"
         }
        },
        {
         "customdata": {
          "bdata": "AAAAAABAn0AAAAAAAECfQAAAAAAAQJ9AAAAAAABAn0AAAAAAAECfQAAAAAAAQJ9AAAAAAABAn0AAAAAAAECfQAAAAAAAQJ9AAAAAAABAn0AAAAAAAECfQAAAAAAAQJ9AAAAAAABAn0AAAAAAAECfQAAAAAAAQJ9AAAAAAABAn0AAAAAAAECfQAAAAAAAQJ9AAAAAAABAn0AAAAAAAECfQAAAAAAAQJ9AAAAAAABAn0AAAAAAAECfQAAAAAAAQJ9AAAAAAABAn0AAAAAAAECfQAAAAAAAQJ9AAAAAAABAn0AAAAAAAECfQAAAAAAAQJ9AAAAAAABAn0AAAAAAAECfQAAAAAAAQJ9AAAAAAABAn0AAAAAAAECfQAAAAAAAQJ9AAAAAAABAn0AAAAAAAECfQAAAAAAAQJ9AAAAAAABAn0AAAAAAAECfQAAAAAAAQJ9AAAAAAABAn0AAAAAAAECfQAAAAAAAQJ9AAAAAAABAn0AAAAAAAECfQAAAAAAAQJ9A",
          "dtype": "f8",
          "shape": "48, 1"
         },
         "hovertemplate": "<b>Time Step:</b> %{x}<br><b>Budget Left Ratio:</b> %{y:.3f}<br><b>Budget:</b> %{customdata[0]:.0f}<br><extra></extra>",
         "line": {
          "color": "rgb(49, 54, 149)",
          "width": 1.5
         },
         "mode": "lines",
         "opacity": 0.35,
         "showlegend": false,
         "type": "scatter",
         "x": {
          "bdata": "AAECAwQFBgcICQoLDA0ODxAREhMUFRYXGBkaGxwdHh8gISIjJCUmJygpKissLS4v",
          "dtype": "i1"
         },
         "y": {
          "bdata": "AAAAAAAA8D8AAAAAAADwPwAAAAAAAPA/AAAAAAAA8D8AAAAAAADwPwAAAAAAAPA/AAAAAAAA8D8AAAAAAADwPwAAAAAAAPA/AAAAAAAA8D8AAAAAAADwPwAAAAAAAPA/AAAAAAAA8D8AAAAAAADwPwAAAAAAAPA/0Q2HUF7/7z/RDYdQXv/vP9ENh1Be/+8/0Q2HUF7/7z/RDYdQXv/vP9ENh1Be/+8/6SpveKv47z/pKm94q/jvP5dGls238O8/0BigO0v17T+wZJN1uKLoP+9zJXrJ4eQ/EZ6Azt9f4T9tBm3g7J/dP2DY8Fp1Nts/oh8J0aEr1z+REn08rtvUP1rCEYPRu9Q/0RjQd8tD0z8nOin5o8/QPwR26QvOcMQ/mq1MIWWYwT/HHwGWQmm7P5qFDJf05rg/ANyiS1D7tT/utHLgIceoP1K4F10ginQ/XrrJ09RD7D5eusnT1EPsPl66ydPUQ+w+XrrJ09RD7D5eusnT1EPsPl66ydPUQ+w+",
          "dtype": "f8"
         }
        },
        {
         "customdata": {
          "bdata": "AAAAAAA4qEAAAAAAADioQAAAAAAAOKhAAAAAAAA4qEAAAAAAADioQAAAAAAAOKhAAAAAAAA4qEAAAAAAADioQAAAAAAAOKhAAAAAAAA4qEAAAAAAADioQAAAAAAAOKhAAAAAAAA4qEAAAAAAADioQAAAAAAAOKhAAAAAAAA4qEAAAAAAADioQAAAAAAAOKhAAAAAAAA4qEAAAAAAADioQAAAAAAAOKhAAAAAAAA4qEAAAAAAADioQAAAAAAAOKhAAAAAAAA4qEAAAAAAADioQAAAAAAAOKhAAAAAAAA4qEAAAAAAADioQAAAAAAAOKhAAAAAAAA4qEAAAAAAADioQAAAAAAAOKhAAAAAAAA4qEAAAAAAADioQAAAAAAAOKhAAAAAAAA4qEAAAAAAADioQAAAAAAAOKhAAAAAAAA4qEAAAAAAADioQAAAAAAAOKhAAAAAAAA4qEAAAAAAADioQAAAAAAAOKhAAAAAAAA4qEAAAAAAADioQAAAAAAAOKhA",
          "dtype": "f8",
          "shape": "48, 1"
         },
         "hovertemplate": "<b>Time Step:</b> %{x}<br><b>Budget Left Ratio:</b> %{y:.3f}<br><b>Budget:</b> %{customdata[0]:.0f}<br><extra></extra>",
         "line": {
          "color": "rgb(217, 239, 246)",
          "width": 1.5
         },
         "mode": "lines",
         "opacity": 0.35,
         "showlegend": false,
         "type": "scatter",
         "x": {
          "bdata": "AAECAwQFBgcICQoLDA0ODxAREhMUFRYXGBkaGxwdHh8gISIjJCUmJygpKissLS4v",
          "dtype": "i1"
         },
         "y": {
          "bdata": "gpLhXsb+7z/fRG3htv3vP7s+z8B8++8/kPRpj//67z9mcGRtRvnvP2ZwZG1G+e8/ZnBkbUb57z8Xu92gD/nvPxe73aAP+e8/F7vdoA/57z8Xu92gD/nvPxe73aAP+e8/F7vdoA/57z8Xu92gD/nvPxe73aAP+e8/F7vdoA/57z+PVghSOfbvP5TM3ulNtO8/e5T6Wsc97j91IcS02ibrP75v4AgWtuU/6XgbEXxQ4T+8wuf/XizbP5ZtYfKL/9M/if5evZ3uzz/OWU7hc9jGPwtpRC11FsM/Vhs33pOEtT8dWKHcIn2oPxTlv7UxO50/+PDAN3eJlz+tI0uGkviVP60jS4aS+JU/rSNLhpL4lT+tI0uGkviVP60jS4aS+JU/rSNLhpL4lT+tI0uGkviVP60jS4aS+JU/rSNLhpL4lT+UCfRR+hiQP3eo5ZQ3uIY/Riu3skuUhT+s2sLPdyRzP2bUW6a7eLA+ZtRbprt4sD5m1Fumu3iwPmbUW6a7eLA+",
          "dtype": "f8"
         }
        },
        {
         "customdata": {
          "bdata": "AAAAAABEpkAAAAAAAESmQAAAAAAARKZAAAAAAABEpkAAAAAAAESmQAAAAAAARKZAAAAAAABEpkAAAAAAAESmQAAAAAAARKZAAAAAAABEpkAAAAAAAESmQAAAAAAARKZAAAAAAABEpkAAAAAAAESmQAAAAAAARKZAAAAAAABEpkAAAAAAAESmQAAAAAAARKZAAAAAAABEpkAAAAAAAESmQAAAAAAARKZAAAAAAABEpkAAAAAAAESmQAAAAAAARKZAAAAAAABEpkAAAAAAAESmQAAAAAAARKZAAAAAAABEpkAAAAAAAESmQAAAAAAARKZAAAAAAABEpkAAAAAAAESmQAAAAAAARKZAAAAAAABEpkAAAAAAAESmQAAAAAAARKZAAAAAAABEpkAAAAAAAESmQAAAAAAARKZAAAAAAABEpkAAAAAAAESmQAAAAAAARKZAAAAAAABEpkAAAAAAAESmQAAAAAAARKZAAAAAAABEpkAAAAAAAESmQAAAAAAARKZA",
          "dtype": "f8",
          "shape": "48, 1"
         },
         "hovertemplate": "<b>Time Step:</b> %{x}<br><b>Budget Left Ratio:</b> %{y:.3f}<br><b>Budget:</b> %{customdata[0]:.0f}<br><extra></extra>",
         "line": {
          "color": "rgb(170, 216, 233)",
          "width": 1.5
         },
         "mode": "lines",
         "opacity": 0.35,
         "showlegend": false,
         "type": "scatter",
         "x": {
          "bdata": "AAECAwQFBgcICQoLDA0ODxAREhMUFRYXGBkaGxwdHh8gISIjJCUmJygpKissLS4v",
          "dtype": "i1"
         },
         "y": {
          "bdata": "tSviS+r57z+LzGKU/+zvP4vMYpT/7O8/Q4JYynbg7z/BUOGWhtzvP6gvIKw93O8/EJW8GBrb7z+uKVghtdnvP+rYgGh22e8/6tiAaHbZ7z9CYFt59tbvP6Bw37RV0+8/4udGmMnR7z8QxoPURM/vP0PKdXs0v+8/UK2RQwCu7z+mI93cJULoPz9mZrX+C+M/2/2TrFxO2j/tavRzq27RP5FYHC9G5sA/4Q3KAZbhtD8RZCPjeL3xPhFkI+N4vfE+EWQj43i98T4RZCPjeL3xPhFkI+N4vfE+EWQj43i98T4RZCPjeL3xPhFkI+N4vfE+EWQj43i98T4RZCPjeL3xPhFkI+N4vfE+EWQj43i98T4RZCPjeL3xPhFkI+N4vfE+EWQj43i98T4RZCPjeL3xPhFkI+N4vfE+EWQj43i98T4RZCPjeL3xPhFkI+N4vfE+EWQj43i98T4RZCPjeL3xPhFkI+N4vfE+EWQj43i98T4RZCPjeL3xPhFkI+N4vfE+",
          "dtype": "f8"
         }
        },
        {
         "customdata": {
          "bdata": "AAAAAAB4rkAAAAAAAHiuQAAAAAAAeK5AAAAAAAB4rkAAAAAAAHiuQAAAAAAAeK5AAAAAAAB4rkAAAAAAAHiuQAAAAAAAeK5AAAAAAAB4rkAAAAAAAHiuQAAAAAAAeK5AAAAAAAB4rkAAAAAAAHiuQAAAAAAAeK5AAAAAAAB4rkAAAAAAAHiuQAAAAAAAeK5AAAAAAAB4rkAAAAAAAHiuQAAAAAAAeK5AAAAAAAB4rkAAAAAAAHiuQAAAAAAAeK5AAAAAAAB4rkAAAAAAAHiuQAAAAAAAeK5AAAAAAAB4rkAAAAAAAHiuQAAAAAAAeK5AAAAAAAB4rkAAAAAAAHiuQAAAAAAAeK5AAAAAAAB4rkAAAAAAAHiuQAAAAAAAeK5AAAAAAAB4rkAAAAAAAHiuQAAAAAAAeK5AAAAAAAB4rkAAAAAAAHiuQAAAAAAAeK5AAAAAAAB4rkAAAAAAAHiuQAAAAAAAeK5AAAAAAAB4rkAAAAAAAHiuQAAAAAAAeK5A",
          "dtype": "f8",
          "shape": "48, 1"
         },
         "hovertemplate": "<b>Time Step:</b> %{x}<br><b>Budget Left Ratio:</b> %{y:.3f}<br><b>Budget:</b> %{customdata[0]:.0f}<br><extra></extra>",
         "line": {
          "color": "rgb(253, 191, 113)",
          "width": 1.5
         },
         "mode": "lines",
         "opacity": 0.35,
         "showlegend": false,
         "type": "scatter",
         "x": {
          "bdata": "AAECAwQFBgcICQoLDA0ODxAREhMUFRYXGBkaGxwdHh8gISIjJCUmJygpKissLS4v",
          "dtype": "i1"
         },
         "y": {
          "bdata": "AAAAAAAA8D8AAAAAAADwPwAAAAAAAPA/AAAAAAAA8D8AAAAAAADwPwAAAAAAAPA/AAAAAAAA8D8AAAAAAADwPxU4+naX+e8/z+8p5IPn7z9U72RtauLvP4QJ1t6Vcu8/1oZUxt1Z7z8VmDDJIQDvP2aFzfzCyO0/BXzqCcLw6z8FfOoJwvDrPwV86gnC8Os/BXzqCcLw6z8FfOoJwvDrPwV86gnC8Os/BXzqCcLw6z8FfOoJwvDrPwYNjqJO8Os/5VPGFWrp6z+UawbbR+nrP82H3uLs4Os/ZB6IBe+m6z/CMzlH25/rP8pt8iecius/w0fgcrJY6z+VqxBX90HrP/GSADj0hOY/2qXVbNHi4j/tJnaXqTngP8oRRnLSHN0/ZpspK7SD2z/vKCcWNdbZP3+N6Ep0f9c/Ai5lL/eZ1D8CLmUv95nUPwIuZS/3mdQ/Ai5lL/eZ1D+ZaH6atZnUP4dEptXrdtQ/yFk6Bxv/0z+Uu4OncpfQP9qOH9T8Zck/",
          "dtype": "f8"
         }
        },
        {
         "customdata": {
          "bdata": "AAAAAABYq0AAAAAAAFirQAAAAAAAWKtAAAAAAABYq0AAAAAAAFirQAAAAAAAWKtAAAAAAABYq0AAAAAAAFirQAAAAAAAWKtAAAAAAABYq0AAAAAAAFirQAAAAAAAWKtAAAAAAABYq0AAAAAAAFirQAAAAAAAWKtAAAAAAABYq0AAAAAAAFirQAAAAAAAWKtAAAAAAABYq0AAAAAAAFirQAAAAAAAWKtAAAAAAABYq0AAAAAAAFirQAAAAAAAWKtAAAAAAABYq0AAAAAAAFirQAAAAAAAWKtAAAAAAABYq0AAAAAAAFirQAAAAAAAWKtAAAAAAABYq0AAAAAAAFirQAAAAAAAWKtAAAAAAABYq0AAAAAAAFirQAAAAAAAWKtAAAAAAABYq0AAAAAAAFirQAAAAAAAWKtAAAAAAABYq0AAAAAAAFirQAAAAAAAWKtAAAAAAABYq0AAAAAAAFirQAAAAAAAWKtAAAAAAABYq0AAAAAAAFirQAAAAAAAWKtA",
          "dtype": "f8",
          "shape": "48, 1"
         },
         "hovertemplate": "<b>Time Step:</b> %{x}<br><b>Budget Left Ratio:</b> %{y:.3f}<br><b>Budget:</b> %{customdata[0]:.0f}<br><extra></extra>",
         "line": {
          "color": "rgb(255, 247, 179)",
          "width": 1.5
         },
         "mode": "lines",
         "opacity": 0.35,
         "showlegend": false,
         "type": "scatter",
         "x": {
          "bdata": "AAECAwQFBgcICQoLDA0ODxAREhMUFRYXGBkaGxwdHh8gISIjJCUmJygpKissLS4v",
          "dtype": "i1"
         },
         "y": {
          "bdata": "u38wWF/T7T8qigTi0vbsP2/9S0klvus/JT+UaC9n6z/1496ecOXqP+waOjdomOo/pCBH0pBk6j862T76Li3qPzrZPvouLeo/Otk++i4t6j862T76Li3qPzrZPvouLeo/Otk++i4t6j862T76Li3qPzrZPvouLeo/Otk++i4t6j+VZsyHj+jpP6kqecAefOk/7qUG9clS6D//W+2uk/DmP6tdZaaEfeQ/ynvFxuKU4T+IlHGPd7/cP/ZKGjQho9Y/QKpHMRAk1j/6KP3HeqfUP48AGcaawdE/2hXG5XvO0D9Lw9d4KirOP419S5i4h8w/+H2jQhy1yT9360mUm9vHP8eLgq/g1sc/5l24hEMYxz9D1L03GeTCP1XXpupYE7s/RAWtBX1Ftz9zgmTdMDyzP0K9gUMwa7A/DTYgH/BDrD9VVwKQWaGoP20eIs5XgqM/vxn4xGHP5D6/GfjEYc/kPr8Z+MRhz+Q+vxn4xGHP5D6/GfjEYc/kPr8Z+MRhz+Q+",
          "dtype": "f8"
         }
        },
        {
         "customdata": {
          "bdata": "AAAAAADyskAAAAAAAPKyQAAAAAAA8rJAAAAAAADyskAAAAAAAPKyQAAAAAAA8rJAAAAAAADyskAAAAAAAPKyQAAAAAAA8rJAAAAAAADyskAAAAAAAPKyQAAAAAAA8rJAAAAAAADyskAAAAAAAPKyQAAAAAAA8rJAAAAAAADyskAAAAAAAPKyQAAAAAAA8rJAAAAAAADyskAAAAAAAPKyQAAAAAAA8rJAAAAAAADyskAAAAAAAPKyQAAAAAAA8rJAAAAAAADyskAAAAAAAPKyQAAAAAAA8rJAAAAAAADyskAAAAAAAPKyQAAAAAAA8rJAAAAAAADyskAAAAAAAPKyQAAAAAAA8rJAAAAAAADyskAAAAAAAPKyQAAAAAAA8rJAAAAAAADyskAAAAAAAPKyQAAAAAAA8rJAAAAAAADyskAAAAAAAPKyQAAAAAAA8rJAAAAAAADyskAAAAAAAPKyQAAAAAAA8rJAAAAAAADyskAAAAAAAPKyQAAAAAAA8rJA",
          "dtype": "f8",
          "shape": "48, 1"
         },
         "hovertemplate": "<b>Time Step:</b> %{x}<br><b>Budget Left Ratio:</b> %{y:.3f}<br><b>Budget:</b> %{customdata[0]:.0f}<br><extra></extra>",
         "line": {
          "color": "rgb(165, 0, 38)",
          "width": 1.5
         },
         "mode": "lines",
         "opacity": 0.35,
         "showlegend": false,
         "type": "scatter",
         "x": {
          "bdata": "AAECAwQFBgcICQoLDA0ODxAREhMUFRYXGBkaGxwdHh8gISIjJCUmJygpKissLS4v",
          "dtype": "i1"
         },
         "y": {
          "bdata": "hRQ3uvf+7z+FFDe69/7vPwMEL19W/u8/AwQvX1b+7z8DBC9fVv7vPwMEL19W/u8/AwQvX1b+7z8DBC9fVv7vPwMEL19W/u8/JT4NDxj+7z8lPg0PGP7vP9oluFBQ/e8/GXbAIxT07z9KrWoI3ebvPw6+05xDw+8/dAEINxW67z90AQg3FbrvP3QBCDcVuu8/dAEINxW67z90AQg3FbrvP3QBCDcVuu8/dAEINxW67z90AQg3FbrvP3QBCDcVuu8/dAEINxW67z83htr3rbnvP8w5TiQ7ue8/zsDKgWym7z9GGvishHbvPwxLHz9JYO8/kfBjR1gU7z9qMJMa5JLuPwziv3v1hOw/NCAL0HvU6j9M4l5d1+DpPzZ0h74keOg/vpxN2SEy5z9EbuVsTfXlP8188iRbSOQ/aBZdDKp34j862Fpx+vPgPwjQIriN9t0/4Teu3Vew1j/og6f9MBfRP1+8Q5gRpMU/XaPXlB2SwD9H8z5PYD6yP1Bsbvo7KNo+",
          "dtype": "f8"
         }
        },
        {
         "customdata": {
          "bdata": "AAAAAACOskAAAAAAAI6yQAAAAAAAjrJAAAAAAACOskAAAAAAAI6yQAAAAAAAjrJAAAAAAACOskAAAAAAAI6yQAAAAAAAjrJAAAAAAACOskAAAAAAAI6yQAAAAAAAjrJAAAAAAACOskAAAAAAAI6yQAAAAAAAjrJAAAAAAACOskAAAAAAAI6yQAAAAAAAjrJAAAAAAACOskAAAAAAAI6yQAAAAAAAjrJAAAAAAACOskAAAAAAAI6yQAAAAAAAjrJAAAAAAACOskAAAAAAAI6yQAAAAAAAjrJAAAAAAACOskAAAAAAAI6yQAAAAAAAjrJAAAAAAACOskAAAAAAAI6yQAAAAAAAjrJAAAAAAACOskAAAAAAAI6yQAAAAAAAjrJAAAAAAACOskAAAAAAAI6yQAAAAAAAjrJAAAAAAACOskAAAAAAAI6yQAAAAAAAjrJAAAAAAACOskAAAAAAAI6yQAAAAAAAjrJAAAAAAACOskAAAAAAAI6yQAAAAAAAjrJA",
          "dtype": "f8",
          "shape": "48, 1"
         },
         "hovertemplate": "<b>Time Step:</b> %{x}<br><b>Budget Left Ratio:</b> %{y:.3f}<br><b>Budget:</b> %{customdata[0]:.0f}<br><extra></extra>",
         "line": {
          "color": "rgb(183, 17, 38)",
          "width": 1.5
         },
         "mode": "lines",
         "opacity": 0.35,
         "showlegend": false,
         "type": "scatter",
         "x": {
          "bdata": "AAECAwQFBgcICQoLDA0ODxAREhMUFRYXGBkaGxwdHh8gISIjJCUmJygpKissLS4v",
          "dtype": "i1"
         },
         "y": {
          "bdata": "OXt0YoD+7z/Szh3DovbvP9lZb+9G8u8/X3CsXRfw7z9fcKxdF/DvP7AF85sV7+8/sAXzmxXv7z+wBfObFe/vP7AF85sV7+8/sAXzmxXv7z+wBfObFe/vP8xdFNi57u8/jDahslPt7z+MNqGyU+3vPySuAH+16+8/F13+DfXp7z8XXf4N9envPxdd/g316e8/F13+DfXp7z8XXf4N9envPxdd/g316e8/F13+DfXp7z8XXf4N9envPzF43W/e6e8/MXjdb97p7z8xeN1v3unvPzF43W/e6e8/MXjdb97p7z8xeN1v3unvPzF43W/e6e8/MXjdb97p7z8xeN1v3unvPwdVy3OA4+8/gSCm+G+m7z8kyWEmdk/vP5dBep/J4+4/D0EOKu1y7j/wO28H52/tP2B/NahARuw/Hd4O3+JJ6z8q8amxSZbmP2fnVux4duE/0oVqd8p41T+Q3frXwY/BP+sSk3JW6rA/8O86rkP1hD8SxHNSKanrPhLEc1Ipqes+",
          "dtype": "f8"
         }
        },
        {
         "customdata": {
          "bdata": "AAAAAAA4qEAAAAAAADioQAAAAAAAOKhAAAAAAAA4qEAAAAAAADioQAAAAAAAOKhAAAAAAAA4qEAAAAAAADioQAAAAAAAOKhAAAAAAAA4qEAAAAAAADioQAAAAAAAOKhAAAAAAAA4qEAAAAAAADioQAAAAAAAOKhAAAAAAAA4qEAAAAAAADioQAAAAAAAOKhAAAAAAAA4qEAAAAAAADioQAAAAAAAOKhAAAAAAAA4qEAAAAAAADioQAAAAAAAOKhAAAAAAAA4qEAAAAAAADioQAAAAAAAOKhAAAAAAAA4qEAAAAAAADioQAAAAAAAOKhAAAAAAAA4qEAAAAAAADioQAAAAAAAOKhAAAAAAAA4qEAAAAAAADioQAAAAAAAOKhAAAAAAAA4qEAAAAAAADioQAAAAAAAOKhAAAAAAAA4qEAAAAAAADioQAAAAAAAOKhAAAAAAAA4qEAAAAAAADioQAAAAAAAOKhAAAAAAAA4qEAAAAAAADioQAAAAAAAOKhA",
          "dtype": "f8",
          "shape": "48, 1"
         },
         "hovertemplate": "<b>Time Step:</b> %{x}<br><b>Budget Left Ratio:</b> %{y:.3f}<br><b>Budget:</b> %{customdata[0]:.0f}<br><extra></extra>",
         "line": {
          "color": "rgb(217, 239, 246)",
          "width": 1.5
         },
         "mode": "lines",
         "opacity": 0.35,
         "showlegend": false,
         "type": "scatter",
         "x": {
          "bdata": "AAECAwQFBgcICQoLDA0ODxAREhMUFRYXGBkaGxwdHh8gISIjJCUmJygpKissLS4v",
          "dtype": "i1"
         },
         "y": {
          "bdata": "AAAAAAAA8D8AAAAAAADwPwAAAAAAAPA/AAAAAAAA8D8AAAAAAADwPwAAAAAAAPA/AAAAAAAA8D8AAAAAAADwPwAAAAAAAPA/AAAAAAAA8D8AAAAAAADwP6l132Uz/u8/21ufZ1n67z+F6MnKVvfvP+zlTYC+7u8/2b6YyLfU7z+Es0j1DsfvP5eykIxs9+4/HiwHCqUw6z/Xmm4pMxHoP8y7XckwjeM/yoARF2V13j+nAUGqmLnWP0u0gWE3/tE/fuzgQs8azD9Dg+v+KK3EP8xjAOIR6ro/5aYP6gTbsz+ApBtNOtOuP/8tcciUSKM/SU7CP83MlT+c4cMv3r4pPykTiuoWCNQ+KROK6hYI1D4pE4rqFgjUPikTiuoWCNQ+KROK6hYI1D4pE4rqFgjUPikTiuoWCNQ+KROK6hYI1D4pE4rqFgjUPikTiuoWCNQ+KROK6hYI1D4pE4rqFgjUPikTiuoWCNQ+KROK6hYI1D4pE4rqFgjUPikTiuoWCNQ+",
          "dtype": "f8"
         }
        },
        {
         "customdata": {
          "bdata": "AAAAAABYq0AAAAAAAFirQAAAAAAAWKtAAAAAAABYq0AAAAAAAFirQAAAAAAAWKtAAAAAAABYq0AAAAAAAFirQAAAAAAAWKtAAAAAAABYq0AAAAAAAFirQAAAAAAAWKtAAAAAAABYq0AAAAAAAFirQAAAAAAAWKtAAAAAAABYq0AAAAAAAFirQAAAAAAAWKtAAAAAAABYq0AAAAAAAFirQAAAAAAAWKtAAAAAAABYq0AAAAAAAFirQAAAAAAAWKtAAAAAAABYq0AAAAAAAFirQAAAAAAAWKtAAAAAAABYq0AAAAAAAFirQAAAAAAAWKtAAAAAAABYq0AAAAAAAFirQAAAAAAAWKtAAAAAAABYq0AAAAAAAFirQAAAAAAAWKtAAAAAAABYq0AAAAAAAFirQAAAAAAAWKtAAAAAAABYq0AAAAAAAFirQAAAAAAAWKtAAAAAAABYq0AAAAAAAFirQAAAAAAAWKtAAAAAAABYq0AAAAAAAFirQAAAAAAAWKtA",
          "dtype": "f8",
          "shape": "48, 1"
         },
         "hovertemplate": "<b>Time Step:</b> %{x}<br><b>Budget Left Ratio:</b> %{y:.3f}<br><b>Budget:</b> %{customdata[0]:.0f}<br><extra></extra>",
         "line": {
          "color": "rgb(255, 247, 179)",
          "width": 1.5
         },
         "mode": "lines",
         "opacity": 0.35,
         "showlegend": false,
         "type": "scatter",
         "x": {
          "bdata": "AAECAwQFBgcICQoLDA0ODxAREhMUFRYXGBkaGxwdHh8gISIjJCUmJygpKissLS4v",
          "dtype": "i1"
         },
         "y": {
          "bdata": "HjbSaCD47z/I2ugS2NvvP8nCLhNM0+8/6EFc0IDO7z+HaZpOeMzvP8boG3mUwu8/S/g8lerA7z/6cuo0B8DvP/py6jQHwO8/pyiKUr2/7z+nKIpSvb/vP6coilK9v+8/CCSyu5O97z9ka4vAsLXvPz7FQ26xje8/nfxkhHd67z+d/GSEd3rvP538ZIR3eu8/FjRXm0t67z8WNFebS3rvP7YeDDkHeu8/3WMeaQt57z9JrzNoi3XvP74C6qqCdO8/CgrFiFlt7D8wzdeA1xDrP69bXwZZNeo/YHvy0N1C6T8blMUj7GPoPxBnQP2/kec/qTDpAf4Y5D8h1PoWKcPhP73hbEvtweE/0cbpXfa04T/RoI5pdh7hPyxqE3pVEeA/UFEaXShi3D/5dDLZx5zYP6tC5G05k9Q/A71rXLci0j/3yQgG4wzSPxgSdv2/wtE/DdaVe4gLyj9DTg+vML3BP8zVQ6BHPLc/baH+mCBIsD+qLmhqdOKePwd1UNchNMo+",
          "dtype": "f8"
         }
        },
        {
         "customdata": {
          "bdata": "AAAAAABooEAAAAAAAGigQAAAAAAAaKBAAAAAAABooEAAAAAAAGigQAAAAAAAaKBAAAAAAABooEAAAAAAAGigQAAAAAAAaKBAAAAAAABooEAAAAAAAGigQAAAAAAAaKBAAAAAAABooEAAAAAAAGigQAAAAAAAaKBAAAAAAABooEAAAAAAAGigQAAAAAAAaKBAAAAAAABooEAAAAAAAGigQAAAAAAAaKBAAAAAAABooEAAAAAAAGigQAAAAAAAaKBAAAAAAABooEAAAAAAAGigQAAAAAAAaKBAAAAAAABooEAAAAAAAGigQAAAAAAAaKBAAAAAAABooEAAAAAAAGigQAAAAAAAaKBAAAAAAABooEAAAAAAAGigQAAAAAAAaKBAAAAAAABooEAAAAAAAGigQAAAAAAAaKBAAAAAAABooEAAAAAAAGigQAAAAAAAaKBAAAAAAABooEAAAAAAAGigQAAAAAAAaKBAAAAAAABooEAAAAAAAGigQAAAAAAAaKBA",
          "dtype": "f8",
          "shape": "48, 1"
         },
         "hovertemplate": "<b>Time Step:</b> %{x}<br><b>Budget Left Ratio:</b> %{y:.3f}<br><b>Budget:</b> %{customdata[0]:.0f}<br><extra></extra>",
         "line": {
          "color": "rgb(56, 76, 160)",
          "width": 1.5
         },
         "mode": "lines",
         "opacity": 0.35,
         "showlegend": false,
         "type": "scatter",
         "x": {
          "bdata": "AAECAwQFBgcICQoLDA0ODxAREhMUFRYXGBkaGxwdHh8gISIjJCUmJygpKissLS4v",
          "dtype": "i1"
         },
         "y": {
          "bdata": "AAAAAAAA8D8AAAAAAADwPwAAAAAAAPA/AAAAAAAA8D8AAAAAAADwPwAAAAAAAPA/AAAAAAAA8D8AAAAAAADwPwAAAAAAAPA/AAAAAAAA8D8AAAAAAADwPwAAAAAAAPA/AAAAAAAA8D8AAAAAAADwPwAAAAAAAPA/AAAAAAAA8D8nmvYluN3uP4H8U32jyu4/FRjcLk9l7j9KQNep3/7qP8G9y0a+buc/YutLHwx53T+OORZqVPvQP9zEOLg+pcA/3MQ4uD6lwD/cxDi4PqXAP9zEOLg+pcA/3MQ4uD6lwD/cxDi4PqXAP9zEOLg+pcA/3MQ4uD6lwD/cxDi4PqXAPwTA5VXSoMA/3WfLR+xAvz+y31nMc5mtP9PQGDwjFa0/nVYdcbwdpj9egGzqUl+kP/EVvX+P95s/AMUNUiEnlj8AxQ1SISeWPwDFDVIhJ5Y/AMUNUiEnlj+6ClO2jg+VP9xxyQV1EJQ/3HHJBXUQlD9/7MlDUkWQPzhGMKMZBfI+",
          "dtype": "f8"
         }
        },
        {
         "customdata": {
          "bdata": "AAAAAADAskAAAAAAAMCyQAAAAAAAwLJAAAAAAADAskAAAAAAAMCyQAAAAAAAwLJAAAAAAADAskAAAAAAAMCyQAAAAAAAwLJAAAAAAADAskAAAAAAAMCyQAAAAAAAwLJAAAAAAADAskAAAAAAAMCyQAAAAAAAwLJAAAAAAADAskAAAAAAAMCyQAAAAAAAwLJAAAAAAADAskAAAAAAAMCyQAAAAAAAwLJAAAAAAADAskAAAAAAAMCyQAAAAAAAwLJAAAAAAADAskAAAAAAAMCyQAAAAAAAwLJAAAAAAADAskAAAAAAAMCyQAAAAAAAwLJAAAAAAADAskAAAAAAAMCyQAAAAAAAwLJAAAAAAADAskAAAAAAAMCyQAAAAAAAwLJAAAAAAADAskAAAAAAAMCyQAAAAAAAwLJAAAAAAADAskAAAAAAAMCyQAAAAAAAwLJAAAAAAADAskAAAAAAAMCyQAAAAAAAwLJAAAAAAADAskAAAAAAAMCyQAAAAAAAwLJA",
          "dtype": "f8",
          "shape": "48, 1"
         },
         "hovertemplate": "<b>Time Step:</b> %{x}<br><b>Budget Left Ratio:</b> %{y:.3f}<br><b>Budget:</b> %{customdata[0]:.0f}<br><extra></extra>",
         "line": {
          "color": "rgb(174, 8, 38)",
          "width": 1.5
         },
         "mode": "lines",
         "opacity": 0.35,
         "showlegend": false,
         "type": "scatter",
         "x": {
          "bdata": "AAECAwQFBgcICQoLDA0ODxAREhMUFRYXGBkaGxwdHh8gISIjJCUmJygpKissLS4v",
          "dtype": "i1"
         },
         "y": {
          "bdata": "AAAAAAAA8D8AAAAAAADwPwAAAAAAAPA/AAAAAAAA8D8AAAAAAADwPwAAAAAAAPA/AAAAAAAA8D8AAAAAAADwP6CWySk5++8/uukSyQzs7z/E6RkEaurvPzFaHZIV1e8/na91AgaY7z9cjzKjpF7vPwAXD+pC9e4/Rs/qPzGy7j83u6lojavuP/uF4QTHUO4/SxGM+D377T9VRaMBBK7tP8abUKhm6Ow/0jxwmYkv7D/0SEVUj1DrP2aIuUjpbeo/QcZAW8Ga6T8L1e3TFHXoPw0VJ9j2oOY/Wdj1jimD5T9w4sZmJJHkP7ePg9h2TOM/otpzkc5X4j8iSCV8m/jgP1SD5pI9teA/GPQ6t0wB4D/h5P2utCLeP7/x0+0lnN0/P05JLk6R2T+uVvWH4WXVP8mYuzNxzdI/GCG7IOpmzz+nWf6y22TPP3tmNsWcQ88/9l+6Rkwqzz83Z5jbtibLPwOUNrXlm8U/8lNRN08vvj8AwNKunT2wP0hhBMxxB2o/",
          "dtype": "f8"
         }
        },
        {
         "customdata": {
          "bdata": "AAAAAABAn0AAAAAAAECfQAAAAAAAQJ9AAAAAAABAn0AAAAAAAECfQAAAAAAAQJ9AAAAAAABAn0AAAAAAAECfQAAAAAAAQJ9AAAAAAABAn0AAAAAAAECfQAAAAAAAQJ9AAAAAAABAn0AAAAAAAECfQAAAAAAAQJ9AAAAAAABAn0AAAAAAAECfQAAAAAAAQJ9AAAAAAABAn0AAAAAAAECfQAAAAAAAQJ9AAAAAAABAn0AAAAAAAECfQAAAAAAAQJ9AAAAAAABAn0AAAAAAAECfQAAAAAAAQJ9AAAAAAABAn0AAAAAAAECfQAAAAAAAQJ9AAAAAAABAn0AAAAAAAECfQAAAAAAAQJ9AAAAAAABAn0AAAAAAAECfQAAAAAAAQJ9AAAAAAABAn0AAAAAAAECfQAAAAAAAQJ9AAAAAAABAn0AAAAAAAECfQAAAAAAAQJ9AAAAAAABAn0AAAAAAAECfQAAAAAAAQJ9AAAAAAABAn0AAAAAAAECfQAAAAAAAQJ9A",
          "dtype": "f8",
          "shape": "48, 1"
         },
         "hovertemplate": "<b>Time Step:</b> %{x}<br><b>Budget Left Ratio:</b> %{y:.3f}<br><b>Budget:</b> %{customdata[0]:.0f}<br><extra></extra>",
         "line": {
          "color": "rgb(49, 54, 149)",
          "width": 1.5
         },
         "mode": "lines",
         "opacity": 0.35,
         "showlegend": false,
         "type": "scatter",
         "x": {
          "bdata": "AAECAwQFBgcICQoLDA0ODxAREhMUFRYXGBkaGxwdHh8gISIjJCUmJygpKissLS4v",
          "dtype": "i1"
         },
         "y": {
          "bdata": "TdvR4YSR7z+Tbxff9YjvP55mBa6vbe8/+Y5uSHFD7z9nuegO+zzvP2FfIBX5Oe8/anEw1hM37z/g3SgNZzDvP9H5HB/6L+8/0fkcH/ov7z+Fv82Dni/vP4W/zYOeL+8/hb/Ng54v7z+Fv82Dni/vP4W/zYOeL+8/hb/Ng54v7z8XrKyPDfPuP/CU44SZXO4/IquC4vQ07j/FZmsxDNztP4t+4+HGPOs//ieHhM1e6j9xP6z/do/pP267t2gInOc/bru3aAic5z9uu7doCJznP267t2gInOc/bru3aAic5z9uu7doCJznP267t2gInOc/bru3aAic5z9uu7doCJznPynfQOHHZOc/29EW3FlJ5z9K1bmghT3nP1f8Yu32nuY/g3ev49Fj5j+JKdyw5kbmP9HymBfrLeY/ClBpNdMR5j+m/6kRSHjlPxcWWlUnbuQ/TRo6mgIe4T+FS0Rb2NDcP9eRc7Zwfsw/tusnNcGXpT9xPUovbt7yPnE9Si9u3vI+",
          "dtype": "f8"
         }
        },
        {
         "customdata": {
          "bdata": "AAAAAAC8q0AAAAAAALyrQAAAAAAAvKtAAAAAAAC8q0AAAAAAALyrQAAAAAAAvKtAAAAAAAC8q0AAAAAAALyrQAAAAAAAvKtAAAAAAAC8q0AAAAAAALyrQAAAAAAAvKtAAAAAAAC8q0AAAAAAALyrQAAAAAAAvKtAAAAAAAC8q0AAAAAAALyrQAAAAAAAvKtAAAAAAAC8q0AAAAAAALyrQAAAAAAAvKtAAAAAAAC8q0AAAAAAALyrQAAAAAAAvKtAAAAAAAC8q0AAAAAAALyrQAAAAAAAvKtAAAAAAAC8q0AAAAAAALyrQAAAAAAAvKtAAAAAAAC8q0AAAAAAALyrQAAAAAAAvKtAAAAAAAC8q0AAAAAAALyrQAAAAAAAvKtAAAAAAAC8q0AAAAAAALyrQAAAAAAAvKtAAAAAAAC8q0AAAAAAALyrQAAAAAAAvKtAAAAAAAC8q0AAAAAAALyrQAAAAAAAvKtAAAAAAAC8q0AAAAAAALyrQAAAAAAAvKtA",
          "dtype": "f8",
          "shape": "48, 1"
         },
         "hovertemplate": "<b>Time Step:</b> %{x}<br><b>Budget Left Ratio:</b> %{y:.3f}<br><b>Budget:</b> %{customdata[0]:.0f}<br><extra></extra>",
         "line": {
          "color": "rgb(255, 241, 170)",
          "width": 1.5
         },
         "mode": "lines",
         "opacity": 0.35,
         "showlegend": false,
         "type": "scatter",
         "x": {
          "bdata": "AAECAwQFBgcICQoLDA0ODxAREhMUFRYXGBkaGxwdHh8gISIjJCUmJygpKissLS4v",
          "dtype": "i1"
         },
         "y": {
          "bdata": "eh5/cl3l7j8OfneJEpTuP1mra4mPN+4/7M9FQvQM7j9XcnVFFs7tP/9QoaocnO0/0/x8rMWA7T+qytmGwVbtP7h5X7uySu0/00KVnO897T+EABtxdDXtP3k+K2cGGu0/LXYTIQ0V7T8FJAouOvfsP64YMFHjvuw/EpNCXIWJ7D9R8FqsiIjsP0jCPvlkyOs/TFUGO1jG6z/Lz8+Ku2XrP2FUiLAU0+o/cx9w4jBT6T+yGMFPUPToP44IFwEBl+Y/RvfXcUOP5j/ZIvkqYk3mPwdRL3m1kuU/I+AlijCW5D8gO6xOJprjP9mMMUicmeI/tobFpAgl4j8Gs8MoadbgPwazwyhp1uA/BrPDKGnW4D8Gs8MoadbgPwazwyhp1uA/BrPDKGnW4D8Gs8MoadbgPwazwyhp1uA/BrPDKGnW4D/sQXcaqWPZP7zYYnTpu9A/ocma1kxlyT822G4+q2XAP3nEqHNYfrA/XRdyVAeCdD+gBbc1kwjYPqAFtzWTCNg+",
          "dtype": "f8"
         }
        },
        {
         "customdata": {
          "bdata": "AAAAAACasEAAAAAAAJqwQAAAAAAAmrBAAAAAAACasEAAAAAAAJqwQAAAAAAAmrBAAAAAAACasEAAAAAAAJqwQAAAAAAAmrBAAAAAAACasEAAAAAAAJqwQAAAAAAAmrBAAAAAAACasEAAAAAAAJqwQAAAAAAAmrBAAAAAAACasEAAAAAAAJqwQAAAAAAAmrBAAAAAAACasEAAAAAAAJqwQAAAAAAAmrBAAAAAAACasEAAAAAAAJqwQAAAAAAAmrBAAAAAAACasEAAAAAAAJqwQAAAAAAAmrBAAAAAAACasEAAAAAAAJqwQAAAAAAAmrBAAAAAAACasEAAAAAAAJqwQAAAAAAAmrBAAAAAAACasEAAAAAAAJqwQAAAAAAAmrBAAAAAAACasEAAAAAAAJqwQAAAAAAAmrBAAAAAAACasEAAAAAAAJqwQAAAAAAAmrBAAAAAAACasEAAAAAAAJqwQAAAAAAAmrBAAAAAAACasEAAAAAAAJqwQAAAAAAAmrBA",
          "dtype": "f8",
          "shape": "48, 1"
         },
         "hovertemplate": "<b>Time Step:</b> %{x}<br><b>Budget Left Ratio:</b> %{y:.3f}<br><b>Budget:</b> %{customdata[0]:.0f}<br><extra></extra>",
         "line": {
          "color": "rgb(245, 116, 70)",
          "width": 1.5
         },
         "mode": "lines",
         "opacity": 0.35,
         "showlegend": false,
         "type": "scatter",
         "x": {
          "bdata": "AAECAwQFBgcICQoLDA0ODxAREhMUFRYXGBkaGxwdHh8gISIjJCUmJygpKissLS4v",
          "dtype": "i1"
         },
         "y": {
          "bdata": "AAAAAAAA8D8AAAAAAADwPwAAAAAAAPA/AAAAAAAA8D8AAAAAAADwPwAAAAAAAPA/AAAAAAAA8D8AAAAAAADwPwAAAAAAAPA/AAAAAAAA8D8AAAAAAADwPwAAAAAAAPA/AAAAAAAA8D8AAAAAAADwPwAAAAAAAPA/AAAAAAAA8D8AAAAAAADwP5oWnEPX/+8/mhacQ9f/7z+aFpxD1//vP9oQuatk/+8/8gIWYxn97z9wSzVn7O3vP0VfPdqByu8/Ec/3HaWm7z/jzrc7pCLvP2WdEcyWLu4/jxKurdnv7D9MU6CH4ljqP3//4Itjc+g/lU2lvxbe5T/r74nre3zjP9ti6fPte+M/Thzrdyht4z+qwKNQESHjP0+KIgpLZ+I/mm9gkRVC4T/vFqSA/nXgP5578dHGrN0/JBq2PYWE2T+GYgeAHrTQP0PQaAxfu8Y/qIZKr3Qxuz+S2WTE3rqgP5hQDb4/QJE/O4JjTtHx4D47gmNO0fHgPjuCY07R8eA+",
          "dtype": "f8"
         }
        },
        {
         "customdata": {
          "bdata": "AAAAAABkqUAAAAAAAGSpQAAAAAAAZKlAAAAAAABkqUAAAAAAAGSpQAAAAAAAZKlAAAAAAABkqUAAAAAAAGSpQAAAAAAAZKlAAAAAAABkqUAAAAAAAGSpQAAAAAAAZKlAAAAAAABkqUAAAAAAAGSpQAAAAAAAZKlAAAAAAABkqUAAAAAAAGSpQAAAAAAAZKlAAAAAAABkqUAAAAAAAGSpQAAAAAAAZKlAAAAAAABkqUAAAAAAAGSpQAAAAAAAZKlAAAAAAABkqUAAAAAAAGSpQAAAAAAAZKlAAAAAAABkqUAAAAAAAGSpQAAAAAAAZKlAAAAAAABkqUAAAAAAAGSpQAAAAAAAZKlAAAAAAABkqUAAAAAAAGSpQAAAAAAAZKlAAAAAAABkqUAAAAAAAGSpQAAAAAAAZKlAAAAAAABkqUAAAAAAAGSpQAAAAAAAZKlAAAAAAABkqUAAAAAAAGSpQAAAAAAAZKlAAAAAAABkqUAAAAAAAGSpQAAAAAAAZKlA",
          "dtype": "f8",
          "shape": "48, 1"
         },
         "hovertemplate": "<b>Time Step:</b> %{x}<br><b>Budget Left Ratio:</b> %{y:.3f}<br><b>Budget:</b> %{customdata[0]:.0f}<br><extra></extra>",
         "line": {
          "color": "rgb(236, 248, 226)",
          "width": 1.5
         },
         "mode": "lines",
         "opacity": 0.35,
         "showlegend": false,
         "type": "scatter",
         "x": {
          "bdata": "AAECAwQFBgcICQoLDA0ODxAREhMUFRYXGBkaGxwdHh8gISIjJCUmJygpKissLS4v",
          "dtype": "i1"
         },
         "y": {
          "bdata": "SVK3Mq/z7z/GWc94GtLvP48dpzF5vu8/tRMTvzqF7z+8hIMTj1XvP2OVc1/CS+8/8BS1PRdD7z8ZIIBFcyjvPxdzA7wnKO8/nYxKa9Uj7z+XIHaCywfvP53s3kgN4u4/gRxwIdWb7j8phd7ksB7uP3tq7wEp1uw/CbmF28Zq6z8JuYXbxmrrPwm5hdvGaus/qJg9g2to6z+YSNotXVnrP3P0m+BFWOs/rJMQcSJY6z8rNXuH81frP+D6qorEV+s/4PqqisRX6z+NfJNs/VbrP2qpPNU3Vus/vsGWje9S6z8rXoFeUE/rP3F0so0UPOs/esLHPn/b6j8K03LyykvqP7lz9khwEOo/FzxsFVDC6D8/VfKfSHfmP2h1VLIb9+U/+IzQGoEo5T9gPuJ4a9DkP3ZBnnFPHuM/JZg5ovtd4j9ltPUrfovbP37LOrF0CtI/vJgqdQGavj8w+e3wMW+wP9qGmggQE5I/wJzNNkP2cz9QjefaInJWP8V8KAeLb/A+",
          "dtype": "f8"
         }
        },
        {
         "customdata": {
          "bdata": "AAAAAABcokAAAAAAAFyiQAAAAAAAXKJAAAAAAABcokAAAAAAAFyiQAAAAAAAXKJAAAAAAABcokAAAAAAAFyiQAAAAAAAXKJAAAAAAABcokAAAAAAAFyiQAAAAAAAXKJAAAAAAABcokAAAAAAAFyiQAAAAAAAXKJAAAAAAABcokAAAAAAAFyiQAAAAAAAXKJAAAAAAABcokAAAAAAAFyiQAAAAAAAXKJAAAAAAABcokAAAAAAAFyiQAAAAAAAXKJAAAAAAABcokAAAAAAAFyiQAAAAAAAXKJAAAAAAABcokAAAAAAAFyiQAAAAAAAXKJAAAAAAABcokAAAAAAAFyiQAAAAAAAXKJAAAAAAABcokAAAAAAAFyiQAAAAAAAXKJAAAAAAABcokAAAAAAAFyiQAAAAAAAXKJAAAAAAABcokAAAAAAAFyiQAAAAAAAXKJAAAAAAABcokAAAAAAAFyiQAAAAAAAXKJAAAAAAABcokAAAAAAAFyiQAAAAAAAXKJA",
          "dtype": "f8",
          "shape": "48, 1"
         },
         "hovertemplate": "<b>Time Step:</b> %{x}<br><b>Budget Left Ratio:</b> %{y:.3f}<br><b>Budget:</b> %{customdata[0]:.0f}<br><extra></extra>",
         "line": {
          "color": "rgb(80, 130, 187)",
          "width": 1.5
         },
         "mode": "lines",
         "opacity": 0.35,
         "showlegend": false,
         "type": "scatter",
         "x": {
          "bdata": "AAECAwQFBgcICQoLDA0ODxAREhMUFRYXGBkaGxwdHh8gISIjJCUmJygpKissLS4v",
          "dtype": "i1"
         },
         "y": {
          "bdata": "AAAAAAAA8D8AAAAAAADwPwAAAAAAAPA/AAAAAAAA8D8AAAAAAADwPwAAAAAAAPA/AAAAAAAA8D8AAAAAAADwPwAAAAAAAPA/AAAAAAAA8D8AAAAAAADwPwAAAAAAAPA/AAAAAAAA8D8AAAAAAADwPwAAAAAAAPA/AAAAAAAA8D8AAAAAAADwPwAAAAAAAPA/AAAAAAAA8D8AAAAAAADwPwAAAAAAAPA/m544+sr/7z+bnjj6yv/vP5ueOPrK/+8/bz96R1NV7T/YRFP2ywDqP1W0tXnQkeI/xJqQiwzR3D/Vq2hybLrUPw/fsLbCL8w/aXmc3ZOcwz/6HGN3vJe+P/ocY3e8l74/+hxjd7yXvj/6HGN3vJe+P/ocY3e8l74/+hxjd7yXvj/6HGN3vJe+P5NE9O2Rhb4/AcsOF2Fnvj9hnAse7Ee+P0bnwDtjd70/92Ufq0Jvuj/tQPnBghq5P1Bw5DQORaU/j+ny5MhzoT+GAeJHKFCYP9xJ94ehfHc/",
          "dtype": "f8"
         }
        },
        {
         "customdata": {
          "bdata": "AAAAAADAskAAAAAAAMCyQAAAAAAAwLJAAAAAAADAskAAAAAAAMCyQAAAAAAAwLJAAAAAAADAskAAAAAAAMCyQAAAAAAAwLJAAAAAAADAskAAAAAAAMCyQAAAAAAAwLJAAAAAAADAskAAAAAAAMCyQAAAAAAAwLJAAAAAAADAskAAAAAAAMCyQAAAAAAAwLJAAAAAAADAskAAAAAAAMCyQAAAAAAAwLJAAAAAAADAskAAAAAAAMCyQAAAAAAAwLJAAAAAAADAskAAAAAAAMCyQAAAAAAAwLJAAAAAAADAskAAAAAAAMCyQAAAAAAAwLJAAAAAAADAskAAAAAAAMCyQAAAAAAAwLJAAAAAAADAskAAAAAAAMCyQAAAAAAAwLJAAAAAAADAskAAAAAAAMCyQAAAAAAAwLJAAAAAAADAskAAAAAAAMCyQAAAAAAAwLJAAAAAAADAskAAAAAAAMCyQAAAAAAAwLJAAAAAAADAskAAAAAAAMCyQAAAAAAAwLJA",
          "dtype": "f8",
          "shape": "48, 1"
         },
         "hovertemplate": "<b>Time Step:</b> %{x}<br><b>Budget Left Ratio:</b> %{y:.3f}<br><b>Budget:</b> %{customdata[0]:.0f}<br><extra></extra>",
         "line": {
          "color": "rgb(174, 8, 38)",
          "width": 1.5
         },
         "mode": "lines",
         "opacity": 0.35,
         "showlegend": false,
         "type": "scatter",
         "x": {
          "bdata": "AAECAwQFBgcICQoLDA0ODxAREhMUFRYXGBkaGxwdHh8gISIjJCUmJygpKissLS4v",
          "dtype": "i1"
         },
         "y": {
          "bdata": "AAAAAAAA8D8AAAAAAADwPwAAAAAAAPA/AAAAAAAA8D8AAAAAAADwPwAAAAAAAPA/AAAAAAAA8D8AAAAAAADwPwAAAAAAAPA/AAAAAAAA8D8AAAAAAADwPwAAAAAAAPA/AAAAAAAA8D8AAAAAAADwPwAAAAAAAPA/AAAAAAAA8D8AAAAAAADwPwAAAAAAAPA/AAAAAAAA8D8MbOi49/XvP/4cTiHU9e8//hxOIdT17z/aSU9uV+3vPxu4Qnx45+8/h1Qz4q7h7z8ghos3Jd7vPwUWd03F2+8/G7CxQqTa7z+ASBPdG87vP2D80wUuze8/xhWGAonH7z/eR/EZgsDvP95H8RmCwO8/3kfxGYLA7z8rJLSmb63vPxjpOH/of+8/XLc+hzF57z/E5KLcQDPvP5R2/kpuIO4/DKldyoqD7D/yQxqWyUDrP1I/8hU9E+k/vlYpJneq5T8aaOFQPyniP4mygBypF94/qyPOmykk2T/Pgu6Z3n3TPwPMdXI9L8s/",
          "dtype": "f8"
         }
        },
        {
         "customdata": {
          "bdata": "AAAAAADAokAAAAAAAMCiQAAAAAAAwKJAAAAAAADAokAAAAAAAMCiQAAAAAAAwKJAAAAAAADAokAAAAAAAMCiQAAAAAAAwKJAAAAAAADAokAAAAAAAMCiQAAAAAAAwKJAAAAAAADAokAAAAAAAMCiQAAAAAAAwKJAAAAAAADAokAAAAAAAMCiQAAAAAAAwKJAAAAAAADAokAAAAAAAMCiQAAAAAAAwKJAAAAAAADAokAAAAAAAMCiQAAAAAAAwKJAAAAAAADAokAAAAAAAMCiQAAAAAAAwKJAAAAAAADAokAAAAAAAMCiQAAAAAAAwKJAAAAAAADAokAAAAAAAMCiQAAAAAAAwKJAAAAAAADAokAAAAAAAMCiQAAAAAAAwKJAAAAAAADAokAAAAAAAMCiQAAAAAAAwKJAAAAAAADAokAAAAAAAMCiQAAAAAAAwKJAAAAAAADAokAAAAAAAMCiQAAAAAAAwKJAAAAAAADAokAAAAAAAMCiQAAAAAAAwKJA",
          "dtype": "f8",
          "shape": "48, 1"
         },
         "hovertemplate": "<b>Time Step:</b> %{x}<br><b>Budget Left Ratio:</b> %{y:.3f}<br><b>Budget:</b> %{customdata[0]:.0f}<br><extra></extra>",
         "line": {
          "color": "rgb(88, 140, 192)",
          "width": 1.5
         },
         "mode": "lines",
         "opacity": 0.35,
         "showlegend": false,
         "type": "scatter",
         "x": {
          "bdata": "AAECAwQFBgcICQoLDA0ODxAREhMUFRYXGBkaGxwdHh8gISIjJCUmJygpKissLS4v",
          "dtype": "i1"
         },
         "y": {
          "bdata": "AAAAAAAA8D8AAAAAAADwPwAAAAAAAPA/AAAAAAAA8D8AAAAAAADwPwAAAAAAAPA/AAAAAAAA8D8AAAAAAADwPwAAAAAAAPA/AAAAAAAA8D8AAAAAAADwPwAAAAAAAPA/AAAAAAAA8D8AAAAAAADwPwAAAAAAAPA/AAAAAAAA8D8AAAAAAADwP9xd7viJ7e8/SMryFUrG7z/NeOmukq7uP3O8oYKM7Oo/O156KLgO5j8C8+RhksfhP+y8wGCYKNw/Unbfh1bk2z/VYweT2W/bP/v7YjlCqdk/D9SlA1gb1T8sPo8xyLrSPzD/Py40mtA/6KQX5O2rzj8OtMzBHU/OP3QDb7xj6c0/3m8Uc9pszT8mbCSEkJTMP9p87x+iGco/8uycDnc9yD/okIsjPo/HP/lu0kzc2cQ/KYCKixdFxD/QQpBjE0TEP2r+Wbgij8M/0BUMHdpFvT8sEWVp3fW5P6SoUd30868/dIrKqC/ulT9t4HaYG+eNP+F6FDiWi/o+",
          "dtype": "f8"
         }
        },
        {
         "customdata": {
          "bdata": "AAAAAABAn0AAAAAAAECfQAAAAAAAQJ9AAAAAAABAn0AAAAAAAECfQAAAAAAAQJ9AAAAAAABAn0AAAAAAAECfQAAAAAAAQJ9AAAAAAABAn0AAAAAAAECfQAAAAAAAQJ9AAAAAAABAn0AAAAAAAECfQAAAAAAAQJ9AAAAAAABAn0AAAAAAAECfQAAAAAAAQJ9AAAAAAABAn0AAAAAAAECfQAAAAAAAQJ9AAAAAAABAn0AAAAAAAECfQAAAAAAAQJ9AAAAAAABAn0AAAAAAAECfQAAAAAAAQJ9AAAAAAABAn0AAAAAAAECfQAAAAAAAQJ9AAAAAAABAn0AAAAAAAECfQAAAAAAAQJ9AAAAAAABAn0AAAAAAAECfQAAAAAAAQJ9AAAAAAABAn0AAAAAAAECfQAAAAAAAQJ9AAAAAAABAn0AAAAAAAECfQAAAAAAAQJ9AAAAAAABAn0AAAAAAAECfQAAAAAAAQJ9AAAAAAABAn0AAAAAAAECfQAAAAAAAQJ9A",
          "dtype": "f8",
          "shape": "48, 1"
         },
         "hovertemplate": "<b>Time Step:</b> %{x}<br><b>Budget Left Ratio:</b> %{y:.3f}<br><b>Budget:</b> %{customdata[0]:.0f}<br><extra></extra>",
         "line": {
          "color": "rgb(49, 54, 149)",
          "width": 1.5
         },
         "mode": "lines",
         "opacity": 0.35,
         "showlegend": false,
         "type": "scatter",
         "x": {
          "bdata": "AAECAwQFBgcICQoLDA0ODxAREhMUFRYXGBkaGxwdHh8gISIjJCUmJygpKissLS4v",
          "dtype": "i1"
         },
         "y": {
          "bdata": "AAAAAAAA8D8AAAAAAADwPwAAAAAAAPA/AAAAAAAA8D8AAAAAAADwPwAAAAAAAPA/AAAAAAAA8D8AAAAAAADwP1fxT8sOsO8/AM7DPU/Z7j+p1aMCMPrtP5G5GQhux+s/05qeOTdc5z8ar4r/oyPhP5EPnhnwHto/yz2QF7RNzD/LPZAXtE3MP8s9kBe0Tcw/yz2QF7RNzD/LPZAXtE3MP8s9kBe0Tcw/yz2QF7RNzD/LPZAXtE3MP8s9kBe0Tcw/yz2QF7RNzD/LPZAXtE3MP4M0hMHbSMw/EqXU9BoXzD9xXYhP5HbLP3FdiE/kdss/sPKcLtX2yj+w8pwu1fbKP1oQmQ3eErg/4T4KxKNQsT89WjBRmZ+UP3WzjhAhbIE/KdyuVNQweD/HCzNlPeJxP+xRuuY3lmA/PQrX6shg/j49CtfqyGD+Pj0K1+rIYP4+PQrX6shg/j49CtfqyGD+Pj0K1+rIYP4+PQrX6shg/j49CtfqyGD+Pj0K1+rIYP4+",
          "dtype": "f8"
         }
        },
        {
         "customdata": {
          "bdata": "AAAAAABAn0AAAAAAAECfQAAAAAAAQJ9AAAAAAABAn0AAAAAAAECfQAAAAAAAQJ9AAAAAAABAn0AAAAAAAECfQAAAAAAAQJ9AAAAAAABAn0AAAAAAAECfQAAAAAAAQJ9AAAAAAABAn0AAAAAAAECfQAAAAAAAQJ9AAAAAAABAn0AAAAAAAECfQAAAAAAAQJ9AAAAAAABAn0AAAAAAAECfQAAAAAAAQJ9AAAAAAABAn0AAAAAAAECfQAAAAAAAQJ9AAAAAAABAn0AAAAAAAECfQAAAAAAAQJ9AAAAAAABAn0AAAAAAAECfQAAAAAAAQJ9AAAAAAABAn0AAAAAAAECfQAAAAAAAQJ9AAAAAAABAn0AAAAAAAECfQAAAAAAAQJ9AAAAAAABAn0AAAAAAAECfQAAAAAAAQJ9AAAAAAABAn0AAAAAAAECfQAAAAAAAQJ9AAAAAAABAn0AAAAAAAECfQAAAAAAAQJ9AAAAAAABAn0AAAAAAAECfQAAAAAAAQJ9A",
          "dtype": "f8",
          "shape": "48, 1"
         },
         "hovertemplate": "<b>Time Step:</b> %{x}<br><b>Budget Left Ratio:</b> %{y:.3f}<br><b>Budget:</b> %{customdata[0]:.0f}<br><extra></extra>",
         "line": {
          "color": "rgb(49, 54, 149)",
          "width": 1.5
         },
         "mode": "lines",
         "opacity": 0.35,
         "showlegend": false,
         "type": "scatter",
         "x": {
          "bdata": "AAECAwQFBgcICQoLDA0ODxAREhMUFRYXGBkaGxwdHh8gISIjJCUmJygpKissLS4v",
          "dtype": "i1"
         },
         "y": {
          "bdata": "AAAAAAAA8D8AAAAAAADwPwAAAAAAAPA/AAAAAAAA8D853tkhnv/vPzne2SGe/+8/Od7ZIZ7/7z853tkhnv/vPzne2SGe/+8/Od7ZIZ7/7z853tkhnv/vPzne2SGe/+8/Od7ZIZ7/7z853tkhnv/vPzne2SGe/+8/Od7ZIZ7/7z853tkhnv/vPzne2SGe/+8/Od7ZIZ7/7z853tkhnv/vP0eKpy1M/+8/cUIzBtn57z9xQjMG2fnvP7vEK4PC8u8/aGzAVucW7j+TbI8edELnPxbh0iG0WeQ/jpNyaA434T8/VZglmNvdPxQKXxVTCtw/iWSPRIZh2D87mqufoh3WP5wTnBRLltU//lSzZ8JH0z9z0cUe+oDQPynwJioMecQ/wUgK0HddwT9WhrDsIlK6PwQ2sqeR4bc/NRq8/K+wtD/dFHF9rsyjP39qvESuUpU+f2q8RK5SlT5/arxErlKVPn9qvESuUpU+f2q8RK5SlT5/arxErlKVPn9qvESuUpU+",
          "dtype": "f8"
         }
        },
        {
         "customdata": {
          "bdata": "AAAAAABAn0AAAAAAAECfQAAAAAAAQJ9AAAAAAABAn0AAAAAAAECfQAAAAAAAQJ9AAAAAAABAn0AAAAAAAECfQAAAAAAAQJ9AAAAAAABAn0AAAAAAAECfQAAAAAAAQJ9AAAAAAABAn0AAAAAAAECfQAAAAAAAQJ9AAAAAAABAn0AAAAAAAECfQAAAAAAAQJ9AAAAAAABAn0AAAAAAAECfQAAAAAAAQJ9AAAAAAABAn0AAAAAAAECfQAAAAAAAQJ9AAAAAAABAn0AAAAAAAECfQAAAAAAAQJ9AAAAAAABAn0AAAAAAAECfQAAAAAAAQJ9AAAAAAABAn0AAAAAAAECfQAAAAAAAQJ9AAAAAAABAn0AAAAAAAECfQAAAAAAAQJ9AAAAAAABAn0AAAAAAAECfQAAAAAAAQJ9AAAAAAABAn0AAAAAAAECfQAAAAAAAQJ9AAAAAAABAn0AAAAAAAECfQAAAAAAAQJ9AAAAAAABAn0AAAAAAAECfQAAAAAAAQJ9A",
          "dtype": "f8",
          "shape": "48, 1"
         },
         "hovertemplate": "<b>Time Step:</b> %{x}<br><b>Budget Left Ratio:</b> %{y:.3f}<br><b>Budget:</b> %{customdata[0]:.0f}<br><extra></extra>",
         "line": {
          "color": "rgb(49, 54, 149)",
          "width": 1.5
         },
         "mode": "lines",
         "opacity": 0.35,
         "showlegend": false,
         "type": "scatter",
         "x": {
          "bdata": "AAECAwQFBgcICQoLDA0ODxAREhMUFRYXGBkaGxwdHh8gISIjJCUmJygpKissLS4v",
          "dtype": "i1"
         },
         "y": {
          "bdata": "AAAAAAAA8D8AAAAAAADwPwAAAAAAAPA/AAAAAAAA8D8AAAAAAADwPwAAAAAAAPA/AAAAAAAA8D8AAAAAAADwPwAAAAAAAPA/AAAAAAAA8D8AAAAAAADwPwAAAAAAAPA/AAAAAAAA8D8AAAAAAADwPwAAAAAAAPA/AAAAAAAA8D8AAAAAAADwP8/m1BDE9e8/t9mu32v17z9xpEEibM3vP1MJHsVnze4/5REt5Bg77T9tRb/006zqP3LnS+3PH+c/E2XCjszC5j/J3dbzxY3mP+FooLzsfOU/rCF/NoPD4T943QzUUlbhP/AzUCGTuOA/1xOevXkT4D8n77ZovQ/dP3eODjfZB90/LROkdj2k3D8zzX8+pGfcP38KPQXq+9s/cwhRoiJC2z+Jqmn5K93UP5avceoCQNI/g/92HOPP0D/pDPzC06nQP3/6oJ6LYdA/9AEPzoyayD8KFxim6GS5P1zXQhhdg7Y/8F+b8v7TqD9WfgHvMIabP57vp3MAkvY+",
          "dtype": "f8"
         }
        },
        {
         "customdata": {
          "bdata": "AAAAAAD4oUAAAAAAAPihQAAAAAAA+KFAAAAAAAD4oUAAAAAAAPihQAAAAAAA+KFAAAAAAAD4oUAAAAAAAPihQAAAAAAA+KFAAAAAAAD4oUAAAAAAAPihQAAAAAAA+KFAAAAAAAD4oUAAAAAAAPihQAAAAAAA+KFAAAAAAAD4oUAAAAAAAPihQAAAAAAA+KFAAAAAAAD4oUAAAAAAAPihQAAAAAAA+KFAAAAAAAD4oUAAAAAAAPihQAAAAAAA+KFAAAAAAAD4oUAAAAAAAPihQAAAAAAA+KFAAAAAAAD4oUAAAAAAAPihQAAAAAAA+KFAAAAAAAD4oUAAAAAAAPihQAAAAAAA+KFAAAAAAAD4oUAAAAAAAPihQAAAAAAA+KFAAAAAAAD4oUAAAAAAAPihQAAAAAAA+KFAAAAAAAD4oUAAAAAAAPihQAAAAAAA+KFAAAAAAAD4oUAAAAAAAPihQAAAAAAA+KFAAAAAAAD4oUAAAAAAAPihQAAAAAAA+KFA",
          "dtype": "f8",
          "shape": "48, 1"
         },
         "hovertemplate": "<b>Time Step:</b> %{x}<br><b>Budget Left Ratio:</b> %{y:.3f}<br><b>Budget:</b> %{customdata[0]:.0f}<br><extra></extra>",
         "line": {
          "color": "rgb(71, 120, 182)",
          "width": 1.5
         },
         "mode": "lines",
         "opacity": 0.35,
         "showlegend": false,
         "type": "scatter",
         "x": {
          "bdata": "AAECAwQFBgcICQoLDA0ODxAREhMUFRYXGBkaGxwdHh8gISIjJCUmJygpKissLS4v",
          "dtype": "i1"
         },
         "y": {
          "bdata": "+qYcXWGo7z+cq5VCZZbvPxQVhl/ngu8/vGvVZ6V+7z9NbSKE8GTvP8TUutDoW+8/mjVbJDJX7z8DA8r3elXvPwMDyvd6Ve8/AwPK93pV7z8DA8r3elXvPwMDyvd6Ve8/AwPK93pV7z8DA8r3elXvPwMDyvd6Ve8/AwPK93pV7z8DA8r3elXvPwMDyvd6Ve8/AwPK93pV7z8DA8r3elXvPwMDyvd6Ve8/AwPK93pV7z8DA8r3elXvPwMDyvd6Ve8/AwPK93pV7z8DA8r3elXvPwMDyvd6Ve8/AwPK93pV7z8DA8r3elXvPwMDyvd6Ve8/AwPK93pV7z8DA8r3elXvP7ySlcPnS+8/xW8yYhrq7j9guI5j0S7uP4lc4TqwIu4/DIMiXFmZ7T+/kByKJpLsP2b0E0CCpes/iKsCI/nc5z97wCK6DtTiP9DDa4m/Uts/VMwUhFGU0D/J4wR3NAfEP3nPPION850/ftstSdCW+D5+2y1J0Jb4Pn7bLUnQlvg+",
          "dtype": "f8"
         }
        },
        {
         "customdata": {
          "bdata": "AAAAAACopkAAAAAAAKimQAAAAAAAqKZAAAAAAACopkAAAAAAAKimQAAAAAAAqKZAAAAAAACopkAAAAAAAKimQAAAAAAAqKZAAAAAAACopkAAAAAAAKimQAAAAAAAqKZAAAAAAACopkAAAAAAAKimQAAAAAAAqKZAAAAAAACopkAAAAAAAKimQAAAAAAAqKZAAAAAAACopkAAAAAAAKimQAAAAAAAqKZAAAAAAACopkAAAAAAAKimQAAAAAAAqKZAAAAAAACopkAAAAAAAKimQAAAAAAAqKZAAAAAAACopkAAAAAAAKimQAAAAAAAqKZAAAAAAACopkAAAAAAAKimQAAAAAAAqKZAAAAAAACopkAAAAAAAKimQAAAAAAAqKZAAAAAAACopkAAAAAAAKimQAAAAAAAqKZAAAAAAACopkAAAAAAAKimQAAAAAAAqKZAAAAAAACopkAAAAAAAKimQAAAAAAAqKZAAAAAAACopkAAAAAAAKimQAAAAAAAqKZA",
          "dtype": "f8",
          "shape": "48, 1"
         },
         "hovertemplate": "<b>Time Step:</b> %{x}<br><b>Budget Left Ratio:</b> %{y:.3f}<br><b>Budget:</b> %{customdata[0]:.0f}<br><extra></extra>",
         "line": {
          "color": "rgb(179, 221, 235)",
          "width": 1.5
         },
         "mode": "lines",
         "opacity": 0.35,
         "showlegend": false,
         "type": "scatter",
         "x": {
          "bdata": "AAECAwQFBgcICQoLDA0ODxAREhMUFRYXGBkaGxwdHh8gISIjJCUmJygpKissLS4v",
          "dtype": "i1"
         },
         "y": {
          "bdata": "geSZK3n/7z9RRrwlJfvvP/0sDGcb5O8/wmJHnL7b7z+ECl7RasnvP9ZnqP7syO8/uvwdpaXI7z8bHJUVBcbvPxsclRUFxu8/LG8o35vE7z96LjM5xcHvP+V4puSUvu8/Nk4M6Ry97z+QLYhCn7fvPw499cXKse8/UPkGLRyr7z9Q+QYtHKvvP1D5Bi0cq+8/UPkGLRyr7z9R7zZ9eqnvPw0DBUqNn+8/ALy/pTyb7z92IZ9eBXrvP5zLxfmdSu8/AMu2iXy96z8ssugZ57nnP2avPgVmfuM/jCW+SSwu4D9el8m5yl3aP6DQJJjqw9U/jmOuWF5r0D+jt/ycrtXGP6jR4yC7W8Y/JatEb9pRwD86DEpAIya6PyTP+lkV8bQ/seINUrHgsD9sFsalt1GmPx+LntsWw+s+H4ue2xbD6z4fi57bFsPrPh+LntsWw+s+H4ue2xbD6z4fi57bFsPrPh+LntsWw+s+H4ue2xbD6z4fi57bFsPrPh+LntsWw+s+",
          "dtype": "f8"
         }
        },
        {
         "customdata": {
          "bdata": "AAAAAAAqskAAAAAAACqyQAAAAAAAKrJAAAAAAAAqskAAAAAAACqyQAAAAAAAKrJAAAAAAAAqskAAAAAAACqyQAAAAAAAKrJAAAAAAAAqskAAAAAAACqyQAAAAAAAKrJAAAAAAAAqskAAAAAAACqyQAAAAAAAKrJAAAAAAAAqskAAAAAAACqyQAAAAAAAKrJAAAAAAAAqskAAAAAAACqyQAAAAAAAKrJAAAAAAAAqskAAAAAAACqyQAAAAAAAKrJAAAAAAAAqskAAAAAAACqyQAAAAAAAKrJAAAAAAAAqskAAAAAAACqyQAAAAAAAKrJAAAAAAAAqskAAAAAAACqyQAAAAAAAKrJAAAAAAAAqskAAAAAAACqyQAAAAAAAKrJAAAAAAAAqskAAAAAAACqyQAAAAAAAKrJAAAAAAAAqskAAAAAAACqyQAAAAAAAKrJAAAAAAAAqskAAAAAAACqyQAAAAAAAKrJAAAAAAAAqskAAAAAAACqyQAAAAAAAKrJA",
          "dtype": "f8",
          "shape": "48, 1"
         },
         "hovertemplate": "<b>Time Step:</b> %{x}<br><b>Budget Left Ratio:</b> %{y:.3f}<br><b>Budget:</b> %{customdata[0]:.0f}<br><extra></extra>",
         "line": {
          "color": "rgb(200, 34, 39)",
          "width": 1.5
         },
         "mode": "lines",
         "opacity": 0.35,
         "showlegend": false,
         "type": "scatter",
         "x": {
          "bdata": "AAECAwQFBgcICQoLDA0ODxAREhMUFRYXGBkaGxwdHh8gISIjJCUmJygpKissLS4v",
          "dtype": "i1"
         },
         "y": {
          "bdata": "9us1Vkv/7z/fUgoqUf3vP99SCipR/e8/KAEt3t/87z8oAS3e3/zvPzDWQMrr++8/lzes2Iz77z+XN6zYjPvvP5c3rNiM++8/lzes2Iz77z+XN6zYjPvvP+l8ialk++8/6XyJqWT77z9+lIq6dfrvP0w9Ej0i9+8/eigFi+Lx7z96KAWL4vHvP3/XrRc/8e8/YlsnPfzw7z+Eo6HRqujvPwBp6T601u8/+3Xxjgyx7z9CAa796qTvP2jW3F2WJ+8/rj2TTTr07D/ApmpECX/rPybXPzWyQOg/u8KbwEBC5T/iayQ1esrjP8QmGTdXN+I/fEdOJXkg4D/H5HkCPmvcP15vX5l1rNk/GnQw8hUM2D/T6Aj2NknWP7KHBr1z1tM/YsVgC+ZC0j9bQnhe8wrRP/6p2H4peM8/X9oesLlDzT/FekPccC7KP1u3CFUaxsM//22LYD7Twj9R12CPNuCyPyPx9ANFQKU/HVVhBjtmlz9KZqPkxWbMPkpmo+TFZsw+",
          "dtype": "f8"
         }
        },
        {
         "customdata": {
          "bdata": "AAAAAABisUAAAAAAAGKxQAAAAAAAYrFAAAAAAABisUAAAAAAAGKxQAAAAAAAYrFAAAAAAABisUAAAAAAAGKxQAAAAAAAYrFAAAAAAABisUAAAAAAAGKxQAAAAAAAYrFAAAAAAABisUAAAAAAAGKxQAAAAAAAYrFAAAAAAABisUAAAAAAAGKxQAAAAAAAYrFAAAAAAABisUAAAAAAAGKxQAAAAAAAYrFAAAAAAABisUAAAAAAAGKxQAAAAAAAYrFAAAAAAABisUAAAAAAAGKxQAAAAAAAYrFAAAAAAABisUAAAAAAAGKxQAAAAAAAYrFAAAAAAABisUAAAAAAAGKxQAAAAAAAYrFAAAAAAABisUAAAAAAAGKxQAAAAAAAYrFAAAAAAABisUAAAAAAAGKxQAAAAAAAYrFAAAAAAABisUAAAAAAAGKxQAAAAAAAYrFAAAAAAABisUAAAAAAAGKxQAAAAAAAYrFAAAAAAABisUAAAAAAAGKxQAAAAAAAYrFA",
          "dtype": "f8",
          "shape": "48, 1"
         },
         "hovertemplate": "<b>Time Step:</b> %{x}<br><b>Budget Left Ratio:</b> %{y:.3f}<br><b>Budget:</b> %{customdata[0]:.0f}<br><extra></extra>",
         "line": {
          "color": "rgb(227, 73, 50)",
          "width": 1.5
         },
         "mode": "lines",
         "opacity": 0.35,
         "showlegend": false,
         "type": "scatter",
         "x": {
          "bdata": "AAECAwQFBgcICQoLDA0ODxAREhMUFRYXGBkaGxwdHh8gISIjJCUmJygpKissLS4v",
          "dtype": "i1"
         },
         "y": {
          "bdata": "AAAAAAAA8D8AAAAAAADwPwAAAAAAAPA/AAAAAAAA8D8AAAAAAADwPwAAAAAAAPA/AAAAAAAA8D8AAAAAAADwPwAAAAAAAPA/AAAAAAAA8D+RkVPln//vP5GRU+Wf/+8/Z8OYpbzH7z+atFo5YrrvP1NOXkl1b+8/QOdYdUK+7j9A51h1Qr7uP0DnWHVCvu4/QOdYdUK+7j9A51h1Qr7uP0DnWHVCvu4/QOdYdUK+7j9A51h1Qr7uP0DnWHVCvu4/di2GdvES7D+eggxMcCXqP6y4u8gSuec/5iLxY1y55D+fTycjNgDiPy29TwHk+N8/hWvtSdLd2z9lXu1S43zYP1O8PqDa59c/McmpiJ/C1z/nvA6gAKXWP6vBV2Qbb9Y/aKeew4sX1T928N7wCI3TP7nWQtiZfNE/xHvgDGIv0D8C0PViFXPIP1+CknteBMQ/glRtpIBevj+Y5fg/nf+zPyAKDTnNIaA/CQEnfc/nyz4JASd9z+fLPgkBJ33P58s+",
          "dtype": "f8"
         }
        },
        {
         "customdata": {
          "bdata": "AAAAAAAYpUAAAAAAABilQAAAAAAAGKVAAAAAAAAYpUAAAAAAABilQAAAAAAAGKVAAAAAAAAYpUAAAAAAABilQAAAAAAAGKVAAAAAAAAYpUAAAAAAABilQAAAAAAAGKVAAAAAAAAYpUAAAAAAABilQAAAAAAAGKVAAAAAAAAYpUAAAAAAABilQAAAAAAAGKVAAAAAAAAYpUAAAAAAABilQAAAAAAAGKVAAAAAAAAYpUAAAAAAABilQAAAAAAAGKVAAAAAAAAYpUAAAAAAABilQAAAAAAAGKVAAAAAAAAYpUAAAAAAABilQAAAAAAAGKVAAAAAAAAYpUAAAAAAABilQAAAAAAAGKVAAAAAAAAYpUAAAAAAABilQAAAAAAAGKVAAAAAAAAYpUAAAAAAABilQAAAAAAAGKVAAAAAAAAYpUAAAAAAABilQAAAAAAAGKVAAAAAAAAYpUAAAAAAABilQAAAAAAAGKVAAAAAAAAYpUAAAAAAABilQAAAAAAAGKVA",
          "dtype": "f8",
          "shape": "48, 1"
         },
         "hovertemplate": "<b>Time Step:</b> %{x}<br><b>Budget Left Ratio:</b> %{y:.3f}<br><b>Budget:</b> %{customdata[0]:.0f}<br><extra></extra>",
         "line": {
          "color": "rgb(141, 193, 220)",
          "width": 1.5
         },
         "mode": "lines",
         "opacity": 0.35,
         "showlegend": false,
         "type": "scatter",
         "x": {
          "bdata": "AAECAwQFBgcICQoLDA0ODxAREhMUFRYXGBkaGxwdHh8gISIjJCUmJygpKissLS4v",
          "dtype": "i1"
         },
         "y": {
          "bdata": "AAAAAAAA8D8AAAAAAADwPwAAAAAAAPA/AAAAAAAA8D8AAAAAAADwPwAAAAAAAPA/AAAAAAAA8D8AAAAAAADwPwAAAAAAAPA/AAAAAAAA8D8AAAAAAADwPwAAAAAAAPA/AAAAAAAA8D8AAAAAAADwPwAAAAAAAPA/AAAAAAAA8D/qpPdkC//vPzjYJMHm/e8/IWTlqDD97z9piv7pSrfvP5v2L41Sl+8/CK4VTuSC7z/sVU23+gzvP1XVR44xO+4/VdVHjjE77j9V1UeOMTvuP1XVR44xO+4/VdVHjjE77j9jzRRLOjruP4GxdKsMOe4/OyTm0zE27j8c67MYYDPuPxhqP+fqous/G4OnuLp05z/OSilNqTfkPyw9OsF6FuE/fLfFUuaF3j+J8h7LMS/aP0mo8CT6QdU/kKW0XELV0j9ICtheIjDRP2dweXL08sI/ya/kKd//oT/3ku1lDpKaP0YNf/3r5/w+Rg1//evn/D5GDX/96+f8PkYNf/3r5/w+",
          "dtype": "f8"
         }
        },
        {
         "customdata": {
          "bdata": "AAAAAAAqskAAAAAAACqyQAAAAAAAKrJAAAAAAAAqskAAAAAAACqyQAAAAAAAKrJAAAAAAAAqskAAAAAAACqyQAAAAAAAKrJAAAAAAAAqskAAAAAAACqyQAAAAAAAKrJAAAAAAAAqskAAAAAAACqyQAAAAAAAKrJAAAAAAAAqskAAAAAAACqyQAAAAAAAKrJAAAAAAAAqskAAAAAAACqyQAAAAAAAKrJAAAAAAAAqskAAAAAAACqyQAAAAAAAKrJAAAAAAAAqskAAAAAAACqyQAAAAAAAKrJAAAAAAAAqskAAAAAAACqyQAAAAAAAKrJAAAAAAAAqskAAAAAAACqyQAAAAAAAKrJAAAAAAAAqskAAAAAAACqyQAAAAAAAKrJAAAAAAAAqskAAAAAAACqyQAAAAAAAKrJAAAAAAAAqskAAAAAAACqyQAAAAAAAKrJAAAAAAAAqskAAAAAAACqyQAAAAAAAKrJAAAAAAAAqskAAAAAAACqyQAAAAAAAKrJA",
          "dtype": "f8",
          "shape": "48, 1"
         },
         "hovertemplate": "<b>Time Step:</b> %{x}<br><b>Budget Left Ratio:</b> %{y:.3f}<br><b>Budget:</b> %{customdata[0]:.0f}<br><extra></extra>",
         "line": {
          "color": "rgb(200, 34, 39)",
          "width": 1.5
         },
         "mode": "lines",
         "opacity": 0.35,
         "showlegend": false,
         "type": "scatter",
         "x": {
          "bdata": "AAECAwQFBgcICQoLDA0ODxAREhMUFRYXGBkaGxwdHh8gISIjJCUmJygpKissLS4v",
          "dtype": "i1"
         },
         "y": {
          "bdata": "AAAAAAAA8D8AAAAAAADwPwAAAAAAAPA/AAAAAAAA8D8AAAAAAADwPwAAAAAAAPA/AAAAAAAA8D8AAAAAAADwPxnCdWSF5e8/EtjbmXin7z8P/CcLqSXvPwkyeyn2Ee0/pKr8UBmp6z/TQDhuP8PqP0RSMWag2+g/ylv75zR55j85xomzZFrmP5up7IfRfeU/2ZQXc9pC5T+B5/h9zNTkP0H2pbJtVOM/ujesV62y4j/6SdHSBQziPyLDNy9nCeE//qkDwkpW3j+bwEnIUaDaPzzz5iUxwdY/md6xAxhF1D+mcnPdZ2HSP8w7tyWqw9A/WfKW6ApIzT9Y4MXsBDXLP+IVCLWOMss/RUKTpEIJyz8SeD7BYpbKP52ZRXoWPMo/mMZ5Lz0cyj/r9sKsMPLGP6yaMIZgFsE/BUejQg01vj8FR6NCDTW+PwVHo0INNb4/BUejQg01vj8FR6NCDTW+P1DRUbD8M74/KPtD13Mzvj/k/8Myjiu+P76D+KZUJ74/",
          "dtype": "f8"
         }
        },
        {
         "customdata": {
          "bdata": "AAAAAAAYpUAAAAAAABilQAAAAAAAGKVAAAAAAAAYpUAAAAAAABilQAAAAAAAGKVAAAAAAAAYpUAAAAAAABilQAAAAAAAGKVAAAAAAAAYpUAAAAAAABilQAAAAAAAGKVAAAAAAAAYpUAAAAAAABilQAAAAAAAGKVAAAAAAAAYpUAAAAAAABilQAAAAAAAGKVAAAAAAAAYpUAAAAAAABilQAAAAAAAGKVAAAAAAAAYpUAAAAAAABilQAAAAAAAGKVAAAAAAAAYpUAAAAAAABilQAAAAAAAGKVAAAAAAAAYpUAAAAAAABilQAAAAAAAGKVAAAAAAAAYpUAAAAAAABilQAAAAAAAGKVAAAAAAAAYpUAAAAAAABilQAAAAAAAGKVAAAAAAAAYpUAAAAAAABilQAAAAAAAGKVAAAAAAAAYpUAAAAAAABilQAAAAAAAGKVAAAAAAAAYpUAAAAAAABilQAAAAAAAGKVAAAAAAAAYpUAAAAAAABilQAAAAAAAGKVA",
          "dtype": "f8",
          "shape": "48, 1"
         },
         "hovertemplate": "<b>Time Step:</b> %{x}<br><b>Budget Left Ratio:</b> %{y:.3f}<br><b>Budget:</b> %{customdata[0]:.0f}<br><extra></extra>",
         "line": {
          "color": "rgb(141, 193, 220)",
          "width": 1.5
         },
         "mode": "lines",
         "opacity": 0.35,
         "showlegend": false,
         "type": "scatter",
         "x": {
          "bdata": "AAECAwQFBgcICQoLDA0ODxAREhMUFRYXGBkaGxwdHh8gISIjJCUmJygpKissLS4v",
          "dtype": "i1"
         },
         "y": {
          "bdata": "AAAAAAAA8D8AAAAAAADwPwAAAAAAAPA/AAAAAAAA8D8AAAAAAADwPwAAAAAAAPA/AAAAAAAA8D8AAAAAAADwPwAAAAAAAPA/AAAAAAAA8D8AAAAAAADwPwAAAAAAAPA/AAAAAAAA8D8AAAAAAADwPwAAAAAAAPA/AAAAAAAA8D8bjtkUQ6TuP4vfo/Ixbeo/ypYX6Hq35D8SgjjyksLiP27O1BMC9dk/7KEDYENKyz+PYihcrpCxP47jrWQew6A/juOtZB7DoD+O461kHsOgP47jrWQew6A/juOtZB7DoD+O461kHsOgP47jrWQew6A/juOtZB7DoD+O461kHsOgP4K4EZqojKA/yw5Qk0xmoD9fN9GnbmeRP7O4uTf5sok/nwoWuOcOiT9z8AzWdqF/P/uZNNdGTnk/cT0SxJt2eD9xPRLEm3Z4P3E9EsSbdng/cT0SxJt2eD87V6yQ55t3PyeTZtXPIXc/BzqD7elUdj9toPMBVXl1P0YNgyARnnI/",
          "dtype": "f8"
         }
        },
        {
         "customdata": {
          "bdata": "AAAAAADAokAAAAAAAMCiQAAAAAAAwKJAAAAAAADAokAAAAAAAMCiQAAAAAAAwKJAAAAAAADAokAAAAAAAMCiQAAAAAAAwKJAAAAAAADAokAAAAAAAMCiQAAAAAAAwKJAAAAAAADAokAAAAAAAMCiQAAAAAAAwKJAAAAAAADAokAAAAAAAMCiQAAAAAAAwKJAAAAAAADAokAAAAAAAMCiQAAAAAAAwKJAAAAAAADAokAAAAAAAMCiQAAAAAAAwKJAAAAAAADAokAAAAAAAMCiQAAAAAAAwKJAAAAAAADAokAAAAAAAMCiQAAAAAAAwKJAAAAAAADAokAAAAAAAMCiQAAAAAAAwKJAAAAAAADAokAAAAAAAMCiQAAAAAAAwKJAAAAAAADAokAAAAAAAMCiQAAAAAAAwKJAAAAAAADAokAAAAAAAMCiQAAAAAAAwKJAAAAAAADAokAAAAAAAMCiQAAAAAAAwKJAAAAAAADAokAAAAAAAMCiQAAAAAAAwKJA",
          "dtype": "f8",
          "shape": "48, 1"
         },
         "hovertemplate": "<b>Time Step:</b> %{x}<br><b>Budget Left Ratio:</b> %{y:.3f}<br><b>Budget:</b> %{customdata[0]:.0f}<br><extra></extra>",
         "line": {
          "color": "rgb(88, 140, 192)",
          "width": 1.5
         },
         "mode": "lines",
         "opacity": 0.35,
         "showlegend": false,
         "type": "scatter",
         "x": {
          "bdata": "AAECAwQFBgcICQoLDA0ODxAREhMUFRYXGBkaGxwdHh8gISIjJCUmJygpKissLS4v",
          "dtype": "i1"
         },
         "y": {
          "bdata": "AAAAAAAA8D8AAAAAAADwPwAAAAAAAPA/AAAAAAAA8D8AAAAAAADwPwAAAAAAAPA/AAAAAAAA8D8AAAAAAADwP+aE74yh/e8/3MHFjOTx7z8WLYSrDrzvP6bzICd0nu8/4KMQjuAy7z+iQ+rOxAfvP0Y7B77SY+4/sz2DTxgr7j+zPYNPGCvuP7M9g08YK+4/sz2DTxgr7j+zPYNPGCvuP9SFuHeIKu4/1IW4d4gq7j8axgJHTijuP1qfPmydAe4/Wp8+bJ0B7j9anz5snQHuP1qfPmydAe4/Wp8+bJ0B7j9anz5snQHuP1qfPmydAe4/Wp8+bJ0B7j9anz5snQHuPw5DRRrRO+w/s6GUwRTv6z8bC7ex3HHpP6bEmvqlJuc/B1cxNTwW5j/gagOr0ejkP6xqzvHriOM/fcYpEdtu4T/gGkVA12zhPxU1WNQLbOE/4UHtRnOq3T/hZZ0ddVLXPyzJA1vqY8U/gv6wTc7+oT+W/NRMzh6SP2PJL95F1tk+",
          "dtype": "f8"
         }
        },
        {
         "customdata": {
          "bdata": "AAAAAADgpUAAAAAAAOClQAAAAAAA4KVAAAAAAADgpUAAAAAAAOClQAAAAAAA4KVAAAAAAADgpUAAAAAAAOClQAAAAAAA4KVAAAAAAADgpUAAAAAAAOClQAAAAAAA4KVAAAAAAADgpUAAAAAAAOClQAAAAAAA4KVAAAAAAADgpUAAAAAAAOClQAAAAAAA4KVAAAAAAADgpUAAAAAAAOClQAAAAAAA4KVAAAAAAADgpUAAAAAAAOClQAAAAAAA4KVAAAAAAADgpUAAAAAAAOClQAAAAAAA4KVAAAAAAADgpUAAAAAAAOClQAAAAAAA4KVAAAAAAADgpUAAAAAAAOClQAAAAAAA4KVAAAAAAADgpUAAAAAAAOClQAAAAAAA4KVAAAAAAADgpUAAAAAAAOClQAAAAAAA4KVAAAAAAADgpUAAAAAAAOClQAAAAAAA4KVAAAAAAADgpUAAAAAAAOClQAAAAAAA4KVAAAAAAADgpUAAAAAAAOClQAAAAAAA4KVA",
          "dtype": "f8",
          "shape": "48, 1"
         },
         "hovertemplate": "<b>Time Step:</b> %{x}<br><b>Budget Left Ratio:</b> %{y:.3f}<br><b>Budget:</b> %{customdata[0]:.0f}<br><extra></extra>",
         "line": {
          "color": "rgb(160, 209, 228)",
          "width": 1.5
         },
         "mode": "lines",
         "opacity": 0.35,
         "showlegend": false,
         "type": "scatter",
         "x": {
          "bdata": "AAECAwQFBgcICQoLDA0ODxAREhMUFRYXGBkaGxwdHh8gISIjJCUmJygpKissLS4v",
          "dtype": "i1"
         },
         "y": {
          "bdata": "AAAAAAAA8D8AAAAAAADwPwAAAAAAAPA/AAAAAAAA8D8AAAAAAADwPwAAAAAAAPA/AAAAAAAA8D8AAAAAAADwPwAAAAAAAPA/AAAAAAAA8D/20feHrf/vPwo1Xhj//u8/kZX9SZH97z8mnQdSuvzvP+zhbwYG8e8/xcbnAizG7z/FxucCLMbvP8XG5wIsxu8/xcbnAizG7z/FxucCLMbvP8XG5wIsxu8/xcbnAizG7z/FxucCLMbvP8XG5wIsxu8/hP39ixW/7z+KYuXwLjvtP/lCKd2cGe0/SEtWv1Dy7D81G92VyQTsP/zuP2Mb5uk/3ZAkHGaC6D8KDoyROOfnP9H9GWFDPec/kg+7ZuUJ5z+Ee36tJrjlP96rbxmuLOU/4Wh2u8uK5D/ZJWF0sW3jP8xjkbNFbuI/3VLgomSZ4D/27ldCTrLfP8ucd7aFeN4/FhaAnogh1z/eaqCgGIHSP1AvLFzW+8Y/peEuoWahvT81PIP9t9+0PwyITWVRIak+",
          "dtype": "f8"
         }
        },
        {
         "customdata": {
          "bdata": "AAAAAABAn0AAAAAAAECfQAAAAAAAQJ9AAAAAAABAn0AAAAAAAECfQAAAAAAAQJ9AAAAAAABAn0AAAAAAAECfQAAAAAAAQJ9AAAAAAABAn0AAAAAAAECfQAAAAAAAQJ9AAAAAAABAn0AAAAAAAECfQAAAAAAAQJ9AAAAAAABAn0AAAAAAAECfQAAAAAAAQJ9AAAAAAABAn0AAAAAAAECfQAAAAAAAQJ9AAAAAAABAn0AAAAAAAECfQAAAAAAAQJ9AAAAAAABAn0AAAAAAAECfQAAAAAAAQJ9AAAAAAABAn0AAAAAAAECfQAAAAAAAQJ9AAAAAAABAn0AAAAAAAECfQAAAAAAAQJ9AAAAAAABAn0AAAAAAAECfQAAAAAAAQJ9AAAAAAABAn0AAAAAAAECfQAAAAAAAQJ9AAAAAAABAn0AAAAAAAECfQAAAAAAAQJ9AAAAAAABAn0AAAAAAAECfQAAAAAAAQJ9AAAAAAABAn0AAAAAAAECfQAAAAAAAQJ9A",
          "dtype": "f8",
          "shape": "48, 1"
         },
         "hovertemplate": "<b>Time Step:</b> %{x}<br><b>Budget Left Ratio:</b> %{y:.3f}<br><b>Budget:</b> %{customdata[0]:.0f}<br><extra></extra>",
         "line": {
          "color": "rgb(49, 54, 149)",
          "width": 1.5
         },
         "mode": "lines",
         "opacity": 0.35,
         "showlegend": false,
         "type": "scatter",
         "x": {
          "bdata": "AAECAwQFBgcICQoLDA0ODxAREhMUFRYXGBkaGxwdHh8gISIjJCUmJygpKissLS4v",
          "dtype": "i1"
         },
         "y": {
          "bdata": "AAAAAAAA8D8AAAAAAADwPwAAAAAAAPA/AAAAAAAA8D8AAAAAAADwPwAAAAAAAPA/AAAAAAAA8D8AAAAAAADwPyrQdlv/4+8/PU7FBNqZ7z94znRwRoPvPwZfB6Y6zu4/4sbGh2UW7T9i7ApQLJ3rP10LGqjjmeo/G1qBYWZs6T8kggOxY2vpPwcv3dQMJ+k/25T9on6N6D/vggjSemDoPyPfzivWDOc/8Oo65hdY5j+6H9hPF6DlP+7DCweoZuU/7vK2m1RQ5T/D6h2ujgDlP1NBcZe5COM/RHLSxlLo4T+OZocKojbgP5NWOH6pndk/WLL4pBAx0D/ZQM0NxUDFP4EvsdCGP8U/j1xDNloyxT9KPPfnMSnFP0o89+cxKcU/UkBX6xTCxD+FW0z4x1LDP8cB6N/vNsA/UJW4UHbOtz9QlbhQds63P1CVuFB2zrc/4QKiU0DFtz/jwZVIfa+3P6bH2F24lLc/zUiybWeytj+qMeIB0sOyP9tp3iq0nLE/",
          "dtype": "f8"
         }
        },
        {
         "customdata": {
          "bdata": "AAAAAABAn0AAAAAAAECfQAAAAAAAQJ9AAAAAAABAn0AAAAAAAECfQAAAAAAAQJ9AAAAAAABAn0AAAAAAAECfQAAAAAAAQJ9AAAAAAABAn0AAAAAAAECfQAAAAAAAQJ9AAAAAAABAn0AAAAAAAECfQAAAAAAAQJ9AAAAAAABAn0AAAAAAAECfQAAAAAAAQJ9AAAAAAABAn0AAAAAAAECfQAAAAAAAQJ9AAAAAAABAn0AAAAAAAECfQAAAAAAAQJ9AAAAAAABAn0AAAAAAAECfQAAAAAAAQJ9AAAAAAABAn0AAAAAAAECfQAAAAAAAQJ9AAAAAAABAn0AAAAAAAECfQAAAAAAAQJ9AAAAAAABAn0AAAAAAAECfQAAAAAAAQJ9AAAAAAABAn0AAAAAAAECfQAAAAAAAQJ9AAAAAAABAn0AAAAAAAECfQAAAAAAAQJ9AAAAAAABAn0AAAAAAAECfQAAAAAAAQJ9AAAAAAABAn0AAAAAAAECfQAAAAAAAQJ9A",
          "dtype": "f8",
          "shape": "48, 1"
         },
         "hovertemplate": "<b>Time Step:</b> %{x}<br><b>Budget Left Ratio:</b> %{y:.3f}<br><b>Budget:</b> %{customdata[0]:.0f}<br><extra></extra>",
         "line": {
          "color": "rgb(49, 54, 149)",
          "width": 1.5
         },
         "mode": "lines",
         "opacity": 0.35,
         "showlegend": false,
         "type": "scatter",
         "x": {
          "bdata": "AAECAwQFBgcICQoLDA0ODxAREhMUFRYXGBkaGxwdHh8gISIjJCUmJygpKissLS4v",
          "dtype": "i1"
         },
         "y": {
          "bdata": "AAAAAAAA8D8AAAAAAADwPwAAAAAAAPA/AAAAAAAA8D8AAAAAAADwPwAAAAAAAPA/AAAAAAAA8D8AAAAAAADwPwAAAAAAAPA/AAAAAAAA8D8AAAAAAADwPwAAAAAAAPA/AAAAAAAA8D8AAAAAAADwPwAAAAAAAPA/AAAAAAAA8D8AAAAAAADwPwAAAAAAAPA/AAAAAAAA8D8AAAAAAADwPwAAAAAAAPA/AAAAAAAA8D8AAAAAAADwPwAAAAAAAPA/AAAAAAAA8D8AAAAAAADwPwAAAAAAAPA/M28aPrr/7z/O9YYUev/vP871hhR6/+8/zvWGFHr/7z+yPjl9Lf/vP0WkeBPd8u8/2FA0Ww/T7z+NLcjK83TvP+FYfloZye4/rBBZF5hN7j9zDohTcbLtPwTkSuIaHe0/5VogSJKl6j97GMqrdajoP1aOTqbajeY/9m/AZnqc4T9qmQU0SJDVP8sNvRrobdA/7vDa7TWlwD8MZoO9FIWzP9nO9+HkCus+",
          "dtype": "f8"
         }
        },
        {
         "customdata": {
          "bdata": "AAAAAACUoUAAAAAAAJShQAAAAAAAlKFAAAAAAACUoUAAAAAAAJShQAAAAAAAlKFAAAAAAACUoUAAAAAAAJShQAAAAAAAlKFAAAAAAACUoUAAAAAAAJShQAAAAAAAlKFAAAAAAACUoUAAAAAAAJShQAAAAAAAlKFAAAAAAACUoUAAAAAAAJShQAAAAAAAlKFAAAAAAACUoUAAAAAAAJShQAAAAAAAlKFAAAAAAACUoUAAAAAAAJShQAAAAAAAlKFAAAAAAACUoUAAAAAAAJShQAAAAAAAlKFAAAAAAACUoUAAAAAAAJShQAAAAAAAlKFAAAAAAACUoUAAAAAAAJShQAAAAAAAlKFAAAAAAACUoUAAAAAAAJShQAAAAAAAlKFAAAAAAACUoUAAAAAAAJShQAAAAAAAlKFAAAAAAACUoUAAAAAAAJShQAAAAAAAlKFAAAAAAACUoUAAAAAAAJShQAAAAAAAlKFAAAAAAACUoUAAAAAAAJShQAAAAAAAlKFA",
          "dtype": "f8",
          "shape": "48, 1"
         },
         "hovertemplate": "<b>Time Step:</b> %{x}<br><b>Budget Left Ratio:</b> %{y:.3f}<br><b>Budget:</b> %{customdata[0]:.0f}<br><extra></extra>",
         "line": {
          "color": "rgb(67, 109, 176)",
          "width": 1.5
         },
         "mode": "lines",
         "opacity": 0.35,
         "showlegend": false,
         "type": "scatter",
         "x": {
          "bdata": "AAECAwQFBgcICQoLDA0ODxAREhMUFRYXGBkaGxwdHh8gISIjJCUmJygpKissLS4v",
          "dtype": "i1"
         },
         "y": {
          "bdata": "UwSEDFn27j+jbB+OkeDuP9kZnyVeyO4/hcvhwzOm7j81MKq7B5ruP3r6FiTIkO4/79Qf9EuI7j9aLtqgL3vuP9meCuvYeu4/2Z4K69h67j/Zngrr2HruP9meCuvYeu4/2Z4K69h67j/Zngrr2HruP9meCuvYeu4/2Z4K69h67j/Zngrr2HruP9meCuvYeu4/2Z4K69h67j/Zngrr2HruP0IOjGSeeu4/Qg6MZJ567j/XYH7WSXXuP6iZaUubcu4/GGyNIZef6z/t2+UMsvjnP4insDt9AOQ/jqqeasE24j8RokJdVfPgP/pWT60vr94/U/fsChN32D8YFtotcuXRPxgW2i1y5dE/wS6jAQXj0T/x3onFnuLRP/HeicWe4tE/AJ4xaDbi0T+b1lHfweHRP6wR2WWU4NE/SFrSnvbe0T/UDISW9sfQP89tiPX3oM4/A+1ZqvWNwT9Z33r4jxagP4J0SE+NdJE/QTowAyzwbj+Qe8091a3gPpB7zT3VreA+",
          "dtype": "f8"
         }
        },
        {
         "customdata": {
          "bdata": "AAAAAADAskAAAAAAAMCyQAAAAAAAwLJAAAAAAADAskAAAAAAAMCyQAAAAAAAwLJAAAAAAADAskAAAAAAAMCyQAAAAAAAwLJAAAAAAADAskAAAAAAAMCyQAAAAAAAwLJAAAAAAADAskAAAAAAAMCyQAAAAAAAwLJAAAAAAADAskAAAAAAAMCyQAAAAAAAwLJAAAAAAADAskAAAAAAAMCyQAAAAAAAwLJAAAAAAADAskAAAAAAAMCyQAAAAAAAwLJAAAAAAADAskAAAAAAAMCyQAAAAAAAwLJAAAAAAADAskAAAAAAAMCyQAAAAAAAwLJAAAAAAADAskAAAAAAAMCyQAAAAAAAwLJAAAAAAADAskAAAAAAAMCyQAAAAAAAwLJAAAAAAADAskAAAAAAAMCyQAAAAAAAwLJAAAAAAADAskAAAAAAAMCyQAAAAAAAwLJAAAAAAADAskAAAAAAAMCyQAAAAAAAwLJAAAAAAADAskAAAAAAAMCyQAAAAAAAwLJA",
          "dtype": "f8",
          "shape": "48, 1"
         },
         "hovertemplate": "<b>Time Step:</b> %{x}<br><b>Budget Left Ratio:</b> %{y:.3f}<br><b>Budget:</b> %{customdata[0]:.0f}<br><extra></extra>",
         "line": {
          "color": "rgb(174, 8, 38)",
          "width": 1.5
         },
         "mode": "lines",
         "opacity": 0.35,
         "showlegend": false,
         "type": "scatter",
         "x": {
          "bdata": "AAECAwQFBgcICQoLDA0ODxAREhMUFRYXGBkaGxwdHh8gISIjJCUmJygpKissLS4v",
          "dtype": "i1"
         },
         "y": {
          "bdata": "AAAAAAAA8D8AAAAAAADwPwAAAAAAAPA/AAAAAAAA8D8AAAAAAADwPwAAAAAAAPA/AAAAAAAA8D8AAAAAAADwPwAAAAAAAPA/AAAAAAAA8D8AAAAAAADwPwAAAAAAAPA/AAAAAAAA8D8AAAAAAADwPwAAAAAAAPA/AAAAAAAA8D8AAAAAAADwPwAAAAAAAPA/AAAAAAAA8D/9QSUCEvfvP/1BJQIS9+8//UElAhL37z+xlf9/GO7vPxjmCuCq6e8/tc4U9m7k7z/lc8K5vuDvP6KtUyLH3u8/UGlyzpvd7z/a/Dp+x9DvPwxWrdel0O8/jjcyAefP7z/+b7lLtM7vP/5vuUu0zu8//m+5S7TO7z9q7HCd+83vPy4k8fs9su8/Du5naLuw7z9sbeUHEobvPzhpv6L3o+4/YDohfjQ37T8Ysi9/gzDsP4JMJtC3E+o/cSPJRpah5j8sE+NicgvjP1y9WEcOwt8/HRJTw1Wg2j83v2+Cru/UP8nfel926s0/",
          "dtype": "f8"
         }
        },
        {
         "customdata": {
          "bdata": "AAAAAACUoUAAAAAAAJShQAAAAAAAlKFAAAAAAACUoUAAAAAAAJShQAAAAAAAlKFAAAAAAACUoUAAAAAAAJShQAAAAAAAlKFAAAAAAACUoUAAAAAAAJShQAAAAAAAlKFAAAAAAACUoUAAAAAAAJShQAAAAAAAlKFAAAAAAACUoUAAAAAAAJShQAAAAAAAlKFAAAAAAACUoUAAAAAAAJShQAAAAAAAlKFAAAAAAACUoUAAAAAAAJShQAAAAAAAlKFAAAAAAACUoUAAAAAAAJShQAAAAAAAlKFAAAAAAACUoUAAAAAAAJShQAAAAAAAlKFAAAAAAACUoUAAAAAAAJShQAAAAAAAlKFAAAAAAACUoUAAAAAAAJShQAAAAAAAlKFAAAAAAACUoUAAAAAAAJShQAAAAAAAlKFAAAAAAACUoUAAAAAAAJShQAAAAAAAlKFAAAAAAACUoUAAAAAAAJShQAAAAAAAlKFAAAAAAACUoUAAAAAAAJShQAAAAAAAlKFA",
          "dtype": "f8",
          "shape": "48, 1"
         },
         "hovertemplate": "<b>Time Step:</b> %{x}<br><b>Budget Left Ratio:</b> %{y:.3f}<br><b>Budget:</b> %{customdata[0]:.0f}<br><extra></extra>",
         "line": {
          "color": "rgb(67, 109, 176)",
          "width": 1.5
         },
         "mode": "lines",
         "opacity": 0.35,
         "showlegend": false,
         "type": "scatter",
         "x": {
          "bdata": "AAECAwQFBgcICQoLDA0ODxAREhMUFRYXGBkaGxwdHh8gISIjJCUmJygpKissLS4v",
          "dtype": "i1"
         },
         "y": {
          "bdata": "gtb4lU7m7j+FAJgzXdHuP9CopOj0t+4/K7W0hkSW7j9rbzAohYnuPyqr0gVHge4/jt46s2h27j/fdOcPN2ruP3Tc4Jzrae4/dNzgnOtp7j9L3ooGmGnuP0veigaYae4/S96KBphp7j9L3ooGmGnuP0veigaYae4/S96KBphp7j9L3ooGmGnuP0veigaYae4/S96KBphp7j9L3ooGmGnuP0veigaYae4/l+IVTF9p7j+opFIlY2PuP7yk4TtXYO4/Vdo09w2e6z+YjvVmBvvnP3jpNzWrAuQ/i0+KAkxq4j+KOHv4mT7hP3fD/ZtdUt8/ZRzxP4CX2D+vpqK0L+jRP6+morQv6NE/2tJEJEfm0T9chARVg+XRP1yEBFWD5dE/WwsT7tTk0T8ZnynUqOPRP0z3rmn04dE/XGysbpnh0T8nDqKeIuTQP/aejFYFmc4/EDXN07BzwT+jSuYhKAOhP+INuJyCUpE/gW+WRKoMZz98YHgzZQfbPnxgeDNlB9s+",
          "dtype": "f8"
         }
        },
        {
         "customdata": {
          "bdata": "AAAAAADyskAAAAAAAPKyQAAAAAAA8rJAAAAAAADyskAAAAAAAPKyQAAAAAAA8rJAAAAAAADyskAAAAAAAPKyQAAAAAAA8rJAAAAAAADyskAAAAAAAPKyQAAAAAAA8rJAAAAAAADyskAAAAAAAPKyQAAAAAAA8rJAAAAAAADyskAAAAAAAPKyQAAAAAAA8rJAAAAAAADyskAAAAAAAPKyQAAAAAAA8rJAAAAAAADyskAAAAAAAPKyQAAAAAAA8rJAAAAAAADyskAAAAAAAPKyQAAAAAAA8rJAAAAAAADyskAAAAAAAPKyQAAAAAAA8rJAAAAAAADyskAAAAAAAPKyQAAAAAAA8rJAAAAAAADyskAAAAAAAPKyQAAAAAAA8rJAAAAAAADyskAAAAAAAPKyQAAAAAAA8rJAAAAAAADyskAAAAAAAPKyQAAAAAAA8rJAAAAAAADyskAAAAAAAPKyQAAAAAAA8rJAAAAAAADyskAAAAAAAPKyQAAAAAAA8rJA",
          "dtype": "f8",
          "shape": "48, 1"
         },
         "hovertemplate": "<b>Time Step:</b> %{x}<br><b>Budget Left Ratio:</b> %{y:.3f}<br><b>Budget:</b> %{customdata[0]:.0f}<br><extra></extra>",
         "line": {
          "color": "rgb(165, 0, 38)",
          "width": 1.5
         },
         "mode": "lines",
         "opacity": 0.35,
         "showlegend": false,
         "type": "scatter",
         "x": {
          "bdata": "AAECAwQFBgcICQoLDA0ODxAREhMUFRYXGBkaGxwdHh8gISIjJCUmJygpKissLS4v",
          "dtype": "i1"
         },
         "y": {
          "bdata": "fRAFttf/7z/XtaArN/XvPxPluxeF3e8/gUGxzbXZ7z+1lYauDcvvP9naZjYmx+8/W+aC057C7z8JaCf2QsLvPwloJ/ZCwu8/CWgn9kLC7z8JaCf2QsLvPwloJ/ZCwu8/CWgn9kLC7z8JaCf2QsLvPwloJ/ZCwu8/CWgn9kLC7z8JaCf2QsLvP7aG4Fjbwe8/T29VR1LA7z+XcTbIwL3vP+AvSIKScO8/W3vWyu8J7z+VB30F17buPyZ0raWEW+4/2137LBBY7j/dKfqIPUjuP/EyuyGZJO4/gEc1DYwi7j+SwwbjMBDuP7Ias7ypDu4/HHHgqCkH7j8cceCoKQfuP8/GFvSUtu0/OZ1mUJXl6z/5UIvjN+HoPxJiHP7JpuU/XUKmoc3e5D/UwfCAFDzkP5kes4yt1+I/CViPemgL4T+98PLWpzrfP3BjvLWFFdw/lYW2Ir3u1T/VvOJ275fQP22mQKPr18Q/DZHAYhQBsz+7Iq8VCz5dP55EptF3eOI+",
          "dtype": "f8"
         }
        },
        {
         "customdata": {
          "bdata": "AAAAAACUoUAAAAAAAJShQAAAAAAAlKFAAAAAAACUoUAAAAAAAJShQAAAAAAAlKFAAAAAAACUoUAAAAAAAJShQAAAAAAAlKFAAAAAAACUoUAAAAAAAJShQAAAAAAAlKFAAAAAAACUoUAAAAAAAJShQAAAAAAAlKFAAAAAAACUoUAAAAAAAJShQAAAAAAAlKFAAAAAAACUoUAAAAAAAJShQAAAAAAAlKFAAAAAAACUoUAAAAAAAJShQAAAAAAAlKFAAAAAAACUoUAAAAAAAJShQAAAAAAAlKFAAAAAAACUoUAAAAAAAJShQAAAAAAAlKFAAAAAAACUoUAAAAAAAJShQAAAAAAAlKFAAAAAAACUoUAAAAAAAJShQAAAAAAAlKFAAAAAAACUoUAAAAAAAJShQAAAAAAAlKFAAAAAAACUoUAAAAAAAJShQAAAAAAAlKFAAAAAAACUoUAAAAAAAJShQAAAAAAAlKFAAAAAAACUoUAAAAAAAJShQAAAAAAAlKFA",
          "dtype": "f8",
          "shape": "48, 1"
         },
         "hovertemplate": "<b>Time Step:</b> %{x}<br><b>Budget Left Ratio:</b> %{y:.3f}<br><b>Budget:</b> %{customdata[0]:.0f}<br><extra></extra>",
         "line": {
          "color": "rgb(67, 109, 176)",
          "width": 1.5
         },
         "mode": "lines",
         "opacity": 0.35,
         "showlegend": false,
         "type": "scatter",
         "x": {
          "bdata": "AAECAwQFBgcICQoLDA0ODxAREhMUFRYXGBkaGxwdHh8gISIjJCUmJygpKissLS4v",
          "dtype": "i1"
         },
         "y": {
          "bdata": "AAAAAAAA8D8AAAAAAADwPwAAAAAAAPA/AAAAAAAA8D8AAAAAAADwPwAAAAAAAPA/AAAAAAAA8D8AAAAAAADwPwAAAAAAAPA/AAAAAAAA8D8AAAAAAADwPwAAAAAAAPA/AAAAAAAA8D8AAAAAAADwPwAAAAAAAPA/kNug/Wf/7z+Q26D9Z//vP5DboP1n/+8/kNug/Wf/7z+Q26D9Z//vP5DboP1n/+8/kNug/Wf/7z+Q26D9Z//vP5DboP1n/+8/9C0RhcLh7z9QbXhKoArvPw9EIpfQUus/Ss/4g0g15j+I4UhMbMXiPzHa2N7Ejd0/FDoRdZdL1z+veQAy/JfUP4F9F+tEgdQ/MF5KOTcH1D+6SbhBFC3SP/xMy9rkds8/CG9r59CuzD+beymx7orLP4zbeLy1Fsk/ahOIKCbHxD8sgJt4s8+7P7r2qLCFYrM/oeatnPTcqT/4eXVP1gWmP4J0AIaZt/s+gnQAhpm3+z6CdACGmbf7PoJ0AIaZt/s+",
          "dtype": "f8"
         }
        },
        {
         "customdata": {
          "bdata": "AAAAAADAskAAAAAAAMCyQAAAAAAAwLJAAAAAAADAskAAAAAAAMCyQAAAAAAAwLJAAAAAAADAskAAAAAAAMCyQAAAAAAAwLJAAAAAAADAskAAAAAAAMCyQAAAAAAAwLJAAAAAAADAskAAAAAAAMCyQAAAAAAAwLJAAAAAAADAskAAAAAAAMCyQAAAAAAAwLJAAAAAAADAskAAAAAAAMCyQAAAAAAAwLJAAAAAAADAskAAAAAAAMCyQAAAAAAAwLJAAAAAAADAskAAAAAAAMCyQAAAAAAAwLJAAAAAAADAskAAAAAAAMCyQAAAAAAAwLJAAAAAAADAskAAAAAAAMCyQAAAAAAAwLJAAAAAAADAskAAAAAAAMCyQAAAAAAAwLJAAAAAAADAskAAAAAAAMCyQAAAAAAAwLJAAAAAAADAskAAAAAAAMCyQAAAAAAAwLJAAAAAAADAskAAAAAAAMCyQAAAAAAAwLJAAAAAAADAskAAAAAAAMCyQAAAAAAAwLJA",
          "dtype": "f8",
          "shape": "48, 1"
         },
         "hovertemplate": "<b>Time Step:</b> %{x}<br><b>Budget Left Ratio:</b> %{y:.3f}<br><b>Budget:</b> %{customdata[0]:.0f}<br><extra></extra>",
         "line": {
          "color": "rgb(174, 8, 38)",
          "width": 1.5
         },
         "mode": "lines",
         "opacity": 0.35,
         "showlegend": false,
         "type": "scatter",
         "x": {
          "bdata": "AAECAwQFBgcICQoLDA0ODxAREhMUFRYXGBkaGxwdHh8gISIjJCUmJygpKissLS4v",
          "dtype": "i1"
         },
         "y": {
          "bdata": "kSnAzWmX7z8DENGHVGnvP94IfLFaH+8/Ikh98vAX7z+A8znynhbvPyDbOVUFDu8/J6DgQBP/7j/DTbsOoe3uP8NNuw6h7e4/w027DqHt7j/DTbsOoe3uP8NNuw6h7e4/w027DqHt7j/DTbsOoe3uP8NNuw6h7e4/w027DqHt7j+sFrml+FPuP6y/xZ8t6+0/PA0MuAuH7T/JBX3sP2TtPyJGyz2rM+w/zzhdHMxv6j8HhBok97DnP+bo7LjQd+U/LpuX7X8w5T+F/CsrAOrkP6ooBVlGeOQ/E9ok6SPp4z8mzMamA8PiPwnECFPY1eE/oBEBCbgK4D+CgNuCcWrdPwAY0Zy6S9k/6LmyKJj31D8wGSk+LOrNP8nLx+doqMQ/d7dxwxbbwj+JjGLdeZu9P7+oI/wYmrM/1zsNFRXgqj/huuEYSeOcP/KLpf3QI+8+8oul/dAj7z7yi6X90CPvPvKLpf3QI+8+8oul/dAj7z7yi6X90CPvPvKLpf3QI+8+",
          "dtype": "f8"
         }
        },
        {
         "customdata": {
          "bdata": "AAAAAABAn0AAAAAAAECfQAAAAAAAQJ9AAAAAAABAn0AAAAAAAECfQAAAAAAAQJ9AAAAAAABAn0AAAAAAAECfQAAAAAAAQJ9AAAAAAABAn0AAAAAAAECfQAAAAAAAQJ9AAAAAAABAn0AAAAAAAECfQAAAAAAAQJ9AAAAAAABAn0AAAAAAAECfQAAAAAAAQJ9AAAAAAABAn0AAAAAAAECfQAAAAAAAQJ9AAAAAAABAn0AAAAAAAECfQAAAAAAAQJ9AAAAAAABAn0AAAAAAAECfQAAAAAAAQJ9AAAAAAABAn0AAAAAAAECfQAAAAAAAQJ9AAAAAAABAn0AAAAAAAECfQAAAAAAAQJ9AAAAAAABAn0AAAAAAAECfQAAAAAAAQJ9AAAAAAABAn0AAAAAAAECfQAAAAAAAQJ9AAAAAAABAn0AAAAAAAECfQAAAAAAAQJ9AAAAAAABAn0AAAAAAAECfQAAAAAAAQJ9AAAAAAABAn0AAAAAAAECfQAAAAAAAQJ9A",
          "dtype": "f8",
          "shape": "48, 1"
         },
         "hovertemplate": "<b>Time Step:</b> %{x}<br><b>Budget Left Ratio:</b> %{y:.3f}<br><b>Budget:</b> %{customdata[0]:.0f}<br><extra></extra>",
         "line": {
          "color": "rgb(49, 54, 149)",
          "width": 1.5
         },
         "mode": "lines",
         "opacity": 0.35,
         "showlegend": false,
         "type": "scatter",
         "x": {
          "bdata": "AAECAwQFBgcICQoLDA0ODxAREhMUFRYXGBkaGxwdHh8gISIjJCUmJygpKissLS4v",
          "dtype": "i1"
         },
         "y": {
          "bdata": "AAAAAAAA8D8AAAAAAADwPwAAAAAAAPA/AAAAAAAA8D8AAAAAAADwPwAAAAAAAPA/AAAAAAAA8D8AAAAAAADwPwAAAAAAAPA/AAAAAAAA8D8AAAAAAADwPwAAAAAAAPA/AAAAAAAA8D8AAAAAAADwPwAAAAAAAPA/CUS466X/7z/QbTIl/QXvP/xvv2I6Gu4/4hAFdm7C7D8Dl3qz4Q3rP3ctp1JUduc/fmsKT5zI4D/RpqAsgpnOPw6Bj5pJcsM/Ozuy6hNwwz9CqkILIG3DP0KqQgsgbcM/21GHf8c1wz+Jk5bSrjPDP4mTltKuM8M/0c6fTN0lwz8ICr9QtCPDP7LVzYWICMM/fX/2r+6OwT/BukNRkq+uP2DN2mCQjqY/aryMKbjTpT+BHWexuTuiPys/LXlluKA/hXuo/plioD8tCrUxAFqgP4sM9xPaVaA/xRBw3PbpnD+WM7p06sKcP0bmtSc2hJk/nm/TVWR2lj8h0HcO3ESFP1TjJXIiEvI+",
          "dtype": "f8"
         }
        },
        {
         "customdata": {
          "bdata": "AAAAAABAn0AAAAAAAECfQAAAAAAAQJ9AAAAAAABAn0AAAAAAAECfQAAAAAAAQJ9AAAAAAABAn0AAAAAAAECfQAAAAAAAQJ9AAAAAAABAn0AAAAAAAECfQAAAAAAAQJ9AAAAAAABAn0AAAAAAAECfQAAAAAAAQJ9AAAAAAABAn0AAAAAAAECfQAAAAAAAQJ9AAAAAAABAn0AAAAAAAECfQAAAAAAAQJ9AAAAAAABAn0AAAAAAAECfQAAAAAAAQJ9AAAAAAABAn0AAAAAAAECfQAAAAAAAQJ9AAAAAAABAn0AAAAAAAECfQAAAAAAAQJ9AAAAAAABAn0AAAAAAAECfQAAAAAAAQJ9AAAAAAABAn0AAAAAAAECfQAAAAAAAQJ9AAAAAAABAn0AAAAAAAECfQAAAAAAAQJ9AAAAAAABAn0AAAAAAAECfQAAAAAAAQJ9AAAAAAABAn0AAAAAAAECfQAAAAAAAQJ9AAAAAAABAn0AAAAAAAECfQAAAAAAAQJ9A",
          "dtype": "f8",
          "shape": "48, 1"
         },
         "hovertemplate": "<b>Time Step:</b> %{x}<br><b>Budget Left Ratio:</b> %{y:.3f}<br><b>Budget:</b> %{customdata[0]:.0f}<br><extra></extra>",
         "line": {
          "color": "rgb(49, 54, 149)",
          "width": 1.5
         },
         "mode": "lines",
         "opacity": 0.35,
         "showlegend": false,
         "type": "scatter",
         "x": {
          "bdata": "AAECAwQFBgcICQoLDA0ODxAREhMUFRYXGBkaGxwdHh8gISIjJCUmJygpKissLS4v",
          "dtype": "i1"
         },
         "y": {
          "bdata": "DdPMOMAb7D/F8psu64zpP/j3j+r6Y+c/ZktHxUWr5T+i9cKhywblP+es1avMSOQ/mvw5ePnD4z8D7NKAhVXjPwPs0oCFVeM/A+zSgIVV4z+BOwspGlXjP4E7CykaVeM/gTsLKRpV4z/bbf9USlTjP5sBF7aZUuM/j61UqmQp4z9u2XWPhSjjPxBjR8cd+uI/ZEztbBew4D/tyQAlCQvgPxmS/SYWDd4/0fDfSFS02j+FGyTlS0LYP0xWFUeIwdY/NbI47SSz1D/VQbBqhJDSP2REiLH0w9A/cQ/vHNgt0D/wBxSQ7VrNP07CQTFAWMk/ebvsB37/xT/nu9/dBrm2PxBAlLvktrY/8kbwmtCetj9ti1UDJJu2P6gyOZC3hbY/J+XWnAFgtj/+sHFmFCC2PxJ7m6Q4E7Y/5TRBTYgOtj/lNEFNiA62P2KoRdzKCrY/XDc4cj8Ctj+46nNCl2K1PxDU+Yij/LQ/PYpKowgUtD+NEyynOjizPwwOHENTMrM/",
          "dtype": "f8"
         }
        },
        {
         "customdata": {
          "bdata": "AAAAAADgpUAAAAAAAOClQAAAAAAA4KVAAAAAAADgpUAAAAAAAOClQAAAAAAA4KVAAAAAAADgpUAAAAAAAOClQAAAAAAA4KVAAAAAAADgpUAAAAAAAOClQAAAAAAA4KVAAAAAAADgpUAAAAAAAOClQAAAAAAA4KVAAAAAAADgpUAAAAAAAOClQAAAAAAA4KVAAAAAAADgpUAAAAAAAOClQAAAAAAA4KVAAAAAAADgpUAAAAAAAOClQAAAAAAA4KVAAAAAAADgpUAAAAAAAOClQAAAAAAA4KVAAAAAAADgpUAAAAAAAOClQAAAAAAA4KVAAAAAAADgpUAAAAAAAOClQAAAAAAA4KVAAAAAAADgpUAAAAAAAOClQAAAAAAA4KVAAAAAAADgpUAAAAAAAOClQAAAAAAA4KVAAAAAAADgpUAAAAAAAOClQAAAAAAA4KVAAAAAAADgpUAAAAAAAOClQAAAAAAA4KVAAAAAAADgpUAAAAAAAOClQAAAAAAA4KVA",
          "dtype": "f8",
          "shape": "48, 1"
         },
         "hovertemplate": "<b>Time Step:</b> %{x}<br><b>Budget Left Ratio:</b> %{y:.3f}<br><b>Budget:</b> %{customdata[0]:.0f}<br><extra></extra>",
         "line": {
          "color": "rgb(160, 209, 228)",
          "width": 1.5
         },
         "mode": "lines",
         "opacity": 0.35,
         "showlegend": false,
         "type": "scatter",
         "x": {
          "bdata": "AAECAwQFBgcICQoLDA0ODxAREhMUFRYXGBkaGxwdHh8gISIjJCUmJygpKissLS4v",
          "dtype": "i1"
         },
         "y": {
          "bdata": "6XQZ1nen7j+xkEHPPxHuPye6WDM36O0/0Rc+lS/b7T+CAFMFDLPtP188tGMPi+0/9qbfPkB17T9F3yFWwV7tP0XfIVbBXu0/Rd8hVsFe7T8yRVlGOF7tPzJFWUY4Xu0/8Yt84vdd7T/xi3zi913tP/GLfOL3Xe0/8Yt84vdd7T+a0SzA64DsP/9wQmUyF+w/1gmeHGiL6z+1NcQ65tTqPxeYHJF6wuY/0EpiIrXK4z8f9OykvdDgP1UGuKvLld0/VQa4q8uV3T+aVIplcZXdP5pUimVxld0/mlSKZXGV3T+aVIplcZXdP5pUimVxld0/mlSKZXGV3T+a4+CMHJXdPyAZDP6vF90/XhF+IGjT2T8M5FZvyr/VP/nSNBxgE88/ilqEzq3qyD9LJw4KfcjCP9CKs+ciJ8A/0M4FCcHVtj/p/1Q6pkuzP9TpfQY50LA/QAwO9mUSlT/NjDaygGmAP0mSJPfEP9k+SZIk98Q/2T5JkiT3xD/ZPkmSJPfEP9k+",
          "dtype": "f8"
         }
        },
        {
         "customdata": {
          "bdata": "AAAAAADUp0AAAAAAANSnQAAAAAAA1KdAAAAAAADUp0AAAAAAANSnQAAAAAAA1KdAAAAAAADUp0AAAAAAANSnQAAAAAAA1KdAAAAAAADUp0AAAAAAANSnQAAAAAAA1KdAAAAAAADUp0AAAAAAANSnQAAAAAAA1KdAAAAAAADUp0AAAAAAANSnQAAAAAAA1KdAAAAAAADUp0AAAAAAANSnQAAAAAAA1KdAAAAAAADUp0AAAAAAANSnQAAAAAAA1KdAAAAAAADUp0AAAAAAANSnQAAAAAAA1KdAAAAAAADUp0AAAAAAANSnQAAAAAAA1KdAAAAAAADUp0AAAAAAANSnQAAAAAAA1KdAAAAAAADUp0AAAAAAANSnQAAAAAAA1KdAAAAAAADUp0AAAAAAANSnQAAAAAAA1KdAAAAAAADUp0AAAAAAANSnQAAAAAAA1KdAAAAAAADUp0AAAAAAANSnQAAAAAAA1KdAAAAAAADUp0AAAAAAANSnQAAAAAAA1KdA",
          "dtype": "f8",
          "shape": "48, 1"
         },
         "hovertemplate": "<b>Time Step:</b> %{x}<br><b>Budget Left Ratio:</b> %{y:.3f}<br><b>Budget:</b> %{customdata[0]:.0f}<br><extra></extra>",
         "line": {
          "color": "rgb(207, 235, 243)",
          "width": 1.5
         },
         "mode": "lines",
         "opacity": 0.35,
         "showlegend": false,
         "type": "scatter",
         "x": {
          "bdata": "AAECAwQFBgcICQoLDA0ODxAREhMUFRYXGBkaGxwdHh8gISIjJCUmJygpKissLS4v",
          "dtype": "i1"
         },
         "y": {
          "bdata": "rg4SNz/t7z8CodFd8+rvP8aHKh7a4u8/xocqHtri7z996sJ/9NvvP33qwn/02+8/JQZL1mrX7z8l5PbBt9bvPyXk9sG31u8/JeT2wbfW7z8l5PbBt9bvPyXk9sG31u8/JeT2wbfW7z8l5PbBt9bvPyXk9sG31u8/JeT2wbfW7z98q+GQ1avvP/xUNlDaQu4/sZVLYfbU7T8TLZlLJYHtPwzzXyEuXu0/FXpyUL/b7D9p5sPHUZjsP8ojB1JQZOw/yiMHUlBk7D/KIwdSUGTsP8ojB1JQZOw/yiMHUlBk7D/KIwdSUGTsP8ojB1JQZOw/yiMHUlBk7D/KIwdSUGTsP8qSdg67ROw/G5KV/pIs6j/BMePIzMLpP+Z4iI85kek/TyKx21Iq6T+aApRQlcHnP3WBrGzvLec/9mi602m75T/l1ERMNXbgPzkjwADg+dg/OlG8z1sM0T/x8fKI70fEPyM2/27fI7U/HSdp+AraoD9vmfZHhSTVPm+Z9keFJNU+",
          "dtype": "f8"
         }
        },
        {
         "customdata": {
          "bdata": "AAAAAAD+sEAAAAAAAP6wQAAAAAAA/rBAAAAAAAD+sEAAAAAAAP6wQAAAAAAA/rBAAAAAAAD+sEAAAAAAAP6wQAAAAAAA/rBAAAAAAAD+sEAAAAAAAP6wQAAAAAAA/rBAAAAAAAD+sEAAAAAAAP6wQAAAAAAA/rBAAAAAAAD+sEAAAAAAAP6wQAAAAAAA/rBAAAAAAAD+sEAAAAAAAP6wQAAAAAAA/rBAAAAAAAD+sEAAAAAAAP6wQAAAAAAA/rBAAAAAAAD+sEAAAAAAAP6wQAAAAAAA/rBAAAAAAAD+sEAAAAAAAP6wQAAAAAAA/rBAAAAAAAD+sEAAAAAAAP6wQAAAAAAA/rBAAAAAAAD+sEAAAAAAAP6wQAAAAAAA/rBAAAAAAAD+sEAAAAAAAP6wQAAAAAAA/rBAAAAAAAD+sEAAAAAAAP6wQAAAAAAA/rBAAAAAAAD+sEAAAAAAAP6wQAAAAAAA/rBAAAAAAAD+sEAAAAAAAP6wQAAAAAAA/rBA",
          "dtype": "f8",
          "shape": "48, 1"
         },
         "hovertemplate": "<b>Time Step:</b> %{x}<br><b>Budget Left Ratio:</b> %{y:.3f}<br><b>Budget:</b> %{customdata[0]:.0f}<br><extra></extra>",
         "line": {
          "color": "rgb(237, 94, 60)",
          "width": 1.5
         },
         "mode": "lines",
         "opacity": 0.35,
         "showlegend": false,
         "type": "scatter",
         "x": {
          "bdata": "AAECAwQFBgcICQoLDA0ODxAREhMUFRYXGBkaGxwdHh8gISIjJCUmJygpKissLS4v",
          "dtype": "i1"
         },
         "y": {
          "bdata": "1Cvjz9T/7z/UK+PP1P/vP7JlbxnG/O8/FYH53J387z/fSMWwCPzvP99IxbAI/O8/30jFsAj87z/rvrQxYPvvP+u+tDFg++8/6760MWD77z/rvrQxYPvvP+u+tDFg++8/6760MWD77z/rvrQxYPvvP+u+tDFg++8/6760MWD77z8gEovWyfbvPy9hPKzqwe8/9R6dkTfS7j8Gtia/C4DrP07kwdtehOg/dcjOStAh5T8n/+1JMvbgPy6ndl1KXNw/gOIg3TW62j8rT4HjbZrZP07TsOtBO9c/KGG1rwXD1T9NreWNUqrUP/OwnXpZQdM/Ugub1oae0T8oUoPfOpfQP5zBMDX5StA/PQdvFOIx0D93b3FzE5HPPz3pfKlu1s4/solrmtlfzT8uJZorKoLLP1WPUrsJfMM/MHlpWXfMwD/Nz0UMK8HAP83PRQwrwcA/6fipe6OpwD94/NzFglXAPw98z2xPx7o/QCMcyhEdsj8aWQmjknGnP443mGX28E4/",
          "dtype": "f8"
         }
        },
        {
         "customdata": {
          "bdata": "AAAAAAC0pEAAAAAAALSkQAAAAAAAtKRAAAAAAAC0pEAAAAAAALSkQAAAAAAAtKRAAAAAAAC0pEAAAAAAALSkQAAAAAAAtKRAAAAAAAC0pEAAAAAAALSkQAAAAAAAtKRAAAAAAAC0pEAAAAAAALSkQAAAAAAAtKRAAAAAAAC0pEAAAAAAALSkQAAAAAAAtKRAAAAAAAC0pEAAAAAAALSkQAAAAAAAtKRAAAAAAAC0pEAAAAAAALSkQAAAAAAAtKRAAAAAAAC0pEAAAAAAALSkQAAAAAAAtKRAAAAAAAC0pEAAAAAAALSkQAAAAAAAtKRAAAAAAAC0pEAAAAAAALSkQAAAAAAAtKRAAAAAAAC0pEAAAAAAALSkQAAAAAAAtKRAAAAAAAC0pEAAAAAAALSkQAAAAAAAtKRAAAAAAAC0pEAAAAAAALSkQAAAAAAAtKRAAAAAAAC0pEAAAAAAALSkQAAAAAAAtKRAAAAAAAC0pEAAAAAAALSkQAAAAAAAtKRA",
          "dtype": "f8",
          "shape": "48, 1"
         },
         "hovertemplate": "<b>Time Step:</b> %{x}<br><b>Budget Left Ratio:</b> %{y:.3f}<br><b>Budget:</b> %{customdata[0]:.0f}<br><extra></extra>",
         "line": {
          "color": "rgb(131, 185, 216)",
          "width": 1.5
         },
         "mode": "lines",
         "opacity": 0.35,
         "showlegend": false,
         "type": "scatter",
         "x": {
          "bdata": "AAECAwQFBgcICQoLDA0ODxAREhMUFRYXGBkaGxwdHh8gISIjJCUmJygpKissLS4v",
          "dtype": "i1"
         },
         "y": {
          "bdata": "j7YI8FTQ7z9VsO3MEtDvP4RjoQ5Pwe8/m4NdM2+p7z8wsZGNvprvPxI8KODUl+8/OdDVjpOU7z/7f3inMYfvP/t/eKcxh+8/+394pzGH7z/7f3inMYfvP/t/eKcxh+8/+394pzGH7z/7f3inMYfvP/t/eKcxh+8/+394pzGH7z9Si0Tbk27vP9nroLrRye0/8YWZ4Z/A6z+nddKxRqfoP9iZsYm9DeU/HFZjcRaz4T+CldF60BvdP+QmBx5PTtk/TDbAA/Ik2T9IV0jhnLLYP/zgIcvtA9g/1cVF5zZM1z+lOoY6PrvWP5Yo/sjZLNU/hqLOHhy70z8auC/m2qrTP1LDxPFHddM/Tv4utclV0z/iEZWlkVLTPzR3cOSG0NI/pMi8ZYYT0j8roIKtNlrQP2XpHCnV0M4/z9DnCZ9rxz9X4OtW+f3GP1+Eh3LLfcY/GSAwW8/OxD8iOmZQuArCP0ELLOk6zLo/ILhlgcobtD/6H5aP0/ShP2BQ4GsS/OQ+",
          "dtype": "f8"
         }
        },
        {
         "customdata": {
          "bdata": "AAAAAACUoUAAAAAAAJShQAAAAAAAlKFAAAAAAACUoUAAAAAAAJShQAAAAAAAlKFAAAAAAACUoUAAAAAAAJShQAAAAAAAlKFAAAAAAACUoUAAAAAAAJShQAAAAAAAlKFAAAAAAACUoUAAAAAAAJShQAAAAAAAlKFAAAAAAACUoUAAAAAAAJShQAAAAAAAlKFAAAAAAACUoUAAAAAAAJShQAAAAAAAlKFAAAAAAACUoUAAAAAAAJShQAAAAAAAlKFAAAAAAACUoUAAAAAAAJShQAAAAAAAlKFAAAAAAACUoUAAAAAAAJShQAAAAAAAlKFAAAAAAACUoUAAAAAAAJShQAAAAAAAlKFAAAAAAACUoUAAAAAAAJShQAAAAAAAlKFAAAAAAACUoUAAAAAAAJShQAAAAAAAlKFAAAAAAACUoUAAAAAAAJShQAAAAAAAlKFAAAAAAACUoUAAAAAAAJShQAAAAAAAlKFAAAAAAACUoUAAAAAAAJShQAAAAAAAlKFA",
          "dtype": "f8",
          "shape": "48, 1"
         },
         "hovertemplate": "<b>Time Step:</b> %{x}<br><b>Budget Left Ratio:</b> %{y:.3f}<br><b>Budget:</b> %{customdata[0]:.0f}<br><extra></extra>",
         "line": {
          "color": "rgb(67, 109, 176)",
          "width": 1.5
         },
         "mode": "lines",
         "opacity": 0.35,
         "showlegend": false,
         "type": "scatter",
         "x": {
          "bdata": "AAECAwQFBgcICQoLDA0ODxAREhMUFRYXGBkaGxwdHh8gISIjJCUmJygpKissLS4v",
          "dtype": "i1"
         },
         "y": {
          "bdata": "2rSmUxL/7z9oyLz6pPTvP0TWiF118O8/dT7JeXjv7z/1Qtz0hOnvPw0pdPbR3+8/S7hmhtTb7z+t3UzQmdjvP+o3zoVK1O8/6jfOhUrU7z931o7wQdPvP80dwBF0xO8/cwsya23D7z8rNyYrcbrvP5XIp5oEt+8/DJoAPnaI7z8MmgA+dojvPwyaAD52iO8/DJoAPnaI7z8MmgA+dojvPwyaAD52iO8/DJoAPnaI7z8MmgA+dojvPwyaAD52iO8/qiH5Qgu07T9F+3SRbNrsP51cvRuwkes/fSYx3bsw6z9AFNqyqATrP7419nKA2+o/5XLLrgIv6j9AKaI3/rHpP/35xWqZleg/sh6uFfv95z/X0WzD5aznP0KNK79lI+c/Hk/E4Zum5D8sWZVfa+bhPwQAHfeYXd8/RTCDelGc2j9aJ2tglNnVP0lGjAOTIdE/51UkG0frxj/2O9bgG1rBPwK+aShau5o/6W2uIPiZlD82PXfkZUrlPjY9d+RlSuU+",
          "dtype": "f8"
         }
        },
        {
         "customdata": {
          "bdata": "AAAAAADgpUAAAAAAAOClQAAAAAAA4KVAAAAAAADgpUAAAAAAAOClQAAAAAAA4KVAAAAAAADgpUAAAAAAAOClQAAAAAAA4KVAAAAAAADgpUAAAAAAAOClQAAAAAAA4KVAAAAAAADgpUAAAAAAAOClQAAAAAAA4KVAAAAAAADgpUAAAAAAAOClQAAAAAAA4KVAAAAAAADgpUAAAAAAAOClQAAAAAAA4KVAAAAAAADgpUAAAAAAAOClQAAAAAAA4KVAAAAAAADgpUAAAAAAAOClQAAAAAAA4KVAAAAAAADgpUAAAAAAAOClQAAAAAAA4KVAAAAAAADgpUAAAAAAAOClQAAAAAAA4KVAAAAAAADgpUAAAAAAAOClQAAAAAAA4KVAAAAAAADgpUAAAAAAAOClQAAAAAAA4KVAAAAAAADgpUAAAAAAAOClQAAAAAAA4KVAAAAAAADgpUAAAAAAAOClQAAAAAAA4KVAAAAAAADgpUAAAAAAAOClQAAAAAAA4KVA",
          "dtype": "f8",
          "shape": "48, 1"
         },
         "hovertemplate": "<b>Time Step:</b> %{x}<br><b>Budget Left Ratio:</b> %{y:.3f}<br><b>Budget:</b> %{customdata[0]:.0f}<br><extra></extra>",
         "line": {
          "color": "rgb(160, 209, 228)",
          "width": 1.5
         },
         "mode": "lines",
         "opacity": 0.35,
         "showlegend": false,
         "type": "scatter",
         "x": {
          "bdata": "AAECAwQFBgcICQoLDA0ODxAREhMUFRYXGBkaGxwdHh8gISIjJCUmJygpKissLS4v",
          "dtype": "i1"
         },
         "y": {
          "bdata": "AAAAAAAA8D8AAAAAAADwPwAAAAAAAPA/AAAAAAAA8D8AAAAAAADwPwAAAAAAAPA/AAAAAAAA8D8AAAAAAADwPwAAAAAAAPA/AAAAAAAA8D8AAAAAAADwPwAAAAAAAPA/AAAAAAAA8D8AAAAAAADwPwAAAAAAAPA/AAAAAAAA8D8AAAAAAADwPwAAAAAAAPA/YXXLGcP+7z9hdcsZw/7vPz9lw/6o/e8/P2XD/qj97z8/ZcP+qP3vP08LEpEg/e8/TwsSkSD97z9PCxKRIP3vP08LEpEg/e8/TwsSkSD97z9PCxKRIP3vP08LEpEg/e8/TwsSkSD97z9PCxKRIP3vPzmzU8V+8us/dr+ynzSH6D+iUmcbRQvlP7tTF2b0Z+I/UOO3YFe83z+YcM7uPefaP/NufD7PJtQ/tRQDHYeTzT+1FAMdh5PNP/Nq1pHqkc0/aN87pnPdzD8p/AKY0Y3LPwp/SO6EQcc/W3L55RQrwj9cXyEoiSysP3Lus5eI8ew+",
          "dtype": "f8"
         }
        },
        {
         "customdata": {
          "bdata": "AAAAAABooEAAAAAAAGigQAAAAAAAaKBAAAAAAABooEAAAAAAAGigQAAAAAAAaKBAAAAAAABooEAAAAAAAGigQAAAAAAAaKBAAAAAAABooEAAAAAAAGigQAAAAAAAaKBAAAAAAABooEAAAAAAAGigQAAAAAAAaKBAAAAAAABooEAAAAAAAGigQAAAAAAAaKBAAAAAAABooEAAAAAAAGigQAAAAAAAaKBAAAAAAABooEAAAAAAAGigQAAAAAAAaKBAAAAAAABooEAAAAAAAGigQAAAAAAAaKBAAAAAAABooEAAAAAAAGigQAAAAAAAaKBAAAAAAABooEAAAAAAAGigQAAAAAAAaKBAAAAAAABooEAAAAAAAGigQAAAAAAAaKBAAAAAAABooEAAAAAAAGigQAAAAAAAaKBAAAAAAABooEAAAAAAAGigQAAAAAAAaKBAAAAAAABooEAAAAAAAGigQAAAAAAAaKBAAAAAAABooEAAAAAAAGigQAAAAAAAaKBA",
          "dtype": "f8",
          "shape": "48, 1"
         },
         "hovertemplate": "<b>Time Step:</b> %{x}<br><b>Budget Left Ratio:</b> %{y:.3f}<br><b>Budget:</b> %{customdata[0]:.0f}<br><extra></extra>",
         "line": {
          "color": "rgb(56, 76, 160)",
          "width": 1.5
         },
         "mode": "lines",
         "opacity": 0.35,
         "showlegend": false,
         "type": "scatter",
         "x": {
          "bdata": "AAECAwQFBgcICQoLDA0ODxAREhMUFRYXGBkaGxwdHh8gISIjJCUmJygpKissLS4v",
          "dtype": "i1"
         },
         "y": {
          "bdata": "AAAAAAAA8D8AAAAAAADwPwAAAAAAAPA/AAAAAAAA8D8AAAAAAADwPwAAAAAAAPA/AAAAAAAA8D8AAAAAAADwPwAAAAAAAPA/AAAAAAAA8D8AAAAAAADwP5xRyUqb/+8/B1ruL0H/7z9zee8Q4P7vP8XLC7Zm+u8/xcsLtmb67z9SH5UYFPnvP1IflRgU+e8//ucgIqT37z/giRRExPLvPwjoYP5v8u8/N4vDywDx7z9SB5TF+u/vPy+8QtUMzu8/kkzhjCTF7z+eZ0BuxrjvP8v4wxaOgO8/354znxly7z+1iOuUWDvvP56LX6oW0e4/JuFVL5aV7j+IAYQhID/uP3iHcCL/Uuw/Sdhyr3Rz6z8C6djg77TpPxpFaXkrGOk/Pb+48m255D8WlDn68SvhP8Rff2T999g/Q8c4Qtd/0D+yX+ip/hDDPxRzXc3LOrQ/aPdLG9dwqj8C7EeZKtePP6aXrZLMj/c+ppetksyP9z6ml62SzI/3PqaXrZLMj/c+",
          "dtype": "f8"
         }
        },
        {
         "customdata": {
          "bdata": "AAAAAABwp0AAAAAAAHCnQAAAAAAAcKdAAAAAAABwp0AAAAAAAHCnQAAAAAAAcKdAAAAAAABwp0AAAAAAAHCnQAAAAAAAcKdAAAAAAABwp0AAAAAAAHCnQAAAAAAAcKdAAAAAAABwp0AAAAAAAHCnQAAAAAAAcKdAAAAAAABwp0AAAAAAAHCnQAAAAAAAcKdAAAAAAABwp0AAAAAAAHCnQAAAAAAAcKdAAAAAAABwp0AAAAAAAHCnQAAAAAAAcKdAAAAAAABwp0AAAAAAAHCnQAAAAAAAcKdAAAAAAABwp0AAAAAAAHCnQAAAAAAAcKdAAAAAAABwp0AAAAAAAHCnQAAAAAAAcKdAAAAAAABwp0AAAAAAAHCnQAAAAAAAcKdAAAAAAABwp0AAAAAAAHCnQAAAAAAAcKdAAAAAAABwp0AAAAAAAHCnQAAAAAAAcKdAAAAAAABwp0AAAAAAAHCnQAAAAAAAcKdAAAAAAABwp0AAAAAAAHCnQAAAAAAAcKdA",
          "dtype": "f8",
          "shape": "48, 1"
         },
         "hovertemplate": "<b>Time Step:</b> %{x}<br><b>Budget Left Ratio:</b> %{y:.3f}<br><b>Budget:</b> %{customdata[0]:.0f}<br><extra></extra>",
         "line": {
          "color": "rgb(198, 230, 241)",
          "width": 1.5
         },
         "mode": "lines",
         "opacity": 0.35,
         "showlegend": false,
         "type": "scatter",
         "x": {
          "bdata": "AAECAwQFBgcICQoLDA0ODxAREhMUFRYXGBkaGxwdHh8gISIjJCUmJygpKissLS4v",
          "dtype": "i1"
         },
         "y": {
          "bdata": "pUlxIXHL7z+4IIxA/WrvP5ZmtGduWe8/9FKyKAQp7z+rIyVT0QTvP9YoOsVF/e4/oCfynbjs7j/HWLZdNuTuP8dYtl025O4/x1i2XTbk7j/HWLZdNuTuP8dYtl025O4/x1i2XTbk7j/HWLZdNuTuP8dYtl025O4/x1i2XTbk7j+pvIZ/ks7uP8ifrjdaqO4/alybTn3l7T+GRQSx3WfsPwj6KDD5qes/HSbokq6d6T9bUoNAObzlP7JslfDpDuQ/smyV8OkO5D8XDt1kZA7kPxcO3WRkDuQ/Fw7dZGQO5D8XDt1kZA7kPxcO3WRkDuQ/iYewH7cN5D+Jh7Aftw3kPzOMkHONA+Q/VarKk3644z9BRzHuRpHhP4CWrVY6GuA/JGEd3sQY3T9e9WWvmtbbP+DoqLHyG9o/H4ehXfYL1j+kLEQ3cEbQPwb5aY0v7Mg/ZLuQOP5Ytz/EJ1w0QDWkPzBPIuaRrpE/xpJwtGHLhT+iRbYjwJ/gPqJFtiPAn+A+",
          "dtype": "f8"
         }
        },
        {
         "customdata": {
          "bdata": "AAAAAAAEoEAAAAAAAASgQAAAAAAABKBAAAAAAAAEoEAAAAAAAASgQAAAAAAABKBAAAAAAAAEoEAAAAAAAASgQAAAAAAABKBAAAAAAAAEoEAAAAAAAASgQAAAAAAABKBAAAAAAAAEoEAAAAAAAASgQAAAAAAABKBAAAAAAAAEoEAAAAAAAASgQAAAAAAABKBAAAAAAAAEoEAAAAAAAASgQAAAAAAABKBAAAAAAAAEoEAAAAAAAASgQAAAAAAABKBAAAAAAAAEoEAAAAAAAASgQAAAAAAABKBAAAAAAAAEoEAAAAAAAASgQAAAAAAABKBAAAAAAAAEoEAAAAAAAASgQAAAAAAABKBAAAAAAAAEoEAAAAAAAASgQAAAAAAABKBAAAAAAAAEoEAAAAAAAASgQAAAAAAABKBAAAAAAAAEoEAAAAAAAASgQAAAAAAABKBAAAAAAAAEoEAAAAAAAASgQAAAAAAABKBAAAAAAAAEoEAAAAAAAASgQAAAAAAABKBA",
          "dtype": "f8",
          "shape": "48, 1"
         },
         "hovertemplate": "<b>Time Step:</b> %{x}<br><b>Budget Left Ratio:</b> %{y:.3f}<br><b>Budget:</b> %{customdata[0]:.0f}<br><extra></extra>",
         "line": {
          "color": "rgb(53, 65, 154)",
          "width": 1.5
         },
         "mode": "lines",
         "opacity": 0.35,
         "showlegend": false,
         "type": "scatter",
         "x": {
          "bdata": "AAECAwQFBgcICQoLDA0ODxAREhMUFRYXGBkaGxwdHh8gISIjJCUmJygpKissLS4v",
          "dtype": "i1"
         },
         "y": {
          "bdata": "AAAAAAAA8D8AAAAAAADwPwAAAAAAAPA/AAAAAAAA8D8AAAAAAADwPwAAAAAAAPA/AAAAAAAA8D8AAAAAAADwP4/8LIJp+u8/Zi2XyD7n7z9bsn1dd9DvPxjjh6Sdt+8/KH39K/x97z/M/1dlZVfvP9lDEpb4ZO4/NVatG9/a7T/xrnQRXYPtPxCO4IsZ4uo/g6UE9eYI6D9Xmx4eA1fkP3qmT/GwVNw/HT2pWiB60z90b03uVdHEP+k9yw5av7E/lM6aMaO8sT/i9gzVJbuxP+L2DNUlu7E/4vYM1SW7sT/i9gzVJbuxP+L2DNUlu7E/4vYM1SW7sT/i9gzVJbuxP+L2DNUlu7E/U5WFUFy4sT8uyEJpJnexP5E89VKKI7E/GD+pxxpOsD9CV/+CVzqwP2/Ep0S3uKQ/m5Lyg27woz/uhwnYY5ijP7Wqxv9lEZ4/sL8UiysLmD9Pwvb8JvzmPk/C9vwm/OY+T8L2/Cb85j5Pwvb8JvzmPk/C9vwm/OY+",
          "dtype": "f8"
         }
        },
        {
         "customdata": {
          "bdata": "AAAAAAAEoEAAAAAAAASgQAAAAAAABKBAAAAAAAAEoEAAAAAAAASgQAAAAAAABKBAAAAAAAAEoEAAAAAAAASgQAAAAAAABKBAAAAAAAAEoEAAAAAAAASgQAAAAAAABKBAAAAAAAAEoEAAAAAAAASgQAAAAAAABKBAAAAAAAAEoEAAAAAAAASgQAAAAAAABKBAAAAAAAAEoEAAAAAAAASgQAAAAAAABKBAAAAAAAAEoEAAAAAAAASgQAAAAAAABKBAAAAAAAAEoEAAAAAAAASgQAAAAAAABKBAAAAAAAAEoEAAAAAAAASgQAAAAAAABKBAAAAAAAAEoEAAAAAAAASgQAAAAAAABKBAAAAAAAAEoEAAAAAAAASgQAAAAAAABKBAAAAAAAAEoEAAAAAAAASgQAAAAAAABKBAAAAAAAAEoEAAAAAAAASgQAAAAAAABKBAAAAAAAAEoEAAAAAAAASgQAAAAAAABKBAAAAAAAAEoEAAAAAAAASgQAAAAAAABKBA",
          "dtype": "f8",
          "shape": "48, 1"
         },
         "hovertemplate": "<b>Time Step:</b> %{x}<br><b>Budget Left Ratio:</b> %{y:.3f}<br><b>Budget:</b> %{customdata[0]:.0f}<br><extra></extra>",
         "line": {
          "color": "rgb(53, 65, 154)",
          "width": 1.5
         },
         "mode": "lines",
         "opacity": 0.35,
         "showlegend": false,
         "type": "scatter",
         "x": {
          "bdata": "AAECAwQFBgcICQoLDA0ODxAREhMUFRYXGBkaGxwdHh8gISIjJCUmJygpKissLS4v",
          "dtype": "i1"
         },
         "y": {
          "bdata": "orW48+0d7z/HVDs4UODuP3ITORHSn+4/ibSq+l+Y7j8yUo/gLYbuP53jjA4Jfu4/3UnqrkB57j/dSequQHnuP91J6q5Aee4/PHsIWs947j88ewhaz3juPzx7CFrPeO4/ohg3G2R47j+iGDcbZHjuP5RZR7gCcu4/WiQrWs5w7j94sx5Zju7nP/tKjSsYHeI/wVwQSLzmzz+SV98s9/y2P72rHzqKl7U/FLE7RaFc+D4UsTtFoVz4PhSxO0WhXPg+FLE7RaFc+D4UsTtFoVz4PhSxO0WhXPg+FLE7RaFc+D4UsTtFoVz4PhSxO0WhXPg+FLE7RaFc+D4UsTtFoVz4PhSxO0WhXPg+FLE7RaFc+D4UsTtFoVz4PhSxO0WhXPg+FLE7RaFc+D4UsTtFoVz4PhSxO0WhXPg+FLE7RaFc+D4UsTtFoVz4PhSxO0WhXPg+FLE7RaFc+D4UsTtFoVz4PhSxO0WhXPg+FLE7RaFc+D4UsTtFoVz4PhSxO0WhXPg+",
          "dtype": "f8"
         }
        },
        {
         "customdata": {
          "bdata": "AAAAAAB4rkAAAAAAAHiuQAAAAAAAeK5AAAAAAAB4rkAAAAAAAHiuQAAAAAAAeK5AAAAAAAB4rkAAAAAAAHiuQAAAAAAAeK5AAAAAAAB4rkAAAAAAAHiuQAAAAAAAeK5AAAAAAAB4rkAAAAAAAHiuQAAAAAAAeK5AAAAAAAB4rkAAAAAAAHiuQAAAAAAAeK5AAAAAAAB4rkAAAAAAAHiuQAAAAAAAeK5AAAAAAAB4rkAAAAAAAHiuQAAAAAAAeK5AAAAAAAB4rkAAAAAAAHiuQAAAAAAAeK5AAAAAAAB4rkAAAAAAAHiuQAAAAAAAeK5AAAAAAAB4rkAAAAAAAHiuQAAAAAAAeK5AAAAAAAB4rkAAAAAAAHiuQAAAAAAAeK5AAAAAAAB4rkAAAAAAAHiuQAAAAAAAeK5AAAAAAAB4rkAAAAAAAHiuQAAAAAAAeK5AAAAAAAB4rkAAAAAAAHiuQAAAAAAAeK5AAAAAAAB4rkAAAAAAAHiuQAAAAAAAeK5A",
          "dtype": "f8",
          "shape": "48, 1"
         },
         "hovertemplate": "<b>Time Step:</b> %{x}<br><b>Budget Left Ratio:</b> %{y:.3f}<br><b>Budget:</b> %{customdata[0]:.0f}<br><extra></extra>",
         "line": {
          "color": "rgb(253, 191, 113)",
          "width": 1.5
         },
         "mode": "lines",
         "opacity": 0.35,
         "showlegend": false,
         "type": "scatter",
         "x": {
          "bdata": "AAECAwQFBgcICQoLDA0ODxAREhMUFRYXGBkaGxwdHh8gISIjJCUmJygpKissLS4v",
          "dtype": "i1"
         },
         "y": {
          "bdata": "AAAAAAAA8D8AAAAAAADwPwAAAAAAAPA/AAAAAAAA8D8AAAAAAADwPwAAAAAAAPA/AAAAAAAA8D8AAAAAAADwPwAAAAAAAPA/AAAAAAAA8D8AAAAAAADwPwAAAAAAAPA/AAAAAAAA8D8AAAAAAADwPwAAAAAAAPA/AAAAAAAA8D8kwyUv1r3uP6MJgqEobus/RLfFsn4r6D/1l4J/cJHlP6RFvjzZjOE/MSkaSXs82z8CYB3/7BLWP29e2l6VbdA/tgWKchOLyj/55YiNGpTIP0NuE9DZSMY/x/WZ/SpHwD8PyTH/1PCzPz8fyer6CK8/rocDlsR7qj+SG3xeDV6jP9uRdrhOmaE/zKq6Ci6amj8zEdYe3pyUPz59CpaqMpQ/IPh8YAlKiz9lUWrcT7ttP7Wwcbnwe+w+tbBxufB77D61sHG58HvsPrWwcbnwe+w+tbBxufB77D61sHG58HvsPrWwcbnwe+w+tbBxufB77D61sHG58HvsPrWwcbnwe+w+",
          "dtype": "f8"
         }
        },
        {
         "customdata": {
          "bdata": "AAAAAAD0qkAAAAAAAPSqQAAAAAAA9KpAAAAAAAD0qkAAAAAAAPSqQAAAAAAA9KpAAAAAAAD0qkAAAAAAAPSqQAAAAAAA9KpAAAAAAAD0qkAAAAAAAPSqQAAAAAAA9KpAAAAAAAD0qkAAAAAAAPSqQAAAAAAA9KpAAAAAAAD0qkAAAAAAAPSqQAAAAAAA9KpAAAAAAAD0qkAAAAAAAPSqQAAAAAAA9KpAAAAAAAD0qkAAAAAAAPSqQAAAAAAA9KpAAAAAAAD0qkAAAAAAAPSqQAAAAAAA9KpAAAAAAAD0qkAAAAAAAPSqQAAAAAAA9KpAAAAAAAD0qkAAAAAAAPSqQAAAAAAA9KpAAAAAAAD0qkAAAAAAAPSqQAAAAAAA9KpAAAAAAAD0qkAAAAAAAPSqQAAAAAAA9KpAAAAAAAD0qkAAAAAAAPSqQAAAAAAA9KpAAAAAAAD0qkAAAAAAAPSqQAAAAAAA9KpAAAAAAAD0qkAAAAAAAPSqQAAAAAAA9KpA",
          "dtype": "f8",
          "shape": "48, 1"
         },
         "hovertemplate": "<b>Time Step:</b> %{x}<br><b>Budget Left Ratio:</b> %{y:.3f}<br><b>Budget:</b> %{customdata[0]:.0f}<br><extra></extra>",
         "line": {
          "color": "rgb(255, 252, 187)",
          "width": 1.5
         },
         "mode": "lines",
         "opacity": 0.35,
         "showlegend": false,
         "type": "scatter",
         "x": {
          "bdata": "AAECAwQFBgcICQoLDA0ODxAREhMUFRYXGBkaGxwdHh8gISIjJCUmJygpKissLS4v",
          "dtype": "i1"
         },
         "y": {
          "bdata": "AAAAAAAA8D+fbfF9R/7vP5xSwfoT/O8/XXhQjx377z9deFCPHfvvP2RormmW+u8/ZGiuaZb67z9kaK5plvrvP8YnDvekwe8//AHHlSmR7z8/yu7vIUXvP5umfADhqe0/kTA3PL+c7D+xPt91kpbrP52fr0PRBOo/zVURThCV5z/NVRFOEJXnP81VEU4Qlec/zVURThCV5z/NVRFOEJXnP81VEU4Qlec/+9z7J+2U5z+6eQjnvZDnP61R1a+Gi+c/N17ijVNP5T8K0dayMR7jP5KFbaavYOA/QQHBWCI03z8sPRZGSLzbP0/dFktuV9c/1EE1sEzk0T+yRbbVpmDKP/5aJJYeWMo/xK0c3HXcyT/3dWWsQeHIP+Yv0Dt+V8c/mPYqg94exT8roYcanarDP2PehrZUg8I/unaWlT9kwT+6dpaVP2TBP8eUYPrAYcE/Uq4suhQswT/ecqW94WDAP9/0wKaDwL0/XZHb0iVAuz9GnkBTWde0P+G5hrrT4bM/",
          "dtype": "f8"
         }
        },
        {
         "customdata": {
          "bdata": "AAAAAADAskAAAAAAAMCyQAAAAAAAwLJAAAAAAADAskAAAAAAAMCyQAAAAAAAwLJAAAAAAADAskAAAAAAAMCyQAAAAAAAwLJAAAAAAADAskAAAAAAAMCyQAAAAAAAwLJAAAAAAADAskAAAAAAAMCyQAAAAAAAwLJAAAAAAADAskAAAAAAAMCyQAAAAAAAwLJAAAAAAADAskAAAAAAAMCyQAAAAAAAwLJAAAAAAADAskAAAAAAAMCyQAAAAAAAwLJAAAAAAADAskAAAAAAAMCyQAAAAAAAwLJAAAAAAADAskAAAAAAAMCyQAAAAAAAwLJAAAAAAADAskAAAAAAAMCyQAAAAAAAwLJAAAAAAADAskAAAAAAAMCyQAAAAAAAwLJAAAAAAADAskAAAAAAAMCyQAAAAAAAwLJAAAAAAADAskAAAAAAAMCyQAAAAAAAwLJAAAAAAADAskAAAAAAAMCyQAAAAAAAwLJAAAAAAADAskAAAAAAAMCyQAAAAAAAwLJA",
          "dtype": "f8",
          "shape": "48, 1"
         },
         "hovertemplate": "<b>Time Step:</b> %{x}<br><b>Budget Left Ratio:</b> %{y:.3f}<br><b>Budget:</b> %{customdata[0]:.0f}<br><extra></extra>",
         "line": {
          "color": "rgb(174, 8, 38)",
          "width": 1.5
         },
         "mode": "lines",
         "opacity": 0.35,
         "showlegend": false,
         "type": "scatter",
         "x": {
          "bdata": "AAECAwQFBgcICQoLDA0ODxAREhMUFRYXGBkaGxwdHh8gISIjJCUmJygpKissLS4v",
          "dtype": "i1"
         },
         "y": {
          "bdata": "PcAtfauU7z9cFMERC2XvP/Ehv4sIFO8/PWgnDCUP7z+bCG69Yw3vP2q4Pb/iA+8/DC/vSdT27j9+XLUgt+TuP35ctSC35O4/fly1ILfk7j9+XLUgt+TuP35ctSC35O4/fly1ILfk7j9+XLUgt+TuP35ctSC35O4/fly1ILfk7j+4yM+ya1PuP4wLjypP4e0/qQPWulVs7T+KzcZBLD3tP3REumDR6Os/dTIXGAz86T8mQpocISznPwqlfaGq/uQ/IhFFWiTP5D+N1tywDKTkPyQPIGX+XuQ/WAWhTMXz4z8dNkVvsyzjP/GfuE56juI/UDE34GEK4T8HXYN3hbrfP3vQ5FJth9s/nRgzG2jq1j+mUy/U/8rQP83JIxWiWsg/qw70iBmSxj/sxXvxp3HCP50CGHBo1ro/oOsy0J32sz/asL9GgOCpP0s+hB5GFZI/+cWS9WDJxz75xZL1YMnHPvnFkvVgycc++cWS9WDJxz75xZL1YMnHPvnFkvVgycc+",
          "dtype": "f8"
         }
        },
        {
         "customdata": {
          "bdata": "AAAAAABooEAAAAAAAGigQAAAAAAAaKBAAAAAAABooEAAAAAAAGigQAAAAAAAaKBAAAAAAABooEAAAAAAAGigQAAAAAAAaKBAAAAAAABooEAAAAAAAGigQAAAAAAAaKBAAAAAAABooEAAAAAAAGigQAAAAAAAaKBAAAAAAABooEAAAAAAAGigQAAAAAAAaKBAAAAAAABooEAAAAAAAGigQAAAAAAAaKBAAAAAAABooEAAAAAAAGigQAAAAAAAaKBAAAAAAABooEAAAAAAAGigQAAAAAAAaKBAAAAAAABooEAAAAAAAGigQAAAAAAAaKBAAAAAAABooEAAAAAAAGigQAAAAAAAaKBAAAAAAABooEAAAAAAAGigQAAAAAAAaKBAAAAAAABooEAAAAAAAGigQAAAAAAAaKBAAAAAAABooEAAAAAAAGigQAAAAAAAaKBAAAAAAABooEAAAAAAAGigQAAAAAAAaKBAAAAAAABooEAAAAAAAGigQAAAAAAAaKBA",
          "dtype": "f8",
          "shape": "48, 1"
         },
         "hovertemplate": "<b>Time Step:</b> %{x}<br><b>Budget Left Ratio:</b> %{y:.3f}<br><b>Budget:</b> %{customdata[0]:.0f}<br><extra></extra>",
         "line": {
          "color": "rgb(56, 76, 160)",
          "width": 1.5
         },
         "mode": "lines",
         "opacity": 0.35,
         "showlegend": false,
         "type": "scatter",
         "x": {
          "bdata": "AAECAwQFBgcICQoLDA0ODxAREhMUFRYXGBkaGxwdHh8gISIjJCUmJygpKissLS4v",
          "dtype": "i1"
         },
         "y": {
          "bdata": "AAAAAAAA8D+bn78+tv/vP5ufvz62/+8/m5+/Prb/7z+bn78+tv/vP5ufvz62/+8/m5+/Prb/7z+bn78+tv/vP5ufvz62/+8/m5+/Prb/7z+bn78+tv/vP5ufvz62/+8/m5+/Prb/7z81jz0jZf/vPzWPPSNl/+8/NY89I2X/7z81jz0jZf/vPzWPPSNl/+8/NY89I2X/7z81jz0jZf/vPzWPPSNl/+8/NY89I2X/7z81jz0jZf/vPzWPPSNl/+8/hHK3y5co7j8+zL+Aed/lP6ogOoskJt4/c1gWb/Eg0T/bsz7rUB3IP9HHDsvOOMA/T3Zzp9rLuT+fnUrW3yOuP5+dStbfI64/n51K1t8jrj+fnUrW3yOuP7b3OUaEG64/D6rUWdxerD9LI/YHXeOrPzEH5/kJ7KU/us/7hUTRoz/2qC3tdfGYPxut0bQeYAE/G63RtB5gAT8brdG0HmABPxut0bQeYAE/G63RtB5gAT8brdG0HmABPxut0bQeYAE/",
          "dtype": "f8"
         }
        },
        {
         "customdata": {
          "bdata": "AAAAAACQqkAAAAAAAJCqQAAAAAAAkKpAAAAAAACQqkAAAAAAAJCqQAAAAAAAkKpAAAAAAACQqkAAAAAAAJCqQAAAAAAAkKpAAAAAAACQqkAAAAAAAJCqQAAAAAAAkKpAAAAAAACQqkAAAAAAAJCqQAAAAAAAkKpAAAAAAACQqkAAAAAAAJCqQAAAAAAAkKpAAAAAAACQqkAAAAAAAJCqQAAAAAAAkKpAAAAAAACQqkAAAAAAAJCqQAAAAAAAkKpAAAAAAACQqkAAAAAAAJCqQAAAAAAAkKpAAAAAAACQqkAAAAAAAJCqQAAAAAAAkKpAAAAAAACQqkAAAAAAAJCqQAAAAAAAkKpAAAAAAACQqkAAAAAAAJCqQAAAAAAAkKpAAAAAAACQqkAAAAAAAJCqQAAAAAAAkKpAAAAAAACQqkAAAAAAAJCqQAAAAAAAkKpAAAAAAACQqkAAAAAAAJCqQAAAAAAAkKpAAAAAAACQqkAAAAAAAJCqQAAAAAAAkKpA",
          "dtype": "f8",
          "shape": "48, 1"
         },
         "hovertemplate": "<b>Time Step:</b> %{x}<br><b>Budget Left Ratio:</b> %{y:.3f}<br><b>Budget:</b> %{customdata[0]:.0f}<br><extra></extra>",
         "line": {
          "color": "rgb(252, 254, 196)",
          "width": 1.5
         },
         "mode": "lines",
         "opacity": 0.35,
         "showlegend": false,
         "type": "scatter",
         "x": {
          "bdata": "AAECAwQFBgcICQoLDA0ODxAREhMUFRYXGBkaGxwdHh8gISIjJCUmJygpKissLS4v",
          "dtype": "i1"
         },
         "y": {
          "bdata": "AAAAAAAA8D8AAAAAAADwPwAAAAAAAPA/AAAAAAAA8D8AAAAAAADwPwAAAAAAAPA/AAAAAAAA8D8AAAAAAADwPwAAAAAAAPA/AAAAAAAA8D8AAAAAAADwPwAAAAAAAPA/AAAAAAAA8D8AAAAAAADwPwAAAAAAAPA/5752mhr87z/nvnaaGvzvP+e+dpoa/O8/5752mhr87z8wLYjFqvvvPyW7NDgc++8/j235myHw7z+F8meXE6zvPxk4U0q2au8/LUYQ3nBT7T/FSe6EwVvqPwRZD4TpNec/wTKmneVh5D81fu+NDzviP78c/EHhYOA/R+al1+sp3T8vJip/njXZP/W+H9cVNNk/lKvrSx8a2T+Ix5pzDcTYPwK4t+PKhtg/Wltqo9Th1z80hiFCrCPXPxTHP5R6ntU/NThyxaho0z/n4d0ODjXTP89lZ+YuVtE/chKek3b/zT//yIYBtnTJPxMAs6dGG78/BTh70aDDtD/B4E/xz4StP99FrExV6vM+",
          "dtype": "f8"
         }
        },
        {
         "customdata": {
          "bdata": "AAAAAADUp0AAAAAAANSnQAAAAAAA1KdAAAAAAADUp0AAAAAAANSnQAAAAAAA1KdAAAAAAADUp0AAAAAAANSnQAAAAAAA1KdAAAAAAADUp0AAAAAAANSnQAAAAAAA1KdAAAAAAADUp0AAAAAAANSnQAAAAAAA1KdAAAAAAADUp0AAAAAAANSnQAAAAAAA1KdAAAAAAADUp0AAAAAAANSnQAAAAAAA1KdAAAAAAADUp0AAAAAAANSnQAAAAAAA1KdAAAAAAADUp0AAAAAAANSnQAAAAAAA1KdAAAAAAADUp0AAAAAAANSnQAAAAAAA1KdAAAAAAADUp0AAAAAAANSnQAAAAAAA1KdAAAAAAADUp0AAAAAAANSnQAAAAAAA1KdAAAAAAADUp0AAAAAAANSnQAAAAAAA1KdAAAAAAADUp0AAAAAAANSnQAAAAAAA1KdAAAAAAADUp0AAAAAAANSnQAAAAAAA1KdAAAAAAADUp0AAAAAAANSnQAAAAAAA1KdA",
          "dtype": "f8",
          "shape": "48, 1"
         },
         "hovertemplate": "<b>Time Step:</b> %{x}<br><b>Budget Left Ratio:</b> %{y:.3f}<br><b>Budget:</b> %{customdata[0]:.0f}<br><extra></extra>",
         "line": {
          "color": "rgb(207, 235, 243)",
          "width": 1.5
         },
         "mode": "lines",
         "opacity": 0.35,
         "showlegend": false,
         "type": "scatter",
         "x": {
          "bdata": "AAECAwQFBgcICQoLDA0ODxAREhMUFRYXGBkaGxwdHh8gISIjJCUmJygpKissLS4v",
          "dtype": "i1"
         },
         "y": {
          "bdata": "AAAAAAAA8D8AAAAAAADwP+ptHcsH/+8/3kkQN4f+7z/eSRA3h/7vP95JEDeH/u8/3kkQN4f+7z/eSRA3h/7vP95JEDeH/u8/3kkQN4f+7z/eSRA3h/7vP95JEDeH/u8/3kkQN4f+7z/eSRA3h/7vP95JEDeH/u8/3kkQN4f+7z/eSRA3h/7vP95JEDeH/u8/3kkQN4f+7z/eSRA3h/7vP95JEDeH/u8/3kkQN4f+7z/eSRA3h/7vP95JEDeH/u8/0luFOy3+7z8BLGSGqP3vP8cAOg+p9+8/3ibm9Dn37z+m4oLi3/HvP1KYnrET5e8/1SZAnuW+7z9dLEf4P1/vP9HV1n81Jus/2OiuN6Ul5D/y2eL2Dj/gP8eD2UHScNo/+2hX65BJ1z+wInIEYz7UPxOtuaItJtE/o/srA7tszz8qNNIKrnbKPyYsVK+1fL4/AIC3fH/Trz/NTEVWNZikP3tO3EIIvqA/QPRtpXgD5D5A9G2leAPkPkD0baV4A+Q+",
          "dtype": "f8"
         }
        },
        {
         "customdata": {
          "bdata": "AAAAAABooEAAAAAAAGigQAAAAAAAaKBAAAAAAABooEAAAAAAAGigQAAAAAAAaKBAAAAAAABooEAAAAAAAGigQAAAAAAAaKBAAAAAAABooEAAAAAAAGigQAAAAAAAaKBAAAAAAABooEAAAAAAAGigQAAAAAAAaKBAAAAAAABooEAAAAAAAGigQAAAAAAAaKBAAAAAAABooEAAAAAAAGigQAAAAAAAaKBAAAAAAABooEAAAAAAAGigQAAAAAAAaKBAAAAAAABooEAAAAAAAGigQAAAAAAAaKBAAAAAAABooEAAAAAAAGigQAAAAAAAaKBAAAAAAABooEAAAAAAAGigQAAAAAAAaKBAAAAAAABooEAAAAAAAGigQAAAAAAAaKBAAAAAAABooEAAAAAAAGigQAAAAAAAaKBAAAAAAABooEAAAAAAAGigQAAAAAAAaKBAAAAAAABooEAAAAAAAGigQAAAAAAAaKBAAAAAAABooEAAAAAAAGigQAAAAAAAaKBA",
          "dtype": "f8",
          "shape": "48, 1"
         },
         "hovertemplate": "<b>Time Step:</b> %{x}<br><b>Budget Left Ratio:</b> %{y:.3f}<br><b>Budget:</b> %{customdata[0]:.0f}<br><extra></extra>",
         "line": {
          "color": "rgb(56, 76, 160)",
          "width": 1.5
         },
         "mode": "lines",
         "opacity": 0.35,
         "showlegend": false,
         "type": "scatter",
         "x": {
          "bdata": "AAECAwQFBgcICQoLDA0ODxAREhMUFRYXGBkaGxwdHh8gISIjJCUmJygpKissLS4v",
          "dtype": "i1"
         },
         "y": {
          "bdata": "AAAAAAAA8D+bn78+tv/vP5ufvz62/+8/m5+/Prb/7z+bn78+tv/vP5ufvz62/+8/m5+/Prb/7z+bn78+tv/vP5ufvz62/+8/m5+/Prb/7z+bn78+tv/vP5ufvz62/+8/m5+/Prb/7z+bn78+tv/vP5ufvz62/+8/m5+/Prb/7z+bn78+tv/vP5ufvz62/+8/m5+/Prb/7z+bn78+tv/vP5ufvz62/+8/m5+/Prb/7z+bn78+tv/vP5ufvz62/+8/bxNm0SNB7j94HwcjylfoP4L6dzbEbOE/rKvYJAm+1T9yS3wvz7rPPyIP/eNUDsY/9bVo3J23wT9RkvMDE661P1GS8wMTrrU/xLvVYnCqtT/Eu9VicKq1Pyfwpo/XnbU/nGBrCbgmtD+7VamfE5ezP11KUfp5Ga4/b7EwsyRWqj+8W4q8vK6hP0GnDe9CIy8/XkBsVkdG+j5eQGxWR0b6Pl5AbFZHRvo+XkBsVkdG+j5eQGxWR0b6Pl5AbFZHRvo+",
          "dtype": "f8"
         }
        },
        {
         "customdata": {
          "bdata": "AAAAAABAn0AAAAAAAECfQAAAAAAAQJ9AAAAAAABAn0AAAAAAAECfQAAAAAAAQJ9AAAAAAABAn0AAAAAAAECfQAAAAAAAQJ9AAAAAAABAn0AAAAAAAECfQAAAAAAAQJ9AAAAAAABAn0AAAAAAAECfQAAAAAAAQJ9AAAAAAABAn0AAAAAAAECfQAAAAAAAQJ9AAAAAAABAn0AAAAAAAECfQAAAAAAAQJ9AAAAAAABAn0AAAAAAAECfQAAAAAAAQJ9AAAAAAABAn0AAAAAAAECfQAAAAAAAQJ9AAAAAAABAn0AAAAAAAECfQAAAAAAAQJ9AAAAAAABAn0AAAAAAAECfQAAAAAAAQJ9AAAAAAABAn0AAAAAAAECfQAAAAAAAQJ9AAAAAAABAn0AAAAAAAECfQAAAAAAAQJ9AAAAAAABAn0AAAAAAAECfQAAAAAAAQJ9AAAAAAABAn0AAAAAAAECfQAAAAAAAQJ9AAAAAAABAn0AAAAAAAECfQAAAAAAAQJ9A",
          "dtype": "f8",
          "shape": "48, 1"
         },
         "hovertemplate": "<b>Time Step:</b> %{x}<br><b>Budget Left Ratio:</b> %{y:.3f}<br><b>Budget:</b> %{customdata[0]:.0f}<br><extra></extra>",
         "line": {
          "color": "rgb(49, 54, 149)",
          "width": 1.5
         },
         "mode": "lines",
         "opacity": 0.35,
         "showlegend": false,
         "type": "scatter",
         "x": {
          "bdata": "AAECAwQFBgcICQoLDA0ODxAREhMUFRYXGBkaGxwdHh8gISIjJCUmJygpKissLS4v",
          "dtype": "i1"
         },
         "y": {
          "bdata": "AAAAAAAA8D8AAAAAAADwPwAAAAAAAPA/Dy2hRKf/7z8PLaFEp//vPw8toUSn/+8/Dy2hRKf/7z8PLaFEp//vPw8toUSn/+8/Dy2hRKf/7z8PLaFEp//vPw8toUSn/+8/Dy2hRKf/7z8PLaFEp//vPw8toUSn/+8/Dy2hRKf/7z8PLaFEp//vPw8toUSn/+8/Dy2hRKf/7z8PLaFEp//vPw8toUSn/+8/Dy2hRKf/7z8PLaFEp//vPw8toUSn/+8/Dy2hRKf/7z8PLaFEp//vPw8toUSn/+8/Dy2hRKf/7z8PLaFEp//vPw8toUSn/+8/Dy2hRKf/7z/+Gmend//vPwogZ4S43+8/V8txfOpv7z8XFkQ6bq3uP1RxzWk5xu0/871C9BNy7D9eFZjKRJ7rP4DOvaqPleo/CqlUUvLj6T8FTbuAwRLjP4thP5J+2NU/SEGA8qHDtz8OLbK7HEkFPw4tsrscSQU/Di2yuxxJBT8OLbK7HEkFPw4tsrscSQU/",
          "dtype": "f8"
         }
        },
        {
         "customdata": {
          "bdata": "AAAAAABYq0AAAAAAAFirQAAAAAAAWKtAAAAAAABYq0AAAAAAAFirQAAAAAAAWKtAAAAAAABYq0AAAAAAAFirQAAAAAAAWKtAAAAAAABYq0AAAAAAAFirQAAAAAAAWKtAAAAAAABYq0AAAAAAAFirQAAAAAAAWKtAAAAAAABYq0AAAAAAAFirQAAAAAAAWKtAAAAAAABYq0AAAAAAAFirQAAAAAAAWKtAAAAAAABYq0AAAAAAAFirQAAAAAAAWKtAAAAAAABYq0AAAAAAAFirQAAAAAAAWKtAAAAAAABYq0AAAAAAAFirQAAAAAAAWKtAAAAAAABYq0AAAAAAAFirQAAAAAAAWKtAAAAAAABYq0AAAAAAAFirQAAAAAAAWKtAAAAAAABYq0AAAAAAAFirQAAAAAAAWKtAAAAAAABYq0AAAAAAAFirQAAAAAAAWKtAAAAAAABYq0AAAAAAAFirQAAAAAAAWKtAAAAAAABYq0AAAAAAAFirQAAAAAAAWKtA",
          "dtype": "f8",
          "shape": "48, 1"
         },
         "hovertemplate": "<b>Time Step:</b> %{x}<br><b>Budget Left Ratio:</b> %{y:.3f}<br><b>Budget:</b> %{customdata[0]:.0f}<br><extra></extra>",
         "line": {
          "color": "rgb(255, 247, 179)",
          "width": 1.5
         },
         "mode": "lines",
         "opacity": 0.35,
         "showlegend": false,
         "type": "scatter",
         "x": {
          "bdata": "AAECAwQFBgcICQoLDA0ODxAREhMUFRYXGBkaGxwdHh8gISIjJCUmJygpKissLS4v",
          "dtype": "i1"
         },
         "y": {
          "bdata": "NvA/a9X97z+mBY9cf/vvP1VzAc8r9e8//Vma+A7z7z/I1CQA3vDvPwzFJG+h8O8/4iX73xjw7z8v2fwweu/vP48AbPZU7O8/jwBs9lTs7z9Zb+qWnOvvP/q5oVR36O8/u2erGTPf7z/BuNPfHsnvP64X+84yw+8/++rTXTmw7z/76tNdObDvP/vq0105sO8/++rTXTmw7z/76tNdObDvP/vq0105sO8/++rTXTmw7z/76tNdObDvP/vq0105sO8/3zu9XfGS6z++suvsLEXnP4LxpLrGeuE/i3dxQMjC2T+57ameE27QP2mIfsAg3sE/jVeGgcQpqj+qruczNiyPP6qu5zM2LI8/qq7nMzYsjz+qruczNiyPP6qu5zM2LI8/qq7nMzYsjz96IO7QNB2PP3og7tA0HY8/eiDu0DQdjz96IO7QNB2PP0TCJKnuEo8/l/Qa0Kj6jT8xCKaONCaHP/T91NAK0u8+9P3U0ArS7z70/dTQCtLvPvT91NAK0u8+",
          "dtype": "f8"
         }
        },
        {
         "customdata": {
          "bdata": "AAAAAAD+sEAAAAAAAP6wQAAAAAAA/rBAAAAAAAD+sEAAAAAAAP6wQAAAAAAA/rBAAAAAAAD+sEAAAAAAAP6wQAAAAAAA/rBAAAAAAAD+sEAAAAAAAP6wQAAAAAAA/rBAAAAAAAD+sEAAAAAAAP6wQAAAAAAA/rBAAAAAAAD+sEAAAAAAAP6wQAAAAAAA/rBAAAAAAAD+sEAAAAAAAP6wQAAAAAAA/rBAAAAAAAD+sEAAAAAAAP6wQAAAAAAA/rBAAAAAAAD+sEAAAAAAAP6wQAAAAAAA/rBAAAAAAAD+sEAAAAAAAP6wQAAAAAAA/rBAAAAAAAD+sEAAAAAAAP6wQAAAAAAA/rBAAAAAAAD+sEAAAAAAAP6wQAAAAAAA/rBAAAAAAAD+sEAAAAAAAP6wQAAAAAAA/rBAAAAAAAD+sEAAAAAAAP6wQAAAAAAA/rBAAAAAAAD+sEAAAAAAAP6wQAAAAAAA/rBAAAAAAAD+sEAAAAAAAP6wQAAAAAAA/rBA",
          "dtype": "f8",
          "shape": "48, 1"
         },
         "hovertemplate": "<b>Time Step:</b> %{x}<br><b>Budget Left Ratio:</b> %{y:.3f}<br><b>Budget:</b> %{customdata[0]:.0f}<br><extra></extra>",
         "line": {
          "color": "rgb(237, 94, 60)",
          "width": 1.5
         },
         "mode": "lines",
         "opacity": 0.35,
         "showlegend": false,
         "type": "scatter",
         "x": {
          "bdata": "AAECAwQFBgcICQoLDA0ODxAREhMUFRYXGBkaGxwdHh8gISIjJCUmJygpKissLS4v",
          "dtype": "i1"
         },
         "y": {
          "bdata": "AAAAAAAA8D8AAAAAAADwPwAAAAAAAPA/AAAAAAAA8D8AAAAAAADwPwAAAAAAAPA/AAAAAAAA8D8AAAAAAADwPxDVu+N5/e8/+AxOXyH57z+aaQ+5NfPvP/qYpY8F2O8/w9oq78qv7z9Bq0w2k4LvP9InU1iZbO8/mIrm5ahG7z+YiublqEbvP5iK5uWoRu8/mIrm5ahG7z+YiublqEbvP5iK5uWoRu8/mIrm5ahG7z+YiublqEbvP5iK5uWoRu8/cmgvpZLm7D8KgXAfSLXpP8YFLiofruY/2DiClPQO5D/MWKAUG4nhP5qQ8cUjOd0/TGbD3PLC1D8FacjRtUDMPwVpyNG1QMw/jfFB7sw/zD9/U8ilFz7MPx/GQu6LKcw/klvohJASzD+oFawg0cvLP7dTx62iycs/cWHpd59Myz8WPqlCrp7KP/7xKTEqRsM/HGxYCtFNuT+iYqBRjgyoP4bzcBMh0aI/N1PTKnNulj9SN1pR+8OIP/zZPKXCyeQ+",
          "dtype": "f8"
         }
        },
        {
         "customdata": {
          "bdata": "AAAAAAAqskAAAAAAACqyQAAAAAAAKrJAAAAAAAAqskAAAAAAACqyQAAAAAAAKrJAAAAAAAAqskAAAAAAACqyQAAAAAAAKrJAAAAAAAAqskAAAAAAACqyQAAAAAAAKrJAAAAAAAAqskAAAAAAACqyQAAAAAAAKrJAAAAAAAAqskAAAAAAACqyQAAAAAAAKrJAAAAAAAAqskAAAAAAACqyQAAAAAAAKrJAAAAAAAAqskAAAAAAACqyQAAAAAAAKrJAAAAAAAAqskAAAAAAACqyQAAAAAAAKrJAAAAAAAAqskAAAAAAACqyQAAAAAAAKrJAAAAAAAAqskAAAAAAACqyQAAAAAAAKrJAAAAAAAAqskAAAAAAACqyQAAAAAAAKrJAAAAAAAAqskAAAAAAACqyQAAAAAAAKrJAAAAAAAAqskAAAAAAACqyQAAAAAAAKrJAAAAAAAAqskAAAAAAACqyQAAAAAAAKrJAAAAAAAAqskAAAAAAACqyQAAAAAAAKrJA",
          "dtype": "f8",
          "shape": "48, 1"
         },
         "hovertemplate": "<b>Time Step:</b> %{x}<br><b>Budget Left Ratio:</b> %{y:.3f}<br><b>Budget:</b> %{customdata[0]:.0f}<br><extra></extra>",
         "line": {
          "color": "rgb(200, 34, 39)",
          "width": 1.5
         },
         "mode": "lines",
         "opacity": 0.35,
         "showlegend": false,
         "type": "scatter",
         "x": {
          "bdata": "AAECAwQFBgcICQoLDA0ODxAREhMUFRYXGBkaGxwdHh8gISIjJCUmJygpKissLS4v",
          "dtype": "i1"
         },
         "y": {
          "bdata": "C8LmpZrS7z8k1TujTJrvPxWgteCnmO8/hvbYs4Z97z+m6EacxXzvP9ahrsrddu8/Wc47g9Z17z+HqMyOJHLvP4eozI4kcu8/h6jMjiRy7z+HqMyOJHLvP4eozI4kcu8/h6jMjiRy7z+HqMyOJHLvP4eozI4kcu8/h6jMjiRy7z/6nftAWYvuP0veiNcxU+s/ttFwZgbt6D/scamnV3TmP9bcdl5VlOI/K2zirClV3T+eGvc3oI/VPzUpaeE7hMw/NSlp4TuEzD81KWnhO4TMPzUpaeE7hMw/NSlp4TuEzD81KWnhO4TMPzUpaeE7hMw/NSlp4TuEzD81KWnhO4TMPwy7UGCyjcc/6H10bbthwz+itGCJrsS9P/VZ+c4KkbI/od/Hav1ZpD9i7h8GO3DWPmLuHwY7cNY+Yu4fBjtw1j5i7h8GO3DWPmLuHwY7cNY+Yu4fBjtw1j5i7h8GO3DWPmLuHwY7cNY+Yu4fBjtw1j5i7h8GO3DWPmLuHwY7cNY+",
          "dtype": "f8"
         }
        },
        {
         "customdata": {
          "bdata": "AAAAAABAn0AAAAAAAECfQAAAAAAAQJ9AAAAAAABAn0AAAAAAAECfQAAAAAAAQJ9AAAAAAABAn0AAAAAAAECfQAAAAAAAQJ9AAAAAAABAn0AAAAAAAECfQAAAAAAAQJ9AAAAAAABAn0AAAAAAAECfQAAAAAAAQJ9AAAAAAABAn0AAAAAAAECfQAAAAAAAQJ9AAAAAAABAn0AAAAAAAECfQAAAAAAAQJ9AAAAAAABAn0AAAAAAAECfQAAAAAAAQJ9AAAAAAABAn0AAAAAAAECfQAAAAAAAQJ9AAAAAAABAn0AAAAAAAECfQAAAAAAAQJ9AAAAAAABAn0AAAAAAAECfQAAAAAAAQJ9AAAAAAABAn0AAAAAAAECfQAAAAAAAQJ9AAAAAAABAn0AAAAAAAECfQAAAAAAAQJ9AAAAAAABAn0AAAAAAAECfQAAAAAAAQJ9AAAAAAABAn0AAAAAAAECfQAAAAAAAQJ9AAAAAAABAn0AAAAAAAECfQAAAAAAAQJ9A",
          "dtype": "f8",
          "shape": "48, 1"
         },
         "hovertemplate": "<b>Time Step:</b> %{x}<br><b>Budget Left Ratio:</b> %{y:.3f}<br><b>Budget:</b> %{customdata[0]:.0f}<br><extra></extra>",
         "line": {
          "color": "rgb(49, 54, 149)",
          "width": 1.5
         },
         "mode": "lines",
         "opacity": 0.35,
         "showlegend": false,
         "type": "scatter",
         "x": {
          "bdata": "AAECAwQFBgcICQoLDA0ODxAREhMUFRYXGBkaGxwdHh8gISIjJCUmJygpKissLS4v",
          "dtype": "i1"
         },
         "y": {
          "bdata": "AAAAAAAA8D8AAAAAAADwPwAAAAAAAPA/AAAAAAAA8D8AAAAAAADwPwAAAAAAAPA/AAAAAAAA8D8AAAAAAADwPwAAAAAAAPA/AAAAAAAA8D8AAAAAAADwPwAAAAAAAPA/AAAAAAAA8D8AAAAAAADwPwAAAAAAAPA/AAAAAAAA8D8AAAAAAADwP77vHyrn/e8/tUr1qKX57z+yXf13D/nvP8r6xOoA2u8/j4NPZw7Y7z/cxIzGd8XvP/Tkq4Psse8/9OSrg+yx7z/05KuD7LHvP/Tkq4Psse8/9OSrg+yx7z/05KuD7LHvP/Tkq4Psse8/9OSrg+yx7z/05KuD7LHvP/DzSdpXUe8/iEWXEiyG7j/H1FcHxjDtPzuhYduxY+s/npHNydOd5z/wbqWeeX3iP2B9kqfICdg/YmT/BCy1zz8tbmgtc+LKP5FRy4z4G8Y/xZgNxfatuz9SuJ6SGmHxPlK4npIaYfE+Uriekhph8T5SuJ6SGmHxPlK4npIaYfE+",
          "dtype": "f8"
         }
        },
        {
         "customdata": {
          "bdata": "AAAAAABAn0AAAAAAAECfQAAAAAAAQJ9AAAAAAABAn0AAAAAAAECfQAAAAAAAQJ9AAAAAAABAn0AAAAAAAECfQAAAAAAAQJ9AAAAAAABAn0AAAAAAAECfQAAAAAAAQJ9AAAAAAABAn0AAAAAAAECfQAAAAAAAQJ9AAAAAAABAn0AAAAAAAECfQAAAAAAAQJ9AAAAAAABAn0AAAAAAAECfQAAAAAAAQJ9AAAAAAABAn0AAAAAAAECfQAAAAAAAQJ9AAAAAAABAn0AAAAAAAECfQAAAAAAAQJ9AAAAAAABAn0AAAAAAAECfQAAAAAAAQJ9AAAAAAABAn0AAAAAAAECfQAAAAAAAQJ9AAAAAAABAn0AAAAAAAECfQAAAAAAAQJ9AAAAAAABAn0AAAAAAAECfQAAAAAAAQJ9AAAAAAABAn0AAAAAAAECfQAAAAAAAQJ9AAAAAAABAn0AAAAAAAECfQAAAAAAAQJ9AAAAAAABAn0AAAAAAAECfQAAAAAAAQJ9A",
          "dtype": "f8",
          "shape": "48, 1"
         },
         "hovertemplate": "<b>Time Step:</b> %{x}<br><b>Budget Left Ratio:</b> %{y:.3f}<br><b>Budget:</b> %{customdata[0]:.0f}<br><extra></extra>",
         "line": {
          "color": "rgb(49, 54, 149)",
          "width": 1.5
         },
         "mode": "lines",
         "opacity": 0.35,
         "showlegend": false,
         "type": "scatter",
         "x": {
          "bdata": "AAECAwQFBgcICQoLDA0ODxAREhMUFRYXGBkaGxwdHh8gISIjJCUmJygpKissLS4v",
          "dtype": "i1"
         },
         "y": {
          "bdata": "SBY43nT67z8elA3q083vP+JumBy0y+8/CmDhP5rI7z/QX9xsX8fvP9Bf3Gxfx+8/icZPKf/G7z+Jxk8p/8bvP2kJglF0xu8/X1boIvzF7z98O9LCh8XvP9rJRpFWve8/2LE3P8i17z/Dq4T40bDvP1r+OfmTcu8/Wv45+ZNy7z9a/jn5k3LvP1r+OfmTcu8/Wv45+ZNy7z9a/jn5k3LvP1r+OfmTcu8/Wv45+ZNy7z9a/jn5k3LvP1r+OfmTcu8/b+GSgk8k5z+/sOEpdavhP5Y1eQTdrto/NyEtmnFU0z8x0GT98RbOPwAKm+A1K8U/M8v2O9ghuj9eul5OHGajP166Xk4cZqM/XrpeThxmoz9xxWFoS2KjP+kO4+HHXaM/y2GiIhRvoj8jy8MlgbKfP91EOeNzmp8/sCKg3KtdnD9tN6P/Y3ybP8O1VARqG5g/0cLT+6LwkD8lBoFKG2jaPiUGgUobaNo+JQaBShto2j4lBoFKG2jaPiUGgUobaNo+",
          "dtype": "f8"
         }
        },
        {
         "customdata": {
          "bdata": "AAAAAAD0qkAAAAAAAPSqQAAAAAAA9KpAAAAAAAD0qkAAAAAAAPSqQAAAAAAA9KpAAAAAAAD0qkAAAAAAAPSqQAAAAAAA9KpAAAAAAAD0qkAAAAAAAPSqQAAAAAAA9KpAAAAAAAD0qkAAAAAAAPSqQAAAAAAA9KpAAAAAAAD0qkAAAAAAAPSqQAAAAAAA9KpAAAAAAAD0qkAAAAAAAPSqQAAAAAAA9KpAAAAAAAD0qkAAAAAAAPSqQAAAAAAA9KpAAAAAAAD0qkAAAAAAAPSqQAAAAAAA9KpAAAAAAAD0qkAAAAAAAPSqQAAAAAAA9KpAAAAAAAD0qkAAAAAAAPSqQAAAAAAA9KpAAAAAAAD0qkAAAAAAAPSqQAAAAAAA9KpAAAAAAAD0qkAAAAAAAPSqQAAAAAAA9KpAAAAAAAD0qkAAAAAAAPSqQAAAAAAA9KpAAAAAAAD0qkAAAAAAAPSqQAAAAAAA9KpAAAAAAAD0qkAAAAAAAPSqQAAAAAAA9KpA",
          "dtype": "f8",
          "shape": "48, 1"
         },
         "hovertemplate": "<b>Time Step:</b> %{x}<br><b>Budget Left Ratio:</b> %{y:.3f}<br><b>Budget:</b> %{customdata[0]:.0f}<br><extra></extra>",
         "line": {
          "color": "rgb(255, 252, 187)",
          "width": 1.5
         },
         "mode": "lines",
         "opacity": 0.35,
         "showlegend": false,
         "type": "scatter",
         "x": {
          "bdata": "AAECAwQFBgcICQoLDA0ODxAREhMUFRYXGBkaGxwdHh8gISIjJCUmJygpKissLS4v",
          "dtype": "i1"
         },
         "y": {
          "bdata": "GlVGmPRb7z9gIuJ5L0bvPylu59mpOe8/RElKoScp7z8fvKTTNSHvP5zbaF+bH+8/RBeOSpEc7z9EF45KkRzvP0QXjkqRHO8/RBeOSpEc7z9EF45KkRzvP0QXjkqRHO8/RBeOSpEc7z9EF45KkRzvP0QXjkqRHO8/RBeOSpEc7z9EF45KkRzvP+U1YmJdHO8/kRSyyeMb7z9URX+m9uzuP7ie6AcO6+4/UbgDPQfp7j+k/WPUYufuP7Qo36OJ2+4/WqAI3a567T8AMOXky6nqP9KDkRp1iuc/ebD6i37I5T+Mupu3sDjjP3bRudG2+eA/BEHtMFGj3D8TEDh8QzLYPxMQOHxDMtg/ExA4fEMy2D+96A4KNjHYP2Lho+W8KNg/Y0l1Awsa2D+zyMOZh5bXP5e0SRYQ69Y/wpqsE5ff1D8ctNQDqYzSP4VQPHIiltA/joqPwzuVxD+IcY8jRPe7P73UPn1aWKw/24HqL0d9oD8I0yqmTFpyP9yYgiDYFPU+",
          "dtype": "f8"
         }
        },
        {
         "customdata": {
          "bdata": "AAAAAACopkAAAAAAAKimQAAAAAAAqKZAAAAAAACopkAAAAAAAKimQAAAAAAAqKZAAAAAAACopkAAAAAAAKimQAAAAAAAqKZAAAAAAACopkAAAAAAAKimQAAAAAAAqKZAAAAAAACopkAAAAAAAKimQAAAAAAAqKZAAAAAAACopkAAAAAAAKimQAAAAAAAqKZAAAAAAACopkAAAAAAAKimQAAAAAAAqKZAAAAAAACopkAAAAAAAKimQAAAAAAAqKZAAAAAAACopkAAAAAAAKimQAAAAAAAqKZAAAAAAACopkAAAAAAAKimQAAAAAAAqKZAAAAAAACopkAAAAAAAKimQAAAAAAAqKZAAAAAAACopkAAAAAAAKimQAAAAAAAqKZAAAAAAACopkAAAAAAAKimQAAAAAAAqKZAAAAAAACopkAAAAAAAKimQAAAAAAAqKZAAAAAAACopkAAAAAAAKimQAAAAAAAqKZAAAAAAACopkAAAAAAAKimQAAAAAAAqKZA",
          "dtype": "f8",
          "shape": "48, 1"
         },
         "hovertemplate": "<b>Time Step:</b> %{x}<br><b>Budget Left Ratio:</b> %{y:.3f}<br><b>Budget:</b> %{customdata[0]:.0f}<br><extra></extra>",
         "line": {
          "color": "rgb(179, 221, 235)",
          "width": 1.5
         },
         "mode": "lines",
         "opacity": 0.35,
         "showlegend": false,
         "type": "scatter",
         "x": {
          "bdata": "AAECAwQFBgcICQoLDA0ODxAREhMUFRYXGBkaGxwdHh8gISIjJCUmJygpKissLS4v",
          "dtype": "i1"
         },
         "y": {
          "bdata": "AAAAAAAA8D8AAAAAAADwPwAAAAAAAPA/AAAAAAAA8D8AAAAAAADwPwAAAAAAAPA/AAAAAAAA8D8AAAAAAADwPwAAAAAAAPA/AAAAAAAA8D8AAAAAAADwPwAAAAAAAPA/AAAAAAAA8D8AAAAAAADwPwAAAAAAAPA/AAAAAAAA8D8AAAAAAADwPwAAAAAAAPA/AAAAAAAA8D/ehjDOgP/vP9EDa6RA/+8/0QNrpED/7z/V/fg89u/vP9vhSphA5u8/QLb5cUbQ7z/GG/oagT/vP1tCu2vSlu0/ybDwVoFE6z8bEMdwdvPpPxL1LqDAzOc/24X31qwx5j8yUSVpCdfkP6b2CWxFyuI/v2kuk/SA4D/hHA+E/QndP8ECnVeRu9k/GJ3NcvW61z+ue9YDSs/WPxd+oKnhhtQ/YA0d1dK20j+bCFcFiobPP0tsinAUycc/j5LvX2eMwj/K90K8cYewPxY3XXEb5Jc/HgJ2fkb9kj8hlwQ/aT3RPiGXBD9pPdE+",
          "dtype": "f8"
         }
        },
        {
         "customdata": {
          "bdata": "AAAAAACQqkAAAAAAAJCqQAAAAAAAkKpAAAAAAACQqkAAAAAAAJCqQAAAAAAAkKpAAAAAAACQqkAAAAAAAJCqQAAAAAAAkKpAAAAAAACQqkAAAAAAAJCqQAAAAAAAkKpAAAAAAACQqkAAAAAAAJCqQAAAAAAAkKpAAAAAAACQqkAAAAAAAJCqQAAAAAAAkKpAAAAAAACQqkAAAAAAAJCqQAAAAAAAkKpAAAAAAACQqkAAAAAAAJCqQAAAAAAAkKpAAAAAAACQqkAAAAAAAJCqQAAAAAAAkKpAAAAAAACQqkAAAAAAAJCqQAAAAAAAkKpAAAAAAACQqkAAAAAAAJCqQAAAAAAAkKpAAAAAAACQqkAAAAAAAJCqQAAAAAAAkKpAAAAAAACQqkAAAAAAAJCqQAAAAAAAkKpAAAAAAACQqkAAAAAAAJCqQAAAAAAAkKpAAAAAAACQqkAAAAAAAJCqQAAAAAAAkKpAAAAAAACQqkAAAAAAAJCqQAAAAAAAkKpA",
          "dtype": "f8",
          "shape": "48, 1"
         },
         "hovertemplate": "<b>Time Step:</b> %{x}<br><b>Budget Left Ratio:</b> %{y:.3f}<br><b>Budget:</b> %{customdata[0]:.0f}<br><extra></extra>",
         "line": {
          "color": "rgb(252, 254, 196)",
          "width": 1.5
         },
         "mode": "lines",
         "opacity": 0.35,
         "showlegend": false,
         "type": "scatter",
         "x": {
          "bdata": "AAECAwQFBgcICQoLDA0ODxAREhMUFRYXGBkaGxwdHh8gISIjJCUmJygpKissLS4v",
          "dtype": "i1"
         },
         "y": {
          "bdata": "AAAAAAAA8D8AAAAAAADwPwAAAAAAAPA/AAAAAAAA8D8AAAAAAADwPwAAAAAAAPA/AAAAAAAA8D8AAAAAAADwPwAAAAAAAPA/AAAAAAAA8D8AAAAAAADwPwAAAAAAAPA/AAAAAAAA8D8AAAAAAADwPwAAAAAAAPA/feOtxQv87z99463FC/zvP33jrcUL/O8/feOtxQv87z/ndazEP/vvPx5ltJob++8/piQh0Zjx7z9fAiVHYqrvPwY28bZnfO8/MVDzX92c7j+uYVIZavjqPz9b6qfdTec/uPKq0wQx5D8bn3N2EgTiP1wkjJowGuA/cLYz5uC73D+S4rP5d0/ZP5Lis/l3T9k/6UG+6twv2T85EZ2CksXYP9vMC/7zetg/XZJw+cbn1z8HqOZELzrXP5y9Oz8I79U/z5Ak5gXq0z/kJY2s+7nTPzzkK3WFCtI/NOmHUOrHzT/PGMdfgMvIP973W/ROAcA/pMCblPNSsz+S3lAvnIWsP/yVLw2FoOY+",
          "dtype": "f8"
         }
        },
        {
         "customdata": {
          "bdata": "AAAAAAD4oUAAAAAAAPihQAAAAAAA+KFAAAAAAAD4oUAAAAAAAPihQAAAAAAA+KFAAAAAAAD4oUAAAAAAAPihQAAAAAAA+KFAAAAAAAD4oUAAAAAAAPihQAAAAAAA+KFAAAAAAAD4oUAAAAAAAPihQAAAAAAA+KFAAAAAAAD4oUAAAAAAAPihQAAAAAAA+KFAAAAAAAD4oUAAAAAAAPihQAAAAAAA+KFAAAAAAAD4oUAAAAAAAPihQAAAAAAA+KFAAAAAAAD4oUAAAAAAAPihQAAAAAAA+KFAAAAAAAD4oUAAAAAAAPihQAAAAAAA+KFAAAAAAAD4oUAAAAAAAPihQAAAAAAA+KFAAAAAAAD4oUAAAAAAAPihQAAAAAAA+KFAAAAAAAD4oUAAAAAAAPihQAAAAAAA+KFAAAAAAAD4oUAAAAAAAPihQAAAAAAA+KFAAAAAAAD4oUAAAAAAAPihQAAAAAAA+KFAAAAAAAD4oUAAAAAAAPihQAAAAAAA+KFA",
          "dtype": "f8",
          "shape": "48, 1"
         },
         "hovertemplate": "<b>Time Step:</b> %{x}<br><b>Budget Left Ratio:</b> %{y:.3f}<br><b>Budget:</b> %{customdata[0]:.0f}<br><extra></extra>",
         "line": {
          "color": "rgb(71, 120, 182)",
          "width": 1.5
         },
         "mode": "lines",
         "opacity": 0.35,
         "showlegend": false,
         "type": "scatter",
         "x": {
          "bdata": "AAECAwQFBgcICQoLDA0ODxAREhMUFRYXGBkaGxwdHh8gISIjJCUmJygpKissLS4v",
          "dtype": "i1"
         },
         "y": {
          "bdata": "AAAAAAAA8D8AAAAAAADwP/CCECSa/+8/8IIQJJr/7z/wghAkmv/vP/CCECSa/+8/8IIQJJr/7z/wghAkmv/vP/CCECSa/+8/8IIQJJr/7z/wghAkmv/vP/CCECSa/+8/8IIQJJr/7z/wghAkmv/vP/CCECSa/+8/8IIQJJr/7z86a8nDi0HvP4nghVjWxOo/Qed3gRLR5z/adg9h6PrgP/Qk/m7gydo/TjwbOuwW1D909cNFaoq8P1M6YDvD6q8/UzpgO8Pqrz9TOmA7w+qvP1M6YDvD6q8/UzpgO8Pqrz9TOmA7w+qvP1M6YDvD6q8/UzpgO8Pqrz9TOmA7w+qvP96ylv78tK4/t1vgF6C7qD+X1M/EoNmbP6i54H0XCIs/0pcivNv2hT8roS+y9oaFP2YlLBDF0IE/Uvn3Kk5pgD9S+fcqTmmAP2Of3oIfMoA/dww23Yqwdz9N7RWfywsgP6q9KjyYo+0+qr0qPJij7T6qvSo8mKPtPqq9KjyYo+0+",
          "dtype": "f8"
         }
        },
        {
         "customdata": {
          "bdata": "AAAAAABAn0AAAAAAAECfQAAAAAAAQJ9AAAAAAABAn0AAAAAAAECfQAAAAAAAQJ9AAAAAAABAn0AAAAAAAECfQAAAAAAAQJ9AAAAAAABAn0AAAAAAAECfQAAAAAAAQJ9AAAAAAABAn0AAAAAAAECfQAAAAAAAQJ9AAAAAAABAn0AAAAAAAECfQAAAAAAAQJ9AAAAAAABAn0AAAAAAAECfQAAAAAAAQJ9AAAAAAABAn0AAAAAAAECfQAAAAAAAQJ9AAAAAAABAn0AAAAAAAECfQAAAAAAAQJ9AAAAAAABAn0AAAAAAAECfQAAAAAAAQJ9AAAAAAABAn0AAAAAAAECfQAAAAAAAQJ9AAAAAAABAn0AAAAAAAECfQAAAAAAAQJ9AAAAAAABAn0AAAAAAAECfQAAAAAAAQJ9AAAAAAABAn0AAAAAAAECfQAAAAAAAQJ9AAAAAAABAn0AAAAAAAECfQAAAAAAAQJ9AAAAAAABAn0AAAAAAAECfQAAAAAAAQJ9A",
          "dtype": "f8",
          "shape": "48, 1"
         },
         "hovertemplate": "<b>Time Step:</b> %{x}<br><b>Budget Left Ratio:</b> %{y:.3f}<br><b>Budget:</b> %{customdata[0]:.0f}<br><extra></extra>",
         "line": {
          "color": "rgb(49, 54, 149)",
          "width": 1.5
         },
         "mode": "lines",
         "opacity": 0.35,
         "showlegend": false,
         "type": "scatter",
         "x": {
          "bdata": "AAECAwQFBgcICQoLDA0ODxAREhMUFRYXGBkaGxwdHh8gISIjJCUmJygpKissLS4v",
          "dtype": "i1"
         },
         "y": {
          "bdata": "RiLGdJ7x7z/uVf/G3uvvP5ef6A+p6u8/rA5CbT7q7z+sDkJtPurvP6wOQm0+6u8/2dz5i+/o7z/Z3PmL7+jvP9nc+Yvv6O8/2dz5i+/o7z/Z3PmL7+jvP9nc+Yvv6O8/2dz5i+/o7z/Z3PmL7+jvP9nc+Yvv6O8/2dz5i+/o7z/Z3PmL7+jvP9nc+Yvv6O8/2dz5i+/o7z/Z3PmL7+jvP9nc+Yvv6O8/2dz5i+/o7z/vBsnGquXvP2H/+CId2O8/Yf/4Ih3Y7z9h//giHdjvP2H/+CId2O8/Yf/4Ih3Y7z8Dmdvf+dfvPwxvQtvP1+8/DG9C28/X7z8Mb0Lbz9fvP90Cm/kM1Ok/fjhudGH35D9U+c4UIsHgPx0lqkVETtw/Bt0nffxS1T8ZRkLKkvjMP+EoawK+dcg/WJXl0S8FtT9ehi5K2K2zP7YTikIthac/QgDdD4bmoj8/NV79T5zVPj81Xv1PnNU+PzVe/U+c1T4/NV79T5zVPj81Xv1PnNU+",
          "dtype": "f8"
         }
        },
        {
         "customdata": {
          "bdata": "AAAAAAAEoEAAAAAAAASgQAAAAAAABKBAAAAAAAAEoEAAAAAAAASgQAAAAAAABKBAAAAAAAAEoEAAAAAAAASgQAAAAAAABKBAAAAAAAAEoEAAAAAAAASgQAAAAAAABKBAAAAAAAAEoEAAAAAAAASgQAAAAAAABKBAAAAAAAAEoEAAAAAAAASgQAAAAAAABKBAAAAAAAAEoEAAAAAAAASgQAAAAAAABKBAAAAAAAAEoEAAAAAAAASgQAAAAAAABKBAAAAAAAAEoEAAAAAAAASgQAAAAAAABKBAAAAAAAAEoEAAAAAAAASgQAAAAAAABKBAAAAAAAAEoEAAAAAAAASgQAAAAAAABKBAAAAAAAAEoEAAAAAAAASgQAAAAAAABKBAAAAAAAAEoEAAAAAAAASgQAAAAAAABKBAAAAAAAAEoEAAAAAAAASgQAAAAAAABKBAAAAAAAAEoEAAAAAAAASgQAAAAAAABKBAAAAAAAAEoEAAAAAAAASgQAAAAAAABKBA",
          "dtype": "f8",
          "shape": "48, 1"
         },
         "hovertemplate": "<b>Time Step:</b> %{x}<br><b>Budget Left Ratio:</b> %{y:.3f}<br><b>Budget:</b> %{customdata[0]:.0f}<br><extra></extra>",
         "line": {
          "color": "rgb(53, 65, 154)",
          "width": 1.5
         },
         "mode": "lines",
         "opacity": 0.35,
         "showlegend": false,
         "type": "scatter",
         "x": {
          "bdata": "AAECAwQFBgcICQoLDA0ODxAREhMUFRYXGBkaGxwdHh8gISIjJCUmJygpKissLS4v",
          "dtype": "i1"
         },
         "y": {
          "bdata": "5IOI0f7R7z+mDQey51/vP6me2EFq9O4/86Aho7GP7j9O4xyya/LtP0jvXOjZze0/tdPPnHXA7T8eFomQN6btP4K4h+DMoe0/cesDDqSS7T8555vrNlHtPw/49nG4wOw/4u+iJOmJ6j/dt0Kc/rfpP+z9YWlz2OY/9FcDMaZA5D/0kJzvbTbkPzk7NwGCpuM/ZUycVOsh4z8t3RtXd7nhPyGW79pTe+E/Pd1AokNx4T9X05MC7UzhP6Od0WD9NOE/241LiRfs1j/44LaE+DXGPyRuRyL4CuI+JG5HIvgK4j4kbkci+AriPiRuRyL4CuI+JG5HIvgK4j4kbkci+AriPiRuRyL4CuI+JG5HIvgK4j4kbkci+AriPiRuRyL4CuI+JG5HIvgK4j4kbkci+AriPiRuRyL4CuI+JG5HIvgK4j4kbkci+AriPiRuRyL4CuI+JG5HIvgK4j4kbkci+AriPiRuRyL4CuI+JG5HIvgK4j4kbkci+AriPiRuRyL4CuI+",
          "dtype": "f8"
         }
        },
        {
         "customdata": {
          "bdata": "AAAAAADyskAAAAAAAPKyQAAAAAAA8rJAAAAAAADyskAAAAAAAPKyQAAAAAAA8rJAAAAAAADyskAAAAAAAPKyQAAAAAAA8rJAAAAAAADyskAAAAAAAPKyQAAAAAAA8rJAAAAAAADyskAAAAAAAPKyQAAAAAAA8rJAAAAAAADyskAAAAAAAPKyQAAAAAAA8rJAAAAAAADyskAAAAAAAPKyQAAAAAAA8rJAAAAAAADyskAAAAAAAPKyQAAAAAAA8rJAAAAAAADyskAAAAAAAPKyQAAAAAAA8rJAAAAAAADyskAAAAAAAPKyQAAAAAAA8rJAAAAAAADyskAAAAAAAPKyQAAAAAAA8rJAAAAAAADyskAAAAAAAPKyQAAAAAAA8rJAAAAAAADyskAAAAAAAPKyQAAAAAAA8rJAAAAAAADyskAAAAAAAPKyQAAAAAAA8rJAAAAAAADyskAAAAAAAPKyQAAAAAAA8rJAAAAAAADyskAAAAAAAPKyQAAAAAAA8rJA",
          "dtype": "f8",
          "shape": "48, 1"
         },
         "hovertemplate": "<b>Time Step:</b> %{x}<br><b>Budget Left Ratio:</b> %{y:.3f}<br><b>Budget:</b> %{customdata[0]:.0f}<br><extra></extra>",
         "line": {
          "color": "rgb(165, 0, 38)",
          "width": 1.5
         },
         "mode": "lines",
         "opacity": 0.35,
         "showlegend": false,
         "type": "scatter",
         "x": {
          "bdata": "AAECAwQFBgcICQoLDA0ODxAREhMUFRYXGBkaGxwdHh8gISIjJCUmJygpKissLS4v",
          "dtype": "i1"
         },
         "y": {
          "bdata": "0W22MNv/7z81Nk+PNfbvP1rYXlke3u8/mkWwkW3a7z/jPXcFWMzvPxWGvpZoyO8/YPSC3VDF7z+XsciW+cTvP5exyJb5xO8/l7HIlvnE7z+XsciW+cTvP5exyJb5xO8/l7HIlvnE7z+XsciW+cTvP5exyJb5xO8/l7HIlvnE7z+XsciW+cTvP33USGnExO8/gimbuV3C7z9URHTd97/vP/I3/6eLsO8/w0+lY1CX7z+xiB1pUYrvP0077FSriO8/sWdMPASI7z/HL8VYyITvP52b1HPJf+8/Nodb7/9+7z9tXY3J8HrvP1oVZGxgeu8/AjNPqBhv7z85ILjoYmvvPw4xuPWVpO4/GmgVZrEJ7D/FQanYV8joP9zPGu0KnuU/CudDIdq55D8nbhGx/A3kP78SclVyreI/izlVwUYU4T+rWsQ+wQjfP5qa03mAo9s//PnCON9p1T9eSk0cYlzQP6R1K1OsrMU/knzUBr3Qtj/2cr8o0+uOP8qkX9ZFmeA+",
          "dtype": "f8"
         }
        },
        {
         "customdata": {
          "bdata": "AAAAAADgpUAAAAAAAOClQAAAAAAA4KVAAAAAAADgpUAAAAAAAOClQAAAAAAA4KVAAAAAAADgpUAAAAAAAOClQAAAAAAA4KVAAAAAAADgpUAAAAAAAOClQAAAAAAA4KVAAAAAAADgpUAAAAAAAOClQAAAAAAA4KVAAAAAAADgpUAAAAAAAOClQAAAAAAA4KVAAAAAAADgpUAAAAAAAOClQAAAAAAA4KVAAAAAAADgpUAAAAAAAOClQAAAAAAA4KVAAAAAAADgpUAAAAAAAOClQAAAAAAA4KVAAAAAAADgpUAAAAAAAOClQAAAAAAA4KVAAAAAAADgpUAAAAAAAOClQAAAAAAA4KVAAAAAAADgpUAAAAAAAOClQAAAAAAA4KVAAAAAAADgpUAAAAAAAOClQAAAAAAA4KVAAAAAAADgpUAAAAAAAOClQAAAAAAA4KVAAAAAAADgpUAAAAAAAOClQAAAAAAA4KVAAAAAAADgpUAAAAAAAOClQAAAAAAA4KVA",
          "dtype": "f8",
          "shape": "48, 1"
         },
         "hovertemplate": "<b>Time Step:</b> %{x}<br><b>Budget Left Ratio:</b> %{y:.3f}<br><b>Budget:</b> %{customdata[0]:.0f}<br><extra></extra>",
         "line": {
          "color": "rgb(160, 209, 228)",
          "width": 1.5
         },
         "mode": "lines",
         "opacity": 0.35,
         "showlegend": false,
         "type": "scatter",
         "x": {
          "bdata": "AAECAwQFBgcICQoLDA0ODxAREhMUFRYXGBkaGxwdHh8gISIjJCUmJygpKissLS4v",
          "dtype": "i1"
         },
         "y": {
          "bdata": "AAAAAAAA8D8AAAAAAADwPwehEF7B/+8/B6EQXsH/7z8HoRBewf/vPwehEF7B/+8/B6EQXsH/7z8HoRBewf/vPwehEF7B/+8/B6EQXsH/7z8HoRBewf/vPwehEF7B/+8/B6EQXsH/7z8HoRBewf/vPwehEF7B/+8/B6EQXsH/7z94IJ+1VN/vP9t/7FIIXu4/CZKoxaNZ6z8fIjbqG6rmP96iVRiv694/DcHyt3tg0T8aMg3UXIfEP4655ZsJkLg/jrnlmwmQuD+OueWbCZC4P4655ZsJkLg/jrnlmwmQuD+OueWbCZC4P4655ZsJkLg/jrnlmwmQuD+OueWbCZC4P4655ZsJkLg/eIKkzsWKuD9QR0ZZUg63PzwpAjmbSbU/saF0R7jDsj/2iPm9ys+oP4vPsUmYTKI/x0iIHjqloT9WS/YdF/WfP7Hph8kdYZ4/0X++DwoxlT8pXI8uhcXUPilcjy6FxdQ+KVyPLoXF1D4pXI8uhcXUPilcjy6FxdQ+",
          "dtype": "f8"
         }
        },
        {
         "customdata": {
          "bdata": "AAAAAAAYpUAAAAAAABilQAAAAAAAGKVAAAAAAAAYpUAAAAAAABilQAAAAAAAGKVAAAAAAAAYpUAAAAAAABilQAAAAAAAGKVAAAAAAAAYpUAAAAAAABilQAAAAAAAGKVAAAAAAAAYpUAAAAAAABilQAAAAAAAGKVAAAAAAAAYpUAAAAAAABilQAAAAAAAGKVAAAAAAAAYpUAAAAAAABilQAAAAAAAGKVAAAAAAAAYpUAAAAAAABilQAAAAAAAGKVAAAAAAAAYpUAAAAAAABilQAAAAAAAGKVAAAAAAAAYpUAAAAAAABilQAAAAAAAGKVAAAAAAAAYpUAAAAAAABilQAAAAAAAGKVAAAAAAAAYpUAAAAAAABilQAAAAAAAGKVAAAAAAAAYpUAAAAAAABilQAAAAAAAGKVAAAAAAAAYpUAAAAAAABilQAAAAAAAGKVAAAAAAAAYpUAAAAAAABilQAAAAAAAGKVAAAAAAAAYpUAAAAAAABilQAAAAAAAGKVA",
          "dtype": "f8",
          "shape": "48, 1"
         },
         "hovertemplate": "<b>Time Step:</b> %{x}<br><b>Budget Left Ratio:</b> %{y:.3f}<br><b>Budget:</b> %{customdata[0]:.0f}<br><extra></extra>",
         "line": {
          "color": "rgb(141, 193, 220)",
          "width": 1.5
         },
         "mode": "lines",
         "opacity": 0.35,
         "showlegend": false,
         "type": "scatter",
         "x": {
          "bdata": "AAECAwQFBgcICQoLDA0ODxAREhMUFRYXGBkaGxwdHh8gISIjJCUmJygpKissLS4v",
          "dtype": "i1"
         },
         "y": {
          "bdata": "AAAAAAAA8D8AAAAAAADwPwAAAAAAAPA/AAAAAAAA8D8AAAAAAADwPwAAAAAAAPA/AAAAAAAA8D8AAAAAAADwPzoUvnuNre8/arj2I6dC7z+QjMox5bruP5WpWYtmse0/Y6RvxBbH7D/w2rrfap7rP8ROJtR4+uk/hCS0o2t75z9PpMuYeXLnP1kLBCUaGeY/sAXnp0Qk5T92Qp6e9abkP4u9rk7J7eM/yneNaICk4z9Jaj2LxU/jP17jPAwWZeE/gbyuQa9k4T9uzkvJGmHhP27OS8kaYeE/bs5LyRph4T9uzkvJGmHhP+K9RFNlYOE/4r1EU2Vg4T/ivURTZWDhP+K9RFNlYOE/7Pcc0Btg4T/s9xzQG2DhP3ojydnbXuE/yae0wrFd4T+faM6IMJvgPwUy8OPo79s/UiwOGbAa2j8vgMaFqoLZP1HdDHuYotc/tdb2g/1M0z8to2JZw4HJPyLNzrbhO7w/zqvltEn4sD+x5McLC0NHP76E9n7LEeQ+",
          "dtype": "f8"
         }
        },
        {
         "customdata": {
          "bdata": "AAAAAABAn0AAAAAAAECfQAAAAAAAQJ9AAAAAAABAn0AAAAAAAECfQAAAAAAAQJ9AAAAAAABAn0AAAAAAAECfQAAAAAAAQJ9AAAAAAABAn0AAAAAAAECfQAAAAAAAQJ9AAAAAAABAn0AAAAAAAECfQAAAAAAAQJ9AAAAAAABAn0AAAAAAAECfQAAAAAAAQJ9AAAAAAABAn0AAAAAAAECfQAAAAAAAQJ9AAAAAAABAn0AAAAAAAECfQAAAAAAAQJ9AAAAAAABAn0AAAAAAAECfQAAAAAAAQJ9AAAAAAABAn0AAAAAAAECfQAAAAAAAQJ9AAAAAAABAn0AAAAAAAECfQAAAAAAAQJ9AAAAAAABAn0AAAAAAAECfQAAAAAAAQJ9AAAAAAABAn0AAAAAAAECfQAAAAAAAQJ9AAAAAAABAn0AAAAAAAECfQAAAAAAAQJ9AAAAAAABAn0AAAAAAAECfQAAAAAAAQJ9AAAAAAABAn0AAAAAAAECfQAAAAAAAQJ9A",
          "dtype": "f8",
          "shape": "48, 1"
         },
         "hovertemplate": "<b>Time Step:</b> %{x}<br><b>Budget Left Ratio:</b> %{y:.3f}<br><b>Budget:</b> %{customdata[0]:.0f}<br><extra></extra>",
         "line": {
          "color": "rgb(49, 54, 149)",
          "width": 1.5
         },
         "mode": "lines",
         "opacity": 0.35,
         "showlegend": false,
         "type": "scatter",
         "x": {
          "bdata": "AAECAwQFBgcICQoLDA0ODxAREhMUFRYXGBkaGxwdHh8gISIjJCUmJygpKissLS4v",
          "dtype": "i1"
         },
         "y": {
          "bdata": "AAAAAAAA8D8AAAAAAADwPwAAAAAAAPA/AAAAAAAA8D8AAAAAAADwPwAAAAAAAPA/AAAAAAAA8D8AAAAAAADwPwAAAAAAAPA/JHJ1X6D/7z/auyaiVf/vP+k5jau7/u8/jbh4Gg3q7z+GWLn8EenvP75lb6g34u8/3Q8yqqTD7z/dDzKqpMPvP90PMqqkw+8/3Q8yqqTD7z/dDzKqpMPvP90PMqqkw+8/3Q8yqqTD7z/dDzKqpMPvP3Jvyl3qwO8/7kDxE5B/7T+rbJL4/onqP88lalFtbOg/6ZI2qGXp5j98P3iMOvDlPwId6MQ6kuQ/J9VCaSBK4z9zxFD6tCviP+NoLb7EPuE/4+fkOyUu3T/FN0mIPZzXP5ZNAsXga9Q/7CiYk0PK0T+oWifB6qTNP+MNVcXDbso/zZI52plTxz+gTL9I0BTEP8FKPTVqzrk/O7ew9QDOtz/Xs2GJyf6iP9V46SIxt70+1XjpIjG3vT7VeOkiMbe9PtV46SIxt70+",
          "dtype": "f8"
         }
        },
        {
         "customdata": {
          "bdata": "AAAAAADAokAAAAAAAMCiQAAAAAAAwKJAAAAAAADAokAAAAAAAMCiQAAAAAAAwKJAAAAAAADAokAAAAAAAMCiQAAAAAAAwKJAAAAAAADAokAAAAAAAMCiQAAAAAAAwKJAAAAAAADAokAAAAAAAMCiQAAAAAAAwKJAAAAAAADAokAAAAAAAMCiQAAAAAAAwKJAAAAAAADAokAAAAAAAMCiQAAAAAAAwKJAAAAAAADAokAAAAAAAMCiQAAAAAAAwKJAAAAAAADAokAAAAAAAMCiQAAAAAAAwKJAAAAAAADAokAAAAAAAMCiQAAAAAAAwKJAAAAAAADAokAAAAAAAMCiQAAAAAAAwKJAAAAAAADAokAAAAAAAMCiQAAAAAAAwKJAAAAAAADAokAAAAAAAMCiQAAAAAAAwKJAAAAAAADAokAAAAAAAMCiQAAAAAAAwKJAAAAAAADAokAAAAAAAMCiQAAAAAAAwKJAAAAAAADAokAAAAAAAMCiQAAAAAAAwKJA",
          "dtype": "f8",
          "shape": "48, 1"
         },
         "hovertemplate": "<b>Time Step:</b> %{x}<br><b>Budget Left Ratio:</b> %{y:.3f}<br><b>Budget:</b> %{customdata[0]:.0f}<br><extra></extra>",
         "line": {
          "color": "rgb(88, 140, 192)",
          "width": 1.5
         },
         "mode": "lines",
         "opacity": 0.35,
         "showlegend": false,
         "type": "scatter",
         "x": {
          "bdata": "AAECAwQFBgcICQoLDA0ODxAREhMUFRYXGBkaGxwdHh8gISIjJCUmJygpKissLS4v",
          "dtype": "i1"
         },
         "y": {
          "bdata": "RNrdv03/7z8z39pBqFfvP3ZipiFZVu8/N25TtwdV7z/tpNNQzlDvP0hCI2XbTe8/yJuLyB9K7z8CWX1n6EjvPwL1ofcuSO8/45GH7g1G7z+ks195tTvvP/0IR2NpOu8/zeO/ZL4u7z8CnBKCQSfvP/RXSq63I+8/s6d5ojAd7z+zp3miMB3vP1AcxaULHO8/AwrficgA7z+8/irvcOHuP70XdH5U/O0/1a6x3ujw7T+d8nF9m7HtP8/28qusLu0/972OMgwm7T/5zsVq/vrsP33D/XwJ0Ow/opt6l9B67D8TlmsJuETsP3kurz9T6+s/S/+B2rz86j9UJ3zsyVvqP9mHL5SflOk/flcDuuTj6D+Y46+AgWjoPy56dNLFEug/ViqjUHff5z/agYQafsHmPwIsP1+P3uQ/lMYIHOdR4j+CUfcuHGXYP7iSXYPOqMw/T/fs+2G8vz/vRgKGnnG4PxQmHadvnq0/SGF4WarsYz9+sX1tHlthP+i0wXhpgPU+",
          "dtype": "f8"
         }
        },
        {
         "customdata": {
          "bdata": "AAAAAABooEAAAAAAAGigQAAAAAAAaKBAAAAAAABooEAAAAAAAGigQAAAAAAAaKBAAAAAAABooEAAAAAAAGigQAAAAAAAaKBAAAAAAABooEAAAAAAAGigQAAAAAAAaKBAAAAAAABooEAAAAAAAGigQAAAAAAAaKBAAAAAAABooEAAAAAAAGigQAAAAAAAaKBAAAAAAABooEAAAAAAAGigQAAAAAAAaKBAAAAAAABooEAAAAAAAGigQAAAAAAAaKBAAAAAAABooEAAAAAAAGigQAAAAAAAaKBAAAAAAABooEAAAAAAAGigQAAAAAAAaKBAAAAAAABooEAAAAAAAGigQAAAAAAAaKBAAAAAAABooEAAAAAAAGigQAAAAAAAaKBAAAAAAABooEAAAAAAAGigQAAAAAAAaKBAAAAAAABooEAAAAAAAGigQAAAAAAAaKBAAAAAAABooEAAAAAAAGigQAAAAAAAaKBAAAAAAABooEAAAAAAAGigQAAAAAAAaKBA",
          "dtype": "f8",
          "shape": "48, 1"
         },
         "hovertemplate": "<b>Time Step:</b> %{x}<br><b>Budget Left Ratio:</b> %{y:.3f}<br><b>Budget:</b> %{customdata[0]:.0f}<br><extra></extra>",
         "line": {
          "color": "rgb(56, 76, 160)",
          "width": 1.5
         },
         "mode": "lines",
         "opacity": 0.35,
         "showlegend": false,
         "type": "scatter",
         "x": {
          "bdata": "AAECAwQFBgcICQoLDA0ODxAREhMUFRYXGBkaGxwdHh8gISIjJCUmJygpKissLS4v",
          "dtype": "i1"
         },
         "y": {
          "bdata": "AAAAAAAA8D8AAAAAAADwPwAAAAAAAPA/AAAAAAAA8D8AAAAAAADwPwAAAAAAAPA/AAAAAAAA8D8AAAAAAADwPwAAAAAAAPA/AAAAAAAA8D8AAAAAAADwP3YaeHYw/+8/oUoRItf+7z8NahIDdv7vP9magnBk+u8/2ZqCcGT67z/tAnffLfjvP+0Cd98t+O8/jKUWKcn17z+QsadVePDvP7gP9A8k8O8/fsma/bTu7z9A8LAhr+3vP8gKVYsX0e8/YJz2Zj3H7z+UTC2tEbzvP9y0AU4wg+8/4IjcdE937z9357EDc0nvPyuYst808O4/pffHmp3H7j8Hwr3fJ5DuP8VxcSlIp+w/J5EUl8rv6z92j82D1A/qP2inuOSZNek/BnXoCk8/5D+kD0o5ntfgP4NX74XvNtk/akv9Ka9z0D/UYTGz16S/Pxl8CmPXG6k/dNou6eEqoD9Ffy9G6iR+P3qe58UZU/M+ep7nxRlT8z56nufFGVPzPnqe58UZU/M+",
          "dtype": "f8"
         }
        },
        {
         "customdata": {
          "bdata": "AAAAAAAYpUAAAAAAABilQAAAAAAAGKVAAAAAAAAYpUAAAAAAABilQAAAAAAAGKVAAAAAAAAYpUAAAAAAABilQAAAAAAAGKVAAAAAAAAYpUAAAAAAABilQAAAAAAAGKVAAAAAAAAYpUAAAAAAABilQAAAAAAAGKVAAAAAAAAYpUAAAAAAABilQAAAAAAAGKVAAAAAAAAYpUAAAAAAABilQAAAAAAAGKVAAAAAAAAYpUAAAAAAABilQAAAAAAAGKVAAAAAAAAYpUAAAAAAABilQAAAAAAAGKVAAAAAAAAYpUAAAAAAABilQAAAAAAAGKVAAAAAAAAYpUAAAAAAABilQAAAAAAAGKVAAAAAAAAYpUAAAAAAABilQAAAAAAAGKVAAAAAAAAYpUAAAAAAABilQAAAAAAAGKVAAAAAAAAYpUAAAAAAABilQAAAAAAAGKVAAAAAAAAYpUAAAAAAABilQAAAAAAAGKVAAAAAAAAYpUAAAAAAABilQAAAAAAAGKVA",
          "dtype": "f8",
          "shape": "48, 1"
         },
         "hovertemplate": "<b>Time Step:</b> %{x}<br><b>Budget Left Ratio:</b> %{y:.3f}<br><b>Budget:</b> %{customdata[0]:.0f}<br><extra></extra>",
         "line": {
          "color": "rgb(141, 193, 220)",
          "width": 1.5
         },
         "mode": "lines",
         "opacity": 0.35,
         "showlegend": false,
         "type": "scatter",
         "x": {
          "bdata": "AAECAwQFBgcICQoLDA0ODxAREhMUFRYXGBkaGxwdHh8gISIjJCUmJygpKissLS4v",
          "dtype": "i1"
         },
         "y": {
          "bdata": "AAAAAAAA8D8AAAAAAADwPwAAAAAAAPA/AAAAAAAA8D8AAAAAAADwPwAAAAAAAPA/AAAAAAAA8D8AAAAAAADwP858Exsdre8//N1nu7tB7z/wcejrVLzuP0kc6wFqwe0/eqa057OZ7D8IJb/qJwHrP2ElnF/D8+g/xDQELbfL5T+bkH+5yr/lP8snRrZQruQ/QNCJz0bg4z+UvQPlo4PjP1J3Sfyu+OI/hYMHJ2nN4j9Rwdht9Z7iPw11Lx8GHuE/zGsvROUd4T9boSvbehzhP1uhK9t6HOE/pzmk01oc4T+nOaTTWhzhPwOVb+VHGuE/1LjHz7cZ4T+mQiQqkhnhP0MeG2+3F+E/itUOMxYX4T+K1Q4zFhfhPwhXAfh1EeE/8Nk4jLIJ4T/zHsi8t4PfP7Ge55mKmtk/oqBcmmIz2D+47YMWk6TXP945MTdOKdY/z5f3HUX/0T+xeuhMvHLHP4WgFDf+BLo/KL3RoxnLrz+wG93r0d/rPrAb3evR3+s+",
          "dtype": "f8"
         }
        },
        {
         "customdata": {
          "bdata": "AAAAAAAYpUAAAAAAABilQAAAAAAAGKVAAAAAAAAYpUAAAAAAABilQAAAAAAAGKVAAAAAAAAYpUAAAAAAABilQAAAAAAAGKVAAAAAAAAYpUAAAAAAABilQAAAAAAAGKVAAAAAAAAYpUAAAAAAABilQAAAAAAAGKVAAAAAAAAYpUAAAAAAABilQAAAAAAAGKVAAAAAAAAYpUAAAAAAABilQAAAAAAAGKVAAAAAAAAYpUAAAAAAABilQAAAAAAAGKVAAAAAAAAYpUAAAAAAABilQAAAAAAAGKVAAAAAAAAYpUAAAAAAABilQAAAAAAAGKVAAAAAAAAYpUAAAAAAABilQAAAAAAAGKVAAAAAAAAYpUAAAAAAABilQAAAAAAAGKVAAAAAAAAYpUAAAAAAABilQAAAAAAAGKVAAAAAAAAYpUAAAAAAABilQAAAAAAAGKVAAAAAAAAYpUAAAAAAABilQAAAAAAAGKVAAAAAAAAYpUAAAAAAABilQAAAAAAAGKVA",
          "dtype": "f8",
          "shape": "48, 1"
         },
         "hovertemplate": "<b>Time Step:</b> %{x}<br><b>Budget Left Ratio:</b> %{y:.3f}<br><b>Budget:</b> %{customdata[0]:.0f}<br><extra></extra>",
         "line": {
          "color": "rgb(141, 193, 220)",
          "width": 1.5
         },
         "mode": "lines",
         "opacity": 0.35,
         "showlegend": false,
         "type": "scatter",
         "x": {
          "bdata": "AAECAwQFBgcICQoLDA0ODxAREhMUFRYXGBkaGxwdHh8gISIjJCUmJygpKissLS4v",
          "dtype": "i1"
         },
         "y": {
          "bdata": "AAAAAAAA8D9r7y/s7P7vP2vvL+zs/u8/a+8v7Oz+7z85+8Qls/7vP2GbnEdU/u8/YZucR1T+7z9hm5xHVP7vP3snX38i7u8/NcER3mbW7z/z+Pk2md3uPzrpQ47Wge0/LePLOEfU6z+VKF2Y8KXoP7mvFBo/LeM/EB7jdcQs3z8QHuN1xCzfPxAe43XELN8/EB7jdcQs3z8QHuN1xCzfPxAe43XELN8/HK+GNlMs3z8cr4Y2UyzfPxyvhjZTLN8/HK+GNlMs3z8cr4Y2UyzfPxyvhjZTLN8/HK+GNlMs3z+9V2sQ3CvfP71XaxDcK98/vVdrENwr3z+9V2sQ3CvfPwAAr8QxX9w/L986xs220j8XfHPG0dnKPzu8fghU/MY/DunOjCnKxD8lisks0mPBP6FdWf18d7k/jCXVR5C3tT+dVstTHba1P0rKhpGZs7U/t2rb8waCtT8n0770qv60P9XlVCeAQ7M/EVGXRObIsD9Ez07EZY+sP+UXk2hH2XY/",
          "dtype": "f8"
         }
        },
        {
         "customdata": {
          "bdata": "AAAAAABisUAAAAAAAGKxQAAAAAAAYrFAAAAAAABisUAAAAAAAGKxQAAAAAAAYrFAAAAAAABisUAAAAAAAGKxQAAAAAAAYrFAAAAAAABisUAAAAAAAGKxQAAAAAAAYrFAAAAAAABisUAAAAAAAGKxQAAAAAAAYrFAAAAAAABisUAAAAAAAGKxQAAAAAAAYrFAAAAAAABisUAAAAAAAGKxQAAAAAAAYrFAAAAAAABisUAAAAAAAGKxQAAAAAAAYrFAAAAAAABisUAAAAAAAGKxQAAAAAAAYrFAAAAAAABisUAAAAAAAGKxQAAAAAAAYrFAAAAAAABisUAAAAAAAGKxQAAAAAAAYrFAAAAAAABisUAAAAAAAGKxQAAAAAAAYrFAAAAAAABisUAAAAAAAGKxQAAAAAAAYrFAAAAAAABisUAAAAAAAGKxQAAAAAAAYrFAAAAAAABisUAAAAAAAGKxQAAAAAAAYrFAAAAAAABisUAAAAAAAGKxQAAAAAAAYrFA",
          "dtype": "f8",
          "shape": "48, 1"
         },
         "hovertemplate": "<b>Time Step:</b> %{x}<br><b>Budget Left Ratio:</b> %{y:.3f}<br><b>Budget:</b> %{customdata[0]:.0f}<br><extra></extra>",
         "line": {
          "color": "rgb(227, 73, 50)",
          "width": 1.5
         },
         "mode": "lines",
         "opacity": 0.35,
         "showlegend": false,
         "type": "scatter",
         "x": {
          "bdata": "AAECAwQFBgcICQoLDA0ODxAREhMUFRYXGBkaGxwdHh8gISIjJCUmJygpKissLS4v",
          "dtype": "i1"
         },
         "y": {
          "bdata": "AAAAAAAA8D8AAAAAAADwPwAAAAAAAPA/AAAAAAAA8D8AAAAAAADwPwAAAAAAAPA/AAAAAAAA8D8AAAAAAADwPwAAAAAAAPA/AAAAAAAA8D8AAAAAAADwPwAAAAAAAPA/AAAAAAAA8D8AAAAAAADwPwAAAAAAAPA/AAAAAAAA8D8AAAAAAADwP93PU/Hd/+8/CdDO5mX/7z/t8jH4RP/vP+3yMfhE/+8/7fIx+ET/7z/KwjGDJf/vP8rCMYMl/+8/JBcEfJBB7z9QVqd66n3sP/KhlvY9zOg/7/ISzw1m5j+IQciH0QvkP7UHGf4WQeE/RiBkqjNk3D8f5OeVKC3XP24Dvl7859Q/z517Ro740j+HPU5PgLnRP7Io77IryNA/F8o6cRVd0D+S7Dj0dBTPP+yN9i3Njs0/wKlrvOVTyj8JFg7UtJrCP3aAV2xu2LU/dBAW6WJwpz+vzI2ewsh6P2UyqpNH1FU/QerMS95A6z5B6sxL3kDrPkHqzEveQOs+",
          "dtype": "f8"
         }
        },
        {
         "customdata": {
          "bdata": "AAAAAABisUAAAAAAAGKxQAAAAAAAYrFAAAAAAABisUAAAAAAAGKxQAAAAAAAYrFAAAAAAABisUAAAAAAAGKxQAAAAAAAYrFAAAAAAABisUAAAAAAAGKxQAAAAAAAYrFAAAAAAABisUAAAAAAAGKxQAAAAAAAYrFAAAAAAABisUAAAAAAAGKxQAAAAAAAYrFAAAAAAABisUAAAAAAAGKxQAAAAAAAYrFAAAAAAABisUAAAAAAAGKxQAAAAAAAYrFAAAAAAABisUAAAAAAAGKxQAAAAAAAYrFAAAAAAABisUAAAAAAAGKxQAAAAAAAYrFAAAAAAABisUAAAAAAAGKxQAAAAAAAYrFAAAAAAABisUAAAAAAAGKxQAAAAAAAYrFAAAAAAABisUAAAAAAAGKxQAAAAAAAYrFAAAAAAABisUAAAAAAAGKxQAAAAAAAYrFAAAAAAABisUAAAAAAAGKxQAAAAAAAYrFAAAAAAABisUAAAAAAAGKxQAAAAAAAYrFA",
          "dtype": "f8",
          "shape": "48, 1"
         },
         "hovertemplate": "<b>Time Step:</b> %{x}<br><b>Budget Left Ratio:</b> %{y:.3f}<br><b>Budget:</b> %{customdata[0]:.0f}<br><extra></extra>",
         "line": {
          "color": "rgb(227, 73, 50)",
          "width": 1.5
         },
         "mode": "lines",
         "opacity": 0.35,
         "showlegend": false,
         "type": "scatter",
         "x": {
          "bdata": "AAECAwQFBgcICQoLDA0ODxAREhMUFRYXGBkaGxwdHh8gISIjJCUmJygpKissLS4v",
          "dtype": "i1"
         },
         "y": {
          "bdata": "AAAAAAAA8D8AAAAAAADwPwAAAAAAAPA/AAAAAAAA8D8AAAAAAADwPwAAAAAAAPA/AAAAAAAA8D8AAAAAAADwPwAAAAAAAPA/AAAAAAAA8D8PGno2n//vPyUAGhBx/+8/zMGgAYvK7z94QVw0N7vvP4ihqIszc+8/SEJdLOK67j9IQl0s4rruP0hCXSziuu4/SEJdLOK67j9IQl0s4rruP0hCXSziuu4/SEJdLOK67j9IQl0s4rruP0hCXSziuu4/cMwcsi8k7D+LJYbR5izqP/VA+v1HJOg/CmU4FEnJ5T+r1q4Mw4/jP8AITqKpv+E/UvFhYK4A4D8NgaAYoQHdPy/2hxWGiNw/HcG/IFZu3D+Z3pF5H6DbPzDMPZCed9s/ygDkn1Qe2j8oZeVd4oXYPyeAqWNYJdY/wlqv4WF11D8Ve7y7Mw/PP86TvSOR2sk/I3RrMoq/wz8m0iD1ASO8P/A+cxX7Taw/W7kByUjljj/QrMIUEJvmPtCswhQQm+Y+",
          "dtype": "f8"
         }
        },
        {
         "customdata": {
          "bdata": "AAAAAACQqkAAAAAAAJCqQAAAAAAAkKpAAAAAAACQqkAAAAAAAJCqQAAAAAAAkKpAAAAAAACQqkAAAAAAAJCqQAAAAAAAkKpAAAAAAACQqkAAAAAAAJCqQAAAAAAAkKpAAAAAAACQqkAAAAAAAJCqQAAAAAAAkKpAAAAAAACQqkAAAAAAAJCqQAAAAAAAkKpAAAAAAACQqkAAAAAAAJCqQAAAAAAAkKpAAAAAAACQqkAAAAAAAJCqQAAAAAAAkKpAAAAAAACQqkAAAAAAAJCqQAAAAAAAkKpAAAAAAACQqkAAAAAAAJCqQAAAAAAAkKpAAAAAAACQqkAAAAAAAJCqQAAAAAAAkKpAAAAAAACQqkAAAAAAAJCqQAAAAAAAkKpAAAAAAACQqkAAAAAAAJCqQAAAAAAAkKpAAAAAAACQqkAAAAAAAJCqQAAAAAAAkKpAAAAAAACQqkAAAAAAAJCqQAAAAAAAkKpAAAAAAACQqkAAAAAAAJCqQAAAAAAAkKpA",
          "dtype": "f8",
          "shape": "48, 1"
         },
         "hovertemplate": "<b>Time Step:</b> %{x}<br><b>Budget Left Ratio:</b> %{y:.3f}<br><b>Budget:</b> %{customdata[0]:.0f}<br><extra></extra>",
         "line": {
          "color": "rgb(252, 254, 196)",
          "width": 1.5
         },
         "mode": "lines",
         "opacity": 0.35,
         "showlegend": false,
         "type": "scatter",
         "x": {
          "bdata": "AAECAwQFBgcICQoLDA0ODxAREhMUFRYXGBkaGxwdHh8gISIjJCUmJygpKissLS4v",
          "dtype": "i1"
         },
         "y": {
          "bdata": "AAAAAAAA8D8AAAAAAADwPwAAAAAAAPA/AAAAAAAA8D8AAAAAAADwPwAAAAAAAPA/AAAAAAAA8D8AAAAAAADwPwAAAAAAAPA/AAAAAAAA8D8AAAAAAADwPwAAAAAAAPA/AAAAAAAA8D8AAAAAAADwPwAAAAAAAPA/AAAAAAAA8D8AAAAAAADwPwAAAAAAAPA/AAAAAAAA8D8AAAAAAADwPwAAAAAAAPA/j2vAW6T/7z+Pa8BbpP/vP63ledY4/+8/reV51jj/7z+t5XnWOP/vP+H5u7wt/e8/drb8wZP07z+Tuo7l9O/vP/6KZ1L62O8/+/WjsHzQ7z9itnlRtnrvP8yKomMmxu4/099CJW357T/GlW9xYjLtP404BuQqRew/6aBpfkcb6z8n7Q2BEzLqP8iyxMHmXek/ulCwaWNG6D+PYBP8HJDlP00IFIY/feA/9wrehvN/1D+mHbIRcD7JPySNbF8SCLo/dWWfs628sT9fK/gSPQX1Pl8r+BI9BfU+",
          "dtype": "f8"
         }
        },
        {
         "customdata": {
          "bdata": "AAAAAAAEoEAAAAAAAASgQAAAAAAABKBAAAAAAAAEoEAAAAAAAASgQAAAAAAABKBAAAAAAAAEoEAAAAAAAASgQAAAAAAABKBAAAAAAAAEoEAAAAAAAASgQAAAAAAABKBAAAAAAAAEoEAAAAAAAASgQAAAAAAABKBAAAAAAAAEoEAAAAAAAASgQAAAAAAABKBAAAAAAAAEoEAAAAAAAASgQAAAAAAABKBAAAAAAAAEoEAAAAAAAASgQAAAAAAABKBAAAAAAAAEoEAAAAAAAASgQAAAAAAABKBAAAAAAAAEoEAAAAAAAASgQAAAAAAABKBAAAAAAAAEoEAAAAAAAASgQAAAAAAABKBAAAAAAAAEoEAAAAAAAASgQAAAAAAABKBAAAAAAAAEoEAAAAAAAASgQAAAAAAABKBAAAAAAAAEoEAAAAAAAASgQAAAAAAABKBAAAAAAAAEoEAAAAAAAASgQAAAAAAABKBAAAAAAAAEoEAAAAAAAASgQAAAAAAABKBA",
          "dtype": "f8",
          "shape": "48, 1"
         },
         "hovertemplate": "<b>Time Step:</b> %{x}<br><b>Budget Left Ratio:</b> %{y:.3f}<br><b>Budget:</b> %{customdata[0]:.0f}<br><extra></extra>",
         "line": {
          "color": "rgb(53, 65, 154)",
          "width": 1.5
         },
         "mode": "lines",
         "opacity": 0.35,
         "showlegend": false,
         "type": "scatter",
         "x": {
          "bdata": "AAECAwQFBgcICQoLDA0ODxAREhMUFRYXGBkaGxwdHh8gISIjJCUmJygpKissLS4v",
          "dtype": "i1"
         },
         "y": {
          "bdata": "hWS565f/7z89+Dc2N93vPyNr1SWAve8/nMWmxbS37z9KlVdYTKDvP0qVV1hMoO8/SpVXWEyg7z9KlVdYTKDvP0qVV1hMoO8/SpVXWEyg7z9KlVdYTKDvP0qVV1hMoO8/SpVXWEyg7z9KlVdYTKDvP0qVV1hMoO8/SpVXWEyg7z9KlVdYTKDvP0qVV1hMoO8/kbtNDemJ7z+inysqznfvPw/cD9uUZ+8/R67sPT1m7z99sX6gn2XvP32xfqCfZe8/P9mn9IRe7j/bA3NspPHoP/UiF4/s+eU/YklSwTAE5D8rsmqLPSfiPzgxkrq0vd8/4k8qXGGA3D9zkjrma93XP6hflTVQKdc/MGYKHZiE1j/7vadPEbPTP89SyriqsM4//QpepTNQyT89nOz3RxnIP9zPuI5qzb8/YjbhssOkqT8ckGtD5OtiPxOzM/3WvfA+E7Mz/da98D4TszP91r3wPhOzM/3WvfA+E7Mz/da98D4TszP91r3wPhOzM/3WvfA+",
          "dtype": "f8"
         }
        },
        {
         "customdata": {
          "bdata": "AAAAAABAn0AAAAAAAECfQAAAAAAAQJ9AAAAAAABAn0AAAAAAAECfQAAAAAAAQJ9AAAAAAABAn0AAAAAAAECfQAAAAAAAQJ9AAAAAAABAn0AAAAAAAECfQAAAAAAAQJ9AAAAAAABAn0AAAAAAAECfQAAAAAAAQJ9AAAAAAABAn0AAAAAAAECfQAAAAAAAQJ9AAAAAAABAn0AAAAAAAECfQAAAAAAAQJ9AAAAAAABAn0AAAAAAAECfQAAAAAAAQJ9AAAAAAABAn0AAAAAAAECfQAAAAAAAQJ9AAAAAAABAn0AAAAAAAECfQAAAAAAAQJ9AAAAAAABAn0AAAAAAAECfQAAAAAAAQJ9AAAAAAABAn0AAAAAAAECfQAAAAAAAQJ9AAAAAAABAn0AAAAAAAECfQAAAAAAAQJ9AAAAAAABAn0AAAAAAAECfQAAAAAAAQJ9AAAAAAABAn0AAAAAAAECfQAAAAAAAQJ9AAAAAAABAn0AAAAAAAECfQAAAAAAAQJ9A",
          "dtype": "f8",
          "shape": "48, 1"
         },
         "hovertemplate": "<b>Time Step:</b> %{x}<br><b>Budget Left Ratio:</b> %{y:.3f}<br><b>Budget:</b> %{customdata[0]:.0f}<br><extra></extra>",
         "line": {
          "color": "rgb(49, 54, 149)",
          "width": 1.5
         },
         "mode": "lines",
         "opacity": 0.35,
         "showlegend": false,
         "type": "scatter",
         "x": {
          "bdata": "AAECAwQFBgcICQoLDA0ODxAREhMUFRYXGBkaGxwdHh8gISIjJCUmJygpKissLS4v",
          "dtype": "i1"
         },
         "y": {
          "bdata": "edHVvrf/7z950dW+t//vP6ZMHntl/+8/pkwee2X/7z+mTB57Zf/vP6ZMHntl/+8/pkwee2X/7z+mTB57Zf/vP6ZMHntl/+8/pkwee2X/7z9MT2Kr8P7vP0xPYqvw/u8/qmBjZRbs7z/4YM0AFsPvP/s7O0dgwu8/tn95yK2I7z+ZWFcN9abuP5QP7IJvROw/rPDlZ/eq6T9gD/AqobXnPzGL8tRhFeQ/ixy7aQMd4T89O9RsQ4DbP7SWdPNQrdY/0WdMxDIo1D8K3Ai3AHXQP7phKp/hFr8/4XoUlRFA+D7hehSVEUD4PuF6FJURQPg+4XoUlRFA+D7hehSVEUD4PuF6FJURQPg+4XoUlRFA+D7hehSVEUD4PuF6FJURQPg+4XoUlRFA+D7hehSVEUD4PuF6FJURQPg+4XoUlRFA+D7hehSVEUD4PuF6FJURQPg+4XoUlRFA+D7hehSVEUD4PuF6FJURQPg+4XoUlRFA+D7hehSVEUD4PuF6FJURQPg+",
          "dtype": "f8"
         }
        },
        {
         "customdata": {
          "bdata": "AAAAAAAEoEAAAAAAAASgQAAAAAAABKBAAAAAAAAEoEAAAAAAAASgQAAAAAAABKBAAAAAAAAEoEAAAAAAAASgQAAAAAAABKBAAAAAAAAEoEAAAAAAAASgQAAAAAAABKBAAAAAAAAEoEAAAAAAAASgQAAAAAAABKBAAAAAAAAEoEAAAAAAAASgQAAAAAAABKBAAAAAAAAEoEAAAAAAAASgQAAAAAAABKBAAAAAAAAEoEAAAAAAAASgQAAAAAAABKBAAAAAAAAEoEAAAAAAAASgQAAAAAAABKBAAAAAAAAEoEAAAAAAAASgQAAAAAAABKBAAAAAAAAEoEAAAAAAAASgQAAAAAAABKBAAAAAAAAEoEAAAAAAAASgQAAAAAAABKBAAAAAAAAEoEAAAAAAAASgQAAAAAAABKBAAAAAAAAEoEAAAAAAAASgQAAAAAAABKBAAAAAAAAEoEAAAAAAAASgQAAAAAAABKBAAAAAAAAEoEAAAAAAAASgQAAAAAAABKBA",
          "dtype": "f8",
          "shape": "48, 1"
         },
         "hovertemplate": "<b>Time Step:</b> %{x}<br><b>Budget Left Ratio:</b> %{y:.3f}<br><b>Budget:</b> %{customdata[0]:.0f}<br><extra></extra>",
         "line": {
          "color": "rgb(53, 65, 154)",
          "width": 1.5
         },
         "mode": "lines",
         "opacity": 0.35,
         "showlegend": false,
         "type": "scatter",
         "x": {
          "bdata": "AAECAwQFBgcICQoLDA0ODxAREhMUFRYXGBkaGxwdHh8gISIjJCUmJygpKissLS4v",
          "dtype": "i1"
         },
         "y": {
          "bdata": "AAAAAAAA8D8AAAAAAADwPwAAAAAAAPA/AAAAAAAA8D8AAAAAAADwPwAAAAAAAPA/AAAAAAAA8D8AAAAAAADwPwAAAAAAAPA/AAAAAAAA8D8AAAAAAADwPwAAAAAAAPA/AAAAAAAA8D+0CQwVqv/vP48EXm1k/u8/jwRebWT+7z+28JaTMqbtP9IJxbtqceo/CYVZYGxw5z98d+9r6iTjP1U0alONstg/ruZbMVovyj8XInE5lhbAP9G7VV/edqM/0btVX952oz/Ru1Vf3najP9G7VV/edqM/0btVX952oz/Ru1Vf3najP9G7VV/edqM/0btVX952oz/Ru1Vf3najP9G7VV/edqM/nwSC4PWOnT8XI602Cn2cP+vUrhoojpk/zsd/U7SrkD+NzXC2nyqPP+lb7im2lY4/eRp+QEZQjT95Gn5ARlCNP+lckJ72PY0/aF6qKNH+iz9I4cjBacZ5P3sUrKBPknA/exL+JcqaaD8jcpf8kCJUP+1MzK50Ac0+",
          "dtype": "f8"
         }
        },
        {
         "customdata": {
          "bdata": "AAAAAACasEAAAAAAAJqwQAAAAAAAmrBAAAAAAACasEAAAAAAAJqwQAAAAAAAmrBAAAAAAACasEAAAAAAAJqwQAAAAAAAmrBAAAAAAACasEAAAAAAAJqwQAAAAAAAmrBAAAAAAACasEAAAAAAAJqwQAAAAAAAmrBAAAAAAACasEAAAAAAAJqwQAAAAAAAmrBAAAAAAACasEAAAAAAAJqwQAAAAAAAmrBAAAAAAACasEAAAAAAAJqwQAAAAAAAmrBAAAAAAACasEAAAAAAAJqwQAAAAAAAmrBAAAAAAACasEAAAAAAAJqwQAAAAAAAmrBAAAAAAACasEAAAAAAAJqwQAAAAAAAmrBAAAAAAACasEAAAAAAAJqwQAAAAAAAmrBAAAAAAACasEAAAAAAAJqwQAAAAAAAmrBAAAAAAACasEAAAAAAAJqwQAAAAAAAmrBAAAAAAACasEAAAAAAAJqwQAAAAAAAmrBAAAAAAACasEAAAAAAAJqwQAAAAAAAmrBA",
          "dtype": "f8",
          "shape": "48, 1"
         },
         "hovertemplate": "<b>Time Step:</b> %{x}<br><b>Budget Left Ratio:</b> %{y:.3f}<br><b>Budget:</b> %{customdata[0]:.0f}<br><extra></extra>",
         "line": {
          "color": "rgb(245, 116, 70)",
          "width": 1.5
         },
         "mode": "lines",
         "opacity": 0.35,
         "showlegend": false,
         "type": "scatter",
         "x": {
          "bdata": "AAECAwQFBgcICQoLDA0ODxAREhMUFRYXGBkaGxwdHh8gISIjJCUmJygpKissLS4v",
          "dtype": "i1"
         },
         "y": {
          "bdata": "AAAAAAAA8D8AAAAAAADwPwAAAAAAAPA/AAAAAAAA8D8AAAAAAADwPwAAAAAAAPA/AAAAAAAA8D8AAAAAAADwPwAAAAAAAPA/AAAAAAAA8D8AAAAAAADwPwAAAAAAAPA/AAAAAAAA8D8AAAAAAADwPwAAAAAAAPA/AAAAAAAA8D/3+32znq7sPwTXqIVO5ug/oBJ0txWZ5T/ZbtlMs47iP4+gk5q9Jd4//OQQzruN1z9YCkJ3cX/RPy8zkw09cso/LzOTDT1yyj8jok0IK2bKP1AcwUcNf8k/svZ0+K5+yT+whpIUIRrJP+uPXXnQ18g/aobs2cQJyD81UsXBVAfHPzs4tm7k6sA/NvvQ1YpAuz+TIunwX6e4P+v0ETpmI7c/nCb8RsQXsT+1NB3JWKOqPznINKZWnqE/dXUp8c93mT91dSnxz3eZPxZePyazZJk/47mnGT9kmD9Ql0SHUbCWP+GOPJg1MJY/kCnDrHdn7j6QKcOsd2fuPpApw6x3Z+4+",
          "dtype": "f8"
         }
        },
        {
         "customdata": {
          "bdata": "AAAAAABAn0AAAAAAAECfQAAAAAAAQJ9AAAAAAABAn0AAAAAAAECfQAAAAAAAQJ9AAAAAAABAn0AAAAAAAECfQAAAAAAAQJ9AAAAAAABAn0AAAAAAAECfQAAAAAAAQJ9AAAAAAABAn0AAAAAAAECfQAAAAAAAQJ9AAAAAAABAn0AAAAAAAECfQAAAAAAAQJ9AAAAAAABAn0AAAAAAAECfQAAAAAAAQJ9AAAAAAABAn0AAAAAAAECfQAAAAAAAQJ9AAAAAAABAn0AAAAAAAECfQAAAAAAAQJ9AAAAAAABAn0AAAAAAAECfQAAAAAAAQJ9AAAAAAABAn0AAAAAAAECfQAAAAAAAQJ9AAAAAAABAn0AAAAAAAECfQAAAAAAAQJ9AAAAAAABAn0AAAAAAAECfQAAAAAAAQJ9AAAAAAABAn0AAAAAAAECfQAAAAAAAQJ9AAAAAAABAn0AAAAAAAECfQAAAAAAAQJ9AAAAAAABAn0AAAAAAAECfQAAAAAAAQJ9A",
          "dtype": "f8",
          "shape": "48, 1"
         },
         "hovertemplate": "<b>Time Step:</b> %{x}<br><b>Budget Left Ratio:</b> %{y:.3f}<br><b>Budget:</b> %{customdata[0]:.0f}<br><extra></extra>",
         "line": {
          "color": "rgb(49, 54, 149)",
          "width": 1.5
         },
         "mode": "lines",
         "opacity": 0.35,
         "showlegend": false,
         "type": "scatter",
         "x": {
          "bdata": "AAECAwQFBgcICQoLDA0ODxAREhMUFRYXGBkaGxwdHh8gISIjJCUmJygpKissLS4v",
          "dtype": "i1"
         },
         "y": {
          "bdata": "AAAAAAAA8D8AAAAAAADwPwAAAAAAAPA/AAAAAAAA8D8AAAAAAADwPwAAAAAAAPA/AAAAAAAA8D8AAAAAAADwP0THbfuH1O8/GaqSN2Og7z/EY1uSyuLuPyGJPqjTxe0/P4moA5v37D85E6jtynDqP6/RWyPgFek/JSTonAIS5T8lJOicAhLlPyUk6JwCEuU/JSTonAIS5T8lJOicAhLlPyUk6JwCEuU/JSTonAIS5T8lJOicAhLlPyUk6JwCEuU/5TKxpOi05D+c1tqfoh7kP1QjAnil2OI/c/A4TBsJ4T9kaf08fo3gP8fE8ZseWd4/bb25bFtm3D9Kkfuch8rYP1budbQa/tc/kb071qL41z9UOBwg0YLXP6RxANOFFNc/b4sYzVz71j8rgtCLfFbWP6DGNbicwdU/qHuVcbCM1T8vGWCjKYTVP90DMxAnQdU/vrQ13lyr0j8jm/ETE6LKP/jDN+vjObA/vh8gLXiWdj9SeJGiPcJ1PzcJlIkyfGs/",
          "dtype": "f8"
         }
        },
        {
         "customdata": {
          "bdata": "AAAAAABYq0AAAAAAAFirQAAAAAAAWKtAAAAAAABYq0AAAAAAAFirQAAAAAAAWKtAAAAAAABYq0AAAAAAAFirQAAAAAAAWKtAAAAAAABYq0AAAAAAAFirQAAAAAAAWKtAAAAAAABYq0AAAAAAAFirQAAAAAAAWKtAAAAAAABYq0AAAAAAAFirQAAAAAAAWKtAAAAAAABYq0AAAAAAAFirQAAAAAAAWKtAAAAAAABYq0AAAAAAAFirQAAAAAAAWKtAAAAAAABYq0AAAAAAAFirQAAAAAAAWKtAAAAAAABYq0AAAAAAAFirQAAAAAAAWKtAAAAAAABYq0AAAAAAAFirQAAAAAAAWKtAAAAAAABYq0AAAAAAAFirQAAAAAAAWKtAAAAAAABYq0AAAAAAAFirQAAAAAAAWKtAAAAAAABYq0AAAAAAAFirQAAAAAAAWKtAAAAAAABYq0AAAAAAAFirQAAAAAAAWKtAAAAAAABYq0AAAAAAAFirQAAAAAAAWKtA",
          "dtype": "f8",
          "shape": "48, 1"
         },
         "hovertemplate": "<b>Time Step:</b> %{x}<br><b>Budget Left Ratio:</b> %{y:.3f}<br><b>Budget:</b> %{customdata[0]:.0f}<br><extra></extra>",
         "line": {
          "color": "rgb(255, 247, 179)",
          "width": 1.5
         },
         "mode": "lines",
         "opacity": 0.35,
         "showlegend": false,
         "type": "scatter",
         "x": {
          "bdata": "AAECAwQFBgcICQoLDA0ODxAREhMUFRYXGBkaGxwdHh8gISIjJCUmJygpKissLS4v",
          "dtype": "i1"
         },
         "y": {
          "bdata": "oTWaopD+7z95VggUMvzvP0MMnJGr+O8/MXgDXI/07z/P8KRkwO7vP8/wpGTA7u8/z/CkZMDu7z/P8KRkwO7vP8/wpGTA7u8/z/CkZMDu7z/P8KRkwO7vP8/wpGTA7u8/z/CkZMDu7z/P8KRkwO7vP8/wpGTA7u8/z/CkZMDu7z/P8KRkwO7vP8/wpGTA7u8/z/CkZMDu7z+Oy5OBPO3vPwCPhGbe7O8/AI+EZt7s7z+IciySBOvvP4hyLJIE6+8/Jis5P3hp7j97AZ6cT8PqP5n3Zt6y0uc/Pmdpwoi85T+JoWYM+6/jPyy/NS5deuI/Qh3UQhmv4D9xDac6D8HdP+HKbsKRFto/bZmRfJTZ1z+8wrsbK17WP2S7B+SA69M/wdzbu2DV0T8wJBe9TjfNPzT3oot/sMY/UYTWC6uTuz9HjX/sBIm7P/cZAQZnF7s/DRlXQptuuT//yBtkB+22P/3AkN/oLrY/l1QIQ17Ksj+EdwSqtP+RP4uv+MoB560+",
          "dtype": "f8"
         }
        },
        {
         "customdata": {
          "bdata": "AAAAAABwp0AAAAAAAHCnQAAAAAAAcKdAAAAAAABwp0AAAAAAAHCnQAAAAAAAcKdAAAAAAABwp0AAAAAAAHCnQAAAAAAAcKdAAAAAAABwp0AAAAAAAHCnQAAAAAAAcKdAAAAAAABwp0AAAAAAAHCnQAAAAAAAcKdAAAAAAABwp0AAAAAAAHCnQAAAAAAAcKdAAAAAAABwp0AAAAAAAHCnQAAAAAAAcKdAAAAAAABwp0AAAAAAAHCnQAAAAAAAcKdAAAAAAABwp0AAAAAAAHCnQAAAAAAAcKdAAAAAAABwp0AAAAAAAHCnQAAAAAAAcKdAAAAAAABwp0AAAAAAAHCnQAAAAAAAcKdAAAAAAABwp0AAAAAAAHCnQAAAAAAAcKdAAAAAAABwp0AAAAAAAHCnQAAAAAAAcKdAAAAAAABwp0AAAAAAAHCnQAAAAAAAcKdAAAAAAABwp0AAAAAAAHCnQAAAAAAAcKdAAAAAAABwp0AAAAAAAHCnQAAAAAAAcKdA",
          "dtype": "f8",
          "shape": "48, 1"
         },
         "hovertemplate": "<b>Time Step:</b> %{x}<br><b>Budget Left Ratio:</b> %{y:.3f}<br><b>Budget:</b> %{customdata[0]:.0f}<br><extra></extra>",
         "line": {
          "color": "rgb(198, 230, 241)",
          "width": 1.5
         },
         "mode": "lines",
         "opacity": 0.35,
         "showlegend": false,
         "type": "scatter",
         "x": {
          "bdata": "AAECAwQFBgcICQoLDA0ODxAREhMUFRYXGBkaGxwdHh8gISIjJCUmJygpKissLS4v",
          "dtype": "i1"
         },
         "y": {
          "bdata": "AAAAAAAA8D8AAAAAAADwPwAAAAAAAPA/AAAAAAAA8D8AAAAAAADwPwAAAAAAAPA/AAAAAAAA8D8AAAAAAADwP7KDWBaD/+8/soNYFoP/7z/HlQa65f7vP5GxMIfQ9O8/ltUQHYzl7z9GuMdyQtfvP5YAs6g0uu8/7MQkHwmu7z/sxCQfCa7vP+zEJB8Jru8/7MQkHwmu7z/sxCQfCa7vP+zEJB8Jru8/7MQkHwmu7z/sxCQfCa7vP+zEJB8Jru8/silsDUJh7z/fQgH18ozqP8mraQYCsek/tImngKte6D8VO0FJjjnnP9SCdcTZZeU/6O54d8pi5D+mFTM7EBfkP9uwIV24u+I/jzeqxHFb4j8/j2qiZwfhP/vmaopDId8/q6mj0Tpf3D+SIob/utrZP1eHP0biptc/NsuGA5e41D+xWFTXLFDRP1nz0TJSdcg/trrRoBkIvD/beY3etaK2PyFpSrWGibQ+IWlKtYaJtD4haUq1hom0PiFpSrWGibQ+",
          "dtype": "f8"
         }
        },
        {
         "customdata": {
          "bdata": "AAAAAABYq0AAAAAAAFirQAAAAAAAWKtAAAAAAABYq0AAAAAAAFirQAAAAAAAWKtAAAAAAABYq0AAAAAAAFirQAAAAAAAWKtAAAAAAABYq0AAAAAAAFirQAAAAAAAWKtAAAAAAABYq0AAAAAAAFirQAAAAAAAWKtAAAAAAABYq0AAAAAAAFirQAAAAAAAWKtAAAAAAABYq0AAAAAAAFirQAAAAAAAWKtAAAAAAABYq0AAAAAAAFirQAAAAAAAWKtAAAAAAABYq0AAAAAAAFirQAAAAAAAWKtAAAAAAABYq0AAAAAAAFirQAAAAAAAWKtAAAAAAABYq0AAAAAAAFirQAAAAAAAWKtAAAAAAABYq0AAAAAAAFirQAAAAAAAWKtAAAAAAABYq0AAAAAAAFirQAAAAAAAWKtAAAAAAABYq0AAAAAAAFirQAAAAAAAWKtAAAAAAABYq0AAAAAAAFirQAAAAAAAWKtAAAAAAABYq0AAAAAAAFirQAAAAAAAWKtA",
          "dtype": "f8",
          "shape": "48, 1"
         },
         "hovertemplate": "<b>Time Step:</b> %{x}<br><b>Budget Left Ratio:</b> %{y:.3f}<br><b>Budget:</b> %{customdata[0]:.0f}<br><extra></extra>",
         "line": {
          "color": "rgb(255, 247, 179)",
          "width": 1.5
         },
         "mode": "lines",
         "opacity": 0.35,
         "showlegend": false,
         "type": "scatter",
         "x": {
          "bdata": "AAECAwQFBgcICQoLDA0ODxAREhMUFRYXGBkaGxwdHh8gISIjJCUmJygpKissLS4v",
          "dtype": "i1"
         },
         "y": {
          "bdata": "0jt0HB+h7j/6sR5wx37uP0rOf1YP9+0/+2u34+557T/FEaKbk93sP0U7VLPGK+w/Y7F3d+mc6z9R7qxZjFHrP1HurFmMUes/Ue6sWYxR6z+UuqnPkE/rP66joZCHR+s/qwqyguM66z9hdgHBRRHrP7aavKYgDes/pRy391Pg6j+HKFDuNsjqPzPsqvi5Xuk/CGcYIP785j/5n6G/VbflP6kaBepSVuM/FE6FSJTl4D/KD07W9CjfP6Cgz5Sb4ts/oKDPlJvi2z+goM+Um+LbPzXZKbsK19s/z4WmkFW52z8ggRx4ZqbbP7r1gx2Kots/6kX3pYWf2z9fvm5vgJrbP1++bm+Amts/X75ub4Ca2z9fvm5vgJrbP1++bm+Amts/X75ub4Ca2z9fvm5vgJrbP1++bm+Amts/X75ub4Ca2z9/oi/632vTP2IQXlOIPdA/xhF2o3qyxD9k/nmXYJi0P4MAeIu3I6I/gwPkZBtUej8730+NzPrQPjvfT43M+tA+",
          "dtype": "f8"
         }
        },
        {
         "customdata": {
          "bdata": "AAAAAAAYpUAAAAAAABilQAAAAAAAGKVAAAAAAAAYpUAAAAAAABilQAAAAAAAGKVAAAAAAAAYpUAAAAAAABilQAAAAAAAGKVAAAAAAAAYpUAAAAAAABilQAAAAAAAGKVAAAAAAAAYpUAAAAAAABilQAAAAAAAGKVAAAAAAAAYpUAAAAAAABilQAAAAAAAGKVAAAAAAAAYpUAAAAAAABilQAAAAAAAGKVAAAAAAAAYpUAAAAAAABilQAAAAAAAGKVAAAAAAAAYpUAAAAAAABilQAAAAAAAGKVAAAAAAAAYpUAAAAAAABilQAAAAAAAGKVAAAAAAAAYpUAAAAAAABilQAAAAAAAGKVAAAAAAAAYpUAAAAAAABilQAAAAAAAGKVAAAAAAAAYpUAAAAAAABilQAAAAAAAGKVAAAAAAAAYpUAAAAAAABilQAAAAAAAGKVAAAAAAAAYpUAAAAAAABilQAAAAAAAGKVAAAAAAAAYpUAAAAAAABilQAAAAAAAGKVA",
          "dtype": "f8",
          "shape": "48, 1"
         },
         "hovertemplate": "<b>Time Step:</b> %{x}<br><b>Budget Left Ratio:</b> %{y:.3f}<br><b>Budget:</b> %{customdata[0]:.0f}<br><extra></extra>",
         "line": {
          "color": "rgb(141, 193, 220)",
          "width": 1.5
         },
         "mode": "lines",
         "opacity": 0.35,
         "showlegend": false,
         "type": "scatter",
         "x": {
          "bdata": "AAECAwQFBgcICQoLDA0ODxAREhMUFRYXGBkaGxwdHh8gISIjJCUmJygpKissLS4v",
          "dtype": "i1"
         },
         "y": {
          "bdata": "AAAAAAAA8D+m2d4TtP/vP6bZ3hO0/+8/ptneE7T/7z905XNNev/vP5qFS28b/+8/moVLbxv/7z/DTfQoy/7vP15pjMM16e8/FUASYArT7z/eshtksRnvP6XehoBv/e0/plu720jT7D/k0F+9/JPqPzIpeieJgeU/dSUi9xCc4T91JSL3EJzhP3UlIvcQnOE/dSUi9xCc4T91JSL3EJzhP3UlIvcQnOE/dSUi9xCc4T91JSL3EJzhP3UlIvcQnOE/dSUi9xCc4T91JSL3EJzhP3UlIvcQnOE/dSUi9xCc4T/4nfSm15vhP/id9KbXm+E/+J30pteb4T/4nfSm15vhP0fUAKaPWeA/AORMnu+r1j9Rmr5ElVTRPw4pns8Iac4/minAckeTyz+oHKUN0pPHP2EVAsTBMcI/d+2xTRRIvz937bFNFEi/P7LZnifYRr8/eCwkAH30vj9OEYcdkVu+PzXHAyQ0c7s/C0y2jQSgtj9FWWfpEOOxP5qDF1arYZk+",
          "dtype": "f8"
         }
        },
        {
         "customdata": {
          "bdata": "AAAAAACopkAAAAAAAKimQAAAAAAAqKZAAAAAAACopkAAAAAAAKimQAAAAAAAqKZAAAAAAACopkAAAAAAAKimQAAAAAAAqKZAAAAAAACopkAAAAAAAKimQAAAAAAAqKZAAAAAAACopkAAAAAAAKimQAAAAAAAqKZAAAAAAACopkAAAAAAAKimQAAAAAAAqKZAAAAAAACopkAAAAAAAKimQAAAAAAAqKZAAAAAAACopkAAAAAAAKimQAAAAAAAqKZAAAAAAACopkAAAAAAAKimQAAAAAAAqKZAAAAAAACopkAAAAAAAKimQAAAAAAAqKZAAAAAAACopkAAAAAAAKimQAAAAAAAqKZAAAAAAACopkAAAAAAAKimQAAAAAAAqKZAAAAAAACopkAAAAAAAKimQAAAAAAAqKZAAAAAAACopkAAAAAAAKimQAAAAAAAqKZAAAAAAACopkAAAAAAAKimQAAAAAAAqKZAAAAAAACopkAAAAAAAKimQAAAAAAAqKZA",
          "dtype": "f8",
          "shape": "48, 1"
         },
         "hovertemplate": "<b>Time Step:</b> %{x}<br><b>Budget Left Ratio:</b> %{y:.3f}<br><b>Budget:</b> %{customdata[0]:.0f}<br><extra></extra>",
         "line": {
          "color": "rgb(179, 221, 235)",
          "width": 1.5
         },
         "mode": "lines",
         "opacity": 0.35,
         "showlegend": false,
         "type": "scatter",
         "x": {
          "bdata": "AAECAwQFBgcICQoLDA0ODxAREhMUFRYXGBkaGxwdHh8gISIjJCUmJygpKissLS4v",
          "dtype": "i1"
         },
         "y": {
          "bdata": "rPK5ehT+7z8FjziGwPnvPycSoWo/+O8/JxKhaj/47z8nEqFqP/jvPycSoWo/+O8/JxKhaj/47z8nEqFqP/jvPycSoWo/+O8/JxKhaj/47z8nEqFqP/jvPycSoWo/+O8/JxKhaj/47z8nEqFqP/jvPycSoWo/+O8/JxKhaj/47z8nEqFqP/jvPycSoWo/+O8/+1l5G8z37z+GnVJaTfTvP4adUlpN9O8/KWfJ0A3v7z+TwULVBorvP1s6dCM2Ou8/Wzp0IzY67z9vIYsSBDrvP/h7rPTOOe8/vTyf8J057z+9PJ/wnTnvP708n/CdOe8/vTyf8J057z+9PJ/wnTnvP8SJGWaqXO4/ajR6wIpV7D/EWVnLAYHrP1Bh9xzh5+o/MHWCYmKN6T+NsiGWMO7nP0wgHYwab+Y/nLyNO2bR5D9X19YxCinjP1BSAv0AVeA/TBJ9d1IT1j/q4lsbguTOP7B5zft2fMY/c694sKXCvz+/FOJl48KpP5/JMQcYJdU+",
          "dtype": "f8"
         }
        },
        {
         "customdata": {
          "bdata": "AAAAAABAn0AAAAAAAECfQAAAAAAAQJ9AAAAAAABAn0AAAAAAAECfQAAAAAAAQJ9AAAAAAABAn0AAAAAAAECfQAAAAAAAQJ9AAAAAAABAn0AAAAAAAECfQAAAAAAAQJ9AAAAAAABAn0AAAAAAAECfQAAAAAAAQJ9AAAAAAABAn0AAAAAAAECfQAAAAAAAQJ9AAAAAAABAn0AAAAAAAECfQAAAAAAAQJ9AAAAAAABAn0AAAAAAAECfQAAAAAAAQJ9AAAAAAABAn0AAAAAAAECfQAAAAAAAQJ9AAAAAAABAn0AAAAAAAECfQAAAAAAAQJ9AAAAAAABAn0AAAAAAAECfQAAAAAAAQJ9AAAAAAABAn0AAAAAAAECfQAAAAAAAQJ9AAAAAAABAn0AAAAAAAECfQAAAAAAAQJ9AAAAAAABAn0AAAAAAAECfQAAAAAAAQJ9AAAAAAABAn0AAAAAAAECfQAAAAAAAQJ9AAAAAAABAn0AAAAAAAECfQAAAAAAAQJ9A",
          "dtype": "f8",
          "shape": "48, 1"
         },
         "hovertemplate": "<b>Time Step:</b> %{x}<br><b>Budget Left Ratio:</b> %{y:.3f}<br><b>Budget:</b> %{customdata[0]:.0f}<br><extra></extra>",
         "line": {
          "color": "rgb(49, 54, 149)",
          "width": 1.5
         },
         "mode": "lines",
         "opacity": 0.35,
         "showlegend": false,
         "type": "scatter",
         "x": {
          "bdata": "AAECAwQFBgcICQoLDA0ODxAREhMUFRYXGBkaGxwdHh8gISIjJCUmJygpKissLS4v",
          "dtype": "i1"
         },
         "y": {
          "bdata": "AAAAAAAA8D8AAAAAAADwPwmVnGCe/+8/CZWcYJ7/7z8JlZxgnv/vPwmVnGCe/+8/CZWcYJ7/7z8JlZxgnv/vP8VW6XDS++8/DaJqCUvX7z+K6Bg0uHvvP36hFiDCy+4/rbagLg2M7j8Bn7TligfuPzQjYaOQFO0/4TFDXRAu7D8nPgVPSQLnP+8+Syodr+A/Iw+/OQQa2z8nXUiC7PLRP0ocyNDXTME/fetMA1VmuT/uXEMSc3eYP5jOzU8v148/vr8Uvw/xhj95aavk75CCPzm03DVJQXQ/qEaLr2H4cz8UbkgmL8pzPx0a5P4Zh3M/+BNe1ooacz/NTNRJV8ZyP81M1ElXxnI/zUzUSVfGcj/NTNRJV8ZyP81M1ElXxnI/zUzUSVfGcj/NTNRJV8ZyP81M1ElXxnI/avzKVGiAcj9q/MpUaIByP2r8ylRogHI/avzKVGiAcj9q/MpUaIByP8P1m/3ZKnI/ZLuK8JDhbz+WQ5lohjVvP21nLISTIGE/",
          "dtype": "f8"
         }
        },
        {
         "customdata": {
          "bdata": "AAAAAACOskAAAAAAAI6yQAAAAAAAjrJAAAAAAACOskAAAAAAAI6yQAAAAAAAjrJAAAAAAACOskAAAAAAAI6yQAAAAAAAjrJAAAAAAACOskAAAAAAAI6yQAAAAAAAjrJAAAAAAACOskAAAAAAAI6yQAAAAAAAjrJAAAAAAACOskAAAAAAAI6yQAAAAAAAjrJAAAAAAACOskAAAAAAAI6yQAAAAAAAjrJAAAAAAACOskAAAAAAAI6yQAAAAAAAjrJAAAAAAACOskAAAAAAAI6yQAAAAAAAjrJAAAAAAACOskAAAAAAAI6yQAAAAAAAjrJAAAAAAACOskAAAAAAAI6yQAAAAAAAjrJAAAAAAACOskAAAAAAAI6yQAAAAAAAjrJAAAAAAACOskAAAAAAAI6yQAAAAAAAjrJAAAAAAACOskAAAAAAAI6yQAAAAAAAjrJAAAAAAACOskAAAAAAAI6yQAAAAAAAjrJAAAAAAACOskAAAAAAAI6yQAAAAAAAjrJA",
          "dtype": "f8",
          "shape": "48, 1"
         },
         "hovertemplate": "<b>Time Step:</b> %{x}<br><b>Budget Left Ratio:</b> %{y:.3f}<br><b>Budget:</b> %{customdata[0]:.0f}<br><extra></extra>",
         "line": {
          "color": "rgb(183, 17, 38)",
          "width": 1.5
         },
         "mode": "lines",
         "opacity": 0.35,
         "showlegend": false,
         "type": "scatter",
         "x": {
          "bdata": "AAECAwQFBgcICQoLDA0ODxAREhMUFRYXGBkaGxwdHh8gISIjJCUmJygpKissLS4v",
          "dtype": "i1"
         },
         "y": {
          "bdata": "AAAAAAAA8D8AAAAAAADwP62pc8ux/+8/ralzy7H/7z+tqXPLsf/vP62pc8ux/+8/ralzy7H/7z+tqXPLsf/vP62pc8ux/+8/ralzy7H/7z+tqXPLsf/vP62pc8ux/+8/ralzy7H/7z+tqXPLsf/vP62pc8ux/+8/ralzy7H/7z+tqXPLsf/vP62pc8ux/+8/ralzy7H/7z+tqXPLsf/vP62pc8ux/+8/ralzy7H/7z+tqXPLsf/vP62pc8ux/+8/cm6sth3e7T8ysqD1ae/qP7Cd1cJdfOc/o9GNV0p75D/JsL+NihTiP3SW1KLE4d8/NZoJkiN42z9Qj70Jw2nXP1CPvQnDadc/UI+9CcNp1z9Qj70Jw2nXP1CPvQnDadc/66nSRaFl1z/CGFVmYTrXP09T1EBVadY/MH4JLI6I1T/RfW/aNtTKP04ZPnVMucA/RCZfOgJVrz8/rFF/18mpP0lf3K/k0qA/G6ZpqsqQjj9AR738ntXdPkBHvfye1d0+",
          "dtype": "f8"
         }
        },
        {
         "customdata": {
          "bdata": "AAAAAABcokAAAAAAAFyiQAAAAAAAXKJAAAAAAABcokAAAAAAAFyiQAAAAAAAXKJAAAAAAABcokAAAAAAAFyiQAAAAAAAXKJAAAAAAABcokAAAAAAAFyiQAAAAAAAXKJAAAAAAABcokAAAAAAAFyiQAAAAAAAXKJAAAAAAABcokAAAAAAAFyiQAAAAAAAXKJAAAAAAABcokAAAAAAAFyiQAAAAAAAXKJAAAAAAABcokAAAAAAAFyiQAAAAAAAXKJAAAAAAABcokAAAAAAAFyiQAAAAAAAXKJAAAAAAABcokAAAAAAAFyiQAAAAAAAXKJAAAAAAABcokAAAAAAAFyiQAAAAAAAXKJAAAAAAABcokAAAAAAAFyiQAAAAAAAXKJAAAAAAABcokAAAAAAAFyiQAAAAAAAXKJAAAAAAABcokAAAAAAAFyiQAAAAAAAXKJAAAAAAABcokAAAAAAAFyiQAAAAAAAXKJAAAAAAABcokAAAAAAAFyiQAAAAAAAXKJA",
          "dtype": "f8",
          "shape": "48, 1"
         },
         "hovertemplate": "<b>Time Step:</b> %{x}<br><b>Budget Left Ratio:</b> %{y:.3f}<br><b>Budget:</b> %{customdata[0]:.0f}<br><extra></extra>",
         "line": {
          "color": "rgb(80, 130, 187)",
          "width": 1.5
         },
         "mode": "lines",
         "opacity": 0.35,
         "showlegend": false,
         "type": "scatter",
         "x": {
          "bdata": "AAECAwQFBgcICQoLDA0ODxAREhMUFRYXGBkaGxwdHh8gISIjJCUmJygpKissLS4v",
          "dtype": "i1"
         },
         "y": {
          "bdata": "AAAAAAAA8D8AAAAAAADwPwAAAAAAAPA/AAAAAAAA8D8AAAAAAADwPwAAAAAAAPA/AAAAAAAA8D8AAAAAAADwP8ITz/mn3O8/OEKHjf4Q7z9XNh1qxrbsP4pbvn3p2es/mdIm9E9o6D8ZutVG0+7jP+3uhnWzs94/VV1nsfjh1j9VXWex+OHWP1VdZ7H44dY/VV1nsfjh1j9VXWex+OHWP1VdZ7H44dY/jwcWmDSm1j9MVi8lJJbWPwCCk6yEidY/Onw05O6I1j86fDTk7ojWPzp8NOTuiNY/Onw05O6I1j86fDTk7ojWPzp8NOTuiNY/E7X+EhCI1j8Ttf4SEIjWP0e/i8/GhdY/ucv7d70e1j+gxe2YxsjUPyXka+5CitI/7yMcSAWl0T+EHNjzxpDRP54sI2rUm9A/DoY27el20D/MWLR8QnLQP6kRZwBgZs8/MdtE/VSyyj8o+CvMe0TDPwiEG5cBa6U/c5D6ha6Cmz+DmMN+hQWXP0lFjiVPhcA+",
          "dtype": "f8"
         }
        },
        {
         "customdata": {
          "bdata": "AAAAAADAskAAAAAAAMCyQAAAAAAAwLJAAAAAAADAskAAAAAAAMCyQAAAAAAAwLJAAAAAAADAskAAAAAAAMCyQAAAAAAAwLJAAAAAAADAskAAAAAAAMCyQAAAAAAAwLJAAAAAAADAskAAAAAAAMCyQAAAAAAAwLJAAAAAAADAskAAAAAAAMCyQAAAAAAAwLJAAAAAAADAskAAAAAAAMCyQAAAAAAAwLJAAAAAAADAskAAAAAAAMCyQAAAAAAAwLJAAAAAAADAskAAAAAAAMCyQAAAAAAAwLJAAAAAAADAskAAAAAAAMCyQAAAAAAAwLJAAAAAAADAskAAAAAAAMCyQAAAAAAAwLJAAAAAAADAskAAAAAAAMCyQAAAAAAAwLJAAAAAAADAskAAAAAAAMCyQAAAAAAAwLJAAAAAAADAskAAAAAAAMCyQAAAAAAAwLJAAAAAAADAskAAAAAAAMCyQAAAAAAAwLJAAAAAAADAskAAAAAAAMCyQAAAAAAAwLJA",
          "dtype": "f8",
          "shape": "48, 1"
         },
         "hovertemplate": "<b>Time Step:</b> %{x}<br><b>Budget Left Ratio:</b> %{y:.3f}<br><b>Budget:</b> %{customdata[0]:.0f}<br><extra></extra>",
         "line": {
          "color": "rgb(174, 8, 38)",
          "width": 1.5
         },
         "mode": "lines",
         "opacity": 0.35,
         "showlegend": false,
         "type": "scatter",
         "x": {
          "bdata": "AAECAwQFBgcICQoLDA0ODxAREhMUFRYXGBkaGxwdHh8gISIjJCUmJygpKissLS4v",
          "dtype": "i1"
         },
         "y": {
          "bdata": "AAAAAAAA8D8AAAAAAADwPwAAAAAAAPA/AAAAAAAA8D8AAAAAAADwPwAAAAAAAPA/AAAAAAAA8D8AAAAAAADwP2UXeAkO/e8/lrCSpoH87z9xBZUQpPrvPyaiB7sY8u8/mjWjN+7v7z+ktQrV0LbvP3u+fqqRs+8/zSjtHh6P7z/NKO0eHo/vP80o7R4ej+8/zSjtHh6P7z/NKO0eHo/vP80o7R4ej+8/zSjtHh6P7z/NKO0eHo/vPycYmMK8ju8/t9NWHSDX7j9Ek/cS4lTuPzXhdib62uw/t3SOeMM36z9JoWsOr8bpP6YQq0wD8ec/Kqa0c/e/5T9onsRiV67jP2iexGJXruM/oMVzU5Gs4z89JY5DqobjP538jRqrKOM/5qZEHF554j9I/kW0irvhP/T8rPZmleA/h4jJ+DER3z+up6ilxtzTP0u5auW1Bsk/Zma+EaAktj+ux+U7tbeFP+F6FBZRTsc+4XoUFlFOxz7hehQWUU7HPuF6FBZRTsc+",
          "dtype": "f8"
         }
        },
        {
         "customdata": {
          "bdata": "AAAAAACUoUAAAAAAAJShQAAAAAAAlKFAAAAAAACUoUAAAAAAAJShQAAAAAAAlKFAAAAAAACUoUAAAAAAAJShQAAAAAAAlKFAAAAAAACUoUAAAAAAAJShQAAAAAAAlKFAAAAAAACUoUAAAAAAAJShQAAAAAAAlKFAAAAAAACUoUAAAAAAAJShQAAAAAAAlKFAAAAAAACUoUAAAAAAAJShQAAAAAAAlKFAAAAAAACUoUAAAAAAAJShQAAAAAAAlKFAAAAAAACUoUAAAAAAAJShQAAAAAAAlKFAAAAAAACUoUAAAAAAAJShQAAAAAAAlKFAAAAAAACUoUAAAAAAAJShQAAAAAAAlKFAAAAAAACUoUAAAAAAAJShQAAAAAAAlKFAAAAAAACUoUAAAAAAAJShQAAAAAAAlKFAAAAAAACUoUAAAAAAAJShQAAAAAAAlKFAAAAAAACUoUAAAAAAAJShQAAAAAAAlKFAAAAAAACUoUAAAAAAAJShQAAAAAAAlKFA",
          "dtype": "f8",
          "shape": "48, 1"
         },
         "hovertemplate": "<b>Time Step:</b> %{x}<br><b>Budget Left Ratio:</b> %{y:.3f}<br><b>Budget:</b> %{customdata[0]:.0f}<br><extra></extra>",
         "line": {
          "color": "rgb(67, 109, 176)",
          "width": 1.5
         },
         "mode": "lines",
         "opacity": 0.35,
         "showlegend": false,
         "type": "scatter",
         "x": {
          "bdata": "AAECAwQFBgcICQoLDA0ODxAREhMUFRYXGBkaGxwdHh8gISIjJCUmJygpKissLS4v",
          "dtype": "i1"
         },
         "y": {
          "bdata": "3wTlNlP/7z+5wYOtmvPvP5jE6tbX7u8/DYEcfi/u7z97xwVL3efvP0HvFd1B3u8/lMTbWaTa7z9i9Z/x7dXvP4vZpUft0e8/i9mlR+3R7z9QAHoJR9HvP5tNFN4Nwe8/HXBPwAnA7z8SU2mIPLjvP9i3nlPxsu8/GTectU6I7z8ZN5y1TojvPxk3nLVOiO8/GTectU6I7z8ZN5y1TojvPxk3nLVOiO8/R1o2/fyH7z9HWjb9/IfvP0daNv38h+8/79Y0+BKu7T/yN2pEB2vsPyw6F22xkOo/ndwd8XYJ6j/LHN04FqbpP03MXI2QT+k/bUkL5hU76D9warN2PmnnP7CsZ+/xS+c/aBUEKLvZ5j9UzBlH8qjmP2UsiNA/O+Y/iaCviV474z9lTuW8m7PfPxXiiX4XSds/xgrPFVGz1j/VgtIk6A/SP2yOwuFG4Ms/RR3uHc2LwT/uFXTAOU+5P7hlLU0GW04/cBdFz7ULRj/RSMA/U3rsPtFIwD9Teuw+",
          "dtype": "f8"
         }
        },
        {
         "customdata": {
          "bdata": "AAAAAAAwoUAAAAAAADChQAAAAAAAMKFAAAAAAAAwoUAAAAAAADChQAAAAAAAMKFAAAAAAAAwoUAAAAAAADChQAAAAAAAMKFAAAAAAAAwoUAAAAAAADChQAAAAAAAMKFAAAAAAAAwoUAAAAAAADChQAAAAAAAMKFAAAAAAAAwoUAAAAAAADChQAAAAAAAMKFAAAAAAAAwoUAAAAAAADChQAAAAAAAMKFAAAAAAAAwoUAAAAAAADChQAAAAAAAMKFAAAAAAAAwoUAAAAAAADChQAAAAAAAMKFAAAAAAAAwoUAAAAAAADChQAAAAAAAMKFAAAAAAAAwoUAAAAAAADChQAAAAAAAMKFAAAAAAAAwoUAAAAAAADChQAAAAAAAMKFAAAAAAAAwoUAAAAAAADChQAAAAAAAMKFAAAAAAAAwoUAAAAAAADChQAAAAAAAMKFAAAAAAAAwoUAAAAAAADChQAAAAAAAMKFAAAAAAAAwoUAAAAAAADChQAAAAAAAMKFA",
          "dtype": "f8",
          "shape": "48, 1"
         },
         "hovertemplate": "<b>Time Step:</b> %{x}<br><b>Budget Left Ratio:</b> %{y:.3f}<br><b>Budget:</b> %{customdata[0]:.0f}<br><extra></extra>",
         "line": {
          "color": "rgb(63, 98, 171)",
          "width": 1.5
         },
         "mode": "lines",
         "opacity": 0.35,
         "showlegend": false,
         "type": "scatter",
         "x": {
          "bdata": "AAECAwQFBgcICQoLDA0ODxAREhMUFRYXGBkaGxwdHh8gISIjJCUmJygpKissLS4v",
          "dtype": "i1"
         },
         "y": {
          "bdata": "baHXdPZU7T+MPwZ/0a/qP97eAyVzc+g/YJ/JqUlz5z+XzlqoZITmPxaJhDR4reU/jLDgH/oE5T8lvpjdNJrkPyW+mN00muQ/Jb6Y3TSa5D8lvpjdNJrkPyW+mN00muQ/Jb6Y3TSa5D8lvpjdNJrkP2r5HRTfmOQ/aReiXPmX5D/+sZa5/F/jPzu1R5jKwOE/ItZsqmr/3D+AIcOAocnYPwcBhw/qWtA/W/oMMbK0uD9H/MN18KiHPx27TarVwAI/HbtNqtXAAj8du02q1cACPx27TarVwAI/HbtNqtXAAj8du02q1cACPx27TarVwAI/HbtNqtXAAj8du02q1cACPx27TarVwAI/HbtNqtXAAj8du02q1cACPx27TarVwAI/HbtNqtXAAj8du02q1cACPx27TarVwAI/HbtNqtXAAj8du02q1cACPx27TarVwAI/HbtNqtXAAj8du02q1cACPx27TarVwAI/HbtNqtXAAj8du02q1cACPx27TarVwAI/",
          "dtype": "f8"
         }
        },
        {
         "customdata": {
          "bdata": "AAAAAAC8q0AAAAAAALyrQAAAAAAAvKtAAAAAAAC8q0AAAAAAALyrQAAAAAAAvKtAAAAAAAC8q0AAAAAAALyrQAAAAAAAvKtAAAAAAAC8q0AAAAAAALyrQAAAAAAAvKtAAAAAAAC8q0AAAAAAALyrQAAAAAAAvKtAAAAAAAC8q0AAAAAAALyrQAAAAAAAvKtAAAAAAAC8q0AAAAAAALyrQAAAAAAAvKtAAAAAAAC8q0AAAAAAALyrQAAAAAAAvKtAAAAAAAC8q0AAAAAAALyrQAAAAAAAvKtAAAAAAAC8q0AAAAAAALyrQAAAAAAAvKtAAAAAAAC8q0AAAAAAALyrQAAAAAAAvKtAAAAAAAC8q0AAAAAAALyrQAAAAAAAvKtAAAAAAAC8q0AAAAAAALyrQAAAAAAAvKtAAAAAAAC8q0AAAAAAALyrQAAAAAAAvKtAAAAAAAC8q0AAAAAAALyrQAAAAAAAvKtAAAAAAAC8q0AAAAAAALyrQAAAAAAAvKtA",
          "dtype": "f8",
          "shape": "48, 1"
         },
         "hovertemplate": "<b>Time Step:</b> %{x}<br><b>Budget Left Ratio:</b> %{y:.3f}<br><b>Budget:</b> %{customdata[0]:.0f}<br><extra></extra>",
         "line": {
          "color": "rgb(255, 241, 170)",
          "width": 1.5
         },
         "mode": "lines",
         "opacity": 0.35,
         "showlegend": false,
         "type": "scatter",
         "x": {
          "bdata": "AAECAwQFBgcICQoLDA0ODxAREhMUFRYXGBkaGxwdHh8gISIjJCUmJygpKissLS4v",
          "dtype": "i1"
         },
         "y": {
          "bdata": "AAAAAAAA8D8AAAAAAADwPwAAAAAAAPA/AAAAAAAA8D8AAAAAAADwPwAAAAAAAPA/AAAAAAAA8D8AAAAAAADwPwAAAAAAAPA/irJhVaD67z+ibHSBse/vPyqiwHOs7u8/gRAZNn3f7z8QzeipwNjvP4KYlusSsO8/+scotayd7z/6xyi1rJ3vP/rHKLWsne8/+scotayd7z/6xyi1rJ3vPyU7eIVPne8/JTt4hU+d7z9r1HHf/JzvP4NUmfq6me8/g1SZ+rqZ7z+DVJn6upnvP4NUmfq6me8/g1SZ+rqZ7z+DVJn6upnvP4NUmfq6me8/g1SZ+rqZ7z+DVJn6upnvP8iceVvsgO8/nSE971Sm7j+tQbxu0JrrP6yE5XLY7eg/WYRzE3+v5z/e0ReuxsTmP3Cm/DPLO+Y/lalT/MYl5T+VqVP8xiXlP5WpU/zGJeU/lalT/MYl5T+VqVP8xiXlP5WpU/zGJeU/lalT/MYl5T+VqVP8xiXlP5WpU/zGJeU/",
          "dtype": "f8"
         }
        },
        {
         "customdata": {
          "bdata": "AAAAAACOskAAAAAAAI6yQAAAAAAAjrJAAAAAAACOskAAAAAAAI6yQAAAAAAAjrJAAAAAAACOskAAAAAAAI6yQAAAAAAAjrJAAAAAAACOskAAAAAAAI6yQAAAAAAAjrJAAAAAAACOskAAAAAAAI6yQAAAAAAAjrJAAAAAAACOskAAAAAAAI6yQAAAAAAAjrJAAAAAAACOskAAAAAAAI6yQAAAAAAAjrJAAAAAAACOskAAAAAAAI6yQAAAAAAAjrJAAAAAAACOskAAAAAAAI6yQAAAAAAAjrJAAAAAAACOskAAAAAAAI6yQAAAAAAAjrJAAAAAAACOskAAAAAAAI6yQAAAAAAAjrJAAAAAAACOskAAAAAAAI6yQAAAAAAAjrJAAAAAAACOskAAAAAAAI6yQAAAAAAAjrJAAAAAAACOskAAAAAAAI6yQAAAAAAAjrJAAAAAAACOskAAAAAAAI6yQAAAAAAAjrJAAAAAAACOskAAAAAAAI6yQAAAAAAAjrJA",
          "dtype": "f8",
          "shape": "48, 1"
         },
         "hovertemplate": "<b>Time Step:</b> %{x}<br><b>Budget Left Ratio:</b> %{y:.3f}<br><b>Budget:</b> %{customdata[0]:.0f}<br><extra></extra>",
         "line": {
          "color": "rgb(183, 17, 38)",
          "width": 1.5
         },
         "mode": "lines",
         "opacity": 0.35,
         "showlegend": false,
         "type": "scatter",
         "x": {
          "bdata": "AAECAwQFBgcICQoLDA0ODxAREhMUFRYXGBkaGxwdHh8gISIjJCUmJygpKissLS4v",
          "dtype": "i1"
         },
         "y": {
          "bdata": "UOSlkH/+7z/0cwWaKfbvP3XRaryH8+8/j5Vyu8bw7z+1g29rnPDvP0aMdX1x7+8/ab7CKSru7z9wjiu96+3vP/pbIHG97e8/+lsgcb3t7z/6WyBxve3vP9XtJA6T7e8/Z05ERS3r7z9nTkRFLevvP7eED/M86e8/AdV360/k7z8B1XfrT+TvPwHVd+tP5O8/AdV360/k7z8B1XfrT+TvPwHVd+tP5O8/AdV360/k7z8B1XfrT+TvP15U7bY85O8/XlTttjzk7z9eVO22POTvP15U7bY85O8/XlTttjzk7z9eVO22POTvP15U7bY85O8/XlTttjzk7z9eVO22POTvPyjH5YPh1u8/iz9lI22w7z/y9sGTwirvPzjhfaB8xO4/tqrKVdZt7j+ryU7djWntP6RCGBurL+w/iI4eicxT6z9dG+wzTJvmP0rDX5KdmeE/yW13Ay9V1j83k1XdkNnDP+iWnonsJrU/YCZUTbIQmD83ABKPmQjpPjcAEo+ZCOk+",
          "dtype": "f8"
         }
        },
        {
         "customdata": {
          "bdata": "AAAAAABYq0AAAAAAAFirQAAAAAAAWKtAAAAAAABYq0AAAAAAAFirQAAAAAAAWKtAAAAAAABYq0AAAAAAAFirQAAAAAAAWKtAAAAAAABYq0AAAAAAAFirQAAAAAAAWKtAAAAAAABYq0AAAAAAAFirQAAAAAAAWKtAAAAAAABYq0AAAAAAAFirQAAAAAAAWKtAAAAAAABYq0AAAAAAAFirQAAAAAAAWKtAAAAAAABYq0AAAAAAAFirQAAAAAAAWKtAAAAAAABYq0AAAAAAAFirQAAAAAAAWKtAAAAAAABYq0AAAAAAAFirQAAAAAAAWKtAAAAAAABYq0AAAAAAAFirQAAAAAAAWKtAAAAAAABYq0AAAAAAAFirQAAAAAAAWKtAAAAAAABYq0AAAAAAAFirQAAAAAAAWKtAAAAAAABYq0AAAAAAAFirQAAAAAAAWKtAAAAAAABYq0AAAAAAAFirQAAAAAAAWKtAAAAAAABYq0AAAAAAAFirQAAAAAAAWKtA",
          "dtype": "f8",
          "shape": "48, 1"
         },
         "hovertemplate": "<b>Time Step:</b> %{x}<br><b>Budget Left Ratio:</b> %{y:.3f}<br><b>Budget:</b> %{customdata[0]:.0f}<br><extra></extra>",
         "line": {
          "color": "rgb(255, 247, 179)",
          "width": 1.5
         },
         "mode": "lines",
         "opacity": 0.35,
         "showlegend": false,
         "type": "scatter",
         "x": {
          "bdata": "AAECAwQFBgcICQoLDA0ODxAREhMUFRYXGBkaGxwdHh8gISIjJCUmJygpKissLS4v",
          "dtype": "i1"
         },
         "y": {
          "bdata": "AAAAAAAA8D8AAAAAAADwPwAAAAAAAPA/AAAAAAAA8D8AAAAAAADwPwAAAAAAAPA/AAAAAAAA8D8AAAAAAADwPwAAAAAAAPA/AAAAAAAA8D8AAAAAAADwPy8fbpbJ/+8/Lx9ulsn/7z8vH26Wyf/vPy8fbpbJ/+8/Lx9ulsn/7z8vH26Wyf/vP1Xpzqf0/e8/VenOp/T97z/ORI9d8OjvP2/IglX/5+8/oNOzJhPk7z8Cp3QtOczvP9caxJVDee4/mvg+YFkI6z9z+qfkqEvoP5rrLP96cOY/HMmPpPHH5D/XviZ80q/jP2L2vrTWk+I/Wy5U7rqX4T+8NOxpSsngP/rI/hHibt4/raDXRBoF2z8K973f8drYPy23YaGEh9U/FHyDWWXt0D+90d019NXGP8Kb6BNKEsE/DKLJDt0/tz8MoskO3T+3PwyiyQ7dP7c/+Lb4Orc3tz+SCoOtKyW3P5RPcC/UALc/+08Iv0c5tT/qY9bYYmWwP9mLKmrL16Y/",
          "dtype": "f8"
         }
        },
        {
         "customdata": {
          "bdata": "AAAAAACasEAAAAAAAJqwQAAAAAAAmrBAAAAAAACasEAAAAAAAJqwQAAAAAAAmrBAAAAAAACasEAAAAAAAJqwQAAAAAAAmrBAAAAAAACasEAAAAAAAJqwQAAAAAAAmrBAAAAAAACasEAAAAAAAJqwQAAAAAAAmrBAAAAAAACasEAAAAAAAJqwQAAAAAAAmrBAAAAAAACasEAAAAAAAJqwQAAAAAAAmrBAAAAAAACasEAAAAAAAJqwQAAAAAAAmrBAAAAAAACasEAAAAAAAJqwQAAAAAAAmrBAAAAAAACasEAAAAAAAJqwQAAAAAAAmrBAAAAAAACasEAAAAAAAJqwQAAAAAAAmrBAAAAAAACasEAAAAAAAJqwQAAAAAAAmrBAAAAAAACasEAAAAAAAJqwQAAAAAAAmrBAAAAAAACasEAAAAAAAJqwQAAAAAAAmrBAAAAAAACasEAAAAAAAJqwQAAAAAAAmrBAAAAAAACasEAAAAAAAJqwQAAAAAAAmrBA",
          "dtype": "f8",
          "shape": "48, 1"
         },
         "hovertemplate": "<b>Time Step:</b> %{x}<br><b>Budget Left Ratio:</b> %{y:.3f}<br><b>Budget:</b> %{customdata[0]:.0f}<br><extra></extra>",
         "line": {
          "color": "rgb(245, 116, 70)",
          "width": 1.5
         },
         "mode": "lines",
         "opacity": 0.35,
         "showlegend": false,
         "type": "scatter",
         "x": {
          "bdata": "AAECAwQFBgcICQoLDA0ODxAREhMUFRYXGBkaGxwdHh8gISIjJCUmJygpKissLS4v",
          "dtype": "i1"
         },
         "y": {
          "bdata": "hu/Mg+CT7j8lI+QrS4ftP7+qxhxmwew/0H/Etn9m7D+eytQU2ATsPwZRHHkYy+s/oVxBqxGm6z9S7n2y7mTrP+3KNN7PYus/vBlb1sJJ6z+YbLJ3czTrPz6LpvY2I+s/wbIgQGDk6j9L6t/lidXqP4uF2uwQoOo/1te17Y9t6j9R7iOvLWzqP24Fcpp+a+o/Y2y6RRlk6j/baaJ27iLqPwqvDC/hGeo/8st2FLkU6j9qgcp/hvroP7dYox5jr+c/FcjdGy+v5z9T5Zg+Da/nP2zf0Z8hrOc/Z7jz2BCo5z9nuPPYEKjnPyDkz7lgp+c/+Pl7BlCn5z/xWUSaQKfnP4hweXrEo+c/RFmtWlme5z/C+XrC853nP6WuPA5znOc/Y5ZXf4155z/keJdi7kXnPwrwc+rRfOY/DqIJqM5t5T/IRiSQemDiP43BE71NBt8/RojO6/Ge2T8T7zdIJOHUP6DEFsvIeM4/AK/f32oHxT/8+J7bg/u4P7FKAHo8c40/",
          "dtype": "f8"
         }
        },
        {
         "customdata": {
          "bdata": "AAAAAABcokAAAAAAAFyiQAAAAAAAXKJAAAAAAABcokAAAAAAAFyiQAAAAAAAXKJAAAAAAABcokAAAAAAAFyiQAAAAAAAXKJAAAAAAABcokAAAAAAAFyiQAAAAAAAXKJAAAAAAABcokAAAAAAAFyiQAAAAAAAXKJAAAAAAABcokAAAAAAAFyiQAAAAAAAXKJAAAAAAABcokAAAAAAAFyiQAAAAAAAXKJAAAAAAABcokAAAAAAAFyiQAAAAAAAXKJAAAAAAABcokAAAAAAAFyiQAAAAAAAXKJAAAAAAABcokAAAAAAAFyiQAAAAAAAXKJAAAAAAABcokAAAAAAAFyiQAAAAAAAXKJAAAAAAABcokAAAAAAAFyiQAAAAAAAXKJAAAAAAABcokAAAAAAAFyiQAAAAAAAXKJAAAAAAABcokAAAAAAAFyiQAAAAAAAXKJAAAAAAABcokAAAAAAAFyiQAAAAAAAXKJAAAAAAABcokAAAAAAAFyiQAAAAAAAXKJA",
          "dtype": "f8",
          "shape": "48, 1"
         },
         "hovertemplate": "<b>Time Step:</b> %{x}<br><b>Budget Left Ratio:</b> %{y:.3f}<br><b>Budget:</b> %{customdata[0]:.0f}<br><extra></extra>",
         "line": {
          "color": "rgb(80, 130, 187)",
          "width": 1.5
         },
         "mode": "lines",
         "opacity": 0.35,
         "showlegend": false,
         "type": "scatter",
         "x": {
          "bdata": "AAECAwQFBgcICQoLDA0ODxAREhMUFRYXGBkaGxwdHh8gISIjJCUmJygpKissLS4v",
          "dtype": "i1"
         },
         "y": {
          "bdata": "AAAAAAAA8D8AAAAAAADwPwAAAAAAAPA/AAAAAAAA8D8AAAAAAADwPwAAAAAAAPA/AAAAAAAA8D8AAAAAAADwP3PKMTh03e8/y4wgD9Mm7z9h9qDilLnsP/gw02FMzOs/bb0XJuXE6D+u1ALuwKXkPzaQ6Z5jfN8/6sRN0u3w1z/qxE3S7fDXP+rETdLt8Nc/6sRN0u3w1z/qxE3S7fDXP+rETdLt8Nc/lZt59AW31z9FTC7joa7XP5NawmkEptc/zVRjoW6l1z/NVGOhbqXXP81UY6Fupdc/zVRjoW6l1z/NVGOhbqXXP81UY6Fupdc/pY0t0I+k1z+ljS3Qj6TXP+F3fS89otc/t1FDIXgu1z8YmIpKwdrVP0qExwhUz9M/9hpAYr7q0j/tH8tSRtzSP5zCHSYa+9E/wHp9AHvd0T9ggg/NBdjRP45KwVHG7dA/z+QjPTGqzD+/TNCTXmDEP0oNUthfZaE/zfNEqsZ+mT9efiCe3GiWP244izdZw+s+",
          "dtype": "f8"
         }
        },
        {
         "customdata": {
          "bdata": "AAAAAACopkAAAAAAAKimQAAAAAAAqKZAAAAAAACopkAAAAAAAKimQAAAAAAAqKZAAAAAAACopkAAAAAAAKimQAAAAAAAqKZAAAAAAACopkAAAAAAAKimQAAAAAAAqKZAAAAAAACopkAAAAAAAKimQAAAAAAAqKZAAAAAAACopkAAAAAAAKimQAAAAAAAqKZAAAAAAACopkAAAAAAAKimQAAAAAAAqKZAAAAAAACopkAAAAAAAKimQAAAAAAAqKZAAAAAAACopkAAAAAAAKimQAAAAAAAqKZAAAAAAACopkAAAAAAAKimQAAAAAAAqKZAAAAAAACopkAAAAAAAKimQAAAAAAAqKZAAAAAAACopkAAAAAAAKimQAAAAAAAqKZAAAAAAACopkAAAAAAAKimQAAAAAAAqKZAAAAAAACopkAAAAAAAKimQAAAAAAAqKZAAAAAAACopkAAAAAAAKimQAAAAAAAqKZAAAAAAACopkAAAAAAAKimQAAAAAAAqKZA",
          "dtype": "f8",
          "shape": "48, 1"
         },
         "hovertemplate": "<b>Time Step:</b> %{x}<br><b>Budget Left Ratio:</b> %{y:.3f}<br><b>Budget:</b> %{customdata[0]:.0f}<br><extra></extra>",
         "line": {
          "color": "rgb(179, 221, 235)",
          "width": 1.5
         },
         "mode": "lines",
         "opacity": 0.35,
         "showlegend": false,
         "type": "scatter",
         "x": {
          "bdata": "AAECAwQFBgcICQoLDA0ODxAREhMUFRYXGBkaGxwdHh8gISIjJCUmJygpKissLS4v",
          "dtype": "i1"
         },
         "y": {
          "bdata": "geSZK3n/7z/UCWGNEfrvP6uAUDFy4+8/NCAvpa/d7z/JfyaLkcnvP8l/JouRye8/rhScMUrJ7z9TObU14sbvP1M5tTXixu8/4sUTNHDF7z/6EcBXvr/vPzs1oSnovO8/S2E8c4y77z9sap11+7XvPwozA1gYse8/Q0L4Rmqr7z9DQvhGaqvvP0NC+EZqq+8/EJO8RiKr7z8EfKqxB6rvP+rQYLlyo+8/830Ztsqe7z/pWDRSaofvP1JxAbM5YO8/Bv+1+PCv6z91zmUyyc3nPzxpKFgV5+M/+E5vYifg4D/vu9fGbEjcP6n2zKFvctg/eZC381nv0z/gQW6xOVnOPyw6w+Vp380/g0xCSkQIxz93w9WMGsvDP4KApCW2MME/6mg4XBotvT8k9RJJBn+1P12VE2BXnJI/Po04cmXDhj+8v6LsVnuCP2+uymBPaPY+b67KYE9o9j5vrspgT2j2Pm+uymBPaPY+b67KYE9o9j5vrspgT2j2Pm+uymBPaPY+",
          "dtype": "f8"
         }
        },
        {
         "customdata": {
          "bdata": "AAAAAAD4sUAAAAAAAPixQAAAAAAA+LFAAAAAAAD4sUAAAAAAAPixQAAAAAAA+LFAAAAAAAD4sUAAAAAAAPixQAAAAAAA+LFAAAAAAAD4sUAAAAAAAPixQAAAAAAA+LFAAAAAAAD4sUAAAAAAAPixQAAAAAAA+LFAAAAAAAD4sUAAAAAAAPixQAAAAAAA+LFAAAAAAAD4sUAAAAAAAPixQAAAAAAA+LFAAAAAAAD4sUAAAAAAAPixQAAAAAAA+LFAAAAAAAD4sUAAAAAAAPixQAAAAAAA+LFAAAAAAAD4sUAAAAAAAPixQAAAAAAA+LFAAAAAAAD4sUAAAAAAAPixQAAAAAAA+LFAAAAAAAD4sUAAAAAAAPixQAAAAAAA+LFAAAAAAAD4sUAAAAAAAPixQAAAAAAA+LFAAAAAAAD4sUAAAAAAAPixQAAAAAAA+LFAAAAAAAD4sUAAAAAAAPixQAAAAAAA+LFAAAAAAAD4sUAAAAAAAPixQAAAAAAA+LFA",
          "dtype": "f8",
          "shape": "48, 1"
         },
         "hovertemplate": "<b>Time Step:</b> %{x}<br><b>Budget Left Ratio:</b> %{y:.3f}<br><b>Budget:</b> %{customdata[0]:.0f}<br><extra></extra>",
         "line": {
          "color": "rgb(209, 42, 39)",
          "width": 1.5
         },
         "mode": "lines",
         "opacity": 0.35,
         "showlegend": false,
         "type": "scatter",
         "x": {
          "bdata": "AAECAwQFBgcICQoLDA0ODxAREhMUFRYXGBkaGxwdHh8gISIjJCUmJygpKissLS4v",
          "dtype": "i1"
         },
         "y": {
          "bdata": "Y65NlqX/7z/tMbhV8P7vPymELazZ+e8/V0Q137347z9N3EsWDfjvP5SJiKzE9O8/s73IJ0Hx7z/o/H3L1uzvP+j8fcvW7O8/6Px9y9bs7z/o/H3L1uzvP+j8fcvW7O8/6Px9y9bs7z/o/H3L1uzvP+j8fcvW7O8/6Px9y9bs7z9C0LD5rxzvP7HmtY7fV+4/G1inw6Nu6T8ykZLl9h7mPxA966+jfOM/seaLt8UR3z/xsp7FSAnYPzuZVWk7wdE/AlE8H32Z0T/uArCd/TbRP+eGrcixm9A/fQF8CFgr0D8Fo77zvRzPP8hSGGV8i84/dzNVupLAzT+nAMrhlQPNP5CkCJSK7cw/6ZMgamFjzD+sg1iswEDLP/PRSHHhsMk/CRQtsGGaxj8sc3tsHtLEP+2s3PAftsE/Bv4uVjX1vz+Gvuxn1GG9P5o77YcVcLs/jZxyYKOesz9s0+zGLl2wP3ZKyRAMVao/V4TZ45BWoD/4ba7eHm+RP10R5xcM7Nk+",
          "dtype": "f8"
         }
        },
        {
         "customdata": {
          "bdata": "AAAAAABkqUAAAAAAAGSpQAAAAAAAZKlAAAAAAABkqUAAAAAAAGSpQAAAAAAAZKlAAAAAAABkqUAAAAAAAGSpQAAAAAAAZKlAAAAAAABkqUAAAAAAAGSpQAAAAAAAZKlAAAAAAABkqUAAAAAAAGSpQAAAAAAAZKlAAAAAAABkqUAAAAAAAGSpQAAAAAAAZKlAAAAAAABkqUAAAAAAAGSpQAAAAAAAZKlAAAAAAABkqUAAAAAAAGSpQAAAAAAAZKlAAAAAAABkqUAAAAAAAGSpQAAAAAAAZKlAAAAAAABkqUAAAAAAAGSpQAAAAAAAZKlAAAAAAABkqUAAAAAAAGSpQAAAAAAAZKlAAAAAAABkqUAAAAAAAGSpQAAAAAAAZKlAAAAAAABkqUAAAAAAAGSpQAAAAAAAZKlAAAAAAABkqUAAAAAAAGSpQAAAAAAAZKlAAAAAAABkqUAAAAAAAGSpQAAAAAAAZKlAAAAAAABkqUAAAAAAAGSpQAAAAAAAZKlA",
          "dtype": "f8",
          "shape": "48, 1"
         },
         "hovertemplate": "<b>Time Step:</b> %{x}<br><b>Budget Left Ratio:</b> %{y:.3f}<br><b>Budget:</b> %{customdata[0]:.0f}<br><extra></extra>",
         "line": {
          "color": "rgb(236, 248, 226)",
          "width": 1.5
         },
         "mode": "lines",
         "opacity": 0.35,
         "showlegend": false,
         "type": "scatter",
         "x": {
          "bdata": "AAECAwQFBgcICQoLDA0ODxAREhMUFRYXGBkaGxwdHh8gISIjJCUmJygpKissLS4v",
          "dtype": "i1"
         },
         "y": {
          "bdata": "VlxLxqdK7z8W92g5PzbvP22vAJnq9u4/I6LfZi3j7j9fTVKlUMvuPz7FTmkexO4/U1dcXqjB7j+mFMocbbruP8BD4TOque4/wEPhM6q57j/NMTSataruP4Up50pKpO4/GvOGB1ag7j8aUYjuN3/uP773sLqFfO4/+Ekj5B8u7j9pePU1YSTuP+lT8Zf9+u0/9TX0+jLz7T9gOUlhSt7tP4Ae5t7F6ew/SUiAYJj46z+7JdbBcWLqP+tzDSpI7eg/ubEOXjZX6D9DuVrd8vLnP2LrwB32iec/eqPT8eiS5j+Dp+mpWczlP/zne+7w5eQ/leWkg6K+4z+whPfujrriPy4dIi5NaeI/WDz2y4HO3z9gH2DwTpvaP2Gayac3Y9Y/r/g/jqh11D/qzZIsFdbSP+uTW6pBldE/cIiPip0T0D8wfpn8t4XMP2ltlGjZDsc/TwNUBdOnvD8w0O86gZqrP6MU7eegN3s/qvEi7kP0Vj+B2p2GNTHiPoHanYY1MeI+",
          "dtype": "f8"
         }
        },
        {
         "customdata": {
          "bdata": "AAAAAAAqskAAAAAAACqyQAAAAAAAKrJAAAAAAAAqskAAAAAAACqyQAAAAAAAKrJAAAAAAAAqskAAAAAAACqyQAAAAAAAKrJAAAAAAAAqskAAAAAAACqyQAAAAAAAKrJAAAAAAAAqskAAAAAAACqyQAAAAAAAKrJAAAAAAAAqskAAAAAAACqyQAAAAAAAKrJAAAAAAAAqskAAAAAAACqyQAAAAAAAKrJAAAAAAAAqskAAAAAAACqyQAAAAAAAKrJAAAAAAAAqskAAAAAAACqyQAAAAAAAKrJAAAAAAAAqskAAAAAAACqyQAAAAAAAKrJAAAAAAAAqskAAAAAAACqyQAAAAAAAKrJAAAAAAAAqskAAAAAAACqyQAAAAAAAKrJAAAAAAAAqskAAAAAAACqyQAAAAAAAKrJAAAAAAAAqskAAAAAAACqyQAAAAAAAKrJAAAAAAAAqskAAAAAAACqyQAAAAAAAKrJAAAAAAAAqskAAAAAAACqyQAAAAAAAKrJA",
          "dtype": "f8",
          "shape": "48, 1"
         },
         "hovertemplate": "<b>Time Step:</b> %{x}<br><b>Budget Left Ratio:</b> %{y:.3f}<br><b>Budget:</b> %{customdata[0]:.0f}<br><extra></extra>",
         "line": {
          "color": "rgb(200, 34, 39)",
          "width": 1.5
         },
         "mode": "lines",
         "opacity": 0.35,
         "showlegend": false,
         "type": "scatter",
         "x": {
          "bdata": "AAECAwQFBgcICQoLDA0ODxAREhMUFRYXGBkaGxwdHh8gISIjJCUmJygpKissLS4v",
          "dtype": "i1"
         },
         "y": {
          "bdata": "0OyMASn57z/5fKbxnZrvP5n2hQkQlO8/mv9jfUCR7z+qpHmZWo/vP4SALfbKjO8/FDjBfZGH7z88kD3Ea4fvPzyQPcRrh+8/PJA9xGuH7z88kD3Ea4fvPzyQPcRrh+8/Fuw6K9R+7z8CZqdARXzvP8PngD3jT+8//UKNBTJM7z8MvuQ220vvPxGoOVASSO8/w/UIuKhF7z8R+hl1KUXvP99kuTvhRO8/7o0OtaTr7j+1qjFe9+DtP+0+CKz2u+w/7T4IrPa77D/tPgis9rvsP+0+CKz2u+w/7T4IrPa77D/tPgis9rvsP+0+CKz2u+w/7T4IrPa77D/tPgis9rvsPxyhe0aGO+w/wet99Zr96j8FO5+jG+7oP9V+O0iqgec/JzRoj4yA5j+g8rEJs47lP96qIK1FQeQ/nTizmG6W4j+epzYCnizhP95T6Z5bP98/0DqJzl+b2T9WK3+LhL/TPy1L41nU5cg/sY9pN28QwD8gLygGj+2nPwz7uMDxY+Y+",
          "dtype": "f8"
         }
        },
        {
         "customdata": {
          "bdata": "AAAAAAD4oUAAAAAAAPihQAAAAAAA+KFAAAAAAAD4oUAAAAAAAPihQAAAAAAA+KFAAAAAAAD4oUAAAAAAAPihQAAAAAAA+KFAAAAAAAD4oUAAAAAAAPihQAAAAAAA+KFAAAAAAAD4oUAAAAAAAPihQAAAAAAA+KFAAAAAAAD4oUAAAAAAAPihQAAAAAAA+KFAAAAAAAD4oUAAAAAAAPihQAAAAAAA+KFAAAAAAAD4oUAAAAAAAPihQAAAAAAA+KFAAAAAAAD4oUAAAAAAAPihQAAAAAAA+KFAAAAAAAD4oUAAAAAAAPihQAAAAAAA+KFAAAAAAAD4oUAAAAAAAPihQAAAAAAA+KFAAAAAAAD4oUAAAAAAAPihQAAAAAAA+KFAAAAAAAD4oUAAAAAAAPihQAAAAAAA+KFAAAAAAAD4oUAAAAAAAPihQAAAAAAA+KFAAAAAAAD4oUAAAAAAAPihQAAAAAAA+KFAAAAAAAD4oUAAAAAAAPihQAAAAAAA+KFA",
          "dtype": "f8",
          "shape": "48, 1"
         },
         "hovertemplate": "<b>Time Step:</b> %{x}<br><b>Budget Left Ratio:</b> %{y:.3f}<br><b>Budget:</b> %{customdata[0]:.0f}<br><extra></extra>",
         "line": {
          "color": "rgb(71, 120, 182)",
          "width": 1.5
         },
         "mode": "lines",
         "opacity": 0.35,
         "showlegend": false,
         "type": "scatter",
         "x": {
          "bdata": "AAECAwQFBgcICQoLDA0ODxAREhMUFRYXGBkaGxwdHh8gISIjJCUmJygpKissLS4v",
          "dtype": "i1"
         },
         "y": {
          "bdata": "AAAAAAAA8D9zD8LKr//vP3MPwsqv/+8/cw/Cyq//7z9zD8LKr//vP3MPwsqv/+8/cw/Cyq//7z9zD8LKr//vP3MPwsqv/+8/cw/Cyq//7z9zD8LKr//vP3MPwsqv/+8/cw/Cyq//7z9zD8LKr//vP+ATvVke/u8/qnXafDP97z+qddp8M/3vP6p12nwz/e8/qnXafDP97z+qddp8M/3vP6p12nwz/e8/qnXafDP97z+qddp8M/3vP6p12nwz/e8/trkMNEPm7z8vgq4Pj3DvP/nH02mStOw/X/a0oMdi6j8cs9VmdZvmPxxDu1J8BuQ/RwjVk2gv4T/5nO73GfnfP26Qk9jh79o/gYKN6cXm1T9vmTewesfSP/wbAFBfadE/LXmqV7xH0D8aE7bzuLrMP8xrm+eYh8k/g2+Wb8Djwz9PWYaZMUbDP9utb9R+L74/h+9uKao0pj8mlr0qf0KhPy4nt19rgpY/exQiPsRdaD9udorLSpHgPm52istKkeA+",
          "dtype": "f8"
         }
        },
        {
         "customdata": {
          "bdata": "AAAAAABYq0AAAAAAAFirQAAAAAAAWKtAAAAAAABYq0AAAAAAAFirQAAAAAAAWKtAAAAAAABYq0AAAAAAAFirQAAAAAAAWKtAAAAAAABYq0AAAAAAAFirQAAAAAAAWKtAAAAAAABYq0AAAAAAAFirQAAAAAAAWKtAAAAAAABYq0AAAAAAAFirQAAAAAAAWKtAAAAAAABYq0AAAAAAAFirQAAAAAAAWKtAAAAAAABYq0AAAAAAAFirQAAAAAAAWKtAAAAAAABYq0AAAAAAAFirQAAAAAAAWKtAAAAAAABYq0AAAAAAAFirQAAAAAAAWKtAAAAAAABYq0AAAAAAAFirQAAAAAAAWKtAAAAAAABYq0AAAAAAAFirQAAAAAAAWKtAAAAAAABYq0AAAAAAAFirQAAAAAAAWKtAAAAAAABYq0AAAAAAAFirQAAAAAAAWKtAAAAAAABYq0AAAAAAAFirQAAAAAAAWKtAAAAAAABYq0AAAAAAAFirQAAAAAAAWKtA",
          "dtype": "f8",
          "shape": "48, 1"
         },
         "hovertemplate": "<b>Time Step:</b> %{x}<br><b>Budget Left Ratio:</b> %{y:.3f}<br><b>Budget:</b> %{customdata[0]:.0f}<br><extra></extra>",
         "line": {
          "color": "rgb(255, 247, 179)",
          "width": 1.5
         },
         "mode": "lines",
         "opacity": 0.35,
         "showlegend": false,
         "type": "scatter",
         "x": {
          "bdata": "AAECAwQFBgcICQoLDA0ODxAREhMUFRYXGBkaGxwdHh8gISIjJCUmJygpKissLS4v",
          "dtype": "i1"
         },
         "y": {
          "bdata": "AAAAAAAA8D8AAAAAAADwPwAAAAAAAPA/AAAAAAAA8D8AAAAAAADwPwAAAAAAAPA/AAAAAAAA8D8AAAAAAADwPwAAAAAAAPA/AAAAAAAA8D8AAAAAAADwPy8fbpbJ/+8/Lx9ulsn/7z8vH26Wyf/vPy8fbpbJ/+8/Lx9ulsn/7z8vH26Wyf/vP6OQ9xXR/u8/o5D3FdH+7z+yENGhMObvP1Mwz1ha5e8/vL0/XUvk7z9sNlwv6+DvP4rYt8AChe8/3WLSOqra7D+idaG1DdrpP7rUvoAaTOc/9+ktynlo5T9fbLpQAefjP3uGlSCEiOI/Nmkh704g4T/DDO+EUM3fP01YP/f2dtw/AQ/sSCAj2T+pkLlClL7WP10G467Qn9M/0R8eTSpZzz+mLsNupxXFP2NEJ7WrV78/C0v4wEjHsz8LS/jASMezPwtL+MBIx7M/NQHg4Pu8sz8E9kuPmpyzP4fcjjTaTLM/BxWP6EL4sD9ALCFEduSmP6uiuKP6+pU/",
          "dtype": "f8"
         }
        },
        {
         "customdata": {
          "bdata": "AAAAAADUp0AAAAAAANSnQAAAAAAA1KdAAAAAAADUp0AAAAAAANSnQAAAAAAA1KdAAAAAAADUp0AAAAAAANSnQAAAAAAA1KdAAAAAAADUp0AAAAAAANSnQAAAAAAA1KdAAAAAAADUp0AAAAAAANSnQAAAAAAA1KdAAAAAAADUp0AAAAAAANSnQAAAAAAA1KdAAAAAAADUp0AAAAAAANSnQAAAAAAA1KdAAAAAAADUp0AAAAAAANSnQAAAAAAA1KdAAAAAAADUp0AAAAAAANSnQAAAAAAA1KdAAAAAAADUp0AAAAAAANSnQAAAAAAA1KdAAAAAAADUp0AAAAAAANSnQAAAAAAA1KdAAAAAAADUp0AAAAAAANSnQAAAAAAA1KdAAAAAAADUp0AAAAAAANSnQAAAAAAA1KdAAAAAAADUp0AAAAAAANSnQAAAAAAA1KdAAAAAAADUp0AAAAAAANSnQAAAAAAA1KdAAAAAAADUp0AAAAAAANSnQAAAAAAA1KdA",
          "dtype": "f8",
          "shape": "48, 1"
         },
         "hovertemplate": "<b>Time Step:</b> %{x}<br><b>Budget Left Ratio:</b> %{y:.3f}<br><b>Budget:</b> %{customdata[0]:.0f}<br><extra></extra>",
         "line": {
          "color": "rgb(207, 235, 243)",
          "width": 1.5
         },
         "mode": "lines",
         "opacity": 0.35,
         "showlegend": false,
         "type": "scatter",
         "x": {
          "bdata": "AAECAwQFBgcICQoLDA0ODxAREhMUFRYXGBkaGxwdHh8gISIjJCUmJygpKissLS4v",
          "dtype": "i1"
         },
         "y": {
          "bdata": "AAAAAAAA8D8AAAAAAADwPwAAAAAAAPA/AAAAAAAA8D8AAAAAAADwPwAAAAAAAPA/AAAAAAAA8D8AAAAAAADwP+8w//LC/+8/7zD/8sL/7z/4dCIqf//vP/h0Iip//+8/9zM3KD7/7z/y2WMuQv7vP84DH7Nn+e8/Tl0Ifqj47z/J8FRqL+7vPxbihE+uru8/l+H+Ft8D7z8AhtwxqcrsP+WqTonq3ug/Xjabueyf5j+gjvphqUHlP98ZFfkWg+I/3xkV+RaD4j/fGRX5FoPiP98ZFfkWg+I/3xkV+RaD4j/fGRX5FoPiP98ZFfkWg+I/3xkV+RaD4j/fGRX5FoPiP9OuJ4FfoOE/GY4EqUbP4D9xbCGnnNDfPyQMKmSVCNw/Snq7kFIy2D9TPSl+mhbUPxybbl/dNdE/87imfpBmyj+V6G6lVy++P5PnkO1kaKc/ypyyeOZP6D7KnLJ45k/oPsqcsnjmT+g+ypyyeOZP6D7KnLJ45k/oPsqcsnjmT+g+",
          "dtype": "f8"
         }
        },
        {
         "customdata": {
          "bdata": "AAAAAAAEsEAAAAAAAASwQAAAAAAABLBAAAAAAAAEsEAAAAAAAASwQAAAAAAABLBAAAAAAAAEsEAAAAAAAASwQAAAAAAABLBAAAAAAAAEsEAAAAAAAASwQAAAAAAABLBAAAAAAAAEsEAAAAAAAASwQAAAAAAABLBAAAAAAAAEsEAAAAAAAASwQAAAAAAABLBAAAAAAAAEsEAAAAAAAASwQAAAAAAABLBAAAAAAAAEsEAAAAAAAASwQAAAAAAABLBAAAAAAAAEsEAAAAAAAASwQAAAAAAABLBAAAAAAAAEsEAAAAAAAASwQAAAAAAABLBAAAAAAAAEsEAAAAAAAASwQAAAAAAABLBAAAAAAAAEsEAAAAAAAASwQAAAAAAABLBAAAAAAAAEsEAAAAAAAASwQAAAAAAABLBAAAAAAAAEsEAAAAAAAASwQAAAAAAABLBAAAAAAAAEsEAAAAAAAASwQAAAAAAABLBAAAAAAAAEsEAAAAAAAASwQAAAAAAABLBA",
          "dtype": "f8",
          "shape": "48, 1"
         },
         "hovertemplate": "<b>Time Step:</b> %{x}<br><b>Budget Left Ratio:</b> %{y:.3f}<br><b>Budget:</b> %{customdata[0]:.0f}<br><extra></extra>",
         "line": {
          "color": "rgb(250, 150, 86)",
          "width": 1.5
         },
         "mode": "lines",
         "opacity": 0.35,
         "showlegend": false,
         "type": "scatter",
         "x": {
          "bdata": "AAECAwQFBgcICQoLDA0ODxAREhMUFRYXGBkaGxwdHh8gISIjJCUmJygpKissLS4v",
          "dtype": "i1"
         },
         "y": {
          "bdata": "AAAAAAAA8D8AAAAAAADwP9P7TOyj/+8/0/tM7KP/7z85ojycd//vPzmiPJx3/+8/OaI8nHf/7z85ojycd//vPzmiPJx3/+8/OaI8nHf/7z85ojycd//vPzmiPJx3/+8/OaI8nHf/7z85ojycd//vPzmiPJx3/+8/OaI8nHf/7z/BhIoG+2PtPxKjj1vr4uk/pueGRkfH5T9cTlc7sETiP04grzXTwdw/SLCdypcX1j8btEPetiPPPwtlm5j76sQ/C2WbmPvqxD/fZB7vT+jEPyqHl1Lc58Q/7WzgiL5rxD++16NtBfvDP2rHpMsRrsM/PpcyK3ECwz956u8/v4jBPyna2BwrQsE//5OF+0GowD9CljuMrEPAP6sTWy4qHL4/wB79Y9KqvD/3ozv8LeK5P0igjGpXwbY/3SoWKSR3tT/6V1rP+S21P2wPyq5XQao/gfvcb4t/oD8J2rdxQG6ZP2ZplRhDRIo/G5WrSUJF5D4blatJQkXkPhuVq0lCReQ+",
          "dtype": "f8"
         }
        },
        {
         "customdata": {
          "bdata": "AAAAAAAEoEAAAAAAAASgQAAAAAAABKBAAAAAAAAEoEAAAAAAAASgQAAAAAAABKBAAAAAAAAEoEAAAAAAAASgQAAAAAAABKBAAAAAAAAEoEAAAAAAAASgQAAAAAAABKBAAAAAAAAEoEAAAAAAAASgQAAAAAAABKBAAAAAAAAEoEAAAAAAAASgQAAAAAAABKBAAAAAAAAEoEAAAAAAAASgQAAAAAAABKBAAAAAAAAEoEAAAAAAAASgQAAAAAAABKBAAAAAAAAEoEAAAAAAAASgQAAAAAAABKBAAAAAAAAEoEAAAAAAAASgQAAAAAAABKBAAAAAAAAEoEAAAAAAAASgQAAAAAAABKBAAAAAAAAEoEAAAAAAAASgQAAAAAAABKBAAAAAAAAEoEAAAAAAAASgQAAAAAAABKBAAAAAAAAEoEAAAAAAAASgQAAAAAAABKBAAAAAAAAEoEAAAAAAAASgQAAAAAAABKBAAAAAAAAEoEAAAAAAAASgQAAAAAAABKBA",
          "dtype": "f8",
          "shape": "48, 1"
         },
         "hovertemplate": "<b>Time Step:</b> %{x}<br><b>Budget Left Ratio:</b> %{y:.3f}<br><b>Budget:</b> %{customdata[0]:.0f}<br><extra></extra>",
         "line": {
          "color": "rgb(53, 65, 154)",
          "width": 1.5
         },
         "mode": "lines",
         "opacity": 0.35,
         "showlegend": false,
         "type": "scatter",
         "x": {
          "bdata": "AAECAwQFBgcICQoLDA0ODxAREhMUFRYXGBkaGxwdHh8gISIjJCUmJygpKissLS4v",
          "dtype": "i1"
         },
         "y": {
          "bdata": "7S76Ks/07z9NROlTK/PvPwaOrX3Uye8/SBRTx2zJ7z+ynLxlDcnvP9lmDdZKx+8/XAexxnTD7z/O6IbD6MLvP87ohsPowu8/zuiGw+jC7z/O6IbD6MLvP87ohsPowu8/zuiGw+jC7z/O6IbD6MLvP87ohsPowu8/zuiGw+jC7z/O6IbD6MLvP87ohsPowu8/zuiGw+jC7z/O6IbD6MLvP87ohsPowu8/zuiGw+jC7z/O6IbD6MLvP87ohsPowu8/zuiGw+jC7z/O6IbD6MLvP87ohsPowu8/zuiGw+jC7z/O6IbD6MLvP87ohsPowu8/zuiGw+jC7z/O6IbD6MLvP8Gs9CYLEes/4nlG4xQZ5D/Gr1u0K6jZP98DEm5fbs8/tmccf257rz9sUboaTCv3PmxRuhpMK/c+bFG6Gkwr9z5sUboaTCv3PmxRuhpMK/c+bFG6Gkwr9z5sUboaTCv3PmxRuhpMK/c+bFG6Gkwr9z5sUboaTCv3PmxRuhpMK/c+",
          "dtype": "f8"
         }
        },
        {
         "customdata": {
          "bdata": "AAAAAABYq0AAAAAAAFirQAAAAAAAWKtAAAAAAABYq0AAAAAAAFirQAAAAAAAWKtAAAAAAABYq0AAAAAAAFirQAAAAAAAWKtAAAAAAABYq0AAAAAAAFirQAAAAAAAWKtAAAAAAABYq0AAAAAAAFirQAAAAAAAWKtAAAAAAABYq0AAAAAAAFirQAAAAAAAWKtAAAAAAABYq0AAAAAAAFirQAAAAAAAWKtAAAAAAABYq0AAAAAAAFirQAAAAAAAWKtAAAAAAABYq0AAAAAAAFirQAAAAAAAWKtAAAAAAABYq0AAAAAAAFirQAAAAAAAWKtAAAAAAABYq0AAAAAAAFirQAAAAAAAWKtAAAAAAABYq0AAAAAAAFirQAAAAAAAWKtAAAAAAABYq0AAAAAAAFirQAAAAAAAWKtAAAAAAABYq0AAAAAAAFirQAAAAAAAWKtAAAAAAABYq0AAAAAAAFirQAAAAAAAWKtAAAAAAABYq0AAAAAAAFirQAAAAAAAWKtA",
          "dtype": "f8",
          "shape": "48, 1"
         },
         "hovertemplate": "<b>Time Step:</b> %{x}<br><b>Budget Left Ratio:</b> %{y:.3f}<br><b>Budget:</b> %{customdata[0]:.0f}<br><extra></extra>",
         "line": {
          "color": "rgb(255, 247, 179)",
          "width": 1.5
         },
         "mode": "lines",
         "opacity": 0.35,
         "showlegend": false,
         "type": "scatter",
         "x": {
          "bdata": "AAECAwQFBgcICQoLDA0ODxAREhMUFRYXGBkaGxwdHh8gISIjJCUmJygpKissLS4v",
          "dtype": "i1"
         },
         "y": {
          "bdata": "fuz/vfT47z/euF6GU8zvPy9xwiQqwe8/bK3v+3u87z91I4XbXbrvP5c7438Qsu8/L7txfTKx7z+75GIXM6/vP7vkYhczr+8/4tkI7emu7z/i2Qjt6a7vP2P/3uKxru8/vwmMj6yt7z8sJIhiIKjvP217uqfwju8/jfpSwf2D7z+N+lLB/YPvP436UsH9g+8/I3/uz6mD7z/R7yf4SoPvP+MlXezSgu8/VJyN1uOB7z9sag1HxX7vP419mw8wfe8/LTmgJdxy7D++lXkUfx7rP2a58YqJSuo/HdynejJk6T9U92c6OTDoPwgX3dXDCec/USL+dDYJ5D8zxvmHb6XhPypYYrifpOE/xXkqi7uV4T+srM6HCNbgP41hVc2SHd8/JZKC8mG42j9N0KFMhiPXP+4prH8OcdM/CClws3Qu0T8z5oTM+R3RPxkcuYaJ49A/kTaBvx7LyD9XeJQSEPjAPy1V1g6C5LY/r0HQCVRJsD/EY5j3hhygP1GBMjFdczI/",
          "dtype": "f8"
         }
        },
        {
         "customdata": {
          "bdata": "AAAAAABAn0AAAAAAAECfQAAAAAAAQJ9AAAAAAABAn0AAAAAAAECfQAAAAAAAQJ9AAAAAAABAn0AAAAAAAECfQAAAAAAAQJ9AAAAAAABAn0AAAAAAAECfQAAAAAAAQJ9AAAAAAABAn0AAAAAAAECfQAAAAAAAQJ9AAAAAAABAn0AAAAAAAECfQAAAAAAAQJ9AAAAAAABAn0AAAAAAAECfQAAAAAAAQJ9AAAAAAABAn0AAAAAAAECfQAAAAAAAQJ9AAAAAAABAn0AAAAAAAECfQAAAAAAAQJ9AAAAAAABAn0AAAAAAAECfQAAAAAAAQJ9AAAAAAABAn0AAAAAAAECfQAAAAAAAQJ9AAAAAAABAn0AAAAAAAECfQAAAAAAAQJ9AAAAAAABAn0AAAAAAAECfQAAAAAAAQJ9AAAAAAABAn0AAAAAAAECfQAAAAAAAQJ9AAAAAAABAn0AAAAAAAECfQAAAAAAAQJ9AAAAAAABAn0AAAAAAAECfQAAAAAAAQJ9A",
          "dtype": "f8",
          "shape": "48, 1"
         },
         "hovertemplate": "<b>Time Step:</b> %{x}<br><b>Budget Left Ratio:</b> %{y:.3f}<br><b>Budget:</b> %{customdata[0]:.0f}<br><extra></extra>",
         "line": {
          "color": "rgb(49, 54, 149)",
          "width": 1.5
         },
         "mode": "lines",
         "opacity": 0.35,
         "showlegend": false,
         "type": "scatter",
         "x": {
          "bdata": "AAECAwQFBgcICQoLDA0ODxAREhMUFRYXGBkaGxwdHh8gISIjJCUmJygpKissLS4v",
          "dtype": "i1"
         },
         "y": {
          "bdata": "AAAAAAAA8D8AAAAAAADwPwAAAAAAAPA/AAAAAAAA8D8AAAAAAADwPwAAAAAAAPA/AAAAAAAA8D8AAAAAAADwPy8o9XCbs+8/y/6RvpTf7j/4vKfCpgLuP0/asD3VxOs/rEzzwOVj5z81sGuxaS/hP2r+pZjj8tk/RDfwS4tzzD9EN/BLi3PMP0Q38EuLc8w/RDfwS4tzzD9EN/BLi3PMP0Q38EuLc8w/RDfwS4tzzD9EN/BLi3PMP0Q38EuLc8w/RDfwS4tzzD8Gc5d2UnLMPwAkdi8dbMw/yUKT5xETzD8luvuWL0vLP673ugETSss/43kQgPayyj/LB1mRDLLKP28SWcZIgrU/NdbiXuBvqz9KDAJ+7sDwPkoMAn7uwPA+SgwCfu7A8D5KDAJ+7sDwPkoMAn7uwPA+SgwCfu7A8D5KDAJ+7sDwPkoMAn7uwPA+SgwCfu7A8D5KDAJ+7sDwPkoMAn7uwPA+SgwCfu7A8D5KDAJ+7sDwPkoMAn7uwPA+",
          "dtype": "f8"
         }
        },
        {
         "customdata": {
          "bdata": "AAAAAABAn0AAAAAAAECfQAAAAAAAQJ9AAAAAAABAn0AAAAAAAECfQAAAAAAAQJ9AAAAAAABAn0AAAAAAAECfQAAAAAAAQJ9AAAAAAABAn0AAAAAAAECfQAAAAAAAQJ9AAAAAAABAn0AAAAAAAECfQAAAAAAAQJ9AAAAAAABAn0AAAAAAAECfQAAAAAAAQJ9AAAAAAABAn0AAAAAAAECfQAAAAAAAQJ9AAAAAAABAn0AAAAAAAECfQAAAAAAAQJ9AAAAAAABAn0AAAAAAAECfQAAAAAAAQJ9AAAAAAABAn0AAAAAAAECfQAAAAAAAQJ9AAAAAAABAn0AAAAAAAECfQAAAAAAAQJ9AAAAAAABAn0AAAAAAAECfQAAAAAAAQJ9AAAAAAABAn0AAAAAAAECfQAAAAAAAQJ9AAAAAAABAn0AAAAAAAECfQAAAAAAAQJ9AAAAAAABAn0AAAAAAAECfQAAAAAAAQJ9AAAAAAABAn0AAAAAAAECfQAAAAAAAQJ9A",
          "dtype": "f8",
          "shape": "48, 1"
         },
         "hovertemplate": "<b>Time Step:</b> %{x}<br><b>Budget Left Ratio:</b> %{y:.3f}<br><b>Budget:</b> %{customdata[0]:.0f}<br><extra></extra>",
         "line": {
          "color": "rgb(49, 54, 149)",
          "width": 1.5
         },
         "mode": "lines",
         "opacity": 0.35,
         "showlegend": false,
         "type": "scatter",
         "x": {
          "bdata": "AAECAwQFBgcICQoLDA0ODxAREhMUFRYXGBkaGxwdHh8gISIjJCUmJygpKissLS4v",
          "dtype": "i1"
         },
         "y": {
          "bdata": "trU0Ek//7z+2tTQST//vP6cyP/qP/u8/pzI/+o/+7z+nMj/6j/7vP6cyP/qP/u8/pzI/+o/+7z+nMj/6j/7vP6cyP/qP/u8/pzI/+o/+7z+nMj/6j/7vP6cyP/qP/u8/pzI/+o/+7z+nMj/6j/7vP6cyP/qP/u8/pzI/+o/+7z+nMj/6j/7vP0mJP1Kl/O8/WFaFLDb27z8zAVhPafHvP5l7hVklmO8/7e1v+xWE7z9evfeDTrXuP7nMRQs4ku4/ucxFCziS7j+5zEULOJLuP7nMRQs4ku4/ucxFCziS7j+5zEULOJLuP7nMRQs4ku4/ucxFCziS7j+5zEULOJLuP1vzCSOzWO4/I9VY//2E7D+RQhZ4LiHrP1I+oKf16eg/1RiI6mK16D8Ja4+btpDnP+rgUpHJQuc/8xYZTZTW5j/h6qXcwx/lPwaoqojiF+I/bcH9Mmnu2T/ppAFZV8DQP1SHySabL8k/ixyalcT4uz+gGi827sL6PqAaLzbuwvo+",
          "dtype": "f8"
         }
        },
        {
         "customdata": {
          "bdata": "AAAAAACopkAAAAAAAKimQAAAAAAAqKZAAAAAAACopkAAAAAAAKimQAAAAAAAqKZAAAAAAACopkAAAAAAAKimQAAAAAAAqKZAAAAAAACopkAAAAAAAKimQAAAAAAAqKZAAAAAAACopkAAAAAAAKimQAAAAAAAqKZAAAAAAACopkAAAAAAAKimQAAAAAAAqKZAAAAAAACopkAAAAAAAKimQAAAAAAAqKZAAAAAAACopkAAAAAAAKimQAAAAAAAqKZAAAAAAACopkAAAAAAAKimQAAAAAAAqKZAAAAAAACopkAAAAAAAKimQAAAAAAAqKZAAAAAAACopkAAAAAAAKimQAAAAAAAqKZAAAAAAACopkAAAAAAAKimQAAAAAAAqKZAAAAAAACopkAAAAAAAKimQAAAAAAAqKZAAAAAAACopkAAAAAAAKimQAAAAAAAqKZAAAAAAACopkAAAAAAAKimQAAAAAAAqKZAAAAAAACopkAAAAAAAKimQAAAAAAAqKZA",
          "dtype": "f8",
          "shape": "48, 1"
         },
         "hovertemplate": "<b>Time Step:</b> %{x}<br><b>Budget Left Ratio:</b> %{y:.3f}<br><b>Budget:</b> %{customdata[0]:.0f}<br><extra></extra>",
         "line": {
          "color": "rgb(179, 221, 235)",
          "width": 1.5
         },
         "mode": "lines",
         "opacity": 0.35,
         "showlegend": false,
         "type": "scatter",
         "x": {
          "bdata": "AAECAwQFBgcICQoLDA0ODxAREhMUFRYXGBkaGxwdHh8gISIjJCUmJygpKissLS4v",
          "dtype": "i1"
         },
         "y": {
          "bdata": "AAAAAAAA8D8AAAAAAADwPwAAAAAAAPA/AAAAAAAA8D8AAAAAAADwPwAAAAAAAPA/AAAAAAAA8D8AAAAAAADwPzupsDkC/+8/O6mwOQL/7z/bOdO91trvP0+pTnJZpu8/yX6jhQSe7z+j41WD7HTvP8T4tkEEX+8/UNYOkq+f7j9Q1g6Sr5/uP1DWDpKvn+4/UNYOkq+f7j9Q1g6Sr5/uP1DWDpKvn+4/417PTEmf7j/0GVdmk53uPwmOy+/mnO4/IoAruL4f6T/NbctfQMbkP2n+pY4a290/lX0xGOIQ1j++y0yxafvNPzGUfbIeBMM/LgOqRVzdsz8FJxGD/QaqP3ydLcIu7ak//3NYWzW0qT9DeuIE7hKoPxX0T77mkaU/ApLbA0ptpD9XZaKKubajPx8LiyA186I/f/vrl/t9oT/osBKR9rKLPxIZo1nmZ4Q/KVyP6qmM1j4pXI/qqYzWPilcj+qpjNY+KVyP6qmM1j4pXI/qqYzWPilcj+qpjNY+",
          "dtype": "f8"
         }
        },
        {
         "customdata": {
          "bdata": "AAAAAACUoUAAAAAAAJShQAAAAAAAlKFAAAAAAACUoUAAAAAAAJShQAAAAAAAlKFAAAAAAACUoUAAAAAAAJShQAAAAAAAlKFAAAAAAACUoUAAAAAAAJShQAAAAAAAlKFAAAAAAACUoUAAAAAAAJShQAAAAAAAlKFAAAAAAACUoUAAAAAAAJShQAAAAAAAlKFAAAAAAACUoUAAAAAAAJShQAAAAAAAlKFAAAAAAACUoUAAAAAAAJShQAAAAAAAlKFAAAAAAACUoUAAAAAAAJShQAAAAAAAlKFAAAAAAACUoUAAAAAAAJShQAAAAAAAlKFAAAAAAACUoUAAAAAAAJShQAAAAAAAlKFAAAAAAACUoUAAAAAAAJShQAAAAAAAlKFAAAAAAACUoUAAAAAAAJShQAAAAAAAlKFAAAAAAACUoUAAAAAAAJShQAAAAAAAlKFAAAAAAACUoUAAAAAAAJShQAAAAAAAlKFAAAAAAACUoUAAAAAAAJShQAAAAAAAlKFA",
          "dtype": "f8",
          "shape": "48, 1"
         },
         "hovertemplate": "<b>Time Step:</b> %{x}<br><b>Budget Left Ratio:</b> %{y:.3f}<br><b>Budget:</b> %{customdata[0]:.0f}<br><extra></extra>",
         "line": {
          "color": "rgb(67, 109, 176)",
          "width": 1.5
         },
         "mode": "lines",
         "opacity": 0.35,
         "showlegend": false,
         "type": "scatter",
         "x": {
          "bdata": "AAECAwQFBgcICQoLDA0ODxAREhMUFRYXGBkaGxwdHh8gISIjJCUmJygpKissLS4v",
          "dtype": "i1"
         },
         "y": {
          "bdata": "AAAAAAAA8D8AAAAAAADwPwAAAAAAAPA/AAAAAAAA8D8AAAAAAADwPwAAAAAAAPA/AAAAAAAA8D8AAAAAAADwPzdhAWJD/e8/4R9IrBXs7z9NqZrP59nvP5OMUcCpnO8/YJTOBsAX7z95aZTjRNLuP7QWMk/nBe0/RJm5azVq7D/eA9mX8WLsP0cwA+g8N+w/VfZAECsv7D94DuSxPvDrP0+nXWWem+o/r5b7I5A66T+R0n0bMxTnP8JQbXQPFOY/wlBtdA8U5j/CUG10DxTmP8JQbXQPFOY/wlBtdA8U5j/CUG10DxTmP8JQbXQPFOY/wlBtdA8U5j/CUG10DxTmP/Ykxq2B4+E/bIJlXX0i4D8U28HrcZvdPzKxw1tM0ds/BhuM/nQ62T/r9gTybZTXPwQGH5CZKtY/WF6COwS00z+v6KsnEqzTP1q5i9hIoNE/s8Zf5bWEyT/NGYBsoaq+P8Ip5FSo7KI/nH38udlUoT9/auhj1qB+P+u+xc8AKuU+",
          "dtype": "f8"
         }
        },
        {
         "customdata": {
          "bdata": "AAAAAADAskAAAAAAAMCyQAAAAAAAwLJAAAAAAADAskAAAAAAAMCyQAAAAAAAwLJAAAAAAADAskAAAAAAAMCyQAAAAAAAwLJAAAAAAADAskAAAAAAAMCyQAAAAAAAwLJAAAAAAADAskAAAAAAAMCyQAAAAAAAwLJAAAAAAADAskAAAAAAAMCyQAAAAAAAwLJAAAAAAADAskAAAAAAAMCyQAAAAAAAwLJAAAAAAADAskAAAAAAAMCyQAAAAAAAwLJAAAAAAADAskAAAAAAAMCyQAAAAAAAwLJAAAAAAADAskAAAAAAAMCyQAAAAAAAwLJAAAAAAADAskAAAAAAAMCyQAAAAAAAwLJAAAAAAADAskAAAAAAAMCyQAAAAAAAwLJAAAAAAADAskAAAAAAAMCyQAAAAAAAwLJAAAAAAADAskAAAAAAAMCyQAAAAAAAwLJAAAAAAADAskAAAAAAAMCyQAAAAAAAwLJAAAAAAADAskAAAAAAAMCyQAAAAAAAwLJA",
          "dtype": "f8",
          "shape": "48, 1"
         },
         "hovertemplate": "<b>Time Step:</b> %{x}<br><b>Budget Left Ratio:</b> %{y:.3f}<br><b>Budget:</b> %{customdata[0]:.0f}<br><extra></extra>",
         "line": {
          "color": "rgb(174, 8, 38)",
          "width": 1.5
         },
         "mode": "lines",
         "opacity": 0.35,
         "showlegend": false,
         "type": "scatter",
         "x": {
          "bdata": "AAECAwQFBgcICQoLDA0ODxAREhMUFRYXGBkaGxwdHh8gISIjJCUmJygpKissLS4v",
          "dtype": "i1"
         },
         "y": {
          "bdata": "2uj95eP97z9PoO+aVfrvP7coaWbH9u8/oqQGoqTw7z+DkFIBTufvP9RHu1P65u8/AFH425Lm7z/EJ2PB8+XvP67FD7qz5O8/cWfyJMDf7z+TF0pzRLzvP9erp1u8t+8/DDZdXZBF7z9VBm+RcgHvPwLI1Ivjuu0/foJV7f9N7D9+glXt/03sP36CVe3/Tew/igYnURpN7D8/oLNbBUzsP6T9DPFFS+w/1feZtQdL7D86DDQF6UrsPz2ydImbR+w/PbJ0iZtH7D89snSJm0fsPz2ydImbR+w/PbJ0iZtH7D89snSJm0fsPz2ydImbR+w/PbJ0iZtH7D89snSJm0fsP/lczxnz5Os/VcEOYiTy6j/odhYohAzpP2CxG6f7rec/rAXgj78A5z9Kz4wXtFvmP6EJxF9B6OQ/LCFSgpKy4z/NvphIiynePwBhuuSokNU/8gnYU1ZPyD+r4rRcyhy1P7he7uzddHM/KVyPahpewj4pXI9qGl7CPilcj2oaXsI+",
          "dtype": "f8"
         }
        },
        {
         "customdata": {
          "bdata": "AAAAAAC0pEAAAAAAALSkQAAAAAAAtKRAAAAAAAC0pEAAAAAAALSkQAAAAAAAtKRAAAAAAAC0pEAAAAAAALSkQAAAAAAAtKRAAAAAAAC0pEAAAAAAALSkQAAAAAAAtKRAAAAAAAC0pEAAAAAAALSkQAAAAAAAtKRAAAAAAAC0pEAAAAAAALSkQAAAAAAAtKRAAAAAAAC0pEAAAAAAALSkQAAAAAAAtKRAAAAAAAC0pEAAAAAAALSkQAAAAAAAtKRAAAAAAAC0pEAAAAAAALSkQAAAAAAAtKRAAAAAAAC0pEAAAAAAALSkQAAAAAAAtKRAAAAAAAC0pEAAAAAAALSkQAAAAAAAtKRAAAAAAAC0pEAAAAAAALSkQAAAAAAAtKRAAAAAAAC0pEAAAAAAALSkQAAAAAAAtKRAAAAAAAC0pEAAAAAAALSkQAAAAAAAtKRAAAAAAAC0pEAAAAAAALSkQAAAAAAAtKRAAAAAAAC0pEAAAAAAALSkQAAAAAAAtKRA",
          "dtype": "f8",
          "shape": "48, 1"
         },
         "hovertemplate": "<b>Time Step:</b> %{x}<br><b>Budget Left Ratio:</b> %{y:.3f}<br><b>Budget:</b> %{customdata[0]:.0f}<br><extra></extra>",
         "line": {
          "color": "rgb(131, 185, 216)",
          "width": 1.5
         },
         "mode": "lines",
         "opacity": 0.35,
         "showlegend": false,
         "type": "scatter",
         "x": {
          "bdata": "AAECAwQFBgcICQoLDA0ODxAREhMUFRYXGBkaGxwdHh8gISIjJCUmJygpKissLS4v",
          "dtype": "i1"
         },
         "y": {
          "bdata": "0W5jGlj17z+RvEZwQvPvP/U05YmA6O8/3VjFNEHP7z+ZNtzWz8zvP4mC869lzO8/d5UP9kDL7z+/d8K/w8nvP7niIvHIge8/0bmHC/4p7z8dNbYOc7rtP6270/M1rOs/Lr8iV/sL6T/KrngI5KnnP4UcqZxBhOQ/CHc2FCSn4j8IdzYUJKfiPwh3NhQkp+I/CHc2FCSn4j8IdzYUJKfiPwh3NhQkp+I/XJW00vGm4j/OEKGIxqbiP84QoYjGpuI/2wUXwdoL4j+h06ZsP6bfP5IiOWgkUds/u/UOp0ju2D8IOG14WcTSP8eYTR684ck/8Egc5D+ixD+iBxLQaTy3P6IHEtBpPLc/ogcS0Gk8tz+iBxLQaTy3P6IHEtBpPLc/ogcS0Gk8tz+iBxLQaTy3P6IHEtBpPLc/ogcS0Gk8tz/UaRLUlMeyPzatJZ8jM68/Ssod5a7slj9E1j9Kc5GQPxFIl733eOE+EUiXvfd44T4RSJe993jhPhFIl733eOE+",
          "dtype": "f8"
         }
        },
        {
         "customdata": {
          "bdata": "AAAAAACopkAAAAAAAKimQAAAAAAAqKZAAAAAAACopkAAAAAAAKimQAAAAAAAqKZAAAAAAACopkAAAAAAAKimQAAAAAAAqKZAAAAAAACopkAAAAAAAKimQAAAAAAAqKZAAAAAAACopkAAAAAAAKimQAAAAAAAqKZAAAAAAACopkAAAAAAAKimQAAAAAAAqKZAAAAAAACopkAAAAAAAKimQAAAAAAAqKZAAAAAAACopkAAAAAAAKimQAAAAAAAqKZAAAAAAACopkAAAAAAAKimQAAAAAAAqKZAAAAAAACopkAAAAAAAKimQAAAAAAAqKZAAAAAAACopkAAAAAAAKimQAAAAAAAqKZAAAAAAACopkAAAAAAAKimQAAAAAAAqKZAAAAAAACopkAAAAAAAKimQAAAAAAAqKZAAAAAAACopkAAAAAAAKimQAAAAAAAqKZAAAAAAACopkAAAAAAAKimQAAAAAAAqKZAAAAAAACopkAAAAAAAKimQAAAAAAAqKZA",
          "dtype": "f8",
          "shape": "48, 1"
         },
         "hovertemplate": "<b>Time Step:</b> %{x}<br><b>Budget Left Ratio:</b> %{y:.3f}<br><b>Budget:</b> %{customdata[0]:.0f}<br><extra></extra>",
         "line": {
          "color": "rgb(179, 221, 235)",
          "width": 1.5
         },
         "mode": "lines",
         "opacity": 0.35,
         "showlegend": false,
         "type": "scatter",
         "x": {
          "bdata": "AAECAwQFBgcICQoLDA0ODxAREhMUFRYXGBkaGxwdHh8gISIjJCUmJygpKissLS4v",
          "dtype": "i1"
         },
         "y": {
          "bdata": "AAAAAAAA8D9DE+qMkf/vP0MT6oyR/+8/QxPqjJH/7z9DE+qMkf/vP0MT6oyR/+8/QxPqjJH/7z9DE+qMkf/vP0MT6oyR/+8/QxPqjJH/7z9DE+qMkf/vP0MT6oyR/+8/QxPqjJH/7z9DE+qMkf/vP0MT6oyR/+8/QxPqjJH/7z9DE+qMkf/vP0MT6oyR/+8/QxPqjJH/7z9DE+qMkf/vP2Tkdgfk/u8/avXCPKv+7z/Pi3zhpenvPxTnjjS1Vu8/qOAwqhRZ7j/uWhRDOQPtP55hTzAOyeo/uiWYwl0x6T8V4EPsSkfoP2K+/KL9TOY/dQ1BiAiT5D/1DYkkYEzjPzL71T/VfuE/sosbq+m23j/SGfYcAyHbP4VykLMZMtg/E8Xzfo9L1j/9IByF0Y7VP0xeYF5mptM/eRrGJzsQ0j8oQB7IHOTOPwzJ5dE6Y8c/nIu94f2Hwj8CL5W1rIWxP0I03h+kxJY/GM8/qR2mkT/Wlwo2IXjuPtaXCjYheO4+",
          "dtype": "f8"
         }
        },
        {
         "customdata": {
          "bdata": "AAAAAADAskAAAAAAAMCyQAAAAAAAwLJAAAAAAADAskAAAAAAAMCyQAAAAAAAwLJAAAAAAADAskAAAAAAAMCyQAAAAAAAwLJAAAAAAADAskAAAAAAAMCyQAAAAAAAwLJAAAAAAADAskAAAAAAAMCyQAAAAAAAwLJAAAAAAADAskAAAAAAAMCyQAAAAAAAwLJAAAAAAADAskAAAAAAAMCyQAAAAAAAwLJAAAAAAADAskAAAAAAAMCyQAAAAAAAwLJAAAAAAADAskAAAAAAAMCyQAAAAAAAwLJAAAAAAADAskAAAAAAAMCyQAAAAAAAwLJAAAAAAADAskAAAAAAAMCyQAAAAAAAwLJAAAAAAADAskAAAAAAAMCyQAAAAAAAwLJAAAAAAADAskAAAAAAAMCyQAAAAAAAwLJAAAAAAADAskAAAAAAAMCyQAAAAAAAwLJAAAAAAADAskAAAAAAAMCyQAAAAAAAwLJAAAAAAADAskAAAAAAAMCyQAAAAAAAwLJA",
          "dtype": "f8",
          "shape": "48, 1"
         },
         "hovertemplate": "<b>Time Step:</b> %{x}<br><b>Budget Left Ratio:</b> %{y:.3f}<br><b>Budget:</b> %{customdata[0]:.0f}<br><extra></extra>",
         "line": {
          "color": "rgb(174, 8, 38)",
          "width": 1.5
         },
         "mode": "lines",
         "opacity": 0.35,
         "showlegend": false,
         "type": "scatter",
         "x": {
          "bdata": "AAECAwQFBgcICQoLDA0ODxAREhMUFRYXGBkaGxwdHh8gISIjJCUmJygpKissLS4v",
          "dtype": "i1"
         },
         "y": {
          "bdata": "AAAAAAAA8D8AAAAAAADwPwAAAAAAAPA/AAAAAAAA8D8AAAAAAADwPwAAAAAAAPA/AAAAAAAA8D8AAAAAAADwPy5JJGhu+u8/1XMF5+zq7z+kzaQ/MervP+B5eJK72O8/qZec/S6y7z+wnaIBTpPvP1LrhXXGVe8/Rr0zVhA97z+mlte1+zfvPxE2oiTM/u4/12WFXASy7j95Fuath3buP0ZqMGT05O0/LEue3MA57T+JbFE/J1nsPxsO7V0UVOs/mPg6ushu6j/GtIuimlHpP7gCeOwcgec/Ex75EFVV5j9PYAc0VnHlPx2cySnUH+Q/PfJ5lZkJ4z9r6JynGqHhP71Kq7muWOE/gf2T2b6e4D9jhmjTIV3fP6Bx0QBu194/A7J7I6WU2j/tuYXO6FTWP4dySdbMYNM/roLdn9AU0D9Pyod8KRPQP/Etfb1mB9A/d0SP2DH1zz/eGeEsxZzMP8npvo/Qj8Y/d9uZdOQewD9xrU4l1NOyPzrN0Ib6NIU/",
          "dtype": "f8"
         }
        },
        {
         "customdata": {
          "bdata": "AAAAAAA4qEAAAAAAADioQAAAAAAAOKhAAAAAAAA4qEAAAAAAADioQAAAAAAAOKhAAAAAAAA4qEAAAAAAADioQAAAAAAAOKhAAAAAAAA4qEAAAAAAADioQAAAAAAAOKhAAAAAAAA4qEAAAAAAADioQAAAAAAAOKhAAAAAAAA4qEAAAAAAADioQAAAAAAAOKhAAAAAAAA4qEAAAAAAADioQAAAAAAAOKhAAAAAAAA4qEAAAAAAADioQAAAAAAAOKhAAAAAAAA4qEAAAAAAADioQAAAAAAAOKhAAAAAAAA4qEAAAAAAADioQAAAAAAAOKhAAAAAAAA4qEAAAAAAADioQAAAAAAAOKhAAAAAAAA4qEAAAAAAADioQAAAAAAAOKhAAAAAAAA4qEAAAAAAADioQAAAAAAAOKhAAAAAAAA4qEAAAAAAADioQAAAAAAAOKhAAAAAAAA4qEAAAAAAADioQAAAAAAAOKhAAAAAAAA4qEAAAAAAADioQAAAAAAAOKhA",
          "dtype": "f8",
          "shape": "48, 1"
         },
         "hovertemplate": "<b>Time Step:</b> %{x}<br><b>Budget Left Ratio:</b> %{y:.3f}<br><b>Budget:</b> %{customdata[0]:.0f}<br><extra></extra>",
         "line": {
          "color": "rgb(217, 239, 246)",
          "width": 1.5
         },
         "mode": "lines",
         "opacity": 0.35,
         "showlegend": false,
         "type": "scatter",
         "x": {
          "bdata": "AAECAwQFBgcICQoLDA0ODxAREhMUFRYXGBkaGxwdHh8gISIjJCUmJygpKissLS4v",
          "dtype": "i1"
         },
         "y": {
          "bdata": "AAAAAAAA8D8AAAAAAADwPx66R9PO/+8/HrpH087/7z8eukfTzv/vPx66R9PO/+8/HrpH087/7z8eukfTzv/vP4QU8nSC/+8/hBTydIL/7z/hTGHwLf3vPwVSXQdC++8/ReC6aef37z+9WIwLZenvP10ysgRIte8/S+uYQYYz7z+wvMRLSyzvPzlqJ4OUBu8/ea3IWTO37j9+zO/IyFfuP4lbRXlyJ+0/Tuhf358q6j8EO1r5JEjlP5ghW96PT+E/mCFb3o9P4T+YIVvej0/hP5ghW96PT+E/mCFb3o9P4T+YIVvej0/hP5ghW96PT+E/mCFb3o9P4T+YIVvej0/hP3RHPJ6R098/V3d5AeB12D/CQ6cRLKrMP4xITd8aV7s/uLXHZ5G+sT+1hIvH1WmvP83M3AwUP34/Y0MseFQh9D5jQyx4VCH0PmNDLHhUIfQ+Y0MseFQh9D5jQyx4VCH0PmNDLHhUIfQ+Y0MseFQh9D5jQyx4VCH0PmNDLHhUIfQ+",
          "dtype": "f8"
         }
        },
        {
         "customdata": {
          "bdata": "AAAAAAAEsEAAAAAAAASwQAAAAAAABLBAAAAAAAAEsEAAAAAAAASwQAAAAAAABLBAAAAAAAAEsEAAAAAAAASwQAAAAAAABLBAAAAAAAAEsEAAAAAAAASwQAAAAAAABLBAAAAAAAAEsEAAAAAAAASwQAAAAAAABLBAAAAAAAAEsEAAAAAAAASwQAAAAAAABLBAAAAAAAAEsEAAAAAAAASwQAAAAAAABLBAAAAAAAAEsEAAAAAAAASwQAAAAAAABLBAAAAAAAAEsEAAAAAAAASwQAAAAAAABLBAAAAAAAAEsEAAAAAAAASwQAAAAAAABLBAAAAAAAAEsEAAAAAAAASwQAAAAAAABLBAAAAAAAAEsEAAAAAAAASwQAAAAAAABLBAAAAAAAAEsEAAAAAAAASwQAAAAAAABLBAAAAAAAAEsEAAAAAAAASwQAAAAAAABLBAAAAAAAAEsEAAAAAAAASwQAAAAAAABLBAAAAAAAAEsEAAAAAAAASwQAAAAAAABLBA",
          "dtype": "f8",
          "shape": "48, 1"
         },
         "hovertemplate": "<b>Time Step:</b> %{x}<br><b>Budget Left Ratio:</b> %{y:.3f}<br><b>Budget:</b> %{customdata[0]:.0f}<br><extra></extra>",
         "line": {
          "color": "rgb(250, 150, 86)",
          "width": 1.5
         },
         "mode": "lines",
         "opacity": 0.35,
         "showlegend": false,
         "type": "scatter",
         "x": {
          "bdata": "AAECAwQFBgcICQoLDA0ODxAREhMUFRYXGBkaGxwdHh8gISIjJCUmJygpKissLS4v",
          "dtype": "i1"
         },
         "y": {
          "bdata": "AAAAAAAA8D8AAAAAAADwPwAAAAAAAPA/AAAAAAAA8D9mpu+v0//vP2am76/T/+8/Zqbvr9P/7z9mpu+v0//vP2am76/T/+8/Zqbvr9P/7z9mpu+v0//vP2am76/T/+8/Zqbvr9P/7z9mpu+v0//vP2am76/T/+8/Zqbvr9P/7z/WqSBu/WntP8cFLI0W6uk/Zt3Xxc+x5T/jJo5S1dvhP5iowZmXONw/lRUjltm91T/WB/Wi2HPPP3fTEdWjKsY/d9MR1aMqxj9ID5b2XynGPxn7tPLEKMY/Xkm8XpbTxT/F2toscHzFP0WqBBH4RsU/pzRmfQG2xD+uiXubcGrDP58CODfRFsM/ZokTHaM3wj+bwhUFfoHBP2Ax1nT1D8A/C9K/fwqbvj+PYsMh6JS7P5xuCiVZOLg/U9PzoRTQtj9di9vwOWO2P19CBYzBA6k/A/SeFnCInT+uyd5eMDuUP0vTjBpz5Xo/UbwOXedc5D5RvA5d51zkPlG8Dl3nXOQ+",
          "dtype": "f8"
         }
        },
        {
         "customdata": {
          "bdata": "AAAAAAAEsEAAAAAAAASwQAAAAAAABLBAAAAAAAAEsEAAAAAAAASwQAAAAAAABLBAAAAAAAAEsEAAAAAAAASwQAAAAAAABLBAAAAAAAAEsEAAAAAAAASwQAAAAAAABLBAAAAAAAAEsEAAAAAAAASwQAAAAAAABLBAAAAAAAAEsEAAAAAAAASwQAAAAAAABLBAAAAAAAAEsEAAAAAAAASwQAAAAAAABLBAAAAAAAAEsEAAAAAAAASwQAAAAAAABLBAAAAAAAAEsEAAAAAAAASwQAAAAAAABLBAAAAAAAAEsEAAAAAAAASwQAAAAAAABLBAAAAAAAAEsEAAAAAAAASwQAAAAAAABLBAAAAAAAAEsEAAAAAAAASwQAAAAAAABLBAAAAAAAAEsEAAAAAAAASwQAAAAAAABLBAAAAAAAAEsEAAAAAAAASwQAAAAAAABLBAAAAAAAAEsEAAAAAAAASwQAAAAAAABLBAAAAAAAAEsEAAAAAAAASwQAAAAAAABLBA",
          "dtype": "f8",
          "shape": "48, 1"
         },
         "hovertemplate": "<b>Time Step:</b> %{x}<br><b>Budget Left Ratio:</b> %{y:.3f}<br><b>Budget:</b> %{customdata[0]:.0f}<br><extra></extra>",
         "line": {
          "color": "rgb(250, 150, 86)",
          "width": 1.5
         },
         "mode": "lines",
         "opacity": 0.35,
         "showlegend": false,
         "type": "scatter",
         "x": {
          "bdata": "AAECAwQFBgcICQoLDA0ODxAREhMUFRYXGBkaGxwdHh8gISIjJCUmJygpKissLS4v",
          "dtype": "i1"
         },
         "y": {
          "bdata": "AAAAAAAA8D8AAAAAAADwPwAAAAAAAPA/AAAAAAAA8D8AAAAAAADwPwAAAAAAAPA/AAAAAAAA8D8AAAAAAADwP1SOqkfM/+8/VI6qR8z/7z9XA5w+pPvvP43KOqog+e8/Wxm/GFPy7z9bGb8YU/LvP718+hIv6e8/t44+Mujm7z+3jj4y6ObvP7eOPjLo5u8/t44+Mujm7z+3jj4y6ObvP7eOPjLo5u8/t44+Mujm7z+3jj4y6ObvP7eOPjLo5u8/t44+Mujm7z+3jj4y6ObvP7eOPjLo5u8/t44+Mujm7z+3jj4y6ObvP7eOPjLo5u8/t44+Mujm7z+3jj4y6ObvP8cn+2PWR+8/iH2/XBEZ7z+t/BsBVF/uP1RyO78GfO0/SxiG7fu37D9g7YZZPYnrP4pO3TEHWuo/OzS57/Bf6T9MFFdYujPpP3xshn8b7uc/JjsBHQtJ5T+L7ecL1Y3hP6Han4GhUNg/Rocn1GaWzj/+Sc3CEnzAPw5ICBjXU5I/",
          "dtype": "f8"
         }
        },
        {
         "customdata": {
          "bdata": "AAAAAACasEAAAAAAAJqwQAAAAAAAmrBAAAAAAACasEAAAAAAAJqwQAAAAAAAmrBAAAAAAACasEAAAAAAAJqwQAAAAAAAmrBAAAAAAACasEAAAAAAAJqwQAAAAAAAmrBAAAAAAACasEAAAAAAAJqwQAAAAAAAmrBAAAAAAACasEAAAAAAAJqwQAAAAAAAmrBAAAAAAACasEAAAAAAAJqwQAAAAAAAmrBAAAAAAACasEAAAAAAAJqwQAAAAAAAmrBAAAAAAACasEAAAAAAAJqwQAAAAAAAmrBAAAAAAACasEAAAAAAAJqwQAAAAAAAmrBAAAAAAACasEAAAAAAAJqwQAAAAAAAmrBAAAAAAACasEAAAAAAAJqwQAAAAAAAmrBAAAAAAACasEAAAAAAAJqwQAAAAAAAmrBAAAAAAACasEAAAAAAAJqwQAAAAAAAmrBAAAAAAACasEAAAAAAAJqwQAAAAAAAmrBAAAAAAACasEAAAAAAAJqwQAAAAAAAmrBA",
          "dtype": "f8",
          "shape": "48, 1"
         },
         "hovertemplate": "<b>Time Step:</b> %{x}<br><b>Budget Left Ratio:</b> %{y:.3f}<br><b>Budget:</b> %{customdata[0]:.0f}<br><extra></extra>",
         "line": {
          "color": "rgb(245, 116, 70)",
          "width": 1.5
         },
         "mode": "lines",
         "opacity": 0.35,
         "showlegend": false,
         "type": "scatter",
         "x": {
          "bdata": "AAECAwQFBgcICQoLDA0ODxAREhMUFRYXGBkaGxwdHh8gISIjJCUmJygpKissLS4v",
          "dtype": "i1"
         },
         "y": {
          "bdata": "AAAAAAAA8D8AAAAAAADwPwAAAAAAAPA/AAAAAAAA8D8AAAAAAADwPwAAAAAAAPA/AAAAAAAA8D8AAAAAAADwPwAAAAAAAPA/AAAAAAAA8D8AAAAAAADwPwAAAAAAAPA/AAAAAAAA8D8AAAAAAADwPwAAAAAAAPA/AAAAAAAA8D8AAAAAAADwPz5hBQm0/+8/PmEFCbT/7z8+YQUJtP/vP50u0nQk/+8/5rNp1R397z/tZQXg1vDvP5uM4lAAze8/CWM5gReq7z8MHTDsLCvvP4idRu6hae4/v7nvgnNP7T8/MP5WG5zqP+BVH/Idfug/iLMK6qHo5T9qpfDzFqHjP3YMDosroOM/IkR7/HmS4z+0EIYVTFDjP+zYDSBno+I//jJFuyGH4T+V17McS7vgP4dm8Im4Lt4/l414n9z+2T+V6Iq4OBrRPyKvfGd6tsc/B22wjWuQvD8UuEARqvKhP0AhcMaNNJQ/DV8X9oB74j4NXxf2gHviPg1fF/aAe+I+",
          "dtype": "f8"
         }
        },
        {
         "customdata": {
          "bdata": "AAAAAADAskAAAAAAAMCyQAAAAAAAwLJAAAAAAADAskAAAAAAAMCyQAAAAAAAwLJAAAAAAADAskAAAAAAAMCyQAAAAAAAwLJAAAAAAADAskAAAAAAAMCyQAAAAAAAwLJAAAAAAADAskAAAAAAAMCyQAAAAAAAwLJAAAAAAADAskAAAAAAAMCyQAAAAAAAwLJAAAAAAADAskAAAAAAAMCyQAAAAAAAwLJAAAAAAADAskAAAAAAAMCyQAAAAAAAwLJAAAAAAADAskAAAAAAAMCyQAAAAAAAwLJAAAAAAADAskAAAAAAAMCyQAAAAAAAwLJAAAAAAADAskAAAAAAAMCyQAAAAAAAwLJAAAAAAADAskAAAAAAAMCyQAAAAAAAwLJAAAAAAADAskAAAAAAAMCyQAAAAAAAwLJAAAAAAADAskAAAAAAAMCyQAAAAAAAwLJAAAAAAADAskAAAAAAAMCyQAAAAAAAwLJAAAAAAADAskAAAAAAAMCyQAAAAAAAwLJA",
          "dtype": "f8",
          "shape": "48, 1"
         },
         "hovertemplate": "<b>Time Step:</b> %{x}<br><b>Budget Left Ratio:</b> %{y:.3f}<br><b>Budget:</b> %{customdata[0]:.0f}<br><extra></extra>",
         "line": {
          "color": "rgb(174, 8, 38)",
          "width": 1.5
         },
         "mode": "lines",
         "opacity": 0.35,
         "showlegend": false,
         "type": "scatter",
         "x": {
          "bdata": "AAECAwQFBgcICQoLDA0ODxAREhMUFRYXGBkaGxwdHh8gISIjJCUmJygpKissLS4v",
          "dtype": "i1"
         },
         "y": {
          "bdata": "AAAAAAAA8D8AAAAAAADwPwAAAAAAAPA/AAAAAAAA8D8AAAAAAADwPwAAAAAAAPA/AAAAAAAA8D8AAAAAAADwP4M4iSWN1O8/16AbQWpo7z9mrXg/ZD/uP5/vYX/VwOw/J+fWN1x86z9e+ukdZabpP0RP2ZERSec/HQ65NE1I5T/+4ulODCzlP91Y/NXz0OI/idRo4nUw4j9ZS2TWKqHeP3fwXsSledk/cSGPxqAh1z+17ngFcxvUP7G6veS4a9E/1MyLTKH9zD+WNW5afq3GPyzl5lgIv8A/7EVlK4Qquz8pvG6wrCK2P7HU+qG3K68/T8vxGTi6pz9+0Xwy39yjP5rxDtmzy6M/EZGfOHjCoz8wblNXzqyjP++eKwwVYqM/Crf00KKtoj/D/R+Iu2uhP/K7aSlYU6E/4Qq5A0YanD/hCrkDRhqcP+EKuQNGGpw/4Qq5A0YanD/hCrkDRhqcP+EKuQNGGpw/4Qq5A0YanD/hCrkDRhqcP+EKuQNGGpw/",
          "dtype": "f8"
         }
        },
        {
         "customdata": {
          "bdata": "AAAAAABAn0AAAAAAAECfQAAAAAAAQJ9AAAAAAABAn0AAAAAAAECfQAAAAAAAQJ9AAAAAAABAn0AAAAAAAECfQAAAAAAAQJ9AAAAAAABAn0AAAAAAAECfQAAAAAAAQJ9AAAAAAABAn0AAAAAAAECfQAAAAAAAQJ9AAAAAAABAn0AAAAAAAECfQAAAAAAAQJ9AAAAAAABAn0AAAAAAAECfQAAAAAAAQJ9AAAAAAABAn0AAAAAAAECfQAAAAAAAQJ9AAAAAAABAn0AAAAAAAECfQAAAAAAAQJ9AAAAAAABAn0AAAAAAAECfQAAAAAAAQJ9AAAAAAABAn0AAAAAAAECfQAAAAAAAQJ9AAAAAAABAn0AAAAAAAECfQAAAAAAAQJ9AAAAAAABAn0AAAAAAAECfQAAAAAAAQJ9AAAAAAABAn0AAAAAAAECfQAAAAAAAQJ9AAAAAAABAn0AAAAAAAECfQAAAAAAAQJ9AAAAAAABAn0AAAAAAAECfQAAAAAAAQJ9A",
          "dtype": "f8",
          "shape": "48, 1"
         },
         "hovertemplate": "<b>Time Step:</b> %{x}<br><b>Budget Left Ratio:</b> %{y:.3f}<br><b>Budget:</b> %{customdata[0]:.0f}<br><extra></extra>",
         "line": {
          "color": "rgb(49, 54, 149)",
          "width": 1.5
         },
         "mode": "lines",
         "opacity": 0.35,
         "showlegend": false,
         "type": "scatter",
         "x": {
          "bdata": "AAECAwQFBgcICQoLDA0ODxAREhMUFRYXGBkaGxwdHh8gISIjJCUmJygpKissLS4v",
          "dtype": "i1"
         },
         "y": {
          "bdata": "AAAAAAAA8D8AAAAAAADwPwAAAAAAAPA/AAAAAAAA8D8AAAAAAADwPwAAAAAAAPA/AAAAAAAA8D8AAAAAAADwPwAAAAAAAPA/AAAAAAAA8D8AAAAAAADwP0bXEOl+/+8/3LcWeh7/7z/Ebj12wv7vP8RuPXbC/u8/WzCtSy/+7z9bMK1LL/7vP1swrUsv/u8/WzCtSy/+7z9bMK1LL/7vP1swrUsv/u8/WzCtSy/+7z9bMK1LL/7vP1swrUsv/u8/TnpPulDY7z+2PlS1mmjvP5zNs8r+GO4/gn32Brjs7D+LarzyxqrrP2QoK5dSgOk/7fsciX9N5z8X2viPBnvlP1jDcwqpd+Q/UIYe7LQf4j+xtUQSR0PgP+yHV/GTxdw/vFCpHnxl2T+uschD6v3WP9krGH9JhtU/wU+ptL710j9aEGA9FrvSP75DBaSUvco/GZCxfa5NyT/+NHnk362lP+XQQkBlVgM/5dBCQGVWAz/l0EJAZVYDP+XQQkBlVgM/",
          "dtype": "f8"
         }
        },
        {
         "customdata": {
          "bdata": "AAAAAADUp0AAAAAAANSnQAAAAAAA1KdAAAAAAADUp0AAAAAAANSnQAAAAAAA1KdAAAAAAADUp0AAAAAAANSnQAAAAAAA1KdAAAAAAADUp0AAAAAAANSnQAAAAAAA1KdAAAAAAADUp0AAAAAAANSnQAAAAAAA1KdAAAAAAADUp0AAAAAAANSnQAAAAAAA1KdAAAAAAADUp0AAAAAAANSnQAAAAAAA1KdAAAAAAADUp0AAAAAAANSnQAAAAAAA1KdAAAAAAADUp0AAAAAAANSnQAAAAAAA1KdAAAAAAADUp0AAAAAAANSnQAAAAAAA1KdAAAAAAADUp0AAAAAAANSnQAAAAAAA1KdAAAAAAADUp0AAAAAAANSnQAAAAAAA1KdAAAAAAADUp0AAAAAAANSnQAAAAAAA1KdAAAAAAADUp0AAAAAAANSnQAAAAAAA1KdAAAAAAADUp0AAAAAAANSnQAAAAAAA1KdAAAAAAADUp0AAAAAAANSnQAAAAAAA1KdA",
          "dtype": "f8",
          "shape": "48, 1"
         },
         "hovertemplate": "<b>Time Step:</b> %{x}<br><b>Budget Left Ratio:</b> %{y:.3f}<br><b>Budget:</b> %{customdata[0]:.0f}<br><extra></extra>",
         "line": {
          "color": "rgb(207, 235, 243)",
          "width": 1.5
         },
         "mode": "lines",
         "opacity": 0.35,
         "showlegend": false,
         "type": "scatter",
         "x": {
          "bdata": "AAECAwQFBgcICQoLDA0ODxAREhMUFRYXGBkaGxwdHh8gISIjJCUmJygpKissLS4v",
          "dtype": "i1"
         },
         "y": {
          "bdata": "AAAAAAAA8D8AAAAAAADwPwAAAAAAAPA/AAAAAAAA8D8AAAAAAADwPwAAAAAAAPA/AAAAAAAA8D8AAAAAAADwP+8w//LC/+8/TxXVmYT/7z+zRo0+CP/vP9KWBtbS/u8/0VUb1JH+7z/M+0falf3vP5sLP9Lk+e8/7ZqslFX57z9SsKZnfuzvP5kA3NHDw+8/Z8FkUBJC7z+gJs84jUXtP1ZLCo0sR+k/o4t8UGR65j/3jWzfHyDlP8tugiy6RuI/y26CLLpG4j/LboIsukbiP8tugiy6RuI/y26CLLpG4j/LboIsukbiP8tugiy6RuI/y26CLLpG4j/LboIsukbiP3/fkQOVaOE/nlqhJgqc4D9J4A0WPnLfP2W18uqulNs/w0wE82wE2D98z/8x5+bTP8/jtIc09dA/wu9DWY9Byj/SQ1PPVL2+PyYsHJOJ9Kk/bvbUc5HSZz+7ZdrfDXvxPrtl2t8Ne/E+u2Xa3w178T67ZdrfDXvxPrtl2t8Ne/E+",
          "dtype": "f8"
         }
        },
        {
         "customdata": {
          "bdata": "AAAAAAAYpUAAAAAAABilQAAAAAAAGKVAAAAAAAAYpUAAAAAAABilQAAAAAAAGKVAAAAAAAAYpUAAAAAAABilQAAAAAAAGKVAAAAAAAAYpUAAAAAAABilQAAAAAAAGKVAAAAAAAAYpUAAAAAAABilQAAAAAAAGKVAAAAAAAAYpUAAAAAAABilQAAAAAAAGKVAAAAAAAAYpUAAAAAAABilQAAAAAAAGKVAAAAAAAAYpUAAAAAAABilQAAAAAAAGKVAAAAAAAAYpUAAAAAAABilQAAAAAAAGKVAAAAAAAAYpUAAAAAAABilQAAAAAAAGKVAAAAAAAAYpUAAAAAAABilQAAAAAAAGKVAAAAAAAAYpUAAAAAAABilQAAAAAAAGKVAAAAAAAAYpUAAAAAAABilQAAAAAAAGKVAAAAAAAAYpUAAAAAAABilQAAAAAAAGKVAAAAAAAAYpUAAAAAAABilQAAAAAAAGKVAAAAAAAAYpUAAAAAAABilQAAAAAAAGKVA",
          "dtype": "f8",
          "shape": "48, 1"
         },
         "hovertemplate": "<b>Time Step:</b> %{x}<br><b>Budget Left Ratio:</b> %{y:.3f}<br><b>Budget:</b> %{customdata[0]:.0f}<br><extra></extra>",
         "line": {
          "color": "rgb(141, 193, 220)",
          "width": 1.5
         },
         "mode": "lines",
         "opacity": 0.35,
         "showlegend": false,
         "type": "scatter",
         "x": {
          "bdata": "AAECAwQFBgcICQoLDA0ODxAREhMUFRYXGBkaGxwdHh8gISIjJCUmJygpKissLS4v",
          "dtype": "i1"
         },
         "y": {
          "bdata": "8ECZMjfg7z+3j8N3W6fvPzb7CI8wiO8/o/sIIvF97z9PpQnfm03vP0XPZMD7C+8/HF1B4BD67j+w6I53RNzuP3sxM4fb2+4/u64r6AHa7j8bIp/EftjuPz3xgWHYwe4/rKnmbl6b7j+rk2fXC4vuPxQw64N9SO4/TWTajcX87T8Uja2RDuXtP77I3tEp1+w/WEj2UKDp6D9YC0BqZT3mPwAPX9q+tOI/vPx7A2vb3z/tyRdkNo7aP+XbTZWjqtY/mzq31HCT1j+ntTD84jvWP9eea0RDoNQ/9xtD2k/R0z8f/n+S/ebSP862YxOPCdI/idX5gBS+0D+YeKVRwt3PP8ZiZMb13M8/mktaXSrRzz+aS1pdKtHPP/zIFCKvyc8/C7SOlbOYzz9StV7wm2jPP6V6ZXZiZs8/6UbKgQPvzj9Bd+rVPU/FPyulT9evfrs/H5q4dDJPuT8zMzqs55mlP/Rf3mk/QZk/MIs7DR0I8j4wizsNHQjyPjCLOw0dCPI+",
          "dtype": "f8"
         }
        },
        {
         "customdata": {
          "bdata": "AAAAAABcokAAAAAAAFyiQAAAAAAAXKJAAAAAAABcokAAAAAAAFyiQAAAAAAAXKJAAAAAAABcokAAAAAAAFyiQAAAAAAAXKJAAAAAAABcokAAAAAAAFyiQAAAAAAAXKJAAAAAAABcokAAAAAAAFyiQAAAAAAAXKJAAAAAAABcokAAAAAAAFyiQAAAAAAAXKJAAAAAAABcokAAAAAAAFyiQAAAAAAAXKJAAAAAAABcokAAAAAAAFyiQAAAAAAAXKJAAAAAAABcokAAAAAAAFyiQAAAAAAAXKJAAAAAAABcokAAAAAAAFyiQAAAAAAAXKJAAAAAAABcokAAAAAAAFyiQAAAAAAAXKJAAAAAAABcokAAAAAAAFyiQAAAAAAAXKJAAAAAAABcokAAAAAAAFyiQAAAAAAAXKJAAAAAAABcokAAAAAAAFyiQAAAAAAAXKJAAAAAAABcokAAAAAAAFyiQAAAAAAAXKJAAAAAAABcokAAAAAAAFyiQAAAAAAAXKJA",
          "dtype": "f8",
          "shape": "48, 1"
         },
         "hovertemplate": "<b>Time Step:</b> %{x}<br><b>Budget Left Ratio:</b> %{y:.3f}<br><b>Budget:</b> %{customdata[0]:.0f}<br><extra></extra>",
         "line": {
          "color": "rgb(80, 130, 187)",
          "width": 1.5
         },
         "mode": "lines",
         "opacity": 0.35,
         "showlegend": false,
         "type": "scatter",
         "x": {
          "bdata": "AAECAwQFBgcICQoLDA0ODxAREhMUFRYXGBkaGxwdHh8gISIjJCUmJygpKissLS4v",
          "dtype": "i1"
         },
         "y": {
          "bdata": "BZ30IJ//7z/YBgs27v3vPyDqWbzW/O8/FVKnR+j77z8VUqdH6PvvPxVSp0fo++8/FVKnR+j77z8VUqdH6PvvP07v3a7B6O8/gn4sRLS27z/FYhug9nzvP/ZqqTQ7wu4/WnzhRa9i7j+rQl9Z0PjtP/ND5NAL9e0/RombBi7N7D/7uZcCnMPsP+Ak2D8Swew/pnx974T56z9HvExjN43rP9pKeMlNOes/eP3TWazY6j9/40ZZ5sHqP4QNK3g1tuo/hA0reDW26j+EDSt4NbbqP4QNK3g1tuo/hA0reDW26j+EDSt4NbbqP4QNK3g1tuo/hA0reDW26j+EDSt4NbbqP4QNK3g1tuo/hA0reDW26j+EDSt4NbbqP4QNK3g1tuo/hA0reDW26j+EDSt4NbbqP3Wg5dz6teo/gjkU2L606j/1GPjKjp7mP8nZdCktL+E/1sbrDbi71z8ZYsvN8bvRPwyxSc/90sM/L2ZE3+ZQrj9TQ+2FZWj/PlND7YVlaP8+",
          "dtype": "f8"
         }
        },
        {
         "customdata": {
          "bdata": "AAAAAABAn0AAAAAAAECfQAAAAAAAQJ9AAAAAAABAn0AAAAAAAECfQAAAAAAAQJ9AAAAAAABAn0AAAAAAAECfQAAAAAAAQJ9AAAAAAABAn0AAAAAAAECfQAAAAAAAQJ9AAAAAAABAn0AAAAAAAECfQAAAAAAAQJ9AAAAAAABAn0AAAAAAAECfQAAAAAAAQJ9AAAAAAABAn0AAAAAAAECfQAAAAAAAQJ9AAAAAAABAn0AAAAAAAECfQAAAAAAAQJ9AAAAAAABAn0AAAAAAAECfQAAAAAAAQJ9AAAAAAABAn0AAAAAAAECfQAAAAAAAQJ9AAAAAAABAn0AAAAAAAECfQAAAAAAAQJ9AAAAAAABAn0AAAAAAAECfQAAAAAAAQJ9AAAAAAABAn0AAAAAAAECfQAAAAAAAQJ9AAAAAAABAn0AAAAAAAECfQAAAAAAAQJ9AAAAAAABAn0AAAAAAAECfQAAAAAAAQJ9AAAAAAABAn0AAAAAAAECfQAAAAAAAQJ9A",
          "dtype": "f8",
          "shape": "48, 1"
         },
         "hovertemplate": "<b>Time Step:</b> %{x}<br><b>Budget Left Ratio:</b> %{y:.3f}<br><b>Budget:</b> %{customdata[0]:.0f}<br><extra></extra>",
         "line": {
          "color": "rgb(49, 54, 149)",
          "width": 1.5
         },
         "mode": "lines",
         "opacity": 0.35,
         "showlegend": false,
         "type": "scatter",
         "x": {
          "bdata": "AAECAwQFBgcICQoLDA0ODxAREhMUFRYXGBkaGxwdHh8gISIjJCUmJygpKissLS4v",
          "dtype": "i1"
         },
         "y": {
          "bdata": "AAAAAAAA8D/L6+8oQsLvP0nmbPLkv+8/gibOlmGs7z/8t71zCarvP0KH60YPpu8/QofrRg+m7z82u1/9OqXvPza7X/06pe8/Nrtf/Tql7z82u1/9OqXvPza7X/06pe8/Nrtf/Tql7z82u1/9OqXvPza7X/06pe8/Nrtf/Tql7z/DTstO5qLvP3//hbEvX+8/uIbq6O0k7j9X27s5HbDsP2VSD+x5DeU/4zPB2X163T8/shyT1ZHSP04wzOauNcM/lk/r8/sDwz/+GNKWSc3CP3mxu1knwsI/RiICVO17wj+sXFwVQvzBP57x41bt5ME/3wnr7qs3wT+H7qFT7wrBPzFwN+nmGrg/hStrQlxSoT8fZS/cZD+YP9NNAiyZ4gc/000CLJniBz/TTQIsmeIHP9NNAiyZ4gc/000CLJniBz/TTQIsmeIHP9NNAiyZ4gc/000CLJniBz/TTQIsmeIHP9NNAiyZ4gc/000CLJniBz/TTQIsmeIHP9NNAiyZ4gc/",
          "dtype": "f8"
         }
        },
        {
         "customdata": {
          "bdata": "AAAAAAAYpUAAAAAAABilQAAAAAAAGKVAAAAAAAAYpUAAAAAAABilQAAAAAAAGKVAAAAAAAAYpUAAAAAAABilQAAAAAAAGKVAAAAAAAAYpUAAAAAAABilQAAAAAAAGKVAAAAAAAAYpUAAAAAAABilQAAAAAAAGKVAAAAAAAAYpUAAAAAAABilQAAAAAAAGKVAAAAAAAAYpUAAAAAAABilQAAAAAAAGKVAAAAAAAAYpUAAAAAAABilQAAAAAAAGKVAAAAAAAAYpUAAAAAAABilQAAAAAAAGKVAAAAAAAAYpUAAAAAAABilQAAAAAAAGKVAAAAAAAAYpUAAAAAAABilQAAAAAAAGKVAAAAAAAAYpUAAAAAAABilQAAAAAAAGKVAAAAAAAAYpUAAAAAAABilQAAAAAAAGKVAAAAAAAAYpUAAAAAAABilQAAAAAAAGKVAAAAAAAAYpUAAAAAAABilQAAAAAAAGKVAAAAAAAAYpUAAAAAAABilQAAAAAAAGKVA",
          "dtype": "f8",
          "shape": "48, 1"
         },
         "hovertemplate": "<b>Time Step:</b> %{x}<br><b>Budget Left Ratio:</b> %{y:.3f}<br><b>Budget:</b> %{customdata[0]:.0f}<br><extra></extra>",
         "line": {
          "color": "rgb(141, 193, 220)",
          "width": 1.5
         },
         "mode": "lines",
         "opacity": 0.35,
         "showlegend": false,
         "type": "scatter",
         "x": {
          "bdata": "AAECAwQFBgcICQoLDA0ODxAREhMUFRYXGBkaGxwdHh8gISIjJCUmJygpKissLS4v",
          "dtype": "i1"
         },
         "y": {
          "bdata": "AAAAAAAA8D8AAAAAAADwPwAAAAAAAPA/AAAAAAAA8D8AAAAAAADwPwAAAAAAAPA/AAAAAAAA8D8AAAAAAADwPwAAAAAAAPA/AAAAAAAA8D8AAAAAAADwPwAAAAAAAPA/AAAAAAAA8D8AAAAAAADwPwAAAAAAAPA/AAAAAAAA8D8AAAAAAADwPwAAAAAAAPA/V41Nhn7/7z9XjU2Gfv/vP7t834kn+e8/Bvm9nX3q7z+xjrpaVLXvPzyvGPfKge8/wEHXDTM47D9hm1vTb4jmP+QBkeetIOA/MrOIlB5U2D9NfDptZOHOP/dnC0c6NsM/1Ibcp4wuqj8B3worv4FwPwHfCiu/gXA/Ad8KK7+BcD9Chq63mGtwP0KGrreYa3A/Q3D6yj4kcD/45t34zhVvP+fKD8GN6W4/58oPwY3pbj8+/+kSnyhuP9/HS9bw9m0//isEM2Z54D7+KwQzZnngPv4rBDNmeeA+/isEM2Z54D7+KwQzZnngPv4rBDNmeeA+",
          "dtype": "f8"
         }
        },
        {
         "customdata": {
          "bdata": "AAAAAADyskAAAAAAAPKyQAAAAAAA8rJAAAAAAADyskAAAAAAAPKyQAAAAAAA8rJAAAAAAADyskAAAAAAAPKyQAAAAAAA8rJAAAAAAADyskAAAAAAAPKyQAAAAAAA8rJAAAAAAADyskAAAAAAAPKyQAAAAAAA8rJAAAAAAADyskAAAAAAAPKyQAAAAAAA8rJAAAAAAADyskAAAAAAAPKyQAAAAAAA8rJAAAAAAADyskAAAAAAAPKyQAAAAAAA8rJAAAAAAADyskAAAAAAAPKyQAAAAAAA8rJAAAAAAADyskAAAAAAAPKyQAAAAAAA8rJAAAAAAADyskAAAAAAAPKyQAAAAAAA8rJAAAAAAADyskAAAAAAAPKyQAAAAAAA8rJAAAAAAADyskAAAAAAAPKyQAAAAAAA8rJAAAAAAADyskAAAAAAAPKyQAAAAAAA8rJAAAAAAADyskAAAAAAAPKyQAAAAAAA8rJAAAAAAADyskAAAAAAAPKyQAAAAAAA8rJA",
          "dtype": "f8",
          "shape": "48, 1"
         },
         "hovertemplate": "<b>Time Step:</b> %{x}<br><b>Budget Left Ratio:</b> %{y:.3f}<br><b>Budget:</b> %{customdata[0]:.0f}<br><extra></extra>",
         "line": {
          "color": "rgb(165, 0, 38)",
          "width": 1.5
         },
         "mode": "lines",
         "opacity": 0.35,
         "showlegend": false,
         "type": "scatter",
         "x": {
          "bdata": "AAECAwQFBgcICQoLDA0ODxAREhMUFRYXGBkaGxwdHh8gISIjJCUmJygpKissLS4v",
          "dtype": "i1"
         },
         "y": {
          "bdata": "sraauSz/7z+ytpq5LP/vP/423W7q/u8//jbdbur+7z/+Nt1u6v7vP/423W7q/u8/8je/Fpr+7z/yN78Wmv7vP/I3vxaa/u8//GWrP2T+7z9uw6TyN/7vP2IzZJEh/e8/8cmmnQn17z8gwpTCaejvP6DbUw2zw+8/zQa4Lwa87z/NBrgvBrzvP80GuC8GvO8/zQa4Lwa87z/NBrgvBrzvP80GuC8GvO8/zQa4Lwa87z/NBrgvBrzvP80GuC8GvO8/zQa4Lwa87z/lytCsx7vvPwZmm+w0u+8/Xyqj0IOq7z/eSDMYZX3vP01/RQIDZu8/nX5J0aoB7z9vwO/JsWHuP3gH5b2BQew/ha+i7fKh6j882EMg2J3pP4FBGHo/MOg/FtK8Atnw5j/pbsWESsDlP23UlWF4IuQ/sMC0uBVY4j9LXnLkKd3gP3btoR97qd0/xJW2G/ET1j+VZZG4WynQP0E8+3I/ZsM/92DDNZdvvD8wZpHfremqP0q/TGEMXu8+",
          "dtype": "f8"
         }
        },
        {
         "customdata": {
          "bdata": "AAAAAACopkAAAAAAAKimQAAAAAAAqKZAAAAAAACopkAAAAAAAKimQAAAAAAAqKZAAAAAAACopkAAAAAAAKimQAAAAAAAqKZAAAAAAACopkAAAAAAAKimQAAAAAAAqKZAAAAAAACopkAAAAAAAKimQAAAAAAAqKZAAAAAAACopkAAAAAAAKimQAAAAAAAqKZAAAAAAACopkAAAAAAAKimQAAAAAAAqKZAAAAAAACopkAAAAAAAKimQAAAAAAAqKZAAAAAAACopkAAAAAAAKimQAAAAAAAqKZAAAAAAACopkAAAAAAAKimQAAAAAAAqKZAAAAAAACopkAAAAAAAKimQAAAAAAAqKZAAAAAAACopkAAAAAAAKimQAAAAAAAqKZAAAAAAACopkAAAAAAAKimQAAAAAAAqKZAAAAAAACopkAAAAAAAKimQAAAAAAAqKZAAAAAAACopkAAAAAAAKimQAAAAAAAqKZAAAAAAACopkAAAAAAAKimQAAAAAAAqKZA",
          "dtype": "f8",
          "shape": "48, 1"
         },
         "hovertemplate": "<b>Time Step:</b> %{x}<br><b>Budget Left Ratio:</b> %{y:.3f}<br><b>Budget:</b> %{customdata[0]:.0f}<br><extra></extra>",
         "line": {
          "color": "rgb(179, 221, 235)",
          "width": 1.5
         },
         "mode": "lines",
         "opacity": 0.35,
         "showlegend": false,
         "type": "scatter",
         "x": {
          "bdata": "AAECAwQFBgcICQoLDA0ODxAREhMUFRYXGBkaGxwdHh8gISIjJCUmJygpKissLS4v",
          "dtype": "i1"
         },
         "y": {
          "bdata": "AAAAAAAA8D8AAAAAAADwP4cF0FnF/+8/hwXQWcX/7z+HBdBZxf/vP4cF0FnF/+8/hwXQWcX/7z+HBdBZxf/vP5vOPH0w/+8/m848fTD/7z8cBiMtNtnvP5xxqL1tpe8/gJb8Ee6c7z9CLSzEm3LvP37UnsidYO8/xVkOD16k7j/FWQ4PXqTuP8VZDg9epO4/xVkOD16k7j/FWQ4PXqTuP8VZDg9epO4/xVkOD16k7j9PfWo9eaHuP2lAzBSkoO4/Ifp81OUi6T9TerhgfWjlP30LnrrJKN8/geKSEHuX1j9CPn3PejHOP4UozhnpgsI/cJp6NmAzsT/z00mhOm2jP3c2ZzE7U6M/uSeLQUUtoz82y7rHnPShP34sDu4HTp8/m6I1jaZfnT/g698tNTCcP7w/RuRz3Jo/SvPVICx6mD/ZMuh2rzZ4PxlVt2vrwW4/bzGkA4N/5z5vMaQDg3/nPm8xpAODf+c+bzGkA4N/5z5vMaQDg3/nPm8xpAODf+c+",
          "dtype": "f8"
         }
        },
        {
         "customdata": {
          "bdata": "AAAAAACasEAAAAAAAJqwQAAAAAAAmrBAAAAAAACasEAAAAAAAJqwQAAAAAAAmrBAAAAAAACasEAAAAAAAJqwQAAAAAAAmrBAAAAAAACasEAAAAAAAJqwQAAAAAAAmrBAAAAAAACasEAAAAAAAJqwQAAAAAAAmrBAAAAAAACasEAAAAAAAJqwQAAAAAAAmrBAAAAAAACasEAAAAAAAJqwQAAAAAAAmrBAAAAAAACasEAAAAAAAJqwQAAAAAAAmrBAAAAAAACasEAAAAAAAJqwQAAAAAAAmrBAAAAAAACasEAAAAAAAJqwQAAAAAAAmrBAAAAAAACasEAAAAAAAJqwQAAAAAAAmrBAAAAAAACasEAAAAAAAJqwQAAAAAAAmrBAAAAAAACasEAAAAAAAJqwQAAAAAAAmrBAAAAAAACasEAAAAAAAJqwQAAAAAAAmrBAAAAAAACasEAAAAAAAJqwQAAAAAAAmrBAAAAAAACasEAAAAAAAJqwQAAAAAAAmrBA",
          "dtype": "f8",
          "shape": "48, 1"
         },
         "hovertemplate": "<b>Time Step:</b> %{x}<br><b>Budget Left Ratio:</b> %{y:.3f}<br><b>Budget:</b> %{customdata[0]:.0f}<br><extra></extra>",
         "line": {
          "color": "rgb(245, 116, 70)",
          "width": 1.5
         },
         "mode": "lines",
         "opacity": 0.35,
         "showlegend": false,
         "type": "scatter",
         "x": {
          "bdata": "AAECAwQFBgcICQoLDA0ODxAREhMUFRYXGBkaGxwdHh8gISIjJCUmJygpKissLS4v",
          "dtype": "i1"
         },
         "y": {
          "bdata": "AAAAAAAA8D8AAAAAAADwPwAAAAAAAPA/AAAAAAAA8D8AAAAAAADwPwAAAAAAAPA/AAAAAAAA8D8AAAAAAADwPwAAAAAAAPA/AAAAAAAA8D8AAAAAAADwPwAAAAAAAPA/AAAAAAAA8D8AAAAAAADwPwAAAAAAAPA/AAAAAAAA8D8AAAAAAADwP4HW67Lc/+8/gdbrstz/7z+B1uuy3P/vP55Gtsgu/+8/Q2BPsQj97z/Qi2giO/HvPxUpjupj1O8/ciHM7iO27z9X/EiMij3vP4K7JUuDmO4/dFaU2Yyn7T9yS2UvsBjrP9Sqq5xaJOk/id/81m6E5j8ZXiiM52DkP5hAhlyZYOQ/ZkRDZuVU5D912ge+dhbkP85/8pyIYuM/H/zZwTAj4j/WIXbrPj7hP2WnSFYUJ98/hZ9y5MH02j90QOOsgvPRP1XR626vVsg/3MdDdjq2vD94/d3WgiOhP81HllrvA5E/9VDgAgY73D71UOACBjvcPvVQ4AIGO9w+",
          "dtype": "f8"
         }
        },
        {
         "customdata": {
          "bdata": "AAAAAABkqUAAAAAAAGSpQAAAAAAAZKlAAAAAAABkqUAAAAAAAGSpQAAAAAAAZKlAAAAAAABkqUAAAAAAAGSpQAAAAAAAZKlAAAAAAABkqUAAAAAAAGSpQAAAAAAAZKlAAAAAAABkqUAAAAAAAGSpQAAAAAAAZKlAAAAAAABkqUAAAAAAAGSpQAAAAAAAZKlAAAAAAABkqUAAAAAAAGSpQAAAAAAAZKlAAAAAAABkqUAAAAAAAGSpQAAAAAAAZKlAAAAAAABkqUAAAAAAAGSpQAAAAAAAZKlAAAAAAABkqUAAAAAAAGSpQAAAAAAAZKlAAAAAAABkqUAAAAAAAGSpQAAAAAAAZKlAAAAAAABkqUAAAAAAAGSpQAAAAAAAZKlAAAAAAABkqUAAAAAAAGSpQAAAAAAAZKlAAAAAAABkqUAAAAAAAGSpQAAAAAAAZKlAAAAAAABkqUAAAAAAAGSpQAAAAAAAZKlAAAAAAABkqUAAAAAAAGSpQAAAAAAAZKlA",
          "dtype": "f8",
          "shape": "48, 1"
         },
         "hovertemplate": "<b>Time Step:</b> %{x}<br><b>Budget Left Ratio:</b> %{y:.3f}<br><b>Budget:</b> %{customdata[0]:.0f}<br><extra></extra>",
         "line": {
          "color": "rgb(236, 248, 226)",
          "width": 1.5
         },
         "mode": "lines",
         "opacity": 0.35,
         "showlegend": false,
         "type": "scatter",
         "x": {
          "bdata": "AAECAwQFBgcICQoLDA0ODxAREhMUFRYXGBkaGxwdHh8gISIjJCUmJygpKissLS4v",
          "dtype": "i1"
         },
         "y": {
          "bdata": "yb+WWT5S7z+/Se1yoj/vP99H1R7o/+4/AE5jVpnr7j8ieQ1/HM7uP1dgxMjZxu4/EOEdt2PC7j/9osn3b7juP9EwmU64t+4/J6B8mVK37j8bJ7gMwaruP3wq4Vwsnu4/ms480XGV7j/xZQ/fVm3uP8Y1a1KBaO4/I1+JqQUP7j/q4nOPXgPuP7eUfsdv2u0/d79cLhLS7T+IoU9KLbvtPxEyfiGBzew/HXGS4wDK6z+Nq1EwXPbpP3HQZy6Pfeg/gubsKZj35z/2D0ZKtJXnP1KPEbOb7OY/XroFD8y35T9UigNuWMXkP9S6wxu0wuM/WL/e6KNm4j8MUfadgB3hP8vQjkJ93OA/SEjpsPIi3D+LN44B5jfWP8+uI894M9E/pZo8HoAvzj+JRSpx1ajKP32xMII688c/X9aX6Dp9xD82COByCbrAP3lphdO85bY/WpIK4UPEoj96c+dr5Kh2P/GN81bh7ew+8Y3zVuHt7D7xjfNW4e3sPvGN81bh7ew+",
          "dtype": "f8"
         }
        },
        {
         "customdata": {
          "bdata": "AAAAAADAskAAAAAAAMCyQAAAAAAAwLJAAAAAAADAskAAAAAAAMCyQAAAAAAAwLJAAAAAAADAskAAAAAAAMCyQAAAAAAAwLJAAAAAAADAskAAAAAAAMCyQAAAAAAAwLJAAAAAAADAskAAAAAAAMCyQAAAAAAAwLJAAAAAAADAskAAAAAAAMCyQAAAAAAAwLJAAAAAAADAskAAAAAAAMCyQAAAAAAAwLJAAAAAAADAskAAAAAAAMCyQAAAAAAAwLJAAAAAAADAskAAAAAAAMCyQAAAAAAAwLJAAAAAAADAskAAAAAAAMCyQAAAAAAAwLJAAAAAAADAskAAAAAAAMCyQAAAAAAAwLJAAAAAAADAskAAAAAAAMCyQAAAAAAAwLJAAAAAAADAskAAAAAAAMCyQAAAAAAAwLJAAAAAAADAskAAAAAAAMCyQAAAAAAAwLJAAAAAAADAskAAAAAAAMCyQAAAAAAAwLJAAAAAAADAskAAAAAAAMCyQAAAAAAAwLJA",
          "dtype": "f8",
          "shape": "48, 1"
         },
         "hovertemplate": "<b>Time Step:</b> %{x}<br><b>Budget Left Ratio:</b> %{y:.3f}<br><b>Budget:</b> %{customdata[0]:.0f}<br><extra></extra>",
         "line": {
          "color": "rgb(174, 8, 38)",
          "width": 1.5
         },
         "mode": "lines",
         "opacity": 0.35,
         "showlegend": false,
         "type": "scatter",
         "x": {
          "bdata": "AAECAwQFBgcICQoLDA0ODxAREhMUFRYXGBkaGxwdHh8gISIjJCUmJygpKissLS4v",
          "dtype": "i1"
         },
         "y": {
          "bdata": "AAAAAAAA8D8AAAAAAADwPwAAAAAAAPA/AAAAAAAA8D8AAAAAAADwPwAAAAAAAPA/AAAAAAAA8D8AAAAAAADwP4NPul2M/e8/GqiNJv/87z8KwQEya/rvP/ZKIBfc8e8/Us2FhxDo7z+USNdpbpHvP+CHv0qTie8/+xOrYKxq7z/7E6tgrGrvP/sTq2Csau8/+xOrYKxq7z/7E6tgrGrvP/sTq2Csau8/+xOrYKxq7z/7E6tgrGrvP9TZpZJ5au8/lMd+/ctr7j9UtHUZgbvtPxZkutDzJew/Of6YCeNi6j8TA5GCTb/oP0FfFVn2xOY/j5qxqaSF5D/0chflQ3biPxWjRqP/deI/mQGCeJBz4j+aO86W4kziP/1QVEoD6eE/HYFu524j4T8MtdcTrmrgP+o46oGIhd4/vRVxiNiJ3D9sjPsTMLLRP2CgTJ5InMY/4ao5ASaosz+nDe1z8pGLP3E9is2dO+s+cT2KzZ076z5xPYrNnTvrPnE9is2dO+s+",
          "dtype": "f8"
         }
        },
        {
         "customdata": {
          "bdata": "AAAAAABAn0AAAAAAAECfQAAAAAAAQJ9AAAAAAABAn0AAAAAAAECfQAAAAAAAQJ9AAAAAAABAn0AAAAAAAECfQAAAAAAAQJ9AAAAAAABAn0AAAAAAAECfQAAAAAAAQJ9AAAAAAABAn0AAAAAAAECfQAAAAAAAQJ9AAAAAAABAn0AAAAAAAECfQAAAAAAAQJ9AAAAAAABAn0AAAAAAAECfQAAAAAAAQJ9AAAAAAABAn0AAAAAAAECfQAAAAAAAQJ9AAAAAAABAn0AAAAAAAECfQAAAAAAAQJ9AAAAAAABAn0AAAAAAAECfQAAAAAAAQJ9AAAAAAABAn0AAAAAAAECfQAAAAAAAQJ9AAAAAAABAn0AAAAAAAECfQAAAAAAAQJ9AAAAAAABAn0AAAAAAAECfQAAAAAAAQJ9AAAAAAABAn0AAAAAAAECfQAAAAAAAQJ9AAAAAAABAn0AAAAAAAECfQAAAAAAAQJ9AAAAAAABAn0AAAAAAAECfQAAAAAAAQJ9A",
          "dtype": "f8",
          "shape": "48, 1"
         },
         "hovertemplate": "<b>Time Step:</b> %{x}<br><b>Budget Left Ratio:</b> %{y:.3f}<br><b>Budget:</b> %{customdata[0]:.0f}<br><extra></extra>",
         "line": {
          "color": "rgb(49, 54, 149)",
          "width": 1.5
         },
         "mode": "lines",
         "opacity": 0.35,
         "showlegend": false,
         "type": "scatter",
         "x": {
          "bdata": "AAECAwQFBgcICQoLDA0ODxAREhMUFRYXGBkaGxwdHh8gISIjJCUmJygpKissLS4v",
          "dtype": "i1"
         },
         "y": {
          "bdata": "AAAAAAAA8D8AAAAAAADwPwAAAAAAAPA/AAAAAAAA8D8AAAAAAADwPwAAAAAAAPA/AAAAAAAA8D8AAAAAAADwPwAAAAAAAPA/AAAAAAAA8D8AAAAAAADwPwAAAAAAAPA/AAAAAAAA8D8AAAAAAADwPwAAAAAAAPA/AAAAAAAA8D8AAAAAAADwPwAAAAAAAPA/AAAAAAAA8D8AAAAAAADwPwAAAAAAAPA/AAAAAAAA8D8AAAAAAADwPwAAAAAAAPA/AAAAAAAA8D8AAAAAAADwPwAAAAAAAPA/AAAAAAAA8D+ZioPkv//vP5mKg+S//+8/mYqD5L//7z8wxvL2Kf/vP83LXw6p8u8//zmlD2LT7z/b7k6Yz3TvPz+uf19SyO4/A7KwempR7j+Cz3/sCrPtP6RbjaCh4ew/KGl2mEt+6j/jAsQDL1joP2Tr8JPqDuY/M2xQAyaj4D8d1VkwdO7TP15mag9sh84/lpd3621+vz9QyYCOHiGyP+F6VCwIrvc+",
          "dtype": "f8"
         }
        },
        {
         "customdata": {
          "bdata": "AAAAAAAEoEAAAAAAAASgQAAAAAAABKBAAAAAAAAEoEAAAAAAAASgQAAAAAAABKBAAAAAAAAEoEAAAAAAAASgQAAAAAAABKBAAAAAAAAEoEAAAAAAAASgQAAAAAAABKBAAAAAAAAEoEAAAAAAAASgQAAAAAAABKBAAAAAAAAEoEAAAAAAAASgQAAAAAAABKBAAAAAAAAEoEAAAAAAAASgQAAAAAAABKBAAAAAAAAEoEAAAAAAAASgQAAAAAAABKBAAAAAAAAEoEAAAAAAAASgQAAAAAAABKBAAAAAAAAEoEAAAAAAAASgQAAAAAAABKBAAAAAAAAEoEAAAAAAAASgQAAAAAAABKBAAAAAAAAEoEAAAAAAAASgQAAAAAAABKBAAAAAAAAEoEAAAAAAAASgQAAAAAAABKBAAAAAAAAEoEAAAAAAAASgQAAAAAAABKBAAAAAAAAEoEAAAAAAAASgQAAAAAAABKBAAAAAAAAEoEAAAAAAAASgQAAAAAAABKBA",
          "dtype": "f8",
          "shape": "48, 1"
         },
         "hovertemplate": "<b>Time Step:</b> %{x}<br><b>Budget Left Ratio:</b> %{y:.3f}<br><b>Budget:</b> %{customdata[0]:.0f}<br><extra></extra>",
         "line": {
          "color": "rgb(53, 65, 154)",
          "width": 1.5
         },
         "mode": "lines",
         "opacity": 0.35,
         "showlegend": false,
         "type": "scatter",
         "x": {
          "bdata": "AAECAwQFBgcICQoLDA0ODxAREhMUFRYXGBkaGxwdHh8gISIjJCUmJygpKissLS4v",
          "dtype": "i1"
         },
         "y": {
          "bdata": "AAAAAAAA8D8AAAAAAADwPwAAAAAAAPA/AAAAAAAA8D8AAAAAAADwPwAAAAAAAPA/AAAAAAAA8D8AAAAAAADwPySpjPtStO8/+Fuinxgf7z8cH4TKBZTtP/t3uanuuOs/IZHVyALW6j8ydvyR8ljpPyKoiZrDgec/V14zLjxK5T8ChQ6q8wHlP9mVlYcAT+M/CrW6yjUx4T84SfPZMLzUP5laODZA3sw/FCB8L0zoxz+qN1TN9VPHP5o5Y3w7ZsM/KLGcsRLywj9nQ2yspR/CP3HLZZJWf8E/9Uv+8ZWiwD9Jq0dxEwfAP6OTFk9Blr4/6tl5yP9auz96+GNE5xy6P+WKrl9w3bk/Yvgg1P0IuT+PI/Ai1BS4P73KkZUnpLc/UIGKg668tj926PTMKwG2P7L4LbSRurM/QjmRVVPBoj9COZFVU8GiP0I5kVVTwaI/QjmRVVPBoj9COZFVU8GiP0I5kVVTwaI/QjmRVVPBoj9COZFVU8GiP0I5kVVTwaI/",
          "dtype": "f8"
         }
        },
        {
         "customdata": {
          "bdata": "AAAAAAD4oUAAAAAAAPihQAAAAAAA+KFAAAAAAAD4oUAAAAAAAPihQAAAAAAA+KFAAAAAAAD4oUAAAAAAAPihQAAAAAAA+KFAAAAAAAD4oUAAAAAAAPihQAAAAAAA+KFAAAAAAAD4oUAAAAAAAPihQAAAAAAA+KFAAAAAAAD4oUAAAAAAAPihQAAAAAAA+KFAAAAAAAD4oUAAAAAAAPihQAAAAAAA+KFAAAAAAAD4oUAAAAAAAPihQAAAAAAA+KFAAAAAAAD4oUAAAAAAAPihQAAAAAAA+KFAAAAAAAD4oUAAAAAAAPihQAAAAAAA+KFAAAAAAAD4oUAAAAAAAPihQAAAAAAA+KFAAAAAAAD4oUAAAAAAAPihQAAAAAAA+KFAAAAAAAD4oUAAAAAAAPihQAAAAAAA+KFAAAAAAAD4oUAAAAAAAPihQAAAAAAA+KFAAAAAAAD4oUAAAAAAAPihQAAAAAAA+KFAAAAAAAD4oUAAAAAAAPihQAAAAAAA+KFA",
          "dtype": "f8",
          "shape": "48, 1"
         },
         "hovertemplate": "<b>Time Step:</b> %{x}<br><b>Budget Left Ratio:</b> %{y:.3f}<br><b>Budget:</b> %{customdata[0]:.0f}<br><extra></extra>",
         "line": {
          "color": "rgb(71, 120, 182)",
          "width": 1.5
         },
         "mode": "lines",
         "opacity": 0.35,
         "showlegend": false,
         "type": "scatter",
         "x": {
          "bdata": "AAECAwQFBgcICQoLDA0ODxAREhMUFRYXGBkaGxwdHh8gISIjJCUmJygpKissLS4v",
          "dtype": "i1"
         },
         "y": {
          "bdata": "AAAAAAAA8D/xauPMc//vP/Fq48xz/+8/8WrjzHP/7z/xauPMc//vP/Fq48xz/+8/8WrjzHP/7z/xauPMc//vP/Fq48xz/+8/8WrjzHP/7z/xauPMc//vP/Fq48xz/+8/8WrjzHP/7z/xauPMc//vP8tD0gnR/e8/y0PSCdH97z/LQ9IJ0f3vP8tD0gnR/e8/y0PSCdH97z/LQ9IJ0f3vP8tD0gnR/e8/y0PSCdH97z/LQ9IJ0f3vP8tD0gnR/e8/5Rvrlqbn7z9UXOQq4nfvPz3YrcCYx+w/zy0sw3UC6z++bytvmVvnP14gz+M4++Q/LGMSDX0Y4j/mlESeB7/gP6kcfEG7Qtw/rmby/Efz1j/wiLkg7JDTP5nbAEGj8tE/1uE81uFt0D9E2dMToBrNP4u5sLb1Dco/a5mrCY3Awz/bPCiagTzDP4tp+I1+LL8/lQ6oWlz/oz/6ca221kCfP3VHf/BpK5E/JJHGthAY9j4kkca2EBj2PiSRxrYQGPY+",
          "dtype": "f8"
         }
        },
        {
         "customdata": {
          "bdata": "AAAAAABooEAAAAAAAGigQAAAAAAAaKBAAAAAAABooEAAAAAAAGigQAAAAAAAaKBAAAAAAABooEAAAAAAAGigQAAAAAAAaKBAAAAAAABooEAAAAAAAGigQAAAAAAAaKBAAAAAAABooEAAAAAAAGigQAAAAAAAaKBAAAAAAABooEAAAAAAAGigQAAAAAAAaKBAAAAAAABooEAAAAAAAGigQAAAAAAAaKBAAAAAAABooEAAAAAAAGigQAAAAAAAaKBAAAAAAABooEAAAAAAAGigQAAAAAAAaKBAAAAAAABooEAAAAAAAGigQAAAAAAAaKBAAAAAAABooEAAAAAAAGigQAAAAAAAaKBAAAAAAABooEAAAAAAAGigQAAAAAAAaKBAAAAAAABooEAAAAAAAGigQAAAAAAAaKBAAAAAAABooEAAAAAAAGigQAAAAAAAaKBAAAAAAABooEAAAAAAAGigQAAAAAAAaKBAAAAAAABooEAAAAAAAGigQAAAAAAAaKBA",
          "dtype": "f8",
          "shape": "48, 1"
         },
         "hovertemplate": "<b>Time Step:</b> %{x}<br><b>Budget Left Ratio:</b> %{y:.3f}<br><b>Budget:</b> %{customdata[0]:.0f}<br><extra></extra>",
         "line": {
          "color": "rgb(56, 76, 160)",
          "width": 1.5
         },
         "mode": "lines",
         "opacity": 0.35,
         "showlegend": false,
         "type": "scatter",
         "x": {
          "bdata": "AAECAwQFBgcICQoLDA0ODxAREhMUFRYXGBkaGxwdHh8gISIjJCUmJygpKissLS4v",
          "dtype": "i1"
         },
         "y": {
          "bdata": "6JPJwvmQ7j+r5jQVoOLtP7DcTgwr6uw/dvlQq46G7D/chU8H9yTsP4dr7tzQyOs/2Uc34gKt6z/wDipKAoLrP6kdxNoEVus/j2FKxDpQ6z+nmYoYs0TrP3jjVaHOOOs/grJBUQmS6j9Xsp7krvLpPwx89QXdUOk/NW8aouHF6D+Xc76g9YHoP4vbYzZrB+c/F4Xe5waw5D9N5fsglFbhP2B3sw3SrNk/qo/FMTfO0D/c3PX0KtW7PwPd6PGUF6w/xXdRgi8HrD9GsCZcUfmrP0awJlxR+as/PiXobnrsqz8+JehueuyrP/aoJaUdSKs/5i1nVN4nqz/Flx4vX9KpP8WXHi9f0qk/xZceL1/SqT/Flx4vX9KpP8WXHi9f0qk/xZceL1/SqT/Flx4vX9KpP8WXHi9f0qk/xZceL1/SqT+nDeNnnEuGP0BsKh4lFQM/QGwqHiUVAz9AbCoeJRUDP0BsKh4lFQM/QGwqHiUVAz9AbCoeJRUDP0BsKh4lFQM/",
          "dtype": "f8"
         }
        },
        {
         "customdata": {
          "bdata": "AAAAAAD+sEAAAAAAAP6wQAAAAAAA/rBAAAAAAAD+sEAAAAAAAP6wQAAAAAAA/rBAAAAAAAD+sEAAAAAAAP6wQAAAAAAA/rBAAAAAAAD+sEAAAAAAAP6wQAAAAAAA/rBAAAAAAAD+sEAAAAAAAP6wQAAAAAAA/rBAAAAAAAD+sEAAAAAAAP6wQAAAAAAA/rBAAAAAAAD+sEAAAAAAAP6wQAAAAAAA/rBAAAAAAAD+sEAAAAAAAP6wQAAAAAAA/rBAAAAAAAD+sEAAAAAAAP6wQAAAAAAA/rBAAAAAAAD+sEAAAAAAAP6wQAAAAAAA/rBAAAAAAAD+sEAAAAAAAP6wQAAAAAAA/rBAAAAAAAD+sEAAAAAAAP6wQAAAAAAA/rBAAAAAAAD+sEAAAAAAAP6wQAAAAAAA/rBAAAAAAAD+sEAAAAAAAP6wQAAAAAAA/rBAAAAAAAD+sEAAAAAAAP6wQAAAAAAA/rBAAAAAAAD+sEAAAAAAAP6wQAAAAAAA/rBA",
          "dtype": "f8",
          "shape": "48, 1"
         },
         "hovertemplate": "<b>Time Step:</b> %{x}<br><b>Budget Left Ratio:</b> %{y:.3f}<br><b>Budget:</b> %{customdata[0]:.0f}<br><extra></extra>",
         "line": {
          "color": "rgb(237, 94, 60)",
          "width": 1.5
         },
         "mode": "lines",
         "opacity": 0.35,
         "showlegend": false,
         "type": "scatter",
         "x": {
          "bdata": "AAECAwQFBgcICQoLDA0ODxAREhMUFRYXGBkaGxwdHh8gISIjJCUmJygpKissLS4v",
          "dtype": "i1"
         },
         "y": {
          "bdata": "tZ9p8XX47z99BHU2MqrvP/7bSUB7p+8/Wg1jm3Og7z+AI0P8PJfvP/iZYhixkO8/SynISbuP7z8oc+pPfIvvPyhz6k98i+8/KHPqT3yL7z8oc+pPfIvvPyhz6k98i+8/DtvgoFWL7z8O2+CgVYvvPw7b4KBVi+8/DtvgoFWL7z/5N3+IOHfvP5JlA6AjaO8/oxo+ZeZX7z+FXGzabxPvP5Z51Cm72O4/X3OylP0l7j/oigsr5v7sP1Ok8FDIEus/m8ha/4zE6T9aHyCE3fXnP2OVdhR5oOY/mMPVnEO55T+JMliiJrTkPyBvTG42D+Q/bTv31rOi4j/vfV6nh4HhP9cxHDlEc+E/qwp6TGbr3z/U2RLoYWHbPx/JcqYOF9c/5nPGDy711D8YWHPao5jTP3Mgf8ZtIdI/ibzDXPPb0T8KBUrkPaXQP7zgB35pT84/Z08xbccTyT/NbWEkxSnCP2K/3sGxCrs/2bUd7Nk2qD+0eQoZeQzvPrR5Chl5DO8+",
          "dtype": "f8"
         }
        },
        {
         "customdata": {
          "bdata": "AAAAAABEpkAAAAAAAESmQAAAAAAARKZAAAAAAABEpkAAAAAAAESmQAAAAAAARKZAAAAAAABEpkAAAAAAAESmQAAAAAAARKZAAAAAAABEpkAAAAAAAESmQAAAAAAARKZAAAAAAABEpkAAAAAAAESmQAAAAAAARKZAAAAAAABEpkAAAAAAAESmQAAAAAAARKZAAAAAAABEpkAAAAAAAESmQAAAAAAARKZAAAAAAABEpkAAAAAAAESmQAAAAAAARKZAAAAAAABEpkAAAAAAAESmQAAAAAAARKZAAAAAAABEpkAAAAAAAESmQAAAAAAARKZAAAAAAABEpkAAAAAAAESmQAAAAAAARKZAAAAAAABEpkAAAAAAAESmQAAAAAAARKZAAAAAAABEpkAAAAAAAESmQAAAAAAARKZAAAAAAABEpkAAAAAAAESmQAAAAAAARKZAAAAAAABEpkAAAAAAAESmQAAAAAAARKZAAAAAAABEpkAAAAAAAESmQAAAAAAARKZA",
          "dtype": "f8",
          "shape": "48, 1"
         },
         "hovertemplate": "<b>Time Step:</b> %{x}<br><b>Budget Left Ratio:</b> %{y:.3f}<br><b>Budget:</b> %{customdata[0]:.0f}<br><extra></extra>",
         "line": {
          "color": "rgb(170, 216, 233)",
          "width": 1.5
         },
         "mode": "lines",
         "opacity": 0.35,
         "showlegend": false,
         "type": "scatter",
         "x": {
          "bdata": "AAECAwQFBgcICQoLDA0ODxAREhMUFRYXGBkaGxwdHh8gISIjJCUmJygpKissLS4v",
          "dtype": "i1"
         },
         "y": {
          "bdata": "+6Wt6v1b7z/FHzPfZvfuP5m/AaKKtO4/9Fm5oMl47j9yD9FlqlzuP3U/z+E3WO4/zw6avA9I7j/sTqKwvT7uP+xOorC9Pu4/7E6isL0+7j9hWxSSDj7uP2FbFJIOPu4/YVsUkg4+7j9hWxSSDj7uP+1LH9fdPe4/7Usf19097j+xrCsY/zvuPxpiMaJuOu4/DAb2ymwx7j9P+0qmRRzuP7d4lRubA+4/AGrSZlZo7T87Eb9mqV3rPwiWpMPHS+k/CJakw8dL6T8IlqTDx0vpPwiWpMPHS+k/CJakw8dL6T8IlqTDx0vpPwiWpMPHS+k/CJakw8dL6T8IlqTDx0vpP1FnfVZ/3+U/8mYePC9N5D9YLH6sesbhP66fs66szd4/iiaGyx0P3D/LONod11nZPw68P5tDK9c/qJk/vQs20z9kZSUMNujLP0lZQNsys74/bZFI/Bd2rz9XayqHQx6hP2D3A45K/Y0/agOdFsIZ1j5qA50WwhnWPmoDnRbCGdY+",
          "dtype": "f8"
         }
        },
        {
         "customdata": {
          "bdata": "AAAAAABooEAAAAAAAGigQAAAAAAAaKBAAAAAAABooEAAAAAAAGigQAAAAAAAaKBAAAAAAABooEAAAAAAAGigQAAAAAAAaKBAAAAAAABooEAAAAAAAGigQAAAAAAAaKBAAAAAAABooEAAAAAAAGigQAAAAAAAaKBAAAAAAABooEAAAAAAAGigQAAAAAAAaKBAAAAAAABooEAAAAAAAGigQAAAAAAAaKBAAAAAAABooEAAAAAAAGigQAAAAAAAaKBAAAAAAABooEAAAAAAAGigQAAAAAAAaKBAAAAAAABooEAAAAAAAGigQAAAAAAAaKBAAAAAAABooEAAAAAAAGigQAAAAAAAaKBAAAAAAABooEAAAAAAAGigQAAAAAAAaKBAAAAAAABooEAAAAAAAGigQAAAAAAAaKBAAAAAAABooEAAAAAAAGigQAAAAAAAaKBAAAAAAABooEAAAAAAAGigQAAAAAAAaKBAAAAAAABooEAAAAAAAGigQAAAAAAAaKBA",
          "dtype": "f8",
          "shape": "48, 1"
         },
         "hovertemplate": "<b>Time Step:</b> %{x}<br><b>Budget Left Ratio:</b> %{y:.3f}<br><b>Budget:</b> %{customdata[0]:.0f}<br><extra></extra>",
         "line": {
          "color": "rgb(56, 76, 160)",
          "width": 1.5
         },
         "mode": "lines",
         "opacity": 0.35,
         "showlegend": false,
         "type": "scatter",
         "x": {
          "bdata": "AAECAwQFBgcICQoLDA0ODxAREhMUFRYXGBkaGxwdHh8gISIjJCUmJygpKissLS4v",
          "dtype": "i1"
         },
         "y": {
          "bdata": "AAAAAAAA8D/a7ZoJvv/vP9rtmgm+/+8/2u2aCb7/7z/a7ZoJvv/vP9rtmgm+/+8/2u2aCb7/7z/a7ZoJvv/vP1KfxfxB/+8/B36dGST97z+88rMtX/bvP8Vbx/TE7O8/bvYLSNrL7z9WPi7WUSLvP3D/U2eC2e0/0mFAYq9q7T/SYUBir2rtP9JhQGKvau0/0mFAYq9q7T/SYUBir2rtP9JhQGKvau0/0mFAYq9q7T/SYUBir2rtPwCzHesdZ+0//SW/beZN6z9Zs6ILv5jmPx4v5Ajdkt0/F/CROi8l0D85R03pfMXEP1s2W1ZAdMA/wj8YNG7tsD/Ps9VzHeKiP7FE6TOyhKI/Kg1fZBPCoT9XAf5flPWeP9TBclG+8Jc/zBH5BQdllD+chXyVhzCRP92ie5w9C48/o/pb2TOmjT8+gMFifLiHPya/SyjiHYc/hDoi1nQKgz+Pwu/fLip7P8xWBjWLCv0+zFYGNYsK/T7MVgY1iwr9PsxWBjWLCv0+",
          "dtype": "f8"
         }
        },
        {
         "customdata": {
          "bdata": "AAAAAACOskAAAAAAAI6yQAAAAAAAjrJAAAAAAACOskAAAAAAAI6yQAAAAAAAjrJAAAAAAACOskAAAAAAAI6yQAAAAAAAjrJAAAAAAACOskAAAAAAAI6yQAAAAAAAjrJAAAAAAACOskAAAAAAAI6yQAAAAAAAjrJAAAAAAACOskAAAAAAAI6yQAAAAAAAjrJAAAAAAACOskAAAAAAAI6yQAAAAAAAjrJAAAAAAACOskAAAAAAAI6yQAAAAAAAjrJAAAAAAACOskAAAAAAAI6yQAAAAAAAjrJAAAAAAACOskAAAAAAAI6yQAAAAAAAjrJAAAAAAACOskAAAAAAAI6yQAAAAAAAjrJAAAAAAACOskAAAAAAAI6yQAAAAAAAjrJAAAAAAACOskAAAAAAAI6yQAAAAAAAjrJAAAAAAACOskAAAAAAAI6yQAAAAAAAjrJAAAAAAACOskAAAAAAAI6yQAAAAAAAjrJAAAAAAACOskAAAAAAAI6yQAAAAAAAjrJA",
          "dtype": "f8",
          "shape": "48, 1"
         },
         "hovertemplate": "<b>Time Step:</b> %{x}<br><b>Budget Left Ratio:</b> %{y:.3f}<br><b>Budget:</b> %{customdata[0]:.0f}<br><extra></extra>",
         "line": {
          "color": "rgb(183, 17, 38)",
          "width": 1.5
         },
         "mode": "lines",
         "opacity": 0.35,
         "showlegend": false,
         "type": "scatter",
         "x": {
          "bdata": "AAECAwQFBgcICQoLDA0ODxAREhMUFRYXGBkaGxwdHh8gISIjJCUmJygpKissLS4v",
          "dtype": "i1"
         },
         "y": {
          "bdata": "AAAAAAAA8D8AAAAAAADwPwAAAAAAAPA/AAAAAAAA8D8AAAAAAADwPwAAAAAAAPA/AAAAAAAA8D8AAAAAAADwPwAAAAAAAPA/AAAAAAAA8D8AAAAAAADwPwAAAAAAAPA/AAAAAAAA8D8AAAAAAADwPwAAAAAAAPA/AAAAAAAA8D8AAAAAAADwP8G6dG51/u8/HbGgrAb37z9mZpSPVZnvP04n1f/+ku8/FOXT0/+n7j94LNTEnnDsP/9Q1BwJkuo/Oqq6OfeE6j/vHH7OVIPqP9WU21m3guo/zd0c6bQo6j9Rk4RgaAzqP6equdDi2uk/oRfG8NOh6T865nfN99foPw1yghKW7uU/fayg3tDE4z8hRz2EUc3hP12bZumaWuA/lLVAnXL/3T9Wnh9k8l/bP2iL1kYfdtg/vaHQVElw1T8oW4dWpwDVP5iwMxzL19M/TkL7QMTWzT9lDU95xT7JP+YYm4O1hcE/ZVbXLsWxuT/8Mi3crwioP2G2fC3Xj+E+",
          "dtype": "f8"
         }
        },
        {
         "customdata": {
          "bdata": "AAAAAAA4qEAAAAAAADioQAAAAAAAOKhAAAAAAAA4qEAAAAAAADioQAAAAAAAOKhAAAAAAAA4qEAAAAAAADioQAAAAAAAOKhAAAAAAAA4qEAAAAAAADioQAAAAAAAOKhAAAAAAAA4qEAAAAAAADioQAAAAAAAOKhAAAAAAAA4qEAAAAAAADioQAAAAAAAOKhAAAAAAAA4qEAAAAAAADioQAAAAAAAOKhAAAAAAAA4qEAAAAAAADioQAAAAAAAOKhAAAAAAAA4qEAAAAAAADioQAAAAAAAOKhAAAAAAAA4qEAAAAAAADioQAAAAAAAOKhAAAAAAAA4qEAAAAAAADioQAAAAAAAOKhAAAAAAAA4qEAAAAAAADioQAAAAAAAOKhAAAAAAAA4qEAAAAAAADioQAAAAAAAOKhAAAAAAAA4qEAAAAAAADioQAAAAAAAOKhAAAAAAAA4qEAAAAAAADioQAAAAAAAOKhAAAAAAAA4qEAAAAAAADioQAAAAAAAOKhA",
          "dtype": "f8",
          "shape": "48, 1"
         },
         "hovertemplate": "<b>Time Step:</b> %{x}<br><b>Budget Left Ratio:</b> %{y:.3f}<br><b>Budget:</b> %{customdata[0]:.0f}<br><extra></extra>",
         "line": {
          "color": "rgb(217, 239, 246)",
          "width": 1.5
         },
         "mode": "lines",
         "opacity": 0.35,
         "showlegend": false,
         "type": "scatter",
         "x": {
          "bdata": "AAECAwQFBgcICQoLDA0ODxAREhMUFRYXGBkaGxwdHh8gISIjJCUmJygpKissLS4v",
          "dtype": "i1"
         },
         "y": {
          "bdata": "AAAAAAAA8D8AAAAAAADwPwAAAAAAAPA/AAAAAAAA8D8AAAAAAADwPwAAAAAAAPA/AAAAAAAA8D8AAAAAAADwPwAAAAAAAPA/AAAAAAAA8D8AAAAAAADwP6l132Uz/u8/+dIshmH77z/lXUonOfnvP5MJQy7R7+8/ZZ7IQyXW7z+JSDYWGsXvP9M3gmwf+O4/ttzWTIIu6z8qxI3RUAHoP5R5aixzTeM/Mhi9ftxb3T8fl/xEXWTVPxIVL/ECvNA/1S0ObYhCyT+OriOlvd/BP16l5ch0CrU/ARJ0TXn8rD8ViUxadMSkP/s4T1KpUpU/5VRpKIzraT9uPuX2TvvGPm4+5fZO+8Y+bj7l9k77xj5uPuX2TvvGPm4+5fZO+8Y+bj7l9k77xj5uPuX2TvvGPm4+5fZO+8Y+bj7l9k77xj5uPuX2TvvGPm4+5fZO+8Y+bj7l9k77xj5uPuX2TvvGPm4+5fZO+8Y+bj7l9k77xj5uPuX2TvvGPm4+5fZO+8Y+",
          "dtype": "f8"
         }
        },
        {
         "customdata": {
          "bdata": "AAAAAABisUAAAAAAAGKxQAAAAAAAYrFAAAAAAABisUAAAAAAAGKxQAAAAAAAYrFAAAAAAABisUAAAAAAAGKxQAAAAAAAYrFAAAAAAABisUAAAAAAAGKxQAAAAAAAYrFAAAAAAABisUAAAAAAAGKxQAAAAAAAYrFAAAAAAABisUAAAAAAAGKxQAAAAAAAYrFAAAAAAABisUAAAAAAAGKxQAAAAAAAYrFAAAAAAABisUAAAAAAAGKxQAAAAAAAYrFAAAAAAABisUAAAAAAAGKxQAAAAAAAYrFAAAAAAABisUAAAAAAAGKxQAAAAAAAYrFAAAAAAABisUAAAAAAAGKxQAAAAAAAYrFAAAAAAABisUAAAAAAAGKxQAAAAAAAYrFAAAAAAABisUAAAAAAAGKxQAAAAAAAYrFAAAAAAABisUAAAAAAAGKxQAAAAAAAYrFAAAAAAABisUAAAAAAAGKxQAAAAAAAYrFAAAAAAABisUAAAAAAAGKxQAAAAAAAYrFA",
          "dtype": "f8",
          "shape": "48, 1"
         },
         "hovertemplate": "<b>Time Step:</b> %{x}<br><b>Budget Left Ratio:</b> %{y:.3f}<br><b>Budget:</b> %{customdata[0]:.0f}<br><extra></extra>",
         "line": {
          "color": "rgb(227, 73, 50)",
          "width": 1.5
         },
         "mode": "lines",
         "opacity": 0.35,
         "showlegend": false,
         "type": "scatter",
         "x": {
          "bdata": "AAECAwQFBgcICQoLDA0ODxAREhMUFRYXGBkaGxwdHh8gISIjJCUmJygpKissLS4v",
          "dtype": "i1"
         },
         "y": {
          "bdata": "7koOlJB+7z9OLUoBVXvvP+U7iwl3eO8/ErY4RUxx7z8gWIy4aG/vP1GTIYc9au8/0oEf86Ro7z/SgR/zpGjvPxemKG4/aO8/ZsazbbVl7z9zlo9Rc2LvPw7jvNh+YO8/4mOpf4Bf7z9l4U3X113vP6pHDXz3I+8/ZSWQUg4B7z/naQJb5gDvP2FhVNUB5+4/Z+RHSYHQ7j9mu5A+S1DuP+8TIPCp1u0/OqvvpM3b7D8x2FB3KRnrP5j45yeeI+k/ZSKVXAT96D+3OzEOqUboPzYtmXABq+Y/qkSfFNwg5T+rdRJCHfHjPwA5s4tr4eE/2SMvhaPN3j8x40HOCpraPzHjQc4Kmto/MeNBzgqa2j8x40HOCpraPzHjQc4Kmto/MeNBzgqa2j+RaP1O25naP5Fo/U7bmdo/kWj9TtuZ2j8EUBmNhS/YP4L2mNrnD9I/VkGOCn3pwj+sGxJIZ8SyP1OblnUvh6U/ApLfEVBrgj9OHCra7ozwPk4cKtrujPA+",
          "dtype": "f8"
         }
        },
        {
         "customdata": {
          "bdata": "AAAAAABAn0AAAAAAAECfQAAAAAAAQJ9AAAAAAABAn0AAAAAAAECfQAAAAAAAQJ9AAAAAAABAn0AAAAAAAECfQAAAAAAAQJ9AAAAAAABAn0AAAAAAAECfQAAAAAAAQJ9AAAAAAABAn0AAAAAAAECfQAAAAAAAQJ9AAAAAAABAn0AAAAAAAECfQAAAAAAAQJ9AAAAAAABAn0AAAAAAAECfQAAAAAAAQJ9AAAAAAABAn0AAAAAAAECfQAAAAAAAQJ9AAAAAAABAn0AAAAAAAECfQAAAAAAAQJ9AAAAAAABAn0AAAAAAAECfQAAAAAAAQJ9AAAAAAABAn0AAAAAAAECfQAAAAAAAQJ9AAAAAAABAn0AAAAAAAECfQAAAAAAAQJ9AAAAAAABAn0AAAAAAAECfQAAAAAAAQJ9AAAAAAABAn0AAAAAAAECfQAAAAAAAQJ9AAAAAAABAn0AAAAAAAECfQAAAAAAAQJ9AAAAAAABAn0AAAAAAAECfQAAAAAAAQJ9A",
          "dtype": "f8",
          "shape": "48, 1"
         },
         "hovertemplate": "<b>Time Step:</b> %{x}<br><b>Budget Left Ratio:</b> %{y:.3f}<br><b>Budget:</b> %{customdata[0]:.0f}<br><extra></extra>",
         "line": {
          "color": "rgb(49, 54, 149)",
          "width": 1.5
         },
         "mode": "lines",
         "opacity": 0.35,
         "showlegend": false,
         "type": "scatter",
         "x": {
          "bdata": "AAECAwQFBgcICQoLDA0ODxAREhMUFRYXGBkaGxwdHh8gISIjJCUmJygpKissLS4v",
          "dtype": "i1"
         },
         "y": {
          "bdata": "AAAAAAAA8D8AAAAAAADwPwAAAAAAAPA/AAAAAAAA8D8AAAAAAADwPwAAAAAAAPA/AAAAAAAA8D8AAAAAAADwPwAAAAAAAPA/AAAAAAAA8D8AAAAAAADwPwAAAAAAAPA/AAAAAAAA8D8AAAAAAADwPwAAAAAAAPA/AAAAAAAA8D94tnQuGxzvP6LU2o0Yx+0/yf4Chx417D9EEcwWRH/qPzPnmMU2ZuU/ajHz8chS3T8CS96LCBDJP5gSsRb2x74/xxs78ebFvj/ukLp8DcC+P+6QunwNwL4/tPQoDdafvj+09CgN1p++P7T0KA3Wn74/KXBxVvqavj9o3ekLg5i+P9nGY+afhr4/OzO1YHflvD85VGxIeESnP7Ba1v4O36E/PRo6FyJsoT/Rokg+DFmdPzU+Qg+klJs/K2d1viUGmz8rZ3W+JQabPytndb4lBps/NzkGG3dUmD/f3wpV/D2YP66XbTIrcZU/0ZJKieBWkz/Dtex5BWSJP4XrA0QF1F8/",
          "dtype": "f8"
         }
        },
        {
         "customdata": {
          "bdata": "AAAAAAAEoEAAAAAAAASgQAAAAAAABKBAAAAAAAAEoEAAAAAAAASgQAAAAAAABKBAAAAAAAAEoEAAAAAAAASgQAAAAAAABKBAAAAAAAAEoEAAAAAAAASgQAAAAAAABKBAAAAAAAAEoEAAAAAAAASgQAAAAAAABKBAAAAAAAAEoEAAAAAAAASgQAAAAAAABKBAAAAAAAAEoEAAAAAAAASgQAAAAAAABKBAAAAAAAAEoEAAAAAAAASgQAAAAAAABKBAAAAAAAAEoEAAAAAAAASgQAAAAAAABKBAAAAAAAAEoEAAAAAAAASgQAAAAAAABKBAAAAAAAAEoEAAAAAAAASgQAAAAAAABKBAAAAAAAAEoEAAAAAAAASgQAAAAAAABKBAAAAAAAAEoEAAAAAAAASgQAAAAAAABKBAAAAAAAAEoEAAAAAAAASgQAAAAAAABKBAAAAAAAAEoEAAAAAAAASgQAAAAAAABKBAAAAAAAAEoEAAAAAAAASgQAAAAAAABKBA",
          "dtype": "f8",
          "shape": "48, 1"
         },
         "hovertemplate": "<b>Time Step:</b> %{x}<br><b>Budget Left Ratio:</b> %{y:.3f}<br><b>Budget:</b> %{customdata[0]:.0f}<br><extra></extra>",
         "line": {
          "color": "rgb(53, 65, 154)",
          "width": 1.5
         },
         "mode": "lines",
         "opacity": 0.35,
         "showlegend": false,
         "type": "scatter",
         "x": {
          "bdata": "AAECAwQFBgcICQoLDA0ODxAREhMUFRYXGBkaGxwdHh8gISIjJCUmJygpKissLS4v",
          "dtype": "i1"
         },
         "y": {
          "bdata": "HTjbH3gd7z86m1cxA/LuP7fz/556s+4/us8U9vqt7j+FoHva2pnuP1fbEwBbj+4/k++1++aL7j+T77X75ovuP5Pvtfvmi+4/7hFrieqJ7j/uEWuJ6onuP+4Ra4nqie4/lGpsWseH7j+Uamxax4fuP+j+k5/Cge4/VwXTxzSA7j9V3dcW8QjoP5Cxmyh5RuI/MX3D7nNf0D8AXlViBj62PwuSg47xB7U/lqZlaZQ+1T6WpmVplD7VPpamZWmUPtU+lqZlaZQ+1T6WpmVplD7VPpamZWmUPtU+lqZlaZQ+1T6WpmVplD7VPpamZWmUPtU+lqZlaZQ+1T6WpmVplD7VPpamZWmUPtU+lqZlaZQ+1T6WpmVplD7VPpamZWmUPtU+lqZlaZQ+1T6WpmVplD7VPpamZWmUPtU+lqZlaZQ+1T6WpmVplD7VPpamZWmUPtU+lqZlaZQ+1T6WpmVplD7VPpamZWmUPtU+lqZlaZQ+1T6WpmVplD7VPpamZWmUPtU+",
          "dtype": "f8"
         }
        },
        {
         "customdata": {
          "bdata": "AAAAAADAskAAAAAAAMCyQAAAAAAAwLJAAAAAAADAskAAAAAAAMCyQAAAAAAAwLJAAAAAAADAskAAAAAAAMCyQAAAAAAAwLJAAAAAAADAskAAAAAAAMCyQAAAAAAAwLJAAAAAAADAskAAAAAAAMCyQAAAAAAAwLJAAAAAAADAskAAAAAAAMCyQAAAAAAAwLJAAAAAAADAskAAAAAAAMCyQAAAAAAAwLJAAAAAAADAskAAAAAAAMCyQAAAAAAAwLJAAAAAAADAskAAAAAAAMCyQAAAAAAAwLJAAAAAAADAskAAAAAAAMCyQAAAAAAAwLJAAAAAAADAskAAAAAAAMCyQAAAAAAAwLJAAAAAAADAskAAAAAAAMCyQAAAAAAAwLJAAAAAAADAskAAAAAAAMCyQAAAAAAAwLJAAAAAAADAskAAAAAAAMCyQAAAAAAAwLJAAAAAAADAskAAAAAAAMCyQAAAAAAAwLJAAAAAAADAskAAAAAAAMCyQAAAAAAAwLJA",
          "dtype": "f8",
          "shape": "48, 1"
         },
         "hovertemplate": "<b>Time Step:</b> %{x}<br><b>Budget Left Ratio:</b> %{y:.3f}<br><b>Budget:</b> %{customdata[0]:.0f}<br><extra></extra>",
         "line": {
          "color": "rgb(174, 8, 38)",
          "width": 1.5
         },
         "mode": "lines",
         "opacity": 0.35,
         "showlegend": false,
         "type": "scatter",
         "x": {
          "bdata": "AAECAwQFBgcICQoLDA0ODxAREhMUFRYXGBkaGxwdHh8gISIjJCUmJygpKissLS4v",
          "dtype": "i1"
         },
         "y": {
          "bdata": "xneEHTr+7z+Fh1abJPvvP3Ih1BwS+e8/grg1Rdj17z+mLQPlzvDvP6YtA+XO8O8/pHR5AQ/w7z97mYqOQu/vP9cZvjHx7e8/1x8MR7Tm7z+DFZW0b73vPwybsOr2t+8/eQA2WfNI7z9XOcw7KgfvP7d1t+NH2e0/SXAcr72m7D9JcByvvabsP0lwHK+9puw/Pf7vcTim7D/JhaZTvKXsP1xZVI9spew/zy4OCEul7D/PLg4IS6XsP+BZ9N7Eo+w/4Fn03sSj7D/gWfTexKPsP+BZ9N7Eo+w/4Fn03sSj7D/gWfTexKPsP+BZ9N7Eo+w/4Fn03sSj7D/gWfTexKPsP7c+lQ2wfOw//iV0WNc56z8RKKMmvkrpP6C9iLuPyec/vGyrVIQc5z/P3cifMGvmPwqsIrbc/uQ/sBLBSNnS4z+17espH27eP/vTYqTWBtY/1+S6umrryD93V1dPQfS0P7heBivv8Hw/ZmZmdB17wz5mZmZ0HXvDPmZmZnQde8M+",
          "dtype": "f8"
         }
        },
        {
         "customdata": {
          "bdata": "AAAAAAC8q0AAAAAAALyrQAAAAAAAvKtAAAAAAAC8q0AAAAAAALyrQAAAAAAAvKtAAAAAAAC8q0AAAAAAALyrQAAAAAAAvKtAAAAAAAC8q0AAAAAAALyrQAAAAAAAvKtAAAAAAAC8q0AAAAAAALyrQAAAAAAAvKtAAAAAAAC8q0AAAAAAALyrQAAAAAAAvKtAAAAAAAC8q0AAAAAAALyrQAAAAAAAvKtAAAAAAAC8q0AAAAAAALyrQAAAAAAAvKtAAAAAAAC8q0AAAAAAALyrQAAAAAAAvKtAAAAAAAC8q0AAAAAAALyrQAAAAAAAvKtAAAAAAAC8q0AAAAAAALyrQAAAAAAAvKtAAAAAAAC8q0AAAAAAALyrQAAAAAAAvKtAAAAAAAC8q0AAAAAAALyrQAAAAAAAvKtAAAAAAAC8q0AAAAAAALyrQAAAAAAAvKtAAAAAAAC8q0AAAAAAALyrQAAAAAAAvKtAAAAAAAC8q0AAAAAAALyrQAAAAAAAvKtA",
          "dtype": "f8",
          "shape": "48, 1"
         },
         "hovertemplate": "<b>Time Step:</b> %{x}<br><b>Budget Left Ratio:</b> %{y:.3f}<br><b>Budget:</b> %{customdata[0]:.0f}<br><extra></extra>",
         "line": {
          "color": "rgb(255, 241, 170)",
          "width": 1.5
         },
         "mode": "lines",
         "opacity": 0.35,
         "showlegend": false,
         "type": "scatter",
         "x": {
          "bdata": "AAECAwQFBgcICQoLDA0ODxAREhMUFRYXGBkaGxwdHh8gISIjJCUmJygpKissLS4v",
          "dtype": "i1"
         },
         "y": {
          "bdata": "AAAAAAAA8D8AAAAAAADwPwAAAAAAAPA/AAAAAAAA8D8AAAAAAADwPwAAAAAAAPA/AAAAAAAA8D8AAAAAAADwPwAAAAAAAPA/AAAAAAAA8D8AAAAAAADwPwAAAAAAAPA/AAAAAAAA8D8AAAAAAADwPwAAAAAAAPA/AAAAAAAA8D/JRCQJGdPvP+t2nFEWZO8/Eu5RgvHq7T93qNwSa9PqP1ILosNdCuc/18CxXAym4z/kC4LsX1bgPxvYLLs/f9s/ss853Y3m2j/zpQSn2ivZPxEl1YthVtY/DJHEuigB0z8Dh3pgkn/RPxlrPfiHfdA/vHgNAqhZzz/YvKq8m1rMPzkMKz41+8k/+nd0Cyuexj+WoUQbOp3EP/D+ki836cE/v+xf17MUwT/q9tYXXce/P1t499cHUr4/QioRGUCavD8KFwj1/5G6P4VNAhLXILc/FMy54LUCoj+mvMtAFlGgP2R0RbcJ04E/v5liY4C3dj+StKSKxqjxPpK0pIrGqPE+",
          "dtype": "f8"
         }
        },
        {
         "customdata": {
          "bdata": "AAAAAABkqUAAAAAAAGSpQAAAAAAAZKlAAAAAAABkqUAAAAAAAGSpQAAAAAAAZKlAAAAAAABkqUAAAAAAAGSpQAAAAAAAZKlAAAAAAABkqUAAAAAAAGSpQAAAAAAAZKlAAAAAAABkqUAAAAAAAGSpQAAAAAAAZKlAAAAAAABkqUAAAAAAAGSpQAAAAAAAZKlAAAAAAABkqUAAAAAAAGSpQAAAAAAAZKlAAAAAAABkqUAAAAAAAGSpQAAAAAAAZKlAAAAAAABkqUAAAAAAAGSpQAAAAAAAZKlAAAAAAABkqUAAAAAAAGSpQAAAAAAAZKlAAAAAAABkqUAAAAAAAGSpQAAAAAAAZKlAAAAAAABkqUAAAAAAAGSpQAAAAAAAZKlAAAAAAABkqUAAAAAAAGSpQAAAAAAAZKlAAAAAAABkqUAAAAAAAGSpQAAAAAAAZKlAAAAAAABkqUAAAAAAAGSpQAAAAAAAZKlAAAAAAABkqUAAAAAAAGSpQAAAAAAAZKlA",
          "dtype": "f8",
          "shape": "48, 1"
         },
         "hovertemplate": "<b>Time Step:</b> %{x}<br><b>Budget Left Ratio:</b> %{y:.3f}<br><b>Budget:</b> %{customdata[0]:.0f}<br><extra></extra>",
         "line": {
          "color": "rgb(236, 248, 226)",
          "width": 1.5
         },
         "mode": "lines",
         "opacity": 0.35,
         "showlegend": false,
         "type": "scatter",
         "x": {
          "bdata": "AAECAwQFBgcICQoLDA0ODxAREhMUFRYXGBkaGxwdHh8gISIjJCUmJygpKissLS4v",
          "dtype": "i1"
         },
         "y": {
          "bdata": "ZrIX8Jep7z9YzBBgl1/vPzTx7i5IUO8/El6BjstP7z9v2Ue+qUrvP2/ZR76pSu8/rfQBTBFK7z+t9AFMEUrvP630AUwRSu8/rfQBTBFK7z+t9AFMEUrvP630AUwRSu8/rfQBTBFK7z+t9AFMEUrvP630AUwRSu8/rfQBTBFK7z/H8H8LxqjuPych/zbKpO0/w/jC4P8g6j/3udc9PLzlP6/Q0WUWSOM/NTKI9pTy4D99hf4wjqzbPyU4G7UM+9M/JTgbtQz70z8lOBu1DPvTPyU4G7UM+9M/JTgbtQz70z8lOBu1DPvTPyU4G7UM+9M/JTgbtQz70z8lOBu1DPvTP57v9UAXLNI/C1xmGBkgzz+RFvVFhMHNP1k1vRt2mcw/oW2yB7DOyz/e/AUutszHP9jyAIFPo78/VqX3cWrNtj9Wpfdxas22P1al93FqzbY/VqX3cWrNtj9yowWCZMq2PwA7gp60yLY/oIOGDRejtj9kH3zP6Z+2PzWZ8lIbBrY/",
          "dtype": "f8"
         }
        },
        {
         "customdata": {
          "bdata": "AAAAAABAn0AAAAAAAECfQAAAAAAAQJ9AAAAAAABAn0AAAAAAAECfQAAAAAAAQJ9AAAAAAABAn0AAAAAAAECfQAAAAAAAQJ9AAAAAAABAn0AAAAAAAECfQAAAAAAAQJ9AAAAAAABAn0AAAAAAAECfQAAAAAAAQJ9AAAAAAABAn0AAAAAAAECfQAAAAAAAQJ9AAAAAAABAn0AAAAAAAECfQAAAAAAAQJ9AAAAAAABAn0AAAAAAAECfQAAAAAAAQJ9AAAAAAABAn0AAAAAAAECfQAAAAAAAQJ9AAAAAAABAn0AAAAAAAECfQAAAAAAAQJ9AAAAAAABAn0AAAAAAAECfQAAAAAAAQJ9AAAAAAABAn0AAAAAAAECfQAAAAAAAQJ9AAAAAAABAn0AAAAAAAECfQAAAAAAAQJ9AAAAAAABAn0AAAAAAAECfQAAAAAAAQJ9AAAAAAABAn0AAAAAAAECfQAAAAAAAQJ9AAAAAAABAn0AAAAAAAECfQAAAAAAAQJ9A",
          "dtype": "f8",
          "shape": "48, 1"
         },
         "hovertemplate": "<b>Time Step:</b> %{x}<br><b>Budget Left Ratio:</b> %{y:.3f}<br><b>Budget:</b> %{customdata[0]:.0f}<br><extra></extra>",
         "line": {
          "color": "rgb(49, 54, 149)",
          "width": 1.5
         },
         "mode": "lines",
         "opacity": 0.35,
         "showlegend": false,
         "type": "scatter",
         "x": {
          "bdata": "AAECAwQFBgcICQoLDA0ODxAREhMUFRYXGBkaGxwdHh8gISIjJCUmJygpKissLS4v",
          "dtype": "i1"
         },
         "y": {
          "bdata": "AAAAAAAA8D8AAAAAAADwPwAAAAAAAPA/iHXsTKf/7z+IdexMp//vP4h17Eyn/+8/iHXsTKf/7z+IdexMp//vP4h17Eyn/+8/iHXsTKf/7z+IdexMp//vP4h17Eyn/+8/iHXsTKf/7z+IdexMp//vP4h17Eyn/+8/iHXsTKf/7z+IdexMp//vP4h17Eyn/+8/iHXsTKf/7z+IdexMp//vP4h17Eyn/+8/iHXsTKf/7z+IdexMp//vP4h17Eyn/+8/iHXsTKf/7z+IdexMp//vP4h17Eyn/+8/iHXsTKf/7z+IdexMp//vP4h17Eyn/+8/iHXsTKf/7z+HS1Pmdv/vP46MdNn43O8/AL97MMJ17z/aqRuHRaXuPzUlwSRUv+0/gq6gEvwt7D9pjveIri3rP/Cv19FTw+k/qmmosKtl6D+k5AjvwwHiPwoUKM2Do9M/J1FOE35esD8Sg0Dg0DzxPhKDQODQPPE+EoNA4NA88T4Sg0Dg0DzxPhKDQODQPPE+",
          "dtype": "f8"
         }
        },
        {
         "customdata": {
          "bdata": "AAAAAABAn0AAAAAAAECfQAAAAAAAQJ9AAAAAAABAn0AAAAAAAECfQAAAAAAAQJ9AAAAAAABAn0AAAAAAAECfQAAAAAAAQJ9AAAAAAABAn0AAAAAAAECfQAAAAAAAQJ9AAAAAAABAn0AAAAAAAECfQAAAAAAAQJ9AAAAAAABAn0AAAAAAAECfQAAAAAAAQJ9AAAAAAABAn0AAAAAAAECfQAAAAAAAQJ9AAAAAAABAn0AAAAAAAECfQAAAAAAAQJ9AAAAAAABAn0AAAAAAAECfQAAAAAAAQJ9AAAAAAABAn0AAAAAAAECfQAAAAAAAQJ9AAAAAAABAn0AAAAAAAECfQAAAAAAAQJ9AAAAAAABAn0AAAAAAAECfQAAAAAAAQJ9AAAAAAABAn0AAAAAAAECfQAAAAAAAQJ9AAAAAAABAn0AAAAAAAECfQAAAAAAAQJ9AAAAAAABAn0AAAAAAAECfQAAAAAAAQJ9AAAAAAABAn0AAAAAAAECfQAAAAAAAQJ9A",
          "dtype": "f8",
          "shape": "48, 1"
         },
         "hovertemplate": "<b>Time Step:</b> %{x}<br><b>Budget Left Ratio:</b> %{y:.3f}<br><b>Budget:</b> %{customdata[0]:.0f}<br><extra></extra>",
         "line": {
          "color": "rgb(49, 54, 149)",
          "width": 1.5
         },
         "mode": "lines",
         "opacity": 0.35,
         "showlegend": false,
         "type": "scatter",
         "x": {
          "bdata": "AAECAwQFBgcICQoLDA0ODxAREhMUFRYXGBkaGxwdHh8gISIjJCUmJygpKissLS4v",
          "dtype": "i1"
         },
         "y": {
          "bdata": "ZcFskIfA7j+1ZqgRO5TuP66kMhuuIO4/kaRfDo8L7j+G9Bz8ms/tP6mAfuAruO0/uz7GlxOx7T9UUjNnuJTtP1RSM2e4lO0/VFIzZ7iU7T9UUjNnuJTtP1RSM2e4lO0/VFIzZ7iU7T9UUjNnuJTtP1RSM2e4lO0/VFIzZ7iU7T9UUjNnuJTtP1RSM2e4lO0/VFIzZ7iU7T8+gCSXHpTtP0QpGSnRk+0/917m3A2T7T+1LpGieJDtP+BaX717ee0/4FpfvXt57T/gWl+9e3ntP+BaX717ee0/4FpfvXt57T/gWl+9e3ntP+BaX717ee0/4FpfvXt57T/gWl+9e3ntP9uq7BU5X+w/uCz+z/4B6j9Z+lvAtUPmP5q83xoNa+I/K2Q9KY0z2j/BxtuIPynSPyk8rircq8Q/AAAca9AIoz9iACfBX3qiP3MwZXCBlaA/H0X70S6Ljj+4HoULo4nRPrgehQujidE+uB6FC6OJ0T64HoULo4nRPrgehQujidE+",
          "dtype": "f8"
         }
        },
        {
         "customdata": {
          "bdata": "AAAAAAA4qEAAAAAAADioQAAAAAAAOKhAAAAAAAA4qEAAAAAAADioQAAAAAAAOKhAAAAAAAA4qEAAAAAAADioQAAAAAAAOKhAAAAAAAA4qEAAAAAAADioQAAAAAAAOKhAAAAAAAA4qEAAAAAAADioQAAAAAAAOKhAAAAAAAA4qEAAAAAAADioQAAAAAAAOKhAAAAAAAA4qEAAAAAAADioQAAAAAAAOKhAAAAAAAA4qEAAAAAAADioQAAAAAAAOKhAAAAAAAA4qEAAAAAAADioQAAAAAAAOKhAAAAAAAA4qEAAAAAAADioQAAAAAAAOKhAAAAAAAA4qEAAAAAAADioQAAAAAAAOKhAAAAAAAA4qEAAAAAAADioQAAAAAAAOKhAAAAAAAA4qEAAAAAAADioQAAAAAAAOKhAAAAAAAA4qEAAAAAAADioQAAAAAAAOKhAAAAAAAA4qEAAAAAAADioQAAAAAAAOKhAAAAAAAA4qEAAAAAAADioQAAAAAAAOKhA",
          "dtype": "f8",
          "shape": "48, 1"
         },
         "hovertemplate": "<b>Time Step:</b> %{x}<br><b>Budget Left Ratio:</b> %{y:.3f}<br><b>Budget:</b> %{customdata[0]:.0f}<br><extra></extra>",
         "line": {
          "color": "rgb(217, 239, 246)",
          "width": 1.5
         },
         "mode": "lines",
         "opacity": 0.35,
         "showlegend": false,
         "type": "scatter",
         "x": {
          "bdata": "AAECAwQFBgcICQoLDA0ODxAREhMUFRYXGBkaGxwdHh8gISIjJCUmJygpKissLS4v",
          "dtype": "i1"
         },
         "y": {
          "bdata": "AAAAAAAA8D8AAAAAAADwP1JtuAST/+8/Um24BJP/7z9SbbgEk//vP1JtuAST/+8/Um24BJP/7z9SbbgEk//vPzcVBkwF/+8/NxUGTAX/7z+Yy1dBRvzvP6tJc6/T+u8/admz4Cr37z/jqr9mv+fvP56hdW5Dtu8/YzHnSkg37z+LgT8soi/vPw1WTcUDB+8/yJaIJvO07j/qGaWIA1PuP63EYAyo9uw/MfTSdaOa6T+BSVGWqavkP/aZSFyOuuA/9plIXI664D/2mUhcjrrgP/aZSFyOuuA/9plIXI664D/2mUhcjrrgP/aZSFyOuuA/9plIXI664D/2mUhcjrrgP1wTb2BhNN0/rNoR1Hks1T9XSDB46bXIPxFUdYyvMLk/a9sFgl9gsD8vvtwLVd6tP9Dv2DQT5X4/IPIF/o8U7z4g8gX+jxTvPiDyBf6PFO8+IPIF/o8U7z4g8gX+jxTvPiDyBf6PFO8+IPIF/o8U7z4g8gX+jxTvPiDyBf6PFO8+",
          "dtype": "f8"
         }
        },
        {
         "customdata": {
          "bdata": "AAAAAAD+sEAAAAAAAP6wQAAAAAAA/rBAAAAAAAD+sEAAAAAAAP6wQAAAAAAA/rBAAAAAAAD+sEAAAAAAAP6wQAAAAAAA/rBAAAAAAAD+sEAAAAAAAP6wQAAAAAAA/rBAAAAAAAD+sEAAAAAAAP6wQAAAAAAA/rBAAAAAAAD+sEAAAAAAAP6wQAAAAAAA/rBAAAAAAAD+sEAAAAAAAP6wQAAAAAAA/rBAAAAAAAD+sEAAAAAAAP6wQAAAAAAA/rBAAAAAAAD+sEAAAAAAAP6wQAAAAAAA/rBAAAAAAAD+sEAAAAAAAP6wQAAAAAAA/rBAAAAAAAD+sEAAAAAAAP6wQAAAAAAA/rBAAAAAAAD+sEAAAAAAAP6wQAAAAAAA/rBAAAAAAAD+sEAAAAAAAP6wQAAAAAAA/rBAAAAAAAD+sEAAAAAAAP6wQAAAAAAA/rBAAAAAAAD+sEAAAAAAAP6wQAAAAAAA/rBAAAAAAAD+sEAAAAAAAP6wQAAAAAAA/rBA",
          "dtype": "f8",
          "shape": "48, 1"
         },
         "hovertemplate": "<b>Time Step:</b> %{x}<br><b>Budget Left Ratio:</b> %{y:.3f}<br><b>Budget:</b> %{customdata[0]:.0f}<br><extra></extra>",
         "line": {
          "color": "rgb(237, 94, 60)",
          "width": 1.5
         },
         "mode": "lines",
         "opacity": 0.35,
         "showlegend": false,
         "type": "scatter",
         "x": {
          "bdata": "AAECAwQFBgcICQoLDA0ODxAREhMUFRYXGBkaGxwdHh8gISIjJCUmJygpKissLS4v",
          "dtype": "i1"
         },
         "y": {
          "bdata": "fUvKMpcI7j8iWSVSTo3tP7pO8TP6F+0/b4as9xPU7D9Yn37KGVLsP6XDadKd7Os/32ceiZep6z8QqGlKKm3rP1LHprJNa+s/doinI75p6z/A4XtOyUzrP+pyNz/17uo/o+IFcUZ16j9J3nLUBRbqP7dp2xgvmuk//NTkGTK06D/211Sor6PoP4fTh7qkwOc/2zjcfE8s5j9HLf+kqD3lP45kHv35++M/N8FPcU/44j/CFzMJ/OrhPx+eL2EI1+A/H54vYQjX4D9Lu0qnvdbgP0u7Sqe91uA/0zUuYaPW4D871dYNGNbgP39/gH/61eA/f3+Af/rV4D9QZqcW1dXgP1BmpxbV1eA/CJ38ILLV4D8InfwgstXgPwid/CCy1eA/CJ38ILLV4D8InfwgstXgPznVZsgU1OA/h3Tgqu3T4D8RcrDQmsvdP5XzkhAAmNo/IFIDsRIl1D+dsrcr5ePLP2yWhXcVd74/jz0U6JgQoT94+L9/10jgPnj4v3/XSOA+",
          "dtype": "f8"
         }
        },
        {
         "customdata": {
          "bdata": "AAAAAABAn0AAAAAAAECfQAAAAAAAQJ9AAAAAAABAn0AAAAAAAECfQAAAAAAAQJ9AAAAAAABAn0AAAAAAAECfQAAAAAAAQJ9AAAAAAABAn0AAAAAAAECfQAAAAAAAQJ9AAAAAAABAn0AAAAAAAECfQAAAAAAAQJ9AAAAAAABAn0AAAAAAAECfQAAAAAAAQJ9AAAAAAABAn0AAAAAAAECfQAAAAAAAQJ9AAAAAAABAn0AAAAAAAECfQAAAAAAAQJ9AAAAAAABAn0AAAAAAAECfQAAAAAAAQJ9AAAAAAABAn0AAAAAAAECfQAAAAAAAQJ9AAAAAAABAn0AAAAAAAECfQAAAAAAAQJ9AAAAAAABAn0AAAAAAAECfQAAAAAAAQJ9AAAAAAABAn0AAAAAAAECfQAAAAAAAQJ9AAAAAAABAn0AAAAAAAECfQAAAAAAAQJ9AAAAAAABAn0AAAAAAAECfQAAAAAAAQJ9AAAAAAABAn0AAAAAAAECfQAAAAAAAQJ9A",
          "dtype": "f8",
          "shape": "48, 1"
         },
         "hovertemplate": "<b>Time Step:</b> %{x}<br><b>Budget Left Ratio:</b> %{y:.3f}<br><b>Budget:</b> %{customdata[0]:.0f}<br><extra></extra>",
         "line": {
          "color": "rgb(49, 54, 149)",
          "width": 1.5
         },
         "mode": "lines",
         "opacity": 0.35,
         "showlegend": false,
         "type": "scatter",
         "x": {
          "bdata": "AAECAwQFBgcICQoLDA0ODxAREhMUFRYXGBkaGxwdHh8gISIjJCUmJygpKissLS4v",
          "dtype": "i1"
         },
         "y": {
          "bdata": "QwLIjaX67j9ugtxoe7HuPyOcY0egeu4/CQa+XxD57T9zu0oEVrftPzHiuCkJru0/XV1mSIaT7T9Pn8cC6YPtP6rewc9Wg+0/dSMxNKSA7T9uIpyxnH/tP9HVRZWLbO0/LsjPBCJm7T/S/N5ppl/tPwSD2L1mHO0/ou8FX9YK7T+i7wVf1grtP93iXFFkvuw/hyYRabyH7D+6MW1fjW7sP4RtLEJ5UOw/fms4T/eC6z+BKG8oTDnrPxPyRh0B0uo/E/JGHQHS6j8T8kYdAdLqPxPyRh0B0uo/E/JGHQHS6j8T8kYdAdLqPxPyRh0B0uo/E/JGHQHS6j8hXqMZzNHqP21rJ5dn3Og/n3qdglqe5z/R7nnxgCTmP1bzGU/bqOM/kw/9vLGu4D9/74qEkZPaP+P8et/QOdc/x+encfV1zz9WyomqNrbNP05W+HhRUME/PQpXAwzH8z49ClcDDMfzPj0KVwMMx/M+PQpXAwzH8z49ClcDDMfzPj0KVwMMx/M+",
          "dtype": "f8"
         }
        },
        {
         "customdata": {
          "bdata": "AAAAAAAEoEAAAAAAAASgQAAAAAAABKBAAAAAAAAEoEAAAAAAAASgQAAAAAAABKBAAAAAAAAEoEAAAAAAAASgQAAAAAAABKBAAAAAAAAEoEAAAAAAAASgQAAAAAAABKBAAAAAAAAEoEAAAAAAAASgQAAAAAAABKBAAAAAAAAEoEAAAAAAAASgQAAAAAAABKBAAAAAAAAEoEAAAAAAAASgQAAAAAAABKBAAAAAAAAEoEAAAAAAAASgQAAAAAAABKBAAAAAAAAEoEAAAAAAAASgQAAAAAAABKBAAAAAAAAEoEAAAAAAAASgQAAAAAAABKBAAAAAAAAEoEAAAAAAAASgQAAAAAAABKBAAAAAAAAEoEAAAAAAAASgQAAAAAAABKBAAAAAAAAEoEAAAAAAAASgQAAAAAAABKBAAAAAAAAEoEAAAAAAAASgQAAAAAAABKBAAAAAAAAEoEAAAAAAAASgQAAAAAAABKBAAAAAAAAEoEAAAAAAAASgQAAAAAAABKBA",
          "dtype": "f8",
          "shape": "48, 1"
         },
         "hovertemplate": "<b>Time Step:</b> %{x}<br><b>Budget Left Ratio:</b> %{y:.3f}<br><b>Budget:</b> %{customdata[0]:.0f}<br><extra></extra>",
         "line": {
          "color": "rgb(53, 65, 154)",
          "width": 1.5
         },
         "mode": "lines",
         "opacity": 0.35,
         "showlegend": false,
         "type": "scatter",
         "x": {
          "bdata": "AAECAwQFBgcICQoLDA0ODxAREhMUFRYXGBkaGxwdHh8gISIjJCUmJygpKissLS4v",
          "dtype": "i1"
         },
         "y": {
          "bdata": "AAAAAAAA8D8AAAAAAADwPwAAAAAAAPA/AAAAAAAA8D8AAAAAAADwPwAAAAAAAPA/AAAAAAAA8D8AAAAAAADwPwAAAAAAAPA/AAAAAAAA8D8AAAAAAADwPwAAAAAAAPA/AAAAAAAA8D8AAAAAAADwP3ARvt8H/+8/cBG+3wf/7z8wKeAfy7DtP32sgWyRYOo/CrxZZelU5z/0j6gFDR7jPw90VpSCStk/HNA3eWbwyz9RTUjRbC/BPyYmsU7Q26k/JiaxTtDbqT8mJrFO0NupPyYmsU7Q26k/JiaxTtDbqT8mJrFO0NupPyYmsU7Q26k/JiaxTtDbqT8mJrFO0NupP34J3A5Iyqk/zwUBvvqbpT/rlGrHZa2kP8AB34DMwp8/peuhoGVfkT9F7DRYQcyPPxG7QyIwn44/Ubtz6QeljT9Ru3PpB6WNP1G7c+kHpY0/HYtR3P9IjD8ggV3+smF2P8/DeLMJX2s/p2JxvFIBaD/oYJzdKqlZP3sVqsvNS/k+",
          "dtype": "f8"
         }
        },
        {
         "customdata": {
          "bdata": "AAAAAADUp0AAAAAAANSnQAAAAAAA1KdAAAAAAADUp0AAAAAAANSnQAAAAAAA1KdAAAAAAADUp0AAAAAAANSnQAAAAAAA1KdAAAAAAADUp0AAAAAAANSnQAAAAAAA1KdAAAAAAADUp0AAAAAAANSnQAAAAAAA1KdAAAAAAADUp0AAAAAAANSnQAAAAAAA1KdAAAAAAADUp0AAAAAAANSnQAAAAAAA1KdAAAAAAADUp0AAAAAAANSnQAAAAAAA1KdAAAAAAADUp0AAAAAAANSnQAAAAAAA1KdAAAAAAADUp0AAAAAAANSnQAAAAAAA1KdAAAAAAADUp0AAAAAAANSnQAAAAAAA1KdAAAAAAADUp0AAAAAAANSnQAAAAAAA1KdAAAAAAADUp0AAAAAAANSnQAAAAAAA1KdAAAAAAADUp0AAAAAAANSnQAAAAAAA1KdAAAAAAADUp0AAAAAAANSnQAAAAAAA1KdAAAAAAADUp0AAAAAAANSnQAAAAAAA1KdA",
          "dtype": "f8",
          "shape": "48, 1"
         },
         "hovertemplate": "<b>Time Step:</b> %{x}<br><b>Budget Left Ratio:</b> %{y:.3f}<br><b>Budget:</b> %{customdata[0]:.0f}<br><extra></extra>",
         "line": {
          "color": "rgb(207, 235, 243)",
          "width": 1.5
         },
         "mode": "lines",
         "opacity": 0.35,
         "showlegend": false,
         "type": "scatter",
         "x": {
          "bdata": "AAECAwQFBgcICQoLDA0ODxAREhMUFRYXGBkaGxwdHh8gISIjJCUmJygpKissLS4v",
          "dtype": "i1"
         },
         "y": {
          "bdata": "AAAAAAAA8D8AAAAAAADwPwAAAAAAAPA/AAAAAAAA8D8AAAAAAADwPwAAAAAAAPA/AAAAAAAA8D8AAAAAAADwPwAAAAAAAPA/AAAAAAAA8D8AAAAAAADwPwAAAAAAAPA/AAAAAAAA8D8AAAAAAADwPwAAAAAAAPA/cZa8y37/7z9xlrzLfv/vP3GWvMt+/+8/cZa8y37/7z9xlrzLfv/vP3GWvMt+/+8/cZa8y37/7z9xlrzLfv/vP3GWvMt+/+8/xOCOdkn/7z/rAOcUG//vP+sA5xQb/+8/hjxwiZT+7z+GPHCJlP7vP8CIn8Ja4+8/tY0beObV7z+uSfAzxsnvPzFbOO5OrO0/EFu0FJi06j/R0VEOYS7nP/QdDMReteQ/nYP8R91y4z+zR0Rfwa/hP9G0ZSS71t4/jtV/OWmF2j9OGm0IRvjRPz0BPac+6sM/eEHgicGUrT/AC5ISZfXePsALkhJl9d4+wAuSEmX13j7AC5ISZfXePsALkhJl9d4+",
          "dtype": "f8"
         }
        },
        {
         "customdata": {
          "bdata": "AAAAAABAn0AAAAAAAECfQAAAAAAAQJ9AAAAAAABAn0AAAAAAAECfQAAAAAAAQJ9AAAAAAABAn0AAAAAAAECfQAAAAAAAQJ9AAAAAAABAn0AAAAAAAECfQAAAAAAAQJ9AAAAAAABAn0AAAAAAAECfQAAAAAAAQJ9AAAAAAABAn0AAAAAAAECfQAAAAAAAQJ9AAAAAAABAn0AAAAAAAECfQAAAAAAAQJ9AAAAAAABAn0AAAAAAAECfQAAAAAAAQJ9AAAAAAABAn0AAAAAAAECfQAAAAAAAQJ9AAAAAAABAn0AAAAAAAECfQAAAAAAAQJ9AAAAAAABAn0AAAAAAAECfQAAAAAAAQJ9AAAAAAABAn0AAAAAAAECfQAAAAAAAQJ9AAAAAAABAn0AAAAAAAECfQAAAAAAAQJ9AAAAAAABAn0AAAAAAAECfQAAAAAAAQJ9AAAAAAABAn0AAAAAAAECfQAAAAAAAQJ9AAAAAAABAn0AAAAAAAECfQAAAAAAAQJ9A",
          "dtype": "f8",
          "shape": "48, 1"
         },
         "hovertemplate": "<b>Time Step:</b> %{x}<br><b>Budget Left Ratio:</b> %{y:.3f}<br><b>Budget:</b> %{customdata[0]:.0f}<br><extra></extra>",
         "line": {
          "color": "rgb(49, 54, 149)",
          "width": 1.5
         },
         "mode": "lines",
         "opacity": 0.35,
         "showlegend": false,
         "type": "scatter",
         "x": {
          "bdata": "AAECAwQFBgcICQoLDA0ODxAREhMUFRYXGBkaGxwdHh8gISIjJCUmJygpKissLS4v",
          "dtype": "i1"
         },
         "y": {
          "bdata": "Yn64vFmC7T9gPbQoOtfrP7/yq952COo/dlu8C0Ax6T/FFdHz9L/nPxnnWrXWEec/8FMriRVL5j9kf6mYMp3lPx1veWTBleU/7vuaGdqR5T/XUnKlBIjlP9xDZzyAEOU/IGsBN1jx4z9GcgXotxnjPxvxtxINp+E/z3zR7lhE4D/kDAQxNiLgP/5zR3hFCOA/i+V8c5i22j8CfHGKE+nWP2p01cRdqtQ/9urrgQy5yj8pIOQcQu3GPyvBlr0m5cI/K8GWvSblwj8rwZa9JuXCPyvBlr0m5cI/K8GWvSblwj8rwZa9JuXCPyvBlr0m5cI/K8GWvSblwj8rwZa9JuXCPwo3YibbisI/2bZCvnmDwj9zRJZnTnPCPx9PSdDjVsI/jWvaB+0ewj9Mcf9+yd3BP48wgNw4fME/z02Xb1dvwT8dWmQbOzfZPh1aZBs7N9k+HVpkGzs32T4dWmQbOzfZPh1aZBs7N9k+HVpkGzs32T4dWmQbOzfZPh1aZBs7N9k+",
          "dtype": "f8"
         }
        },
        {
         "customdata": {
          "bdata": "AAAAAABAn0AAAAAAAECfQAAAAAAAQJ9AAAAAAABAn0AAAAAAAECfQAAAAAAAQJ9AAAAAAABAn0AAAAAAAECfQAAAAAAAQJ9AAAAAAABAn0AAAAAAAECfQAAAAAAAQJ9AAAAAAABAn0AAAAAAAECfQAAAAAAAQJ9AAAAAAABAn0AAAAAAAECfQAAAAAAAQJ9AAAAAAABAn0AAAAAAAECfQAAAAAAAQJ9AAAAAAABAn0AAAAAAAECfQAAAAAAAQJ9AAAAAAABAn0AAAAAAAECfQAAAAAAAQJ9AAAAAAABAn0AAAAAAAECfQAAAAAAAQJ9AAAAAAABAn0AAAAAAAECfQAAAAAAAQJ9AAAAAAABAn0AAAAAAAECfQAAAAAAAQJ9AAAAAAABAn0AAAAAAAECfQAAAAAAAQJ9AAAAAAABAn0AAAAAAAECfQAAAAAAAQJ9AAAAAAABAn0AAAAAAAECfQAAAAAAAQJ9AAAAAAABAn0AAAAAAAECfQAAAAAAAQJ9A",
          "dtype": "f8",
          "shape": "48, 1"
         },
         "hovertemplate": "<b>Time Step:</b> %{x}<br><b>Budget Left Ratio:</b> %{y:.3f}<br><b>Budget:</b> %{customdata[0]:.0f}<br><extra></extra>",
         "line": {
          "color": "rgb(49, 54, 149)",
          "width": 1.5
         },
         "mode": "lines",
         "opacity": 0.35,
         "showlegend": false,
         "type": "scatter",
         "x": {
          "bdata": "AAECAwQFBgcICQoLDA0ODxAREhMUFRYXGBkaGxwdHh8gISIjJCUmJygpKissLS4v",
          "dtype": "i1"
         },
         "y": {
          "bdata": "AAAAAAAA8D8AAAAAAADwPwAAAAAAAPA/AAAAAAAA8D8AAAAAAADwPwAAAAAAAPA/AAAAAAAA8D8AAAAAAADwPwAAAAAAAPA/AAAAAAAA8D8AAAAAAADwPwAAAAAAAPA/AAAAAAAA8D8AAAAAAADwPwAAAAAAAPA/AAAAAAAA8D+A8QTyfSLvP26CkDZIzO0/RRtCNpYv7D+NQI+cNC/qPznQq8s95uQ/5cD95Rn93T8nsQ/VJ2nKPxkGxZXhH8A/mNDJM8EcwD+u/RpW1RrAP679GlbVGsA/9MHq1MIEwD9cY4HA1APAP1xjgcDUA8A/zVYUwNkCwD/NVhTA2QLAP+xVe3Ia2b8/j+r02RsCvj+N7wB/YaqjP1iZPqLsfpw/Na4yrAOpmz/H23ocJ5mYP4HFdvgCepc/j0JyMvsblz+PQnIy+xuXP49CcjL7G5c/XvrOO8CvlT8Cy7oxGZ+VP3/qx6WlipQ/CByoM1jNkz+DYC/bo5mLP9v5oN2o6Es/",
          "dtype": "f8"
         }
        },
        {
         "customdata": {
          "bdata": "AAAAAAAEsEAAAAAAAASwQAAAAAAABLBAAAAAAAAEsEAAAAAAAASwQAAAAAAABLBAAAAAAAAEsEAAAAAAAASwQAAAAAAABLBAAAAAAAAEsEAAAAAAAASwQAAAAAAABLBAAAAAAAAEsEAAAAAAAASwQAAAAAAABLBAAAAAAAAEsEAAAAAAAASwQAAAAAAABLBAAAAAAAAEsEAAAAAAAASwQAAAAAAABLBAAAAAAAAEsEAAAAAAAASwQAAAAAAABLBAAAAAAAAEsEAAAAAAAASwQAAAAAAABLBAAAAAAAAEsEAAAAAAAASwQAAAAAAABLBAAAAAAAAEsEAAAAAAAASwQAAAAAAABLBAAAAAAAAEsEAAAAAAAASwQAAAAAAABLBAAAAAAAAEsEAAAAAAAASwQAAAAAAABLBAAAAAAAAEsEAAAAAAAASwQAAAAAAABLBAAAAAAAAEsEAAAAAAAASwQAAAAAAABLBAAAAAAAAEsEAAAAAAAASwQAAAAAAABLBA",
          "dtype": "f8",
          "shape": "48, 1"
         },
         "hovertemplate": "<b>Time Step:</b> %{x}<br><b>Budget Left Ratio:</b> %{y:.3f}<br><b>Budget:</b> %{customdata[0]:.0f}<br><extra></extra>",
         "line": {
          "color": "rgb(250, 150, 86)",
          "width": 1.5
         },
         "mode": "lines",
         "opacity": 0.35,
         "showlegend": false,
         "type": "scatter",
         "x": {
          "bdata": "AAECAwQFBgcICQoLDA0ODxAREhMUFRYXGBkaGxwdHh8gISIjJCUmJygpKissLS4v",
          "dtype": "i1"
         },
         "y": {
          "bdata": "AAAAAAAA8D8AAAAAAADwPwAAAAAAAPA/AAAAAAAA8D8AAAAAAADwPwAAAAAAAPA/AAAAAAAA8D8AAAAAAADwPwAAAAAAAPA/AAAAAAAA8D8AAAAAAADwPwAAAAAAAPA/AAAAAAAA8D8AAAAAAADwPwAAAAAAAPA/AAAAAAAA8D9LQToI69PvP0mzmjD/ne8/C+LFLIT76z8p0r0EmX3pP3qfOK4U2ec/LL2Xixvr4j/wXyoGwbDaP1ARKtpGhtM/iniNNoa60j+JjNrfI0vSP/G8IIfeCtI/1XwJqtvp0D9/4wajy9DNPzQeobfesMk/bojKQrVWxD9/shLkNQLAP3+yEuQ1AsA/f7IS5DUCwD9/shLkNQLAP3+yEuQ1AsA/KVw57sEBwD8pXDnuwQHAPylcOe7BAcA/X0Uidj7cvz9Eb/bznJq+P0D/kXAaCrg/Fevla1egsT8KFkZRiWGuPw/E751wlqc/tieA6/N8nD+sURzOjXaMP4vU7JpWl4g/",
          "dtype": "f8"
         }
        },
        {
         "customdata": {
          "bdata": "AAAAAAAEoEAAAAAAAASgQAAAAAAABKBAAAAAAAAEoEAAAAAAAASgQAAAAAAABKBAAAAAAAAEoEAAAAAAAASgQAAAAAAABKBAAAAAAAAEoEAAAAAAAASgQAAAAAAABKBAAAAAAAAEoEAAAAAAAASgQAAAAAAABKBAAAAAAAAEoEAAAAAAAASgQAAAAAAABKBAAAAAAAAEoEAAAAAAAASgQAAAAAAABKBAAAAAAAAEoEAAAAAAAASgQAAAAAAABKBAAAAAAAAEoEAAAAAAAASgQAAAAAAABKBAAAAAAAAEoEAAAAAAAASgQAAAAAAABKBAAAAAAAAEoEAAAAAAAASgQAAAAAAABKBAAAAAAAAEoEAAAAAAAASgQAAAAAAABKBAAAAAAAAEoEAAAAAAAASgQAAAAAAABKBAAAAAAAAEoEAAAAAAAASgQAAAAAAABKBAAAAAAAAEoEAAAAAAAASgQAAAAAAABKBAAAAAAAAEoEAAAAAAAASgQAAAAAAABKBA",
          "dtype": "f8",
          "shape": "48, 1"
         },
         "hovertemplate": "<b>Time Step:</b> %{x}<br><b>Budget Left Ratio:</b> %{y:.3f}<br><b>Budget:</b> %{customdata[0]:.0f}<br><extra></extra>",
         "line": {
          "color": "rgb(53, 65, 154)",
          "width": 1.5
         },
         "mode": "lines",
         "opacity": 0.35,
         "showlegend": false,
         "type": "scatter",
         "x": {
          "bdata": "AAECAwQFBgcICQoLDA0ODxAREhMUFRYXGBkaGxwdHh8gISIjJCUmJygpKissLS4v",
          "dtype": "i1"
         },
         "y": {
          "bdata": "QJhgYc/+7z8E5UgFG9rvP4wAGf2/vO8/Zct8gkC47z8lbeUuGqXvPyVt5S4ape8/JW3lLhql7z8lbeUuGqXvPyVt5S4ape8/JW3lLhql7z8lbeUuGqXvPyVt5S4ape8/JW3lLhql7z8lbeUuGqXvPyVt5S4ape8/JW3lLhql7z8lbeUuGqXvPyVt5S4ape8/ZTqrHiGS7z/5zT9DJmPvP3x9zf70Mu8/91pndoAu7z+1CLXqQijvP2hLOzGV++4/pIqlaPkL7D86To1dh5boPx80Q42VYOU/YBSl6tbs4z/w2uhmSBHiP0KHUM7ZGeA/ies4OT4J3j+P7OJ0qizaP8D+xiJUVtk/oIlERPGH2D+wlpQDtqbVP7gWInUS/9A/YSpmu4mByT9w8Lj2udjHP2V7AjSUhMA//ghp5yocqz8D9StAeovkPgP1K0B6i+Q+A/UrQHqL5D4D9StAeovkPgP1K0B6i+Q+A/UrQHqL5D4D9StAeovkPgP1K0B6i+Q+",
          "dtype": "f8"
         }
        },
        {
         "customdata": {
          "bdata": "AAAAAABAn0AAAAAAAECfQAAAAAAAQJ9AAAAAAABAn0AAAAAAAECfQAAAAAAAQJ9AAAAAAABAn0AAAAAAAECfQAAAAAAAQJ9AAAAAAABAn0AAAAAAAECfQAAAAAAAQJ9AAAAAAABAn0AAAAAAAECfQAAAAAAAQJ9AAAAAAABAn0AAAAAAAECfQAAAAAAAQJ9AAAAAAABAn0AAAAAAAECfQAAAAAAAQJ9AAAAAAABAn0AAAAAAAECfQAAAAAAAQJ9AAAAAAABAn0AAAAAAAECfQAAAAAAAQJ9AAAAAAABAn0AAAAAAAECfQAAAAAAAQJ9AAAAAAABAn0AAAAAAAECfQAAAAAAAQJ9AAAAAAABAn0AAAAAAAECfQAAAAAAAQJ9AAAAAAABAn0AAAAAAAECfQAAAAAAAQJ9AAAAAAABAn0AAAAAAAECfQAAAAAAAQJ9AAAAAAABAn0AAAAAAAECfQAAAAAAAQJ9AAAAAAABAn0AAAAAAAECfQAAAAAAAQJ9A",
          "dtype": "f8",
          "shape": "48, 1"
         },
         "hovertemplate": "<b>Time Step:</b> %{x}<br><b>Budget Left Ratio:</b> %{y:.3f}<br><b>Budget:</b> %{customdata[0]:.0f}<br><extra></extra>",
         "line": {
          "color": "rgb(49, 54, 149)",
          "width": 1.5
         },
         "mode": "lines",
         "opacity": 0.35,
         "showlegend": false,
         "type": "scatter",
         "x": {
          "bdata": "AAECAwQFBgcICQoLDA0ODxAREhMUFRYXGBkaGxwdHh8gISIjJCUmJygpKissLS4v",
          "dtype": "i1"
         },
         "y": {
          "bdata": "edHVvrf/7z950dW+t//vP+Lff5Jm/+8/4t9/kmb/7z/i33+SZv/vP+Lff5Jm/+8/4t9/kmb/7z/i33+SZv/vP+Lff5Jm/+8/AP4EBvz+7z8A/gQG/P7vPwD+BAb8/u8/PFje/7zw7z9SR8Bi3MjvP4mqcdCDyO8/S2nA7iaJ7z8u63niz6HuP8aNYbxATuw/Ck67idkF6j9kWlgUaE3oPzMkUxgr2uQ/yVy+aMXR4T9zhgqVfh3cP/oxeqGRXtY/7kZLpOKz0z93qkVFHevPP+5I4cN3674/ObRIe4VyCz85tEh7hXILPzm0SHuFcgs/ObRIe4VyCz85tEh7hXILPzm0SHuFcgs/ObRIe4VyCz85tEh7hXILPzm0SHuFcgs/ObRIe4VyCz85tEh7hXILPzm0SHuFcgs/ObRIe4VyCz85tEh7hXILPzm0SHuFcgs/ObRIe4VyCz85tEh7hXILPzm0SHuFcgs/ObRIe4VyCz85tEh7hXILPzm0SHuFcgs/",
          "dtype": "f8"
         }
        },
        {
         "customdata": {
          "bdata": "AAAAAADAskAAAAAAAMCyQAAAAAAAwLJAAAAAAADAskAAAAAAAMCyQAAAAAAAwLJAAAAAAADAskAAAAAAAMCyQAAAAAAAwLJAAAAAAADAskAAAAAAAMCyQAAAAAAAwLJAAAAAAADAskAAAAAAAMCyQAAAAAAAwLJAAAAAAADAskAAAAAAAMCyQAAAAAAAwLJAAAAAAADAskAAAAAAAMCyQAAAAAAAwLJAAAAAAADAskAAAAAAAMCyQAAAAAAAwLJAAAAAAADAskAAAAAAAMCyQAAAAAAAwLJAAAAAAADAskAAAAAAAMCyQAAAAAAAwLJAAAAAAADAskAAAAAAAMCyQAAAAAAAwLJAAAAAAADAskAAAAAAAMCyQAAAAAAAwLJAAAAAAADAskAAAAAAAMCyQAAAAAAAwLJAAAAAAADAskAAAAAAAMCyQAAAAAAAwLJAAAAAAADAskAAAAAAAMCyQAAAAAAAwLJAAAAAAADAskAAAAAAAMCyQAAAAAAAwLJA",
          "dtype": "f8",
          "shape": "48, 1"
         },
         "hovertemplate": "<b>Time Step:</b> %{x}<br><b>Budget Left Ratio:</b> %{y:.3f}<br><b>Budget:</b> %{customdata[0]:.0f}<br><extra></extra>",
         "line": {
          "color": "rgb(174, 8, 38)",
          "width": 1.5
         },
         "mode": "lines",
         "opacity": 0.35,
         "showlegend": false,
         "type": "scatter",
         "x": {
          "bdata": "AAECAwQFBgcICQoLDA0ODxAREhMUFRYXGBkaGxwdHh8gISIjJCUmJygpKissLS4v",
          "dtype": "i1"
         },
         "y": {
          "bdata": "AAAAAAAA8D8AAAAAAADwPwAAAAAAAPA/AAAAAAAA8D8AAAAAAADwPwAAAAAAAPA/AAAAAAAA8D8AAAAAAADwP/leMd6J0u8/Ak1iJDxm7z/gLSTCu03uP8ShjVQC5Ow/49itG7ic6z9Mu8wcbr3pP44SoSKAd+c/db0Tixl55T/o95+jIF7lP83njtmNEuM//EIR8saQ4j8JmkJZBrDfP0mwOGqE69o/V5KBd0a92D8zHQP6VNXVPxRECLVZMdM/XIOcfsVX0D/J0DSDjh7KP1yFOxDvhsM/Y90Rlivpvz8wOnvsADW6Pw5k85EYCbM/mhn98Eq9rD/UfmcL8ACnP+V3SXBb5aY/aqPGD53Xpj8OzFYBBr6mP/LjvO98Z6Y/3tVhzr0tpT8sIbKcA8KjPyzhotukpaM/KfwGPc5Wnz8p/AY9zlafPyn8Bj3OVp8/KfwGPc5Wnz8p/AY9zlafPyn8Bj3OVp8/KfwGPc5Wnz8p/AY9zlafPyn8Bj3OVp8/",
          "dtype": "f8"
         }
        },
        {
         "customdata": {
          "bdata": "AAAAAADAskAAAAAAAMCyQAAAAAAAwLJAAAAAAADAskAAAAAAAMCyQAAAAAAAwLJAAAAAAADAskAAAAAAAMCyQAAAAAAAwLJAAAAAAADAskAAAAAAAMCyQAAAAAAAwLJAAAAAAADAskAAAAAAAMCyQAAAAAAAwLJAAAAAAADAskAAAAAAAMCyQAAAAAAAwLJAAAAAAADAskAAAAAAAMCyQAAAAAAAwLJAAAAAAADAskAAAAAAAMCyQAAAAAAAwLJAAAAAAADAskAAAAAAAMCyQAAAAAAAwLJAAAAAAADAskAAAAAAAMCyQAAAAAAAwLJAAAAAAADAskAAAAAAAMCyQAAAAAAAwLJAAAAAAADAskAAAAAAAMCyQAAAAAAAwLJAAAAAAADAskAAAAAAAMCyQAAAAAAAwLJAAAAAAADAskAAAAAAAMCyQAAAAAAAwLJAAAAAAADAskAAAAAAAMCyQAAAAAAAwLJAAAAAAADAskAAAAAAAMCyQAAAAAAAwLJA",
          "dtype": "f8",
          "shape": "48, 1"
         },
         "hovertemplate": "<b>Time Step:</b> %{x}<br><b>Budget Left Ratio:</b> %{y:.3f}<br><b>Budget:</b> %{customdata[0]:.0f}<br><extra></extra>",
         "line": {
          "color": "rgb(174, 8, 38)",
          "width": 1.5
         },
         "mode": "lines",
         "opacity": 0.35,
         "showlegend": false,
         "type": "scatter",
         "x": {
          "bdata": "AAECAwQFBgcICQoLDA0ODxAREhMUFRYXGBkaGxwdHh8gISIjJCUmJygpKissLS4v",
          "dtype": "i1"
         },
         "y": {
          "bdata": "pKs61e9J7z/yj4N8wEjvP8teIj20Qe8/aEaPPyg+7z/+BIPh7DXvP5HFGn7lM+8/2kEsImMu7z/UGvgbuynvPwPC+Q2LKe8/A8L5DYsp7z8DwvkNiynvP6D58ktgKe8/oPnyS2Ap7z+g+fJLYCnvP2CpcwmPKO8/bX4yd0Mo7z+99ubM+fXuP4NkatjtSe4/jJmn/MzG7T9NN00dVODsP/sXp0XD4+s/iMKg4DzQ6T+Y9SqISZPmP9SHjTONFeQ/1IeNM40V5D/Uh40zjRXkP9SHjTONFeQ/1IeNM40V5D/Uh40zjRXkP9SHjTONFeQ/1IeNM40V5D+p0T+HexXkP4CQXWuIsuM/IvEj4Oj74j9gPPBB0fThPywNVrZhAeE/QfrXRSNg3T9EWm4LB1nZP6SMG4mqgNM/ZkJUrc0bzD90vXZ5SN/LP35N15N0eMs/N0s3JxK0xT8Yxw/TJVu0P51u/ImH0Ks/xkK1OTInnz902kDu7AHlPnTaQO7sAeU+",
          "dtype": "f8"
         }
        },
        {
         "customdata": {
          "bdata": "AAAAAABAn0AAAAAAAECfQAAAAAAAQJ9AAAAAAABAn0AAAAAAAECfQAAAAAAAQJ9AAAAAAABAn0AAAAAAAECfQAAAAAAAQJ9AAAAAAABAn0AAAAAAAECfQAAAAAAAQJ9AAAAAAABAn0AAAAAAAECfQAAAAAAAQJ9AAAAAAABAn0AAAAAAAECfQAAAAAAAQJ9AAAAAAABAn0AAAAAAAECfQAAAAAAAQJ9AAAAAAABAn0AAAAAAAECfQAAAAAAAQJ9AAAAAAABAn0AAAAAAAECfQAAAAAAAQJ9AAAAAAABAn0AAAAAAAECfQAAAAAAAQJ9AAAAAAABAn0AAAAAAAECfQAAAAAAAQJ9AAAAAAABAn0AAAAAAAECfQAAAAAAAQJ9AAAAAAABAn0AAAAAAAECfQAAAAAAAQJ9AAAAAAABAn0AAAAAAAECfQAAAAAAAQJ9AAAAAAABAn0AAAAAAAECfQAAAAAAAQJ9AAAAAAABAn0AAAAAAAECfQAAAAAAAQJ9A",
          "dtype": "f8",
          "shape": "48, 1"
         },
         "hovertemplate": "<b>Time Step:</b> %{x}<br><b>Budget Left Ratio:</b> %{y:.3f}<br><b>Budget:</b> %{customdata[0]:.0f}<br><extra></extra>",
         "line": {
          "color": "rgb(49, 54, 149)",
          "width": 1.5
         },
         "mode": "lines",
         "opacity": 0.35,
         "showlegend": false,
         "type": "scatter",
         "x": {
          "bdata": "AAECAwQFBgcICQoLDA0ODxAREhMUFRYXGBkaGxwdHh8gISIjJCUmJygpKissLS4v",
          "dtype": "i1"
         },
         "y": {
          "bdata": "gKOhGesk7D9IUBBuJYPpP9URKmA3Quc/xB5EKHGY5T9hWd88jgTlPwrulysNUeQ/x+o9fjTQ4z+LSsQ1MWfjP4tKxDUxZ+M/i0rENTFn4z/fC3rPqWbjPyscwN4iZuM/WGLaKLJl4z9MyexNSmXjP/Zey/KeY+M/y/+nMoUz4z8M5RujWzLjPxDktkB5B+M/Ukf/qBHL4D+xlPFozyLgPyfZSRn8Zt4/daKk2kQG2z8Muap2pq7YP2h62cTSU9c/VInVdiPF1T+D00d/mzDUP8uYX8YCF9M/2eKoxpe20j9eL1mPar7RPyGYi/ZsE9A/MfSaD5pMzT9e1iSAurLBP76bwyVYsME/+gLfMHagwT+N28ZQuJzBPyexwcgmjME/Vmq7htVywT/BaMDnwkXBP9/7MYrbOsE/PWgKp6Y3wT89aAqnpjfBPykYJmvAMME/Gz8o+I0FwT/j/Zkdpae+P+OV3ynEFLw/b5amIFDgtz9MQ/MvAwizP6JNwCJNX7I/",
          "dtype": "f8"
         }
        },
        {
         "customdata": {
          "bdata": "AAAAAACasEAAAAAAAJqwQAAAAAAAmrBAAAAAAACasEAAAAAAAJqwQAAAAAAAmrBAAAAAAACasEAAAAAAAJqwQAAAAAAAmrBAAAAAAACasEAAAAAAAJqwQAAAAAAAmrBAAAAAAACasEAAAAAAAJqwQAAAAAAAmrBAAAAAAACasEAAAAAAAJqwQAAAAAAAmrBAAAAAAACasEAAAAAAAJqwQAAAAAAAmrBAAAAAAACasEAAAAAAAJqwQAAAAAAAmrBAAAAAAACasEAAAAAAAJqwQAAAAAAAmrBAAAAAAACasEAAAAAAAJqwQAAAAAAAmrBAAAAAAACasEAAAAAAAJqwQAAAAAAAmrBAAAAAAACasEAAAAAAAJqwQAAAAAAAmrBAAAAAAACasEAAAAAAAJqwQAAAAAAAmrBAAAAAAACasEAAAAAAAJqwQAAAAAAAmrBAAAAAAACasEAAAAAAAJqwQAAAAAAAmrBAAAAAAACasEAAAAAAAJqwQAAAAAAAmrBA",
          "dtype": "f8",
          "shape": "48, 1"
         },
         "hovertemplate": "<b>Time Step:</b> %{x}<br><b>Budget Left Ratio:</b> %{y:.3f}<br><b>Budget:</b> %{customdata[0]:.0f}<br><extra></extra>",
         "line": {
          "color": "rgb(245, 116, 70)",
          "width": 1.5
         },
         "mode": "lines",
         "opacity": 0.35,
         "showlegend": false,
         "type": "scatter",
         "x": {
          "bdata": "AAECAwQFBgcICQoLDA0ODxAREhMUFRYXGBkaGxwdHh8gISIjJCUmJygpKissLS4v",
          "dtype": "i1"
         },
         "y": {
          "bdata": "AAAAAAAA8D8AAAAAAADwPwAAAAAAAPA/AAAAAAAA8D8AAAAAAADwPwAAAAAAAPA/AAAAAAAA8D8AAAAAAADwPwAAAAAAAPA/AAAAAAAA8D8AAAAAAADwPwAAAAAAAPA/AAAAAAAA8D8AAAAAAADwPwAAAAAAAPA/AAAAAAAA8D97vNMpVajsP1EDaEcT4Og/KbkxDSik5T+nuMRi5MjiPzkvYTQD2t4/BxPV3wYS2D9jPBwVyNPRPzkIYeB/tco/OQhh4H+1yj9P9YhusqnKPxtF7H6Qv8k/G0XsfpC/yT8vExKNJVXJP5ncPJfzDck/W5JZ12EvyD8blMdF2B3HP5OM4aJDoMA/yMqm2JSuuj8gohipNQe4P0YxLelRj7Y/8Zw8bCaAsD/6iEznQsupP6YMKdOYLKE/3b0eRPGVmD/dvR5E8ZWYP2kChN3/iZg/5saX23Krlz+yNnZpO/+VP+Lh6R5BhpU/m+LD/qB60z6b4sP+oHrTPpviw/6getM+",
          "dtype": "f8"
         }
        },
        {
         "customdata": {
          "bdata": "AAAAAAAEoEAAAAAAAASgQAAAAAAABKBAAAAAAAAEoEAAAAAAAASgQAAAAAAABKBAAAAAAAAEoEAAAAAAAASgQAAAAAAABKBAAAAAAAAEoEAAAAAAAASgQAAAAAAABKBAAAAAAAAEoEAAAAAAAASgQAAAAAAABKBAAAAAAAAEoEAAAAAAAASgQAAAAAAABKBAAAAAAAAEoEAAAAAAAASgQAAAAAAABKBAAAAAAAAEoEAAAAAAAASgQAAAAAAABKBAAAAAAAAEoEAAAAAAAASgQAAAAAAABKBAAAAAAAAEoEAAAAAAAASgQAAAAAAABKBAAAAAAAAEoEAAAAAAAASgQAAAAAAABKBAAAAAAAAEoEAAAAAAAASgQAAAAAAABKBAAAAAAAAEoEAAAAAAAASgQAAAAAAABKBAAAAAAAAEoEAAAAAAAASgQAAAAAAABKBAAAAAAAAEoEAAAAAAAASgQAAAAAAABKBAAAAAAAAEoEAAAAAAAASgQAAAAAAABKBA",
          "dtype": "f8",
          "shape": "48, 1"
         },
         "hovertemplate": "<b>Time Step:</b> %{x}<br><b>Budget Left Ratio:</b> %{y:.3f}<br><b>Budget:</b> %{customdata[0]:.0f}<br><extra></extra>",
         "line": {
          "color": "rgb(53, 65, 154)",
          "width": 1.5
         },
         "mode": "lines",
         "opacity": 0.35,
         "showlegend": false,
         "type": "scatter",
         "x": {
          "bdata": "AAECAwQFBgcICQoLDA0ODxAREhMUFRYXGBkaGxwdHh8gISIjJCUmJygpKissLS4v",
          "dtype": "i1"
         },
         "y": {
          "bdata": "zBGKus3+7z+X3yIuT9XvP8yMVaFwt+8/3S9y8S+y7z8gbqIlDqLvPyBuoiUOou8/IG6iJQ6i7z8gbqIlDqLvPyBuoiUOou8/IG6iJQ6i7z8gbqIlDqLvPyBuoiUOou8/IG6iJQ6i7z8gbqIlDqLvPyBuoiUOou8/IG6iJQ6i7z8gbqIlDqLvPyBuoiUOou8/aHJhfqmR7z8efsfc537vPxB2dTK4c+8/HWujsP9y7z9tzeWKrnHvPyioPgcXce8/0wE0K9OE7j8HVS56s7DoP8gcgXu9zOU/HaAwo4lo5D8eOOXYM9HiP/N2MPMlqeA/VXwPrzpq3z9/+kHD0I7bPyaGSg66tdo/Lr4hUK/R2T+tKvtWtH/WP+hgQOguE9I/s0OSp0BOzT/MwOXF7KnLP6vyrAmYO8M/FgYQTvEPsT/E70YOyQ1yP07H4jDiS/I+TsfiMOJL8j5Ox+Iw4kvyPk7H4jDiS/I+TsfiMOJL8j5Ox+Iw4kvyPk7H4jDiS/I+",
          "dtype": "f8"
         }
        },
        {
         "customdata": {
          "bdata": "AAAAAAAEoEAAAAAAAASgQAAAAAAABKBAAAAAAAAEoEAAAAAAAASgQAAAAAAABKBAAAAAAAAEoEAAAAAAAASgQAAAAAAABKBAAAAAAAAEoEAAAAAAAASgQAAAAAAABKBAAAAAAAAEoEAAAAAAAASgQAAAAAAABKBAAAAAAAAEoEAAAAAAAASgQAAAAAAABKBAAAAAAAAEoEAAAAAAAASgQAAAAAAABKBAAAAAAAAEoEAAAAAAAASgQAAAAAAABKBAAAAAAAAEoEAAAAAAAASgQAAAAAAABKBAAAAAAAAEoEAAAAAAAASgQAAAAAAABKBAAAAAAAAEoEAAAAAAAASgQAAAAAAABKBAAAAAAAAEoEAAAAAAAASgQAAAAAAABKBAAAAAAAAEoEAAAAAAAASgQAAAAAAABKBAAAAAAAAEoEAAAAAAAASgQAAAAAAABKBAAAAAAAAEoEAAAAAAAASgQAAAAAAABKBAAAAAAAAEoEAAAAAAAASgQAAAAAAABKBA",
          "dtype": "f8",
          "shape": "48, 1"
         },
         "hovertemplate": "<b>Time Step:</b> %{x}<br><b>Budget Left Ratio:</b> %{y:.3f}<br><b>Budget:</b> %{customdata[0]:.0f}<br><extra></extra>",
         "line": {
          "color": "rgb(53, 65, 154)",
          "width": 1.5
         },
         "mode": "lines",
         "opacity": 0.35,
         "showlegend": false,
         "type": "scatter",
         "x": {
          "bdata": "AAECAwQFBgcICQoLDA0ODxAREhMUFRYXGBkaGxwdHh8gISIjJCUmJygpKissLS4v",
          "dtype": "i1"
         },
         "y": {
          "bdata": "9QEkL9nS7z9b2qWSzl3vPzIxVpk64u4/lKOQh4R37j/dGRpck9XtP8H9t0+wru0/AvLmag+b7T8MJ25RSHntP/nWiUIUc+0/imW2fKxf7T93qhvZviLtP0QATStoZuw/5fSTpFPt6T9ulSOGXQDpPyO33M3KDeY/iCC0AyVz4z939gXAaGjjP4mvqO705+I/pmicCtNa4j81u1tIQdLgPwMfaQ37luA/qEld98yI4D+ohaSwNlngPzr+I2MBOuA/5B5wybw11T9PhaBaZrTEP7gfgbsnWvA+uB+Buyda8D64H4G7J1rwPrgfgbsnWvA+uB+Buyda8D64H4G7J1rwPrgfgbsnWvA+uB+Buyda8D64H4G7J1rwPrgfgbsnWvA+uB+Buyda8D64H4G7J1rwPrgfgbsnWvA+uB+Buyda8D64H4G7J1rwPrgfgbsnWvA+uB+Buyda8D64H4G7J1rwPrgfgbsnWvA+uB+Buyda8D64H4G7J1rwPrgfgbsnWvA+",
          "dtype": "f8"
         }
        },
        {
         "customdata": {
          "bdata": "AAAAAAAEoEAAAAAAAASgQAAAAAAABKBAAAAAAAAEoEAAAAAAAASgQAAAAAAABKBAAAAAAAAEoEAAAAAAAASgQAAAAAAABKBAAAAAAAAEoEAAAAAAAASgQAAAAAAABKBAAAAAAAAEoEAAAAAAAASgQAAAAAAABKBAAAAAAAAEoEAAAAAAAASgQAAAAAAABKBAAAAAAAAEoEAAAAAAAASgQAAAAAAABKBAAAAAAAAEoEAAAAAAAASgQAAAAAAABKBAAAAAAAAEoEAAAAAAAASgQAAAAAAABKBAAAAAAAAEoEAAAAAAAASgQAAAAAAABKBAAAAAAAAEoEAAAAAAAASgQAAAAAAABKBAAAAAAAAEoEAAAAAAAASgQAAAAAAABKBAAAAAAAAEoEAAAAAAAASgQAAAAAAABKBAAAAAAAAEoEAAAAAAAASgQAAAAAAABKBAAAAAAAAEoEAAAAAAAASgQAAAAAAABKBAAAAAAAAEoEAAAAAAAASgQAAAAAAABKBA",
          "dtype": "f8",
          "shape": "48, 1"
         },
         "hovertemplate": "<b>Time Step:</b> %{x}<br><b>Budget Left Ratio:</b> %{y:.3f}<br><b>Budget:</b> %{customdata[0]:.0f}<br><extra></extra>",
         "line": {
          "color": "rgb(53, 65, 154)",
          "width": 1.5
         },
         "mode": "lines",
         "opacity": 0.35,
         "showlegend": false,
         "type": "scatter",
         "x": {
          "bdata": "AAECAwQFBgcICQoLDA0ODxAREhMUFRYXGBkaGxwdHh8gISIjJCUmJygpKissLS4v",
          "dtype": "i1"
         },
         "y": {
          "bdata": "AAAAAAAA8D8AAAAAAADwPwAAAAAAAPA/AAAAAAAA8D8AAAAAAADwPwAAAAAAAPA/AAAAAAAA8D8AAAAAAADwP511sD+o+u8/ygQaPTPm7z/Gc3Cync7vP+p7QT+Sue8/sUYI/A+E7z8Iz9I+RmDvP8xQeMANau4/ytjQ3+Lr7T/gUaJ7epDtP2Dp8rau8eo/BcKhl1EM6D9p4URG1jXkP9CPkEa6lNs/WVJud6PI0j9yqd2/VJLDP3kcHCzgcLA/4xTu1/BtsD/E8crNcGywP8Txys1wbLA/xPHKzXBssD/E8crNcGywP8Txys1wbLA/xPHKzXBssD/E8crNcGywP8Txys1wbLA/3okgh9xpsD9gQH8zZkmwP2uy0zXwFrA/b0KazZKdrj/j9GhV3ISuPzK3k5NiLKU/hezxViiMpD/DczysmB6kPy1M8OV++Z4/5PAizHvbmD9YoH514zPyPligfnXjM/I+WKB+deMz8j5YoH514zPyPligfnXjM/I+",
          "dtype": "f8"
         }
        },
        {
         "customdata": {
          "bdata": "AAAAAACopkAAAAAAAKimQAAAAAAAqKZAAAAAAACopkAAAAAAAKimQAAAAAAAqKZAAAAAAACopkAAAAAAAKimQAAAAAAAqKZAAAAAAACopkAAAAAAAKimQAAAAAAAqKZAAAAAAACopkAAAAAAAKimQAAAAAAAqKZAAAAAAACopkAAAAAAAKimQAAAAAAAqKZAAAAAAACopkAAAAAAAKimQAAAAAAAqKZAAAAAAACopkAAAAAAAKimQAAAAAAAqKZAAAAAAACopkAAAAAAAKimQAAAAAAAqKZAAAAAAACopkAAAAAAAKimQAAAAAAAqKZAAAAAAACopkAAAAAAAKimQAAAAAAAqKZAAAAAAACopkAAAAAAAKimQAAAAAAAqKZAAAAAAACopkAAAAAAAKimQAAAAAAAqKZAAAAAAACopkAAAAAAAKimQAAAAAAAqKZAAAAAAACopkAAAAAAAKimQAAAAAAAqKZAAAAAAACopkAAAAAAAKimQAAAAAAAqKZA",
          "dtype": "f8",
          "shape": "48, 1"
         },
         "hovertemplate": "<b>Time Step:</b> %{x}<br><b>Budget Left Ratio:</b> %{y:.3f}<br><b>Budget:</b> %{customdata[0]:.0f}<br><extra></extra>",
         "line": {
          "color": "rgb(179, 221, 235)",
          "width": 1.5
         },
         "mode": "lines",
         "opacity": 0.35,
         "showlegend": false,
         "type": "scatter",
         "x": {
          "bdata": "AAECAwQFBgcICQoLDA0ODxAREhMUFRYXGBkaGxwdHh8gISIjJCUmJygpKissLS4v",
          "dtype": "i1"
         },
         "y": {
          "bdata": "EoBkI0v+7z/gF0aExfnvP6UajuC3+O8/pRqO4Lf47z+lGo7gt/jvP6UajuC3+O8/pRqO4Lf47z+lGo7gt/jvP6UajuC3+O8/pRqO4Lf47z+lGo7gt/jvP6UajuC3+O8/pRqO4Lf47z+lGo7gt/jvP6UajuC3+O8/pRqO4Lf47z+lGo7gt/jvP6UajuC3+O8/5E17zv737z8H6ZNfyPPvPwfpk1/I8+8/+WehAOTt7z82N3JZi37vP6dcAla3Me8/p1wCVrcx7z+7QxlFhTHvP0OeOidQMe8/sUd8RxIx7z+xR3xHEjHvP7FHfEcSMe8/sUd8RxIx7z+xR3xHEjHvP7fXvp77Z+4/6wNOyHhF7D82AkYrnr7rP8Oo2mDuJes/E0Y2t7nK6T9357dLWBLoPy201CapluY/rpyXqm4E5T9BtT7bL2rjP0KZZQU9ReA/YSyUw/0Y1j/Y71/cP7zPP13VoydPWcc/K7tw5zXowD+1hq4FRWqqP2fv8gQTJec+",
          "dtype": "f8"
         }
        },
        {
         "customdata": {
          "bdata": "AAAAAACQqkAAAAAAAJCqQAAAAAAAkKpAAAAAAACQqkAAAAAAAJCqQAAAAAAAkKpAAAAAAACQqkAAAAAAAJCqQAAAAAAAkKpAAAAAAACQqkAAAAAAAJCqQAAAAAAAkKpAAAAAAACQqkAAAAAAAJCqQAAAAAAAkKpAAAAAAACQqkAAAAAAAJCqQAAAAAAAkKpAAAAAAACQqkAAAAAAAJCqQAAAAAAAkKpAAAAAAACQqkAAAAAAAJCqQAAAAAAAkKpAAAAAAACQqkAAAAAAAJCqQAAAAAAAkKpAAAAAAACQqkAAAAAAAJCqQAAAAAAAkKpAAAAAAACQqkAAAAAAAJCqQAAAAAAAkKpAAAAAAACQqkAAAAAAAJCqQAAAAAAAkKpAAAAAAACQqkAAAAAAAJCqQAAAAAAAkKpAAAAAAACQqkAAAAAAAJCqQAAAAAAAkKpAAAAAAACQqkAAAAAAAJCqQAAAAAAAkKpAAAAAAACQqkAAAAAAAJCqQAAAAAAAkKpA",
          "dtype": "f8",
          "shape": "48, 1"
         },
         "hovertemplate": "<b>Time Step:</b> %{x}<br><b>Budget Left Ratio:</b> %{y:.3f}<br><b>Budget:</b> %{customdata[0]:.0f}<br><extra></extra>",
         "line": {
          "color": "rgb(252, 254, 196)",
          "width": 1.5
         },
         "mode": "lines",
         "opacity": 0.35,
         "showlegend": false,
         "type": "scatter",
         "x": {
          "bdata": "AAECAwQFBgcICQoLDA0ODxAREhMUFRYXGBkaGxwdHh8gISIjJCUmJygpKissLS4v",
          "dtype": "i1"
         },
         "y": {
          "bdata": "AAAAAAAA8D8AAAAAAADwPwAAAAAAAPA/AAAAAAAA8D8AAAAAAADwPwAAAAAAAPA/AAAAAAAA8D8AAAAAAADwPwAAAAAAAPA/AAAAAAAA8D8AAAAAAADwPwAAAAAAAPA/AAAAAAAA8D8AAAAAAADwPwAAAAAAAPA/AAAAAAAA8D8AAAAAAADwPwAAAAAAAPA/AAAAAAAA8D8AAAAAAADwPwAAAAAAAPA/OmqOy83/7z86ao7Lzf/vP8moEh8u/+8/yagSHy7/7z/JqBIfLv/vP9Sy35YU/u8/Rd2d6d/y7z8kW6k7ke3vP+Ljqb1D0+8/frDMbkzL7z+1y2T9Y27vP86EagGfNu4/kmniZjGw7D+UQlVvE5/rPyDjKLnYpOo/gMdJa86w6T+FNNrwKdXoP7ULFEDIwec/kbcGrNpG5j9JdcZXVWTjP1L+opwwEd0/lC5qSmd20T8Ltr2z4dPEP61gmKgXCbM/FAecXwYfqj9xPQrrUszpPnE9CutSzOk+",
          "dtype": "f8"
         }
        },
        {
         "customdata": {
          "bdata": "AAAAAADAskAAAAAAAMCyQAAAAAAAwLJAAAAAAADAskAAAAAAAMCyQAAAAAAAwLJAAAAAAADAskAAAAAAAMCyQAAAAAAAwLJAAAAAAADAskAAAAAAAMCyQAAAAAAAwLJAAAAAAADAskAAAAAAAMCyQAAAAAAAwLJAAAAAAADAskAAAAAAAMCyQAAAAAAAwLJAAAAAAADAskAAAAAAAMCyQAAAAAAAwLJAAAAAAADAskAAAAAAAMCyQAAAAAAAwLJAAAAAAADAskAAAAAAAMCyQAAAAAAAwLJAAAAAAADAskAAAAAAAMCyQAAAAAAAwLJAAAAAAADAskAAAAAAAMCyQAAAAAAAwLJAAAAAAADAskAAAAAAAMCyQAAAAAAAwLJAAAAAAADAskAAAAAAAMCyQAAAAAAAwLJAAAAAAADAskAAAAAAAMCyQAAAAAAAwLJAAAAAAADAskAAAAAAAMCyQAAAAAAAwLJAAAAAAADAskAAAAAAAMCyQAAAAAAAwLJA",
          "dtype": "f8",
          "shape": "48, 1"
         },
         "hovertemplate": "<b>Time Step:</b> %{x}<br><b>Budget Left Ratio:</b> %{y:.3f}<br><b>Budget:</b> %{customdata[0]:.0f}<br><extra></extra>",
         "line": {
          "color": "rgb(174, 8, 38)",
          "width": 1.5
         },
         "mode": "lines",
         "opacity": 0.35,
         "showlegend": false,
         "type": "scatter",
         "x": {
          "bdata": "AAECAwQFBgcICQoLDA0ODxAREhMUFRYXGBkaGxwdHh8gISIjJCUmJygpKissLS4v",
          "dtype": "i1"
         },
         "y": {
          "bdata": "AAAAAAAA8D8AAAAAAADwPwAAAAAAAPA/AAAAAAAA8D8AAAAAAADwPwAAAAAAAPA/AAAAAAAA8D8AAAAAAADwPwAAAAAAAPA/AAAAAAAA8D8AAAAAAADwPwAAAAAAAPA/AAAAAAAA8D8AAAAAAADwPwAAAAAAAPA/AAAAAAAA8D8AAAAAAADwPwAAAAAAAPA/AAAAAAAA8D+OnKitLvbvP46cqK0u9u8/jpyorS727z/SxeAi9evvP6Dfqza05+8/OriPrePi7z8rbrsq2N/vP0sz5Fml3e8/nYxwwNzc7z+FVRiWHdDvP0hQz6Hnz+8/wTihDMbO7z+xi/uvhM3vP7GL+6+Eze8/sYv7r4TN7z+pYXCO/szvP+Fu1e7htO8/cVcsnamz7z8UYyy7U4fvPwk2uj+Nqe4/YxsMxDcw7T9BISEdISrsP2fEGruyCeo/24F9pVWF5j+oqWwdCejiPwUJb3VTh98/D1gKOatn2j8WhWSqSrrUPzPRItl/nc0/",
          "dtype": "f8"
         }
        },
        {
         "customdata": {
          "bdata": "AAAAAABooEAAAAAAAGigQAAAAAAAaKBAAAAAAABooEAAAAAAAGigQAAAAAAAaKBAAAAAAABooEAAAAAAAGigQAAAAAAAaKBAAAAAAABooEAAAAAAAGigQAAAAAAAaKBAAAAAAABooEAAAAAAAGigQAAAAAAAaKBAAAAAAABooEAAAAAAAGigQAAAAAAAaKBAAAAAAABooEAAAAAAAGigQAAAAAAAaKBAAAAAAABooEAAAAAAAGigQAAAAAAAaKBAAAAAAABooEAAAAAAAGigQAAAAAAAaKBAAAAAAABooEAAAAAAAGigQAAAAAAAaKBAAAAAAABooEAAAAAAAGigQAAAAAAAaKBAAAAAAABooEAAAAAAAGigQAAAAAAAaKBAAAAAAABooEAAAAAAAGigQAAAAAAAaKBAAAAAAABooEAAAAAAAGigQAAAAAAAaKBAAAAAAABooEAAAAAAAGigQAAAAAAAaKBAAAAAAABooEAAAAAAAGigQAAAAAAAaKBA",
          "dtype": "f8",
          "shape": "48, 1"
         },
         "hovertemplate": "<b>Time Step:</b> %{x}<br><b>Budget Left Ratio:</b> %{y:.3f}<br><b>Budget:</b> %{customdata[0]:.0f}<br><extra></extra>",
         "line": {
          "color": "rgb(56, 76, 160)",
          "width": 1.5
         },
         "mode": "lines",
         "opacity": 0.35,
         "showlegend": false,
         "type": "scatter",
         "x": {
          "bdata": "AAECAwQFBgcICQoLDA0ODxAREhMUFRYXGBkaGxwdHh8gISIjJCUmJygpKissLS4v",
          "dtype": "i1"
         },
         "y": {
          "bdata": "S6IGDz3/7z9o+kTysN/uPzsgAzNoie4/V/J96ZBk7j/iRo9deFnuP1Mt2PjmQ+4/HSSJS1NC7j+R3c498EHuP5Hdzj3wQe4/kd3OPfBB7j+R3c498EHuP5Hdzj3wQe4/kd3OPfBB7j+R3c498EHuP5Hdzj3wQe4/kd3OPfBB7j+R3c498EHuP5Hdzj3wQe4/kd3OPfBB7j+R3c498EHuP5Hdzj3wQe4/kd3OPfBB7j+R3c498EHuP5Hdzj3wQe4/kd3OPfBB7j+R3c498EHuP5Hdzj3wQe4/kd3OPfBB7j+R3c498EHuP5Hdzj3wQe4/kd3OPfBB7j+R3c498EHuPxT17wJjBu4/APDqCh+q7T9hH1ei1AfsP9b8wFDbqOs/pqJQ6xtR6z81aF1l+n/qP5dGRZppdug/EyU99tGh5j83dCrHQ5XdP3fo1ztGhNE/v/ANT53zyT/2aPp9dMm4P8VXfPurSvA+xVd8+6tK8D7FV3z7q0rwPsVXfPurSvA+",
          "dtype": "f8"
         }
        },
        {
         "customdata": {
          "bdata": "AAAAAABAn0AAAAAAAECfQAAAAAAAQJ9AAAAAAABAn0AAAAAAAECfQAAAAAAAQJ9AAAAAAABAn0AAAAAAAECfQAAAAAAAQJ9AAAAAAABAn0AAAAAAAECfQAAAAAAAQJ9AAAAAAABAn0AAAAAAAECfQAAAAAAAQJ9AAAAAAABAn0AAAAAAAECfQAAAAAAAQJ9AAAAAAABAn0AAAAAAAECfQAAAAAAAQJ9AAAAAAABAn0AAAAAAAECfQAAAAAAAQJ9AAAAAAABAn0AAAAAAAECfQAAAAAAAQJ9AAAAAAABAn0AAAAAAAECfQAAAAAAAQJ9AAAAAAABAn0AAAAAAAECfQAAAAAAAQJ9AAAAAAABAn0AAAAAAAECfQAAAAAAAQJ9AAAAAAABAn0AAAAAAAECfQAAAAAAAQJ9AAAAAAABAn0AAAAAAAECfQAAAAAAAQJ9AAAAAAABAn0AAAAAAAECfQAAAAAAAQJ9AAAAAAABAn0AAAAAAAECfQAAAAAAAQJ9A",
          "dtype": "f8",
          "shape": "48, 1"
         },
         "hovertemplate": "<b>Time Step:</b> %{x}<br><b>Budget Left Ratio:</b> %{y:.3f}<br><b>Budget:</b> %{customdata[0]:.0f}<br><extra></extra>",
         "line": {
          "color": "rgb(49, 54, 149)",
          "width": 1.5
         },
         "mode": "lines",
         "opacity": 0.35,
         "showlegend": false,
         "type": "scatter",
         "x": {
          "bdata": "AAECAwQFBgcICQoLDA0ODxAREhMUFRYXGBkaGxwdHh8gISIjJCUmJygpKissLS4v",
          "dtype": "i1"
         },
         "y": {
          "bdata": "zjvbGMfv7z9INvzulOXvP8Sgf7/Uze8/P4FfuLS17z/HTPLhWa/vP45c+8P5ru8/caTrB7uh7z9xpOsHu6HvPzHktfJsoe8/MeS18myh7z/e6fAiF6DvP97p8CIXoO8/Ml8Dl7uf7z8yXwOXu5/vPzJfA5e7n+8/Ml8Dl7uf7z/5s7dUyhXvPyyONzXykus/8L5ZRr5o5j9vCJOQr7zgP2h7Layp69Y/IWagdX0ryD/yrtQYsvXAP0YmamIe0bY/f3qsN7C/tj+ue7hALqO2PwKXQT2Xf7Y/j5oKKGF+tj/Xwycg0B+2P/C/12KRArY/Meyma679tT8x7KZrrv21PzHspmuu/bU/Meyma679tT8x7KZrrv21PzHspmuu/bU/eywauiH7tT97LBq6Ifu1P1pU25zW9rU/Aq8EedD3tD/RDu16OSmwP3PAzkMyM6s/I5v2iL9LpT/TjVN1nlB7P9cjA1Ck+no/okWEvRVYcT8ZBBa2b5zwPhkEFrZvnPA+",
          "dtype": "f8"
         }
        },
        {
         "customdata": {
          "bdata": "AAAAAABwp0AAAAAAAHCnQAAAAAAAcKdAAAAAAABwp0AAAAAAAHCnQAAAAAAAcKdAAAAAAABwp0AAAAAAAHCnQAAAAAAAcKdAAAAAAABwp0AAAAAAAHCnQAAAAAAAcKdAAAAAAABwp0AAAAAAAHCnQAAAAAAAcKdAAAAAAABwp0AAAAAAAHCnQAAAAAAAcKdAAAAAAABwp0AAAAAAAHCnQAAAAAAAcKdAAAAAAABwp0AAAAAAAHCnQAAAAAAAcKdAAAAAAABwp0AAAAAAAHCnQAAAAAAAcKdAAAAAAABwp0AAAAAAAHCnQAAAAAAAcKdAAAAAAABwp0AAAAAAAHCnQAAAAAAAcKdAAAAAAABwp0AAAAAAAHCnQAAAAAAAcKdAAAAAAABwp0AAAAAAAHCnQAAAAAAAcKdAAAAAAABwp0AAAAAAAHCnQAAAAAAAcKdAAAAAAABwp0AAAAAAAHCnQAAAAAAAcKdAAAAAAABwp0AAAAAAAHCnQAAAAAAAcKdA",
          "dtype": "f8",
          "shape": "48, 1"
         },
         "hovertemplate": "<b>Time Step:</b> %{x}<br><b>Budget Left Ratio:</b> %{y:.3f}<br><b>Budget:</b> %{customdata[0]:.0f}<br><extra></extra>",
         "line": {
          "color": "rgb(198, 230, 241)",
          "width": 1.5
         },
         "mode": "lines",
         "opacity": 0.35,
         "showlegend": false,
         "type": "scatter",
         "x": {
          "bdata": "AAECAwQFBgcICQoLDA0ODxAREhMUFRYXGBkaGxwdHh8gISIjJCUmJygpKissLS4v",
          "dtype": "i1"
         },
         "y": {
          "bdata": "/IkfA7n/7z+2Eg9V4v7vP6LadRyM/e8/VTbRhEn97z8uI9q9p/zvP5U8Xi9H/O8/lTxeL0f87z+VPF4vR/zvP5U8Xi9H/O8/lTxeL0f87z+VPF4vR/zvP5U8Xi9H/O8/lTxeL0f87z+VPF4vR/zvP5U8Xi9H/O8/lTxeL0f87z9tlUJKjfHvP9gFHJ681+8/KN+S9pzR7z98meu4rc/vP66h+LOxvO8/3zx+N4ik7z8q2F3cBZ7vP9DwHQBpmu4/0PAdAGma7j/Q8B0AaZruP9DwHQBpmu4/0PAdAGma7j/Q8B0AaZruP9DwHQBpmu4/0PAdAGma7j/Q8B0AaZruP0hOwdPg0+w/EBtBCW8Z7D+EghARmyHqP6WWE/KCK+g/troKjl985D/zpJ7PJoXiP3MpPzzeGd8/RY2qHkju1D+v6ffc80DTPx9OV7qrfss/7FLZHQCywz/FebhZSZK2P8AR0mDx7q0/MgEzu0ZjlD/yiyVJ0KPuPvKLJUnQo+4+",
          "dtype": "f8"
         }
        },
        {
         "customdata": {
          "bdata": "AAAAAAAYpUAAAAAAABilQAAAAAAAGKVAAAAAAAAYpUAAAAAAABilQAAAAAAAGKVAAAAAAAAYpUAAAAAAABilQAAAAAAAGKVAAAAAAAAYpUAAAAAAABilQAAAAAAAGKVAAAAAAAAYpUAAAAAAABilQAAAAAAAGKVAAAAAAAAYpUAAAAAAABilQAAAAAAAGKVAAAAAAAAYpUAAAAAAABilQAAAAAAAGKVAAAAAAAAYpUAAAAAAABilQAAAAAAAGKVAAAAAAAAYpUAAAAAAABilQAAAAAAAGKVAAAAAAAAYpUAAAAAAABilQAAAAAAAGKVAAAAAAAAYpUAAAAAAABilQAAAAAAAGKVAAAAAAAAYpUAAAAAAABilQAAAAAAAGKVAAAAAAAAYpUAAAAAAABilQAAAAAAAGKVAAAAAAAAYpUAAAAAAABilQAAAAAAAGKVAAAAAAAAYpUAAAAAAABilQAAAAAAAGKVAAAAAAAAYpUAAAAAAABilQAAAAAAAGKVA",
          "dtype": "f8",
          "shape": "48, 1"
         },
         "hovertemplate": "<b>Time Step:</b> %{x}<br><b>Budget Left Ratio:</b> %{y:.3f}<br><b>Budget:</b> %{customdata[0]:.0f}<br><extra></extra>",
         "line": {
          "color": "rgb(141, 193, 220)",
          "width": 1.5
         },
         "mode": "lines",
         "opacity": 0.35,
         "showlegend": false,
         "type": "scatter",
         "x": {
          "bdata": "AAECAwQFBgcICQoLDA0ODxAREhMUFRYXGBkaGxwdHh8gISIjJCUmJygpKissLS4v",
          "dtype": "i1"
         },
         "y": {
          "bdata": "AAAAAAAA8D8AAAAAAADwPwAAAAAAAPA/AAAAAAAA8D8AAAAAAADwPwAAAAAAAPA/AAAAAAAA8D8AAAAAAADwPwAAAAAAAPA/AAAAAAAA8D8AAAAAAADwPwAAAAAAAPA/AAAAAAAA8D8AAAAAAADwPwAAAAAAAPA/AAAAAAAA8D8xOn9vq//vP2WaHHJX/e8/7XkpJm/87z+1bKKu8rnvP2uvbc37nO8/1XJt1tSH7z+HdL7/7hbvPx9RMmGzLu4/H1EyYbMu7j8fUTJhsy7uPx9RMmGzLu4/H1EyYbMu7j/16j6GWS7uP1lm7twjLe4/D8wW6Jso7j+WIMoeXCTuP3nKWDOFl+s/bODiTmMr5z9oEzJDSWvjPxD0CFKcIOA/lymiB/mM3D/7u0C7NSTYP5pBZERe/tI/ERkLtBOP0D9mgfXxZC/OPwjuN7DcK8E/kQsWXpywmj/eUmZykcySP0KGyuI26vc+QobK4jbq9z5ChsriNur3PkKGyuI26vc+",
          "dtype": "f8"
         }
        },
        {
         "customdata": {
          "bdata": "AAAAAACopkAAAAAAAKimQAAAAAAAqKZAAAAAAACopkAAAAAAAKimQAAAAAAAqKZAAAAAAACopkAAAAAAAKimQAAAAAAAqKZAAAAAAACopkAAAAAAAKimQAAAAAAAqKZAAAAAAACopkAAAAAAAKimQAAAAAAAqKZAAAAAAACopkAAAAAAAKimQAAAAAAAqKZAAAAAAACopkAAAAAAAKimQAAAAAAAqKZAAAAAAACopkAAAAAAAKimQAAAAAAAqKZAAAAAAACopkAAAAAAAKimQAAAAAAAqKZAAAAAAACopkAAAAAAAKimQAAAAAAAqKZAAAAAAACopkAAAAAAAKimQAAAAAAAqKZAAAAAAACopkAAAAAAAKimQAAAAAAAqKZAAAAAAACopkAAAAAAAKimQAAAAAAAqKZAAAAAAACopkAAAAAAAKimQAAAAAAAqKZAAAAAAACopkAAAAAAAKimQAAAAAAAqKZAAAAAAACopkAAAAAAAKimQAAAAAAAqKZA",
          "dtype": "f8",
          "shape": "48, 1"
         },
         "hovertemplate": "<b>Time Step:</b> %{x}<br><b>Budget Left Ratio:</b> %{y:.3f}<br><b>Budget:</b> %{customdata[0]:.0f}<br><extra></extra>",
         "line": {
          "color": "rgb(179, 221, 235)",
          "width": 1.5
         },
         "mode": "lines",
         "opacity": 0.35,
         "showlegend": false,
         "type": "scatter",
         "x": {
          "bdata": "AAECAwQFBgcICQoLDA0ODxAREhMUFRYXGBkaGxwdHh8gISIjJCUmJygpKissLS4v",
          "dtype": "i1"
         },
         "y": {
          "bdata": "jexyhwNX6z9dlSO5oDXqP8FZOslypOg/fJkow38F6D+7PjriGofnP51XuL2RR+c/k7Uya5nt5j++RRkMNZHmP7g+vv6MYuY/zYcRlXVG5j9yMJZDIe3lP5VbtEzvHuU/jkkroTgw5D92KGl5A2bjP0P7v1R9feI/aamX1+Ep4T9pqZfX4SnhP2mpl9fhKeE/tIm+7Bco4T+0ib7sFyjhP+T7g/eDJeE/3CdUzqEk4T/l0KjObCThP/8rwSQf6OA/xM9TUzy84D+44r1vZ8vfP6IQqvC3Ft4/vBAoL4/s2z9VlCftWB3YP0BujYe4GdM/2N+KXvBFyD95Qv3iNQ+7P2K/2FuEDbs/6FCQNaQKuz8Wdxk7GQW7P2keVOCxpbo/kMt6ttmguj+XhN57YYy6P0AC6/clfbo/ivW4HyxUuj8vLFaWiO65PxOlFa5xULc/CUukwT0yqj8gDniEiMXjPiAOeISIxeM+IA54hIjF4z4gDniEiMXjPiAOeISIxeM+",
          "dtype": "f8"
         }
        },
        {
         "customdata": {
          "bdata": "AAAAAABAn0AAAAAAAECfQAAAAAAAQJ9AAAAAAABAn0AAAAAAAECfQAAAAAAAQJ9AAAAAAABAn0AAAAAAAECfQAAAAAAAQJ9AAAAAAABAn0AAAAAAAECfQAAAAAAAQJ9AAAAAAABAn0AAAAAAAECfQAAAAAAAQJ9AAAAAAABAn0AAAAAAAECfQAAAAAAAQJ9AAAAAAABAn0AAAAAAAECfQAAAAAAAQJ9AAAAAAABAn0AAAAAAAECfQAAAAAAAQJ9AAAAAAABAn0AAAAAAAECfQAAAAAAAQJ9AAAAAAABAn0AAAAAAAECfQAAAAAAAQJ9AAAAAAABAn0AAAAAAAECfQAAAAAAAQJ9AAAAAAABAn0AAAAAAAECfQAAAAAAAQJ9AAAAAAABAn0AAAAAAAECfQAAAAAAAQJ9AAAAAAABAn0AAAAAAAECfQAAAAAAAQJ9AAAAAAABAn0AAAAAAAECfQAAAAAAAQJ9AAAAAAABAn0AAAAAAAECfQAAAAAAAQJ9A",
          "dtype": "f8",
          "shape": "48, 1"
         },
         "hovertemplate": "<b>Time Step:</b> %{x}<br><b>Budget Left Ratio:</b> %{y:.3f}<br><b>Budget:</b> %{customdata[0]:.0f}<br><extra></extra>",
         "line": {
          "color": "rgb(49, 54, 149)",
          "width": 1.5
         },
         "mode": "lines",
         "opacity": 0.35,
         "showlegend": false,
         "type": "scatter",
         "x": {
          "bdata": "AAECAwQFBgcICQoLDA0ODxAREhMUFRYXGBkaGxwdHh8gISIjJCUmJygpKissLS4v",
          "dtype": "i1"
         },
         "y": {
          "bdata": "2nXM2H2U7z+fKbfuFI3vP0Gs/F5scu8/Owk3aohE7z+qq76uMTjvP+6Ex6eKM+8/pWi3RREv7z++1vOtbynvPyglOsyXKO8/KCU6zJco7z8/B/j2mCfvPz8H+PaYJ+8/oaaJf0Mn7z+hpol/QyfvP6GmiX9DJ+8/oaaJf0Mn7z/94aTkM+/uP1FhQKf+bO4/nCoq0lZC7j+FV2Bs07ntP1QiHr4wEOs/47pCUhw46j8z39YVHFnpP1ersa1xAOc/V6uxrXEA5z9Xq7GtcQDnP1ersa1xAOc/V6uxrXEA5z9Xq7GtcQDnP1ersa1xAOc/V6uxrXEA5z9Xq7GtcQDnP1AebHdMp+Y/I7hkD+lc5j+kxmivmDvmPwEfCEibAOY/SqLR17G95T/nResTPKLlP1L2piYwaeU/7HDSb8I35T+G2zqQ3ILkP4BQI5jIg+M/8IGVzjpJ4D8O/FVWwN/aP8W8QQ2I18c/BiHhx4QllT+iRTZKy6H0PqJFNkrLofQ+",
          "dtype": "f8"
         }
        },
        {
         "customdata": {
          "bdata": "AAAAAABAn0AAAAAAAECfQAAAAAAAQJ9AAAAAAABAn0AAAAAAAECfQAAAAAAAQJ9AAAAAAABAn0AAAAAAAECfQAAAAAAAQJ9AAAAAAABAn0AAAAAAAECfQAAAAAAAQJ9AAAAAAABAn0AAAAAAAECfQAAAAAAAQJ9AAAAAAABAn0AAAAAAAECfQAAAAAAAQJ9AAAAAAABAn0AAAAAAAECfQAAAAAAAQJ9AAAAAAABAn0AAAAAAAECfQAAAAAAAQJ9AAAAAAABAn0AAAAAAAECfQAAAAAAAQJ9AAAAAAABAn0AAAAAAAECfQAAAAAAAQJ9AAAAAAABAn0AAAAAAAECfQAAAAAAAQJ9AAAAAAABAn0AAAAAAAECfQAAAAAAAQJ9AAAAAAABAn0AAAAAAAECfQAAAAAAAQJ9AAAAAAABAn0AAAAAAAECfQAAAAAAAQJ9AAAAAAABAn0AAAAAAAECfQAAAAAAAQJ9AAAAAAABAn0AAAAAAAECfQAAAAAAAQJ9A",
          "dtype": "f8",
          "shape": "48, 1"
         },
         "hovertemplate": "<b>Time Step:</b> %{x}<br><b>Budget Left Ratio:</b> %{y:.3f}<br><b>Budget:</b> %{customdata[0]:.0f}<br><extra></extra>",
         "line": {
          "color": "rgb(49, 54, 149)",
          "width": 1.5
         },
         "mode": "lines",
         "opacity": 0.35,
         "showlegend": false,
         "type": "scatter",
         "x": {
          "bdata": "AAECAwQFBgcICQoLDA0ODxAREhMUFRYXGBkaGxwdHh8gISIjJCUmJygpKissLS4v",
          "dtype": "i1"
         },
         "y": {
          "bdata": "2NWbeL3x7z8hUgY/jejvP1lGlY21z+8/OXq6MBK97z9dgS8sKbjvPxPKfBgHt+8/A89CR8Kl7z8Dz0JHwqXvP8MODTJ0pe8/ww4NMnSl7z8GDKCDzKPvPwYMoIPMo+8/uzQ5GDui7z9t6ErwP6DvP23oSvA/oO8/eYpeo/af7z93ha+68nDuP53ylQUhNes/QrOtb0aQ5z87ToZE/hvhP3u6AUkk9tM/Ke73njpOxT/yFJczVa7AP56n5QqOmbc/Au+NpliPtz/FoJ6MfHW3P4/SpHvJW7c/HdZtZpNatz9vspQXFhe3P5HVGM4ZBLc/10elB6/8tj/XR6UHr/y2P9dHpQev/LY/10elB6/8tj/XR6UHr/y2P9dHpQev/LY/tKgVQB/6tj+0qBVAH/q2P2Ah14Aq87Y/H1V0CjNjtT+uJ94+xnmuP2KwmdRwaag/XooMpYFqoj+YbvcNhnJkP5hu9w2GcmQ/7FElJkLHYD+wcih26MH1PrByKHbowfU+",
          "dtype": "f8"
         }
        },
        {
         "customdata": {
          "bdata": "AAAAAACOskAAAAAAAI6yQAAAAAAAjrJAAAAAAACOskAAAAAAAI6yQAAAAAAAjrJAAAAAAACOskAAAAAAAI6yQAAAAAAAjrJAAAAAAACOskAAAAAAAI6yQAAAAAAAjrJAAAAAAACOskAAAAAAAI6yQAAAAAAAjrJAAAAAAACOskAAAAAAAI6yQAAAAAAAjrJAAAAAAACOskAAAAAAAI6yQAAAAAAAjrJAAAAAAACOskAAAAAAAI6yQAAAAAAAjrJAAAAAAACOskAAAAAAAI6yQAAAAAAAjrJAAAAAAACOskAAAAAAAI6yQAAAAAAAjrJAAAAAAACOskAAAAAAAI6yQAAAAAAAjrJAAAAAAACOskAAAAAAAI6yQAAAAAAAjrJAAAAAAACOskAAAAAAAI6yQAAAAAAAjrJAAAAAAACOskAAAAAAAI6yQAAAAAAAjrJAAAAAAACOskAAAAAAAI6yQAAAAAAAjrJAAAAAAACOskAAAAAAAI6yQAAAAAAAjrJA",
          "dtype": "f8",
          "shape": "48, 1"
         },
         "hovertemplate": "<b>Time Step:</b> %{x}<br><b>Budget Left Ratio:</b> %{y:.3f}<br><b>Budget:</b> %{customdata[0]:.0f}<br><extra></extra>",
         "line": {
          "color": "rgb(183, 17, 38)",
          "width": 1.5
         },
         "mode": "lines",
         "opacity": 0.35,
         "showlegend": false,
         "type": "scatter",
         "x": {
          "bdata": "AAECAwQFBgcICQoLDA0ODxAREhMUFRYXGBkaGxwdHh8gISIjJCUmJygpKissLS4v",
          "dtype": "i1"
         },
         "y": {
          "bdata": "AAAAAAAA8D9aKVbi2f/vP6oTvN4b/+8/qhO83hv/7z+qE7zeG//vP6oTvN4b/+8/qhO83hv/7z+qE7zeG//vP6oTvN4b/+8/qhO83hv/7z+qE7zeG//vP6oTvN4b/+8/qhO83hv/7z+qE7zeG//vP6oTvN4b/+8/qhO83hv/7z/avdLfLenvP26V03ran+0/qbRRGt/g6j8jfDT4xYXoP6uuAWKgheQ/nS5fKmUE4D8QmYXfxyHYP89V9/zS8NI//iF0BxUlzT9hiHljY2vFPzXxyCmCz8A/CyhZW0w5uD9muWZkxoyvP+km2It3R6U/O2jHQojjkD8151FbDtpyP2O9TeLEy3I/PYHvBHB0cj859Wuc3f9wPxBYqc2q7XA/tJJZI38cbj8jyYqsbdtkP/T99D3aH18/D3VuTPlMQj8MAitnVJLePgwCK2dUkt4+DAIrZ1SS3j4MAitnVJLePgwCK2dUkt4+DAIrZ1SS3j4MAitnVJLePgwCK2dUkt4+",
          "dtype": "f8"
         }
        },
        {
         "customdata": {
          "bdata": "AAAAAABooEAAAAAAAGigQAAAAAAAaKBAAAAAAABooEAAAAAAAGigQAAAAAAAaKBAAAAAAABooEAAAAAAAGigQAAAAAAAaKBAAAAAAABooEAAAAAAAGigQAAAAAAAaKBAAAAAAABooEAAAAAAAGigQAAAAAAAaKBAAAAAAABooEAAAAAAAGigQAAAAAAAaKBAAAAAAABooEAAAAAAAGigQAAAAAAAaKBAAAAAAABooEAAAAAAAGigQAAAAAAAaKBAAAAAAABooEAAAAAAAGigQAAAAAAAaKBAAAAAAABooEAAAAAAAGigQAAAAAAAaKBAAAAAAABooEAAAAAAAGigQAAAAAAAaKBAAAAAAABooEAAAAAAAGigQAAAAAAAaKBAAAAAAABooEAAAAAAAGigQAAAAAAAaKBAAAAAAABooEAAAAAAAGigQAAAAAAAaKBAAAAAAABooEAAAAAAAGigQAAAAAAAaKBAAAAAAABooEAAAAAAAGigQAAAAAAAaKBA",
          "dtype": "f8",
          "shape": "48, 1"
         },
         "hovertemplate": "<b>Time Step:</b> %{x}<br><b>Budget Left Ratio:</b> %{y:.3f}<br><b>Budget:</b> %{customdata[0]:.0f}<br><extra></extra>",
         "line": {
          "color": "rgb(56, 76, 160)",
          "width": 1.5
         },
         "mode": "lines",
         "opacity": 0.35,
         "showlegend": false,
         "type": "scatter",
         "x": {
          "bdata": "AAECAwQFBgcICQoLDA0ODxAREhMUFRYXGBkaGxwdHh8gISIjJCUmJygpKissLS4v",
          "dtype": "i1"
         },
         "y": {
          "bdata": "AAAAAAAA8D8AAAAAAADwPwAAAAAAAPA/AAAAAAAA8D8AAAAAAADwPwAAAAAAAPA/AAAAAAAA8D8AAAAAAADwPwAAAAAAAPA/b7yhvO/97z+8y87tuPbvP6lWUj1U7e8/iF7Se/y/7z/UAOXQNg7vP+x15ur3ru0/ltGF1IA/7T+W0YXUgD/tP5bRhdSAP+0/ltGF1IA/7T+W0YXUgD/tP5bRhdSAP+0/ltGF1IA/7T+W0YXUgD/tPyDdn68gPu0/7MxVz5qW6j8nC4PbCfPlP8LqKtWYnN0/Dne1Vibk0D9LtlMLCFbHP5PqWisSacM/KYyYDSJ0tj8VqQEQy/yqP7FEYv+UKKo/xQHCv2aaqD/xNTfuztCjP+L1CzTPypw/QtiepsMglz/be7CGCLaSPz6A0SasrpA/aj71PVgSjz/QLhikTHuIP/Q8WVwlm4c/2gVHJN9ogj9uFmQEEX5yP76nSBnNnAI/vqdIGc2cAj++p0gZzZwCP76nSBnNnAI/",
          "dtype": "f8"
         }
        },
        {
         "customdata": {
          "bdata": "AAAAAABooEAAAAAAAGigQAAAAAAAaKBAAAAAAABooEAAAAAAAGigQAAAAAAAaKBAAAAAAABooEAAAAAAAGigQAAAAAAAaKBAAAAAAABooEAAAAAAAGigQAAAAAAAaKBAAAAAAABooEAAAAAAAGigQAAAAAAAaKBAAAAAAABooEAAAAAAAGigQAAAAAAAaKBAAAAAAABooEAAAAAAAGigQAAAAAAAaKBAAAAAAABooEAAAAAAAGigQAAAAAAAaKBAAAAAAABooEAAAAAAAGigQAAAAAAAaKBAAAAAAABooEAAAAAAAGigQAAAAAAAaKBAAAAAAABooEAAAAAAAGigQAAAAAAAaKBAAAAAAABooEAAAAAAAGigQAAAAAAAaKBAAAAAAABooEAAAAAAAGigQAAAAAAAaKBAAAAAAABooEAAAAAAAGigQAAAAAAAaKBAAAAAAABooEAAAAAAAGigQAAAAAAAaKBAAAAAAABooEAAAAAAAGigQAAAAAAAaKBA",
          "dtype": "f8",
          "shape": "48, 1"
         },
         "hovertemplate": "<b>Time Step:</b> %{x}<br><b>Budget Left Ratio:</b> %{y:.3f}<br><b>Budget:</b> %{customdata[0]:.0f}<br><extra></extra>",
         "line": {
          "color": "rgb(56, 76, 160)",
          "width": 1.5
         },
         "mode": "lines",
         "opacity": 0.35,
         "showlegend": false,
         "type": "scatter",
         "x": {
          "bdata": "AAECAwQFBgcICQoLDA0ODxAREhMUFRYXGBkaGxwdHh8gISIjJCUmJygpKissLS4v",
          "dtype": "i1"
         },
         "y": {
          "bdata": "S6e9Sqf/7z9fIis54MjuP1BO9GD3dO4/LTVBfmpN7j+qu9qqCEHuP/Z91+C0KO4/B5uixH0n7j97VOi2GifuP3tU6LYaJ+4/e1Tothon7j97VOi2GifuP3tU6LYaJ+4/e1Tothon7j97VOi2GifuP3tU6LYaJ+4/e1Tothon7j97VOi2GifuP3tU6LYaJ+4/e1Tothon7j97VOi2GifuP3tU6LYaJ+4/e1Tothon7j97VOi2GifuP3tU6LYaJ+4/e1Tothon7j97VOi2GifuP3tU6LYaJ+4/e1Tothon7j97VOi2GifuP3tU6LYaJ+4/e1Tothon7j97VOi2GifuPwzct17a4u0/Seh4L0127T9oQD2ukyfrPzk9UvY7yOo/c9rb+cd26j+mFRD1cq/pP6uhgPOrX+c/XKMxYtop5T/ieVd5qMraP2wi1A130c0/lMizK0o4xD9mK9rFqH+kP2MEE63KxMs+YwQTrcrEyz5jBBOtysTLPmMEE63KxMs+",
          "dtype": "f8"
         }
        },
        {
         "customdata": {
          "bdata": "AAAAAAB4rkAAAAAAAHiuQAAAAAAAeK5AAAAAAAB4rkAAAAAAAHiuQAAAAAAAeK5AAAAAAAB4rkAAAAAAAHiuQAAAAAAAeK5AAAAAAAB4rkAAAAAAAHiuQAAAAAAAeK5AAAAAAAB4rkAAAAAAAHiuQAAAAAAAeK5AAAAAAAB4rkAAAAAAAHiuQAAAAAAAeK5AAAAAAAB4rkAAAAAAAHiuQAAAAAAAeK5AAAAAAAB4rkAAAAAAAHiuQAAAAAAAeK5AAAAAAAB4rkAAAAAAAHiuQAAAAAAAeK5AAAAAAAB4rkAAAAAAAHiuQAAAAAAAeK5AAAAAAAB4rkAAAAAAAHiuQAAAAAAAeK5AAAAAAAB4rkAAAAAAAHiuQAAAAAAAeK5AAAAAAAB4rkAAAAAAAHiuQAAAAAAAeK5AAAAAAAB4rkAAAAAAAHiuQAAAAAAAeK5AAAAAAAB4rkAAAAAAAHiuQAAAAAAAeK5AAAAAAAB4rkAAAAAAAHiuQAAAAAAAeK5A",
          "dtype": "f8",
          "shape": "48, 1"
         },
         "hovertemplate": "<b>Time Step:</b> %{x}<br><b>Budget Left Ratio:</b> %{y:.3f}<br><b>Budget:</b> %{customdata[0]:.0f}<br><extra></extra>",
         "line": {
          "color": "rgb(253, 191, 113)",
          "width": 1.5
         },
         "mode": "lines",
         "opacity": 0.35,
         "showlegend": false,
         "type": "scatter",
         "x": {
          "bdata": "AAECAwQFBgcICQoLDA0ODxAREhMUFRYXGBkaGxwdHh8gISIjJCUmJygpKissLS4v",
          "dtype": "i1"
         },
         "y": {
          "bdata": "KC2QTmna7z8rK2nzcrvvP0+OLh4vr+8/H8sptWOg7z99+ax/wJLvPzVUgtiLke8/LE/MhHiC7z/xnIynL4HvPw9Y64kGfe8/Fat+ccxw7z/TnYwfPXDvP1yFnOkKQe8/hD0nGtgS7z8e0yyw6v/uP0OxjdFnw+4/DDPsOzGB7j945cD4CHzuP5VZ81YuTe4/fTE2gEQ47j+aUwQqwtLtP2HfnjP2bO0/5djF54217D+nkb8qv7frPwSglbqAdes/6+e5s0F16z/i78deOWzrPwC7EZKgVOs/icuexv5S6z8RuDLUeEzrP2Cu+3FURes/B5SQBRg/6z9ngqcQXDLrPziu0Vmjf+o/Py3kDWnP6T/z4FAZP6ToP+T0dacAGeg/ww0SA/lr5z+BtlFvTOzlP12BXUdCd+M/tkUduFyF4D83QaKYkvTbP6CRThC5YtY/U7vXfyU/0j8jx+TornjKPwIpicjZWsA/biJXc4+ftj9hkoxO8jGdP7ETO9mIw9w+",
          "dtype": "f8"
         }
        },
        {
         "customdata": {
          "bdata": "AAAAAABAn0AAAAAAAECfQAAAAAAAQJ9AAAAAAABAn0AAAAAAAECfQAAAAAAAQJ9AAAAAAABAn0AAAAAAAECfQAAAAAAAQJ9AAAAAAABAn0AAAAAAAECfQAAAAAAAQJ9AAAAAAABAn0AAAAAAAECfQAAAAAAAQJ9AAAAAAABAn0AAAAAAAECfQAAAAAAAQJ9AAAAAAABAn0AAAAAAAECfQAAAAAAAQJ9AAAAAAABAn0AAAAAAAECfQAAAAAAAQJ9AAAAAAABAn0AAAAAAAECfQAAAAAAAQJ9AAAAAAABAn0AAAAAAAECfQAAAAAAAQJ9AAAAAAABAn0AAAAAAAECfQAAAAAAAQJ9AAAAAAABAn0AAAAAAAECfQAAAAAAAQJ9AAAAAAABAn0AAAAAAAECfQAAAAAAAQJ9AAAAAAABAn0AAAAAAAECfQAAAAAAAQJ9AAAAAAABAn0AAAAAAAECfQAAAAAAAQJ9AAAAAAABAn0AAAAAAAECfQAAAAAAAQJ9A",
          "dtype": "f8",
          "shape": "48, 1"
         },
         "hovertemplate": "<b>Time Step:</b> %{x}<br><b>Budget Left Ratio:</b> %{y:.3f}<br><b>Budget:</b> %{customdata[0]:.0f}<br><extra></extra>",
         "line": {
          "color": "rgb(49, 54, 149)",
          "width": 1.5
         },
         "mode": "lines",
         "opacity": 0.35,
         "showlegend": false,
         "type": "scatter",
         "x": {
          "bdata": "AAECAwQFBgcICQoLDA0ODxAREhMUFRYXGBkaGxwdHh8gISIjJCUmJygpKissLS4v",
          "dtype": "i1"
         },
         "y": {
          "bdata": "h2awmTOO7T/3hTYuiFTsPx+Ttdiwgeo/gVI9EAaU6T++eOeMKhLoP0ZB4kiiWec/ZLR3/pWN5j+iZA3YoeLlPxvGhStU2uU/IcOeGrfT5T/BEs/RYsvlP/y5TeoiReU/TgeMy9Qa5D9NQ4HAhjfjP9T/2jwprOE/oa+Cu3Iv4D8MpYfR3wjgP1yX+7ic4d8/w/MMX8Wc2j/Nn19/9erWP2hEmdCanNQ/XHVj+Gptyj/RfKJ+9STGP7DYLAYEycE/sNgsBgTJwT+w2CwGBMnBP7DYLAYEycE/sNgsBgTJwT+w2CwGBMnBP7DYLAYEycE/sNgsBgTJwT+w2CwGBMnBPxs5CAbcisE/HeKUpKSEwT9WNCID633BP2+44e0jZcE/TvgxEWc9wT8GQWp9Dw/BP14QokNo08A/41UB3DzNwD8rh/Y4V5UDPyuH9jhXlQM/K4f2OFeVAz8rh/Y4V5UDPyuH9jhXlQM/K4f2OFeVAz8rh/Y4V5UDPyuH9jhXlQM/",
          "dtype": "f8"
         }
        },
        {
         "customdata": {
          "bdata": "AAAAAACopkAAAAAAAKimQAAAAAAAqKZAAAAAAACopkAAAAAAAKimQAAAAAAAqKZAAAAAAACopkAAAAAAAKimQAAAAAAAqKZAAAAAAACopkAAAAAAAKimQAAAAAAAqKZAAAAAAACopkAAAAAAAKimQAAAAAAAqKZAAAAAAACopkAAAAAAAKimQAAAAAAAqKZAAAAAAACopkAAAAAAAKimQAAAAAAAqKZAAAAAAACopkAAAAAAAKimQAAAAAAAqKZAAAAAAACopkAAAAAAAKimQAAAAAAAqKZAAAAAAACopkAAAAAAAKimQAAAAAAAqKZAAAAAAACopkAAAAAAAKimQAAAAAAAqKZAAAAAAACopkAAAAAAAKimQAAAAAAAqKZAAAAAAACopkAAAAAAAKimQAAAAAAAqKZAAAAAAACopkAAAAAAAKimQAAAAAAAqKZAAAAAAACopkAAAAAAAKimQAAAAAAAqKZAAAAAAACopkAAAAAAAKimQAAAAAAAqKZA",
          "dtype": "f8",
          "shape": "48, 1"
         },
         "hovertemplate": "<b>Time Step:</b> %{x}<br><b>Budget Left Ratio:</b> %{y:.3f}<br><b>Budget:</b> %{customdata[0]:.0f}<br><extra></extra>",
         "line": {
          "color": "rgb(179, 221, 235)",
          "width": 1.5
         },
         "mode": "lines",
         "opacity": 0.35,
         "showlegend": false,
         "type": "scatter",
         "x": {
          "bdata": "AAECAwQFBgcICQoLDA0ODxAREhMUFRYXGBkaGxwdHh8gISIjJCUmJygpKissLS4v",
          "dtype": "i1"
         },
         "y": {
          "bdata": "AAAAAAAA8D8AAAAAAADwPwAAAAAAAPA/AAAAAAAA8D8AAAAAAADwPwAAAAAAAPA/AAAAAAAA8D8AAAAAAADwPwAAAAAAAPA/AAAAAAAA8D8AAAAAAADwPwAAAAAAAPA/AAAAAAAA8D8AAAAAAADwPwAAAAAAAPA/AAAAAAAA8D/dvdq1JfLvP0pu04PZne8/sqM15ba17T8BBTKSfnHrPxmbepruYeY/C/iNggjd3j/K9AHBlyPRP0u5Bx61vMA/D2HX+465wD9SVS3XcqnAP9X0OqGsncA/ZHFcWw6KwD/cOn77+nnAP6L+H/qpZ8A//EHNx2MfwD+LPt6EG+e/P3+bts+Hkr8/SzwWyesquT+mBZY9ZbOrPxa3ArMXCJk/WfFsPRQjkz8zMwZJde6LP9QIYmgPJoA//nDcpMc4fz/+cNykxzh/P/5w3KTHOH8//nDcpMc4fz/+cNykxzh/P/5w3KTHOH8/9BxsNGgIfz/0HGw0aAh/Px78ts/0DHk/",
          "dtype": "f8"
         }
        },
        {
         "customdata": {
          "bdata": "AAAAAAAEoEAAAAAAAASgQAAAAAAABKBAAAAAAAAEoEAAAAAAAASgQAAAAAAABKBAAAAAAAAEoEAAAAAAAASgQAAAAAAABKBAAAAAAAAEoEAAAAAAAASgQAAAAAAABKBAAAAAAAAEoEAAAAAAAASgQAAAAAAABKBAAAAAAAAEoEAAAAAAAASgQAAAAAAABKBAAAAAAAAEoEAAAAAAAASgQAAAAAAABKBAAAAAAAAEoEAAAAAAAASgQAAAAAAABKBAAAAAAAAEoEAAAAAAAASgQAAAAAAABKBAAAAAAAAEoEAAAAAAAASgQAAAAAAABKBAAAAAAAAEoEAAAAAAAASgQAAAAAAABKBAAAAAAAAEoEAAAAAAAASgQAAAAAAABKBAAAAAAAAEoEAAAAAAAASgQAAAAAAABKBAAAAAAAAEoEAAAAAAAASgQAAAAAAABKBAAAAAAAAEoEAAAAAAAASgQAAAAAAABKBAAAAAAAAEoEAAAAAAAASgQAAAAAAABKBA",
          "dtype": "f8",
          "shape": "48, 1"
         },
         "hovertemplate": "<b>Time Step:</b> %{x}<br><b>Budget Left Ratio:</b> %{y:.3f}<br><b>Budget:</b> %{customdata[0]:.0f}<br><extra></extra>",
         "line": {
          "color": "rgb(53, 65, 154)",
          "width": 1.5
         },
         "mode": "lines",
         "opacity": 0.35,
         "showlegend": false,
         "type": "scatter",
         "x": {
          "bdata": "AAECAwQFBgcICQoLDA0ODxAREhMUFRYXGBkaGxwdHh8gISIjJCUmJygpKissLS4v",
          "dtype": "i1"
         },
         "y": {
          "bdata": "AAAAAAAA8D8AAAAAAADwPwAAAAAAAPA/AAAAAAAA8D8AAAAAAADwPwAAAAAAAPA/AAAAAAAA8D8AAAAAAADwP8HM51IVre8/pTH6ZUEu7z+0Zt7VLartPxtA1SdGUOs/J54QzthE6j/qWkFyV3voP3D32CRZGOY/qc3fsN2y4z+d7jYUTmfjP1fxbu550+E/OEeIDnvq3z/MWLbYgCPUPzK2KFUqUMw/qICI/demxz8fpU64Bi7HP+q4y54MVMM/pFE63ozrwj82yOlYFwfCP1WrBC3BVME/B+VdtkU4wD8aePH7qDe/P7r456bXpr0/MD7kN8CLuj+jU4PQVES5P9zPUdQ85bg/HQteNGCetz++iACfrnG2P07H7XDyArY/eZ24PBzJtD/X5IyvldKzP94JURUvAbE/25OEC3WFmz/bk4QLdYWbP9uThAt1hZs/25OEC3WFmz/bk4QLdYWbP9uThAt1hZs/25OEC3WFmz/bk4QLdYWbP9uThAt1hZs/",
          "dtype": "f8"
         }
        },
        {
         "customdata": {
          "bdata": "AAAAAABAn0AAAAAAAECfQAAAAAAAQJ9AAAAAAABAn0AAAAAAAECfQAAAAAAAQJ9AAAAAAABAn0AAAAAAAECfQAAAAAAAQJ9AAAAAAABAn0AAAAAAAECfQAAAAAAAQJ9AAAAAAABAn0AAAAAAAECfQAAAAAAAQJ9AAAAAAABAn0AAAAAAAECfQAAAAAAAQJ9AAAAAAABAn0AAAAAAAECfQAAAAAAAQJ9AAAAAAABAn0AAAAAAAECfQAAAAAAAQJ9AAAAAAABAn0AAAAAAAECfQAAAAAAAQJ9AAAAAAABAn0AAAAAAAECfQAAAAAAAQJ9AAAAAAABAn0AAAAAAAECfQAAAAAAAQJ9AAAAAAABAn0AAAAAAAECfQAAAAAAAQJ9AAAAAAABAn0AAAAAAAECfQAAAAAAAQJ9AAAAAAABAn0AAAAAAAECfQAAAAAAAQJ9AAAAAAABAn0AAAAAAAECfQAAAAAAAQJ9AAAAAAABAn0AAAAAAAECfQAAAAAAAQJ9A",
          "dtype": "f8",
          "shape": "48, 1"
         },
         "hovertemplate": "<b>Time Step:</b> %{x}<br><b>Budget Left Ratio:</b> %{y:.3f}<br><b>Budget:</b> %{customdata[0]:.0f}<br><extra></extra>",
         "line": {
          "color": "rgb(49, 54, 149)",
          "width": 1.5
         },
         "mode": "lines",
         "opacity": 0.35,
         "showlegend": false,
         "type": "scatter",
         "x": {
          "bdata": "AAECAwQFBgcICQoLDA0ODxAREhMUFRYXGBkaGxwdHh8gISIjJCUmJygpKissLS4v",
          "dtype": "i1"
         },
         "y": {
          "bdata": "0X9fVu7N7z+F01s2rBHvP1hCZmmy9u4/n4Hzfm7s7j/sQlSEY8vuPxdkexNevu4/7Ziw8pS87j9FQjew/7nuP+VbPx4psO4/ooBHJ9OR7j93NW/zUIntP3e83LBZR+w/0SCw6KIb6j8IkxZKfQroP65r1KNfyuU/i3YuLzlk4z/e7g7Tr2riPxLpUkeFkeE/1TIUs8xq4T+TcEt4WmjgP419Hy1eRtw/XAvGiUDq0z+TFETr8UPKP9dH9dIf/74/8qJ729bHrD+TGESbT+TzPpMYRJtP5PM+kxhEm0/k8z6TGESbT+TzPpMYRJtP5PM+kxhEm0/k8z6TGESbT+TzPpMYRJtP5PM+kxhEm0/k8z6TGESbT+TzPpMYRJtP5PM+kxhEm0/k8z6TGESbT+TzPpMYRJtP5PM+kxhEm0/k8z6TGESbT+TzPpMYRJtP5PM+kxhEm0/k8z6TGESbT+TzPpMYRJtP5PM+kxhEm0/k8z6TGESbT+TzPpMYRJtP5PM+",
          "dtype": "f8"
         }
        },
        {
         "customdata": {
          "bdata": "AAAAAAAEsEAAAAAAAASwQAAAAAAABLBAAAAAAAAEsEAAAAAAAASwQAAAAAAABLBAAAAAAAAEsEAAAAAAAASwQAAAAAAABLBAAAAAAAAEsEAAAAAAAASwQAAAAAAABLBAAAAAAAAEsEAAAAAAAASwQAAAAAAABLBAAAAAAAAEsEAAAAAAAASwQAAAAAAABLBAAAAAAAAEsEAAAAAAAASwQAAAAAAABLBAAAAAAAAEsEAAAAAAAASwQAAAAAAABLBAAAAAAAAEsEAAAAAAAASwQAAAAAAABLBAAAAAAAAEsEAAAAAAAASwQAAAAAAABLBAAAAAAAAEsEAAAAAAAASwQAAAAAAABLBAAAAAAAAEsEAAAAAAAASwQAAAAAAABLBAAAAAAAAEsEAAAAAAAASwQAAAAAAABLBAAAAAAAAEsEAAAAAAAASwQAAAAAAABLBAAAAAAAAEsEAAAAAAAASwQAAAAAAABLBAAAAAAAAEsEAAAAAAAASwQAAAAAAABLBA",
          "dtype": "f8",
          "shape": "48, 1"
         },
         "hovertemplate": "<b>Time Step:</b> %{x}<br><b>Budget Left Ratio:</b> %{y:.3f}<br><b>Budget:</b> %{customdata[0]:.0f}<br><extra></extra>",
         "line": {
          "color": "rgb(250, 150, 86)",
          "width": 1.5
         },
         "mode": "lines",
         "opacity": 0.35,
         "showlegend": false,
         "type": "scatter",
         "x": {
          "bdata": "AAECAwQFBgcICQoLDA0ODxAREhMUFRYXGBkaGxwdHh8gISIjJCUmJygpKissLS4v",
          "dtype": "i1"
         },
         "y": {
          "bdata": "AAAAAAAA8D8AAAAAAADwPwAAAAAAAPA/AAAAAAAA8D8AAAAAAADwPwAAAAAAAPA/AAAAAAAA8D8AAAAAAADwPwAAAAAAAPA/AAAAAAAA8D8AAAAAAADwPwAAAAAAAPA/AAAAAAAA8D8AAAAAAADwPwAAAAAAAPA/AAAAAAAA8D9OqCRUp/7vP06oJFSn/u8/ReV0G3z07z/uSsQnrNbvPxSKIEe5W+8/C71+Hr4b7z8CKk7cI2zuP73DDZr72u0/UvAbSkf/6j+YDlFy+i7oP7udZvGCEOU/9xwFm8eO4T+Kdk3lnozdPxTGvwR6f9g/Wf2JH9wH0z92+A+SvUDMPyA+TjYoB8M/VQw/uin0tD+DdUQKcyqhP9ig8WCNAIY/XYrWJYX3uz5ditYlhfe7Pl2K1iWF97s+XYrWJYX3uz5ditYlhfe7Pl2K1iWF97s+XYrWJYX3uz5ditYlhfe7Pl2K1iWF97s+XYrWJYX3uz5ditYlhfe7Pl2K1iWF97s+",
          "dtype": "f8"
         }
        },
        {
         "customdata": {
          "bdata": "AAAAAABisUAAAAAAAGKxQAAAAAAAYrFAAAAAAABisUAAAAAAAGKxQAAAAAAAYrFAAAAAAABisUAAAAAAAGKxQAAAAAAAYrFAAAAAAABisUAAAAAAAGKxQAAAAAAAYrFAAAAAAABisUAAAAAAAGKxQAAAAAAAYrFAAAAAAABisUAAAAAAAGKxQAAAAAAAYrFAAAAAAABisUAAAAAAAGKxQAAAAAAAYrFAAAAAAABisUAAAAAAAGKxQAAAAAAAYrFAAAAAAABisUAAAAAAAGKxQAAAAAAAYrFAAAAAAABisUAAAAAAAGKxQAAAAAAAYrFAAAAAAABisUAAAAAAAGKxQAAAAAAAYrFAAAAAAABisUAAAAAAAGKxQAAAAAAAYrFAAAAAAABisUAAAAAAAGKxQAAAAAAAYrFAAAAAAABisUAAAAAAAGKxQAAAAAAAYrFAAAAAAABisUAAAAAAAGKxQAAAAAAAYrFAAAAAAABisUAAAAAAAGKxQAAAAAAAYrFA",
          "dtype": "f8",
          "shape": "48, 1"
         },
         "hovertemplate": "<b>Time Step:</b> %{x}<br><b>Budget Left Ratio:</b> %{y:.3f}<br><b>Budget:</b> %{customdata[0]:.0f}<br><extra></extra>",
         "line": {
          "color": "rgb(227, 73, 50)",
          "width": 1.5
         },
         "mode": "lines",
         "opacity": 0.35,
         "showlegend": false,
         "type": "scatter",
         "x": {
          "bdata": "AAECAwQFBgcICQoLDA0ODxAREhMUFRYXGBkaGxwdHh8gISIjJCUmJygpKissLS4v",
          "dtype": "i1"
         },
         "y": {
          "bdata": "AAAAAAAA8D8AAAAAAADwPwAAAAAAAPA/AAAAAAAA8D8AAAAAAADwPwAAAAAAAPA/AAAAAAAA8D8AAAAAAADwPwAAAAAAAPA/AAAAAAAA8D84t/vd0P/vP06dm7ei/+8/vNq4O+fO7z8Hx/4Xlr/vP8fQGlmEae8/KekbXeOs7j8p6Rtd46zuPynpG13jrO4/KekbXeOs7j8p6Rtd46zuPynpG13jrO4/KekbXeOs7j8p6Rtd46zuPynpG13jrO4/32oyS4Lr6z9vHkNSI7rpP/91W1EHS+c/eBzCYMC+5D/2uJ3ujTjiPxV3LskRTuA/HgkdFKq23D9MTx6PwJfZP1JIyRi3Dtk/JhblH2Du2D/ni9ItoBHYPxDZdZCI4tc/E93Wlrai1j+PZxUnxUDVP/XsciOONNM/KBA3EsPC0T8hXuMIfG7LP7TXE67szsY//6sfOvZuwT8wgrKyPsW3P6iuZ8OdBqQ/O7y8onjScD83EynLQqPHPjcTKctCo8c+",
          "dtype": "f8"
         }
        },
        {
         "customdata": {
          "bdata": "AAAAAAD0qkAAAAAAAPSqQAAAAAAA9KpAAAAAAAD0qkAAAAAAAPSqQAAAAAAA9KpAAAAAAAD0qkAAAAAAAPSqQAAAAAAA9KpAAAAAAAD0qkAAAAAAAPSqQAAAAAAA9KpAAAAAAAD0qkAAAAAAAPSqQAAAAAAA9KpAAAAAAAD0qkAAAAAAAPSqQAAAAAAA9KpAAAAAAAD0qkAAAAAAAPSqQAAAAAAA9KpAAAAAAAD0qkAAAAAAAPSqQAAAAAAA9KpAAAAAAAD0qkAAAAAAAPSqQAAAAAAA9KpAAAAAAAD0qkAAAAAAAPSqQAAAAAAA9KpAAAAAAAD0qkAAAAAAAPSqQAAAAAAA9KpAAAAAAAD0qkAAAAAAAPSqQAAAAAAA9KpAAAAAAAD0qkAAAAAAAPSqQAAAAAAA9KpAAAAAAAD0qkAAAAAAAPSqQAAAAAAA9KpAAAAAAAD0qkAAAAAAAPSqQAAAAAAA9KpAAAAAAAD0qkAAAAAAAPSqQAAAAAAA9KpA",
          "dtype": "f8",
          "shape": "48, 1"
         },
         "hovertemplate": "<b>Time Step:</b> %{x}<br><b>Budget Left Ratio:</b> %{y:.3f}<br><b>Budget:</b> %{customdata[0]:.0f}<br><extra></extra>",
         "line": {
          "color": "rgb(255, 252, 187)",
          "width": 1.5
         },
         "mode": "lines",
         "opacity": 0.35,
         "showlegend": false,
         "type": "scatter",
         "x": {
          "bdata": "AAECAwQFBgcICQoLDA0ODxAREhMUFRYXGBkaGxwdHh8gISIjJCUmJygpKissLS4v",
          "dtype": "i1"
         },
         "y": {
          "bdata": "VquvZcFX7z/PXgU5DUHvP2N7s5y0NO8/bqEqrYom7z82HkcSOhzvP8T67pyjGu8/9qO0oZUX7z/2o7ShlRfvP/ajtKGVF+8/9qO0oZUX7z/2o7ShlRfvP/ajtKGVF+8/9qO0oZUX7z/2o7ShlRfvP/ajtKGVF+8/9qO0oZUX7z/2o7ShlRfvP/ajtKGVF+8/MSOA4eMW7z93rkssJOzuP8NglEec6u4/uzxY/2Po7j+nRySK3ObuP1B8FZfH2u4/DxieZudu7T+d2aabHw/qP9xuPsXGtOY/HVYayX2l5D/vTLp/T+bhP3lkLclKNN8/KIrrrV+h2T9h6Sm9US3VP2HpKb1RLdU/YekpvVEt1T8pohTZlSzVP1qVjltaKNU/EYwUW8sh1T9R+xDyN+XUP+9jO36BedQ/T71eBXfK0j/mCeMwZPnQP0rS8f71Us4/Iti4x5b6wT9FhRX8HAu3P/Q5gppDB6g/oFFBW9sznD+LYvhQwt50P1AIaF8k4so+",
          "dtype": "f8"
         }
        },
        {
         "customdata": {
          "bdata": "AAAAAABAn0AAAAAAAECfQAAAAAAAQJ9AAAAAAABAn0AAAAAAAECfQAAAAAAAQJ9AAAAAAABAn0AAAAAAAECfQAAAAAAAQJ9AAAAAAABAn0AAAAAAAECfQAAAAAAAQJ9AAAAAAABAn0AAAAAAAECfQAAAAAAAQJ9AAAAAAABAn0AAAAAAAECfQAAAAAAAQJ9AAAAAAABAn0AAAAAAAECfQAAAAAAAQJ9AAAAAAABAn0AAAAAAAECfQAAAAAAAQJ9AAAAAAABAn0AAAAAAAECfQAAAAAAAQJ9AAAAAAABAn0AAAAAAAECfQAAAAAAAQJ9AAAAAAABAn0AAAAAAAECfQAAAAAAAQJ9AAAAAAABAn0AAAAAAAECfQAAAAAAAQJ9AAAAAAABAn0AAAAAAAECfQAAAAAAAQJ9AAAAAAABAn0AAAAAAAECfQAAAAAAAQJ9AAAAAAABAn0AAAAAAAECfQAAAAAAAQJ9AAAAAAABAn0AAAAAAAECfQAAAAAAAQJ9A",
          "dtype": "f8",
          "shape": "48, 1"
         },
         "hovertemplate": "<b>Time Step:</b> %{x}<br><b>Budget Left Ratio:</b> %{y:.3f}<br><b>Budget:</b> %{customdata[0]:.0f}<br><extra></extra>",
         "line": {
          "color": "rgb(49, 54, 149)",
          "width": 1.5
         },
         "mode": "lines",
         "opacity": 0.35,
         "showlegend": false,
         "type": "scatter",
         "x": {
          "bdata": "AAECAwQFBgcICQoLDA0ODxAREhMUFRYXGBkaGxwdHh8gISIjJCUmJygpKissLS4v",
          "dtype": "i1"
         },
         "y": {
          "bdata": "AAAAAAAA8D8AAAAAAADwPwAAAAAAAPA/AAAAAAAA8D8AAAAAAADwPwAAAAAAAPA/AAAAAAAA8D8AAAAAAADwP5OCT/mb/+8/Cn6dDXD+7z9BTQ04QOvvP3HWAUHh6u8/cdYBQeHq7z+/od9HSOnvP8O3Pz9m5e8/XUi9zDHk7z9dSL3MMeTvP/xTP76x4+8/mjlK903i7z+Bb1wXZdTvP4FvXBdl1O8/gW9cF2XU7z/zxUJQ9dLvP2rnAA+S0e8/PA1l92PA7z9LA2EpAIrvP/eDRsfAde8/ahjK8uUa7z+qLr2E7hLvP6K/PlP2w+4/vcWo3Jp47j/u0focZ2ztP+Vc+SrV7+c/3/7D6P0g4z/lFMkPhCTfP8HuTmKyFNk/yytZTfzx0z8raaEAWMbLPz85CPNqqLs/SCGGejvOmD9C4GjFaumQP7rpklbarYI/AAAgH2VrAT8AACAfZWsBPwAAIB9lawE/AAAgH2VrAT8AACAfZWsBPwAAIB9lawE/",
          "dtype": "f8"
         }
        },
        {
         "customdata": {
          "bdata": "AAAAAABYq0AAAAAAAFirQAAAAAAAWKtAAAAAAABYq0AAAAAAAFirQAAAAAAAWKtAAAAAAABYq0AAAAAAAFirQAAAAAAAWKtAAAAAAABYq0AAAAAAAFirQAAAAAAAWKtAAAAAAABYq0AAAAAAAFirQAAAAAAAWKtAAAAAAABYq0AAAAAAAFirQAAAAAAAWKtAAAAAAABYq0AAAAAAAFirQAAAAAAAWKtAAAAAAABYq0AAAAAAAFirQAAAAAAAWKtAAAAAAABYq0AAAAAAAFirQAAAAAAAWKtAAAAAAABYq0AAAAAAAFirQAAAAAAAWKtAAAAAAABYq0AAAAAAAFirQAAAAAAAWKtAAAAAAABYq0AAAAAAAFirQAAAAAAAWKtAAAAAAABYq0AAAAAAAFirQAAAAAAAWKtAAAAAAABYq0AAAAAAAFirQAAAAAAAWKtAAAAAAABYq0AAAAAAAFirQAAAAAAAWKtAAAAAAABYq0AAAAAAAFirQAAAAAAAWKtA",
          "dtype": "f8",
          "shape": "48, 1"
         },
         "hovertemplate": "<b>Time Step:</b> %{x}<br><b>Budget Left Ratio:</b> %{y:.3f}<br><b>Budget:</b> %{customdata[0]:.0f}<br><extra></extra>",
         "line": {
          "color": "rgb(255, 247, 179)",
          "width": 1.5
         },
         "mode": "lines",
         "opacity": 0.35,
         "showlegend": false,
         "type": "scatter",
         "x": {
          "bdata": "AAECAwQFBgcICQoLDA0ODxAREhMUFRYXGBkaGxwdHh8gISIjJCUmJygpKissLS4v",
          "dtype": "i1"
         },
         "y": {
          "bdata": "qAf+fTP97z8O1a6q0/rvP402QzOG9O8/01QQnz3z7z+TFPCBIvDvP5MU8IEi8O8/sNKQEOnv7z98GGukSu/vP586es466+8/Zs4vgf/q7z9mzi+B/+rvP+a+BwdL5+8/JqFiABvc7z/T8rtLJsbvP35xVsdZwO8/P7J51oas7z8/snnWhqzvPz+yedaGrO8/P7J51oas7z8/snnWhqzvPz+yedaGrO8/P7J51oas7z995nndaKzvP33med1orO8/hY8m+duU6z+OLFE5UUDnPwiNZEfJXOE/Y7I0gCPP2T+OrGXNMLDQP3feeLHzT8I/X/cBg/w9qz8rROltJSiOPytE6W0lKI4/K0TpbSUojj8rROltJSiOPytE6W0lKI4/K0TpbSUojj8rROltJSiOPytE6W0lKI4/K0TpbSUojj8rROltJSiOP+i4tVvfHY4/mWJRcz2PjT/yj0yUikuJPw6zbMluCFU/Gy/dDPKb5j4bL90M8pvmPhsv3Qzym+Y+",
          "dtype": "f8"
         }
        },
        {
         "customdata": {
          "bdata": "AAAAAAB4rkAAAAAAAHiuQAAAAAAAeK5AAAAAAAB4rkAAAAAAAHiuQAAAAAAAeK5AAAAAAAB4rkAAAAAAAHiuQAAAAAAAeK5AAAAAAAB4rkAAAAAAAHiuQAAAAAAAeK5AAAAAAAB4rkAAAAAAAHiuQAAAAAAAeK5AAAAAAAB4rkAAAAAAAHiuQAAAAAAAeK5AAAAAAAB4rkAAAAAAAHiuQAAAAAAAeK5AAAAAAAB4rkAAAAAAAHiuQAAAAAAAeK5AAAAAAAB4rkAAAAAAAHiuQAAAAAAAeK5AAAAAAAB4rkAAAAAAAHiuQAAAAAAAeK5AAAAAAAB4rkAAAAAAAHiuQAAAAAAAeK5AAAAAAAB4rkAAAAAAAHiuQAAAAAAAeK5AAAAAAAB4rkAAAAAAAHiuQAAAAAAAeK5AAAAAAAB4rkAAAAAAAHiuQAAAAAAAeK5AAAAAAAB4rkAAAAAAAHiuQAAAAAAAeK5AAAAAAAB4rkAAAAAAAHiuQAAAAAAAeK5A",
          "dtype": "f8",
          "shape": "48, 1"
         },
         "hovertemplate": "<b>Time Step:</b> %{x}<br><b>Budget Left Ratio:</b> %{y:.3f}<br><b>Budget:</b> %{customdata[0]:.0f}<br><extra></extra>",
         "line": {
          "color": "rgb(253, 191, 113)",
          "width": 1.5
         },
         "mode": "lines",
         "opacity": 0.35,
         "showlegend": false,
         "type": "scatter",
         "x": {
          "bdata": "AAECAwQFBgcICQoLDA0ODxAREhMUFRYXGBkaGxwdHh8gISIjJCUmJygpKissLS4v",
          "dtype": "i1"
         },
         "y": {
          "bdata": "UyMju9jb7z/87JlVYr7vP4dzw1aose8/xBNwwoug7z9ZnxiAY5HvP9jWCFsekO8/770aukl97z+pNAQbCnzvP63+EctJdu8/QWVBUFFp7z/dX2St9mjvP0MWfj2AN+8/W/nbdikR7z8md2VSJP/uP/346Gbswe4/0ug7qH6B7j9++6BDmnruPxDduJIcTO4/VUggZsw57j+k52Sua+DtP5VTNU9Jbu0/Fvtm0gHV7D8xzWK57LLrP47LuRfUWes/MTevsIBZ6z/J7CWcrk7rP0+MntQFM+s/wsbWLrUw6z8fy+9omyjrP4lS1rIIIes/zvJlEO8a6z+tefw2fgvrP7VSx0EyVOo/soOgGat86T9/Zv4dc2DoP5ngMmMi2+c/Ii8dxlwo5z89cQXGmpTlP+dOZTrjC+M/cIuL99z43z9hAMGyQODaP9KHOPWRadU/ehcklG1e0T/5E5+UofrIP0TCjK4K+b0/zmH/ZFt9tD+eevIBG3KXPz0K1/uAzNM+",
          "dtype": "f8"
         }
        },
        {
         "customdata": {
          "bdata": "AAAAAABAn0AAAAAAAECfQAAAAAAAQJ9AAAAAAABAn0AAAAAAAECfQAAAAAAAQJ9AAAAAAABAn0AAAAAAAECfQAAAAAAAQJ9AAAAAAABAn0AAAAAAAECfQAAAAAAAQJ9AAAAAAABAn0AAAAAAAECfQAAAAAAAQJ9AAAAAAABAn0AAAAAAAECfQAAAAAAAQJ9AAAAAAABAn0AAAAAAAECfQAAAAAAAQJ9AAAAAAABAn0AAAAAAAECfQAAAAAAAQJ9AAAAAAABAn0AAAAAAAECfQAAAAAAAQJ9AAAAAAABAn0AAAAAAAECfQAAAAAAAQJ9AAAAAAABAn0AAAAAAAECfQAAAAAAAQJ9AAAAAAABAn0AAAAAAAECfQAAAAAAAQJ9AAAAAAABAn0AAAAAAAECfQAAAAAAAQJ9AAAAAAABAn0AAAAAAAECfQAAAAAAAQJ9AAAAAAABAn0AAAAAAAECfQAAAAAAAQJ9AAAAAAABAn0AAAAAAAECfQAAAAAAAQJ9A",
          "dtype": "f8",
          "shape": "48, 1"
         },
         "hovertemplate": "<b>Time Step:</b> %{x}<br><b>Budget Left Ratio:</b> %{y:.3f}<br><b>Budget:</b> %{customdata[0]:.0f}<br><extra></extra>",
         "line": {
          "color": "rgb(49, 54, 149)",
          "width": 1.5
         },
         "mode": "lines",
         "opacity": 0.35,
         "showlegend": false,
         "type": "scatter",
         "x": {
          "bdata": "AAECAwQFBgcICQoLDA0ODxAREhMUFRYXGBkaGxwdHh8gISIjJCUmJygpKissLS4v",
          "dtype": "i1"
         },
         "y": {
          "bdata": "uzRupLgx7D8hAIDBmAHqPxtjA+FrQ+g/smNwPLum5j+WP396IQHmPyZaWDtGQuU/O6FziFi35D9MJhd73krkP92E7daKSuQ/3YTt1opK5D/dhO3WikrkPymVM+YDSuQ/KZUz5gNK5D8Ox19wMknkP4eQh92MReQ/3SV/ymgR5D95F1m/Xw/kP14vKuWEzOM/lh4HOdkU4T83dtylhkLgPwhSLRi1Qt4/wQBl7GQY2j9E6MJsVtXWP83DyN/n6NQ/8JzZR6N70j9/mdsDDAHQP4X7mM7g5cs/8gLo0o+0yj+6l218vmvHP1p2RaYq+sM/mqvk+kPlwT/NcIC8M0GwP81wgLwzQbA/bVOK8sc0sD9tU4ryxzSwP0IcRDfvLbA/Cgcsv0ogsD/uDImgpfyvP1o887XO4K8/Wjzztc7grz9aPPO1zuCvP1o887XO4K8/Wjzztc7grz/8YYsbpgyvP2Z2lGVtUa4/JUYHHp9ArD9zcOYVZOOpP55n15PZrak/",
          "dtype": "f8"
         }
        },
        {
         "customdata": {
          "bdata": "AAAAAABAn0AAAAAAAECfQAAAAAAAQJ9AAAAAAABAn0AAAAAAAECfQAAAAAAAQJ9AAAAAAABAn0AAAAAAAECfQAAAAAAAQJ9AAAAAAABAn0AAAAAAAECfQAAAAAAAQJ9AAAAAAABAn0AAAAAAAECfQAAAAAAAQJ9AAAAAAABAn0AAAAAAAECfQAAAAAAAQJ9AAAAAAABAn0AAAAAAAECfQAAAAAAAQJ9AAAAAAABAn0AAAAAAAECfQAAAAAAAQJ9AAAAAAABAn0AAAAAAAECfQAAAAAAAQJ9AAAAAAABAn0AAAAAAAECfQAAAAAAAQJ9AAAAAAABAn0AAAAAAAECfQAAAAAAAQJ9AAAAAAABAn0AAAAAAAECfQAAAAAAAQJ9AAAAAAABAn0AAAAAAAECfQAAAAAAAQJ9AAAAAAABAn0AAAAAAAECfQAAAAAAAQJ9AAAAAAABAn0AAAAAAAECfQAAAAAAAQJ9AAAAAAABAn0AAAAAAAECfQAAAAAAAQJ9A",
          "dtype": "f8",
          "shape": "48, 1"
         },
         "hovertemplate": "<b>Time Step:</b> %{x}<br><b>Budget Left Ratio:</b> %{y:.3f}<br><b>Budget:</b> %{customdata[0]:.0f}<br><extra></extra>",
         "line": {
          "color": "rgb(49, 54, 149)",
          "width": 1.5
         },
         "mode": "lines",
         "opacity": 0.35,
         "showlegend": false,
         "type": "scatter",
         "x": {
          "bdata": "AAECAwQFBgcICQoLDA0ODxAREhMUFRYXGBkaGxwdHh8gISIjJCUmJygpKissLS4v",
          "dtype": "i1"
         },
         "y": {
          "bdata": "AAAAAAAA8D8AAAAAAADwPwAAAAAAAPA/AAAAAAAA8D8AAAAAAADwPwAAAAAAAPA/AAAAAAAA8D8AAAAAAADwPwAAAAAAAPA/AAAAAAAA8D8AAAAAAADwP0bXEOl+/+8/N4QkIB7/7z83hCQgHv/vPzeEJCAe/+8/YtZvI9D+7z9i1m8j0P7vP2LWbyPQ/u8/YtZvI9D+7z9i1m8j0P7vP2LWbyPQ/u8/YtZvI9D+7z9i1m8j0P7vP2LWbyPQ/u8/rz4iusbN7z992llBn4TvP144o5fZz+4/bndtZuk/7j8zk04Oz57sP8e7GQsR1uk/gU2KHzWC5z/wD19i1bzlPxAAQv9H7OQ//HVLPFfN4j+Bze9RYMXgP76nfImJy90/N3rrxP+G2j9zG36eVg3YP9kTKxc4odY/L7EHadf10z/fHLK3na/TP2QJSO7wRM0/VCO9xPWmyz9MrxkfwwOvP4cW2TK/YeE+hxbZMr9h4T6HFtkyv2HhPocW2TK/YeE+",
          "dtype": "f8"
         }
        },
        {
         "customdata": {
          "bdata": "AAAAAADAskAAAAAAAMCyQAAAAAAAwLJAAAAAAADAskAAAAAAAMCyQAAAAAAAwLJAAAAAAADAskAAAAAAAMCyQAAAAAAAwLJAAAAAAADAskAAAAAAAMCyQAAAAAAAwLJAAAAAAADAskAAAAAAAMCyQAAAAAAAwLJAAAAAAADAskAAAAAAAMCyQAAAAAAAwLJAAAAAAADAskAAAAAAAMCyQAAAAAAAwLJAAAAAAADAskAAAAAAAMCyQAAAAAAAwLJAAAAAAADAskAAAAAAAMCyQAAAAAAAwLJAAAAAAADAskAAAAAAAMCyQAAAAAAAwLJAAAAAAADAskAAAAAAAMCyQAAAAAAAwLJAAAAAAADAskAAAAAAAMCyQAAAAAAAwLJAAAAAAADAskAAAAAAAMCyQAAAAAAAwLJAAAAAAADAskAAAAAAAMCyQAAAAAAAwLJAAAAAAADAskAAAAAAAMCyQAAAAAAAwLJAAAAAAADAskAAAAAAAMCyQAAAAAAAwLJA",
          "dtype": "f8",
          "shape": "48, 1"
         },
         "hovertemplate": "<b>Time Step:</b> %{x}<br><b>Budget Left Ratio:</b> %{y:.3f}<br><b>Budget:</b> %{customdata[0]:.0f}<br><extra></extra>",
         "line": {
          "color": "rgb(174, 8, 38)",
          "width": 1.5
         },
         "mode": "lines",
         "opacity": 0.35,
         "showlegend": false,
         "type": "scatter",
         "x": {
          "bdata": "AAECAwQFBgcICQoLDA0ODxAREhMUFRYXGBkaGxwdHh8gISIjJCUmJygpKissLS4v",
          "dtype": "i1"
         },
         "y": {
          "bdata": "CQjMFLhH7z8z7t1Xuj3vP8ijiT1yz+4/rM1pdxiZ7j/BuC9usnDuPw4sBDeMSe4/M5EPR2Ex7j/oc/EpYwjuPwfJnRP8B+4/il4A8o4H7j9SpBbijvjtP0iqGLYL8e0/XL+GIkWa7T+MuIA5Z1rtP73oggNS7Ow/d1iGzEG57D/US9cknLjsP7f1Nf8Irew/dFXqFwVM7D+8KXB1bBvsP0+Aq6Y7nus/NaJXfEv56j+QuHcAz0TqP4yg9MBYuOg/8qxQUVe36D9J3byQp7boP7gebuz1q+g/s05MJ8ip6D8bQ+F4YaHoP+Z3h3eQhug/z3pshf1u6D/GtXNJe23nP9rHHXFHn+Y/TbSVsqXo5D9EKKHqNMXiP4mze7D++OA/vTSA/u6r3D+mtjm3q4nYP81t5nvj3dM/mjU45Qwp0D/XfjrZ8L7PPyw8IJxKxM4/VVtfrRAgxj89pj/sYXO0P3uMLycvXa0/v5Ci9yjupD+J2BDxDuqQP6cNdLaHcs8+",
          "dtype": "f8"
         }
        },
        {
         "customdata": {
          "bdata": "AAAAAACQqkAAAAAAAJCqQAAAAAAAkKpAAAAAAACQqkAAAAAAAJCqQAAAAAAAkKpAAAAAAACQqkAAAAAAAJCqQAAAAAAAkKpAAAAAAACQqkAAAAAAAJCqQAAAAAAAkKpAAAAAAACQqkAAAAAAAJCqQAAAAAAAkKpAAAAAAACQqkAAAAAAAJCqQAAAAAAAkKpAAAAAAACQqkAAAAAAAJCqQAAAAAAAkKpAAAAAAACQqkAAAAAAAJCqQAAAAAAAkKpAAAAAAACQqkAAAAAAAJCqQAAAAAAAkKpAAAAAAACQqkAAAAAAAJCqQAAAAAAAkKpAAAAAAACQqkAAAAAAAJCqQAAAAAAAkKpAAAAAAACQqkAAAAAAAJCqQAAAAAAAkKpAAAAAAACQqkAAAAAAAJCqQAAAAAAAkKpAAAAAAACQqkAAAAAAAJCqQAAAAAAAkKpAAAAAAACQqkAAAAAAAJCqQAAAAAAAkKpAAAAAAACQqkAAAAAAAJCqQAAAAAAAkKpA",
          "dtype": "f8",
          "shape": "48, 1"
         },
         "hovertemplate": "<b>Time Step:</b> %{x}<br><b>Budget Left Ratio:</b> %{y:.3f}<br><b>Budget:</b> %{customdata[0]:.0f}<br><extra></extra>",
         "line": {
          "color": "rgb(252, 254, 196)",
          "width": 1.5
         },
         "mode": "lines",
         "opacity": 0.35,
         "showlegend": false,
         "type": "scatter",
         "x": {
          "bdata": "AAECAwQFBgcICQoLDA0ODxAREhMUFRYXGBkaGxwdHh8gISIjJCUmJygpKissLS4v",
          "dtype": "i1"
         },
         "y": {
          "bdata": "gLIhv5L97z8HJ1Msuu/vP0Mw5pub4O8/tEYvyCDH7z+Hju8Y2MXvPyzjASLkwe8/xAj0Y3rA7z91zzepbb7vP3XPN6ltvu8/dc83qW2+7z/9euQbK77vP8JQ1C4Vve8/8zEuS3K67z+ZisFOdrnvPzxKVzOTte8/30SKPN+07z9dzr0hcVvvP0hM2sAhue0/J4gIcsrf7D88In8f5tnrPwJ8SmvNcOs/2xeRK4sn6j8sNXISRGPpP2+/Avp/hOg/3X109UdV6D+vgRaZJvTnP2Zqn2wQv+c/QGlDC5G05z/+NLFlWKvnP9WGc4x9nec/IT6+kahJ5z+35+v4BtvmP+/BSg0JTeY/pNE2P17C5D8Zhf8H05LiP6w0gTHZK+A/RuonMCo12j9uSnYA8irVPwhiQ4PhzM0/zTP6xw7sxD+72tPfqWjBP2kS2Mb/57A/vKgTUVu1pj9q0LN+3ZmhP1yP0jpW1jQ/3al2isnW8T7dqXaKydbxPt2pdorJ1vE+",
          "dtype": "f8"
         }
        },
        {
         "customdata": {
          "bdata": "AAAAAABisUAAAAAAAGKxQAAAAAAAYrFAAAAAAABisUAAAAAAAGKxQAAAAAAAYrFAAAAAAABisUAAAAAAAGKxQAAAAAAAYrFAAAAAAABisUAAAAAAAGKxQAAAAAAAYrFAAAAAAABisUAAAAAAAGKxQAAAAAAAYrFAAAAAAABisUAAAAAAAGKxQAAAAAAAYrFAAAAAAABisUAAAAAAAGKxQAAAAAAAYrFAAAAAAABisUAAAAAAAGKxQAAAAAAAYrFAAAAAAABisUAAAAAAAGKxQAAAAAAAYrFAAAAAAABisUAAAAAAAGKxQAAAAAAAYrFAAAAAAABisUAAAAAAAGKxQAAAAAAAYrFAAAAAAABisUAAAAAAAGKxQAAAAAAAYrFAAAAAAABisUAAAAAAAGKxQAAAAAAAYrFAAAAAAABisUAAAAAAAGKxQAAAAAAAYrFAAAAAAABisUAAAAAAAGKxQAAAAAAAYrFAAAAAAABisUAAAAAAAGKxQAAAAAAAYrFA",
          "dtype": "f8",
          "shape": "48, 1"
         },
         "hovertemplate": "<b>Time Step:</b> %{x}<br><b>Budget Left Ratio:</b> %{y:.3f}<br><b>Budget:</b> %{customdata[0]:.0f}<br><extra></extra>",
         "line": {
          "color": "rgb(227, 73, 50)",
          "width": 1.5
         },
         "mode": "lines",
         "opacity": 0.35,
         "showlegend": false,
         "type": "scatter",
         "x": {
          "bdata": "AAECAwQFBgcICQoLDA0ODxAREhMUFRYXGBkaGxwdHh8gISIjJCUmJygpKissLS4v",
          "dtype": "i1"
         },
         "y": {
          "bdata": "u7qIP/H97z+7uog/8f3vP7u6iD/x/e8/u7qIP/H97z+7uog/8f3vP7u6iD/x/e8/u7qIP/H97z+7uog/8f3vP7u6iD/x/e8/u7qIP/H97z+7uog/8f3vP7u6iD/x/e8/u7qIP/H97z+7uog/8f3vP7u6iD/x/e8/u7qIP/H97z+7uog/8f3vP7u6iD/x/e8/u7qIP/H97z+7uog/8f3vP7u6iD/x/e8/u7qIP/H97z8KrDAYm/3vP193NppI/e8/X3c2mkj97z9fdzaaSP3vP193NppI/e8/X3c2mkj97z9fdzaaSP3vP193NppI/e8/X3c2mkj97z9fdzaaSP3vP6BTjSx4zOw/8bLL+Ec76j+eiXI/H9nnPzZm1TNSi+U/j9jtwiaX4T8MC/umBnzaPzZK22HgOdE/56iZtI6zwz/NzFdznJ27PyMhdtfXWaM/jKs96PX23T6Mqz3o9fbdPoyrPej19t0+jKs96PX23T6Mqz3o9fbdPoyrPej19t0+",
          "dtype": "f8"
         }
        },
        {
         "customdata": {
          "bdata": "AAAAAAAEoEAAAAAAAASgQAAAAAAABKBAAAAAAAAEoEAAAAAAAASgQAAAAAAABKBAAAAAAAAEoEAAAAAAAASgQAAAAAAABKBAAAAAAAAEoEAAAAAAAASgQAAAAAAABKBAAAAAAAAEoEAAAAAAAASgQAAAAAAABKBAAAAAAAAEoEAAAAAAAASgQAAAAAAABKBAAAAAAAAEoEAAAAAAAASgQAAAAAAABKBAAAAAAAAEoEAAAAAAAASgQAAAAAAABKBAAAAAAAAEoEAAAAAAAASgQAAAAAAABKBAAAAAAAAEoEAAAAAAAASgQAAAAAAABKBAAAAAAAAEoEAAAAAAAASgQAAAAAAABKBAAAAAAAAEoEAAAAAAAASgQAAAAAAABKBAAAAAAAAEoEAAAAAAAASgQAAAAAAABKBAAAAAAAAEoEAAAAAAAASgQAAAAAAABKBAAAAAAAAEoEAAAAAAAASgQAAAAAAABKBAAAAAAAAEoEAAAAAAAASgQAAAAAAABKBA",
          "dtype": "f8",
          "shape": "48, 1"
         },
         "hovertemplate": "<b>Time Step:</b> %{x}<br><b>Budget Left Ratio:</b> %{y:.3f}<br><b>Budget:</b> %{customdata[0]:.0f}<br><extra></extra>",
         "line": {
          "color": "rgb(53, 65, 154)",
          "width": 1.5
         },
         "mode": "lines",
         "opacity": 0.35,
         "showlegend": false,
         "type": "scatter",
         "x": {
          "bdata": "AAECAwQFBgcICQoLDA0ODxAREhMUFRYXGBkaGxwdHh8gISIjJCUmJygpKissLS4v",
          "dtype": "i1"
         },
         "y": {
          "bdata": "AAAAAAAA8D8AAAAAAADwPwAAAAAAAPA/AAAAAAAA8D8AAAAAAADwPwAAAAAAAPA/AAAAAAAA8D8AAAAAAADwPwAAAAAAAPA/AAAAAAAA8D8AAAAAAADwPwAAAAAAAPA/AAAAAAAA8D8AAAAAAADwPwAAAAAAAPA/AAAAAAAA8D8AAAAAAADwPwAAAAAAAPA/AAAAAAAA8D8AAAAAAADwPwAAAAAAAPA/AAAAAAAA8D8AAAAAAADwPwAAAAAAAPA/5dB+eDbL6z9650Pgm4bkP9U1Tiag790/8Cn2jpbT0z/oUDY2gAnMP7KndyzKW8M/VY2Y+B8+uD8Nbee8Aq+0Pw1t57wCr7Q/DW3nvAKvtD+kD0PfcJG0P9E8TfSLJrQ/8xPVIKbpsz8QwYwrjgqxP9Qv5m5LUa0/kD5h80rSpz8Qf+G88AujP0D+Rt7zs0s/mpgdznc+OT8oYP/YP2gzPyhg/9g/aDM/EL8D0VoE7j4QvwPRWgTuPhC/A9FaBO4+",
          "dtype": "f8"
         }
        },
        {
         "customdata": {
          "bdata": "AAAAAAAEoEAAAAAAAASgQAAAAAAABKBAAAAAAAAEoEAAAAAAAASgQAAAAAAABKBAAAAAAAAEoEAAAAAAAASgQAAAAAAABKBAAAAAAAAEoEAAAAAAAASgQAAAAAAABKBAAAAAAAAEoEAAAAAAAASgQAAAAAAABKBAAAAAAAAEoEAAAAAAAASgQAAAAAAABKBAAAAAAAAEoEAAAAAAAASgQAAAAAAABKBAAAAAAAAEoEAAAAAAAASgQAAAAAAABKBAAAAAAAAEoEAAAAAAAASgQAAAAAAABKBAAAAAAAAEoEAAAAAAAASgQAAAAAAABKBAAAAAAAAEoEAAAAAAAASgQAAAAAAABKBAAAAAAAAEoEAAAAAAAASgQAAAAAAABKBAAAAAAAAEoEAAAAAAAASgQAAAAAAABKBAAAAAAAAEoEAAAAAAAASgQAAAAAAABKBAAAAAAAAEoEAAAAAAAASgQAAAAAAABKBAAAAAAAAEoEAAAAAAAASgQAAAAAAABKBA",
          "dtype": "f8",
          "shape": "48, 1"
         },
         "hovertemplate": "<b>Time Step:</b> %{x}<br><b>Budget Left Ratio:</b> %{y:.3f}<br><b>Budget:</b> %{customdata[0]:.0f}<br><extra></extra>",
         "line": {
          "color": "rgb(53, 65, 154)",
          "width": 1.5
         },
         "mode": "lines",
         "opacity": 0.35,
         "showlegend": false,
         "type": "scatter",
         "x": {
          "bdata": "AAECAwQFBgcICQoLDA0ODxAREhMUFRYXGBkaGxwdHh8gISIjJCUmJygpKissLS4v",
          "dtype": "i1"
         },
         "y": {
          "bdata": "2xokICaQ7T9ibKTiSO3rP/DfsHM+0uo/scP3Pr486j+fywWirafpPw2cqcPhJuk/cFhBEgWk6D/yNQyyJ2foPzrWD6rQ/ec/9/tGTZJy5z+cRwiQwfLmP6cPWuh1AuY/PTuTIoKl5D8N5hSJ9aLiPyi2q90aDeA/Bk+aopyG3j8GT5qinIbeP36umcrhAN4/hu4bWTE43T8ZdHL1fwbcP8RJGZNBqto/zaLyM5jz1z98/z/byJ/XP/dztfMMjNY/93O18wyM1j/3c7XzDIzWP/dztfMMjNY/93O18wyM1j/3c7XzDIzWP/dztfMMjNY/93O18wyM1j/3c7XzDIzWP/dztfMMjNY/93O18wyM1j/3c7XzDIzWP57Heu4sfdY/nsd67ix91j8wmZDlEE3WPw/jKgcFHNY/Er//mMsW1j9tsqxa4uDQP2I4e7hQArc/xWql95pYmD87E7NH6yn9PjsTs0frKf0+OxOzR+sp/T47E7NH6yn9PjsTs0frKf0+",
          "dtype": "f8"
         }
        },
        {
         "customdata": {
          "bdata": "AAAAAAD4oUAAAAAAAPihQAAAAAAA+KFAAAAAAAD4oUAAAAAAAPihQAAAAAAA+KFAAAAAAAD4oUAAAAAAAPihQAAAAAAA+KFAAAAAAAD4oUAAAAAAAPihQAAAAAAA+KFAAAAAAAD4oUAAAAAAAPihQAAAAAAA+KFAAAAAAAD4oUAAAAAAAPihQAAAAAAA+KFAAAAAAAD4oUAAAAAAAPihQAAAAAAA+KFAAAAAAAD4oUAAAAAAAPihQAAAAAAA+KFAAAAAAAD4oUAAAAAAAPihQAAAAAAA+KFAAAAAAAD4oUAAAAAAAPihQAAAAAAA+KFAAAAAAAD4oUAAAAAAAPihQAAAAAAA+KFAAAAAAAD4oUAAAAAAAPihQAAAAAAA+KFAAAAAAAD4oUAAAAAAAPihQAAAAAAA+KFAAAAAAAD4oUAAAAAAAPihQAAAAAAA+KFAAAAAAAD4oUAAAAAAAPihQAAAAAAA+KFAAAAAAAD4oUAAAAAAAPihQAAAAAAA+KFA",
          "dtype": "f8",
          "shape": "48, 1"
         },
         "hovertemplate": "<b>Time Step:</b> %{x}<br><b>Budget Left Ratio:</b> %{y:.3f}<br><b>Budget:</b> %{customdata[0]:.0f}<br><extra></extra>",
         "line": {
          "color": "rgb(71, 120, 182)",
          "width": 1.5
         },
         "mode": "lines",
         "opacity": 0.35,
         "showlegend": false,
         "type": "scatter",
         "x": {
          "bdata": "AAECAwQFBgcICQoLDA0ODxAREhMUFRYXGBkaGxwdHh8gISIjJCUmJygpKissLS4v",
          "dtype": "i1"
         },
         "y": {
          "bdata": "AAAAAAAA8D8AAAAAAADwP9ekhtCv/+8/16SG0K//7z/XpIbQr//vP9ekhtCv/+8/16SG0K//7z/XpIbQr//vP9ekhtCv/+8/16SG0K//7z/XpIbQr//vP9ekhtCv/+8/16SG0K//7z/XpIbQr//vP9ekhtCv/+8/16SG0K//7z+f1boRQDLvP4EZcYyM7eo/NAcICxH95z/oUOgogCHhPyPGfOv7p9o/vk8u3xDe0j/SN8M0z1W1P6c3qASQRac/pzeoBJBFpz+nN6gEkEWnP6c3qASQRac/pzeoBJBFpz+nN6gEkEWnP6c3qASQRac/pzeoBJBFpz+nN6gEkEWnP9EW1+4p0aY/uV8swEK7oz8t5EAPLDuZP1kJJnCMcos/XpNbiIqEhT+CJFU6UfmEP4cwHsaPJIE/oitO2NAhgD+iK07Y0CGAPyUTCwgX9X8/JtbvvPL/eT/Fe5Z+Wa7kPsV7ln5ZruQ+xXuWflmu5D7Fe5Z+Wa7kPsV7ln5ZruQ+",
          "dtype": "f8"
         }
        },
        {
         "customdata": {
          "bdata": "AAAAAABAn0AAAAAAAECfQAAAAAAAQJ9AAAAAAABAn0AAAAAAAECfQAAAAAAAQJ9AAAAAAABAn0AAAAAAAECfQAAAAAAAQJ9AAAAAAABAn0AAAAAAAECfQAAAAAAAQJ9AAAAAAABAn0AAAAAAAECfQAAAAAAAQJ9AAAAAAABAn0AAAAAAAECfQAAAAAAAQJ9AAAAAAABAn0AAAAAAAECfQAAAAAAAQJ9AAAAAAABAn0AAAAAAAECfQAAAAAAAQJ9AAAAAAABAn0AAAAAAAECfQAAAAAAAQJ9AAAAAAABAn0AAAAAAAECfQAAAAAAAQJ9AAAAAAABAn0AAAAAAAECfQAAAAAAAQJ9AAAAAAABAn0AAAAAAAECfQAAAAAAAQJ9AAAAAAABAn0AAAAAAAECfQAAAAAAAQJ9AAAAAAABAn0AAAAAAAECfQAAAAAAAQJ9AAAAAAABAn0AAAAAAAECfQAAAAAAAQJ9AAAAAAABAn0AAAAAAAECfQAAAAAAAQJ9A",
          "dtype": "f8",
          "shape": "48, 1"
         },
         "hovertemplate": "<b>Time Step:</b> %{x}<br><b>Budget Left Ratio:</b> %{y:.3f}<br><b>Budget:</b> %{customdata[0]:.0f}<br><extra></extra>",
         "line": {
          "color": "rgb(49, 54, 149)",
          "width": 1.5
         },
         "mode": "lines",
         "opacity": 0.35,
         "showlegend": false,
         "type": "scatter",
         "x": {
          "bdata": "AAECAwQFBgcICQoLDA0ODxAREhMUFRYXGBkaGxwdHh8gISIjJCUmJygpKissLS4v",
          "dtype": "i1"
         },
         "y": {
          "bdata": "AAAAAAAA8D/OmrgOOcTvP3L0I8Efwe8/OpiMZS2x7z+OMUSajq/vP6Xc7sIOq+8/pdzuwg6r7z/dFAbTcanvP90UBtNxqe8/3RQG03Gp7z/dFAbTcanvP90UBtNxqe8/3RQG03Gp7z/dFAbTcanvP90UBtNxqe8/3RQG03Gp7z8x2XMNvZ/vP05gy+aGLO8/RoazlHPR7T/P7MPsMi7tP0R1+W2H1+g/rwNonTob5D9o213fkCncP3mZhSQ2+9A/11bVomy50D+sr4o8BILQP83Br21CbdA/y8chulDpzz/bBbTNRJnOP1pIrZbnKs4/XhLOjU8mzD+yc5vHGE/LP1IUVTJ1qcU/BhVrx7vZuT851NgCcku2P5NI9J15EJ8/HfpfnkFvlD9YGcUBWpiPP+e7gF1Knog/kxgETh5z1j6TGAROHnPWPpMYBE4ec9Y+kxgETh5z1j6TGAROHnPWPpMYBE4ec9Y+kxgETh5z1j6TGAROHnPWPpMYBE4ec9Y+",
          "dtype": "f8"
         }
        },
        {
         "customdata": {
          "bdata": "AAAAAAD0qkAAAAAAAPSqQAAAAAAA9KpAAAAAAAD0qkAAAAAAAPSqQAAAAAAA9KpAAAAAAAD0qkAAAAAAAPSqQAAAAAAA9KpAAAAAAAD0qkAAAAAAAPSqQAAAAAAA9KpAAAAAAAD0qkAAAAAAAPSqQAAAAAAA9KpAAAAAAAD0qkAAAAAAAPSqQAAAAAAA9KpAAAAAAAD0qkAAAAAAAPSqQAAAAAAA9KpAAAAAAAD0qkAAAAAAAPSqQAAAAAAA9KpAAAAAAAD0qkAAAAAAAPSqQAAAAAAA9KpAAAAAAAD0qkAAAAAAAPSqQAAAAAAA9KpAAAAAAAD0qkAAAAAAAPSqQAAAAAAA9KpAAAAAAAD0qkAAAAAAAPSqQAAAAAAA9KpAAAAAAAD0qkAAAAAAAPSqQAAAAAAA9KpAAAAAAAD0qkAAAAAAAPSqQAAAAAAA9KpAAAAAAAD0qkAAAAAAAPSqQAAAAAAA9KpAAAAAAAD0qkAAAAAAAPSqQAAAAAAA9KpA",
          "dtype": "f8",
          "shape": "48, 1"
         },
         "hovertemplate": "<b>Time Step:</b> %{x}<br><b>Budget Left Ratio:</b> %{y:.3f}<br><b>Budget:</b> %{customdata[0]:.0f}<br><extra></extra>",
         "line": {
          "color": "rgb(255, 252, 187)",
          "width": 1.5
         },
         "mode": "lines",
         "opacity": 0.35,
         "showlegend": false,
         "type": "scatter",
         "x": {
          "bdata": "AAECAwQFBgcICQoLDA0ODxAREhMUFRYXGBkaGxwdHh8gISIjJCUmJygpKissLS4v",
          "dtype": "i1"
         },
         "y": {
          "bdata": "AAAAAAAA8D8AAAAAAADwPwAAAAAAAPA/AAAAAAAA8D8AAAAAAADwPwAAAAAAAPA/AAAAAAAA8D8AAAAAAADwPwAAAAAAAPA/AAAAAAAA8D8AAAAAAADwPwAAAAAAAPA/AAAAAAAA8D8AAAAAAADwPwAAAAAAAPA/AAAAAAAA8D8AAAAAAADwPwAAAAAAAPA/AAAAAAAA8D8AAAAAAADwPwAAAAAAAPA/mNcwtJ7/7z+Y1zC0nv/vP5jXMLSe/+8/hAM4gbHm7j+g7cETGljsP7YTMiPvz+c/zpaU0F8X5T/TD+CNSSzjP+YMk2cL0uA/UcE6BQU+3T9PjdeEjFrYP3Octi6yndc/nSBodnY71D/s3Sm6BjfPP0YezuT1Xcg/5QNUPLqVxT8u/G9ga0PEP6e4NUfx278/Me4jrLshtj8so+2U9Km1Pzb6MlPB87E/U6UKo0aZqT+eTcfTRaGHP0k5rqXYZm0/BB9bomgmkT4EH1uiaCaRPgQfW6JoJpE+",
          "dtype": "f8"
         }
        },
        {
         "customdata": {
          "bdata": "AAAAAADgpUAAAAAAAOClQAAAAAAA4KVAAAAAAADgpUAAAAAAAOClQAAAAAAA4KVAAAAAAADgpUAAAAAAAOClQAAAAAAA4KVAAAAAAADgpUAAAAAAAOClQAAAAAAA4KVAAAAAAADgpUAAAAAAAOClQAAAAAAA4KVAAAAAAADgpUAAAAAAAOClQAAAAAAA4KVAAAAAAADgpUAAAAAAAOClQAAAAAAA4KVAAAAAAADgpUAAAAAAAOClQAAAAAAA4KVAAAAAAADgpUAAAAAAAOClQAAAAAAA4KVAAAAAAADgpUAAAAAAAOClQAAAAAAA4KVAAAAAAADgpUAAAAAAAOClQAAAAAAA4KVAAAAAAADgpUAAAAAAAOClQAAAAAAA4KVAAAAAAADgpUAAAAAAAOClQAAAAAAA4KVAAAAAAADgpUAAAAAAAOClQAAAAAAA4KVAAAAAAADgpUAAAAAAAOClQAAAAAAA4KVAAAAAAADgpUAAAAAAAOClQAAAAAAA4KVA",
          "dtype": "f8",
          "shape": "48, 1"
         },
         "hovertemplate": "<b>Time Step:</b> %{x}<br><b>Budget Left Ratio:</b> %{y:.3f}<br><b>Budget:</b> %{customdata[0]:.0f}<br><extra></extra>",
         "line": {
          "color": "rgb(160, 209, 228)",
          "width": 1.5
         },
         "mode": "lines",
         "opacity": 0.35,
         "showlegend": false,
         "type": "scatter",
         "x": {
          "bdata": "AAECAwQFBgcICQoLDA0ODxAREhMUFRYXGBkaGxwdHh8gISIjJCUmJygpKissLS4v",
          "dtype": "i1"
         },
         "y": {
          "bdata": "ZWiENfeu7j+49qc2dRTuP6HM2Jxi7+0/eJX43czj7T8EQ+fgar3tP0A1adXJmO0/eJNDU+SE7T9DCxvhqHDtP0MLG+GocO0/Qwsb4ahw7T9iQ/GwYHDtP2JD8bBgcO0/YkPxsGBw7T9iQ/GwYHDtP2JD8bBgcO0/YkPxsGBw7T+wyDpm+ansP3a/gfW/Ruw/87g1Y6XJ6z8SLFdVoxrrP8gzkWJqdec/orHCmNmz5D/AtcTNO+DhP5K7OSQJ1t8/krs5JAnW3z+SuzkkCdbfP5K7OSQJ1t8/krs5JAnW3z+SuzkkCdbfP5K7OSQJ1t8/krs5JAnW3z9JEeycrNXfPxp8GxgfWd8/D0tvihQx3D85U13s+GDYP0Xvv9vwatI/mxYuDZ51zj8DJij9RonHP3iKx6BqU8Q/GVHPYXNivj/Ehu82a0S6P/YQAMXhDrc/8bUbVUGgpT8DoqK4yEuZP6RwOQzfxFU/kXOfUazNyj6Rc59RrM3KPpFzn1Gszco+",
          "dtype": "f8"
         }
        },
        {
         "customdata": {
          "bdata": "AAAAAABAn0AAAAAAAECfQAAAAAAAQJ9AAAAAAABAn0AAAAAAAECfQAAAAAAAQJ9AAAAAAABAn0AAAAAAAECfQAAAAAAAQJ9AAAAAAABAn0AAAAAAAECfQAAAAAAAQJ9AAAAAAABAn0AAAAAAAECfQAAAAAAAQJ9AAAAAAABAn0AAAAAAAECfQAAAAAAAQJ9AAAAAAABAn0AAAAAAAECfQAAAAAAAQJ9AAAAAAABAn0AAAAAAAECfQAAAAAAAQJ9AAAAAAABAn0AAAAAAAECfQAAAAAAAQJ9AAAAAAABAn0AAAAAAAECfQAAAAAAAQJ9AAAAAAABAn0AAAAAAAECfQAAAAAAAQJ9AAAAAAABAn0AAAAAAAECfQAAAAAAAQJ9AAAAAAABAn0AAAAAAAECfQAAAAAAAQJ9AAAAAAABAn0AAAAAAAECfQAAAAAAAQJ9AAAAAAABAn0AAAAAAAECfQAAAAAAAQJ9AAAAAAABAn0AAAAAAAECfQAAAAAAAQJ9A",
          "dtype": "f8",
          "shape": "48, 1"
         },
         "hovertemplate": "<b>Time Step:</b> %{x}<br><b>Budget Left Ratio:</b> %{y:.3f}<br><b>Budget:</b> %{customdata[0]:.0f}<br><extra></extra>",
         "line": {
          "color": "rgb(49, 54, 149)",
          "width": 1.5
         },
         "mode": "lines",
         "opacity": 0.35,
         "showlegend": false,
         "type": "scatter",
         "x": {
          "bdata": "AAECAwQFBgcICQoLDA0ODxAREhMUFRYXGBkaGxwdHh8gISIjJCUmJygpKissLS4v",
          "dtype": "i1"
         },
         "y": {
          "bdata": "LTVbryTD7j/ZsqtKQ5/uP/qtgej2K+4/d299UB4a7j/oZRgKaOvtP1WUARWl3e0/Dzz/iMjY7T97eybbkbrtP3t7JtuRuu0/e3sm25G67T97eybbkbrtP3t7JtuRuu0/e3sm25G67T97eybbkbrtP3t7JtuRuu0/e3sm25G67T97eybbkbrtP3t7JtuRuu0/e3sm25G67T+CsuY9R7rtP3CEXUIIuu0/cIRdQgi67T9whF1CCLrtPyohcvP6tu0/KiFy8/q27T8qIXLz+rbtPyohcvP6tu0/KiFy8/q27T8qIXLz+rbtPyohcvP6tu0/KiFy8/q27T8qIXLz+rbtP44u1esexuw/ZCLW5zSX6j81JqHDu2nmP8mXqEOpS+I/9MJeZl8w2j+0ioebq5jRPwr3osiWvsQ/UoidFIHmoD9g5d0wy5KgP5ieQOJ92Z4/c6jUluQfhz9vEsM+7Wj2Pm8Swz7taPY+bxLDPu1o9j5vEsM+7Wj2Pm8Swz7taPY+",
          "dtype": "f8"
         }
        },
        {
         "customdata": {
          "bdata": "AAAAAAAqskAAAAAAACqyQAAAAAAAKrJAAAAAAAAqskAAAAAAACqyQAAAAAAAKrJAAAAAAAAqskAAAAAAACqyQAAAAAAAKrJAAAAAAAAqskAAAAAAACqyQAAAAAAAKrJAAAAAAAAqskAAAAAAACqyQAAAAAAAKrJAAAAAAAAqskAAAAAAACqyQAAAAAAAKrJAAAAAAAAqskAAAAAAACqyQAAAAAAAKrJAAAAAAAAqskAAAAAAACqyQAAAAAAAKrJAAAAAAAAqskAAAAAAACqyQAAAAAAAKrJAAAAAAAAqskAAAAAAACqyQAAAAAAAKrJAAAAAAAAqskAAAAAAACqyQAAAAAAAKrJAAAAAAAAqskAAAAAAACqyQAAAAAAAKrJAAAAAAAAqskAAAAAAACqyQAAAAAAAKrJAAAAAAAAqskAAAAAAACqyQAAAAAAAKrJAAAAAAAAqskAAAAAAACqyQAAAAAAAKrJAAAAAAAAqskAAAAAAACqyQAAAAAAAKrJA",
          "dtype": "f8",
          "shape": "48, 1"
         },
         "hovertemplate": "<b>Time Step:</b> %{x}<br><b>Budget Left Ratio:</b> %{y:.3f}<br><b>Budget:</b> %{customdata[0]:.0f}<br><extra></extra>",
         "line": {
          "color": "rgb(200, 34, 39)",
          "width": 1.5
         },
         "mode": "lines",
         "opacity": 0.35,
         "showlegend": false,
         "type": "scatter",
         "x": {
          "bdata": "AAECAwQFBgcICQoLDA0ODxAREhMUFRYXGBkaGxwdHh8gISIjJCUmJygpKissLS4v",
          "dtype": "i1"
         },
         "y": {
          "bdata": "QPNQU2L67z9qjTVscprvP48stynkle8/IYTpU++T7z9/Ntr/mJLvP6ObWXmQkO8/0xgjpAKL7z/TGCOkAovvP9MYI6QCi+8/0xgjpAKL7z/TGCOkAovvP9MYI6QCi+8/MOj8JlWF7z9h0EQiTITvP1Dsz0AZYu8/ZTje9Kdf7z8PvhvafV/vP/h6ZVbbXO8/r7yc2Yhb7z8+8yZjNVvvPz7zJmM1W+8/Yqphnjog7z+GyXOSu17uPwHlOeOH9ew/AeU544f17D8B5Tnjh/XsPwHlOeOH9ew/AeU544f17D8B5Tnjh/XsPwHlOeOH9ew/AeU544f17D8B5Tnjh/XsP7G1SoNcp+w/2pcCgQF/6z/fsh7ZUenpP6LKjyNPOug/DqbpuB1C5z9/U8Xv2mPmPwAsKOi1F+U/d/9ySZNu4z99fZA1aRTiP0JzHqj9qeA/PCkfSop72z8S4hHbJkfVP18x2Ep4Pso/6YPuLjeqwT8/Li2ohi2qP2zFw1b1Va0+",
          "dtype": "f8"
         }
        },
        {
         "customdata": {
          "bdata": "AAAAAABAn0AAAAAAAECfQAAAAAAAQJ9AAAAAAABAn0AAAAAAAECfQAAAAAAAQJ9AAAAAAABAn0AAAAAAAECfQAAAAAAAQJ9AAAAAAABAn0AAAAAAAECfQAAAAAAAQJ9AAAAAAABAn0AAAAAAAECfQAAAAAAAQJ9AAAAAAABAn0AAAAAAAECfQAAAAAAAQJ9AAAAAAABAn0AAAAAAAECfQAAAAAAAQJ9AAAAAAABAn0AAAAAAAECfQAAAAAAAQJ9AAAAAAABAn0AAAAAAAECfQAAAAAAAQJ9AAAAAAABAn0AAAAAAAECfQAAAAAAAQJ9AAAAAAABAn0AAAAAAAECfQAAAAAAAQJ9AAAAAAABAn0AAAAAAAECfQAAAAAAAQJ9AAAAAAABAn0AAAAAAAECfQAAAAAAAQJ9AAAAAAABAn0AAAAAAAECfQAAAAAAAQJ9AAAAAAABAn0AAAAAAAECfQAAAAAAAQJ9AAAAAAABAn0AAAAAAAECfQAAAAAAAQJ9A",
          "dtype": "f8",
          "shape": "48, 1"
         },
         "hovertemplate": "<b>Time Step:</b> %{x}<br><b>Budget Left Ratio:</b> %{y:.3f}<br><b>Budget:</b> %{customdata[0]:.0f}<br><extra></extra>",
         "line": {
          "color": "rgb(49, 54, 149)",
          "width": 1.5
         },
         "mode": "lines",
         "opacity": 0.35,
         "showlegend": false,
         "type": "scatter",
         "x": {
          "bdata": "AAECAwQFBgcICQoLDA0ODxAREhMUFRYXGBkaGxwdHh8gISIjJCUmJygpKissLS4v",
          "dtype": "i1"
         },
         "y": {
          "bdata": "ACyA5Dn97z+wWE2PkvvvPzof1WJa+e8/Oh/VYlr57z84afMA+/bvPzhp8wD79u8/OGnzAPv27z9oyB9MpfbvP2jIH0yl9u8/aMgfTKX27z9oyB9MpfbvP2jIH0yl9u8/aMgfTKX27z9oyB9MpfbvP2jIH0yl9u8/aMgfTKX27z+wwPQDceHvPxZCLK46y+4/Gk2C/pwi7D8R2HN3+//qP6EzIuMqKOk/i51VVXY85j/0CYnvtfXlPy5yIWnH++Q/EjcGqn375D8SNwaqffvkP4PGGC9f7uQ/lP/xWCu55D9tbWkENF7jP7EEEUXCIeM/c0f/HWzH4j+cIPdcki7iP3dO6igdJuI/kFrlJ/Uk4D+tfLwqqdjfP26XScNET98/wwyHtBjd3T/whfohFTLdPzVkfoevCN0/SAJ55GXl2z8t7u2wkhzbP2gWLxxN39k/9mUUjAHz0T9IoVRNtgTEP8MZitLc+70/RLtK5fncpz9mJvVGQjpzP+xReL/ZGfk+",
          "dtype": "f8"
         }
        },
        {
         "customdata": {
          "bdata": "AAAAAAAwoUAAAAAAADChQAAAAAAAMKFAAAAAAAAwoUAAAAAAADChQAAAAAAAMKFAAAAAAAAwoUAAAAAAADChQAAAAAAAMKFAAAAAAAAwoUAAAAAAADChQAAAAAAAMKFAAAAAAAAwoUAAAAAAADChQAAAAAAAMKFAAAAAAAAwoUAAAAAAADChQAAAAAAAMKFAAAAAAAAwoUAAAAAAADChQAAAAAAAMKFAAAAAAAAwoUAAAAAAADChQAAAAAAAMKFAAAAAAAAwoUAAAAAAADChQAAAAAAAMKFAAAAAAAAwoUAAAAAAADChQAAAAAAAMKFAAAAAAAAwoUAAAAAAADChQAAAAAAAMKFAAAAAAAAwoUAAAAAAADChQAAAAAAAMKFAAAAAAAAwoUAAAAAAADChQAAAAAAAMKFAAAAAAAAwoUAAAAAAADChQAAAAAAAMKFAAAAAAAAwoUAAAAAAADChQAAAAAAAMKFAAAAAAAAwoUAAAAAAADChQAAAAAAAMKFA",
          "dtype": "f8",
          "shape": "48, 1"
         },
         "hovertemplate": "<b>Time Step:</b> %{x}<br><b>Budget Left Ratio:</b> %{y:.3f}<br><b>Budget:</b> %{customdata[0]:.0f}<br><extra></extra>",
         "line": {
          "color": "rgb(63, 98, 171)",
          "width": 1.5
         },
         "mode": "lines",
         "opacity": 0.35,
         "showlegend": false,
         "type": "scatter",
         "x": {
          "bdata": "AAECAwQFBgcICQoLDA0ODxAREhMUFRYXGBkaGxwdHh8gISIjJCUmJygpKissLS4v",
          "dtype": "i1"
         },
         "y": {
          "bdata": "AAAAAAAA8D8AAAAAAADwPwAAAAAAAPA/AAAAAAAA8D8AAAAAAADwPwAAAAAAAPA/AAAAAAAA8D8AAAAAAADwPyGlBzKf/+8/hhA0oC//7z+lN+bYBvPvPwQsKVF07e8/Vu5r5C3F7z/HGpQYZzvuP/tL91CtKO0/TbhZ6A1H6z9NuFnoDUfrP024WegNR+s/TbhZ6A1H6z9NuFnoDUfrP024WegNR+s/TbhZ6A1H6z9NuFnoDUfrP024WegNR+s/Xk86IhlE6z8j00OmcTzrP0hZEy/uJ+s/2hDndicm6z/HkGtuQvbqP7XOe4djleo/3Ab8LXGN6j+ZJ4G28HnqPyGWUcHp1ek/BUV60GKJ6D9b5tmD1ebkP1S5DxbY1eM/BGyf7IP54j9AUVesAGriP1jx3zXt+eE/781e4Znm3z+9pdlfTATfP2L1w5B9dt0/dEHvoea42D+NGE1pwtXMP34jOhVUfLA/fPm8e4413j58+bx7jjXePnz5vHuONd4+",
          "dtype": "f8"
         }
        },
        {
         "customdata": {
          "bdata": "AAAAAAAYpUAAAAAAABilQAAAAAAAGKVAAAAAAAAYpUAAAAAAABilQAAAAAAAGKVAAAAAAAAYpUAAAAAAABilQAAAAAAAGKVAAAAAAAAYpUAAAAAAABilQAAAAAAAGKVAAAAAAAAYpUAAAAAAABilQAAAAAAAGKVAAAAAAAAYpUAAAAAAABilQAAAAAAAGKVAAAAAAAAYpUAAAAAAABilQAAAAAAAGKVAAAAAAAAYpUAAAAAAABilQAAAAAAAGKVAAAAAAAAYpUAAAAAAABilQAAAAAAAGKVAAAAAAAAYpUAAAAAAABilQAAAAAAAGKVAAAAAAAAYpUAAAAAAABilQAAAAAAAGKVAAAAAAAAYpUAAAAAAABilQAAAAAAAGKVAAAAAAAAYpUAAAAAAABilQAAAAAAAGKVAAAAAAAAYpUAAAAAAABilQAAAAAAAGKVAAAAAAAAYpUAAAAAAABilQAAAAAAAGKVAAAAAAAAYpUAAAAAAABilQAAAAAAAGKVA",
          "dtype": "f8",
          "shape": "48, 1"
         },
         "hovertemplate": "<b>Time Step:</b> %{x}<br><b>Budget Left Ratio:</b> %{y:.3f}<br><b>Budget:</b> %{customdata[0]:.0f}<br><extra></extra>",
         "line": {
          "color": "rgb(141, 193, 220)",
          "width": 1.5
         },
         "mode": "lines",
         "opacity": 0.35,
         "showlegend": false,
         "type": "scatter",
         "x": {
          "bdata": "AAECAwQFBgcICQoLDA0ODxAREhMUFRYXGBkaGxwdHh8gISIjJCUmJygpKissLS4v",
          "dtype": "i1"
         },
         "y": {
          "bdata": "b9GRl7TV7z8/n2qJ8VvvP0k0GsXmp+4/C0nAPOF47j8ZmXz72zDuPx2I7E5OIO4/zoOQ4akL7j8R0NfuLAXuPxHQ1+4sBe4/EdDX7iwF7j+CX/GKWP7tP4fZxFcZ/u0/t+v257T57T/j8p6RjvbtP49FhBpQ9e0/JNobXgLV7T/7FnOkxZftP608Sidomeo/zAcPxtKh6T+fwBUXXTjoP1ZzLN+lvuc/EXh7gWV15T9Fh/a1oXDiP623yvokuOA/OxjXQjp54D+dk9v9OyvgP9x/btMW1ts/kB//b3P12D8bAgt3RenXPy498BIKHNY/4eXmiPai1T9EqG+H9uXSP/OgTxbd49I/86BPFt3j0j/zoE8W3ePSP/OgTxbd49I/86BPFt3j0j/zoE8W3ePSP/OgTxbd49I/86BPFt3j0j8pfIykNobGP3s/SV/L57g/EnDIljbvlT/SJ31K99rlPtInfUr32uU+0id9Svfa5T7SJ31K99rlPtInfUr32uU+",
          "dtype": "f8"
         }
        },
        {
         "customdata": {
          "bdata": "AAAAAAAYpUAAAAAAABilQAAAAAAAGKVAAAAAAAAYpUAAAAAAABilQAAAAAAAGKVAAAAAAAAYpUAAAAAAABilQAAAAAAAGKVAAAAAAAAYpUAAAAAAABilQAAAAAAAGKVAAAAAAAAYpUAAAAAAABilQAAAAAAAGKVAAAAAAAAYpUAAAAAAABilQAAAAAAAGKVAAAAAAAAYpUAAAAAAABilQAAAAAAAGKVAAAAAAAAYpUAAAAAAABilQAAAAAAAGKVAAAAAAAAYpUAAAAAAABilQAAAAAAAGKVAAAAAAAAYpUAAAAAAABilQAAAAAAAGKVAAAAAAAAYpUAAAAAAABilQAAAAAAAGKVAAAAAAAAYpUAAAAAAABilQAAAAAAAGKVAAAAAAAAYpUAAAAAAABilQAAAAAAAGKVAAAAAAAAYpUAAAAAAABilQAAAAAAAGKVAAAAAAAAYpUAAAAAAABilQAAAAAAAGKVAAAAAAAAYpUAAAAAAABilQAAAAAAAGKVA",
          "dtype": "f8",
          "shape": "48, 1"
         },
         "hovertemplate": "<b>Time Step:</b> %{x}<br><b>Budget Left Ratio:</b> %{y:.3f}<br><b>Budget:</b> %{customdata[0]:.0f}<br><extra></extra>",
         "line": {
          "color": "rgb(141, 193, 220)",
          "width": 1.5
         },
         "mode": "lines",
         "opacity": 0.35,
         "showlegend": false,
         "type": "scatter",
         "x": {
          "bdata": "AAECAwQFBgcICQoLDA0ODxAREhMUFRYXGBkaGxwdHh8gISIjJCUmJygpKissLS4v",
          "dtype": "i1"
         },
         "y": {
          "bdata": "CrOEA0fk7z+c0Ll3X6nvP5McbhPCiu8/ts/fIOp87z+AyvER5kzvP7lV2Yt3Cu8/INFTAmX07j8hdEu3EtPuPyF0S7cS0+4/LiQmIi7R7j+qcy9/G8/uP8TRPcsrue4/7wUOiWmI7j+vWZFWSW7uP2zJpxMQIO4/UswsVWrX7T+i4BEwdb7tP4XYmyxIo+w/1k+AgiHF6D9lPvcWrCPmP2t41a5ZseI/iezwzUMB4D/+CjEdpc7aP1Rutq7oCNc/4p8Z58Hu1j+cZxUX2JDWPwudRNIx4tQ/yVly//rw0z9kEN1W2PvSP820SKkqDNI/C7U6ekTA0D/743gFjuDPPyuVrCm7388/xp24jSzXzz/GnbiNLNfPP+Ne9NJH0M8/tWbvYa+czz95JodIyGzPPy3TCRHjZs8/2rBi9wDUzj8mFDnEI2zFP8maG6fx1Lo/kGxH8xstuD/X2F0loa2gPxPPePqtoZQ/xajhQ85x9D7FqOFDznH0PsWo4UPOcfQ+",
          "dtype": "f8"
         }
        },
        {
         "customdata": {
          "bdata": "AAAAAABooEAAAAAAAGigQAAAAAAAaKBAAAAAAABooEAAAAAAAGigQAAAAAAAaKBAAAAAAABooEAAAAAAAGigQAAAAAAAaKBAAAAAAABooEAAAAAAAGigQAAAAAAAaKBAAAAAAABooEAAAAAAAGigQAAAAAAAaKBAAAAAAABooEAAAAAAAGigQAAAAAAAaKBAAAAAAABooEAAAAAAAGigQAAAAAAAaKBAAAAAAABooEAAAAAAAGigQAAAAAAAaKBAAAAAAABooEAAAAAAAGigQAAAAAAAaKBAAAAAAABooEAAAAAAAGigQAAAAAAAaKBAAAAAAABooEAAAAAAAGigQAAAAAAAaKBAAAAAAABooEAAAAAAAGigQAAAAAAAaKBAAAAAAABooEAAAAAAAGigQAAAAAAAaKBAAAAAAABooEAAAAAAAGigQAAAAAAAaKBAAAAAAABooEAAAAAAAGigQAAAAAAAaKBAAAAAAABooEAAAAAAAGigQAAAAAAAaKBA",
          "dtype": "f8",
          "shape": "48, 1"
         },
         "hovertemplate": "<b>Time Step:</b> %{x}<br><b>Budget Left Ratio:</b> %{y:.3f}<br><b>Budget:</b> %{customdata[0]:.0f}<br><extra></extra>",
         "line": {
          "color": "rgb(56, 76, 160)",
          "width": 1.5
         },
         "mode": "lines",
         "opacity": 0.35,
         "showlegend": false,
         "type": "scatter",
         "x": {
          "bdata": "AAECAwQFBgcICQoLDA0ODxAREhMUFRYXGBkaGxwdHh8gISIjJCUmJygpKissLS4v",
          "dtype": "i1"
         },
         "y": {
          "bdata": "AAAAAAAA8D8AAAAAAADwPwAAAAAAAPA/AAAAAAAA8D8AAAAAAADwPwAAAAAAAPA/AAAAAAAA8D8AAAAAAADwPwAAAAAAAPA/AAAAAAAA8D8fnZsktf7vP7v5Iy3o+u8/cvITyfH37z8zs99IG+rvP4LanUyPx+8/cR/81mEc7z+JLo85O57uP33mzarNk+w/ggKrZK3m5z9sWxtcPLPlP3BSnG0emeE/zEYqZadY1z+NHgVYpbnIP6s6wlLx17Y/qzrCUvHXtj87KNWvbc62P+lKfTyvzLY//shqMOTAtj8/NoxvGb22Pz82jG8ZvbY/zffeKAl0tj/fzuiyJF+2P9/O6LIkX7Y/387osiRftj/fzuiyJF+2P9/O6LIkX7Y/387osiRftj/fzuiyJF+2P9/O6LIkX7Y/387osiRftj+pzuLAQdC1P3TP64j3DLU/SlhqBoORsT8s3lrOnlmnP0t++AOOdZY/u0U9j1JLZT++p0hXV6/NPr6nSFdXr80+",
          "dtype": "f8"
         }
        },
        {
         "customdata": {
          "bdata": "AAAAAADUp0AAAAAAANSnQAAAAAAA1KdAAAAAAADUp0AAAAAAANSnQAAAAAAA1KdAAAAAAADUp0AAAAAAANSnQAAAAAAA1KdAAAAAAADUp0AAAAAAANSnQAAAAAAA1KdAAAAAAADUp0AAAAAAANSnQAAAAAAA1KdAAAAAAADUp0AAAAAAANSnQAAAAAAA1KdAAAAAAADUp0AAAAAAANSnQAAAAAAA1KdAAAAAAADUp0AAAAAAANSnQAAAAAAA1KdAAAAAAADUp0AAAAAAANSnQAAAAAAA1KdAAAAAAADUp0AAAAAAANSnQAAAAAAA1KdAAAAAAADUp0AAAAAAANSnQAAAAAAA1KdAAAAAAADUp0AAAAAAANSnQAAAAAAA1KdAAAAAAADUp0AAAAAAANSnQAAAAAAA1KdAAAAAAADUp0AAAAAAANSnQAAAAAAA1KdAAAAAAADUp0AAAAAAANSnQAAAAAAA1KdAAAAAAADUp0AAAAAAANSnQAAAAAAA1KdA",
          "dtype": "f8",
          "shape": "48, 1"
         },
         "hovertemplate": "<b>Time Step:</b> %{x}<br><b>Budget Left Ratio:</b> %{y:.3f}<br><b>Budget:</b> %{customdata[0]:.0f}<br><extra></extra>",
         "line": {
          "color": "rgb(207, 235, 243)",
          "width": 1.5
         },
         "mode": "lines",
         "opacity": 0.35,
         "showlegend": false,
         "type": "scatter",
         "x": {
          "bdata": "AAECAwQFBgcICQoLDA0ODxAREhMUFRYXGBkaGxwdHh8gISIjJCUmJygpKissLS4v",
          "dtype": "i1"
         },
         "y": {
          "bdata": "AAAAAAAA8D8AAAAAAADwPwAAAAAAAPA/AAAAAAAA8D8AAAAAAADwPwAAAAAAAPA/AAAAAAAA8D8AAAAAAADwPwAAAAAAAPA/AAAAAAAA8D8AAAAAAADwPwAAAAAAAPA/AAAAAAAA8D8AAAAAAADwPwAAAAAAAPA/AAAAAAAA8D8AAAAAAADwPwAAAAAAAPA/AAAAAAAA8D8AAAAAAADwPwAAAAAAAPA/AAAAAAAA8D8AAAAAAADwPwAAAAAAAPA/AAAAAAAA8D8/g8cXkv/vPz+DxxeS/+8/tgI3mrP+7z+SdDPFiP7vP3GD/oZ/4O8/YUmJK6zQ7z9cIWXrg8PvP6YtIv2Jqe0/uzEp9zOb6j87n8KORfvmP9ab0j1gZuQ/4L8MmbMd4z/cr+Ge6GfhP01W77wmfd4/4UT4oHJx2j+wAawvyNzRP114MchIwcQ/Bdp8T7hUtD+W3Tymrg9yP7tl+gG6c3A/mN5Kajl26D6Y3kpqOXboPpjeSmo5dug+",
          "dtype": "f8"
         }
        },
        {
         "customdata": {
          "bdata": "AAAAAAAEsEAAAAAAAASwQAAAAAAABLBAAAAAAAAEsEAAAAAAAASwQAAAAAAABLBAAAAAAAAEsEAAAAAAAASwQAAAAAAABLBAAAAAAAAEsEAAAAAAAASwQAAAAAAABLBAAAAAAAAEsEAAAAAAAASwQAAAAAAABLBAAAAAAAAEsEAAAAAAAASwQAAAAAAABLBAAAAAAAAEsEAAAAAAAASwQAAAAAAABLBAAAAAAAAEsEAAAAAAAASwQAAAAAAABLBAAAAAAAAEsEAAAAAAAASwQAAAAAAABLBAAAAAAAAEsEAAAAAAAASwQAAAAAAABLBAAAAAAAAEsEAAAAAAAASwQAAAAAAABLBAAAAAAAAEsEAAAAAAAASwQAAAAAAABLBAAAAAAAAEsEAAAAAAAASwQAAAAAAABLBAAAAAAAAEsEAAAAAAAASwQAAAAAAABLBAAAAAAAAEsEAAAAAAAASwQAAAAAAABLBAAAAAAAAEsEAAAAAAAASwQAAAAAAABLBA",
          "dtype": "f8",
          "shape": "48, 1"
         },
         "hovertemplate": "<b>Time Step:</b> %{x}<br><b>Budget Left Ratio:</b> %{y:.3f}<br><b>Budget:</b> %{customdata[0]:.0f}<br><extra></extra>",
         "line": {
          "color": "rgb(250, 150, 86)",
          "width": 1.5
         },
         "mode": "lines",
         "opacity": 0.35,
         "showlegend": false,
         "type": "scatter",
         "x": {
          "bdata": "AAECAwQFBgcICQoLDA0ODxAREhMUFRYXGBkaGxwdHh8gISIjJCUmJygpKissLS4v",
          "dtype": "i1"
         },
         "y": {
          "bdata": "AAAAAAAA8D8AAAAAAADwPwAAAAAAAPA/AAAAAAAA8D8AAAAAAADwPwAAAAAAAPA/AAAAAAAA8D8AAAAAAADwPwAAAAAAAPA/AAAAAAAA8D8AAAAAAADwPwAAAAAAAPA/AAAAAAAA8D8AAAAAAADwPwAAAAAAAPA/AAAAAAAA8D8AAAAAAADwPwAAAAAAAPA/2GGXnrj/7z9pVfsYi/7vP6TRajmZ/e8/j+p974Xv7z/cDdHXt+LvP/eSm4F40O8/eGeV2mT57j+cBLiMwFDsPy52OzwjYeg/zepLFKEg5j/gnHUxWgLjPx3CBJ/6kd4/vC6iY1Vx1j8+mXGv7SjOPz6Zca/tKM4/imj1w6kmzj9cEbWQAxDOPw3dUfUE8M0/OMFK2xI8zT9vcvX1goHKP0F8uvM+PMc/z2XTzMAvwj+wwehM2Ra7P6qWDB0p36g/w/I0TLam5D7D8jRMtqbkPsPyNEy2puQ+w/I0TLam5D7D8jRMtqbkPsPyNEy2puQ+",
          "dtype": "f8"
         }
        },
        {
         "customdata": {
          "bdata": "AAAAAABAn0AAAAAAAECfQAAAAAAAQJ9AAAAAAABAn0AAAAAAAECfQAAAAAAAQJ9AAAAAAABAn0AAAAAAAECfQAAAAAAAQJ9AAAAAAABAn0AAAAAAAECfQAAAAAAAQJ9AAAAAAABAn0AAAAAAAECfQAAAAAAAQJ9AAAAAAABAn0AAAAAAAECfQAAAAAAAQJ9AAAAAAABAn0AAAAAAAECfQAAAAAAAQJ9AAAAAAABAn0AAAAAAAECfQAAAAAAAQJ9AAAAAAABAn0AAAAAAAECfQAAAAAAAQJ9AAAAAAABAn0AAAAAAAECfQAAAAAAAQJ9AAAAAAABAn0AAAAAAAECfQAAAAAAAQJ9AAAAAAABAn0AAAAAAAECfQAAAAAAAQJ9AAAAAAABAn0AAAAAAAECfQAAAAAAAQJ9AAAAAAABAn0AAAAAAAECfQAAAAAAAQJ9AAAAAAABAn0AAAAAAAECfQAAAAAAAQJ9AAAAAAABAn0AAAAAAAECfQAAAAAAAQJ9A",
          "dtype": "f8",
          "shape": "48, 1"
         },
         "hovertemplate": "<b>Time Step:</b> %{x}<br><b>Budget Left Ratio:</b> %{y:.3f}<br><b>Budget:</b> %{customdata[0]:.0f}<br><extra></extra>",
         "line": {
          "color": "rgb(49, 54, 149)",
          "width": 1.5
         },
         "mode": "lines",
         "opacity": 0.35,
         "showlegend": false,
         "type": "scatter",
         "x": {
          "bdata": "AAECAwQFBgcICQoLDA0ODxAREhMUFRYXGBkaGxwdHh8gISIjJCUmJygpKissLS4v",
          "dtype": "i1"
         },
         "y": {
          "bdata": "AAAAAAAA8D8AAAAAAADwPxcFPtKc/+8/FwU+0pz/7z8XBT7SnP/vPxcFPtKc/+8/FwU+0pz/7z8XBT7SnP/vP+QIicqn++8/1l9+3xjl7z/j2L/Px8HvP50P83XseO8/v5zwOnhe7z/GT7UL0R7vPy+yB2bt3e4/LZlnaYi47j9a4mpY1XrqPy7LuR9dhOQ/rEIPpRjf4D9G7UJrnmbXP5Gv/EZxlcQ/H52Gtvj4uz93vluZi5CWPxtvZAiVuJA/Du138RTziT+PIjooooOHP7Kdjta+o4E/sp2O1r6jgT+ynY7WvqOBPy0y5JIOj4E/ooW2mmcrgT8K17w7keiAPwrXvDuR6IA/Cte8O5HogD8K17w7keiAPwrXvDuR6IA/Cte8O5HogD8K17w7keiAPwrXvDuR6IA/Cte8O5HogD8K17w7keiAPwrXvDuR6IA/Cte8O5HogD8K17w7keiAPwrXvDuR6IA/c0jHWEzFgD+BVU7p+7qAP2hR7/U16Xo/",
          "dtype": "f8"
         }
        },
        {
         "customdata": {
          "bdata": "AAAAAAC8q0AAAAAAALyrQAAAAAAAvKtAAAAAAAC8q0AAAAAAALyrQAAAAAAAvKtAAAAAAAC8q0AAAAAAALyrQAAAAAAAvKtAAAAAAAC8q0AAAAAAALyrQAAAAAAAvKtAAAAAAAC8q0AAAAAAALyrQAAAAAAAvKtAAAAAAAC8q0AAAAAAALyrQAAAAAAAvKtAAAAAAAC8q0AAAAAAALyrQAAAAAAAvKtAAAAAAAC8q0AAAAAAALyrQAAAAAAAvKtAAAAAAAC8q0AAAAAAALyrQAAAAAAAvKtAAAAAAAC8q0AAAAAAALyrQAAAAAAAvKtAAAAAAAC8q0AAAAAAALyrQAAAAAAAvKtAAAAAAAC8q0AAAAAAALyrQAAAAAAAvKtAAAAAAAC8q0AAAAAAALyrQAAAAAAAvKtAAAAAAAC8q0AAAAAAALyrQAAAAAAAvKtAAAAAAAC8q0AAAAAAALyrQAAAAAAAvKtAAAAAAAC8q0AAAAAAALyrQAAAAAAAvKtA",
          "dtype": "f8",
          "shape": "48, 1"
         },
         "hovertemplate": "<b>Time Step:</b> %{x}<br><b>Budget Left Ratio:</b> %{y:.3f}<br><b>Budget:</b> %{customdata[0]:.0f}<br><extra></extra>",
         "line": {
          "color": "rgb(255, 241, 170)",
          "width": 1.5
         },
         "mode": "lines",
         "opacity": 0.35,
         "showlegend": false,
         "type": "scatter",
         "x": {
          "bdata": "AAECAwQFBgcICQoLDA0ODxAREhMUFRYXGBkaGxwdHh8gISIjJCUmJygpKissLS4v",
          "dtype": "i1"
         },
         "y": {
          "bdata": "AAAAAAAA8D8AAAAAAADwPwAAAAAAAPA/AAAAAAAA8D8AAAAAAADwPwAAAAAAAPA/AAAAAAAA8D8AAAAAAADwPwAAAAAAAPA/AAAAAAAA8D8AAAAAAADwPwAAAAAAAPA/AAAAAAAA8D8AAAAAAADwPwAAAAAAAPA/AAAAAAAA8D8DE34559PvP3nHP77hY+8/IGl0Kefn7T8E02UEkq3qP6q2A+NjH+c/B2PEJ0TF4z9+3T7MinfgPy7KZj5Qkds/gDX8Mjn12j+C5XUzCTXZP4VqfJs5NtY/0Rs7JhFk0j8mdvUWJLbQPxpntm289M4/sIKJOo8kzT/0ukUmbu7JP5TTszqbrMc/djJ5b8kqxD9qr0LLmfzBP1NtKvObyL0/HQwB8pzruz/KfDkTb4y5P0akm6G4B7g/641J4BZ3tj+yH4A11bO0P+VDvoSQ3bA/yX8CdhDwjT+MG/2EIoSHP/6z4Hbe2rE+/rPgdt7asT7+s+B23tqxPv6z4Hbe2rE+",
          "dtype": "f8"
         }
        },
        {
         "customdata": {
          "bdata": "AAAAAACasEAAAAAAAJqwQAAAAAAAmrBAAAAAAACasEAAAAAAAJqwQAAAAAAAmrBAAAAAAACasEAAAAAAAJqwQAAAAAAAmrBAAAAAAACasEAAAAAAAJqwQAAAAAAAmrBAAAAAAACasEAAAAAAAJqwQAAAAAAAmrBAAAAAAACasEAAAAAAAJqwQAAAAAAAmrBAAAAAAACasEAAAAAAAJqwQAAAAAAAmrBAAAAAAACasEAAAAAAAJqwQAAAAAAAmrBAAAAAAACasEAAAAAAAJqwQAAAAAAAmrBAAAAAAACasEAAAAAAAJqwQAAAAAAAmrBAAAAAAACasEAAAAAAAJqwQAAAAAAAmrBAAAAAAACasEAAAAAAAJqwQAAAAAAAmrBAAAAAAACasEAAAAAAAJqwQAAAAAAAmrBAAAAAAACasEAAAAAAAJqwQAAAAAAAmrBAAAAAAACasEAAAAAAAJqwQAAAAAAAmrBAAAAAAACasEAAAAAAAJqwQAAAAAAAmrBA",
          "dtype": "f8",
          "shape": "48, 1"
         },
         "hovertemplate": "<b>Time Step:</b> %{x}<br><b>Budget Left Ratio:</b> %{y:.3f}<br><b>Budget:</b> %{customdata[0]:.0f}<br><extra></extra>",
         "line": {
          "color": "rgb(245, 116, 70)",
          "width": 1.5
         },
         "mode": "lines",
         "opacity": 0.35,
         "showlegend": false,
         "type": "scatter",
         "x": {
          "bdata": "AAECAwQFBgcICQoLDA0ODxAREhMUFRYXGBkaGxwdHh8gISIjJCUmJygpKissLS4v",
          "dtype": "i1"
         },
         "y": {
          "bdata": "srUTOAue7j8DiLDJpNbtPyoFXVJ6Ge0/iNc+9RfQ7D8+hIShGYrsPwK8oLtoWuw/Ii4X08037D8sbnPBJ/zrP4lOVypv+us/J2H0KdPh6z9g2DG8dcjrP24Pgtn4tOs/AnRTTa5s6z+AMzW621jrP+3El8ukEOs/5JaMn1fT6j9kCbW25s/qP4rKtQ/9zuo/yU0Up3XE6j9EjVSKw3rqP5sTuRTYcuo/TbVRmuht6j9J+1Huv07pP4L+8FXm+Oc/Sn4yVMX45z/VlyX/svjnP6gJ1dLz9ec/ErMGsnDy5z9km6IKXfLnP6ENjF2h8ec/ATi6tCzx5z+mzK0hHPHnP2Z2XUgq7ec/qQ7CjLXm5z/YETyMiObnP7LtXvn54+c/13ma5oq15z/RvXr5snTnP9XtnUMrn+Y/VRzPhimZ5T8Jf03BL6jiPxkviSpZdd8/PLt92rH22T+Grb/MLhPVP9MDyUbq884/DkYzfEGUxT8wdRuGQV+6P2uUssJ0b5E/",
          "dtype": "f8"
         }
        },
        {
         "customdata": {
          "bdata": "AAAAAAAEoEAAAAAAAASgQAAAAAAABKBAAAAAAAAEoEAAAAAAAASgQAAAAAAABKBAAAAAAAAEoEAAAAAAAASgQAAAAAAABKBAAAAAAAAEoEAAAAAAAASgQAAAAAAABKBAAAAAAAAEoEAAAAAAAASgQAAAAAAABKBAAAAAAAAEoEAAAAAAAASgQAAAAAAABKBAAAAAAAAEoEAAAAAAAASgQAAAAAAABKBAAAAAAAAEoEAAAAAAAASgQAAAAAAABKBAAAAAAAAEoEAAAAAAAASgQAAAAAAABKBAAAAAAAAEoEAAAAAAAASgQAAAAAAABKBAAAAAAAAEoEAAAAAAAASgQAAAAAAABKBAAAAAAAAEoEAAAAAAAASgQAAAAAAABKBAAAAAAAAEoEAAAAAAAASgQAAAAAAABKBAAAAAAAAEoEAAAAAAAASgQAAAAAAABKBAAAAAAAAEoEAAAAAAAASgQAAAAAAABKBAAAAAAAAEoEAAAAAAAASgQAAAAAAABKBA",
          "dtype": "f8",
          "shape": "48, 1"
         },
         "hovertemplate": "<b>Time Step:</b> %{x}<br><b>Budget Left Ratio:</b> %{y:.3f}<br><b>Budget:</b> %{customdata[0]:.0f}<br><extra></extra>",
         "line": {
          "color": "rgb(53, 65, 154)",
          "width": 1.5
         },
         "mode": "lines",
         "opacity": 0.35,
         "showlegend": false,
         "type": "scatter",
         "x": {
          "bdata": "AAECAwQFBgcICQoLDA0ODxAREhMUFRYXGBkaGxwdHh8gISIjJCUmJygpKissLS4v",
          "dtype": "i1"
         },
         "y": {
          "bdata": "Cbs0xnj/7z9eMVhO1fzvP14xWE7V/O8/XjFYTtX87z9eMVhO1fzvP6xhDNeI/O8/rGEM14j87z+sYQzXiPzvP6xhDNeI/O8/rGEM14j87z+sYQzXiPzvP6xhDNeI/O8/rGEM14j87z+sYQzXiPzvP6xhDNeI/O8/rGEM14j87z+sYQzXiPzvP6xhDNeI/O8/rGEM14j87z+sYQzXiPzvP6xhDNeI/O8/rGEM14j87z+sYQzXiPzvP6xhDNeI/O8/rGEM14j87z+sYQzXiPzvP6xhDNeI/O8/rGEM14j87z+sYQzXiPzvP6xhDNeI/O8/rGEM14j87z+sYQzXiPzvP1c1o3fhru8/dbkLZThg7z/rGqcC0QXvP2yqMrkhAe8/zhoeEH3Y7j8l7Dh310PuP1pwoZ+j4+0/ehgbjLBn7T+c3Ndm1wrsP0uXKAgFv+g/Arx4IRIy4z8x62sXw3XYP4fE0O+jk8c/ghfqyvj/sT8Yn/U+VrWhPytVq8SqZQE/",
          "dtype": "f8"
         }
        },
        {
         "customdata": {
          "bdata": "AAAAAABYq0AAAAAAAFirQAAAAAAAWKtAAAAAAABYq0AAAAAAAFirQAAAAAAAWKtAAAAAAABYq0AAAAAAAFirQAAAAAAAWKtAAAAAAABYq0AAAAAAAFirQAAAAAAAWKtAAAAAAABYq0AAAAAAAFirQAAAAAAAWKtAAAAAAABYq0AAAAAAAFirQAAAAAAAWKtAAAAAAABYq0AAAAAAAFirQAAAAAAAWKtAAAAAAABYq0AAAAAAAFirQAAAAAAAWKtAAAAAAABYq0AAAAAAAFirQAAAAAAAWKtAAAAAAABYq0AAAAAAAFirQAAAAAAAWKtAAAAAAABYq0AAAAAAAFirQAAAAAAAWKtAAAAAAABYq0AAAAAAAFirQAAAAAAAWKtAAAAAAABYq0AAAAAAAFirQAAAAAAAWKtAAAAAAABYq0AAAAAAAFirQAAAAAAAWKtAAAAAAABYq0AAAAAAAFirQAAAAAAAWKtAAAAAAABYq0AAAAAAAFirQAAAAAAAWKtA",
          "dtype": "f8",
          "shape": "48, 1"
         },
         "hovertemplate": "<b>Time Step:</b> %{x}<br><b>Budget Left Ratio:</b> %{y:.3f}<br><b>Budget:</b> %{customdata[0]:.0f}<br><extra></extra>",
         "line": {
          "color": "rgb(255, 247, 179)",
          "width": 1.5
         },
         "mode": "lines",
         "opacity": 0.35,
         "showlegend": false,
         "type": "scatter",
         "x": {
          "bdata": "AAECAwQFBgcICQoLDA0ODxAREhMUFRYXGBkaGxwdHh8gISIjJCUmJygpKissLS4v",
          "dtype": "i1"
         },
         "y": {
          "bdata": "G0+F6XjQ7T8sXfzk2wntP2MaYWhz7+s//DI4Ez2e6z8LjLf6pSXrP+wpCE8V2Oo/jVFT4HKr6j9qZ7+al3PqP2pnv5qXc+o/ame/mpdz6j9qZ7+al3PqP2pnv5qXc+o/ame/mpdz6j9qZ7+al3PqP2pnv5qXc+o/ame/mpdz6j9Ns15jVSvqP5LiyEAkvOk/e3GWjZBw6D+YvxVupg3nPyYfy5qSbOQ/nhfIyxZh4T+FM3X8uPPbP7O3lYU/otU/zlsvDzYA1T8iryqrWGXTP0GD+VxXitA/rtooqWh6zz+1PCFpN3jMP9s538uZO8s/YsM3PABbyT/dATNMFsHHPydExbDUusc/yeDYFnHrxj/dZNeWKmzCP99SNdJmxrk/5XAaVLaJtj9Bxn4bOuiyP4ts79bg668/hh+KxGMaqz+7w2P0Aj+mP8DQz7UNvaA/XrpJbIKc8D5euklsgpzwPl66SWyCnPA+XrpJbIKc8D5euklsgpzwPl66SWyCnPA+",
          "dtype": "f8"
         }
        },
        {
         "customdata": {
          "bdata": "AAAAAAAEoEAAAAAAAASgQAAAAAAABKBAAAAAAAAEoEAAAAAAAASgQAAAAAAABKBAAAAAAAAEoEAAAAAAAASgQAAAAAAABKBAAAAAAAAEoEAAAAAAAASgQAAAAAAABKBAAAAAAAAEoEAAAAAAAASgQAAAAAAABKBAAAAAAAAEoEAAAAAAAASgQAAAAAAABKBAAAAAAAAEoEAAAAAAAASgQAAAAAAABKBAAAAAAAAEoEAAAAAAAASgQAAAAAAABKBAAAAAAAAEoEAAAAAAAASgQAAAAAAABKBAAAAAAAAEoEAAAAAAAASgQAAAAAAABKBAAAAAAAAEoEAAAAAAAASgQAAAAAAABKBAAAAAAAAEoEAAAAAAAASgQAAAAAAABKBAAAAAAAAEoEAAAAAAAASgQAAAAAAABKBAAAAAAAAEoEAAAAAAAASgQAAAAAAABKBAAAAAAAAEoEAAAAAAAASgQAAAAAAABKBAAAAAAAAEoEAAAAAAAASgQAAAAAAABKBA",
          "dtype": "f8",
          "shape": "48, 1"
         },
         "hovertemplate": "<b>Time Step:</b> %{x}<br><b>Budget Left Ratio:</b> %{y:.3f}<br><b>Budget:</b> %{customdata[0]:.0f}<br><extra></extra>",
         "line": {
          "color": "rgb(53, 65, 154)",
          "width": 1.5
         },
         "mode": "lines",
         "opacity": 0.35,
         "showlegend": false,
         "type": "scatter",
         "x": {
          "bdata": "AAECAwQFBgcICQoLDA0ODxAREhMUFRYXGBkaGxwdHh8gISIjJCUmJygpKissLS4v",
          "dtype": "i1"
         },
         "y": {
          "bdata": "JftPSqH/7z/V/J1bHu/vP0hv0p8Mze8/k5llzMDM7z+U5b8ot8fvP5Tlvyi3x+8/ozeelmXH7z8BQnIZA8fvPwFCchkDx+8/AUJyGQPH7z8BQnIZA8fvPwFCchkDx+8/AUJyGQPH7z8IismUP8XvPxl3lgjnw+8/Z3wSBc3B7z9vylb3zb3vP/Dv09RRve8/zJ+lGMGv7z9mrUYI9KPvPyM5S8haS+8/EtBAoneg7T/DxMjkr/LqP+qhzCxJdug/6qHMLEl26D/qocwsSXboP+qhzCxJdug/6qHMLEl26D/qocwsSXboP+qhzCxJdug/6qHMLEl26D/qocwsSXboP1+q9lKbJeQ/9EFe7NCv2j85Pc6rehnJP0L275oBtKI/hevmF1qhiD8H5WsgfnnTPgflayB+edM+B+VrIH550z4H5WsgfnnTPgflayB+edM+B+VrIH550z4H5WsgfnnTPgflayB+edM+B+VrIH550z4H5WsgfnnTPgflayB+edM+",
          "dtype": "f8"
         }
        },
        {
         "customdata": {
          "bdata": "AAAAAABooEAAAAAAAGigQAAAAAAAaKBAAAAAAABooEAAAAAAAGigQAAAAAAAaKBAAAAAAABooEAAAAAAAGigQAAAAAAAaKBAAAAAAABooEAAAAAAAGigQAAAAAAAaKBAAAAAAABooEAAAAAAAGigQAAAAAAAaKBAAAAAAABooEAAAAAAAGigQAAAAAAAaKBAAAAAAABooEAAAAAAAGigQAAAAAAAaKBAAAAAAABooEAAAAAAAGigQAAAAAAAaKBAAAAAAABooEAAAAAAAGigQAAAAAAAaKBAAAAAAABooEAAAAAAAGigQAAAAAAAaKBAAAAAAABooEAAAAAAAGigQAAAAAAAaKBAAAAAAABooEAAAAAAAGigQAAAAAAAaKBAAAAAAABooEAAAAAAAGigQAAAAAAAaKBAAAAAAABooEAAAAAAAGigQAAAAAAAaKBAAAAAAABooEAAAAAAAGigQAAAAAAAaKBAAAAAAABooEAAAAAAAGigQAAAAAAAaKBA",
          "dtype": "f8",
          "shape": "48, 1"
         },
         "hovertemplate": "<b>Time Step:</b> %{x}<br><b>Budget Left Ratio:</b> %{y:.3f}<br><b>Budget:</b> %{customdata[0]:.0f}<br><extra></extra>",
         "line": {
          "color": "rgb(56, 76, 160)",
          "width": 1.5
         },
         "mode": "lines",
         "opacity": 0.35,
         "showlegend": false,
         "type": "scatter",
         "x": {
          "bdata": "AAECAwQFBgcICQoLDA0ODxAREhMUFRYXGBkaGxwdHh8gISIjJCUmJygpKissLS4v",
          "dtype": "i1"
         },
         "y": {
          "bdata": "AAAAAAAA8D+bn78+tv/vP5ufvz62/+8/m5+/Prb/7z+bn78+tv/vP5ufvz62/+8/m5+/Prb/7z+bn78+tv/vP5ufvz62/+8/m5+/Prb/7z+bn78+tv/vP5ufvz62/+8/m5+/Prb/7z+bb31KZf/vP5tvfUpl/+8/m299SmX/7z+bb31KZf/vP5tvfUpl/+8/m299SmX/7z+bb31KZf/vP5tvfUpl/+8/m299SmX/7z+bb31KZf/vP5tvfUpl/+8/x/GFLIA87j/8SlZyb2zmP+YQn5NxR98/eURa3igu0z9SGPAMcjTMP0mHLt1YbMM/6dqV9Ar6vj/sMcIdwqyxP+wxwh3CrLE/sJgZGeaqsT+wmBkZ5qqxPyHxgr7dqLE/LJl6rML8sD8q4kwlvNWwP5aByG2kO6w/z9OL3TfpqT/GDY0J6PqaP/XteFc8nwI/9e14VzyfAj/17XhXPJ8CP/XteFc8nwI/9e14VzyfAj/17XhXPJ8CP/XteFc8nwI/",
          "dtype": "f8"
         }
        },
        {
         "customdata": {
          "bdata": "AAAAAADAskAAAAAAAMCyQAAAAAAAwLJAAAAAAADAskAAAAAAAMCyQAAAAAAAwLJAAAAAAADAskAAAAAAAMCyQAAAAAAAwLJAAAAAAADAskAAAAAAAMCyQAAAAAAAwLJAAAAAAADAskAAAAAAAMCyQAAAAAAAwLJAAAAAAADAskAAAAAAAMCyQAAAAAAAwLJAAAAAAADAskAAAAAAAMCyQAAAAAAAwLJAAAAAAADAskAAAAAAAMCyQAAAAAAAwLJAAAAAAADAskAAAAAAAMCyQAAAAAAAwLJAAAAAAADAskAAAAAAAMCyQAAAAAAAwLJAAAAAAADAskAAAAAAAMCyQAAAAAAAwLJAAAAAAADAskAAAAAAAMCyQAAAAAAAwLJAAAAAAADAskAAAAAAAMCyQAAAAAAAwLJAAAAAAADAskAAAAAAAMCyQAAAAAAAwLJAAAAAAADAskAAAAAAAMCyQAAAAAAAwLJAAAAAAADAskAAAAAAAMCyQAAAAAAAwLJA",
          "dtype": "f8",
          "shape": "48, 1"
         },
         "hovertemplate": "<b>Time Step:</b> %{x}<br><b>Budget Left Ratio:</b> %{y:.3f}<br><b>Budget:</b> %{customdata[0]:.0f}<br><extra></extra>",
         "line": {
          "color": "rgb(174, 8, 38)",
          "width": 1.5
         },
         "mode": "lines",
         "opacity": 0.35,
         "showlegend": false,
         "type": "scatter",
         "x": {
          "bdata": "AAECAwQFBgcICQoLDA0ODxAREhMUFRYXGBkaGxwdHh8gISIjJCUmJygpKissLS4v",
          "dtype": "i1"
         },
         "y": {
          "bdata": "AAAAAAAA8D/5j9ZlbP/vPwckj70+/O8/Zd7yCEP67z+3nzfRXPfvP1IGdBVw9e8/9kTynfru7z+JU0gHJ+3vP9mIg+ZW4+8/RpOuoFrC7z/yX+9K3qfvP8QMf9oppO8/IBD6ssRt7z8p67/TTfXuP82cOtK/7O4/1ctRd/3U7T9Ba3bPr4LtP2rKLO86Uu0/DvQWcWoF7T9mkw314oHsPwOOv6tx6us/ybNgPr2g6j+aPepBsmzpPyoRj50I5+g/KhGPnQjn6D9vnjn5euboP/gmHONO4eg/k64HF9rf6D/35kc2at7oP0m+K0rJ0+g/reg4jkXR6D8IqamaUs/oP1U2uA85z+g/+e0nj7vN6D+xHz3A2K7oP+6xrSsmreg/saAR/E+n6D+8iIvrDafoP2sNja1sl+g/xO6fhMN76D/LJ4KxhtjkP/RlOL7SNOE/P7z97G2Y2T+OTj9XhbPRP9RITf0Z+8M/H7GFICrbsD/v7u5Aw2zUPu/u7kDDbNQ+",
          "dtype": "f8"
         }
        },
        {
         "customdata": {
          "bdata": "AAAAAABAn0AAAAAAAECfQAAAAAAAQJ9AAAAAAABAn0AAAAAAAECfQAAAAAAAQJ9AAAAAAABAn0AAAAAAAECfQAAAAAAAQJ9AAAAAAABAn0AAAAAAAECfQAAAAAAAQJ9AAAAAAABAn0AAAAAAAECfQAAAAAAAQJ9AAAAAAABAn0AAAAAAAECfQAAAAAAAQJ9AAAAAAABAn0AAAAAAAECfQAAAAAAAQJ9AAAAAAABAn0AAAAAAAECfQAAAAAAAQJ9AAAAAAABAn0AAAAAAAECfQAAAAAAAQJ9AAAAAAABAn0AAAAAAAECfQAAAAAAAQJ9AAAAAAABAn0AAAAAAAECfQAAAAAAAQJ9AAAAAAABAn0AAAAAAAECfQAAAAAAAQJ9AAAAAAABAn0AAAAAAAECfQAAAAAAAQJ9AAAAAAABAn0AAAAAAAECfQAAAAAAAQJ9AAAAAAABAn0AAAAAAAECfQAAAAAAAQJ9AAAAAAABAn0AAAAAAAECfQAAAAAAAQJ9A",
          "dtype": "f8",
          "shape": "48, 1"
         },
         "hovertemplate": "<b>Time Step:</b> %{x}<br><b>Budget Left Ratio:</b> %{y:.3f}<br><b>Budget:</b> %{customdata[0]:.0f}<br><extra></extra>",
         "line": {
          "color": "rgb(49, 54, 149)",
          "width": 1.5
         },
         "mode": "lines",
         "opacity": 0.35,
         "showlegend": false,
         "type": "scatter",
         "x": {
          "bdata": "AAECAwQFBgcICQoLDA0ODxAREhMUFRYXGBkaGxwdHh8gISIjJCUmJygpKissLS4v",
          "dtype": "i1"
         },
         "y": {
          "bdata": "PhvW4mD97z9ZdiyyYPzvP+/b46Ve+u8/79vjpV767z+3lJ4HJ/jvP7eUngcn+O8/t5SeByf47z9NW/sTx/fvP01b+xPH9+8/TVv7E8f37z9NW/sTx/fvP01b+xPH9+8/TVv7E8f37z9NW/sTx/fvP01b+xPH9+8/TVv7E8f37z9/4QF4puDvP7jCJhj61O4/HJbgDpXY7D+emRcyPeDrP7B4KlCjhek/HQ13eIgM5j/nsZ4fV5/lP40en+9Oe+Q/CZeIxCp65D8Jl4jEKnrkP31j+PCeU+Q/h6anNq/t4z9l+0w2jaPiP+xHeg8oX+I/0/UZ6ZDw4T+QBKEHfzThPwASnUBQHuE/262S363d3D9m2/6CCh3cP9nhAfrMZds/uL0EzJb62T8CnfbyLwTZP1DOstZqmtg/GRHWUpEE1z8ZO66j5LjVPwhguMK6adM/CvNfZnfuxT99c+w799uxP+GqsO30pqk/lsOJzyGOaz/l0JLXPXo/P4/C9UDCRMU+",
          "dtype": "f8"
         }
        },
        {
         "hoverinfo": "skip",
         "marker": {
          "cmax": 4850,
          "cmin": 2000,
          "color": {
           "bdata": "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",
           "dtype": "f8"
          },
          "colorbar": {
           "len": 0.8,
           "thickness": 15,
           "title": {
            "text": "Budget"
           }
          },
          "colorscale": [
           [
            0,
            "rgb(49,54,149)"
           ],
           [
            0.1,
            "rgb(69,117,180)"
           ],
           [
            0.2,
            "rgb(116,173,209)"
           ],
           [
            0.3,
            "rgb(171,217,233)"
           ],
           [
            0.4,
            "rgb(224,243,248)"
           ],
           [
            0.5,
            "rgb(255,255,191)"
           ],
           [
            0.6,
            "rgb(254,224,144)"
           ],
           [
            0.7,
            "rgb(253,174,97)"
           ],
           [
            0.8,
            "rgb(244,109,67)"
           ],
           [
            0.9,
            "rgb(215,48,39)"
           ],
           [
            1,
            "rgb(165,0,38)"
           ]
          ],
          "opacity": 0,
          "showscale": true,
          "size": 0
         },
         "mode": "markers",
         "showlegend": false,
         "type": "scatter",
         "x": {
          "bdata": "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",
          "dtype": "f8"
         },
         "y": {
          "bdata": "AAAAAAAAAAAAAAAAAAAAAAAAAAAAAAAAAAAAAAAAAAAAAAAAAAAAAAAAAAAAAAAAAAAAAAAAAAAAAAAAAAAAAAAAAAAAAAAAAAAAAAAAAAAAAAAAAAAAAAAAAAAAAAAAAAAAAAAAAAAAAAAAAAAAAAAAAAAAAAAAAAAAAAAAAAAAAAAAAAAAAAAAAAAAAAAAAAAAAAAAAAAAAAAAAAAAAAAAAAAAAAAAAAAAAAAAAAAAAAAAAAAAAAAAAAAAAAAAAAAAAAAAAAAAAAAAAAAAAAAAAAAAAAAAAAAAAAAAAAAAAAAAAAAAAAAAAAAAAAAAAAAAAAAAAAAAAAAAAAAAAAAAAAAAAAAAAAAAAAAAAAAAAAAAAAAAAAAAAAAAAAAAAAAAAAAAAAAAAAAAAAAAAAAAAAAAAAAAAAAAAAAAAAAAAAAAAAAAAAAAAAAAAAAAAAAAAAAAAAAAAAAAAAAAAAAAAAAAAAAAAAAAAAAAAAAAAAAAAAAAAAAAAAAAAAAAAAAAAAAAAAAAAAAAAAAAAAAAAAAAAAAAAAAAAAAAAAAAAAAAAAAAAAAAAAAAAAAAAAAAAAAAAAAAAAAAAAAAAAAAAAAAAAAAAAAAAAAAAAAAAAAAAAAAAAAAAAAAAAAAAAAAAAAAAAAAAAAAAAAAAAAAAAAAAAAAAAAAAAAAAAAAAAAAAAAAAAAAAAAAAAAAAAAAAAAAAAAAAAAAAAAAAAAAAAAAAAAAAAAAAAAAAAAAAAAAAAAAAAAAAAAAAAAAAAAAAAAAAAAAAAAAAAAAAAAAAAAAAAAAAAAAAAAAAAAAAAAAAAAAAAAAAAAAAAAAAAAAAAAAAAAAAAAAAAAAAAAAAAAAAAAAAAAAAAAAAAAAAAAAAAAAAAAAAAAAAAAAAAAAAAAAAAAAAAAAAAAAAAAAAAAAAAAAAAAAAAAAAAAAAAAAAAAAAAAAAAAAAAAAAAAAAAAAAAAAAAAAAAAAAAAAAAAAAAAAAAAAAAAAAAAAAAAAAAAAAAAAAAAAAAAAAAAAAAAAAAAAAAAAAAAAAAAAAAAAAAAAAAAAAAAAAAAAAAAAAAAAAAAAAAAAAAAAAAAAAAAAAAAAAAAAAAAAAAAAAAAAAAAAAAAAAAAAAAAAAAAAAAAAAAAAAAAAAAAAAAAAAAAAAAAAAAAAAAAAAAAAAAAAAAAAAAAAAAAAAAAAAAAAAAAAAAAAAAAAAAAAAAAAAAAAAAAAAAAAAAAAAAAAAAAAAAAAAAAAAAAAAAAAAAAAAAAAAAAAAAAAAAAAAAAAAAAAAAAAAAAAAAAAAAAAAAAAAAAAAAAAAAAAAAAAAAAAAAAAAAAAAAAAAAAAAAAAAAAAAAAAAAAAAAAAAAAAAAAAAAAAAAAAAAAAAAAAAAAAAAAAAAAAAAAAAAAAAAAAAAAAAAAAAAAAAAAAAAAAAAAAAAAAAAAAAAAAAAAAAAAAAAAAAAAAAAAAAAAAAAAAAAAAAAAAAAAAAAAAAAAAAAAAAAAAAAAAAAAAAAAAAAAAAAAAAAAAAAAAAAAAAAAAAAAAAAAAAAAAAAAAAAAAAAAAAAAAAAAAAAAAAAAAAAAAAAAAAAAAAAAAAAAAAAAAAAAAAAAAAAAAAAAAAAAAAAAAAAAAAAAAAAAAAAAAAAAAAAAAAAAAAAAAAAAAAAAAAAAAAAAAAAAAAAAAAAAAAAAAAAAAAAAAAAAAAAAAAAAAAAAAAAAAAAAAAAAAAAAAAAAAAAAAAAAAAAAAAAAAAAAAAAAAAAAAAAAAAAAAAAAAAAAAAAAAAAAAAAAAAAAAAAAAAAAAAAAAAAAAAAAAAAAAAAAAAAAAAAAAAAAAAAAAAAAAAAAAAAAAAAAAAAAAAAAAAAAAAAAAAAAAAAAAAAAAAAAAAAAAAAAAAAAAAAAAAAAAAAAAAAAAAAAAAAAAAAAAAAAAAAAAAAAAAAAAAAAAAAAAAAAAAAAAAAAAAAAAAAAAAAAAAAAAAAAAAAAAAAAAAAAAAAAAAAAAAAAAAAAAAAAAAAAAAAAAAAAAAAAAAAAAAAAAAAAAAAAAAAAAAAAAAAAAAAAAAAAAAAAAAAAAAAAAAAAAAAAAAAAAAAAAAAAAAAAAAAAAAAAAAAAAAAAAAAAAAAAAAAAAAAAAAAAAAAAAAAAAAAAAAAAAAAAAAAAAAAAAAAAAAAAAAAAAAAAAAAAAAAAAAAAAAAAAAAAAAAAAAAAAAAAAAAAAAAAAAAAAAAAAAAAAAAAAAAAAAAAAAAAAAAAAAAAAAAAAAAAAAAAAAAAAAAAAAAAAAAAAAAAAAAAAAAAAAAAAAAAAAAAAAAAAAAAAAAAAAAAAAAAAAAAAAAAAAAAAAAAAAAAAAAAAAAAAAAAAAAAAAAAAAAAAAAAAAAAAAAAAAAAAAAAAAAAAAAAAAAAAAAAAAAAAAAAAAAAAAAAAAAAAAAAAAAAAAAAAAAAAAAAAAAAAAAAAAAAAAAAAAAAAAAAAAAAAAAAAAAAAAAAAAAAAAAAAAAAAAAAAAAAAAAAAAAAAAAAAAAAAAAAAAAAAAAAAAAAAAAAAAAAAAAAAAAAAAAAAAAAAAAAAAAAAAAAAAAAAAAAAAAAAAAAAAAAAAAAAAAAAAAAAAAAAAAAAAAAAAAAAAAAAAAAAAAAAAAAAAAAAAAAAAAAAAAAAAAAAAAAAAAAAAAAAAAAAAAAAAAAAAAAAAAAAAAAAAAAAAAAAAAAAAAAAAAAAAAAAAAAAAAAAAAAAAAAAAAAAAAAAAAAAAAAAAAAAAAAAAAAAAAAAAAAAAAAAAAAAAAAAAAAAAAAAAAAAAAAAAAAAAAAAAAAAAAAAAAAAAAAAAAAAAAAAAAAAAAAAAAAAAAAAAAAAAAAAAAAAAAAAAAAAAAAAAAAAAAAAAAAAAAAAAAAAAAAAAAAAAAAAAAAAAAAAAAAAAAAAAAAAAAAAAAAAAAAAAAAAAAAAAAAAAAAAAAAAAAAAAAAAAAAAAAAAAAAAAAAAAAAAAAAAAAAAAAAAAAAAAAAAAAAAAAAAAAAAAAAAAAAAAAAAAAAAAAAAAAAAAAAAAAAAAAAAAAAAAAAAAAAAAAAAAAAAAAAAAAAAAAAAAAAAAAAAAAAAAAAAAAAAAAAAAAAAAAAAAAAAAAAAAAAAAAAAAAAAAAAAAAAAAAAAAAAAAAAAAAAAAAAAAAAAAAAAAAAAAAAAAAAAAAAAAAAAAAAA",
          "dtype": "f8"
         }
        }
       ],
       "layout": {
        "height": 500,
        "margin": {
         "b": 60,
         "l": 60,
         "r": 60,
         "t": 80
        },
        "paper_bgcolor": "white",
        "plot_bgcolor": "white",
        "template": {
         "data": {
          "bar": [
           {
            "error_x": {
             "color": "#2a3f5f"
            },
            "error_y": {
             "color": "#2a3f5f"
            },
            "marker": {
             "line": {
              "color": "#E5ECF6",
              "width": 0.5
             },
             "pattern": {
              "fillmode": "overlay",
              "size": 10,
              "solidity": 0.2
             }
            },
            "type": "bar"
           }
          ],
          "barpolar": [
           {
            "marker": {
             "line": {
              "color": "#E5ECF6",
              "width": 0.5
             },
             "pattern": {
              "fillmode": "overlay",
              "size": 10,
              "solidity": 0.2
             }
            },
            "type": "barpolar"
           }
          ],
          "carpet": [
           {
            "aaxis": {
             "endlinecolor": "#2a3f5f",
             "gridcolor": "white",
             "linecolor": "white",
             "minorgridcolor": "white",
             "startlinecolor": "#2a3f5f"
            },
            "baxis": {
             "endlinecolor": "#2a3f5f",
             "gridcolor": "white",
             "linecolor": "white",
             "minorgridcolor": "white",
             "startlinecolor": "#2a3f5f"
            },
            "type": "carpet"
           }
          ],
          "choropleth": [
           {
            "colorbar": {
             "outlinewidth": 0,
             "ticks": ""
            },
            "type": "choropleth"
           }
          ],
          "contour": [
           {
            "colorbar": {
             "outlinewidth": 0,
             "ticks": ""
            },
            "colorscale": [
             [
              0,
              "#0d0887"
             ],
             [
              0.1111111111111111,
              "#46039f"
             ],
             [
              0.2222222222222222,
              "#7201a8"
             ],
             [
              0.3333333333333333,
              "#9c179e"
             ],
             [
              0.4444444444444444,
              "#bd3786"
             ],
             [
              0.5555555555555556,
              "#d8576b"
             ],
             [
              0.6666666666666666,
              "#ed7953"
             ],
             [
              0.7777777777777778,
              "#fb9f3a"
             ],
             [
              0.8888888888888888,
              "#fdca26"
             ],
             [
              1,
              "#f0f921"
             ]
            ],
            "type": "contour"
           }
          ],
          "contourcarpet": [
           {
            "colorbar": {
             "outlinewidth": 0,
             "ticks": ""
            },
            "type": "contourcarpet"
           }
          ],
          "heatmap": [
           {
            "colorbar": {
             "outlinewidth": 0,
             "ticks": ""
            },
            "colorscale": [
             [
              0,
              "#0d0887"
             ],
             [
              0.1111111111111111,
              "#46039f"
             ],
             [
              0.2222222222222222,
              "#7201a8"
             ],
             [
              0.3333333333333333,
              "#9c179e"
             ],
             [
              0.4444444444444444,
              "#bd3786"
             ],
             [
              0.5555555555555556,
              "#d8576b"
             ],
             [
              0.6666666666666666,
              "#ed7953"
             ],
             [
              0.7777777777777778,
              "#fb9f3a"
             ],
             [
              0.8888888888888888,
              "#fdca26"
             ],
             [
              1,
              "#f0f921"
             ]
            ],
            "type": "heatmap"
           }
          ],
          "histogram": [
           {
            "marker": {
             "pattern": {
              "fillmode": "overlay",
              "size": 10,
              "solidity": 0.2
             }
            },
            "type": "histogram"
           }
          ],
          "histogram2d": [
           {
            "colorbar": {
             "outlinewidth": 0,
             "ticks": ""
            },
            "colorscale": [
             [
              0,
              "#0d0887"
             ],
             [
              0.1111111111111111,
              "#46039f"
             ],
             [
              0.2222222222222222,
              "#7201a8"
             ],
             [
              0.3333333333333333,
              "#9c179e"
             ],
             [
              0.4444444444444444,
              "#bd3786"
             ],
             [
              0.5555555555555556,
              "#d8576b"
             ],
             [
              0.6666666666666666,
              "#ed7953"
             ],
             [
              0.7777777777777778,
              "#fb9f3a"
             ],
             [
              0.8888888888888888,
              "#fdca26"
             ],
             [
              1,
              "#f0f921"
             ]
            ],
            "type": "histogram2d"
           }
          ],
          "histogram2dcontour": [
           {
            "colorbar": {
             "outlinewidth": 0,
             "ticks": ""
            },
            "colorscale": [
             [
              0,
              "#0d0887"
             ],
             [
              0.1111111111111111,
              "#46039f"
             ],
             [
              0.2222222222222222,
              "#7201a8"
             ],
             [
              0.3333333333333333,
              "#9c179e"
             ],
             [
              0.4444444444444444,
              "#bd3786"
             ],
             [
              0.5555555555555556,
              "#d8576b"
             ],
             [
              0.6666666666666666,
              "#ed7953"
             ],
             [
              0.7777777777777778,
              "#fb9f3a"
             ],
             [
              0.8888888888888888,
              "#fdca26"
             ],
             [
              1,
              "#f0f921"
             ]
            ],
            "type": "histogram2dcontour"
           }
          ],
          "mesh3d": [
           {
            "colorbar": {
             "outlinewidth": 0,
             "ticks": ""
            },
            "type": "mesh3d"
           }
          ],
          "parcoords": [
           {
            "line": {
             "colorbar": {
              "outlinewidth": 0,
              "ticks": ""
             }
            },
            "type": "parcoords"
           }
          ],
          "pie": [
           {
            "automargin": true,
            "type": "pie"
           }
          ],
          "scatter": [
           {
            "fillpattern": {
             "fillmode": "overlay",
             "size": 10,
             "solidity": 0.2
            },
            "type": "scatter"
           }
          ],
          "scatter3d": [
           {
            "line": {
             "colorbar": {
              "outlinewidth": 0,
              "ticks": ""
             }
            },
            "marker": {
             "colorbar": {
              "outlinewidth": 0,
              "ticks": ""
             }
            },
            "type": "scatter3d"
           }
          ],
          "scattercarpet": [
           {
            "marker": {
             "colorbar": {
              "outlinewidth": 0,
              "ticks": ""
             }
            },
            "type": "scattercarpet"
           }
          ],
          "scattergeo": [
           {
            "marker": {
             "colorbar": {
              "outlinewidth": 0,
              "ticks": ""
             }
            },
            "type": "scattergeo"
           }
          ],
          "scattergl": [
           {
            "marker": {
             "colorbar": {
              "outlinewidth": 0,
              "ticks": ""
             }
            },
            "type": "scattergl"
           }
          ],
          "scattermap": [
           {
            "marker": {
             "colorbar": {
              "outlinewidth": 0,
              "ticks": ""
             }
            },
            "type": "scattermap"
           }
          ],
          "scattermapbox": [
           {
            "marker": {
             "colorbar": {
              "outlinewidth": 0,
              "ticks": ""
             }
            },
            "type": "scattermapbox"
           }
          ],
          "scatterpolar": [
           {
            "marker": {
             "colorbar": {
              "outlinewidth": 0,
              "ticks": ""
             }
            },
            "type": "scatterpolar"
           }
          ],
          "scatterpolargl": [
           {
            "marker": {
             "colorbar": {
              "outlinewidth": 0,
              "ticks": ""
             }
            },
            "type": "scatterpolargl"
           }
          ],
          "scatterternary": [
           {
            "marker": {
             "colorbar": {
              "outlinewidth": 0,
              "ticks": ""
             }
            },
            "type": "scatterternary"
           }
          ],
          "surface": [
           {
            "colorbar": {
             "outlinewidth": 0,
             "ticks": ""
            },
            "colorscale": [
             [
              0,
              "#0d0887"
             ],
             [
              0.1111111111111111,
              "#46039f"
             ],
             [
              0.2222222222222222,
              "#7201a8"
             ],
             [
              0.3333333333333333,
              "#9c179e"
             ],
             [
              0.4444444444444444,
              "#bd3786"
             ],
             [
              0.5555555555555556,
              "#d8576b"
             ],
             [
              0.6666666666666666,
              "#ed7953"
             ],
             [
              0.7777777777777778,
              "#fb9f3a"
             ],
             [
              0.8888888888888888,
              "#fdca26"
             ],
             [
              1,
              "#f0f921"
             ]
            ],
            "type": "surface"
           }
          ],
          "table": [
           {
            "cells": {
             "fill": {
              "color": "#EBF0F8"
             },
             "line": {
              "color": "white"
             }
            },
            "header": {
             "fill": {
              "color": "#C8D4E3"
             },
             "line": {
              "color": "white"
             }
            },
            "type": "table"
           }
          ]
         },
         "layout": {
          "annotationdefaults": {
           "arrowcolor": "#2a3f5f",
           "arrowhead": 0,
           "arrowwidth": 1
          },
          "autotypenumbers": "strict",
          "coloraxis": {
           "colorbar": {
            "outlinewidth": 0,
            "ticks": ""
           }
          },
          "colorscale": {
           "diverging": [
            [
             0,
             "#8e0152"
            ],
            [
             0.1,
             "#c51b7d"
            ],
            [
             0.2,
             "#de77ae"
            ],
            [
             0.3,
             "#f1b6da"
            ],
            [
             0.4,
             "#fde0ef"
            ],
            [
             0.5,
             "#f7f7f7"
            ],
            [
             0.6,
             "#e6f5d0"
            ],
            [
             0.7,
             "#b8e186"
            ],
            [
             0.8,
             "#7fbc41"
            ],
            [
             0.9,
             "#4d9221"
            ],
            [
             1,
             "#276419"
            ]
           ],
           "sequential": [
            [
             0,
             "#0d0887"
            ],
            [
             0.1111111111111111,
             "#46039f"
            ],
            [
             0.2222222222222222,
             "#7201a8"
            ],
            [
             0.3333333333333333,
             "#9c179e"
            ],
            [
             0.4444444444444444,
             "#bd3786"
            ],
            [
             0.5555555555555556,
             "#d8576b"
            ],
            [
             0.6666666666666666,
             "#ed7953"
            ],
            [
             0.7777777777777778,
             "#fb9f3a"
            ],
            [
             0.8888888888888888,
             "#fdca26"
            ],
            [
             1,
             "#f0f921"
            ]
           ],
           "sequentialminus": [
            [
             0,
             "#0d0887"
            ],
            [
             0.1111111111111111,
             "#46039f"
            ],
            [
             0.2222222222222222,
             "#7201a8"
            ],
            [
             0.3333333333333333,
             "#9c179e"
            ],
            [
             0.4444444444444444,
             "#bd3786"
            ],
            [
             0.5555555555555556,
             "#d8576b"
            ],
            [
             0.6666666666666666,
             "#ed7953"
            ],
            [
             0.7777777777777778,
             "#fb9f3a"
            ],
            [
             0.8888888888888888,
             "#fdca26"
            ],
            [
             1,
             "#f0f921"
            ]
           ]
          },
          "colorway": [
           "#636efa",
           "#EF553B",
           "#00cc96",
           "#ab63fa",
           "#FFA15A",
           "#19d3f3",
           "#FF6692",
           "#B6E880",
           "#FF97FF",
           "#FECB52"
          ],
          "font": {
           "color": "#2a3f5f"
          },
          "geo": {
           "bgcolor": "white",
           "lakecolor": "white",
           "landcolor": "#E5ECF6",
           "showlakes": true,
           "showland": true,
           "subunitcolor": "white"
          },
          "hoverlabel": {
           "align": "left"
          },
          "hovermode": "closest",
          "mapbox": {
           "style": "light"
          },
          "paper_bgcolor": "white",
          "plot_bgcolor": "#E5ECF6",
          "polar": {
           "angularaxis": {
            "gridcolor": "white",
            "linecolor": "white",
            "ticks": ""
           },
           "bgcolor": "#E5ECF6",
           "radialaxis": {
            "gridcolor": "white",
            "linecolor": "white",
            "ticks": ""
           }
          },
          "scene": {
           "xaxis": {
            "backgroundcolor": "#E5ECF6",
            "gridcolor": "white",
            "gridwidth": 2,
            "linecolor": "white",
            "showbackground": true,
            "ticks": "",
            "zerolinecolor": "white"
           },
           "yaxis": {
            "backgroundcolor": "#E5ECF6",
            "gridcolor": "white",
            "gridwidth": 2,
            "linecolor": "white",
            "showbackground": true,
            "ticks": "",
            "zerolinecolor": "white"
           },
           "zaxis": {
            "backgroundcolor": "#E5ECF6",
            "gridcolor": "white",
            "gridwidth": 2,
            "linecolor": "white",
            "showbackground": true,
            "ticks": "",
            "zerolinecolor": "white"
           }
          },
          "shapedefaults": {
           "line": {
            "color": "#2a3f5f"
           }
          },
          "ternary": {
           "aaxis": {
            "gridcolor": "white",
            "linecolor": "white",
            "ticks": ""
           },
           "baxis": {
            "gridcolor": "white",
            "linecolor": "white",
            "ticks": ""
           },
           "bgcolor": "#E5ECF6",
           "caxis": {
            "gridcolor": "white",
            "linecolor": "white",
            "ticks": ""
           }
          },
          "title": {
           "x": 0.05
          },
          "xaxis": {
           "automargin": true,
           "gridcolor": "white",
           "linecolor": "white",
           "ticks": "",
           "title": {
            "standoff": 15
           },
           "zerolinecolor": "white",
           "zerolinewidth": 2
          },
          "yaxis": {
           "automargin": true,
           "gridcolor": "white",
           "linecolor": "white",
           "ticks": "",
           "title": {
            "standoff": 15
           },
           "zerolinecolor": "white",
           "zerolinewidth": 2
          }
         }
        },
        "title": {
         "font": {
          "family": "Arial Black",
          "size": 20
         },
         "text": "Budget Pacing Trajectories - IQL",
         "x": 0.5
        },
        "width": 800,
        "xaxis": {
         "gridcolor": "rgba(128,128,128,0.2)",
         "range": [
          0,
          47
         ],
         "showgrid": true,
         "tickfont": {
          "size": 12
         },
         "title": {
          "font": {
           "family": "Arial",
           "size": 14
          },
          "text": "Time Step"
         }
        },
        "yaxis": {
         "gridcolor": "rgba(128,128,128,0.2)",
         "showgrid": true,
         "tickfont": {
          "size": 12
         },
         "title": {
          "font": {
           "family": "Arial",
           "size": 14
          },
          "text": "Budget Left Ratio"
         }
        }
       }
      }
     },
     "metadata": {},
     "output_type": "display_data"
    }
   ],
   "source": [
    "fig = plot_budget_pacing_trajectories(\n",
    "    *compute_auction_budget_pacing(\n",
    "        auction_histories, \n",
    "        agent_name=agent_name, \n",
    "        sample_size=300, \n",
    "        seed=42,\n",
    "    ),\n",
    "    agent_name=agent_name,\n",
    ")\n",
    "fig.show()\n"
   ]
  },
  {
   "cell_type": "markdown",
   "id": "692f5a18",
   "metadata": {},
   "source": [
    "### Performance Benchmark"
   ]
  },
  {
   "cell_type": "code",
   "execution_count": null,
   "id": "ab5de002",
   "metadata": {},
   "outputs": [
    {
     "data": {
      "application/vnd.plotly.v1+json": {
       "config": {
        "plotlyServerURL": "https://plot.ly"
       },
       "data": [
        {
         "alignmentgroup": "True",
         "box": {
          "visible": true
         },
         "hovertemplate": "Agent=%{x}<br>Relative Score (%)=%{y}<extra></extra>",
         "legendgroup": "FixedCPA",
         "marker": {
          "color": "#636efa"
         },
         "name": "FixedCPA",
         "offsetgroup": "FixedCPA",
         "orientation": "v",
         "points": "all",
         "scalegroup": "True",
         "showlegend": true,
         "type": "violin",
         "x": [
          "FixedCPA",
          "FixedCPA",
          "FixedCPA",
          "FixedCPA",
          "FixedCPA",
          "FixedCPA",
          "FixedCPA",
          "FixedCPA",
          "FixedCPA",
          "FixedCPA",
          "FixedCPA",
          "FixedCPA",
          "FixedCPA",
          "FixedCPA",
          "FixedCPA",
          "FixedCPA",
          "FixedCPA",
          "FixedCPA",
          "FixedCPA",
          "FixedCPA",
          "FixedCPA",
          "FixedCPA",
          "FixedCPA",
          "FixedCPA",
          "FixedCPA",
          "FixedCPA",
          "FixedCPA",
          "FixedCPA",
          "FixedCPA",
          "FixedCPA",
          "FixedCPA",
          "FixedCPA",
          "FixedCPA",
          "FixedCPA",
          "FixedCPA",
          "FixedCPA",
          "FixedCPA",
          "FixedCPA",
          "FixedCPA",
          "FixedCPA",
          "FixedCPA",
          "FixedCPA",
          "FixedCPA",
          "FixedCPA",
          "FixedCPA",
          "FixedCPA",
          "FixedCPA",
          "FixedCPA",
          "FixedCPA",
          "FixedCPA",
          "FixedCPA",
          "FixedCPA",
          "FixedCPA",
          "FixedCPA",
          "FixedCPA",
          "FixedCPA",
          "FixedCPA",
          "FixedCPA",
          "FixedCPA",
          "FixedCPA",
          "FixedCPA",
          "FixedCPA",
          "FixedCPA",
          "FixedCPA",
          "FixedCPA",
          "FixedCPA",
          "FixedCPA",
          "FixedCPA",
          "FixedCPA",
          "FixedCPA",
          "FixedCPA",
          "FixedCPA"
         ],
         "x0": " ",
         "xaxis": "x",
         "y": {
          "bdata": "EtfxKI9/OECwNf7fGe82QGnKW3VIzjVAmmDX+RpxQ0DsrUKpLrpCQJWO4geDthvAPXDAGzp7QUCb0KRdeslCQLAOc7PI6AjALOgOmqYvNUCSsukwWCZFQGfDAHqXOyBAKKai9TEGQ0CmDUihyktDQKDQ7yo9NiRA9cwjTIT4MkAYSJqzJIFGQESWmUWowh9AnGGict3NN0DCWLzRCrX+P9BikkHzQCNALyJFme+kR0BspZOt4NgxQAlfBxx7blNAdUXv/hQUB0D8iWaHXZQOQL2ziFJwizJAZU/ccY6BRkDKOfgLsgc7QGSTgj+NtUhAftyMUTmNNkBLke0eNUsdQIu5qKFYdjBAf6GkLI9XUECG0cambyAxQEP0ByY1bUdAtlUexm4e4z+9v2soF9pJQJvQruniGTFApGYzXwHSI8DoPvHzY4U7QGtxbRvPIy1A+nrWQAgJD0DRAtkn9aBBQE1KVpcTeT5A3pgRqNunGcANHaeOvy8xQN9YBUcL3yxAuOhJ8WGeH0BT2EiOcPFCQHg6n87Tlj9AlkZZPYJdLMADns7sUXE8QO4wdGCMbDVAZafAoRJ1S0DC8B/PycAxQJ9iZ0grHytAAYnKhTgBN0AfO5KdKLMfQIFsk5r2aTFAmmwtJWlCQ0B7CI/OiMA3QC9M3snpnjJABrRKNvEoNkDbHr74VdQnQKBXkx0qGTxATK/CGuhESUC8zsvaQAMwQH0C4D4ioD1ABqhKxSMDLUDlONY4Le0yQEvahMiN4jFA",
          "dtype": "f8"
         },
         "y0": " ",
         "yaxis": "y"
        },
        {
         "alignmentgroup": "True",
         "box": {
          "visible": true
         },
         "hovertemplate": "Agent=%{x}<br>Relative Score (%)=%{y}<extra></extra>",
         "legendgroup": "StochasticCPA",
         "marker": {
          "color": "#EF553B"
         },
         "name": "StochasticCPA",
         "offsetgroup": "StochasticCPA",
         "orientation": "v",
         "points": "all",
         "scalegroup": "True",
         "showlegend": true,
         "type": "violin",
         "x": [
          "StochasticCPA",
          "StochasticCPA",
          "StochasticCPA",
          "StochasticCPA",
          "StochasticCPA",
          "StochasticCPA",
          "StochasticCPA",
          "StochasticCPA",
          "StochasticCPA",
          "StochasticCPA",
          "StochasticCPA",
          "StochasticCPA",
          "StochasticCPA",
          "StochasticCPA",
          "StochasticCPA",
          "StochasticCPA",
          "StochasticCPA",
          "StochasticCPA",
          "StochasticCPA",
          "StochasticCPA",
          "StochasticCPA",
          "StochasticCPA",
          "StochasticCPA",
          "StochasticCPA",
          "StochasticCPA",
          "StochasticCPA",
          "StochasticCPA",
          "StochasticCPA",
          "StochasticCPA",
          "StochasticCPA",
          "StochasticCPA",
          "StochasticCPA",
          "StochasticCPA",
          "StochasticCPA",
          "StochasticCPA",
          "StochasticCPA",
          "StochasticCPA",
          "StochasticCPA",
          "StochasticCPA",
          "StochasticCPA",
          "StochasticCPA",
          "StochasticCPA",
          "StochasticCPA",
          "StochasticCPA",
          "StochasticCPA",
          "StochasticCPA",
          "StochasticCPA",
          "StochasticCPA",
          "StochasticCPA",
          "StochasticCPA",
          "StochasticCPA",
          "StochasticCPA",
          "StochasticCPA",
          "StochasticCPA",
          "StochasticCPA",
          "StochasticCPA",
          "StochasticCPA",
          "StochasticCPA",
          "StochasticCPA",
          "StochasticCPA",
          "StochasticCPA",
          "StochasticCPA",
          "StochasticCPA",
          "StochasticCPA",
          "StochasticCPA",
          "StochasticCPA",
          "StochasticCPA",
          "StochasticCPA",
          "StochasticCPA",
          "StochasticCPA",
          "StochasticCPA",
          "StochasticCPA"
         ],
         "x0": " ",
         "xaxis": "x",
         "y": {
          "bdata": "6VV/0Ds7OUDteb38oxw0QJ9OLgdt3zVA8EZh+lcUQ0BCJ72aZFhDQMkMJ0ixPyDAF8l/tIWcQUC0W8MT8xBCQFG0JlbpvWY/SpGiiQBLM0DUTL6bblNEQJe1BLL31iNALdG+BhjZQ0CmDUihyktDQKnDqtBzESFAiUO0JRogNEB7DTlWr69GQAVgqO81px9ADtz8QfdjN0AFd8LJe+YMQB3WIZ58AR9A0LkaOF2KSEB0PuPDuwA0QFHyYekdVFNADyiY09UaFEDYVxouYXkVQBO8/sM+CDFAU6NNZ63VRkBowfIBs2w6QAoHyGQ4iElArGCzQbedN0BZC3PuPZEeQFUzOyx9mzBA7nrvkUmMUEDIAC5b+t8xQHaI3X3jW0ZAqul3st0ICEDEv7eBFaNJQG0NvHdUCTFAUp+2I/ejJMDO/cuYX9U7QBKV1LJ1RipAAKcyQu7mEkCkGUQIiHQ9QIlH7151pD9AHqkbbzSdIMCmlQNMISsyQMTE3GevkylA/SYH5OAfH0BmB+1f/i1EQHg6n87Tlj9A2HC4sI1NLMDlnpe4GZI+QIlQw2+2pDZAhYXgj1UrS0BNw1kTOpgxQEspz2H2xCxA9q8uJg87OEBie1ADaoAhQN0vXR5VFDRAQD0mZpEvQ0BMsoK4H4Q2QOAEv6lc1TNAaBhcKDtlN0CqBIIMAnopQPvi63ZRqDtAUdk5jufJR0CF7sp2vuQpQBB5/fx0YT1AB0L3YK/SKkCgIkgPl+Y1QPHcks2lRzJA",
          "dtype": "f8"
         },
         "y0": " ",
         "yaxis": "y"
        },
        {
         "alignmentgroup": "True",
         "box": {
          "visible": true
         },
         "hovertemplate": "Agent=%{x}<br>Relative Score (%)=%{y}<extra></extra>",
         "legendgroup": "ValueScaledCPA",
         "marker": {
          "color": "#00cc96"
         },
         "name": "ValueScaledCPA",
         "offsetgroup": "ValueScaledCPA",
         "orientation": "v",
         "points": "all",
         "scalegroup": "True",
         "showlegend": true,
         "type": "violin",
         "x": [
          "ValueScaledCPA",
          "ValueScaledCPA",
          "ValueScaledCPA",
          "ValueScaledCPA",
          "ValueScaledCPA",
          "ValueScaledCPA",
          "ValueScaledCPA",
          "ValueScaledCPA",
          "ValueScaledCPA",
          "ValueScaledCPA",
          "ValueScaledCPA",
          "ValueScaledCPA",
          "ValueScaledCPA",
          "ValueScaledCPA",
          "ValueScaledCPA",
          "ValueScaledCPA",
          "ValueScaledCPA",
          "ValueScaledCPA",
          "ValueScaledCPA",
          "ValueScaledCPA",
          "ValueScaledCPA",
          "ValueScaledCPA",
          "ValueScaledCPA",
          "ValueScaledCPA",
          "ValueScaledCPA",
          "ValueScaledCPA",
          "ValueScaledCPA",
          "ValueScaledCPA",
          "ValueScaledCPA",
          "ValueScaledCPA",
          "ValueScaledCPA",
          "ValueScaledCPA",
          "ValueScaledCPA",
          "ValueScaledCPA",
          "ValueScaledCPA",
          "ValueScaledCPA",
          "ValueScaledCPA",
          "ValueScaledCPA",
          "ValueScaledCPA",
          "ValueScaledCPA",
          "ValueScaledCPA",
          "ValueScaledCPA",
          "ValueScaledCPA",
          "ValueScaledCPA",
          "ValueScaledCPA",
          "ValueScaledCPA",
          "ValueScaledCPA",
          "ValueScaledCPA",
          "ValueScaledCPA",
          "ValueScaledCPA",
          "ValueScaledCPA",
          "ValueScaledCPA",
          "ValueScaledCPA",
          "ValueScaledCPA",
          "ValueScaledCPA",
          "ValueScaledCPA",
          "ValueScaledCPA",
          "ValueScaledCPA",
          "ValueScaledCPA",
          "ValueScaledCPA",
          "ValueScaledCPA",
          "ValueScaledCPA",
          "ValueScaledCPA",
          "ValueScaledCPA",
          "ValueScaledCPA",
          "ValueScaledCPA",
          "ValueScaledCPA",
          "ValueScaledCPA",
          "ValueScaledCPA",
          "ValueScaledCPA",
          "ValueScaledCPA",
          "ValueScaledCPA"
         ],
         "x0": " ",
         "xaxis": "x",
         "y": {
          "bdata": "26xK5kMgMEDNwG02GThAQMlc5mIS+ypAsnqp5uiTPkDweYkSsLJHQI8o26RRN8K/2DdrITURQ0DcsQRsycFBQMWS0oCHORZAkiXa5qlYgL8AOg8PzohFQBAg7kv4hyFATXYIWkAxM0AHLCwhrF5CQJXURWXLL/I/sKiq9XqkNUC1ueJDq2pIQO8nnQ0/3hdADnVYBBC6NkCZafJR0Wfyv3Zh/gLfoiFAuYJNv/qQQkC/nczn+jk3QGBG6S4NZFNApRQawRuwI0AHyhEL9DoBQGozO484P0BAmwsxl8HmSUCm6em4U089QNOKuR6RSE1AliK066meLUDsz7C+0S8AQBkSb3JU4TpA5qE1B04xSUDBCFTCxpZAQAVTmje4ZkZArHUn9tr7J8BokGSiPEtPQLn3PhCK3DZA89TeImx7KcD2Tm4PksI1QOLxJRR/oz1AIiTt0KilGUB9uGyYMw1BQPbOBpdqgj9AxXtX+XAxCsC98d6GfaQrQMBUS+j09TtAzTSmhObKIED0K/lZSytKQKzOB/MSdTtAbadd8GU8McCrTKFE63syQDsw86FgwTtAZoq4jeJ+SkB39+ffTzwOQIwoeXaezi5AQXRm2u9wPED9g7f64W4SQLGGwEueRjBAv6DfyxqGPECl4RHG7wcmQKCjrBu5hyFAHYXhp07qQUBLCmtE0PMPQPtAnddIiSdAIgEHSSxOQEAnxsGMKbEvQETHDFfA8SZAXN9RKqA5/T8nhSd8IvQyQPcS5ZJAYTdA",
          "dtype": "f8"
         },
         "y0": " ",
         "yaxis": "y"
        },
        {
         "alignmentgroup": "True",
         "box": {
          "visible": true
         },
         "hovertemplate": "Agent=%{x}<br>Relative Score (%)=%{y}<extra></extra>",
         "legendgroup": "BudgetPacer",
         "marker": {
          "color": "#ab63fa"
         },
         "name": "BudgetPacer",
         "offsetgroup": "BudgetPacer",
         "orientation": "v",
         "points": "all",
         "scalegroup": "True",
         "showlegend": true,
         "type": "violin",
         "x": [
          "BudgetPacer",
          "BudgetPacer",
          "BudgetPacer",
          "BudgetPacer",
          "BudgetPacer",
          "BudgetPacer",
          "BudgetPacer",
          "BudgetPacer",
          "BudgetPacer",
          "BudgetPacer",
          "BudgetPacer",
          "BudgetPacer",
          "BudgetPacer",
          "BudgetPacer",
          "BudgetPacer",
          "BudgetPacer",
          "BudgetPacer",
          "BudgetPacer",
          "BudgetPacer",
          "BudgetPacer",
          "BudgetPacer",
          "BudgetPacer",
          "BudgetPacer",
          "BudgetPacer",
          "BudgetPacer",
          "BudgetPacer",
          "BudgetPacer",
          "BudgetPacer",
          "BudgetPacer",
          "BudgetPacer",
          "BudgetPacer",
          "BudgetPacer",
          "BudgetPacer",
          "BudgetPacer",
          "BudgetPacer",
          "BudgetPacer",
          "BudgetPacer",
          "BudgetPacer",
          "BudgetPacer",
          "BudgetPacer",
          "BudgetPacer",
          "BudgetPacer",
          "BudgetPacer",
          "BudgetPacer",
          "BudgetPacer",
          "BudgetPacer",
          "BudgetPacer",
          "BudgetPacer",
          "BudgetPacer",
          "BudgetPacer",
          "BudgetPacer",
          "BudgetPacer",
          "BudgetPacer",
          "BudgetPacer",
          "BudgetPacer",
          "BudgetPacer",
          "BudgetPacer",
          "BudgetPacer",
          "BudgetPacer",
          "BudgetPacer",
          "BudgetPacer",
          "BudgetPacer",
          "BudgetPacer",
          "BudgetPacer",
          "BudgetPacer",
          "BudgetPacer",
          "BudgetPacer",
          "BudgetPacer",
          "BudgetPacer",
          "BudgetPacer",
          "BudgetPacer",
          "BudgetPacer"
         ],
         "x0": " ",
         "xaxis": "x",
         "y": {
          "bdata": "PVDlu4GNMUDDHg/RqtxDQEVU0HsWVS5AgBA0dr5GOUCmwehQ8f0wQAAAAAAAAAAA5/kNgfV3O0AQNHspS6k1QOeA7GOVQiVAz3W2luc/MEAQBWWkSNAtQKgBMuik8C1Aebz0KC1KPkDRemWCe8VGQKUx/IwO0yxAtXCml/xzM0DZp0XdFSs1QGdnLaBxnCZAhftV5upFQkBvVfaUkEApQCRXem5U4TNAUHaH5tK/Q0DbSTosML8+QIRiVWb0YlVAX+6sLYYzKUAThNT8e7caQH6gt7ShazhAJuBjXXhiRkDjz9xwu+NLQFQkKPuvyFFAB26+oX0uPUCZ9hTZ6M82QOjgtIZGaUFAcRMAkLF1SEBA1eMbVyRFQD7LLaESnEtAVzIoUDEn0D/FUFHWHZ1CQB9sB1eCYEFAuLgdc3s9IcCd5Qjy45wxQCobTRUqvUFACqMT4jW2L0C1fJAxrKsuQFgjlOxZ+0VAaeIb+QclvT/tHtssWjIyQLYD7ibr4DtAGr6BUouuLUBX1mbW1o44QBBSokMa7jRA7ZYjh8B5MMB9qTd+F/I0QJf5vNYeIjhAVjRa13sySkBYU4jIMekqQHKRv3fVBjtA5J5SI1AbRkAeA7tCYeM2QP2uqoyJ2EJATl92wlnbOUDn52vz0WNFQBmDvTF74zBALLIhgphRQ0BboV7pKLUuQOYO3iPSzkFAJuBMkracQ0AwyJl3AG05QERaZ9UXrDVAcLMAhqUYM0DDQNvQeDRAQLdK1B0ct0ZA",
          "dtype": "f8"
         },
         "y0": " ",
         "yaxis": "y"
        },
        {
         "alignmentgroup": "True",
         "box": {
          "visible": true
         },
         "hovertemplate": "Agent=%{x}<br>Relative Score (%)=%{y}<extra></extra>",
         "legendgroup": "PIDBudgetPacer",
         "marker": {
          "color": "#FFA15A"
         },
         "name": "PIDBudgetPacer",
         "offsetgroup": "PIDBudgetPacer",
         "orientation": "v",
         "points": "all",
         "scalegroup": "True",
         "showlegend": true,
         "type": "violin",
         "x": [
          "PIDBudgetPacer",
          "PIDBudgetPacer",
          "PIDBudgetPacer",
          "PIDBudgetPacer",
          "PIDBudgetPacer",
          "PIDBudgetPacer",
          "PIDBudgetPacer",
          "PIDBudgetPacer",
          "PIDBudgetPacer",
          "PIDBudgetPacer",
          "PIDBudgetPacer",
          "PIDBudgetPacer",
          "PIDBudgetPacer",
          "PIDBudgetPacer",
          "PIDBudgetPacer",
          "PIDBudgetPacer",
          "PIDBudgetPacer",
          "PIDBudgetPacer",
          "PIDBudgetPacer",
          "PIDBudgetPacer",
          "PIDBudgetPacer",
          "PIDBudgetPacer",
          "PIDBudgetPacer",
          "PIDBudgetPacer",
          "PIDBudgetPacer",
          "PIDBudgetPacer",
          "PIDBudgetPacer",
          "PIDBudgetPacer",
          "PIDBudgetPacer",
          "PIDBudgetPacer",
          "PIDBudgetPacer",
          "PIDBudgetPacer",
          "PIDBudgetPacer",
          "PIDBudgetPacer",
          "PIDBudgetPacer",
          "PIDBudgetPacer",
          "PIDBudgetPacer",
          "PIDBudgetPacer",
          "PIDBudgetPacer",
          "PIDBudgetPacer",
          "PIDBudgetPacer",
          "PIDBudgetPacer",
          "PIDBudgetPacer",
          "PIDBudgetPacer",
          "PIDBudgetPacer",
          "PIDBudgetPacer",
          "PIDBudgetPacer",
          "PIDBudgetPacer",
          "PIDBudgetPacer",
          "PIDBudgetPacer",
          "PIDBudgetPacer",
          "PIDBudgetPacer",
          "PIDBudgetPacer",
          "PIDBudgetPacer",
          "PIDBudgetPacer",
          "PIDBudgetPacer",
          "PIDBudgetPacer",
          "PIDBudgetPacer",
          "PIDBudgetPacer",
          "PIDBudgetPacer",
          "PIDBudgetPacer",
          "PIDBudgetPacer",
          "PIDBudgetPacer",
          "PIDBudgetPacer",
          "PIDBudgetPacer",
          "PIDBudgetPacer",
          "PIDBudgetPacer",
          "PIDBudgetPacer",
          "PIDBudgetPacer",
          "PIDBudgetPacer",
          "PIDBudgetPacer",
          "PIDBudgetPacer"
         ],
         "x0": " ",
         "xaxis": "x",
         "y": {
          "bdata": "EWzD5VQT9T9K8jOCO9dEQLJAjZccTDhA+VVxky4ZQUByWPyh0qhIQCisEnhlRAdAnvsqP5sWQEB5uifGsU0+QM3cJeNLYwFApcdu2IS8IEAyyxQX4pNHQOxIhnV1lzFAQDRbiPPiPUDaBUWHitdCQDH+utEyIBlAxrgJ9Ie5OUDrNp8Z/gVLQGQb0xBD2jFAOfP5oGekOkDG2BIPwmUcQG3ZKhY2dylAhsy1Qj0yRUC9IZUFe9s/QNMfT5nk9lVAa7f+tgYTAkBgtj5KkCP4P33NDhi1ij1AEdMf/l9JR0CDmCqTVJNLQM7uMrZHsU9ALQUmm3EXMEDCHB6rtFYbQFNRIegByDtA2XtWaYtQS0BXA7Zrh9VDQN2/jKmolkVANO0WXO32gr+0t4ss3IJPQKc3gnzBQD1AdW3L8I9aE8DMifeVUZ4+QGot+lZBdzhAONuEiuJKH0CpGR3hpM8+QLAPGtxBa0VApYTKB654C8DxYD9wXsw7QNfnqE2hyD1AAfOLidNeK0C52B99SWpJQE5qu3Bkq0NANpv5x36WMcCRSD2HmnY3QOU2cYg1oEBArcztnWn9TUCTUULpGrQlQOa46rrEIjBAEs19uL1zQkCLdy5LbbomQI+j4d4UwDdAimLrZ7DGOUAY+W0yOuMyQN9GBhRxGC5AsGcUNawGPEBiArVWWPstQPEqDImUBThA2o9otSVKOkBCnzRHdfA3QETJ7wfFNTZAgEG5Yd7QFMBh58pgqNg7QBjSIRRJLDdA",
          "dtype": "f8"
         },
         "y0": " ",
         "yaxis": "y"
        },
        {
         "alignmentgroup": "True",
         "box": {
          "visible": true
         },
         "hovertemplate": "Agent=%{x}<br>Relative Score (%)=%{y}<extra></extra>",
         "legendgroup": "PIDCPA",
         "marker": {
          "color": "#19d3f3"
         },
         "name": "PIDCPA",
         "offsetgroup": "PIDCPA",
         "orientation": "v",
         "points": "all",
         "scalegroup": "True",
         "showlegend": true,
         "type": "violin",
         "x": [
          "PIDCPA",
          "PIDCPA",
          "PIDCPA",
          "PIDCPA",
          "PIDCPA",
          "PIDCPA",
          "PIDCPA",
          "PIDCPA",
          "PIDCPA",
          "PIDCPA",
          "PIDCPA",
          "PIDCPA",
          "PIDCPA",
          "PIDCPA",
          "PIDCPA",
          "PIDCPA",
          "PIDCPA",
          "PIDCPA",
          "PIDCPA",
          "PIDCPA",
          "PIDCPA",
          "PIDCPA",
          "PIDCPA",
          "PIDCPA",
          "PIDCPA",
          "PIDCPA",
          "PIDCPA",
          "PIDCPA",
          "PIDCPA",
          "PIDCPA",
          "PIDCPA",
          "PIDCPA",
          "PIDCPA",
          "PIDCPA",
          "PIDCPA",
          "PIDCPA",
          "PIDCPA",
          "PIDCPA",
          "PIDCPA",
          "PIDCPA",
          "PIDCPA",
          "PIDCPA",
          "PIDCPA",
          "PIDCPA",
          "PIDCPA",
          "PIDCPA",
          "PIDCPA",
          "PIDCPA",
          "PIDCPA",
          "PIDCPA",
          "PIDCPA",
          "PIDCPA",
          "PIDCPA",
          "PIDCPA",
          "PIDCPA",
          "PIDCPA",
          "PIDCPA",
          "PIDCPA",
          "PIDCPA",
          "PIDCPA",
          "PIDCPA",
          "PIDCPA",
          "PIDCPA",
          "PIDCPA",
          "PIDCPA",
          "PIDCPA",
          "PIDCPA",
          "PIDCPA",
          "PIDCPA",
          "PIDCPA",
          "PIDCPA",
          "PIDCPA"
         ],
         "x0": " ",
         "xaxis": "x",
         "y": {
          "bdata": "5HGc4LIeOECDLyvvYIk1QDb8HzDogDZAekD/0RxDQ0CnFTnxCupDQL/EEdJmyRfALjT2YAReQUCAduWg7BBCQMThvGBIhdA/SdvBZcqGNkBDJgkBKYhEQISv9WhPOiBAto6uMuk6Q0CmDUihyktDQPBYZUh9YiRA7rJ5ynBDM0AJ2egDlu1GQBj1GnSGSCJAtvQSuAvON0CMAiXk/6j2P5aZUzeo2iNAkTBbJmOcSEBZ2ttStJAxQHg4UoE1o1NAXQ61urwgEECOIB77FP4UQPN3eJR/XjNArmAb4JA0R0CATVGfNYg8QJzqqCi+lEpA1yDf3qz9NkD4Zjt/Z8kaQFOUaYBqZzFAxzT/+TE9UEAnz4vjkGkxQLth1hYGhUZAM2vPX3Mu9T84fZS2hCVKQLTpj1DNVTFAmLx0Ipv6IsDfC4OjNoQ8QDqQtWanWDBAg89vRXUcBUDml48SU9hAQAJvj7AXpUBAyNJiXRejGsC3OBr/oJIyQDr3IoQsiSxAe240UUdZIEAmPdKfGktDQKx2mkwkAEBAma2oNCcwLMDTdErNr4w8QPcIBMX3IjRA1woiyRB1S0DrzsejH/wxQAp0UiF3eypAVS3Q4526NkAzEoXUC80kQPgMODcDPTJA3CIhv2FoREDo/tJ54z46QNaOcYvCljRACrqqZU3eNUBX+fdyaQEnQN6Rat4W2DtAK2JY5VyuSUDAcHJCKx4uQLrqaR/hmz1ABvEa3OoPLUBbt0dMLO0yQNviMgNU4DFA",
          "dtype": "f8"
         },
         "y0": " ",
         "yaxis": "y"
        },
        {
         "alignmentgroup": "True",
         "box": {
          "visible": true
         },
         "hovertemplate": "Agent=%{x}<br>Relative Score (%)=%{y}<extra></extra>",
         "legendgroup": "BC",
         "marker": {
          "color": "#FF6692"
         },
         "name": "BC",
         "offsetgroup": "BC",
         "orientation": "v",
         "points": "all",
         "scalegroup": "True",
         "showlegend": true,
         "type": "violin",
         "x": [
          "BC",
          "BC",
          "BC",
          "BC",
          "BC",
          "BC",
          "BC",
          "BC",
          "BC",
          "BC",
          "BC",
          "BC",
          "BC",
          "BC",
          "BC",
          "BC",
          "BC",
          "BC",
          "BC",
          "BC",
          "BC",
          "BC",
          "BC",
          "BC",
          "BC",
          "BC",
          "BC",
          "BC",
          "BC",
          "BC",
          "BC",
          "BC",
          "BC",
          "BC",
          "BC",
          "BC",
          "BC",
          "BC",
          "BC",
          "BC",
          "BC",
          "BC",
          "BC",
          "BC",
          "BC",
          "BC",
          "BC",
          "BC",
          "BC",
          "BC",
          "BC",
          "BC",
          "BC",
          "BC",
          "BC",
          "BC",
          "BC",
          "BC",
          "BC",
          "BC",
          "BC",
          "BC",
          "BC",
          "BC",
          "BC",
          "BC",
          "BC",
          "BC",
          "BC",
          "BC",
          "BC",
          "BC"
         ],
         "x0": " ",
         "xaxis": "x",
         "y": {
          "bdata": "xF9oihTNNUCx5OT9dVlAQORDqFbqzkBAMSaIWgufSECFzH93Ej9FQGc8him1vsm/YxsUF4fZRkC/QJmX5JRAQDxUynOpeDVAR2jQKkKMM0C+1EA4Km9CQJrZjlvlozdAF2+HZA5wS0CoFCgNp3BMQMseIfThGEFAmgkd2WHLQUDrp37c9dhEQKfEl3nIHTpAEuqutVfsQEDq13btUg8lQGTDoRmdKDRAirROHy5XS0Dt+YlKTeVCQCYAzoUYl1VAKUNxjowqBkDjiehE7Z2lP3oANH7EJzVAGBCVOMlKT0B6jhaOlSJIQOs82xjsXlBAYpB5/ASgKUCn9Y4eqz0fQGxuq8/eBzZAJPkFOgP6TEDPBFxRWixEQB75pOrdhklAVJauPXEWNUCa3o97v7FIQLjFDCweU0dAkz6t3M0oKMAzXJdx3xM8QPfBHbnT4DRAd74Cwx3eM0CsHglEouFBQK1gY8nvq0VA1cYdWMiYAsDg+kAeROY2QHyPfjqL3zRA7ak5AZTGOUDWLIwbs68+QNIPEtMj8T9AWWeIbIHcHcD0kUcF8eA0QOq2AcQYbi5Axe3kXi7JPUDJefgR+Fw1QOArKyy4hzRAmEmIc801L0DGIYfEB+c+QD9jxjlFHAtAftg5CNi8MUBCr2n8FMRFQMGz/ve3TUZAva9ILl6wKEA7ZmEEn5E4QNKNbHYHACxAxjZpov9OK0BDQ77OXhI1QJq/A4M4Gz1AwYXyzrMCB8DAWC27v9hCQLyYeH2gcTFA",
          "dtype": "f8"
         },
         "y0": " ",
         "yaxis": "y"
        },
        {
         "alignmentgroup": "True",
         "box": {
          "visible": true
         },
         "hovertemplate": "Agent=%{x}<br>Relative Score (%)=%{y}<extra></extra>",
         "legendgroup": "CQL",
         "marker": {
          "color": "#B6E880"
         },
         "name": "CQL",
         "offsetgroup": "CQL",
         "orientation": "v",
         "points": "all",
         "scalegroup": "True",
         "showlegend": true,
         "type": "violin",
         "x": [
          "CQL",
          "CQL",
          "CQL",
          "CQL",
          "CQL",
          "CQL",
          "CQL",
          "CQL",
          "CQL",
          "CQL",
          "CQL",
          "CQL",
          "CQL",
          "CQL",
          "CQL",
          "CQL",
          "CQL",
          "CQL",
          "CQL",
          "CQL",
          "CQL",
          "CQL",
          "CQL",
          "CQL",
          "CQL",
          "CQL",
          "CQL",
          "CQL",
          "CQL",
          "CQL",
          "CQL",
          "CQL",
          "CQL",
          "CQL",
          "CQL",
          "CQL",
          "CQL",
          "CQL",
          "CQL",
          "CQL",
          "CQL",
          "CQL",
          "CQL",
          "CQL",
          "CQL",
          "CQL",
          "CQL",
          "CQL",
          "CQL",
          "CQL",
          "CQL",
          "CQL",
          "CQL",
          "CQL",
          "CQL",
          "CQL",
          "CQL",
          "CQL",
          "CQL",
          "CQL",
          "CQL",
          "CQL",
          "CQL",
          "CQL",
          "CQL",
          "CQL",
          "CQL",
          "CQL",
          "CQL",
          "CQL",
          "CQL",
          "CQL"
         ],
         "x0": " ",
         "xaxis": "x",
         "y": {
          "bdata": "97SQuZTAS0A79TWQXhdMQCygLBxPZkVAgwu9W9MFTkAtxKo9GFNQQNb8CUHGoRVA1o932U+kTkD8mH9eNuRDQD7xgaz0dUVAYNEGCTqjQ0CMDZIOefFJQOx3+z+fpTxApF3MOMSGTkA1K+Af6bFJQMtvr8/ic0NASVGv90yhR0Byam2E191PQPf3R4DQHUFAXGm79/lSR0BMGYDTFAM5QBRKc+YUpEFAws6W5a3FUUCxecNOF9xMQDMRTKAYSlZAo7CjXEQwN0BpG54vvCQoQA7lHAe1PUBAm/UUodg0UEDhjUfZ9oVIQF/4gsHc0FNAXd6F5345QkDhgriYOkU2QJSWociOnD1AiGLscHqKUkC/kuxQ0H5NQD54yaj4ok9AQLutVxJkGEBOTMpBSalPQLSl3VfIqkVAM4aZT6ugJsA+1wTZykNEQNrZpNE2HkhAJdeT6riXNEAySKBZ+s9DQNzIH8t94kxAfj1ivN17L0BvbY7qcHZEQM1IJr1DikJASqxscf0+L0AnWCJ4+gBCQKNY3v/ZaURAYQ8EiI/bKMA8OlrFN5pDQMuoULtpA0NABDcrIIupTECUKEBJKZJAQD65TYiOMkJA6p7jhnVZSEAMfHA50exBQMRvYDdwMTxA4bV03hHSQ0DOQWK/bQZGQCJvvzaSoEFAWJf7bmA+N0DiPVmsS0E9QMJAoXE0XDxAByTwSf2eQEBxfMEx1DJCQO22gDjrxEFAfJmsQBzPIkC0L/vvzMtDQOyj98LjQzdA",
          "dtype": "f8"
         },
         "y0": " ",
         "yaxis": "y"
        },
        {
         "alignmentgroup": "True",
         "box": {
          "visible": true
         },
         "hovertemplate": "Agent=%{x}<br>Relative Score (%)=%{y}<extra></extra>",
         "legendgroup": "IQL",
         "marker": {
          "color": "#FF97FF"
         },
         "name": "IQL",
         "offsetgroup": "IQL",
         "orientation": "v",
         "points": "all",
         "scalegroup": "True",
         "showlegend": true,
         "type": "violin",
         "x": [
          "IQL",
          "IQL",
          "IQL",
          "IQL",
          "IQL",
          "IQL",
          "IQL",
          "IQL",
          "IQL",
          "IQL",
          "IQL",
          "IQL",
          "IQL",
          "IQL",
          "IQL",
          "IQL",
          "IQL",
          "IQL",
          "IQL",
          "IQL",
          "IQL",
          "IQL",
          "IQL",
          "IQL",
          "IQL",
          "IQL",
          "IQL",
          "IQL",
          "IQL",
          "IQL",
          "IQL",
          "IQL",
          "IQL",
          "IQL",
          "IQL",
          "IQL",
          "IQL",
          "IQL",
          "IQL",
          "IQL",
          "IQL",
          "IQL",
          "IQL",
          "IQL",
          "IQL",
          "IQL",
          "IQL",
          "IQL",
          "IQL",
          "IQL",
          "IQL",
          "IQL",
          "IQL",
          "IQL",
          "IQL",
          "IQL",
          "IQL",
          "IQL",
          "IQL",
          "IQL",
          "IQL",
          "IQL",
          "IQL",
          "IQL",
          "IQL",
          "IQL",
          "IQL",
          "IQL",
          "IQL",
          "IQL",
          "IQL",
          "IQL"
         ],
         "x0": " ",
         "xaxis": "x",
         "y": {
          "bdata": "1ktMveZjSkD7qHBed3xRQLPqt/lZhUFA/OVxyENtTEDBV+7UCSdOQHHeUsZBcBpAZv8QL22JTkBP++y9BsdDQLATDkUeiz1Ax6/rDc7pQEAlj51/p3NNQFnF1kUP2T9AEsgC7XhRUEB+/1CRXNFOQDE5g8Oyh0NAT7RsxbdyREDwqH10+n9RQD4ozvoqoD1Af0PcLUjYP0B4e43qLyUoQFe2KzLuIkNA23j8jSHCUUC01TDUBWpJQAAAAAAAAFlApgClnOgoM0C7rWazXnsmQHda5Q8uwTNAYFpLQerDUUAXkK1iKaxQQPcsgPAgR1ZAMNe6VndXPUAkV2DwttI7QIk2tWeBWjxAcrCh+khhVECyEjIzeHFKQC/OQhGfJFZApESyIVyWKEB7/DP4hcRHQOXDFcvXA0ZAxWCsQ5nELcCNbAZZ/RhGQDCQduW+Xj9ABNFDZiZsJUDenyHMpxJBQGzJ91g0TUdATUK/cbQKEsAslZKHJKtAQDFQPz7VYjhAtzqtgD+OJUA6m/rwdU5GQCjFX90ipD1AIAgZqMciI8A/vGti44hAQDpPknj5yDdAkbVI/EJ0TUC9PgHVPyFEQA+xyL4l9kRA3rGxMLkyRUCAWIqJN886QGSXyZLoBDtApjBSURoJS0DZhg5kHiNMQLLSWCaVy0ZAVLuPijWMPECrtDdSz3JDQAFo6TIIYT5AwdDllv2qQ0CTYthP/eVGQL0nfls9CUVAIk1eJAQzMUAhTZJ8o3JEQFgyGAtj7zZA",
          "dtype": "f8"
         },
         "y0": " ",
         "yaxis": "y"
        },
        {
         "alignmentgroup": "True",
         "box": {
          "visible": true
         },
         "hovertemplate": "Agent=%{x}<br>Relative Score (%)=%{y}<extra></extra>",
         "legendgroup": "DT",
         "marker": {
          "color": "#FECB52"
         },
         "name": "DT",
         "offsetgroup": "DT",
         "orientation": "v",
         "points": "all",
         "scalegroup": "True",
         "showlegend": true,
         "type": "violin",
         "x": [
          "DT",
          "DT",
          "DT",
          "DT",
          "DT",
          "DT",
          "DT",
          "DT",
          "DT",
          "DT",
          "DT",
          "DT",
          "DT",
          "DT",
          "DT",
          "DT",
          "DT",
          "DT",
          "DT",
          "DT",
          "DT",
          "DT",
          "DT",
          "DT",
          "DT",
          "DT",
          "DT",
          "DT",
          "DT",
          "DT",
          "DT",
          "DT",
          "DT",
          "DT",
          "DT",
          "DT",
          "DT",
          "DT",
          "DT",
          "DT",
          "DT",
          "DT",
          "DT",
          "DT",
          "DT",
          "DT",
          "DT",
          "DT",
          "DT",
          "DT",
          "DT",
          "DT",
          "DT",
          "DT",
          "DT",
          "DT",
          "DT",
          "DT",
          "DT",
          "DT",
          "DT",
          "DT",
          "DT",
          "DT",
          "DT",
          "DT",
          "DT",
          "DT",
          "DT",
          "DT",
          "DT",
          "DT"
         ],
         "x0": " ",
         "xaxis": "x",
         "y": {
          "bdata": "u14Qlp9IQEDLiL8bCnpIQGrNFJNTOkFA53c6nx0SS0D20tks/MlFQEXM8L1kBTZAJwaLnUDkTEB1A+u3lkdFQHsJzIhDID5AtJz6KuKrOkBVvRi3qbpKQDv28qGMaD9A+W0qDtkxSUDVgaaa9/9FQCL1iGayRkRAmOTw8D5IQUAeyRa0LIBGQOFRzJVZxUFAK53b3MA9RUCBN5pF6eMjQDKTuEG/STlAaYgriD0IUkDpoapWwjVFQOkO7Di+DVVAPIY5du2lLUB6Mmu3ZcshwEbSSlPL4jlAizaMUh4LUkDuxHyH5H5KQLjev3QNy1FAijmFq1TXQEAy4A03SUUSQNo1E1B+Q0JAjLEWsoKZUkCJ1Mlg3h9KQMnK8Vr590pAB4IIiBBUKkBpZbe4hflRQGIZmck/bjJAjOMZUY/HJcDy44J2oCZEQGVZJmqHxUJAhaPHIy2qM0CWnjDS94FGQCl/QyaRrERAutBoCAR3HkA22moy1EVCQNQ2haeYc0FAlIWbpoFLNkDVysuX6DlOQH8+94fhiztA7T2OucRMEsDsIvfbTJI+QOItwnywR0VAc2m6GH7kSkBYlbf9UqBBQLgQmcFeSkRAxs+9F3qFR0A3OvqMVGQ8QAQO9uV4tyNAa9gs1uUwQ0BDOMr5vURDQG0gH2/MtztAi9bEhT1bNkDZed6k9kI1QNN/INlxHzxAVCNwvaS+OEATDAKNkK1AQB0d5XaaNUhAv9ZPoDZhJUDjq3lNGdpBQCcw0CGhTzVA",
          "dtype": "f8"
         },
         "y0": " ",
         "yaxis": "y"
        },
        {
         "alignmentgroup": "True",
         "box": {
          "visible": true
         },
         "hovertemplate": "Agent=%{x}<br>Relative Score (%)=%{y}<extra></extra>",
         "legendgroup": "GAVE",
         "marker": {
          "color": "#636efa"
         },
         "name": "GAVE",
         "offsetgroup": "GAVE",
         "orientation": "v",
         "points": "all",
         "scalegroup": "True",
         "showlegend": true,
         "type": "violin",
         "x": [
          "GAVE",
          "GAVE",
          "GAVE",
          "GAVE",
          "GAVE",
          "GAVE",
          "GAVE",
          "GAVE",
          "GAVE",
          "GAVE",
          "GAVE",
          "GAVE",
          "GAVE",
          "GAVE",
          "GAVE",
          "GAVE",
          "GAVE",
          "GAVE",
          "GAVE",
          "GAVE",
          "GAVE",
          "GAVE",
          "GAVE",
          "GAVE",
          "GAVE",
          "GAVE",
          "GAVE",
          "GAVE",
          "GAVE",
          "GAVE",
          "GAVE",
          "GAVE",
          "GAVE",
          "GAVE",
          "GAVE",
          "GAVE",
          "GAVE",
          "GAVE",
          "GAVE",
          "GAVE",
          "GAVE",
          "GAVE",
          "GAVE",
          "GAVE",
          "GAVE",
          "GAVE",
          "GAVE",
          "GAVE",
          "GAVE",
          "GAVE",
          "GAVE",
          "GAVE",
          "GAVE",
          "GAVE",
          "GAVE",
          "GAVE",
          "GAVE",
          "GAVE",
          "GAVE",
          "GAVE",
          "GAVE",
          "GAVE",
          "GAVE",
          "GAVE",
          "GAVE",
          "GAVE",
          "GAVE",
          "GAVE",
          "GAVE",
          "GAVE",
          "GAVE",
          "GAVE"
         ],
         "x0": " ",
         "xaxis": "x",
         "y": {
          "bdata": "pptQSDwtRECwrgRm4g5KQEheFL9lo0JAVZBNLrarSkBT0V+HpWlHQClSyC++kytAwkvv+qewSkB4smwPBKZFQP2FOK+pHDtAtysjplXwQED5BmKmI7BGQFexJ+3nAkFAHnhMyhOZSEAohXI2XaBLQGIiIJQlW0VAVAgILnQOQ0Dy7ovxBlVGQBqGnRVobT5AaNgE6nrHREAg4BQenzknQHMj1aHhtjJAozt1Wz0SUEDp7fiLiRBIQGnvvM+D0VRAbB412/1IMECH3bVAkh0hQBTVaAjNZDtALTdpPeeESkCJ7/l9wUhNQOWzKA5xpFBALjtWCMYgN0CmQGItM8ctQCeZp9oklT9AYbAt3N22S0C6WPSRw1lLQOAMtZ9FwU5AxcQ7dYjhM0AnEzI8v59LQCckwr8szEZAi6ezUwFeIcAUyxzddnFDQCGbMn42nkRAetfJ/LPYNkDMa1shCnlFQIC/ahG280dAn7IH6bEbIEApUtVZG7FDQKrBUr3+50BAdWH8VYdIM0BKsIze+Y1AQO9tvncmi0BAvrDMd0I0HMDDAfbszJw5QBgCi2kN2UVAVTArie75S0B6UJtjoHo4QG1WkDg4xkNAwWsNIzQvREBZCl0+9BtAQChAzGoGsEBAh8/snq8mRECoRg4vdqxGQIEpoYCwHkRASU7RHAzYM0BEjg1V48k1QPyEImIY6jtAtnvCbyN9RUAgPV1D3Iw+QL3mEKt8PUdAqQ75Kr1GLkD5Jwnvn2pFQGC5znFFvj9A",
          "dtype": "f8"
         },
         "y0": " ",
         "yaxis": "y"
        },
        {
         "alignmentgroup": "True",
         "box": {
          "visible": true
         },
         "hovertemplate": "Agent=%{x}<br>Relative Score (%)=%{y}<extra></extra>",
         "legendgroup": "GAS",
         "marker": {
          "color": "#EF553B"
         },
         "name": "GAS",
         "offsetgroup": "GAS",
         "orientation": "v",
         "points": "all",
         "scalegroup": "True",
         "showlegend": true,
         "type": "violin",
         "x": [
          "GAS",
          "GAS",
          "GAS",
          "GAS",
          "GAS",
          "GAS",
          "GAS",
          "GAS",
          "GAS",
          "GAS",
          "GAS",
          "GAS",
          "GAS",
          "GAS",
          "GAS",
          "GAS",
          "GAS",
          "GAS",
          "GAS",
          "GAS",
          "GAS",
          "GAS",
          "GAS",
          "GAS",
          "GAS",
          "GAS",
          "GAS",
          "GAS",
          "GAS",
          "GAS",
          "GAS",
          "GAS",
          "GAS",
          "GAS",
          "GAS",
          "GAS",
          "GAS",
          "GAS",
          "GAS",
          "GAS",
          "GAS",
          "GAS",
          "GAS",
          "GAS",
          "GAS",
          "GAS",
          "GAS",
          "GAS",
          "GAS",
          "GAS",
          "GAS",
          "GAS",
          "GAS",
          "GAS",
          "GAS",
          "GAS",
          "GAS",
          "GAS",
          "GAS",
          "GAS",
          "GAS",
          "GAS",
          "GAS",
          "GAS",
          "GAS",
          "GAS",
          "GAS",
          "GAS",
          "GAS",
          "GAS",
          "GAS",
          "GAS"
         ],
         "x0": " ",
         "xaxis": "x",
         "y": {
          "bdata": "aNml88X1QkDoW26S1k1JQLagqxdXnkNAcBR8aeN3TEAghgjfubdMQPu+Kg/j1TBAXhkYxMM7TEAmsNhXWrpDQNYml/v0qzhAIqrsmGcEN0C7iXviq8JKQC94lw/9uEBAXJH0vCxlTEB+8SLrhMJCQEH44NjMcT5AZypwMFYRQED7RUljMDpLQEHyZHxKaEFACC9owiM/QkBfPaa4w+AzQKIFYcSboDdAzm212+KBUkBoGp9GL/hFQNxG7c/sPFdA/Gwl0uYeMEDJiTnuKsQeQP0A2xYP1UNAn7e2T1aYUEAsQm7oAUZPQL0AMxLGUVNAmkSSAysOQUCW6/scWwEwQDNvNbkHb0NAPzTGno71UUCdD+s2ZDhJQGbnGnxmkk1Aed4RqajTMUAp8uEz/j9NQF+QwkW+hURA2T6WShbyIMBp+AW1lTRFQNrpmINYKkRAm0o44FbAMkC1y9lchFVEQAVD77Oqn0dABCndgPchKEAlFBZzuRJGQLkxP0Fp3ERADzOkm3iCL0Co7NXxSrFKQClVEIjCcz5A1R3rpjRu3D88b4jfY4xHQAxRSoEAuEFASpfc4AsrRUBWVARjrlE3QI90C/gxgj5AzVEtPQQyREAWdodPQx48QORcyoI/JDZAKb2vz/P7REBB9/+hABtEQK8Win/3O0FAoE5pRTNEMkACOsTra3s7QATep7Tl6ERAu1wsVjfRO0DfSCwU3K4/QF/zqU08qEpAXwOaII0nMECmVYZHPWRHQBndPBZvdkBA",
          "dtype": "f8"
         },
         "y0": " ",
         "yaxis": "y"
        }
       ],
       "layout": {
        "font": {
         "size": 14
        },
        "legend": {
         "title": {
          "text": "Agent"
         },
         "tracegroupgap": 0
        },
        "template": {
         "data": {
          "bar": [
           {
            "error_x": {
             "color": "#2a3f5f"
            },
            "error_y": {
             "color": "#2a3f5f"
            },
            "marker": {
             "line": {
              "color": "#E5ECF6",
              "width": 0.5
             },
             "pattern": {
              "fillmode": "overlay",
              "size": 10,
              "solidity": 0.2
             }
            },
            "type": "bar"
           }
          ],
          "barpolar": [
           {
            "marker": {
             "line": {
              "color": "#E5ECF6",
              "width": 0.5
             },
             "pattern": {
              "fillmode": "overlay",
              "size": 10,
              "solidity": 0.2
             }
            },
            "type": "barpolar"
           }
          ],
          "carpet": [
           {
            "aaxis": {
             "endlinecolor": "#2a3f5f",
             "gridcolor": "white",
             "linecolor": "white",
             "minorgridcolor": "white",
             "startlinecolor": "#2a3f5f"
            },
            "baxis": {
             "endlinecolor": "#2a3f5f",
             "gridcolor": "white",
             "linecolor": "white",
             "minorgridcolor": "white",
             "startlinecolor": "#2a3f5f"
            },
            "type": "carpet"
           }
          ],
          "choropleth": [
           {
            "colorbar": {
             "outlinewidth": 0,
             "ticks": ""
            },
            "type": "choropleth"
           }
          ],
          "contour": [
           {
            "colorbar": {
             "outlinewidth": 0,
             "ticks": ""
            },
            "colorscale": [
             [
              0,
              "#0d0887"
             ],
             [
              0.1111111111111111,
              "#46039f"
             ],
             [
              0.2222222222222222,
              "#7201a8"
             ],
             [
              0.3333333333333333,
              "#9c179e"
             ],
             [
              0.4444444444444444,
              "#bd3786"
             ],
             [
              0.5555555555555556,
              "#d8576b"
             ],
             [
              0.6666666666666666,
              "#ed7953"
             ],
             [
              0.7777777777777778,
              "#fb9f3a"
             ],
             [
              0.8888888888888888,
              "#fdca26"
             ],
             [
              1,
              "#f0f921"
             ]
            ],
            "type": "contour"
           }
          ],
          "contourcarpet": [
           {
            "colorbar": {
             "outlinewidth": 0,
             "ticks": ""
            },
            "type": "contourcarpet"
           }
          ],
          "heatmap": [
           {
            "colorbar": {
             "outlinewidth": 0,
             "ticks": ""
            },
            "colorscale": [
             [
              0,
              "#0d0887"
             ],
             [
              0.1111111111111111,
              "#46039f"
             ],
             [
              0.2222222222222222,
              "#7201a8"
             ],
             [
              0.3333333333333333,
              "#9c179e"
             ],
             [
              0.4444444444444444,
              "#bd3786"
             ],
             [
              0.5555555555555556,
              "#d8576b"
             ],
             [
              0.6666666666666666,
              "#ed7953"
             ],
             [
              0.7777777777777778,
              "#fb9f3a"
             ],
             [
              0.8888888888888888,
              "#fdca26"
             ],
             [
              1,
              "#f0f921"
             ]
            ],
            "type": "heatmap"
           }
          ],
          "histogram": [
           {
            "marker": {
             "pattern": {
              "fillmode": "overlay",
              "size": 10,
              "solidity": 0.2
             }
            },
            "type": "histogram"
           }
          ],
          "histogram2d": [
           {
            "colorbar": {
             "outlinewidth": 0,
             "ticks": ""
            },
            "colorscale": [
             [
              0,
              "#0d0887"
             ],
             [
              0.1111111111111111,
              "#46039f"
             ],
             [
              0.2222222222222222,
              "#7201a8"
             ],
             [
              0.3333333333333333,
              "#9c179e"
             ],
             [
              0.4444444444444444,
              "#bd3786"
             ],
             [
              0.5555555555555556,
              "#d8576b"
             ],
             [
              0.6666666666666666,
              "#ed7953"
             ],
             [
              0.7777777777777778,
              "#fb9f3a"
             ],
             [
              0.8888888888888888,
              "#fdca26"
             ],
             [
              1,
              "#f0f921"
             ]
            ],
            "type": "histogram2d"
           }
          ],
          "histogram2dcontour": [
           {
            "colorbar": {
             "outlinewidth": 0,
             "ticks": ""
            },
            "colorscale": [
             [
              0,
              "#0d0887"
             ],
             [
              0.1111111111111111,
              "#46039f"
             ],
             [
              0.2222222222222222,
              "#7201a8"
             ],
             [
              0.3333333333333333,
              "#9c179e"
             ],
             [
              0.4444444444444444,
              "#bd3786"
             ],
             [
              0.5555555555555556,
              "#d8576b"
             ],
             [
              0.6666666666666666,
              "#ed7953"
             ],
             [
              0.7777777777777778,
              "#fb9f3a"
             ],
             [
              0.8888888888888888,
              "#fdca26"
             ],
             [
              1,
              "#f0f921"
             ]
            ],
            "type": "histogram2dcontour"
           }
          ],
          "mesh3d": [
           {
            "colorbar": {
             "outlinewidth": 0,
             "ticks": ""
            },
            "type": "mesh3d"
           }
          ],
          "parcoords": [
           {
            "line": {
             "colorbar": {
              "outlinewidth": 0,
              "ticks": ""
             }
            },
            "type": "parcoords"
           }
          ],
          "pie": [
           {
            "automargin": true,
            "type": "pie"
           }
          ],
          "scatter": [
           {
            "fillpattern": {
             "fillmode": "overlay",
             "size": 10,
             "solidity": 0.2
            },
            "type": "scatter"
           }
          ],
          "scatter3d": [
           {
            "line": {
             "colorbar": {
              "outlinewidth": 0,
              "ticks": ""
             }
            },
            "marker": {
             "colorbar": {
              "outlinewidth": 0,
              "ticks": ""
             }
            },
            "type": "scatter3d"
           }
          ],
          "scattercarpet": [
           {
            "marker": {
             "colorbar": {
              "outlinewidth": 0,
              "ticks": ""
             }
            },
            "type": "scattercarpet"
           }
          ],
          "scattergeo": [
           {
            "marker": {
             "colorbar": {
              "outlinewidth": 0,
              "ticks": ""
             }
            },
            "type": "scattergeo"
           }
          ],
          "scattergl": [
           {
            "marker": {
             "colorbar": {
              "outlinewidth": 0,
              "ticks": ""
             }
            },
            "type": "scattergl"
           }
          ],
          "scattermap": [
           {
            "marker": {
             "colorbar": {
              "outlinewidth": 0,
              "ticks": ""
             }
            },
            "type": "scattermap"
           }
          ],
          "scattermapbox": [
           {
            "marker": {
             "colorbar": {
              "outlinewidth": 0,
              "ticks": ""
             }
            },
            "type": "scattermapbox"
           }
          ],
          "scatterpolar": [
           {
            "marker": {
             "colorbar": {
              "outlinewidth": 0,
              "ticks": ""
             }
            },
            "type": "scatterpolar"
           }
          ],
          "scatterpolargl": [
           {
            "marker": {
             "colorbar": {
              "outlinewidth": 0,
              "ticks": ""
             }
            },
            "type": "scatterpolargl"
           }
          ],
          "scatterternary": [
           {
            "marker": {
             "colorbar": {
              "outlinewidth": 0,
              "ticks": ""
             }
            },
            "type": "scatterternary"
           }
          ],
          "surface": [
           {
            "colorbar": {
             "outlinewidth": 0,
             "ticks": ""
            },
            "colorscale": [
             [
              0,
              "#0d0887"
             ],
             [
              0.1111111111111111,
              "#46039f"
             ],
             [
              0.2222222222222222,
              "#7201a8"
             ],
             [
              0.3333333333333333,
              "#9c179e"
             ],
             [
              0.4444444444444444,
              "#bd3786"
             ],
             [
              0.5555555555555556,
              "#d8576b"
             ],
             [
              0.6666666666666666,
              "#ed7953"
             ],
             [
              0.7777777777777778,
              "#fb9f3a"
             ],
             [
              0.8888888888888888,
              "#fdca26"
             ],
             [
              1,
              "#f0f921"
             ]
            ],
            "type": "surface"
           }
          ],
          "table": [
           {
            "cells": {
             "fill": {
              "color": "#EBF0F8"
             },
             "line": {
              "color": "white"
             }
            },
            "header": {
             "fill": {
              "color": "#C8D4E3"
             },
             "line": {
              "color": "white"
             }
            },
            "type": "table"
           }
          ]
         },
         "layout": {
          "annotationdefaults": {
           "arrowcolor": "#2a3f5f",
           "arrowhead": 0,
           "arrowwidth": 1
          },
          "autotypenumbers": "strict",
          "coloraxis": {
           "colorbar": {
            "outlinewidth": 0,
            "ticks": ""
           }
          },
          "colorscale": {
           "diverging": [
            [
             0,
             "#8e0152"
            ],
            [
             0.1,
             "#c51b7d"
            ],
            [
             0.2,
             "#de77ae"
            ],
            [
             0.3,
             "#f1b6da"
            ],
            [
             0.4,
             "#fde0ef"
            ],
            [
             0.5,
             "#f7f7f7"
            ],
            [
             0.6,
             "#e6f5d0"
            ],
            [
             0.7,
             "#b8e186"
            ],
            [
             0.8,
             "#7fbc41"
            ],
            [
             0.9,
             "#4d9221"
            ],
            [
             1,
             "#276419"
            ]
           ],
           "sequential": [
            [
             0,
             "#0d0887"
            ],
            [
             0.1111111111111111,
             "#46039f"
            ],
            [
             0.2222222222222222,
             "#7201a8"
            ],
            [
             0.3333333333333333,
             "#9c179e"
            ],
            [
             0.4444444444444444,
             "#bd3786"
            ],
            [
             0.5555555555555556,
             "#d8576b"
            ],
            [
             0.6666666666666666,
             "#ed7953"
            ],
            [
             0.7777777777777778,
             "#fb9f3a"
            ],
            [
             0.8888888888888888,
             "#fdca26"
            ],
            [
             1,
             "#f0f921"
            ]
           ],
           "sequentialminus": [
            [
             0,
             "#0d0887"
            ],
            [
             0.1111111111111111,
             "#46039f"
            ],
            [
             0.2222222222222222,
             "#7201a8"
            ],
            [
             0.3333333333333333,
             "#9c179e"
            ],
            [
             0.4444444444444444,
             "#bd3786"
            ],
            [
             0.5555555555555556,
             "#d8576b"
            ],
            [
             0.6666666666666666,
             "#ed7953"
            ],
            [
             0.7777777777777778,
             "#fb9f3a"
            ],
            [
             0.8888888888888888,
             "#fdca26"
            ],
            [
             1,
             "#f0f921"
            ]
           ]
          },
          "colorway": [
           "#636efa",
           "#EF553B",
           "#00cc96",
           "#ab63fa",
           "#FFA15A",
           "#19d3f3",
           "#FF6692",
           "#B6E880",
           "#FF97FF",
           "#FECB52"
          ],
          "font": {
           "color": "#2a3f5f"
          },
          "geo": {
           "bgcolor": "white",
           "lakecolor": "white",
           "landcolor": "#E5ECF6",
           "showlakes": true,
           "showland": true,
           "subunitcolor": "white"
          },
          "hoverlabel": {
           "align": "left"
          },
          "hovermode": "closest",
          "mapbox": {
           "style": "light"
          },
          "paper_bgcolor": "white",
          "plot_bgcolor": "#E5ECF6",
          "polar": {
           "angularaxis": {
            "gridcolor": "white",
            "linecolor": "white",
            "ticks": ""
           },
           "bgcolor": "#E5ECF6",
           "radialaxis": {
            "gridcolor": "white",
            "linecolor": "white",
            "ticks": ""
           }
          },
          "scene": {
           "xaxis": {
            "backgroundcolor": "#E5ECF6",
            "gridcolor": "white",
            "gridwidth": 2,
            "linecolor": "white",
            "showbackground": true,
            "ticks": "",
            "zerolinecolor": "white"
           },
           "yaxis": {
            "backgroundcolor": "#E5ECF6",
            "gridcolor": "white",
            "gridwidth": 2,
            "linecolor": "white",
            "showbackground": true,
            "ticks": "",
            "zerolinecolor": "white"
           },
           "zaxis": {
            "backgroundcolor": "#E5ECF6",
            "gridcolor": "white",
            "gridwidth": 2,
            "linecolor": "white",
            "showbackground": true,
            "ticks": "",
            "zerolinecolor": "white"
           }
          },
          "shapedefaults": {
           "line": {
            "color": "#2a3f5f"
           }
          },
          "ternary": {
           "aaxis": {
            "gridcolor": "white",
            "linecolor": "white",
            "ticks": ""
           },
           "baxis": {
            "gridcolor": "white",
            "linecolor": "white",
            "ticks": ""
           },
           "bgcolor": "#E5ECF6",
           "caxis": {
            "gridcolor": "white",
            "linecolor": "white",
            "ticks": ""
           }
          },
          "title": {
           "x": 0.05
          },
          "xaxis": {
           "automargin": true,
           "gridcolor": "white",
           "linecolor": "white",
           "ticks": "",
           "title": {
            "standoff": 15
           },
           "zerolinecolor": "white",
           "zerolinewidth": 2
          },
          "yaxis": {
           "automargin": true,
           "gridcolor": "white",
           "linecolor": "white",
           "ticks": "",
           "title": {
            "standoff": 15
           },
           "zerolinecolor": "white",
           "zerolinewidth": 2
          }
         }
        },
        "title": {
         "text": "Relative Score Distribution by Agent (baseline: 5% quantile)"
        },
        "violinmode": "overlay",
        "xaxis": {
         "anchor": "y",
         "categoryarray": [
          "FixedCPA",
          "StochasticCPA",
          "ValueScaledCPA",
          "BudgetPacer",
          "PIDBudgetPacer",
          "PIDCPA",
          "BC",
          "CQL",
          "IQL",
          "DT",
          "GAVE",
          "GAS"
         ],
         "categoryorder": "array",
         "domain": [
          0,
          1
         ],
         "title": {
          "text": "Agent"
         }
        },
        "yaxis": {
         "anchor": "x",
         "domain": [
          0,
          1
         ],
         "title": {
          "text": "Relative Score (%)"
         }
        }
       }
      }
     },
     "metadata": {},
     "output_type": "display_data"
    },
    {
     "data": {
      "application/vnd.plotly.v1+json": {
       "config": {
        "plotlyServerURL": "https://plot.ly"
       },
       "data": [
        {
         "error_y": {
          "array": {
           "bdata": "1LgAmLNVGkA=",
           "dtype": "f8"
          },
          "color": "rgba(0,0,0,0.4)",
          "thickness": 1.2,
          "width": 4
         },
         "hovertemplate": "Agent=%{x}<br>Relative Median Score=%{y}<br>text=%{text}<extra></extra>",
         "legendgroup": "FixedCPA",
         "marker": {
          "color": "#636efa",
          "pattern": {
           "shape": ""
          }
         },
         "name": "FixedCPA",
         "orientation": "v",
         "showlegend": true,
         "text": [
          "54.0%<br>(23.63)"
         ],
         "textposition": "auto",
         "type": "bar",
         "x": [
          "FixedCPA"
         ],
         "xaxis": "x",
         "y": {
          "bdata": "FH6vtNn9SkA=",
          "dtype": "f8"
         },
         "yaxis": "y"
        },
        {
         "error_y": {
          "array": {
           "bdata": "XPLX0fI6G0A=",
           "dtype": "f8"
          },
          "color": "rgba(0,0,0,0.4)",
          "thickness": 1.2,
          "width": 4
         },
         "hovertemplate": "Agent=%{x}<br>Relative Median Score=%{y}<br>text=%{text}<extra></extra>",
         "legendgroup": "StochasticCPA",
         "marker": {
          "color": "#EF553B",
          "pattern": {
           "shape": ""
          }
         },
         "name": "StochasticCPA",
         "orientation": "v",
         "showlegend": true,
         "text": [
          "53.2%<br>(23.54)"
         ],
         "textposition": "auto",
         "type": "bar",
         "x": [
          "StochasticCPA"
         ],
         "xaxis": "x",
         "y": {
          "bdata": "PfhUOpuaSkA=",
          "dtype": "f8"
         },
         "yaxis": "y"
        },
        {
         "error_y": {
          "array": {
           "bdata": "aGCFtnbxHEA=",
           "dtype": "f8"
          },
          "color": "rgba(0,0,0,0.4)",
          "thickness": 1.2,
          "width": 4
         },
         "hovertemplate": "Agent=%{x}<br>Relative Median Score=%{y}<br>text=%{text}<extra></extra>",
         "legendgroup": "ValueScaledCPA",
         "marker": {
          "color": "#00cc96",
          "pattern": {
           "shape": ""
          }
         },
         "name": "ValueScaledCPA",
         "orientation": "v",
         "showlegend": true,
         "text": [
          "55.0%<br>(23.75)"
         ],
         "textposition": "auto",
         "type": "bar",
         "x": [
          "ValueScaledCPA"
         ],
         "xaxis": "x",
         "y": {
          "bdata": "4v9WCVl+S0A=",
          "dtype": "f8"
         },
         "yaxis": "y"
        },
        {
         "error_y": {
          "array": {
           "bdata": "fFJfSbbwGUA=",
           "dtype": "f8"
          },
          "color": "rgba(0,0,0,0.4)",
          "thickness": 1.2,
          "width": 4
         },
         "hovertemplate": "Agent=%{x}<br>Relative Median Score=%{y}<br>text=%{text}<extra></extra>",
         "legendgroup": "BudgetPacer",
         "marker": {
          "color": "#ab63fa",
          "pattern": {
           "shape": ""
          }
         },
         "name": "BudgetPacer",
         "orientation": "v",
         "showlegend": true,
         "text": [
          "61.5%<br>(24.53)"
         ],
         "textposition": "auto",
         "type": "bar",
         "x": [
          "BudgetPacer"
         ],
         "xaxis": "x",
         "y": {
          "bdata": "+94FdK/BTkA=",
          "dtype": "f8"
         },
         "yaxis": "y"
        },
        {
         "error_y": {
          "array": {
           "bdata": "xJEzdcEuHEA=",
           "dtype": "f8"
          },
          "color": "rgba(0,0,0,0.4)",
          "thickness": 1.2,
          "width": 4
         },
         "hovertemplate": "Agent=%{x}<br>Relative Median Score=%{y}<br>text=%{text}<extra></extra>",
         "legendgroup": "PIDBudgetPacer",
         "marker": {
          "color": "#FFA15A",
          "pattern": {
           "shape": ""
          }
         },
         "name": "PIDBudgetPacer",
         "orientation": "v",
         "showlegend": true,
         "text": [
          "66.0%<br>(25.06)"
         ],
         "textposition": "auto",
         "type": "bar",
         "x": [
          "PIDBudgetPacer"
         ],
         "xaxis": "x",
         "y": {
          "bdata": "CWs7dpt9UEA=",
          "dtype": "f8"
         },
         "yaxis": "y"
        },
        {
         "error_y": {
          "array": {
           "bdata": "HN6PwowWGkA=",
           "dtype": "f8"
          },
          "color": "rgba(0,0,0,0.4)",
          "thickness": 1.2,
          "width": 4
         },
         "hovertemplate": "Agent=%{x}<br>Relative Median Score=%{y}<br>text=%{text}<extra></extra>",
         "legendgroup": "PIDCPA",
         "marker": {
          "color": "#19d3f3",
          "pattern": {
           "shape": ""
          }
         },
         "name": "PIDCPA",
         "orientation": "v",
         "showlegend": true,
         "text": [
          "53.4%<br>(23.56)"
         ],
         "textposition": "auto",
         "type": "bar",
         "x": [
          "PIDCPA"
         ],
         "xaxis": "x",
         "y": {
          "bdata": "GN0VgEOvSkA=",
          "dtype": "f8"
         },
         "yaxis": "y"
        },
        {
         "error_y": {
          "array": {
           "bdata": "QFO4waw+GUA=",
           "dtype": "f8"
          },
          "color": "rgba(0,0,0,0.4)",
          "thickness": 1.2,
          "width": 4
         },
         "hovertemplate": "Agent=%{x}<br>Relative Median Score=%{y}<br>text=%{text}<extra></extra>",
         "legendgroup": "BC",
         "marker": {
          "color": "#FF6692",
          "pattern": {
           "shape": ""
          }
         },
         "name": "BC",
         "orientation": "v",
         "showlegend": true,
         "text": [
          "65.7%<br>(25.04)"
         ],
         "textposition": "auto",
         "type": "bar",
         "x": [
          "BC"
         ],
         "xaxis": "x",
         "y": {
          "bdata": "8H7XUYVvUEA=",
          "dtype": "f8"
         },
         "yaxis": "y"
        },
        {
         "error_y": {
          "array": {
           "bdata": "ICw72mgJG0A=",
           "dtype": "f8"
          },
          "color": "rgba(0,0,0,0.4)",
          "thickness": 1.2,
          "width": 4
         },
         "hovertemplate": "Agent=%{x}<br>Relative Median Score=%{y}<br>text=%{text}<extra></extra>",
         "legendgroup": "CQL",
         "marker": {
          "color": "#B6E880",
          "pattern": {
           "shape": ""
          }
         },
         "name": "CQL",
         "orientation": "v",
         "showlegend": true,
         "text": [
          "99.9%<br>(29.13)"
         ],
         "textposition": "auto",
         "type": "bar",
         "x": [
          "CQL"
         ],
         "xaxis": "x",
         "y": {
          "bdata": "glOfKb76WEA=",
          "dtype": "f8"
         },
         "yaxis": "y"
        },
        {
         "error_y": {
          "array": {
           "bdata": "MBAMtAbHHUA=",
           "dtype": "f8"
          },
          "color": "rgba(0,0,0,0.4)",
          "thickness": 1.2,
          "width": 4
         },
         "hovertemplate": "Agent=%{x}<br>Relative Median Score=%{y}<br>text=%{text}<extra></extra>",
         "legendgroup": "IQL",
         "marker": {
          "color": "#FF97FF",
          "pattern": {
           "shape": ""
          }
         },
         "name": "IQL",
         "orientation": "v",
         "showlegend": true,
         "text": [
          "99.3%<br>(29.06)"
         ],
         "textposition": "auto",
         "type": "bar",
         "x": [
          "IQL"
         ],
         "xaxis": "x",
         "y": {
          "bdata": "Y+WjbYXUWEA=",
          "dtype": "f8"
         },
         "yaxis": "y"
        },
        {
         "error_y": {
          "array": {
           "bdata": "cJSjl8nxF0A=",
           "dtype": "f8"
          },
          "color": "rgba(0,0,0,0.4)",
          "thickness": 1.2,
          "width": 4
         },
         "hovertemplate": "Agent=%{x}<br>Relative Median Score=%{y}<br>text=%{text}<extra></extra>",
         "legendgroup": "DT",
         "marker": {
          "color": "#FECB52",
          "pattern": {
           "shape": ""
          }
         },
         "name": "DT",
         "orientation": "v",
         "showlegend": true,
         "text": [
          "90.3%<br>(27.97)"
         ],
         "textposition": "auto",
         "type": "bar",
         "x": [
          "DT"
         ],
         "xaxis": "x",
         "y": {
          "bdata": "F70fDsKQVkA=",
          "dtype": "f8"
         },
         "yaxis": "y"
        },
        {
         "error_y": {
          "array": {
           "bdata": "OJycvUSCF0A=",
           "dtype": "f8"
          },
          "color": "rgba(0,0,0,0.4)",
          "thickness": 1.2,
          "width": 4
         },
         "hovertemplate": "Agent=%{x}<br>Relative Median Score=%{y}<br>text=%{text}<extra></extra>",
         "legendgroup": "GAVE",
         "marker": {
          "color": "#636efa",
          "pattern": {
           "shape": ""
          }
         },
         "name": "GAVE",
         "orientation": "v",
         "showlegend": true,
         "text": [
          "100.0%<br>(29.14)"
         ],
         "textposition": "auto",
         "type": "bar",
         "x": [
          "GAVE"
         ],
         "xaxis": "x",
         "y": {
          "bdata": "AAAAAAAAWUA=",
          "dtype": "f8"
         },
         "yaxis": "y"
        },
        {
         "error_y": {
          "array": {
           "bdata": "zFTQy5b9F0A=",
           "dtype": "f8"
          },
          "color": "rgba(0,0,0,0.4)",
          "thickness": 1.2,
          "width": 4
         },
         "hovertemplate": "Agent=%{x}<br>Relative Median Score=%{y}<br>text=%{text}<extra></extra>",
         "legendgroup": "GAS",
         "marker": {
          "color": "#EF553B",
          "pattern": {
           "shape": ""
          }
         },
         "name": "GAS",
         "orientation": "v",
         "showlegend": true,
         "text": [
          "99.0%<br>(29.01)"
         ],
         "textposition": "auto",
         "type": "bar",
         "x": [
          "GAS"
         ],
         "xaxis": "x",
         "y": {
          "bdata": "d+viseG8WEA=",
          "dtype": "f8"
         },
         "yaxis": "y"
        }
       ],
       "layout": {
        "barmode": "relative",
        "font": {
         "size": 14
        },
        "legend": {
         "title": {
          "text": "Agent"
         },
         "tracegroupgap": 0
        },
        "showlegend": false,
        "template": {
         "data": {
          "bar": [
           {
            "error_x": {
             "color": "#2a3f5f"
            },
            "error_y": {
             "color": "#2a3f5f"
            },
            "marker": {
             "line": {
              "color": "#E5ECF6",
              "width": 0.5
             },
             "pattern": {
              "fillmode": "overlay",
              "size": 10,
              "solidity": 0.2
             }
            },
            "type": "bar"
           }
          ],
          "barpolar": [
           {
            "marker": {
             "line": {
              "color": "#E5ECF6",
              "width": 0.5
             },
             "pattern": {
              "fillmode": "overlay",
              "size": 10,
              "solidity": 0.2
             }
            },
            "type": "barpolar"
           }
          ],
          "carpet": [
           {
            "aaxis": {
             "endlinecolor": "#2a3f5f",
             "gridcolor": "white",
             "linecolor": "white",
             "minorgridcolor": "white",
             "startlinecolor": "#2a3f5f"
            },
            "baxis": {
             "endlinecolor": "#2a3f5f",
             "gridcolor": "white",
             "linecolor": "white",
             "minorgridcolor": "white",
             "startlinecolor": "#2a3f5f"
            },
            "type": "carpet"
           }
          ],
          "choropleth": [
           {
            "colorbar": {
             "outlinewidth": 0,
             "ticks": ""
            },
            "type": "choropleth"
           }
          ],
          "contour": [
           {
            "colorbar": {
             "outlinewidth": 0,
             "ticks": ""
            },
            "colorscale": [
             [
              0,
              "#0d0887"
             ],
             [
              0.1111111111111111,
              "#46039f"
             ],
             [
              0.2222222222222222,
              "#7201a8"
             ],
             [
              0.3333333333333333,
              "#9c179e"
             ],
             [
              0.4444444444444444,
              "#bd3786"
             ],
             [
              0.5555555555555556,
              "#d8576b"
             ],
             [
              0.6666666666666666,
              "#ed7953"
             ],
             [
              0.7777777777777778,
              "#fb9f3a"
             ],
             [
              0.8888888888888888,
              "#fdca26"
             ],
             [
              1,
              "#f0f921"
             ]
            ],
            "type": "contour"
           }
          ],
          "contourcarpet": [
           {
            "colorbar": {
             "outlinewidth": 0,
             "ticks": ""
            },
            "type": "contourcarpet"
           }
          ],
          "heatmap": [
           {
            "colorbar": {
             "outlinewidth": 0,
             "ticks": ""
            },
            "colorscale": [
             [
              0,
              "#0d0887"
             ],
             [
              0.1111111111111111,
              "#46039f"
             ],
             [
              0.2222222222222222,
              "#7201a8"
             ],
             [
              0.3333333333333333,
              "#9c179e"
             ],
             [
              0.4444444444444444,
              "#bd3786"
             ],
             [
              0.5555555555555556,
              "#d8576b"
             ],
             [
              0.6666666666666666,
              "#ed7953"
             ],
             [
              0.7777777777777778,
              "#fb9f3a"
             ],
             [
              0.8888888888888888,
              "#fdca26"
             ],
             [
              1,
              "#f0f921"
             ]
            ],
            "type": "heatmap"
           }
          ],
          "histogram": [
           {
            "marker": {
             "pattern": {
              "fillmode": "overlay",
              "size": 10,
              "solidity": 0.2
             }
            },
            "type": "histogram"
           }
          ],
          "histogram2d": [
           {
            "colorbar": {
             "outlinewidth": 0,
             "ticks": ""
            },
            "colorscale": [
             [
              0,
              "#0d0887"
             ],
             [
              0.1111111111111111,
              "#46039f"
             ],
             [
              0.2222222222222222,
              "#7201a8"
             ],
             [
              0.3333333333333333,
              "#9c179e"
             ],
             [
              0.4444444444444444,
              "#bd3786"
             ],
             [
              0.5555555555555556,
              "#d8576b"
             ],
             [
              0.6666666666666666,
              "#ed7953"
             ],
             [
              0.7777777777777778,
              "#fb9f3a"
             ],
             [
              0.8888888888888888,
              "#fdca26"
             ],
             [
              1,
              "#f0f921"
             ]
            ],
            "type": "histogram2d"
           }
          ],
          "histogram2dcontour": [
           {
            "colorbar": {
             "outlinewidth": 0,
             "ticks": ""
            },
            "colorscale": [
             [
              0,
              "#0d0887"
             ],
             [
              0.1111111111111111,
              "#46039f"
             ],
             [
              0.2222222222222222,
              "#7201a8"
             ],
             [
              0.3333333333333333,
              "#9c179e"
             ],
             [
              0.4444444444444444,
              "#bd3786"
             ],
             [
              0.5555555555555556,
              "#d8576b"
             ],
             [
              0.6666666666666666,
              "#ed7953"
             ],
             [
              0.7777777777777778,
              "#fb9f3a"
             ],
             [
              0.8888888888888888,
              "#fdca26"
             ],
             [
              1,
              "#f0f921"
             ]
            ],
            "type": "histogram2dcontour"
           }
          ],
          "mesh3d": [
           {
            "colorbar": {
             "outlinewidth": 0,
             "ticks": ""
            },
            "type": "mesh3d"
           }
          ],
          "parcoords": [
           {
            "line": {
             "colorbar": {
              "outlinewidth": 0,
              "ticks": ""
             }
            },
            "type": "parcoords"
           }
          ],
          "pie": [
           {
            "automargin": true,
            "type": "pie"
           }
          ],
          "scatter": [
           {
            "fillpattern": {
             "fillmode": "overlay",
             "size": 10,
             "solidity": 0.2
            },
            "type": "scatter"
           }
          ],
          "scatter3d": [
           {
            "line": {
             "colorbar": {
              "outlinewidth": 0,
              "ticks": ""
             }
            },
            "marker": {
             "colorbar": {
              "outlinewidth": 0,
              "ticks": ""
             }
            },
            "type": "scatter3d"
           }
          ],
          "scattercarpet": [
           {
            "marker": {
             "colorbar": {
              "outlinewidth": 0,
              "ticks": ""
             }
            },
            "type": "scattercarpet"
           }
          ],
          "scattergeo": [
           {
            "marker": {
             "colorbar": {
              "outlinewidth": 0,
              "ticks": ""
             }
            },
            "type": "scattergeo"
           }
          ],
          "scattergl": [
           {
            "marker": {
             "colorbar": {
              "outlinewidth": 0,
              "ticks": ""
             }
            },
            "type": "scattergl"
           }
          ],
          "scattermap": [
           {
            "marker": {
             "colorbar": {
              "outlinewidth": 0,
              "ticks": ""
             }
            },
            "type": "scattermap"
           }
          ],
          "scattermapbox": [
           {
            "marker": {
             "colorbar": {
              "outlinewidth": 0,
              "ticks": ""
             }
            },
            "type": "scattermapbox"
           }
          ],
          "scatterpolar": [
           {
            "marker": {
             "colorbar": {
              "outlinewidth": 0,
              "ticks": ""
             }
            },
            "type": "scatterpolar"
           }
          ],
          "scatterpolargl": [
           {
            "marker": {
             "colorbar": {
              "outlinewidth": 0,
              "ticks": ""
             }
            },
            "type": "scatterpolargl"
           }
          ],
          "scatterternary": [
           {
            "marker": {
             "colorbar": {
              "outlinewidth": 0,
              "ticks": ""
             }
            },
            "type": "scatterternary"
           }
          ],
          "surface": [
           {
            "colorbar": {
             "outlinewidth": 0,
             "ticks": ""
            },
            "colorscale": [
             [
              0,
              "#0d0887"
             ],
             [
              0.1111111111111111,
              "#46039f"
             ],
             [
              0.2222222222222222,
              "#7201a8"
             ],
             [
              0.3333333333333333,
              "#9c179e"
             ],
             [
              0.4444444444444444,
              "#bd3786"
             ],
             [
              0.5555555555555556,
              "#d8576b"
             ],
             [
              0.6666666666666666,
              "#ed7953"
             ],
             [
              0.7777777777777778,
              "#fb9f3a"
             ],
             [
              0.8888888888888888,
              "#fdca26"
             ],
             [
              1,
              "#f0f921"
             ]
            ],
            "type": "surface"
           }
          ],
          "table": [
           {
            "cells": {
             "fill": {
              "color": "#EBF0F8"
             },
             "line": {
              "color": "white"
             }
            },
            "header": {
             "fill": {
              "color": "#C8D4E3"
             },
             "line": {
              "color": "white"
             }
            },
            "type": "table"
           }
          ]
         },
         "layout": {
          "annotationdefaults": {
           "arrowcolor": "#2a3f5f",
           "arrowhead": 0,
           "arrowwidth": 1
          },
          "autotypenumbers": "strict",
          "coloraxis": {
           "colorbar": {
            "outlinewidth": 0,
            "ticks": ""
           }
          },
          "colorscale": {
           "diverging": [
            [
             0,
             "#8e0152"
            ],
            [
             0.1,
             "#c51b7d"
            ],
            [
             0.2,
             "#de77ae"
            ],
            [
             0.3,
             "#f1b6da"
            ],
            [
             0.4,
             "#fde0ef"
            ],
            [
             0.5,
             "#f7f7f7"
            ],
            [
             0.6,
             "#e6f5d0"
            ],
            [
             0.7,
             "#b8e186"
            ],
            [
             0.8,
             "#7fbc41"
            ],
            [
             0.9,
             "#4d9221"
            ],
            [
             1,
             "#276419"
            ]
           ],
           "sequential": [
            [
             0,
             "#0d0887"
            ],
            [
             0.1111111111111111,
             "#46039f"
            ],
            [
             0.2222222222222222,
             "#7201a8"
            ],
            [
             0.3333333333333333,
             "#9c179e"
            ],
            [
             0.4444444444444444,
             "#bd3786"
            ],
            [
             0.5555555555555556,
             "#d8576b"
            ],
            [
             0.6666666666666666,
             "#ed7953"
            ],
            [
             0.7777777777777778,
             "#fb9f3a"
            ],
            [
             0.8888888888888888,
             "#fdca26"
            ],
            [
             1,
             "#f0f921"
            ]
           ],
           "sequentialminus": [
            [
             0,
             "#0d0887"
            ],
            [
             0.1111111111111111,
             "#46039f"
            ],
            [
             0.2222222222222222,
             "#7201a8"
            ],
            [
             0.3333333333333333,
             "#9c179e"
            ],
            [
             0.4444444444444444,
             "#bd3786"
            ],
            [
             0.5555555555555556,
             "#d8576b"
            ],
            [
             0.6666666666666666,
             "#ed7953"
            ],
            [
             0.7777777777777778,
             "#fb9f3a"
            ],
            [
             0.8888888888888888,
             "#fdca26"
            ],
            [
             1,
             "#f0f921"
            ]
           ]
          },
          "colorway": [
           "#636efa",
           "#EF553B",
           "#00cc96",
           "#ab63fa",
           "#FFA15A",
           "#19d3f3",
           "#FF6692",
           "#B6E880",
           "#FF97FF",
           "#FECB52"
          ],
          "font": {
           "color": "#2a3f5f"
          },
          "geo": {
           "bgcolor": "white",
           "lakecolor": "white",
           "landcolor": "#E5ECF6",
           "showlakes": true,
           "showland": true,
           "subunitcolor": "white"
          },
          "hoverlabel": {
           "align": "left"
          },
          "hovermode": "closest",
          "mapbox": {
           "style": "light"
          },
          "paper_bgcolor": "white",
          "plot_bgcolor": "#E5ECF6",
          "polar": {
           "angularaxis": {
            "gridcolor": "white",
            "linecolor": "white",
            "ticks": ""
           },
           "bgcolor": "#E5ECF6",
           "radialaxis": {
            "gridcolor": "white",
            "linecolor": "white",
            "ticks": ""
           }
          },
          "scene": {
           "xaxis": {
            "backgroundcolor": "#E5ECF6",
            "gridcolor": "white",
            "gridwidth": 2,
            "linecolor": "white",
            "showbackground": true,
            "ticks": "",
            "zerolinecolor": "white"
           },
           "yaxis": {
            "backgroundcolor": "#E5ECF6",
            "gridcolor": "white",
            "gridwidth": 2,
            "linecolor": "white",
            "showbackground": true,
            "ticks": "",
            "zerolinecolor": "white"
           },
           "zaxis": {
            "backgroundcolor": "#E5ECF6",
            "gridcolor": "white",
            "gridwidth": 2,
            "linecolor": "white",
            "showbackground": true,
            "ticks": "",
            "zerolinecolor": "white"
           }
          },
          "shapedefaults": {
           "line": {
            "color": "#2a3f5f"
           }
          },
          "ternary": {
           "aaxis": {
            "gridcolor": "white",
            "linecolor": "white",
            "ticks": ""
           },
           "baxis": {
            "gridcolor": "white",
            "linecolor": "white",
            "ticks": ""
           },
           "bgcolor": "#E5ECF6",
           "caxis": {
            "gridcolor": "white",
            "linecolor": "white",
            "ticks": ""
           }
          },
          "title": {
           "x": 0.05
          },
          "xaxis": {
           "automargin": true,
           "gridcolor": "white",
           "linecolor": "white",
           "ticks": "",
           "title": {
            "standoff": 15
           },
           "zerolinecolor": "white",
           "zerolinewidth": 2
          },
          "yaxis": {
           "automargin": true,
           "gridcolor": "white",
           "linecolor": "white",
           "ticks": "",
           "title": {
            "standoff": 15
           },
           "zerolinecolor": "white",
           "zerolinewidth": 2
          }
         }
        },
        "title": {
         "text": "Relative Median Score by Agent (baseline: 5% quantile)"
        },
        "xaxis": {
         "anchor": "y",
         "categoryarray": [
          "FixedCPA",
          "StochasticCPA",
          "ValueScaledCPA",
          "BudgetPacer",
          "PIDBudgetPacer",
          "PIDCPA",
          "BC",
          "CQL",
          "IQL",
          "DT",
          "GAVE",
          "GAS"
         ],
         "categoryorder": "array",
         "domain": [
          0,
          1
         ],
         "title": {
          "text": "Agent"
         }
        },
        "yaxis": {
         "anchor": "x",
         "domain": [
          0,
          1
         ],
         "title": {
          "text": "Relative Median Score"
         }
        }
       }
      }
     },
     "metadata": {},
     "output_type": "display_data"
    }
   ],
   "source": [
    "fig = plot_score_distribution_by_agent(\n",
    "    df_best_per_rotation,\n",
    "    agent_col=\"agent_name\",\n",
    "    score_col=\"mean_score\",\n",
    "    relative=True,\n",
    "    quantile=0.05,\n",
    ")\n",
    "fig.show()\n",
    "\n",
    "fig = plot_score_by_agent(\n",
    "    df_best_per_rotation, \n",
    "    agent_col=\"agent_name\",\n",
    "    score_col=\"mean_score\",\n",
    "    statistic=\"median\",\n",
    "    relative=True, \n",
    "    quantile=0.05,\n",
    ")\n",
    "fig.show()"
   ]
  },
  {
   "cell_type": "code",
   "execution_count": 94,
   "id": "0ae66b26",
   "metadata": {},
   "outputs": [
    {
     "name": "stderr",
     "output_type": "stream",
     "text": [
      "100%|██████████| 12/12 [00:36<00:00,  3.04s/it]\n"
     ]
    },
    {
     "data": {
      "application/vnd.plotly.v1+json": {
       "config": {
        "plotlyServerURL": "https://plot.ly"
       },
       "data": [
        {
         "hovertemplate": "<b>BC</b><br>Mean<br>Point: 0.980<br>CI: [0.904, 1.060]<extra></extra>",
         "line": {
          "color": "#636EFA",
          "width": 10
         },
         "mode": "lines",
         "name": "BC_Mean",
         "opacity": 0.8,
         "showlegend": false,
         "type": "scatter",
         "x": [
          0.9041114116565456,
          1.060017523630314
         ],
         "xaxis": "x",
         "y": [
          5.5,
          5.5
         ],
         "yaxis": "y"
        },
        {
         "hoverinfo": "skip",
         "marker": {
          "color": "black",
          "line": {
           "width": 2
          },
          "size": 8,
          "symbol": "line-ns"
         },
         "mode": "markers",
         "name": "BC_Mean_point",
         "showlegend": false,
         "type": "scatter",
         "x": [
          0.9804564069993646
         ],
         "xaxis": "x",
         "y": [
          5.5
         ],
         "yaxis": "y"
        },
        {
         "hovertemplate": "<b>BudgetPacer</b><br>Mean<br>Point: 0.959<br>CI: [0.889, 1.032]<extra></extra>",
         "line": {
          "color": "#EF553B",
          "width": 10
         },
         "mode": "lines",
         "name": "BudgetPacer_Mean",
         "opacity": 0.8,
         "showlegend": false,
         "type": "scatter",
         "x": [
          0.8886570737225323,
          1.0321608611619852
         ],
         "xaxis": "x",
         "y": [
          5,
          5
         ],
         "yaxis": "y"
        },
        {
         "hoverinfo": "skip",
         "marker": {
          "color": "black",
          "line": {
           "width": 2
          },
          "size": 8,
          "symbol": "line-ns"
         },
         "mode": "markers",
         "name": "BudgetPacer_Mean_point",
         "showlegend": false,
         "type": "scatter",
         "x": [
          0.9593687863414381
         ],
         "xaxis": "x",
         "y": [
          5
         ],
         "yaxis": "y"
        },
        {
         "hovertemplate": "<b>CQL</b><br>Mean<br>Point: 1.115<br>CI: [1.033, 1.198]<extra></extra>",
         "line": {
          "color": "#00CC96",
          "width": 10
         },
         "mode": "lines",
         "name": "CQL_Mean",
         "opacity": 0.8,
         "showlegend": false,
         "type": "scatter",
         "x": [
          1.0334840378796515,
          1.198029148243136
         ],
         "xaxis": "x",
         "y": [
          4.5,
          4.5
         ],
         "yaxis": "y"
        },
        {
         "hoverinfo": "skip",
         "marker": {
          "color": "black",
          "line": {
           "width": 2
          },
          "size": 8,
          "symbol": "line-ns"
         },
         "mode": "markers",
         "name": "CQL_Mean_point",
         "showlegend": false,
         "type": "scatter",
         "x": [
          1.1151419374648008
         ],
         "xaxis": "x",
         "y": [
          4.5
         ],
         "yaxis": "y"
        },
        {
         "hovertemplate": "<b>DT</b><br>Mean<br>Point: 1.066<br>CI: [0.984, 1.148]<extra></extra>",
         "line": {
          "color": "#AB63FA",
          "width": 10
         },
         "mode": "lines",
         "name": "DT_Mean",
         "opacity": 0.8,
         "showlegend": false,
         "type": "scatter",
         "x": [
          0.9838054702591306,
          1.1476002989240845
         ],
         "xaxis": "x",
         "y": [
          4,
          4
         ],
         "yaxis": "y"
        },
        {
         "hoverinfo": "skip",
         "marker": {
          "color": "black",
          "line": {
           "width": 2
          },
          "size": 8,
          "symbol": "line-ns"
         },
         "mode": "markers",
         "name": "DT_Mean_point",
         "showlegend": false,
         "type": "scatter",
         "x": [
          1.0663837621679912
         ],
         "xaxis": "x",
         "y": [
          4
         ],
         "yaxis": "y"
        },
        {
         "hovertemplate": "<b>FixedCPA</b><br>Mean<br>Point: 0.920<br>CI: [0.845, 0.998]<extra></extra>",
         "line": {
          "color": "#FFA15A",
          "width": 10
         },
         "mode": "lines",
         "name": "FixedCPA_Mean",
         "opacity": 0.8,
         "showlegend": false,
         "type": "scatter",
         "x": [
          0.8446125261456192,
          0.9977525531425738
         ],
         "xaxis": "x",
         "y": [
          3.5,
          3.5
         ],
         "yaxis": "y"
        },
        {
         "hoverinfo": "skip",
         "marker": {
          "color": "black",
          "line": {
           "width": 2
          },
          "size": 8,
          "symbol": "line-ns"
         },
         "mode": "markers",
         "name": "FixedCPA_Mean_point",
         "showlegend": false,
         "type": "scatter",
         "x": [
          0.9200249474875735
         ],
         "xaxis": "x",
         "y": [
          3.5
         ],
         "yaxis": "y"
        },
        {
         "hovertemplate": "<b>GAS</b><br>Mean<br>Point: 1.063<br>CI: [0.989, 1.139]<extra></extra>",
         "line": {
          "color": "#19D3F3",
          "width": 10
         },
         "mode": "lines",
         "name": "GAS_Mean",
         "opacity": 0.8,
         "showlegend": false,
         "type": "scatter",
         "x": [
          0.9886050491993756,
          1.1386144812716035
         ],
         "xaxis": "x",
         "y": [
          3,
          3
         ],
         "yaxis": "y"
        },
        {
         "hoverinfo": "skip",
         "marker": {
          "color": "black",
          "line": {
           "width": 2
          },
          "size": 8,
          "symbol": "line-ns"
         },
         "mode": "markers",
         "name": "GAS_Mean_point",
         "showlegend": false,
         "type": "scatter",
         "x": [
          1.0631725519631299
         ],
         "xaxis": "x",
         "y": [
          3
         ],
         "yaxis": "y"
        },
        {
         "hovertemplate": "<b>GAVE</b><br>Mean<br>Point: 1.076<br>CI: [1.002, 1.146]<extra></extra>",
         "line": {
          "color": "#FF6692",
          "width": 10
         },
         "mode": "lines",
         "name": "GAVE_Mean",
         "opacity": 0.8,
         "showlegend": false,
         "type": "scatter",
         "x": [
          1.0024945443356992,
          1.1463238870334427
         ],
         "xaxis": "x",
         "y": [
          2.5,
          2.5
         ],
         "yaxis": "y"
        },
        {
         "hoverinfo": "skip",
         "marker": {
          "color": "black",
          "line": {
           "width": 2
          },
          "size": 8,
          "symbol": "line-ns"
         },
         "mode": "markers",
         "name": "GAVE_Mean_point",
         "showlegend": false,
         "type": "scatter",
         "x": [
          1.0757717047712323
         ],
         "xaxis": "x",
         "y": [
          2.5
         ],
         "yaxis": "y"
        },
        {
         "hovertemplate": "<b>IQL</b><br>Mean<br>Point: 1.112<br>CI: [1.013, 1.212]<extra></extra>",
         "line": {
          "color": "#B6E880",
          "width": 10
         },
         "mode": "lines",
         "name": "IQL_Mean",
         "opacity": 0.8,
         "showlegend": false,
         "type": "scatter",
         "x": [
          1.0129229712509351,
          1.2116044234537735
         ],
         "xaxis": "x",
         "y": [
          2,
          2
         ],
         "yaxis": "y"
        },
        {
         "hoverinfo": "skip",
         "marker": {
          "color": "black",
          "line": {
           "width": 2
          },
          "size": 8,
          "symbol": "line-ns"
         },
         "mode": "markers",
         "name": "IQL_Mean_point",
         "showlegend": false,
         "type": "scatter",
         "x": [
          1.112096895116024
         ],
         "xaxis": "x",
         "y": [
          2
         ],
         "yaxis": "y"
        },
        {
         "hovertemplate": "<b>PIDBudgetPacer</b><br>Mean<br>Point: 0.954<br>CI: [0.874, 1.034]<extra></extra>",
         "line": {
          "color": "#FF97FF",
          "width": 10
         },
         "mode": "lines",
         "name": "PIDBudgetPacer_Mean",
         "opacity": 0.8,
         "showlegend": false,
         "type": "scatter",
         "x": [
          0.8744556594427223,
          1.0337672028640514
         ],
         "xaxis": "x",
         "y": [
          1.5,
          1.5
         ],
         "yaxis": "y"
        },
        {
         "hoverinfo": "skip",
         "marker": {
          "color": "black",
          "line": {
           "width": 2
          },
          "size": 8,
          "symbol": "line-ns"
         },
         "mode": "markers",
         "name": "PIDBudgetPacer_Mean_point",
         "showlegend": false,
         "type": "scatter",
         "x": [
          0.9536006242325032
         ],
         "xaxis": "x",
         "y": [
          1.5
         ],
         "yaxis": "y"
        },
        {
         "hovertemplate": "<b>PIDCPA</b><br>Mean<br>Point: 0.925<br>CI: [0.849, 1.003]<extra></extra>",
         "line": {
          "color": "#FECB52",
          "width": 10
         },
         "mode": "lines",
         "name": "PIDCPA_Mean",
         "opacity": 0.8,
         "showlegend": false,
         "type": "scatter",
         "x": [
          0.8491103977845477,
          1.0033874945031804
         ],
         "xaxis": "x",
         "y": [
          1,
          1
         ],
         "yaxis": "y"
        },
        {
         "hoverinfo": "skip",
         "marker": {
          "color": "black",
          "line": {
           "width": 2
          },
          "size": 8,
          "symbol": "line-ns"
         },
         "mode": "markers",
         "name": "PIDCPA_Mean_point",
         "showlegend": false,
         "type": "scatter",
         "x": [
          0.925198244256931
         ],
         "xaxis": "x",
         "y": [
          1
         ],
         "yaxis": "y"
        },
        {
         "hovertemplate": "<b>StochasticCPA</b><br>Mean<br>Point: 0.921<br>CI: [0.848, 0.999]<extra></extra>",
         "line": {
          "color": "#636EFA",
          "width": 10
         },
         "mode": "lines",
         "name": "StochasticCPA_Mean",
         "opacity": 0.8,
         "showlegend": false,
         "type": "scatter",
         "x": [
          0.8475331462650844,
          0.9991194452739405
         ],
         "xaxis": "x",
         "y": [
          0.5,
          0.5
         ],
         "yaxis": "y"
        },
        {
         "hoverinfo": "skip",
         "marker": {
          "color": "black",
          "line": {
           "width": 2
          },
          "size": 8,
          "symbol": "line-ns"
         },
         "mode": "markers",
         "name": "StochasticCPA_Mean_point",
         "showlegend": false,
         "type": "scatter",
         "x": [
          0.9214432292601566
         ],
         "xaxis": "x",
         "y": [
          0.5
         ],
         "yaxis": "y"
        },
        {
         "hovertemplate": "<b>ValueScaledCPA</b><br>Mean<br>Point: 0.907<br>CI: [0.828, 0.990]<extra></extra>",
         "line": {
          "color": "#EF553B",
          "width": 10
         },
         "mode": "lines",
         "name": "ValueScaledCPA_Mean",
         "opacity": 0.8,
         "showlegend": false,
         "type": "scatter",
         "x": [
          0.8279878936508739,
          0.9897997159661774
         ],
         "xaxis": "x",
         "y": [
          0,
          0
         ],
         "yaxis": "y"
        },
        {
         "hoverinfo": "skip",
         "marker": {
          "color": "black",
          "line": {
           "width": 2
          },
          "size": 8,
          "symbol": "line-ns"
         },
         "mode": "markers",
         "name": "ValueScaledCPA_Mean_point",
         "showlegend": false,
         "type": "scatter",
         "x": [
          0.9073409099388496
         ],
         "xaxis": "x",
         "y": [
          0
         ],
         "yaxis": "y"
        },
        {
         "hovertemplate": "<b>BC</b><br>Median<br>Point: 0.989<br>CI: [0.892, 1.077]<extra></extra>",
         "line": {
          "color": "#636EFA",
          "width": 10
         },
         "mode": "lines",
         "name": "BC_Median",
         "opacity": 0.8,
         "showlegend": false,
         "type": "scatter",
         "x": [
          0.8923215886261093,
          1.0773280056085432
         ],
         "xaxis": "x2",
         "y": [
          5.5,
          5.5
         ],
         "yaxis": "y2"
        },
        {
         "hoverinfo": "skip",
         "marker": {
          "color": "black",
          "line": {
           "width": 2
          },
          "size": 8,
          "symbol": "line-ns"
         },
         "mode": "markers",
         "name": "BC_Median_point",
         "showlegend": false,
         "type": "scatter",
         "x": [
          0.988782235389422
         ],
         "xaxis": "x2",
         "y": [
          5.5
         ],
         "yaxis": "y2"
        },
        {
         "hovertemplate": "<b>BudgetPacer</b><br>Median<br>Point: 0.951<br>CI: [0.874, 1.025]<extra></extra>",
         "line": {
          "color": "#EF553B",
          "width": 10
         },
         "mode": "lines",
         "name": "BudgetPacer_Median",
         "opacity": 0.8,
         "showlegend": false,
         "type": "scatter",
         "x": [
          0.8743238113556966,
          1.0250084136007462
         ],
         "xaxis": "x2",
         "y": [
          5,
          5
         ],
         "yaxis": "y2"
        },
        {
         "hoverinfo": "skip",
         "marker": {
          "color": "black",
          "line": {
           "width": 2
          },
          "size": 8,
          "symbol": "line-ns"
         },
         "mode": "markers",
         "name": "BudgetPacer_Median_point",
         "showlegend": false,
         "type": "scatter",
         "x": [
          0.9507408043625829
         ],
         "xaxis": "x2",
         "y": [
          5
         ],
         "yaxis": "y2"
        },
        {
         "hovertemplate": "<b>CQL</b><br>Median<br>Point: 1.121<br>CI: [1.046, 1.197]<extra></extra>",
         "line": {
          "color": "#00CC96",
          "width": 10
         },
         "mode": "lines",
         "name": "CQL_Median",
         "opacity": 0.8,
         "showlegend": false,
         "type": "scatter",
         "x": [
          1.0458339858341685,
          1.1970779973877406
         ],
         "xaxis": "x2",
         "y": [
          4.5,
          4.5
         ],
         "yaxis": "y2"
        },
        {
         "hoverinfo": "skip",
         "marker": {
          "color": "black",
          "line": {
           "width": 2
          },
          "size": 8,
          "symbol": "line-ns"
         },
         "mode": "markers",
         "name": "CQL_Median_point",
         "showlegend": false,
         "type": "scatter",
         "x": [
          1.1208783991602975
         ],
         "xaxis": "x2",
         "y": [
          4.5
         ],
         "yaxis": "y2"
        },
        {
         "hovertemplate": "<b>DT</b><br>Median<br>Point: 1.064<br>CI: [0.992, 1.141]<extra></extra>",
         "line": {
          "color": "#AB63FA",
          "width": 10
         },
         "mode": "lines",
         "name": "DT_Median",
         "opacity": 0.8,
         "showlegend": false,
         "type": "scatter",
         "x": [
          0.9919129011429202,
          1.1413668244716855
         ],
         "xaxis": "x2",
         "y": [
          4,
          4
         ],
         "yaxis": "y2"
        },
        {
         "hoverinfo": "skip",
         "marker": {
          "color": "black",
          "line": {
           "width": 2
          },
          "size": 8,
          "symbol": "line-ns"
         },
         "mode": "markers",
         "name": "DT_Median_point",
         "showlegend": false,
         "type": "scatter",
         "x": [
          1.0643185997917426
         ],
         "xaxis": "x2",
         "y": [
          4
         ],
         "yaxis": "y2"
        },
        {
         "hovertemplate": "<b>FixedCPA</b><br>Median<br>Point: 0.890<br>CI: [0.841, 0.976]<extra></extra>",
         "line": {
          "color": "#FFA15A",
          "width": 10
         },
         "mode": "lines",
         "name": "FixedCPA_Median",
         "opacity": 0.8,
         "showlegend": false,
         "type": "scatter",
         "x": [
          0.8409035662005838,
          0.9763051884459215
         ],
         "xaxis": "x2",
         "y": [
          3.5,
          3.5
         ],
         "yaxis": "y2"
        },
        {
         "hoverinfo": "skip",
         "marker": {
          "color": "black",
          "line": {
           "width": 2
          },
          "size": 8,
          "symbol": "line-ns"
         },
         "mode": "markers",
         "name": "FixedCPA_Median_point",
         "showlegend": false,
         "type": "scatter",
         "x": [
          0.8899545766336954
         ],
         "xaxis": "x2",
         "y": [
          3.5
         ],
         "yaxis": "y2"
        },
        {
         "hovertemplate": "<b>GAS</b><br>Median<br>Point: 1.062<br>CI: [1.007, 1.132]<extra></extra>",
         "line": {
          "color": "#19D3F3",
          "width": 10
         },
         "mode": "lines",
         "name": "GAS_Median",
         "opacity": 0.8,
         "showlegend": false,
         "type": "scatter",
         "x": [
          1.0074484225035467,
          1.1317829615018389
         ],
         "xaxis": "x2",
         "y": [
          3,
          3
         ],
         "yaxis": "y2"
        },
        {
         "hoverinfo": "skip",
         "marker": {
          "color": "black",
          "line": {
           "width": 2
          },
          "size": 8,
          "symbol": "line-ns"
         },
         "mode": "markers",
         "name": "GAS_Median_point",
         "showlegend": false,
         "type": "scatter",
         "x": [
          1.0619859931571338
         ],
         "xaxis": "x2",
         "y": [
          3
         ],
         "yaxis": "y2"
        },
        {
         "hovertemplate": "<b>GAVE</b><br>Median<br>Point: 1.086<br>CI: [1.004, 1.165]<extra></extra>",
         "line": {
          "color": "#FF6692",
          "width": 10
         },
         "mode": "lines",
         "name": "GAVE_Median",
         "opacity": 0.8,
         "showlegend": false,
         "type": "scatter",
         "x": [
          1.003671113145966,
          1.164620603280391
         ],
         "xaxis": "x2",
         "y": [
          2.5,
          2.5
         ],
         "yaxis": "y2"
        },
        {
         "hoverinfo": "skip",
         "marker": {
          "color": "black",
          "line": {
           "width": 2
          },
          "size": 8,
          "symbol": "line-ns"
         },
         "mode": "markers",
         "name": "GAVE_Median_point",
         "showlegend": false,
         "type": "scatter",
         "x": [
          1.0859917279695752
         ],
         "xaxis": "x2",
         "y": [
          2.5
         ],
         "yaxis": "y2"
        },
        {
         "hovertemplate": "<b>IQL</b><br>Median<br>Point: 1.096<br>CI: [0.990, 1.199]<extra></extra>",
         "line": {
          "color": "#B6E880",
          "width": 10
         },
         "mode": "lines",
         "name": "IQL_Median",
         "opacity": 0.8,
         "showlegend": false,
         "type": "scatter",
         "x": [
          0.9900722321927106,
          1.199204956097375
         ],
         "xaxis": "x2",
         "y": [
          2,
          2
         ],
         "yaxis": "y2"
        },
        {
         "hoverinfo": "skip",
         "marker": {
          "color": "black",
          "line": {
           "width": 2
          },
          "size": 8,
          "symbol": "line-ns"
         },
         "mode": "markers",
         "name": "IQL_Median_point",
         "showlegend": false,
         "type": "scatter",
         "x": [
          1.0956582587943733
         ],
         "xaxis": "x2",
         "y": [
          2
         ],
         "yaxis": "y2"
        },
        {
         "hovertemplate": "<b>PIDBudgetPacer</b><br>Median<br>Point: 0.918<br>CI: [0.854, 1.036]<extra></extra>",
         "line": {
          "color": "#FF97FF",
          "width": 10
         },
         "mode": "lines",
         "name": "PIDBudgetPacer_Median",
         "opacity": 0.8,
         "showlegend": false,
         "type": "scatter",
         "x": [
          0.8540712311751975,
          1.0356360890634737
         ],
         "xaxis": "x2",
         "y": [
          1.5,
          1.5
         ],
         "yaxis": "y2"
        },
        {
         "hoverinfo": "skip",
         "marker": {
          "color": "black",
          "line": {
           "width": 2
          },
          "size": 8,
          "symbol": "line-ns"
         },
         "mode": "markers",
         "name": "PIDBudgetPacer_Median_point",
         "showlegend": false,
         "type": "scatter",
         "x": [
          0.9178796947643884
         ],
         "xaxis": "x2",
         "y": [
          1.5
         ],
         "yaxis": "y2"
        },
        {
         "hovertemplate": "<b>PIDCPA</b><br>Median<br>Point: 0.896<br>CI: [0.842, 0.981]<extra></extra>",
         "line": {
          "color": "#FECB52",
          "width": 10
         },
         "mode": "lines",
         "name": "PIDCPA_Median",
         "opacity": 0.8,
         "showlegend": false,
         "type": "scatter",
         "x": [
          0.8417302038377463,
          0.9809990220508231
         ],
         "xaxis": "x2",
         "y": [
          1,
          1
         ],
         "yaxis": "y2"
        },
        {
         "hoverinfo": "skip",
         "marker": {
          "color": "black",
          "line": {
           "width": 2
          },
          "size": 8,
          "symbol": "line-ns"
         },
         "mode": "markers",
         "name": "PIDCPA_Median_point",
         "showlegend": false,
         "type": "scatter",
         "x": [
          0.8959827309741978
         ],
         "xaxis": "x2",
         "y": [
          1
         ],
         "yaxis": "y2"
        },
        {
         "hovertemplate": "<b>StochasticCPA</b><br>Median<br>Point: 0.898<br>CI: [0.839, 0.981]<extra></extra>",
         "line": {
          "color": "#636EFA",
          "width": 10
         },
         "mode": "lines",
         "name": "StochasticCPA_Median",
         "opacity": 0.8,
         "showlegend": false,
         "type": "scatter",
         "x": [
          0.8387735203175737,
          0.9814044920664239
         ],
         "xaxis": "x2",
         "y": [
          0.5,
          0.5
         ],
         "yaxis": "y2"
        },
        {
         "hoverinfo": "skip",
         "marker": {
          "color": "black",
          "line": {
           "width": 2
          },
          "size": 8,
          "symbol": "line-ns"
         },
         "mode": "markers",
         "name": "StochasticCPA_Median_point",
         "showlegend": false,
         "type": "scatter",
         "x": [
          0.8978129097093003
         ],
         "xaxis": "x2",
         "y": [
          0.5
         ],
         "yaxis": "y2"
        },
        {
         "hovertemplate": "<b>ValueScaledCPA</b><br>Median<br>Point: 0.883<br>CI: [0.791, 0.989]<extra></extra>",
         "line": {
          "color": "#EF553B",
          "width": 10
         },
         "mode": "lines",
         "name": "ValueScaledCPA_Median",
         "opacity": 0.8,
         "showlegend": false,
         "type": "scatter",
         "x": [
          0.7909739974368815,
          0.9890198008268614
         ],
         "xaxis": "x2",
         "y": [
          0,
          0
         ],
         "yaxis": "y2"
        },
        {
         "hoverinfo": "skip",
         "marker": {
          "color": "black",
          "line": {
           "width": 2
          },
          "size": 8,
          "symbol": "line-ns"
         },
         "mode": "markers",
         "name": "ValueScaledCPA_Median_point",
         "showlegend": false,
         "type": "scatter",
         "x": [
          0.8829466950012738
         ],
         "xaxis": "x2",
         "y": [
          0
         ],
         "yaxis": "y2"
        },
        {
         "hovertemplate": "<b>BC</b><br>IQM<br>Point: 0.968<br>CI: [0.896, 1.053]<extra></extra>",
         "line": {
          "color": "#636EFA",
          "width": 10
         },
         "mode": "lines",
         "name": "BC_IQM",
         "opacity": 0.8,
         "showlegend": false,
         "type": "scatter",
         "x": [
          0.8962143711400518,
          1.0525739083756398
         ],
         "xaxis": "x3",
         "y": [
          5.5,
          5.5
         ],
         "yaxis": "y3"
        },
        {
         "hoverinfo": "skip",
         "marker": {
          "color": "black",
          "line": {
           "width": 2
          },
          "size": 8,
          "symbol": "line-ns"
         },
         "mode": "markers",
         "name": "BC_IQM_point",
         "showlegend": false,
         "type": "scatter",
         "x": [
          0.968382282872188
         ],
         "xaxis": "x3",
         "y": [
          5.5
         ],
         "yaxis": "y3"
        },
        {
         "hovertemplate": "<b>BudgetPacer</b><br>IQM<br>Point: 0.940<br>CI: [0.877, 1.016]<extra></extra>",
         "line": {
          "color": "#EF553B",
          "width": 10
         },
         "mode": "lines",
         "name": "BudgetPacer_IQM",
         "opacity": 0.8,
         "showlegend": false,
         "type": "scatter",
         "x": [
          0.8766512419448209,
          1.015845821898581
         ],
         "xaxis": "x3",
         "y": [
          5,
          5
         ],
         "yaxis": "y3"
        },
        {
         "hoverinfo": "skip",
         "marker": {
          "color": "black",
          "line": {
           "width": 2
          },
          "size": 8,
          "symbol": "line-ns"
         },
         "mode": "markers",
         "name": "BudgetPacer_IQM_point",
         "showlegend": false,
         "type": "scatter",
         "x": [
          0.9399421714935067
         ],
         "xaxis": "x3",
         "y": [
          5
         ],
         "yaxis": "y3"
        },
        {
         "hovertemplate": "<b>CQL</b><br>IQM<br>Point: 1.113<br>CI: [1.042, 1.198]<extra></extra>",
         "line": {
          "color": "#00CC96",
          "width": 10
         },
         "mode": "lines",
         "name": "CQL_IQM",
         "opacity": 0.8,
         "showlegend": false,
         "type": "scatter",
         "x": [
          1.0417739525436145,
          1.1983929283634847
         ],
         "xaxis": "x3",
         "y": [
          4.5,
          4.5
         ],
         "yaxis": "y3"
        },
        {
         "hoverinfo": "skip",
         "marker": {
          "color": "black",
          "line": {
           "width": 2
          },
          "size": 8,
          "symbol": "line-ns"
         },
         "mode": "markers",
         "name": "CQL_IQM_point",
         "showlegend": false,
         "type": "scatter",
         "x": [
          1.1130507853761396
         ],
         "xaxis": "x3",
         "y": [
          4.5
         ],
         "yaxis": "y3"
        },
        {
         "hovertemplate": "<b>DT</b><br>IQM<br>Point: 1.065<br>CI: [0.991, 1.139]<extra></extra>",
         "line": {
          "color": "#AB63FA",
          "width": 10
         },
         "mode": "lines",
         "name": "DT_IQM",
         "opacity": 0.8,
         "showlegend": false,
         "type": "scatter",
         "x": [
          0.9911010704233834,
          1.1393227964405002
         ],
         "xaxis": "x3",
         "y": [
          4,
          4
         ],
         "yaxis": "y3"
        },
        {
         "hoverinfo": "skip",
         "marker": {
          "color": "black",
          "line": {
           "width": 2
          },
          "size": 8,
          "symbol": "line-ns"
         },
         "mode": "markers",
         "name": "DT_IQM_point",
         "showlegend": false,
         "type": "scatter",
         "x": [
          1.0650570331541704
         ],
         "xaxis": "x3",
         "y": [
          4
         ],
         "yaxis": "y3"
        },
        {
         "hovertemplate": "<b>FixedCPA</b><br>IQM<br>Point: 0.904<br>CI: [0.833, 0.988]<extra></extra>",
         "line": {
          "color": "#FFA15A",
          "width": 10
         },
         "mode": "lines",
         "name": "FixedCPA_IQM",
         "opacity": 0.8,
         "showlegend": false,
         "type": "scatter",
         "x": [
          0.8333324715314232,
          0.9884990585408081
         ],
         "xaxis": "x3",
         "y": [
          3.5,
          3.5
         ],
         "yaxis": "y3"
        },
        {
         "hoverinfo": "skip",
         "marker": {
          "color": "black",
          "line": {
           "width": 2
          },
          "size": 8,
          "symbol": "line-ns"
         },
         "mode": "markers",
         "name": "FixedCPA_IQM_point",
         "showlegend": false,
         "type": "scatter",
         "x": [
          0.9041010585281595
         ],
         "xaxis": "x3",
         "y": [
          3.5
         ],
         "yaxis": "y3"
        },
        {
         "hovertemplate": "<b>GAS</b><br>IQM<br>Point: 1.063<br>CI: [0.999, 1.130]<extra></extra>",
         "line": {
          "color": "#19D3F3",
          "width": 10
         },
         "mode": "lines",
         "name": "GAS_IQM",
         "opacity": 0.8,
         "showlegend": false,
         "type": "scatter",
         "x": [
          0.9994145334657816,
          1.1295538323364245
         ],
         "xaxis": "x3",
         "y": [
          3,
          3
         ],
         "yaxis": "y3"
        },
        {
         "hoverinfo": "skip",
         "marker": {
          "color": "black",
          "line": {
           "width": 2
          },
          "size": 8,
          "symbol": "line-ns"
         },
         "mode": "markers",
         "name": "GAS_IQM_point",
         "showlegend": false,
         "type": "scatter",
         "x": [
          1.0627333621276625
         ],
         "xaxis": "x3",
         "y": [
          3
         ],
         "yaxis": "y3"
        },
        {
         "hovertemplate": "<b>GAVE</b><br>IQM<br>Point: 1.089<br>CI: [1.011, 1.156]<extra></extra>",
         "line": {
          "color": "#FF6692",
          "width": 10
         },
         "mode": "lines",
         "name": "GAVE_IQM",
         "opacity": 0.8,
         "showlegend": false,
         "type": "scatter",
         "x": [
          1.0113535134899263,
          1.155761600168277
         ],
         "xaxis": "x3",
         "y": [
          2.5,
          2.5
         ],
         "yaxis": "y3"
        },
        {
         "hoverinfo": "skip",
         "marker": {
          "color": "black",
          "line": {
           "width": 2
          },
          "size": 8,
          "symbol": "line-ns"
         },
         "mode": "markers",
         "name": "GAVE_IQM_point",
         "showlegend": false,
         "type": "scatter",
         "x": [
          1.0886650412584238
         ],
         "xaxis": "x3",
         "y": [
          2.5
         ],
         "yaxis": "y3"
        },
        {
         "hovertemplate": "<b>IQL</b><br>IQM<br>Point: 1.097<br>CI: [1.012, 1.199]<extra></extra>",
         "line": {
          "color": "#B6E880",
          "width": 10
         },
         "mode": "lines",
         "name": "IQL_IQM",
         "opacity": 0.8,
         "showlegend": false,
         "type": "scatter",
         "x": [
          1.0116484290620005,
          1.1991564501279857
         ],
         "xaxis": "x3",
         "y": [
          2,
          2
         ],
         "yaxis": "y3"
        },
        {
         "hoverinfo": "skip",
         "marker": {
          "color": "black",
          "line": {
           "width": 2
          },
          "size": 8,
          "symbol": "line-ns"
         },
         "mode": "markers",
         "name": "IQL_IQM_point",
         "showlegend": false,
         "type": "scatter",
         "x": [
          1.0966452910244973
         ],
         "xaxis": "x3",
         "y": [
          2
         ],
         "yaxis": "y3"
        },
        {
         "hovertemplate": "<b>PIDBudgetPacer</b><br>IQM<br>Point: 0.945<br>CI: [0.865, 1.027]<extra></extra>",
         "line": {
          "color": "#FF97FF",
          "width": 10
         },
         "mode": "lines",
         "name": "PIDBudgetPacer_IQM",
         "opacity": 0.8,
         "showlegend": false,
         "type": "scatter",
         "x": [
          0.865469174045448,
          1.0271223986515967
         ],
         "xaxis": "x3",
         "y": [
          1.5,
          1.5
         ],
         "yaxis": "y3"
        },
        {
         "hoverinfo": "skip",
         "marker": {
          "color": "black",
          "line": {
           "width": 2
          },
          "size": 8,
          "symbol": "line-ns"
         },
         "mode": "markers",
         "name": "PIDBudgetPacer_IQM_point",
         "showlegend": false,
         "type": "scatter",
         "x": [
          0.9447777406892849
         ],
         "xaxis": "x3",
         "y": [
          1.5
         ],
         "yaxis": "y3"
        },
        {
         "hovertemplate": "<b>PIDCPA</b><br>IQM<br>Point: 0.908<br>CI: [0.837, 0.993]<extra></extra>",
         "line": {
          "color": "#FECB52",
          "width": 10
         },
         "mode": "lines",
         "name": "PIDCPA_IQM",
         "opacity": 0.8,
         "showlegend": false,
         "type": "scatter",
         "x": [
          0.8369252041963847,
          0.9934255681650629
         ],
         "xaxis": "x3",
         "y": [
          1,
          1
         ],
         "yaxis": "y3"
        },
        {
         "hoverinfo": "skip",
         "marker": {
          "color": "black",
          "line": {
           "width": 2
          },
          "size": 8,
          "symbol": "line-ns"
         },
         "mode": "markers",
         "name": "PIDCPA_IQM_point",
         "showlegend": false,
         "type": "scatter",
         "x": [
          0.9079969226061047
         ],
         "xaxis": "x3",
         "y": [
          1
         ],
         "yaxis": "y3"
        },
        {
         "hovertemplate": "<b>StochasticCPA</b><br>IQM<br>Point: 0.904<br>CI: [0.835, 0.990]<extra></extra>",
         "line": {
          "color": "#636EFA",
          "width": 10
         },
         "mode": "lines",
         "name": "StochasticCPA_IQM",
         "opacity": 0.8,
         "showlegend": false,
         "type": "scatter",
         "x": [
          0.8353995808561461,
          0.9900779024303293
         ],
         "xaxis": "x3",
         "y": [
          0.5,
          0.5
         ],
         "yaxis": "y3"
        },
        {
         "hoverinfo": "skip",
         "marker": {
          "color": "black",
          "line": {
           "width": 2
          },
          "size": 8,
          "symbol": "line-ns"
         },
         "mode": "markers",
         "name": "StochasticCPA_IQM_point",
         "showlegend": false,
         "type": "scatter",
         "x": [
          0.904177322334838
         ],
         "xaxis": "x3",
         "y": [
          0.5
         ],
         "yaxis": "y3"
        },
        {
         "hovertemplate": "<b>ValueScaledCPA</b><br>IQM<br>Point: 0.894<br>CI: [0.805, 0.986]<extra></extra>",
         "line": {
          "color": "#EF553B",
          "width": 10
         },
         "mode": "lines",
         "name": "ValueScaledCPA_IQM",
         "opacity": 0.8,
         "showlegend": false,
         "type": "scatter",
         "x": [
          0.8051084637357774,
          0.9862899144738603
         ],
         "xaxis": "x3",
         "y": [
          0,
          0
         ],
         "yaxis": "y3"
        },
        {
         "hoverinfo": "skip",
         "marker": {
          "color": "black",
          "line": {
           "width": 2
          },
          "size": 8,
          "symbol": "line-ns"
         },
         "mode": "markers",
         "name": "ValueScaledCPA_IQM_point",
         "showlegend": false,
         "type": "scatter",
         "x": [
          0.8935344559173006
         ],
         "xaxis": "x3",
         "y": [
          0
         ],
         "yaxis": "y3"
        },
        {
         "hovertemplate": "<b>BC</b><br>Optimality Gap<br>Point: 0.094<br>CI: [0.052, 0.141]<extra></extra>",
         "line": {
          "color": "#636EFA",
          "width": 10
         },
         "mode": "lines",
         "name": "BC_Optimality Gap",
         "opacity": 0.8,
         "showlegend": false,
         "type": "scatter",
         "x": [
          0.05180233514998837,
          0.1408730980457253
         ],
         "xaxis": "x4",
         "y": [
          5.5,
          5.5
         ],
         "yaxis": "y4"
        },
        {
         "hoverinfo": "skip",
         "marker": {
          "color": "black",
          "line": {
           "width": 2
          },
          "size": 8,
          "symbol": "line-ns"
         },
         "mode": "markers",
         "name": "BC_Optimality Gap_point",
         "showlegend": false,
         "type": "scatter",
         "x": [
          0.09384860324728195
         ],
         "xaxis": "x4",
         "y": [
          5.5
         ],
         "yaxis": "y4"
        },
        {
         "hovertemplate": "<b>BudgetPacer</b><br>Optimality Gap<br>Point: 0.099<br>CI: [0.061, 0.145]<extra></extra>",
         "line": {
          "color": "#EF553B",
          "width": 10
         },
         "mode": "lines",
         "name": "BudgetPacer_Optimality Gap",
         "opacity": 0.8,
         "showlegend": false,
         "type": "scatter",
         "x": [
          0.06060403052279839,
          0.14538316613587401
         ],
         "xaxis": "x4",
         "y": [
          5,
          5
         ],
         "yaxis": "y4"
        },
        {
         "hoverinfo": "skip",
         "marker": {
          "color": "black",
          "line": {
           "width": 2
          },
          "size": 8,
          "symbol": "line-ns"
         },
         "mode": "markers",
         "name": "BudgetPacer_Optimality Gap_point",
         "showlegend": false,
         "type": "scatter",
         "x": [
          0.09919068170178136
         ],
         "xaxis": "x4",
         "y": [
          5
         ],
         "yaxis": "y4"
        },
        {
         "hovertemplate": "<b>CQL</b><br>Optimality Gap<br>Point: 0.040<br>CI: [0.010, 0.081]<extra></extra>",
         "line": {
          "color": "#00CC96",
          "width": 10
         },
         "mode": "lines",
         "name": "CQL_Optimality Gap",
         "opacity": 0.8,
         "showlegend": false,
         "type": "scatter",
         "x": [
          0.010129713199177446,
          0.08057787463113456
         ],
         "xaxis": "x4",
         "y": [
          4.5,
          4.5
         ],
         "yaxis": "y4"
        },
        {
         "hoverinfo": "skip",
         "marker": {
          "color": "black",
          "line": {
           "width": 2
          },
          "size": 8,
          "symbol": "line-ns"
         },
         "mode": "markers",
         "name": "CQL_Optimality Gap_point",
         "showlegend": false,
         "type": "scatter",
         "x": [
          0.040219282995747174
         ],
         "xaxis": "x4",
         "y": [
          4.5
         ],
         "yaxis": "y4"
        },
        {
         "hovertemplate": "<b>DT</b><br>Optimality Gap<br>Point: 0.055<br>CI: [0.020, 0.101]<extra></extra>",
         "line": {
          "color": "#AB63FA",
          "width": 10
         },
         "mode": "lines",
         "name": "DT_Optimality Gap",
         "opacity": 0.8,
         "showlegend": false,
         "type": "scatter",
         "x": [
          0.020092057892400185,
          0.10059834037797616
         ],
         "xaxis": "x4",
         "y": [
          4,
          4
         ],
         "yaxis": "y4"
        },
        {
         "hoverinfo": "skip",
         "marker": {
          "color": "black",
          "line": {
           "width": 2
          },
          "size": 8,
          "symbol": "line-ns"
         },
         "mode": "markers",
         "name": "DT_Optimality Gap_point",
         "showlegend": false,
         "type": "scatter",
         "x": [
          0.05548934699302244
         ],
         "xaxis": "x4",
         "y": [
          4
         ],
         "yaxis": "y4"
        },
        {
         "hovertemplate": "<b>FixedCPA</b><br>Optimality Gap<br>Point: 0.130<br>CI: [0.083, 0.181]<extra></extra>",
         "line": {
          "color": "#FFA15A",
          "width": 10
         },
         "mode": "lines",
         "name": "FixedCPA_Optimality Gap",
         "opacity": 0.8,
         "showlegend": false,
         "type": "scatter",
         "x": [
          0.08315734312631984,
          0.18135925115712748
         ],
         "xaxis": "x4",
         "y": [
          3.5,
          3.5
         ],
         "yaxis": "y4"
        },
        {
         "hoverinfo": "skip",
         "marker": {
          "color": "black",
          "line": {
           "width": 2
          },
          "size": 8,
          "symbol": "line-ns"
         },
         "mode": "markers",
         "name": "FixedCPA_Optimality Gap_point",
         "showlegend": false,
         "type": "scatter",
         "x": [
          0.12983014338940946
         ],
         "xaxis": "x4",
         "y": [
          3.5
         ],
         "yaxis": "y4"
        },
        {
         "hovertemplate": "<b>GAS</b><br>Optimality Gap<br>Point: 0.046<br>CI: [0.013, 0.088]<extra></extra>",
         "line": {
          "color": "#19D3F3",
          "width": 10
         },
         "mode": "lines",
         "name": "GAS_Optimality Gap",
         "opacity": 0.8,
         "showlegend": false,
         "type": "scatter",
         "x": [
          0.013309768736183619,
          0.08778873526869461
         ],
         "xaxis": "x4",
         "y": [
          3,
          3
         ],
         "yaxis": "y4"
        },
        {
         "hoverinfo": "skip",
         "marker": {
          "color": "black",
          "line": {
           "width": 2
          },
          "size": 8,
          "symbol": "line-ns"
         },
         "mode": "markers",
         "name": "GAS_Optimality Gap_point",
         "showlegend": false,
         "type": "scatter",
         "x": [
          0.04636239071546633
         ],
         "xaxis": "x4",
         "y": [
          3
         ],
         "yaxis": "y4"
        },
        {
         "hovertemplate": "<b>GAVE</b><br>Optimality Gap<br>Point: 0.045<br>CI: [0.015, 0.085]<extra></extra>",
         "line": {
          "color": "#FF6692",
          "width": 10
         },
         "mode": "lines",
         "name": "GAVE_Optimality Gap",
         "opacity": 0.8,
         "showlegend": false,
         "type": "scatter",
         "x": [
          0.015218844924452496,
          0.0847547410524357
         ],
         "xaxis": "x4",
         "y": [
          2.5,
          2.5
         ],
         "yaxis": "y4"
        },
        {
         "hoverinfo": "skip",
         "marker": {
          "color": "black",
          "line": {
           "width": 2
          },
          "size": 8,
          "symbol": "line-ns"
         },
         "mode": "markers",
         "name": "GAVE_Optimality Gap_point",
         "showlegend": false,
         "type": "scatter",
         "x": [
          0.045345651791290464
         ],
         "xaxis": "x4",
         "y": [
          2.5
         ],
         "yaxis": "y4"
        },
        {
         "hovertemplate": "<b>IQL</b><br>Optimality Gap<br>Point: 0.049<br>CI: [0.015, 0.096]<extra></extra>",
         "line": {
          "color": "#B6E880",
          "width": 10
         },
         "mode": "lines",
         "name": "IQL_Optimality Gap",
         "opacity": 0.8,
         "showlegend": false,
         "type": "scatter",
         "x": [
          0.014629474419901074,
          0.09614456364266766
         ],
         "xaxis": "x4",
         "y": [
          2,
          2
         ],
         "yaxis": "y4"
        },
        {
         "hoverinfo": "skip",
         "marker": {
          "color": "black",
          "line": {
           "width": 2
          },
          "size": 8,
          "symbol": "line-ns"
         },
         "mode": "markers",
         "name": "IQL_Optimality Gap_point",
         "showlegend": false,
         "type": "scatter",
         "x": [
          0.04894225488441806
         ],
         "xaxis": "x4",
         "y": [
          2
         ],
         "yaxis": "y4"
        },
        {
         "hovertemplate": "<b>PIDBudgetPacer</b><br>Optimality Gap<br>Point: 0.110<br>CI: [0.064, 0.161]<extra></extra>",
         "line": {
          "color": "#FF97FF",
          "width": 10
         },
         "mode": "lines",
         "name": "PIDBudgetPacer_Optimality Gap",
         "opacity": 0.8,
         "showlegend": false,
         "type": "scatter",
         "x": [
          0.06379107950933652,
          0.1605350031151247
         ],
         "xaxis": "x4",
         "y": [
          1.5,
          1.5
         ],
         "yaxis": "y4"
        },
        {
         "hoverinfo": "skip",
         "marker": {
          "color": "black",
          "line": {
           "width": 2
          },
          "size": 8,
          "symbol": "line-ns"
         },
         "mode": "markers",
         "name": "PIDBudgetPacer_Optimality Gap_point",
         "showlegend": false,
         "type": "scatter",
         "x": [
          0.10950377269382772
         ],
         "xaxis": "x4",
         "y": [
          1.5
         ],
         "yaxis": "y4"
        },
        {
         "hovertemplate": "<b>PIDCPA</b><br>Optimality Gap<br>Point: 0.127<br>CI: [0.080, 0.178]<extra></extra>",
         "line": {
          "color": "#FECB52",
          "width": 10
         },
         "mode": "lines",
         "name": "PIDCPA_Optimality Gap",
         "opacity": 0.8,
         "showlegend": false,
         "type": "scatter",
         "x": [
          0.08028991810957628,
          0.17817053589327583
         ],
         "xaxis": "x4",
         "y": [
          1,
          1
         ],
         "yaxis": "y4"
        },
        {
         "hoverinfo": "skip",
         "marker": {
          "color": "black",
          "line": {
           "width": 2
          },
          "size": 8,
          "symbol": "line-ns"
         },
         "mode": "markers",
         "name": "PIDCPA_Optimality Gap_point",
         "showlegend": false,
         "type": "scatter",
         "x": [
          0.1265962016675959
         ],
         "xaxis": "x4",
         "y": [
          1
         ],
         "yaxis": "y4"
        },
        {
         "hovertemplate": "<b>StochasticCPA</b><br>Optimality Gap<br>Point: 0.128<br>CI: [0.081, 0.178]<extra></extra>",
         "line": {
          "color": "#636EFA",
          "width": 10
         },
         "mode": "lines",
         "name": "StochasticCPA_Optimality Gap",
         "opacity": 0.8,
         "showlegend": false,
         "type": "scatter",
         "x": [
          0.08112475243227837,
          0.17831185810778055
         ],
         "xaxis": "x4",
         "y": [
          0.5,
          0.5
         ],
         "yaxis": "y4"
        },
        {
         "hoverinfo": "skip",
         "marker": {
          "color": "black",
          "line": {
           "width": 2
          },
          "size": 8,
          "symbol": "line-ns"
         },
         "mode": "markers",
         "name": "StochasticCPA_Optimality Gap_point",
         "showlegend": false,
         "type": "scatter",
         "x": [
          0.12791667475779034
         ],
         "xaxis": "x4",
         "y": [
          0.5
         ],
         "yaxis": "y4"
        },
        {
         "hovertemplate": "<b>ValueScaledCPA</b><br>Optimality Gap<br>Point: 0.142<br>CI: [0.089, 0.198]<extra></extra>",
         "line": {
          "color": "#EF553B",
          "width": 10
         },
         "mode": "lines",
         "name": "ValueScaledCPA_Optimality Gap",
         "opacity": 0.8,
         "showlegend": false,
         "type": "scatter",
         "x": [
          0.08906443324543412,
          0.19800168129984103
         ],
         "xaxis": "x4",
         "y": [
          0,
          0
         ],
         "yaxis": "y4"
        },
        {
         "hoverinfo": "skip",
         "marker": {
          "color": "black",
          "line": {
           "width": 2
          },
          "size": 8,
          "symbol": "line-ns"
         },
         "mode": "markers",
         "name": "ValueScaledCPA_Optimality Gap_point",
         "showlegend": false,
         "type": "scatter",
         "x": [
          0.1417208722302431
         ],
         "xaxis": "x4",
         "y": [
          0
         ],
         "yaxis": "y4"
        }
       ],
       "layout": {
        "annotations": [
         {
          "font": {
           "color": "black",
           "size": 12
          },
          "showarrow": false,
          "text": "Mean",
          "x": 0.11639999999999999,
          "xanchor": "center",
          "xref": "paper",
          "y": 0.99,
          "yanchor": "bottom",
          "yref": "paper"
         },
         {
          "font": {
           "color": "black",
           "size": 12
          },
          "showarrow": false,
          "text": "Median",
          "x": 0.35919999999999996,
          "xanchor": "center",
          "xref": "paper",
          "y": 0.99,
          "yanchor": "bottom",
          "yref": "paper"
         },
         {
          "font": {
           "color": "black",
           "size": 12
          },
          "showarrow": false,
          "text": "IQM",
          "x": 0.6117,
          "xanchor": "center",
          "xref": "paper",
          "y": 0.99,
          "yanchor": "bottom",
          "yref": "paper"
         },
         {
          "font": {
           "color": "black",
           "size": 12
          },
          "showarrow": false,
          "text": "Optimality Gap",
          "x": 0.8739,
          "xanchor": "center",
          "xref": "paper",
          "y": 0.99,
          "yanchor": "bottom",
          "yref": "paper"
         },
         {
          "font": {
           "size": 13
          },
          "showarrow": false,
          "text": "Evaluation Score",
          "x": 0.5,
          "xanchor": "center",
          "xref": "paper",
          "y": -0.15,
          "yanchor": "top",
          "yref": "paper"
         }
        ],
        "font": {
         "size": 12
        },
        "height": 200,
        "margin": {
         "b": 40,
         "l": 3,
         "r": 3,
         "t": 20
        },
        "paper_bgcolor": "white",
        "plot_bgcolor": "white",
        "showlegend": false,
        "template": {
         "data": {
          "bar": [
           {
            "error_x": {
             "color": "#2a3f5f"
            },
            "error_y": {
             "color": "#2a3f5f"
            },
            "marker": {
             "line": {
              "color": "#E5ECF6",
              "width": 0.5
             },
             "pattern": {
              "fillmode": "overlay",
              "size": 10,
              "solidity": 0.2
             }
            },
            "type": "bar"
           }
          ],
          "barpolar": [
           {
            "marker": {
             "line": {
              "color": "#E5ECF6",
              "width": 0.5
             },
             "pattern": {
              "fillmode": "overlay",
              "size": 10,
              "solidity": 0.2
             }
            },
            "type": "barpolar"
           }
          ],
          "carpet": [
           {
            "aaxis": {
             "endlinecolor": "#2a3f5f",
             "gridcolor": "white",
             "linecolor": "white",
             "minorgridcolor": "white",
             "startlinecolor": "#2a3f5f"
            },
            "baxis": {
             "endlinecolor": "#2a3f5f",
             "gridcolor": "white",
             "linecolor": "white",
             "minorgridcolor": "white",
             "startlinecolor": "#2a3f5f"
            },
            "type": "carpet"
           }
          ],
          "choropleth": [
           {
            "colorbar": {
             "outlinewidth": 0,
             "ticks": ""
            },
            "type": "choropleth"
           }
          ],
          "contour": [
           {
            "colorbar": {
             "outlinewidth": 0,
             "ticks": ""
            },
            "colorscale": [
             [
              0,
              "#0d0887"
             ],
             [
              0.1111111111111111,
              "#46039f"
             ],
             [
              0.2222222222222222,
              "#7201a8"
             ],
             [
              0.3333333333333333,
              "#9c179e"
             ],
             [
              0.4444444444444444,
              "#bd3786"
             ],
             [
              0.5555555555555556,
              "#d8576b"
             ],
             [
              0.6666666666666666,
              "#ed7953"
             ],
             [
              0.7777777777777778,
              "#fb9f3a"
             ],
             [
              0.8888888888888888,
              "#fdca26"
             ],
             [
              1,
              "#f0f921"
             ]
            ],
            "type": "contour"
           }
          ],
          "contourcarpet": [
           {
            "colorbar": {
             "outlinewidth": 0,
             "ticks": ""
            },
            "type": "contourcarpet"
           }
          ],
          "heatmap": [
           {
            "colorbar": {
             "outlinewidth": 0,
             "ticks": ""
            },
            "colorscale": [
             [
              0,
              "#0d0887"
             ],
             [
              0.1111111111111111,
              "#46039f"
             ],
             [
              0.2222222222222222,
              "#7201a8"
             ],
             [
              0.3333333333333333,
              "#9c179e"
             ],
             [
              0.4444444444444444,
              "#bd3786"
             ],
             [
              0.5555555555555556,
              "#d8576b"
             ],
             [
              0.6666666666666666,
              "#ed7953"
             ],
             [
              0.7777777777777778,
              "#fb9f3a"
             ],
             [
              0.8888888888888888,
              "#fdca26"
             ],
             [
              1,
              "#f0f921"
             ]
            ],
            "type": "heatmap"
           }
          ],
          "histogram": [
           {
            "marker": {
             "pattern": {
              "fillmode": "overlay",
              "size": 10,
              "solidity": 0.2
             }
            },
            "type": "histogram"
           }
          ],
          "histogram2d": [
           {
            "colorbar": {
             "outlinewidth": 0,
             "ticks": ""
            },
            "colorscale": [
             [
              0,
              "#0d0887"
             ],
             [
              0.1111111111111111,
              "#46039f"
             ],
             [
              0.2222222222222222,
              "#7201a8"
             ],
             [
              0.3333333333333333,
              "#9c179e"
             ],
             [
              0.4444444444444444,
              "#bd3786"
             ],
             [
              0.5555555555555556,
              "#d8576b"
             ],
             [
              0.6666666666666666,
              "#ed7953"
             ],
             [
              0.7777777777777778,
              "#fb9f3a"
             ],
             [
              0.8888888888888888,
              "#fdca26"
             ],
             [
              1,
              "#f0f921"
             ]
            ],
            "type": "histogram2d"
           }
          ],
          "histogram2dcontour": [
           {
            "colorbar": {
             "outlinewidth": 0,
             "ticks": ""
            },
            "colorscale": [
             [
              0,
              "#0d0887"
             ],
             [
              0.1111111111111111,
              "#46039f"
             ],
             [
              0.2222222222222222,
              "#7201a8"
             ],
             [
              0.3333333333333333,
              "#9c179e"
             ],
             [
              0.4444444444444444,
              "#bd3786"
             ],
             [
              0.5555555555555556,
              "#d8576b"
             ],
             [
              0.6666666666666666,
              "#ed7953"
             ],
             [
              0.7777777777777778,
              "#fb9f3a"
             ],
             [
              0.8888888888888888,
              "#fdca26"
             ],
             [
              1,
              "#f0f921"
             ]
            ],
            "type": "histogram2dcontour"
           }
          ],
          "mesh3d": [
           {
            "colorbar": {
             "outlinewidth": 0,
             "ticks": ""
            },
            "type": "mesh3d"
           }
          ],
          "parcoords": [
           {
            "line": {
             "colorbar": {
              "outlinewidth": 0,
              "ticks": ""
             }
            },
            "type": "parcoords"
           }
          ],
          "pie": [
           {
            "automargin": true,
            "type": "pie"
           }
          ],
          "scatter": [
           {
            "fillpattern": {
             "fillmode": "overlay",
             "size": 10,
             "solidity": 0.2
            },
            "type": "scatter"
           }
          ],
          "scatter3d": [
           {
            "line": {
             "colorbar": {
              "outlinewidth": 0,
              "ticks": ""
             }
            },
            "marker": {
             "colorbar": {
              "outlinewidth": 0,
              "ticks": ""
             }
            },
            "type": "scatter3d"
           }
          ],
          "scattercarpet": [
           {
            "marker": {
             "colorbar": {
              "outlinewidth": 0,
              "ticks": ""
             }
            },
            "type": "scattercarpet"
           }
          ],
          "scattergeo": [
           {
            "marker": {
             "colorbar": {
              "outlinewidth": 0,
              "ticks": ""
             }
            },
            "type": "scattergeo"
           }
          ],
          "scattergl": [
           {
            "marker": {
             "colorbar": {
              "outlinewidth": 0,
              "ticks": ""
             }
            },
            "type": "scattergl"
           }
          ],
          "scattermap": [
           {
            "marker": {
             "colorbar": {
              "outlinewidth": 0,
              "ticks": ""
             }
            },
            "type": "scattermap"
           }
          ],
          "scattermapbox": [
           {
            "marker": {
             "colorbar": {
              "outlinewidth": 0,
              "ticks": ""
             }
            },
            "type": "scattermapbox"
           }
          ],
          "scatterpolar": [
           {
            "marker": {
             "colorbar": {
              "outlinewidth": 0,
              "ticks": ""
             }
            },
            "type": "scatterpolar"
           }
          ],
          "scatterpolargl": [
           {
            "marker": {
             "colorbar": {
              "outlinewidth": 0,
              "ticks": ""
             }
            },
            "type": "scatterpolargl"
           }
          ],
          "scatterternary": [
           {
            "marker": {
             "colorbar": {
              "outlinewidth": 0,
              "ticks": ""
             }
            },
            "type": "scatterternary"
           }
          ],
          "surface": [
           {
            "colorbar": {
             "outlinewidth": 0,
             "ticks": ""
            },
            "colorscale": [
             [
              0,
              "#0d0887"
             ],
             [
              0.1111111111111111,
              "#46039f"
             ],
             [
              0.2222222222222222,
              "#7201a8"
             ],
             [
              0.3333333333333333,
              "#9c179e"
             ],
             [
              0.4444444444444444,
              "#bd3786"
             ],
             [
              0.5555555555555556,
              "#d8576b"
             ],
             [
              0.6666666666666666,
              "#ed7953"
             ],
             [
              0.7777777777777778,
              "#fb9f3a"
             ],
             [
              0.8888888888888888,
              "#fdca26"
             ],
             [
              1,
              "#f0f921"
             ]
            ],
            "type": "surface"
           }
          ],
          "table": [
           {
            "cells": {
             "fill": {
              "color": "#EBF0F8"
             },
             "line": {
              "color": "white"
             }
            },
            "header": {
             "fill": {
              "color": "#C8D4E3"
             },
             "line": {
              "color": "white"
             }
            },
            "type": "table"
           }
          ]
         },
         "layout": {
          "annotationdefaults": {
           "arrowcolor": "#2a3f5f",
           "arrowhead": 0,
           "arrowwidth": 1
          },
          "autotypenumbers": "strict",
          "coloraxis": {
           "colorbar": {
            "outlinewidth": 0,
            "ticks": ""
           }
          },
          "colorscale": {
           "diverging": [
            [
             0,
             "#8e0152"
            ],
            [
             0.1,
             "#c51b7d"
            ],
            [
             0.2,
             "#de77ae"
            ],
            [
             0.3,
             "#f1b6da"
            ],
            [
             0.4,
             "#fde0ef"
            ],
            [
             0.5,
             "#f7f7f7"
            ],
            [
             0.6,
             "#e6f5d0"
            ],
            [
             0.7,
             "#b8e186"
            ],
            [
             0.8,
             "#7fbc41"
            ],
            [
             0.9,
             "#4d9221"
            ],
            [
             1,
             "#276419"
            ]
           ],
           "sequential": [
            [
             0,
             "#0d0887"
            ],
            [
             0.1111111111111111,
             "#46039f"
            ],
            [
             0.2222222222222222,
             "#7201a8"
            ],
            [
             0.3333333333333333,
             "#9c179e"
            ],
            [
             0.4444444444444444,
             "#bd3786"
            ],
            [
             0.5555555555555556,
             "#d8576b"
            ],
            [
             0.6666666666666666,
             "#ed7953"
            ],
            [
             0.7777777777777778,
             "#fb9f3a"
            ],
            [
             0.8888888888888888,
             "#fdca26"
            ],
            [
             1,
             "#f0f921"
            ]
           ],
           "sequentialminus": [
            [
             0,
             "#0d0887"
            ],
            [
             0.1111111111111111,
             "#46039f"
            ],
            [
             0.2222222222222222,
             "#7201a8"
            ],
            [
             0.3333333333333333,
             "#9c179e"
            ],
            [
             0.4444444444444444,
             "#bd3786"
            ],
            [
             0.5555555555555556,
             "#d8576b"
            ],
            [
             0.6666666666666666,
             "#ed7953"
            ],
            [
             0.7777777777777778,
             "#fb9f3a"
            ],
            [
             0.8888888888888888,
             "#fdca26"
            ],
            [
             1,
             "#f0f921"
            ]
           ]
          },
          "colorway": [
           "#636efa",
           "#EF553B",
           "#00cc96",
           "#ab63fa",
           "#FFA15A",
           "#19d3f3",
           "#FF6692",
           "#B6E880",
           "#FF97FF",
           "#FECB52"
          ],
          "font": {
           "color": "#2a3f5f"
          },
          "geo": {
           "bgcolor": "white",
           "lakecolor": "white",
           "landcolor": "#E5ECF6",
           "showlakes": true,
           "showland": true,
           "subunitcolor": "white"
          },
          "hoverlabel": {
           "align": "left"
          },
          "hovermode": "closest",
          "mapbox": {
           "style": "light"
          },
          "paper_bgcolor": "white",
          "plot_bgcolor": "#E5ECF6",
          "polar": {
           "angularaxis": {
            "gridcolor": "white",
            "linecolor": "white",
            "ticks": ""
           },
           "bgcolor": "#E5ECF6",
           "radialaxis": {
            "gridcolor": "white",
            "linecolor": "white",
            "ticks": ""
           }
          },
          "scene": {
           "xaxis": {
            "backgroundcolor": "#E5ECF6",
            "gridcolor": "white",
            "gridwidth": 2,
            "linecolor": "white",
            "showbackground": true,
            "ticks": "",
            "zerolinecolor": "white"
           },
           "yaxis": {
            "backgroundcolor": "#E5ECF6",
            "gridcolor": "white",
            "gridwidth": 2,
            "linecolor": "white",
            "showbackground": true,
            "ticks": "",
            "zerolinecolor": "white"
           },
           "zaxis": {
            "backgroundcolor": "#E5ECF6",
            "gridcolor": "white",
            "gridwidth": 2,
            "linecolor": "white",
            "showbackground": true,
            "ticks": "",
            "zerolinecolor": "white"
           }
          },
          "shapedefaults": {
           "line": {
            "color": "#2a3f5f"
           }
          },
          "ternary": {
           "aaxis": {
            "gridcolor": "white",
            "linecolor": "white",
            "ticks": ""
           },
           "baxis": {
            "gridcolor": "white",
            "linecolor": "white",
            "ticks": ""
           },
           "bgcolor": "#E5ECF6",
           "caxis": {
            "gridcolor": "white",
            "linecolor": "white",
            "ticks": ""
           }
          },
          "title": {
           "x": 0.05
          },
          "xaxis": {
           "automargin": true,
           "gridcolor": "white",
           "linecolor": "white",
           "ticks": "",
           "title": {
            "standoff": 15
           },
           "zerolinecolor": "white",
           "zerolinewidth": 2
          },
          "yaxis": {
           "automargin": true,
           "gridcolor": "white",
           "linecolor": "white",
           "ticks": "",
           "title": {
            "standoff": 15
           },
           "zerolinecolor": "white",
           "zerolinewidth": 2
          }
         }
        },
        "width": 1200,
        "xaxis": {
         "anchor": "y",
         "domain": [
          0,
          0.23279999999999998
         ],
         "gridcolor": "rgba(128,128,128,0.2)",
         "gridwidth": 0.5,
         "linecolor": "black",
         "linewidth": 1,
         "mirror": true,
         "nticks": 5,
         "range": [
          0.8088070671607289,
          1.2499660764340634
         ],
         "showgrid": true,
         "showline": true,
         "tickfont": {
          "size": 12
         },
         "zeroline": false
        },
        "xaxis2": {
         "anchor": "y2",
         "domain": [
          0.2428,
          0.47559999999999997
         ],
         "gridcolor": "rgba(128,128,128,0.2)",
         "gridwidth": 0.5,
         "linecolor": "black",
         "linewidth": 1,
         "mirror": true,
         "nticks": 5,
         "range": [
          0.7705624495038568,
          1.2400280519634244
         ],
         "showgrid": true,
         "showline": true,
         "tickfont": {
          "size": 12
         },
         "zeroline": false
        },
        "xaxis3": {
         "anchor": "y3",
         "domain": [
          0.4856,
          0.7378
         ],
         "gridcolor": "rgba(128,128,128,0.2)",
         "gridwidth": 0.5,
         "linecolor": "black",
         "linewidth": 1,
         "mirror": true,
         "nticks": 5,
         "range": [
          0.785406064416167,
          1.2385612487672064
         ],
         "showgrid": true,
         "showline": true,
         "tickfont": {
          "size": 12
         },
         "zeroline": false
        },
        "xaxis4": {
         "anchor": "y4",
         "domain": [
          0.7478,
          1
         ],
         "gridcolor": "rgba(128,128,128,0.2)",
         "gridwidth": 0.5,
         "linecolor": "black",
         "linewidth": 1,
         "mirror": true,
         "nticks": 5,
         "range": [
          0.0007361147941442655,
          0.21678887810990738
         ],
         "showgrid": true,
         "showline": true,
         "tickfont": {
          "size": 12
         },
         "zeroline": false
        },
        "yaxis": {
         "anchor": "x",
         "domain": [
          0,
          1
         ],
         "fixedrange": true,
         "range": [
          -0.15,
          5.65
         ],
         "showgrid": false,
         "showline": false,
         "tickfont": {
          "size": 12
         },
         "ticktext": [
          "ValueScaledCPA",
          "StochasticCPA",
          "PIDCPA",
          "PIDBudgetPacer",
          "IQL",
          "GAVE",
          "GAS",
          "FixedCPA",
          "DT",
          "CQL",
          "BudgetPacer",
          "BC"
         ],
         "tickvals": [
          0,
          0.5,
          1,
          1.5,
          2,
          2.5,
          3,
          3.5,
          4,
          4.5,
          5,
          5.5
         ],
         "zeroline": false
        },
        "yaxis2": {
         "anchor": "x2",
         "domain": [
          0,
          1
         ],
         "fixedrange": true,
         "range": [
          -0.15,
          5.65
         ],
         "showgrid": false,
         "showline": false,
         "tickfont": {
          "size": 12
         },
         "ticktext": [
          "",
          "",
          "",
          "",
          "",
          "",
          "",
          "",
          "",
          "",
          "",
          ""
         ],
         "tickvals": [
          0,
          0.5,
          1,
          1.5,
          2,
          2.5,
          3,
          3.5,
          4,
          4.5,
          5,
          5.5
         ],
         "zeroline": false
        },
        "yaxis3": {
         "anchor": "x3",
         "domain": [
          0,
          1
         ],
         "fixedrange": true,
         "range": [
          -0.15,
          5.65
         ],
         "showgrid": false,
         "showline": false,
         "tickfont": {
          "size": 12
         },
         "ticktext": [
          "",
          "",
          "",
          "",
          "",
          "",
          "",
          "",
          "",
          "",
          "",
          ""
         ],
         "tickvals": [
          0,
          0.5,
          1,
          1.5,
          2,
          2.5,
          3,
          3.5,
          4,
          4.5,
          5,
          5.5
         ],
         "zeroline": false
        },
        "yaxis4": {
         "anchor": "x4",
         "domain": [
          0,
          1
         ],
         "fixedrange": true,
         "range": [
          -0.15,
          5.65
         ],
         "showgrid": false,
         "showline": false,
         "tickfont": {
          "size": 12
         },
         "ticktext": [
          "",
          "",
          "",
          "",
          "",
          "",
          "",
          "",
          "",
          "",
          "",
          ""
         ],
         "tickvals": [
          0,
          0.5,
          1,
          1.5,
          2,
          2.5,
          3,
          3.5,
          4,
          4.5,
          5,
          5.5
         ],
         "zeroline": false
        }
       }
      }
     },
     "metadata": {},
     "output_type": "display_data"
    }
   ],
   "source": [
    "aggregate_scores, aggregate_score_cis = compute_agent_interval_estimates(\n",
    "    df_best_per_rotation,\n",
    "    score_col=\"mean_score\",\n",
    "    run_setting_cols=[\"period\", \"rotate_index\"],\n",
    "    normalize_scores=True,\n",
    "    reps=20000,\n",
    "    task_bootstrap=True,\n",
    ")\n",
    "fig = plot_interval_estimates(\n",
    "    point_estimates=aggregate_scores,\n",
    "    interval_estimates=aggregate_score_cis,\n",
    "    metric_names=['Mean', 'Median', 'IQM', 'Optimality Gap'],\n",
    "    xlabel='Evaluation Score',\n",
    "    fig_width=1200,\n",
    ")\n",
    "fig.show()"
   ]
  },
  {
   "cell_type": "code",
   "execution_count": null,
   "id": "ee74ca1b",
   "metadata": {},
   "outputs": [],
   "source": []
  }
 ],
 "metadata": {
  "kernelspec": {
   "display_name": "Python 3",
   "language": "python",
   "name": "python3"
  },
  "language_info": {
   "codemirror_mode": {
    "name": "ipython",
    "version": 3
   },
   "file_extension": ".py",
   "mimetype": "text/x-python",
   "name": "python",
   "nbconvert_exporter": "python",
   "pygments_lexer": "ipython3",
   "version": "3.11.12"
  }
 },
 "nbformat": 4,
 "nbformat_minor": 5
}
